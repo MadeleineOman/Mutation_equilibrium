{
 "cells": [
  {
   "cell_type": "markdown",
   "id": "0c60a57f-5169-4480-b600-98c962058bb3",
   "metadata": {},
   "source": [
    "# **wrangling the codng and noncoding models to make a correlation between the mutability**"
   ]
  },
  {
   "cell_type": "code",
   "execution_count": 19,
   "id": "b96f88e3-32d2-4001-9d3d-ab3996a22941",
   "metadata": {},
   "outputs": [],
   "source": [
    "import json \n",
    "import pandas as pd "
   ]
  },
  {
   "cell_type": "code",
   "execution_count": 25,
   "id": "dde3bbee-8c44-47b0-b0c8-5d695669a3e4",
   "metadata": {},
   "outputs": [],
   "source": [
    "coding_model = json.load(open(\"Model_2021_09_17_codingNoIntrons_robfile.txt\"))\n",
    "noncoding_model = json.load(open(\"Model_2021_09_17_nonCoding.txt\"))"
   ]
  },
  {
   "cell_type": "code",
   "execution_count": 26,
   "id": "77606ad9-c77c-4965-a79b-de8c1235e129",
   "metadata": {},
   "outputs": [],
   "source": [
    "coding_list = []\n",
    "noncoding_list = []\n",
    "triplets = []\n",
    "for kay,val in coding_model.items(): \n",
    "    triplets.append(kay)\n",
    "    coding_list.append(val[0])\n",
    "    noncoding_list.append(noncoding_model[kay][0])"
   ]
  },
  {
   "cell_type": "code",
   "execution_count": 27,
   "id": "6117004e-9b16-48d5-b60f-72964d097070",
   "metadata": {},
   "outputs": [],
   "source": [
    "df = pd.DataFrame(list(zip(triplets,coding_list,noncoding_list)), columns =['triplets', 'coding_mut',\"noncoding_mut\"])"
   ]
  },
  {
   "cell_type": "code",
   "execution_count": 28,
   "id": "cc2cf1ec-9197-480d-b748-39880dddf2a6",
   "metadata": {},
   "outputs": [],
   "source": [
    "df.to_csv(\"wrangled_codingNoncodingMutability_forRgression_robfile.csv\")"
   ]
  },
  {
   "cell_type": "code",
   "execution_count": null,
   "id": "568eb8fb-9eaf-4a9d-a571-2b1a0f0d6132",
   "metadata": {},
   "outputs": [],
   "source": [
    "coding_trips "
   ]
  }
 ],
 "metadata": {
  "kernelspec": {
   "display_name": "Python [conda env:.conda-mutEq]",
   "language": "python",
   "name": "conda-env-.conda-mutEq-py"
  },
  "language_info": {
   "codemirror_mode": {
    "name": "ipython",
    "version": 3
   },
   "file_extension": ".py",
   "mimetype": "text/x-python",
   "name": "python",
   "nbconvert_exporter": "python",
   "pygments_lexer": "ipython3",
   "version": "3.9.6"
  }
 },
 "nbformat": 4,
 "nbformat_minor": 5
}
