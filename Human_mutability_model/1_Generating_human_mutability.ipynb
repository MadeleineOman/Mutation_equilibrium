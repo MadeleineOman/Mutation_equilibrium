{
 "cells": [
  {
   "cell_type": "markdown",
   "metadata": {},
   "source": [
    "# ** Ok let's generate human mutability dictionaries** "
   ]
  },
  {
   "cell_type": "code",
   "execution_count": 1,
   "metadata": {},
   "outputs": [],
   "source": [
    "import pandas as pd\n",
    "from Bio import AlignIO\n",
    "import numpy"
   ]
  },
  {
   "cell_type": "markdown",
   "metadata": {},
   "source": [
    "**generating the fastas dictionary ** "
   ]
  },
  {
   "cell_type": "code",
   "execution_count": 2,
   "metadata": {},
   "outputs": [],
   "source": [
    "list_chroms = ['chr' + str(i) for i in range(1, 23)]\n",
    "fastas_dict = {}   # creating dictionary with fasta alignment, length of seq, \n",
    "for chrom in list_chroms:\n",
    "    filename_tmp = \"/scratch/research/projects/hsapiens/mutability/data/MichealsonData/Ready_data/Sequence/{c}.fa\".format(c=chrom)\n",
    "    fastas_dict[chrom] = []\n",
    "    fastas_dict[chrom].append(AlignIO.read(open(filename_tmp),\"fasta\"))\n",
    "    alignment_tmp = fastas_dict[chrom][0]\n",
    "    fastas_dict[chrom].append(len(str(alignment_tmp[0].seq)))"
   ]
  },
  {
   "cell_type": "markdown",
   "metadata": {},
   "source": [
    "** reading in the 100k mutations file ** "
   ]
  },
  {
   "cell_type": "code",
   "execution_count": 144,
   "metadata": {},
   "outputs": [],
   "source": [
    "mutations_lines = open('/scratch/research/projects/hsapiens/mutability/analysis/hg18_hg38_merged.txt').readlines()"
   ]
  },
  {
   "cell_type": "markdown",
   "metadata": {},
   "source": [
    "**making and filling the mutation dictionary **"
   ]
  },
  {
   "cell_type": "code",
   "execution_count": 145,
   "metadata": {},
   "outputs": [
    {
     "name": "stdout",
     "output_type": "stream",
     "text": [
      "skipped\n"
     ]
    }
   ],
   "source": [
    "#making the blank dictionary --> rememebr to always reblank if the loop ran halfway then quit, as we a rappending in the for loop below below, not resetting. \n",
    "mutations_dictionary_ref_alt = {}\n",
    "nucleotides = [\"A\", \"T\", \"C\", \"G\"]\n",
    "\n",
    "list_fuck_ups = []\n",
    "\n",
    "for base1 in nucleotides:\n",
    "    for base2 in nucleotides:\n",
    "        for base3 in nucleotides:\n",
    "            triplet = base1+base2+base3\n",
    "            mutations_dictionary_ref_alt[triplet] = [0,{}]\n",
    "            for base_changing in nucleotides: \n",
    "                if base_changing != base2: \n",
    "                    mutations_dictionary_ref_alt[triplet][1][base1+base_changing+base3] = 0\n",
    "\n",
    "\n",
    "                    \n",
    "#filling the dictionary \n",
    "iterator = 0 \n",
    "\n",
    "for line in mutations_lines: \n",
    "    row_split_tmp = line.split()\n",
    "    if iterator >= 1: # skip the first lines \n",
    "        chrom_tmp = row_split_tmp[1]\n",
    "        if chrom_tmp in list_chroms:\n",
    "            site_number_tmp = row_split_tmp[2]\n",
    "            site = [chrom_tmp, int(site_number_tmp)]\n",
    "            #print(site)\n",
    "\n",
    "            alignment = fastas_dict[site[0]][0]\n",
    "\n",
    "            Ref_bp = row_split_tmp[8]\n",
    "            New_bp = row_split_tmp[9]\n",
    "            Ref_triplet= (str(alignment[0,site[1]-2:site[1]+1].seq)).upper()\n",
    "            New_triplet = (str(alignment[0,site[1]-2])+str(New_bp)+str(alignment[0,site[1]])).upper()\n",
    "            #print(Ref_bp); print(Ref_triplet); print(New_bp); print(New_triplet)\n",
    "\n",
    "            if Ref_triplet == New_triplet: \n",
    "                #print(Ref_triplet +\" \"+New_triplet+\" \"+str(row_split_tmp[0])+\"    \"++\"   \"+(str(alignment[0,site[1]-2])+\" \"+Ref_bp+\"   \"+str(alignment[0,site[1]])+\" \"+New_bp)\n",
    "                list_fuck_ups.append(str(row_split_tmp[0]))\n",
    "            elif  len(Ref_triplet) == 3 and  len(New_triplet)==3 : \n",
    "                #ok now time to add to dictionary \n",
    "                mutations_dictionary_ref_alt[Ref_triplet][0]+=1\n",
    "                mutations_dictionary_ref_alt[Ref_triplet][1][New_triplet] += 1 \n",
    "\n",
    "        \n",
    "        #break\n",
    "    else: \n",
    "        print(\"skipped\")\n",
    "        #print(\"skipped\"+line)\n",
    "    iterator += 1\n",
    "    \n",
    "    \n",
    " "
   ]
  },
  {
   "cell_type": "code",
   "execution_count": 146,
   "metadata": {},
   "outputs": [
    {
     "name": "stdout",
     "output_type": "stream",
     "text": [
      "5215\n"
     ]
    }
   ],
   "source": [
    "print(len(list_fuck_ups))"
   ]
  },
  {
   "cell_type": "code",
   "execution_count": 147,
   "metadata": {},
   "outputs": [
    {
     "name": "stdout",
     "output_type": "stream",
     "text": [
      "{'AAT': [2304, {'ATT': 261, 'AGT': 1782, 'ACT': 261}], 'CTT': [1070, {'CAT': 148, 'CCT': 661, 'CGT': 261}], 'GAG': [759, {'GCG': 162, 'GTG': 186, 'GGG': 411}], 'TAC': [797, {'TGC': 571, 'TTC': 118, 'TCC': 108}], 'GCT': [1356, {'GGT': 256, 'GAT': 235, 'GTT': 865}], 'TCA': [1500, {'TGA': 363, 'TTA': 943, 'TAA': 194}], 'GGC': [1403, {'GTC': 333, 'GCC': 247, 'GAC': 823}], 'CTG': [1344, {'CGG': 277, 'CAG': 208, 'CCG': 859}], 'CAA': [1023, {'CGA': 602, 'CTA': 120, 'CCA': 301}], 'GTC': [584, {'GCC': 342, 'GAC': 137, 'GGC': 105}], 'TGC': [1314, {'TAC': 812, 'TTC': 321, 'TCC': 181}], 'TAA': [1240, {'TGA': 703, 'TTA': 270, 'TCA': 267}], 'TAG': [716, {'TTG': 102, 'TCG': 114, 'TGG': 500}], 'ACG': [2881, {'AAG': 131, 'AGG': 89, 'ATG': 2661}], 'GAA': [807, {'GTA': 160, 'GCA': 198, 'GGA': 449}], 'AAG': [1027, {'ACG': 230, 'AGG': 625, 'ATG': 172}], 'CAT': [2373, {'CCT': 329, 'CTT': 352, 'CGT': 1692}], 'CAC': [928, {'CCC': 194, 'CGC': 558, 'CTC': 176}], 'GAC': [505, {'GTC': 129, 'GCC': 85, 'GGC': 291}], 'TCC': [1543, {'TAC': 236, 'TTC': 939, 'TGC': 368}], 'TTG': [981, {'TCG': 554, 'TGG': 270, 'TAG': 157}], 'GGT': [1738, {'GCT': 261, 'GAT': 936, 'GTT': 541}], 'AGC': [1405, {'AAC': 890, 'ACC': 299, 'ATC': 216}], 'TGA': [1527, {'TTA': 190, 'TCA': 389, 'TAA': 948}], 'ACA': [2467, {'AAA': 417, 'ATA': 1618, 'AGA': 432}], 'AAC': [887, {'ACC': 159, 'ATC': 134, 'AGC': 594}], 'AGT': [1795, {'AAT': 1061, 'ATT': 277, 'ACT': 457}], 'ACT': [1751, {'AAT': 273, 'ATT': 1054, 'AGT': 424}], 'CCC': [1486, {'CGC': 351, 'CAC': 178, 'CTC': 957}], 'GGA': [1560, {'GTA': 292, 'GCA': 336, 'GAA': 932}], 'TCG': [1735, {'TTG': 1593, 'TGG': 87, 'TAG': 55}], 'TGT': [2521, {'TTT': 413, 'TCT': 456, 'TAT': 1652}], 'GTG': [963, {'GCG': 603, 'GAG': 169, 'GGG': 191}], 'GTT': [930, {'GCT': 622, 'GAT': 144, 'GGT': 164}], 'TTA': [1273, {'TGA': 249, 'TCA': 724, 'TAA': 300}], 'AGG': [1697, {'AAG': 1145, 'ACG': 370, 'ATG': 182}], 'CGA': [1797, {'CCA': 97, 'CTA': 40, 'CAA': 1660}], 'ATC': [1026, {'AAC': 319, 'AGC': 115, 'ACC': 592}], 'GGG': [1345, {'GCG': 315, 'GTG': 161, 'GAG': 869}], 'CTA': [815, {'CCA': 566, 'CGA': 139, 'CAA': 110}], 'CGT': [2877, {'CAT': 2651, 'CCT': 107, 'CTT': 119}], 'GAT': [985, {'GCT': 119, 'GGT': 587, 'GTT': 279}], 'GTA': [811, {'GCA': 599, 'GAA': 116, 'GGA': 96}], 'TTC': [845, {'TAC': 169, 'TCC': 479, 'TGC': 197}], 'CTC': [769, {'CCC': 434, 'CGC': 169, 'CAC': 166}], 'GCC': [1419, {'GTC': 866, 'GAC': 340, 'GGC': 213}], 'CCA': [1450, {'CGA': 296, 'CTA': 1016, 'CAA': 138}], 'TCT': [1968, {'TTT': 939, 'TGT': 681, 'TAT': 348}], 'AAA': [1688, {'ACA': 510, 'AGA': 885, 'ATA': 293}], 'CGG': [2476, {'CTG': 21, 'CAG': 2348, 'CCG': 107}], 'CAG': [1330, {'CGG': 860, 'CTG': 188, 'CCG': 282}], 'ATA': [2382, {'ACA': 1913, 'AAA': 294, 'AGA': 175}], 'TTT': [1753, {'TCT': 918, 'TGT': 509, 'TAT': 326}], 'TGG': [1466, {'TTG': 159, 'TCG': 310, 'TAG': 997}], 'TAT': [2465, {'TTT': 294, 'TGT': 1975, 'TCT': 196}], 'CGC': [2164, {'CCC': 66, 'CAC': 1966, 'CTC': 132}], 'GCG': [2192, {'GGG': 54, 'GTG': 1978, 'GAG': 160}], 'ATT': [2231, {'AAT': 317, 'AGT': 253, 'ACT': 1661}], 'ACC': [1728, {'AAC': 550, 'AGC': 268, 'ATC': 910}], 'CCG': [2424, {'CGG': 122, 'CTG': 2274, 'CAG': 28}], 'GCA': [1440, {'GTA': 845, 'GAA': 353, 'GGA': 242}], 'CCT': [1788, {'CAT': 181, 'CTT': 1177, 'CGT': 430}], 'AGA': [2010, {'ACA': 704, 'AAA': 955, 'ATA': 351}], 'ATG': [2255, {'AAG': 341, 'ACG': 1625, 'AGG': 289}]}\n"
     ]
    }
   ],
   "source": [
    "print(mutations_dictionary_ref_alt)"
   ]
  },
  {
   "cell_type": "markdown",
   "metadata": {},
   "source": [
    "** ok now so the same for the non- mutant sites** \n",
    "- dont need too many, ~200k"
   ]
  },
  {
   "cell_type": "code",
   "execution_count": 148,
   "metadata": {},
   "outputs": [],
   "source": [
    "non_mut_lines = open(\"/scratch/research/projects/hsapiens/mutability/data/MichealsonData/Ready_data/out4_testing_mutation_conditional.txt\").readlines()"
   ]
  },
  {
   "cell_type": "code",
   "execution_count": 149,
   "metadata": {},
   "outputs": [
    {
     "name": "stdout",
     "output_type": "stream",
     "text": [
      "skip\n"
     ]
    }
   ],
   "source": [
    "non_mut_dict = {}\n",
    "for base1 in nucleotides:\n",
    "    for base2 in nucleotides:\n",
    "        for base3 in nucleotides:\n",
    "            triplet = base1+base2+base3\n",
    "            non_mut_dict[triplet] = 0\n",
    "\n",
    "list_nonMut_fuckups = []\n",
    "\n",
    "iterator = 0\n",
    "for line in non_mut_lines: \n",
    "    if iterator >= 1:                        #skip the first line \n",
    "        line_split = line.split()\n",
    "        triplet = line_split[2].upper()\n",
    "        if triplet in non_mut_dict.keys(): \n",
    "            non_mut_dict[triplet] += 1\n",
    "        else: \n",
    "            list_nonMut_fuckups.append(triplet)\n",
    "    else: \n",
    "        print(\"skip\")\n",
    "    iterator += 1\n",
    "    \n",
    "    "
   ]
  },
  {
   "cell_type": "code",
   "execution_count": 150,
   "metadata": {},
   "outputs": [
    {
     "data": {
      "text/plain": [
       "6458"
      ]
     },
     "execution_count": 150,
     "metadata": {},
     "output_type": "execute_result"
    }
   ],
   "source": [
    "len(list_nonMut_fuckups)"
   ]
  },
  {
   "cell_type": "code",
   "execution_count": 151,
   "metadata": {},
   "outputs": [
    {
     "name": "stdout",
     "output_type": "stream",
     "text": [
      "{'AAT': 4769, 'CTT': 2906, 'GAG': 2408, 'TAC': 1905, 'GCT': 2675, 'TCA': 3457, 'GGC': 2586, 'CTG': 3317, 'CAA': 2792, 'GTC': 1420, 'TGC': 2706, 'TAA': 3105, 'TAG': 2003, 'ACG': 2966, 'GAA': 2657, 'AAG': 2977, 'CAT': 4074, 'CAC': 2363, 'GAC': 1433, 'TCC': 3021, 'TTG': 2748, 'GGT': 2778, 'AGC': 2758, 'TGA': 3370, 'ACA': 4616, 'AAC': 2327, 'AGT': 3370, 'ACT': 3370, 'CCC': 2655, 'GGA': 2950, 'TCG': 1887, 'TGT': 4426, 'GTG': 2370, 'GTT': 2240, 'TTA': 3405, 'AGG': 3367, 'CGA': 1953, 'ATC': 2225, 'GGG': 2536, 'CTA': 1942, 'CGT': 3042, 'GAT': 2277, 'GTA': 1976, 'TTC': 2791, 'CTC': 2363, 'GCC': 2519, 'CCA': 3159, 'TCT': 4287, 'AAA': 5291, 'CGG': 2617, 'CAG': 3247, 'ATA': 4417, 'TTT': 5468, 'TGG': 3194, 'TAT': 4486, 'CGC': 2266, 'GCG': 2354, 'ATT': 4532, 'ACC': 2684, 'CCG': 2576, 'GCA': 2822, 'CCT': 3435, 'AGA': 4145, 'ATG': 3986}\n"
     ]
    }
   ],
   "source": [
    "print(non_mut_dict)"
   ]
  },
  {
   "cell_type": "code",
   "execution_count": 152,
   "metadata": {},
   "outputs": [],
   "source": [
    "number_sites = 0\n",
    "for key in non_mut_dict.keys(): \n",
    "    number_sites += non_mut_dict[key]\n",
    "    "
   ]
  },
  {
   "cell_type": "code",
   "execution_count": 153,
   "metadata": {},
   "outputs": [
    {
     "name": "stdout",
     "output_type": "stream",
     "text": [
      "192767\n"
     ]
    }
   ],
   "source": [
    "print(number_sites)"
   ]
  }
 ],
 "metadata": {
  "kernelspec": {
   "display_name": "Python 3 (ipykernel)",
   "language": "python",
   "name": "python3"
  },
  "language_info": {
   "codemirror_mode": {
    "name": "ipython",
    "version": 3
   },
   "file_extension": ".py",
   "mimetype": "text/x-python",
   "name": "python",
   "nbconvert_exporter": "python",
   "pygments_lexer": "ipython3",
   "version": "3.9.6"
  }
 },
 "nbformat": 4,
 "nbformat_minor": 4
}
