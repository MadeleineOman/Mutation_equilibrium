{
 "cells": [
  {
   "cell_type": "markdown",
   "metadata": {},
   "source": [
    "# ** analyzing the mutability model fo rthe paper ** "
   ]
  },
  {
   "cell_type": "code",
   "execution_count": 2,
   "metadata": {},
   "outputs": [],
   "source": [
    "import json \n",
    "import matplotlib.pyplot as plt\n",
    "import numpy as np"
   ]
  },
  {
   "cell_type": "markdown",
   "metadata": {},
   "source": [
    "** variation in non-cpg coud ** "
   ]
  },
  {
   "cell_type": "code",
   "execution_count": 4,
   "metadata": {},
   "outputs": [],
   "source": [
    "model = json.load(open(\"Model_2020_12_02_genomeWide.txt\"))"
   ]
  },
  {
   "cell_type": "code",
   "execution_count": 6,
   "metadata": {},
   "outputs": [],
   "source": [
    "muts = []\n",
    "for mut in model.values(): \n",
    "    muts.append(mut[0])"
   ]
  },
  {
   "cell_type": "code",
   "execution_count": 20,
   "metadata": {},
   "outputs": [
    {
     "data": {
      "text/plain": [
       "(0.00036217158636308954, 1.3198444035923253e-05, 27.44047596651078)"
      ]
     },
     "execution_count": 20,
     "metadata": {},
     "output_type": "execute_result"
    }
   ],
   "source": [
    "max(muts), min(muts), max(muts)/min(muts)"
   ]
  },
  {
   "cell_type": "code",
   "execution_count": 9,
   "metadata": {},
   "outputs": [],
   "source": [
    "plt.style.use('seaborn-ticks')"
   ]
  },
  {
   "cell_type": "code",
   "execution_count": 11,
   "metadata": {},
   "outputs": [
    {
     "data": {
      "image/png": "[encoded data removed]",
      "text/plain": [
       "<matplotlib.figure.Figure at 0x7fa094252320>"
      ]
     },
     "metadata": {},
     "output_type": "display_data"
    }
   ],
   "source": [
    "plt.hist(muts)\n",
    "plt.show()"
   ]
  },
  {
   "cell_type": "code",
   "execution_count": 13,
   "metadata": {},
   "outputs": [],
   "source": [
    "muts_nonCpG = []\n",
    "for triplet, mut in model.items(): \n",
    "    if \"CG\" not in triplet: \n",
    "        muts_nonCpG.append(mut[0])"
   ]
  },
  {
   "cell_type": "code",
   "execution_count": 16,
   "metadata": {},
   "outputs": [
    {
     "data": {
      "text/plain": [
       "(4.9361488694784825e-05, 1.3198444035923253e-05)"
      ]
     },
     "execution_count": 16,
     "metadata": {},
     "output_type": "execute_result"
    }
   ],
   "source": [
    "np.max(muts_nonCpG), min(muts_nonCpG)"
   ]
  },
  {
   "cell_type": "code",
   "execution_count": 19,
   "metadata": {},
   "outputs": [
    {
     "data": {
      "text/plain": [
       "('variation in non-cpg triplet is', 3.616304465886157e-05, 3.7399475696100044)"
      ]
     },
     "execution_count": 19,
     "metadata": {},
     "output_type": "execute_result"
    }
   ],
   "source": [
    "\"variation in non-cpg triplet is\", max(muts_nonCpG)-min(muts_nonCpG), max(muts_nonCpG)/min(muts_nonCpG)"
   ]
  },
  {
   "cell_type": "code",
   "execution_count": 7,
   "metadata": {},
   "outputs": [],
   "source": [
    "max_triplet_nonCpG = [str(),0]\n",
    "for triplet, value in model.items(): \n",
    "    if value[0]> max_triplet_nonCpG[1] and \"CG\" not in triplet: \n",
    "        max_triplet_nonCpG = [triplet, value[0]]"
   ]
  },
  {
   "cell_type": "code",
   "execution_count": 8,
   "metadata": {},
   "outputs": [
    {
     "data": {
      "text/plain": [
       "['GGT', 4.9361488694784825e-05]"
      ]
     },
     "execution_count": 8,
     "metadata": {},
     "output_type": "execute_result"
    }
   ],
   "source": [
    "max_triplet_nonCpG"
   ]
  },
  {
   "cell_type": "code",
   "execution_count": 21,
   "metadata": {},
   "outputs": [],
   "source": [
    "muts_CpG = []\n",
    "for triplet, mut in model.items(): \n",
    "    if \"CG\"  in triplet: \n",
    "        muts_CpG.append(mut[0])"
   ]
  },
  {
   "cell_type": "code",
   "execution_count": 25,
   "metadata": {},
   "outputs": [
    {
     "data": {
      "text/plain": [
       "('variation in cloud averages',\n",
       " 0.00029805855041957995,\n",
       " 2.7390179270981405e-05,\n",
       " 10.881949602110083)"
      ]
     },
     "execution_count": 25,
     "metadata": {},
     "output_type": "execute_result"
    }
   ],
   "source": [
    "\"variation in cloud averages\", np.mean(muts_CpG), np.mean(muts_nonCpG), np.mean(muts_CpG)/ np.mean(muts_nonCpG)"
   ]
  },
  {
   "cell_type": "markdown",
   "metadata": {},
   "source": [
    "# **average cpg vs non-cpg mutability**"
   ]
  },
  {
   "cell_type": "code",
   "execution_count": 3,
   "metadata": {},
   "outputs": [],
   "source": [
    "model = json.load(open(\"Model_2020_12_02_genomeWide.txt\"))"
   ]
  },
  {
   "cell_type": "code",
   "execution_count": 7,
   "metadata": {},
   "outputs": [],
   "source": [
    "cpg_mut_avg = []\n",
    "noncpg_mut_avg = []\n",
    "\n",
    "for key,value in model.items(): \n",
    "    if \"CG\" in key: \n",
    "        cpg_mut_avg.append(value[0])\n",
    "    else: \n",
    "        noncpg_mut_avg.append(value[0])\n"
   ]
  },
  {
   "cell_type": "code",
   "execution_count": 12,
   "metadata": {},
   "outputs": [
    {
     "name": "stdout",
     "output_type": "stream",
     "text": [
      "cpg average \t 0.00029805855041958\n",
      "noncpg average \t 2.7390179270981408e-05\n",
      "average cpg vs noncpg \t 10.881949602110083\n"
     ]
    }
   ],
   "source": [
    "print(\"cpg average \\t\", np.mean(cpg_mut_avg))\n",
    "print(\"noncpg average \\t\",np.mean(noncpg_mut_avg))\n",
    "print(\"average cpg vs noncpg \\t\",np.mean(cpg_mut_avg)/np.mean(noncpg_mut_avg))"
   ]
  }
 ],
 "metadata": {
  "kernelspec": {
   "display_name": "Python 3",
   "language": "python",
   "name": "python3"
  },
  "language_info": {
   "codemirror_mode": {
    "name": "ipython",
    "version": 3
   },
   "file_extension": ".py",
   "mimetype": "text/x-python",
   "name": "python",
   "nbconvert_exporter": "python",
   "pygments_lexer": "ipython3",
   "version": "3.9.2"
  }
 },
 "nbformat": 4,
 "nbformat_minor": 4
}
