{
 "cells": [
  {
   "cell_type": "markdown",
   "metadata": {},
   "source": [
    "# **yeast getting muts** "
   ]
  },
  {
   "cell_type": "code",
   "execution_count": 3,
   "metadata": {},
   "outputs": [],
   "source": [
    "#!unzip -q yeast_mut_data.zip"
   ]
  },
  {
   "cell_type": "code",
   "execution_count": 20,
   "metadata": {},
   "outputs": [],
   "source": [
    "# copy the mutation dataset from home computer and paste into new text document as the file contains other irrelvant data and cant be opened\n",
    "#note thersARE MULTIPLE TABLES IN THE supplemetntal fiel so I just copied the one \"list SNMs..\" and \"fixed differecnes\" as described in the file title"
   ]
  },
  {
   "cell_type": "code",
   "execution_count": 5,
   "metadata": {},
   "outputs": [],
   "source": [
    "import pandas as pd\n",
    "from Bio import SeqIO\n",
    "import json "
   ]
  },
  {
   "cell_type": "markdown",
   "metadata": {},
   "source": [
    "** read in mutation data into df ** "
   ]
  },
  {
   "cell_type": "code",
   "execution_count": 18,
   "metadata": {},
   "outputs": [],
   "source": [
    "muts_df = pd.read_csv(\"Supplementary Materials 2 SNMs List.txt\", sep = \"\\t\")"
   ]
  },
  {
   "cell_type": "code",
   "execution_count": 24,
   "metadata": {},
   "outputs": [],
   "source": [
    "MA_ances_muts = pd.read_csv(\"Supplementary Materials 1 Fixed Differences Between MA Ancestor and S288C.txt\", sep = \"\\t\")\n",
    "MA_ances_muts.columns = ['Chromosome', 'Position', 'S288C', 'MA_Ancestor', 'Notes'] #remove spaces from colnames "
   ]
  },
  {
   "cell_type": "code",
   "execution_count": 19,
   "metadata": {},
   "outputs": [
    {
     "data": {
      "text/html": [
       "<div>\n",
       "<table border=\"1\" class=\"dataframe\">\n",
       "  <thead>\n",
       "    <tr style=\"text-align: right;\">\n",
       "      <th></th>\n",
       "      <th>Line ID</th>\n",
       "      <th>Chromosome</th>\n",
       "      <th>Position</th>\n",
       "      <th>Ref</th>\n",
       "      <th>Alt</th>\n",
       "      <th>Notes</th>\n",
       "    </tr>\n",
       "  </thead>\n",
       "  <tbody>\n",
       "    <tr>\n",
       "      <th>0</th>\n",
       "      <td>2</td>\n",
       "      <td>3</td>\n",
       "      <td>4433</td>\n",
       "      <td>C</td>\n",
       "      <td>T</td>\n",
       "      <td>NaN</td>\n",
       "    </tr>\n",
       "    <tr>\n",
       "      <th>1</th>\n",
       "      <td>2</td>\n",
       "      <td>10</td>\n",
       "      <td>741951</td>\n",
       "      <td>A</td>\n",
       "      <td>G</td>\n",
       "      <td>NaN</td>\n",
       "    </tr>\n",
       "    <tr>\n",
       "      <th>2</th>\n",
       "      <td>2</td>\n",
       "      <td>10</td>\n",
       "      <td>741984</td>\n",
       "      <td>A</td>\n",
       "      <td>G</td>\n",
       "      <td>NaN</td>\n",
       "    </tr>\n",
       "    <tr>\n",
       "      <th>3</th>\n",
       "      <td>2</td>\n",
       "      <td>12</td>\n",
       "      <td>385774</td>\n",
       "      <td>A</td>\n",
       "      <td>G</td>\n",
       "      <td>NaN</td>\n",
       "    </tr>\n",
       "    <tr>\n",
       "      <th>4</th>\n",
       "      <td>2</td>\n",
       "      <td>12</td>\n",
       "      <td>600874</td>\n",
       "      <td>T</td>\n",
       "      <td>G</td>\n",
       "      <td>NaN</td>\n",
       "    </tr>\n",
       "  </tbody>\n",
       "</table>\n",
       "</div>"
      ],
      "text/plain": [
       "   Line ID  Chromosome  Position Ref Alt Notes\n",
       "0        2           3      4433   C   T   NaN\n",
       "1        2          10    741951   A   G   NaN\n",
       "2        2          10    741984   A   G   NaN\n",
       "3        2          12    385774   A   G   NaN\n",
       "4        2          12    600874   T   G   NaN"
      ]
     },
     "execution_count": 19,
     "metadata": {},
     "output_type": "execute_result"
    }
   ],
   "source": [
    "muts_df.head()"
   ]
  },
  {
   "cell_type": "markdown",
   "metadata": {},
   "source": [
    "** check to make sure none of the SNMs are sites that the MA line already differ from the S2888C reference genome ** "
   ]
  },
  {
   "cell_type": "code",
   "execution_count": 45,
   "metadata": {},
   "outputs": [],
   "source": [
    "for index, row in muts_df.iterrows(): \n",
    "    if row.Position in list(MA_ances_muts.Position): # do any of the SNM pos match the fixed differences b/t MA ancestor and S2888C ref genome? \n",
    "        if row.Chromosome == int(MA_ances_muts[MA_ances_muts.Position == row.Position].Chromosome): # if yes, then is it on the same chrom? \n",
    "            print(\"Shite, we have overlapping muts\")       "
   ]
  },
  {
   "cell_type": "markdown",
   "metadata": {},
   "source": [
    "** genome data into dictionary ** "
   ]
  },
  {
   "cell_type": "code",
   "execution_count": 50,
   "metadata": {},
   "outputs": [],
   "source": [
    "!ls genome/ > yeast_genome_filenames.txt"
   ]
  },
  {
   "cell_type": "code",
   "execution_count": 60,
   "metadata": {},
   "outputs": [],
   "source": [
    "#putting all the different files into a single dictionary \n",
    "yeast_genome_dict = {}\n",
    "roman_transl_dict = {\"I\":1, \"II\":2, \"III\":3, \"IV\":4, \"V\":5, \"VI\":6, \"VII\":7, \"VIII\":8, \"IX\":9, \"X\":10, \"XI\":11, \"XII\":12, \"XIII\":13, \"XIV\":14, \"XV\":15, \"XVI\":16}\n",
    "for filename in open(\"yeast_genome_filenames.txt\").readlines(): \n",
    "    filename = \"genome/\"+filename.rstrip(\"\\n\")\n",
    "    roman_chrom_n = filename.split(\"_\")[1].replace(\"chr\",\"\") #extract the roman number from the file name \n",
    "    chrom = roman_transl_dict[roman_chrom_n] #cxonver to arabic numerals (clearly superior than roman) \n",
    "    for record in SeqIO.parse(open(filename), \"fasta\"): \n",
    "        yeast_genome_dict[str(chrom)] = record.seq"
   ]
  },
  {
   "cell_type": "markdown",
   "metadata": {},
   "source": [
    "** creating the empty dictionary to fill ** "
   ]
  },
  {
   "cell_type": "code",
   "execution_count": 76,
   "metadata": {},
   "outputs": [],
   "source": [
    "bases = [\"A\", \"T\", \"C\", \"G\"]\n",
    "yeast_mut_dict = {}\n",
    "for b1 in bases: \n",
    "    for b2 in bases: \n",
    "        for b3 in bases: \n",
    "            triplet = b1+b2+b3\n",
    "            yeast_mut_dict[triplet] = [0,{}]\n",
    "            \n",
    "            into_trips = []\n",
    "            for b2_into in bases: \n",
    "                if b2_into != b2: \n",
    "                    into_triplet = b1+b2_into+b3\n",
    "                    yeast_mut_dict[triplet][1][into_triplet] = 0 # now the dict has [XAX] = [0,{XTX:0, XGX:0, XCX:0}] format "
   ]
  },
  {
   "cell_type": "markdown",
   "metadata": {},
   "source": [
    "** using genome files to get mutation triplets ** "
   ]
  },
  {
   "cell_type": "code",
   "execution_count": 77,
   "metadata": {},
   "outputs": [],
   "source": [
    "for index, row in muts_df.iterrows(): \n",
    "    mut_pos = row.Position -1 #convert 1 to 0 base for python \n",
    "    #built in safety that the ref alligns to the reference \n",
    "    if yeast_genome_dict[str(row.Chromosome)][mut_pos]!= row.Ref: \n",
    "        print(\"shite\")\n",
    "    \n",
    "    anc_triplet = str(yeast_genome_dict[str(row.Chromosome)][mut_pos-1:mut_pos+2])\n",
    "    mut_triplet = anc_triplet[0]+row.Alt+anc_triplet[2]\n",
    "    \n",
    "    yeast_mut_dict[anc_triplet][0]+= 1\n",
    "    yeast_mut_dict[anc_triplet][1][mut_triplet]+= 1\n"
   ]
  },
  {
   "cell_type": "code",
   "execution_count": 80,
   "metadata": {},
   "outputs": [],
   "source": [
    "with open('muts_2021_01_26_yeast.txt', 'w') as outfile:\n",
    "    json.dump(yeast_mut_dict, outfile)"
   ]
  },
  {
   "cell_type": "code",
   "execution_count": null,
   "metadata": {},
   "outputs": [],
   "source": []
  },
  {
   "cell_type": "code",
   "execution_count": null,
   "metadata": {},
   "outputs": [],
   "source": []
  },
  {
   "cell_type": "code",
   "execution_count": null,
   "metadata": {},
   "outputs": [],
   "source": []
  },
  {
   "cell_type": "code",
   "execution_count": null,
   "metadata": {},
   "outputs": [],
   "source": []
  },
  {
   "cell_type": "code",
   "execution_count": null,
   "metadata": {},
   "outputs": [],
   "source": []
  },
  {
   "cell_type": "code",
   "execution_count": null,
   "metadata": {},
   "outputs": [],
   "source": []
  },
  {
   "cell_type": "code",
   "execution_count": null,
   "metadata": {},
   "outputs": [],
   "source": []
  },
  {
   "cell_type": "code",
   "execution_count": null,
   "metadata": {},
   "outputs": [],
   "source": []
  },
  {
   "cell_type": "code",
   "execution_count": null,
   "metadata": {},
   "outputs": [],
   "source": []
  },
  {
   "cell_type": "code",
   "execution_count": null,
   "metadata": {},
   "outputs": [],
   "source": []
  },
  {
   "cell_type": "code",
   "execution_count": null,
   "metadata": {},
   "outputs": [],
   "source": []
  },
  {
   "cell_type": "code",
   "execution_count": null,
   "metadata": {},
   "outputs": [],
   "source": []
  }
 ],
 "metadata": {
  "kernelspec": {
   "display_name": "Python 3",
   "language": "python",
   "name": "python3"
  },
  "language_info": {
   "codemirror_mode": {
    "name": "ipython",
    "version": 3
   },
   "file_extension": ".py",
   "mimetype": "text/x-python",
   "name": "python",
   "nbconvert_exporter": "python",
   "pygments_lexer": "ipython3",
   "version": "3.5.1"
  }
 },
 "nbformat": 4,
 "nbformat_minor": 2
}
