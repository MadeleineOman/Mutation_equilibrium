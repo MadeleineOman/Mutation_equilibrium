{
 "cells": [
  {
   "cell_type": "markdown",
   "metadata": {},
   "source": [
    "# ** yeast backgeround triplet freq dictionary ** "
   ]
  },
  {
   "cell_type": "code",
   "execution_count": 6,
   "metadata": {},
   "outputs": [],
   "source": [
    "from Bio import SeqIO\n",
    "import json"
   ]
  },
  {
   "cell_type": "markdown",
   "metadata": {},
   "source": [
    "** creating the empty dictionary to fill ** "
   ]
  },
  {
   "cell_type": "code",
   "execution_count": 2,
   "metadata": {},
   "outputs": [],
   "source": [
    "bases = [\"A\", \"T\", \"C\", \"G\"]\n",
    "yeast_trips_dict = {}\n",
    "for b1 in bases: \n",
    "    for b2 in bases: \n",
    "        for b3 in bases: \n",
    "            triplet = b1+b2+b3\n",
    "            yeast_trips_dict[triplet] = 0 # now the dict has [XXX] = [0] format "
   ]
  },
  {
   "cell_type": "markdown",
   "metadata": {},
   "source": [
    "** read in genome into dict ** "
   ]
  },
  {
   "cell_type": "code",
   "execution_count": 3,
   "metadata": {},
   "outputs": [],
   "source": [
    "#putting all the different files into a single dictionary \n",
    "yeast_genome_dict = {}\n",
    "roman_transl_dict = {\"I\":1, \"II\":2, \"III\":3, \"IV\":4, \"V\":5, \"VI\":6, \"VII\":7, \"VIII\":8, \"IX\":9, \"X\":10, \"XI\":11, \"XII\":12, \"XIII\":13, \"XIV\":14, \"XV\":15, \"XVI\":16}\n",
    "for filename in open(\"yeast_genome_filenames.txt\").readlines(): \n",
    "    filename = \"genome/\"+filename.rstrip(\"\\n\")\n",
    "    roman_chrom_n = filename.split(\"_\")[1].replace(\"chr\",\"\") #extract the roman number from the file name \n",
    "    chrom = roman_transl_dict[roman_chrom_n] #cxonver to arabic numerals (clearly superior than roman) \n",
    "    for record in SeqIO.parse(open(filename), \"fasta\"): \n",
    "        yeast_genome_dict[str(chrom)] = record.seq"
   ]
  },
  {
   "cell_type": "markdown",
   "metadata": {},
   "source": [
    "** lol heres the long ass fasta loop **"
   ]
  },
  {
   "cell_type": "code",
   "execution_count": 23,
   "metadata": {},
   "outputs": [
    {
     "name": "stdout",
     "output_type": "stream",
     "text": [
      "chrom 7 finished!\n",
      "chrom 10 finished!\n",
      "chrom 11 finished!\n",
      "chrom 2 finished!\n",
      "chrom 3 finished!\n",
      "chrom 1 finished!\n",
      "chrom 5 finished!\n",
      "chrom 8 finished!\n",
      "chrom 6 finished!\n",
      "chrom 15 finished!\n",
      "chrom 9 finished!\n",
      "chrom 12 finished!\n",
      "chrom 4 finished!\n",
      "chrom 14 finished!\n",
      "chrom 13 finished!\n",
      "chrom 16 finished!\n"
     ]
    }
   ],
   "source": [
    "for key, value in yeast_genome_dict.items(): \n",
    "    for i in range(1, len(value)): \n",
    "        triplet = str(value[i-1:i+2])\n",
    "        if triplet in yeast_trips_dict.keys(): \n",
    "            yeast_trips_dict[triplet] += 1\n",
    "    print(\"chrom\",  key, \"finished!\")"
   ]
  },
  {
   "cell_type": "code",
   "execution_count": 28,
   "metadata": {},
   "outputs": [],
   "source": [
    "with open('trips_2021_01_26_yeast.txt', 'w') as outfile:\n",
    "    json.dump(yeast_trips_dict, outfile)"
   ]
  }
 ],
 "metadata": {
  "kernelspec": {
   "display_name": "Python 3",
   "language": "python",
   "name": "python3"
  },
  "language_info": {
   "codemirror_mode": {
    "name": "ipython",
    "version": 3
   },
   "file_extension": ".py",
   "mimetype": "text/x-python",
   "name": "python",
   "nbconvert_exporter": "python",
   "pygments_lexer": "ipython3",
   "version": "3.5.1"
  }
 },
 "nbformat": 4,
 "nbformat_minor": 2
}
