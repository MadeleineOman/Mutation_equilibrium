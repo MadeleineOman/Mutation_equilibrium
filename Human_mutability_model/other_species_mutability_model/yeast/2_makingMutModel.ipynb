{
 "cells": [
  {
   "cell_type": "markdown",
   "metadata": {},
   "source": [
    "# ** Calculate the mutability model from the trip and mut data dictionaries ** "
   ]
  },
  {
   "cell_type": "markdown",
   "metadata": {},
   "source": [
    "** import the data ** "
   ]
  },
  {
   "cell_type": "code",
   "execution_count": 1,
   "metadata": {},
   "outputs": [],
   "source": [
    "import matplotlib.pyplot as plt\n",
    "import json \n",
    "import numpy as np "
   ]
  },
  {
   "cell_type": "code",
   "execution_count": 2,
   "metadata": {},
   "outputs": [],
   "source": [
    "muts_dict = json.loads(open(\"muts_2021_01_26_yeast.txt\").readlines()[0])\n",
    "trips_dict = json.loads(open(\"trips_2021_01_26_yeast.txt\").readlines()[0])"
   ]
  },
  {
   "cell_type": "markdown",
   "metadata": {},
   "source": [
    "** calculate model ** "
   ]
  },
  {
   "cell_type": "code",
   "execution_count": 3,
   "metadata": {},
   "outputs": [],
   "source": [
    "model = {}\n",
    "for triplet, value in muts_dict.items(): \n",
    "    n_muts = value[0]\n",
    "\n",
    "    #standardize the into triplets \n",
    "    into_trip_dict = {}\n",
    "    for into_trip,into_count in value[1].items(): \n",
    "        if n_muts != 0:                                    #if no muts for that triplet,then keep it the same \n",
    "            into_trip_dict[into_trip] = into_count/n_muts\n",
    "            \n",
    "    #now divide the total num muts by the number tiplwts and create model value \n",
    "    model[triplet] = [n_muts/trips_dict[triplet], into_trip_dict]"
   ]
  },
  {
   "cell_type": "code",
   "execution_count": 4,
   "metadata": {},
   "outputs": [],
   "source": [
    "with open('model_2021_01_26_yeast.txt', 'w') as outfile:\n",
    "    json.dump(model, outfile)"
   ]
  },
  {
   "cell_type": "markdown",
   "metadata": {},
   "source": [
    "** analyzing mouse mut model ** "
   ]
  },
  {
   "cell_type": "code",
   "execution_count": 5,
   "metadata": {},
   "outputs": [],
   "source": [
    "muts_list = []\n",
    "for key, value in model.items(): \n",
    "    muts_list.append(value[0])"
   ]
  },
  {
   "cell_type": "code",
   "execution_count": 6,
   "metadata": {},
   "outputs": [
    {
     "data": {
      "text/plain": [
       "(0.00011916021836110015, 9.556004156861808e-06, 12.469670000670275)"
      ]
     },
     "execution_count": 6,
     "metadata": {},
     "output_type": "execute_result"
    }
   ],
   "source": [
    "max(muts_list), min(muts_list), max(muts_list)/ min(muts_list)"
   ]
  },
  {
   "cell_type": "code",
   "execution_count": 7,
   "metadata": {},
   "outputs": [],
   "source": [
    "plt.style.use('seaborn-ticks')"
   ]
  },
  {
   "cell_type": "code",
   "execution_count": 8,
   "metadata": {},
   "outputs": [
    {
     "data": {
      "image/png": "[encoded data removed]",
      "text/plain": [
       "<Figure size 432x288 with 1 Axes>"
      ]
     },
     "metadata": {},
     "output_type": "display_data"
    }
   ],
   "source": [
    "plt.hist(muts_list)\n",
    "plt.title(\"Yeast mutability\")\n",
    "plt.show()"
   ]
  },
  {
   "cell_type": "code",
   "execution_count": 9,
   "metadata": {},
   "outputs": [],
   "source": [
    "cpg_muts = []\n",
    "non_cgp_muts = []\n",
    "for key,value in model.items(): \n",
    "    if \"CG\" in key: \n",
    "        cpg_muts.append(value[0])\n",
    "    else: \n",
    "        non_cgp_muts.append(value[0])"
   ]
  },
  {
   "cell_type": "code",
   "execution_count": 10,
   "metadata": {},
   "outputs": [
    {
     "data": {
      "text/plain": [
       "(8.366789316759836e-05, 3.7566646020130835e-05)"
      ]
     },
     "execution_count": 10,
     "metadata": {},
     "output_type": "execute_result"
    }
   ],
   "source": [
    "np.mean(cpg_muts), np.mean(non_cgp_muts)"
   ]
  }
 ],
 "metadata": {
  "kernelspec": {
   "display_name": "Python 3",
   "language": "python",
   "name": "python3"
  },
  "language_info": {
   "codemirror_mode": {
    "name": "ipython",
    "version": 3
   },
   "file_extension": ".py",
   "mimetype": "text/x-python",
   "name": "python",
   "nbconvert_exporter": "python",
   "pygments_lexer": "ipython3",
   "version": "3.9.2"
  }
 },
 "nbformat": 4,
 "nbformat_minor": 4
}
