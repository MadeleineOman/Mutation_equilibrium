{
 "cells": [
  {
   "cell_type": "markdown",
   "metadata": {},
   "source": [
    "# ** Mouse mutability model --> only 760 muts tho...** "
   ]
  },
  {
   "cell_type": "markdown",
   "metadata": {},
   "source": [
    "** getting mouse genome ** "
   ]
  },
  {
   "cell_type": "code",
   "execution_count": 1,
   "metadata": {},
   "outputs": [
    {
     "name": "stdout",
     "output_type": "stream",
     "text": [
      "--2021-01-19 16:59:41--  ftp://ftp.ensembl.org/pub/release-102/fasta/mus_musculus/dna/README\n",
      "           => “README”\n",
      "Resolving ftp.ensembl.org... 193.62.197.76\n",
      "Connecting to ftp.ensembl.org|193.62.197.76|:21... connected.\n",
      "Logging in as anonymous ... Logged in!\n",
      "==> SYST ... done.    ==> PWD ... done.\n",
      "==> TYPE I ... done.  ==> CWD (1) /pub/release-102/fasta/mus_musculus/dna ... done.\n",
      "==> SIZE README ... 5081\n",
      "==> PASV ... done.    ==> RETR README ... done.\n",
      "Length: 5081 (5.0K) (unauthoritative)\n",
      "\n",
      "100%[======================================>] 5,081       --.-K/s   in 0.005s  \n",
      "\n",
      "2021-01-19 16:59:42 (982 KB/s) - “README” saved [5081]\n",
      "\n"
     ]
    }
   ],
   "source": [
    "!wget ftp://ftp.ensembl.org/pub/release-102/fasta/mus_musculus/dna/README"
   ]
  },
  {
   "cell_type": "code",
   "execution_count": 17,
   "metadata": {},
   "outputs": [
    {
     "name": "stdout",
     "output_type": "stream",
     "text": [
      "--2021-01-24 10:51:36--  ftp://ftp.ensembl.org/pub/release-102/fasta/mus_musculus/dna/Mus_musculus.GRCm38.dna.primary_assembly.fa.gz\n",
      "           => “Mus_musculus.GRCm38.dna.primary_assembly.fa.gz”\n",
      "Resolving ftp.ensembl.org... 193.62.193.139\n",
      "Connecting to ftp.ensembl.org|193.62.193.139|:21... connected.\n",
      "Logging in as anonymous ... Logged in!\n",
      "==> SYST ... done.    ==> PWD ... done.\n",
      "==> TYPE I ... done.  ==> CWD (1) /pub/release-102/fasta/mus_musculus/dna ... done.\n",
      "==> SIZE Mus_musculus.GRCm38.dna.primary_assembly.fa.gz ... 805984352\n",
      "==> PASV ... done.    ==> RETR Mus_musculus.GRCm38.dna.primary_assembly.fa.gz ... done.\n",
      "Length: 805984352 (769M) (unauthoritative)\n",
      "\n",
      "100%[======================================>] 805,984,352 31.0M/s   in 38s     \n",
      "\n",
      "2021-01-24 10:52:15 (20.4 MB/s) - “Mus_musculus.GRCm38.dna.primary_assembly.fa.gz” saved [805984352]\n",
      "\n"
     ]
    }
   ],
   "source": [
    "#yes we are using GRCm38 )what the paper said) \n",
    "!wget ftp://ftp.ensembl.org/pub/release-102/fasta/mus_musculus/dna/Mus_musculus.GRCm38.dna.primary_assembly.fa.gz"
   ]
  },
  {
   "cell_type": "markdown",
   "metadata": {},
   "source": [
    "** import the mutation data ** "
   ]
  },
  {
   "cell_type": "code",
   "execution_count": 27,
   "metadata": {},
   "outputs": [],
   "source": [
    "import pandas as pd \n",
    "import json "
   ]
  },
  {
   "cell_type": "code",
   "execution_count": 28,
   "metadata": {},
   "outputs": [],
   "source": [
    "mouse_muts = pd.read_csv(\"41467_2019_12023_MOESM5_ESM.csv\")"
   ]
  },
  {
   "cell_type": "code",
   "execution_count": 41,
   "metadata": {},
   "outputs": [],
   "source": [
    "mouse_muts.columns = ['chr', 'pos', 'type', 'ref', 'alt', 'called in',\n",
    "       'n_individuals shared', 'shared', 'Mosaic', 'VEE/Zygotic', 'Lineage',\n",
    "       'RP_Phasing', 'Unnamed: 12', 'Unnamed: 13', 'Unnamed: 14',\n",
    "       'Unnamed: 15', 'Unnamed: 16', 'Unnamed: 17', 'Unnamed: 18',\n",
    "       'Unnamed: 19', 'Unnamed: 20', 'Unnamed: 21', 'Unnamed: 22',\n",
    "       'Unnamed: 23', 'Unnamed: 24', 'Unnamed: 25', 'Unnamed: 26',\n",
    "       'Unnamed: 27'] # comes with "
   ]
  },
  {
   "cell_type": "markdown",
   "metadata": {},
   "source": [
    "** creating the empty dictionary to fill ** "
   ]
  },
  {
   "cell_type": "code",
   "execution_count": 84,
   "metadata": {},
   "outputs": [],
   "source": [
    "bases = [\"A\", \"T\", \"C\", \"G\"]\n",
    "mouse_mut_dict = {}\n",
    "for b1 in bases: \n",
    "    for b2 in bases: \n",
    "        for b3 in bases: \n",
    "            triplet = b1+b2+b3\n",
    "            mouse_mut_dict[triplet] = [0,{}]\n",
    "            \n",
    "            into_trips = []\n",
    "            for b2_into in bases: \n",
    "                if b2_into != b2: \n",
    "                    into_triplet = b1+b2_into+b3\n",
    "                    mouse_mut_dict[triplet][1][into_triplet] = 0 # now the dict has [XAX] = [0,{XTX:0, XGX:0, XCX:0}] format "
   ]
  },
  {
   "cell_type": "markdown",
   "metadata": {},
   "source": [
    "** working on the loop **"
   ]
  },
  {
   "cell_type": "code",
   "execution_count": 85,
   "metadata": {},
   "outputs": [],
   "source": [
    "with gzip.open(\"mus_musculus_genome/Mus_musculus.GRCm38.dna.primary_assembly.fa.gz\", \"rt\") as handle: #adding to the mouse_mut_df by chrom\n",
    "    for record in SeqIO.parse(handle, \"fasta\"):\n",
    "        if record.id not in [str(i) for i in range(1, 20)]:         #skipping MT/X other dna types (only want autosomes) (we only have autosomes in mut dataset)\n",
    "            break \n",
    "        chrom_mut_df = mouse_muts[mouse_muts.chr == int(record.id)] #filter the muts df by the chrtom we are currently on \n",
    "        chrom_dna = str(record.seq)\n",
    "        for index, row in chrom_mut_df.iterrows():\n",
    "            mut_pos = row.pos-1                                     # note that the mut df is 1-based so need -1 to convert to python 0-base \n",
    "            ref_triplet = str(chrom_dna[mut_pos-1:mut_pos+2])       #the reference triplet fgrom the fasta file \n",
    "            alt_triplet = ref_triplet[0]+row.alt+ref_triplet[2]     #alt triplet using the alt base in data set \n",
    "            if row.ref != chrom_dna[mut_pos]:                       #emergency flag: making sure our dataset matches the fasta\n",
    "                print(\"shite\")\n",
    "                break\n",
    "            mouse_mut_dict[ref_triplet][0]+=1                       #adding the \"chosen\" base in the mouse_mut_dict \n",
    "            mouse_mut_dict[ref_triplet][1][alt_triplet]+=1          #adding the \"into\" base in the sub dict \n"
   ]
  },
  {
   "cell_type": "code",
   "execution_count": 87,
   "metadata": {},
   "outputs": [],
   "source": [
    "tmp_mut_sum = 0\n",
    "for value in mouse_mut_dict.values(): \n",
    "    tmp_mut_sum+= value[0]"
   ]
  },
  {
   "cell_type": "code",
   "execution_count": 88,
   "metadata": {},
   "outputs": [
    {
     "data": {
      "text/plain": [
       "760"
      ]
     },
     "execution_count": 88,
     "metadata": {},
     "output_type": "execute_result"
    }
   ],
   "source": [
    "tmp_mut_sum"
   ]
  },
  {
   "cell_type": "code",
   "execution_count": 91,
   "metadata": {},
   "outputs": [],
   "source": [
    "with open('muts_2021_01_24_Mus_musculus.txt', 'w') as outfile:\n",
    "    json.dump(mouse_mut_dict, outfile)"
   ]
  },
  {
   "cell_type": "code",
   "execution_count": null,
   "metadata": {},
   "outputs": [],
   "source": []
  },
  {
   "cell_type": "code",
   "execution_count": null,
   "metadata": {},
   "outputs": [],
   "source": []
  },
  {
   "cell_type": "code",
   "execution_count": null,
   "metadata": {},
   "outputs": [],
   "source": []
  },
  {
   "cell_type": "code",
   "execution_count": null,
   "metadata": {},
   "outputs": [],
   "source": []
  },
  {
   "cell_type": "code",
   "execution_count": null,
   "metadata": {},
   "outputs": [],
   "source": []
  },
  {
   "cell_type": "code",
   "execution_count": null,
   "metadata": {},
   "outputs": [],
   "source": []
  },
  {
   "cell_type": "code",
   "execution_count": null,
   "metadata": {},
   "outputs": [],
   "source": []
  }
 ],
 "metadata": {
  "kernelspec": {
   "display_name": "Python 3",
   "language": "python",
   "name": "python3"
  },
  "language_info": {
   "codemirror_mode": {
    "name": "ipython",
    "version": 3
   },
   "file_extension": ".py",
   "mimetype": "text/x-python",
   "name": "python",
   "nbconvert_exporter": "python",
   "pygments_lexer": "ipython3",
   "version": "3.5.1"
  }
 },
 "nbformat": 4,
 "nbformat_minor": 2
}
