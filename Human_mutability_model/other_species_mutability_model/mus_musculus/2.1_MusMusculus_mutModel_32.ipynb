{
 "cells": [
  {
   "cell_type": "markdown",
   "id": "b51db990",
   "metadata": {},
   "source": [
    "# **calculate the 32-base model from the triplet and mutation databases**"
   ]
  },
  {
   "cell_type": "markdown",
   "id": "e9d2db2b",
   "metadata": {},
   "source": [
    "**import the data** "
   ]
  },
  {
   "cell_type": "code",
   "execution_count": 1,
   "id": "db0e7b1d",
   "metadata": {},
   "outputs": [],
   "source": [
    "import matplotlib.pyplot as plt\n",
    "import json "
   ]
  },
  {
   "cell_type": "code",
   "execution_count": 2,
   "id": "b7af4422",
   "metadata": {},
   "outputs": [],
   "source": [
    "muts_dict = json.loads(open(\"muts_2021_01_24_Mus_musculus.txt\").readlines()[0])\n",
    "trips_dict = json.loads(open(\"trips_2021_01_24_Mus_musculus.txt\").readlines()[0])"
   ]
  },
  {
   "cell_type": "markdown",
   "id": "563317a8",
   "metadata": {},
   "source": [
    "**make the rev comp function**"
   ]
  },
  {
   "cell_type": "code",
   "execution_count": 6,
   "id": "721bf235",
   "metadata": {},
   "outputs": [],
   "source": [
    "def reverse_complement(dna):\n",
    "    complement = {'A': 'T', 'C': 'G', 'G': 'C', 'T': 'A'}\n",
    "    revComp = str()\n",
    "    for base in dna: \n",
    "        revComp = complement[base]+revComp\n",
    "    return revComp"
   ]
  },
  {
   "cell_type": "markdown",
   "id": "c8d95ba1",
   "metadata": {},
   "source": [
    "**make the 32-base small versions of the mut and trip dictionaries**"
   ]
  },
  {
   "cell_type": "code",
   "execution_count": 23,
   "id": "e4e1757c",
   "metadata": {},
   "outputs": [
    {
     "name": "stdout",
     "output_type": "stream",
     "text": [
      "AAA 32\n",
      "78494032 78662661\n",
      "mut for this trip is 2.0361843577352444e-07\n",
      "AAT 19\n",
      "50813259 50868936\n",
      "mut for this trip is 1.8685670583724123e-07\n",
      "AAC 17\n",
      "36010514 36107141\n",
      "mut for this trip is 2.3572591205301947e-07\n",
      "AAG 14\n",
      "50825510 50878626\n",
      "mut for this trip is 1.3765418546990067e-07\n",
      "ACA 41\n",
      "54957716 55109107\n",
      "mut for this trip is 3.7250098515153833e-07\n",
      "ACT 29\n",
      "38915143 38945689\n",
      "mut for this trip is 3.724594157945808e-07\n",
      "ACC 14\n",
      "28459309 28490807\n",
      "mut for this trip is 2.4582917443047876e-07\n",
      "ACG 48\n",
      "5593492 5600838\n",
      "mut for this trip is 4.2878850275094624e-06\n",
      "TAA 25\n",
      "44587130 44633893\n",
      "mut for this trip is 2.802030189678502e-07\n",
      "TAT 30\n",
      "46719407 46666656\n",
      "mut for this trip is 3.212470794491037e-07\n",
      "TAC 13\n",
      "27406096 27435169\n",
      "mut for this trip is 2.370477778001656e-07\n",
      "TAG 5\n",
      "32400170 32377085\n",
      "mut for this trip is 7.718758690839864e-08\n",
      "TCA 29\n",
      "45862160 45879367\n",
      "mut for this trip is 3.161054862319874e-07\n",
      "TCT 31\n",
      "58923839 58834724\n",
      "mut for this trip is 2.632504949979731e-07\n",
      "TCC 22\n",
      "39417474 39392165\n",
      "mut for this trip is 2.791536705300731e-07\n",
      "TCG 22\n",
      "4919266 4914979\n",
      "mut for this trip is 2.237080731667759e-06\n",
      "CAA 11\n",
      "44496653 44611618\n",
      "mut for this trip is 1.2344533090536568e-07\n",
      "CAT 22\n",
      "44883557 44878635\n",
      "mut for this trip is 2.4509205390171397e-07\n",
      "CAC 16\n",
      "39152043 39215807\n",
      "mut for this trip is 2.0416535607395124e-07\n",
      "CAG 19\n",
      "50443449 50487679\n",
      "mut for this trip is 1.8824717781812563e-07\n",
      "CCA 33\n",
      "44329126 44350036\n",
      "mut for this trip is 3.721280090580919e-07\n",
      "CCT 24\n",
      "43886928 43871351\n",
      "mut for this trip is 2.7347847147275984e-07\n",
      "CCC 31\n",
      "32618184 32607364\n",
      "mut for this trip is 4.7527389114461714e-07\n",
      "CCG 45\n",
      "5454112 5451198\n",
      "mut for this trip is 4.126430151916818e-06\n",
      "GAA 15\n",
      "48565497 48609186\n",
      "mut for this trip is 1.5436119302802356e-07\n",
      "GAT 10\n",
      "32215678 32217673\n",
      "mut for this trip is 1.5519912971777612e-07\n",
      "GAC 15\n",
      "25357001 25388317\n",
      "mut for this trip is 2.955937728087545e-07\n",
      "GAG 10\n",
      "42883119 42907616\n",
      "mut for this trip is 1.1656270342013038e-07\n",
      "GCA 27\n",
      "33826695 33855219\n",
      "mut for this trip is 3.989248885603324e-07\n",
      "GCT 30\n",
      "34925089 34900476\n",
      "mut for this trip is 4.296420659109597e-07\n",
      "GCC 23\n",
      "25793385 25789600\n",
      "mut for this trip is 4.458834633164405e-07\n",
      "GCG 38\n",
      "4416742 4416606\n",
      "mut for this trip is 4.301879649709261e-06\n"
     ]
    }
   ],
   "source": [
    "model_32simp = []\n",
    "for b1 in [\"A\",'T','C',\"G\"]: \n",
    "    for b2 in [\"A\",'C']:\n",
    "        for b3 in [\"A\",'T','C',\"G\"]:\n",
    "            triplet = b1+b2+b3\n",
    "            curr_muts_total = muts_dict[triplet][0]+muts_dict[reverse_complement(triplet)][0]\n",
    "            print(triplet, muts_dict[triplet][0]+muts_dict[reverse_complement(triplet)][0])\n",
    "            cur_trip_total = trips_dict[triplet]+trips_dict[reverse_complement(triplet)]\n",
    "            print(trips_dict[triplet],trips_dict[reverse_complement(triplet)])\n",
    "            print(\"mut for this trip is\",curr_muts_total/cur_trip_total)\n",
    "            model_32simp.append(curr_muts_total/cur_trip_total)"
   ]
  },
  {
   "cell_type": "markdown",
   "id": "a12c6892",
   "metadata": {},
   "source": [
    "**analysing for max min**"
   ]
  },
  {
   "cell_type": "code",
   "execution_count": 18,
   "id": "bee19ef4",
   "metadata": {},
   "outputs": [
    {
     "data": {
      "text/plain": [
       "55.73279100970549"
      ]
     },
     "execution_count": 18,
     "metadata": {},
     "output_type": "execute_result"
    }
   ],
   "source": [
    "max(model_32simp)/ min(model_32simp)"
   ]
  },
  {
   "cell_type": "markdown",
   "id": "edca6737",
   "metadata": {},
   "source": [
    "**make the 32-base model**"
   ]
  },
  {
   "cell_type": "code",
   "execution_count": null,
   "id": "cfcf2f5c",
   "metadata": {},
   "outputs": [],
   "source": [
    "model = {}\n",
    "for triplet, value in muts_dict.items(): \n",
    "    n_muts = value[0]\n",
    "\n",
    "    #standardize the into triplets \n",
    "    into_trip_dict = {}\n",
    "    for into_trip,into_count in value[1].items(): \n",
    "        if n_muts != 0:                                    #if no muts for that triplet,then keep it the same \n",
    "            into_trip_dict[into_trip] = into_count/n_muts\n",
    "            \n",
    "    #now divide the total num muts by the number tiplwts and create model value \n",
    "    model[triplet] = [n_muts/trips_dict[triplet], into_trip_dict]"
   ]
  }
 ],
 "metadata": {
  "kernelspec": {
   "display_name": "Python 3",
   "language": "python",
   "name": "python3"
  },
  "language_info": {
   "codemirror_mode": {
    "name": "ipython",
    "version": 3
   },
   "file_extension": ".py",
   "mimetype": "text/x-python",
   "name": "python",
   "nbconvert_exporter": "python",
   "pygments_lexer": "ipython3",
   "version": "3.9.2"
  }
 },
 "nbformat": 4,
 "nbformat_minor": 5
}
