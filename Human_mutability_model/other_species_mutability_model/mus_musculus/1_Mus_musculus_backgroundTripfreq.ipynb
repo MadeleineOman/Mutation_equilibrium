{
 "cells": [
  {
   "cell_type": "markdown",
   "metadata": {},
   "source": [
    "# ** getting all the triplet freqs of Mus Musculus ** "
   ]
  },
  {
   "cell_type": "code",
   "execution_count": 9,
   "metadata": {},
   "outputs": [],
   "source": [
    "import gzip\n",
    "from Bio import SeqIO\n",
    "import json"
   ]
  },
  {
   "cell_type": "markdown",
   "metadata": {},
   "source": [
    "** creating the empty dictionary to fill ** "
   ]
  },
  {
   "cell_type": "code",
   "execution_count": 11,
   "metadata": {},
   "outputs": [],
   "source": [
    "bases = [\"A\", \"T\", \"C\", \"G\"]\n",
    "mouse_trips_dict = {}\n",
    "for b1 in bases: \n",
    "    for b2 in bases: \n",
    "        for b3 in bases: \n",
    "            triplet = b1+b2+b3\n",
    "            mouse_trips_dict[triplet] = 0 # now the dict has [XXX] = [0] format "
   ]
  },
  {
   "cell_type": "markdown",
   "metadata": {},
   "source": [
    "** lol heres the long ass fasta loop **"
   ]
  },
  {
   "cell_type": "code",
   "execution_count": 12,
   "metadata": {},
   "outputs": [
    {
     "name": "stdout",
     "output_type": "stream",
     "text": [
      "chrom 1 finished!\n",
      "chrom 10 finished!\n",
      "chrom 11 finished!\n",
      "chrom 12 finished!\n",
      "chrom 13 finished!\n",
      "chrom 14 finished!\n",
      "chrom 15 finished!\n",
      "chrom 16 finished!\n",
      "chrom 17 finished!\n",
      "chrom 18 finished!\n",
      "chrom 19 finished!\n",
      "chrom 2 finished!\n",
      "chrom 3 finished!\n",
      "chrom 4 finished!\n",
      "chrom 5 finished!\n",
      "chrom 6 finished!\n",
      "chrom 7 finished!\n",
      "chrom 8 finished!\n",
      "chrom 9 finished!\n"
     ]
    }
   ],
   "source": [
    "with gzip.open(\"mus_musculus_genome/Mus_musculus.GRCm38.dna.primary_assembly.fa.gz\", \"rt\") as handle: #adding to the mouse_mut_df by chrom\n",
    "    for record in SeqIO.parse(handle, \"fasta\"):\n",
    "        if record.id in [str(i) for i in range(1, 20)]:    #only want autosomes\n",
    "            for i in range(1, len(record.seq)): \n",
    "                triplet = str(record.seq[i-1:i+2])\n",
    "                if triplet in mouse_trips_dict.keys(): \n",
    "                    mouse_trips_dict[triplet] += 1\n",
    "            print(\"chrom\", record.id, \"finished!\")"
   ]
  },
  {
   "cell_type": "code",
   "execution_count": 16,
   "metadata": {},
   "outputs": [],
   "source": [
    "with open('trips_2021_01_24_Mus_musculus.txt', 'w') as outfile:\n",
    "    json.dump(mouse_trips_dict, outfile)"
   ]
  },
  {
   "cell_type": "code",
   "execution_count": 17,
   "metadata": {},
   "outputs": [],
   "source": [
    "tmp_sum = 0\n",
    "for value in mouse_trips_dict.values(): \n",
    "    tmp_sum += value"
   ]
  },
  {
   "cell_type": "code",
   "execution_count": 27,
   "metadata": {},
   "outputs": [
    {
     "data": {
      "text/plain": [
       "239.5907999"
      ]
     },
     "execution_count": 27,
     "metadata": {},
     "output_type": "execute_result"
    }
   ],
   "source": [
    "tmp_sum/(10e6)"
   ]
  }
 ],
 "metadata": {
  "kernelspec": {
   "display_name": "Python 3",
   "language": "python",
   "name": "python3"
  },
  "language_info": {
   "codemirror_mode": {
    "name": "ipython",
    "version": 3
   },
   "file_extension": ".py",
   "mimetype": "text/x-python",
   "name": "python",
   "nbconvert_exporter": "python",
   "pygments_lexer": "ipython3",
   "version": "3.5.1"
  }
 },
 "nbformat": 4,
 "nbformat_minor": 2
}
