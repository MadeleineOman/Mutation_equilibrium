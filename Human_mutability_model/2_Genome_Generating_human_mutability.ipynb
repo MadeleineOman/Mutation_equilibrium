{
 "cells": [
  {
   "cell_type": "markdown",
   "metadata": {},
   "source": [
    "# ** Ok let's generate human mutability dictionaries** "
   ]
  },
  {
   "cell_type": "code",
   "execution_count": 54,
   "metadata": {},
   "outputs": [],
   "source": [
    "import pandas as pd\n",
    "from Bio import AlignIO\n",
    "import numpy as np \n",
    "import matplotlib.pyplot as plt\n",
    "from matplotlib.pyplot import figure "
   ]
  },
  {
   "cell_type": "code",
   "execution_count": 36,
   "metadata": {},
   "outputs": [],
   "source": [
    "import json\n",
    "import numpy as np "
   ]
  },
  {
   "cell_type": "markdown",
   "metadata": {},
   "source": [
    "**generating the fastas dictionary** "
   ]
  },
  {
   "cell_type": "code",
   "execution_count": 5,
   "metadata": {},
   "outputs": [],
   "source": [
    "list_chroms = ['chr' + str(i) for i in range(1, 23)]\n",
    "fastas_dict = {}   # creating dictionary with fasta alignment, length of seq, \n",
    "for chrom in list_chroms:\n",
    "    filename_tmp = \"/research/projects/hsapiens/mutability/data_o/MichealsonData/Ready_data/Sequence/{c}.fa\".format(c=chrom)\n",
    "    fastas_dict[chrom] = []\n",
    "    fastas_dict[chrom].append(AlignIO.read(open(filename_tmp),\"fasta\"))\n",
    "    alignment_tmp = fastas_dict[chrom][0]\n",
    "    fastas_dict[chrom].append(len(str(alignment_tmp[0].seq)))"
   ]
  },
  {
   "cell_type": "markdown",
   "metadata": {},
   "source": [
    "** reading in the 100k mutations file ** "
   ]
  },
  {
   "cell_type": "code",
   "execution_count": 6,
   "metadata": {},
   "outputs": [],
   "source": [
    "mutations_lines = open('/research/projects/hsapiens/mutability/analysis_o/hg18_hg38_merged.txt').readlines()"
   ]
  },
  {
   "cell_type": "markdown",
   "metadata": {},
   "source": [
    "**making and filling the mutation dictionary **"
   ]
  },
  {
   "cell_type": "code",
   "execution_count": 27,
   "metadata": {},
   "outputs": [
    {
     "name": "stdout",
     "output_type": "stream",
     "text": [
      "skipped\n"
     ]
    }
   ],
   "source": [
    "#making the blank dictionary --> rememebr to always reblank if the loop ran halfway then quit, as we a rappending in the for loop below below, not resetting. \n",
    "mutations_dictionary_ref_alt = {}\n",
    "nucleotides = [\"A\", \"T\", \"C\", \"G\"]\n",
    "\n",
    "list_fuck_ups = []\n",
    "indels = []\n",
    "\n",
    "for base1 in nucleotides:\n",
    "    for base2 in nucleotides:\n",
    "        for base3 in nucleotides:\n",
    "            triplet = base1+base2+base3\n",
    "            mutations_dictionary_ref_alt[triplet] = [0,{}]\n",
    "            for base_changing in nucleotides: \n",
    "                if base_changing != base2: \n",
    "                    mutations_dictionary_ref_alt[triplet][1][base1+base_changing+base3] = 0\n",
    "\n",
    "\n",
    "                    \n",
    "#filling the dictionary \n",
    "iterator = 0 \n",
    "\n",
    "for line in mutations_lines: \n",
    "    row_split_tmp = line.split()\n",
    "    if iterator >= 1: # skip the first lines \n",
    "        chrom_tmp = row_split_tmp[1]\n",
    "        if chrom_tmp in list_chroms:\n",
    "            site_number_tmp = row_split_tmp[2]\n",
    "            site = [chrom_tmp, int(site_number_tmp)]\n",
    "            #print(site)\n",
    "\n",
    "            alignment = fastas_dict[site[0]][0]\n",
    "\n",
    "            Ref_bp = row_split_tmp[8]\n",
    "            New_bp = row_split_tmp[9]\n",
    "            Ref_triplet= (str(alignment[0,site[1]-2:site[1]+1].seq)).upper()\n",
    "            New_triplet = (str(alignment[0,site[1]-2])+str(New_bp)+str(alignment[0,site[1]])).upper()\n",
    "            #print(Ref_bp); print(Ref_triplet); print(New_bp); print(New_triplet)\n",
    "\n",
    "            if Ref_triplet == New_triplet: \n",
    "                #print(Ref_triplet +\" \"+New_triplet+\" \"+str(row_split_tmp[0])+\"    \"++\"   \"+(str(alignment[0,site[1]-2])+\" \"+Ref_bp+\"   \"+str(alignment[0,site[1]])+\" \"+New_bp)\n",
    "                list_fuck_ups.append([Ref_triplet, New_triplet, row_split_tmp])\n",
    "            elif  len(Ref_triplet) == 3 and  len(New_triplet)==3 : \n",
    "                #ok now time to add to dictionary \n",
    "                mutations_dictionary_ref_alt[Ref_triplet][0]+=1\n",
    "                mutations_dictionary_ref_alt[Ref_triplet][1][New_triplet] += 1 \n",
    "            else: \n",
    "                assert len(New_bp) >= 1\n",
    "                indels.append([Ref_triplet, New_triplet, row_split_tmp]) # we dont want to include indels in our model anyways \n",
    "                \n",
    "\n",
    "        \n",
    "        #break\n",
    "    else: \n",
    "        print(\"skipped\")\n",
    "        #print(\"skipped\"+line)\n",
    "    iterator += 1\n",
    "    \n",
    "    \n",
    " "
   ]
  },
  {
   "cell_type": "code",
   "execution_count": 29,
   "metadata": {},
   "outputs": [
    {
     "data": {
      "text/plain": [
       "(5215, 2022)"
      ]
     },
     "execution_count": 29,
     "metadata": {},
     "output_type": "execute_result"
    }
   ],
   "source": [
    "len(list_fuck_ups),len(indels)"
   ]
  },
  {
   "cell_type": "code",
   "execution_count": 1,
   "metadata": {},
   "outputs": [],
   "source": [
    "mutations_dictionary_ref_alt = {'TGC': [1314, {'TAC': 812, 'TTC': 321, 'TCC': 181}], 'GCG': [2192, {'GGG': 54, 'GTG': 1978, 'GAG': 160}], 'AAG': [1027, {'ACG': 230, 'ATG': 172, 'AGG': 625}], 'AGA': [2010, {'ACA': 704, 'AAA': 955, 'ATA': 351}], 'GTT': [930, {'GGT': 164, 'GAT': 144, 'GCT': 622}], 'TTG': [981, {'TCG': 554, 'TAG': 157, 'TGG': 270}], 'CAA': [1023, {'CTA': 120, 'CGA': 602, 'CCA': 301}], 'GTG': [963, {'GGG': 191, 'GCG': 603, 'GAG': 169}], 'ATA': [2382, {'ACA': 1913, 'AAA': 294, 'AGA': 175}], 'TAA': [1240, {'TTA': 270, 'TGA': 703, 'TCA': 267}], 'TGA': [1527, {'TTA': 190, 'TCA': 389, 'TAA': 948}], 'ACC': [1728, {'ATC': 910, 'AGC': 268, 'AAC': 550}], 'AAT': [2304, {'AGT': 1782, 'ACT': 261, 'ATT': 261}], 'ATT': [2231, {'AGT': 253, 'ACT': 1661, 'AAT': 317}], 'GGA': [1560, {'GTA': 292, 'GCA': 336, 'GAA': 932}], 'TAC': [797, {'TGC': 571, 'TTC': 118, 'TCC': 108}], 'AGC': [1405, {'ATC': 216, 'ACC': 299, 'AAC': 890}], 'CCG': [2424, {'CAG': 28, 'CGG': 122, 'CTG': 2274}], 'CCT': [1788, {'CAT': 181, 'CTT': 1177, 'CGT': 430}], 'CGG': [2476, {'CCG': 107, 'CAG': 2348, 'CTG': 21}], 'TTC': [845, {'TGC': 197, 'TAC': 169, 'TCC': 479}], 'CCC': [1486, {'CAC': 178, 'CTC': 957, 'CGC': 351}], 'TCA': [1500, {'TTA': 943, 'TGA': 363, 'TAA': 194}], 'GCT': [1356, {'GTT': 865, 'GAT': 235, 'GGT': 256}], 'ACT': [1751, {'AGT': 424, 'AAT': 273, 'ATT': 1054}], 'GAC': [505, {'GCC': 85, 'GTC': 129, 'GGC': 291}], 'ATC': [1026, {'ACC': 592, 'AGC': 115, 'AAC': 319}], 'ACA': [2467, {'AAA': 417, 'ATA': 1618, 'AGA': 432}], 'ATG': [2255, {'ACG': 1625, 'AAG': 341, 'AGG': 289}], 'GCC': [1419, {'GTC': 866, 'GAC': 340, 'GGC': 213}], 'TTT': [1753, {'TAT': 326, 'TGT': 509, 'TCT': 918}], 'AAA': [1688, {'ACA': 510, 'ATA': 293, 'AGA': 885}], 'CTC': [769, {'CAC': 166, 'CGC': 169, 'CCC': 434}], 'CAG': [1330, {'CTG': 188, 'CGG': 860, 'CCG': 282}], 'TCT': [1968, {'TTT': 939, 'TAT': 348, 'TGT': 681}], 'GCA': [1440, {'GTA': 845, 'GGA': 242, 'GAA': 353}], 'TAT': [2465, {'TTT': 294, 'TGT': 1975, 'TCT': 196}], 'GGC': [1403, {'GTC': 333, 'GAC': 823, 'GCC': 247}], 'CTT': [1070, {'CAT': 148, 'CCT': 661, 'CGT': 261}], 'AGG': [1697, {'ACG': 370, 'ATG': 182, 'AAG': 1145}], 'TTA': [1273, {'TGA': 249, 'TCA': 724, 'TAA': 300}], 'CAC': [928, {'CTC': 176, 'CGC': 558, 'CCC': 194}], 'CGC': [2164, {'CAC': 1966, 'CTC': 132, 'CCC': 66}], 'CGT': [2877, {'CAT': 2651, 'CTT': 119, 'CCT': 107}], 'CGA': [1797, {'CTA': 40, 'CAA': 1660, 'CCA': 97}], 'GAA': [807, {'GTA': 160, 'GCA': 198, 'GGA': 449}], 'TAG': [716, {'TTG': 102, 'TCG': 114, 'TGG': 500}], 'AAC': [887, {'ATC': 134, 'ACC': 159, 'AGC': 594}], 'CAT': [2373, {'CTT': 352, 'CCT': 329, 'CGT': 1692}], 'GTA': [811, {'GCA': 599, 'GGA': 96, 'GAA': 116}], 'CCA': [1450, {'CTA': 1016, 'CAA': 138, 'CGA': 296}], 'AGT': [1795, {'ACT': 457, 'AAT': 1061, 'ATT': 277}], 'TGG': [1466, {'TTG': 159, 'TCG': 310, 'TAG': 997}], 'TGT': [2521, {'TTT': 413, 'TAT': 1652, 'TCT': 456}], 'GAG': [759, {'GGG': 411, 'GTG': 186, 'GCG': 162}], 'GGG': [1345, {'GTG': 161, 'GCG': 315, 'GAG': 869}], 'ACG': [2881, {'ATG': 2661, 'AAG': 131, 'AGG': 89}], 'TCC': [1543, {'TGC': 368, 'TAC': 236, 'TTC': 939}], 'CTA': [815, {'CAA': 110, 'CCA': 566, 'CGA': 139}], 'GAT': [985, {'GTT': 279, 'GGT': 587, 'GCT': 119}], 'GTC': [584, {'GCC': 342, 'GAC': 137, 'GGC': 105}], 'GGT': [1738, {'GTT': 541, 'GAT': 936, 'GCT': 261}], 'TCG': [1735, {'TTG': 1593, 'TAG': 55, 'TGG': 87}], 'CTG': [1344, {'CAG': 208, 'CGG': 277, 'CCG': 859}]}\n"
   ]
  },
  {
   "cell_type": "code",
   "execution_count": 4,
   "metadata": {},
   "outputs": [],
   "source": [
    "with open('MutDict_2020_12_10.txt', 'w') as outfile:\n",
    "    json.dump(mutations_dictionary_ref_alt, outfile)"
   ]
  },
  {
   "cell_type": "markdown",
   "metadata": {},
   "source": [
    "** ok now so the same for the non- mutant sites from Rob's whole genome code ** "
   ]
  },
  {
   "cell_type": "code",
   "execution_count": 10,
   "metadata": {},
   "outputs": [],
   "source": [
    "#from ../HumanTripletCounts notebook \n",
    "RobString = \"AAA :\t 116219865 AAC :\t 45054039 AAG :\t 60506716 AAT :\t 74983114 ACA :\t 61496684 ACC :\t 35209715 ACG :\t 7954793 ACT :\t 49169423 AGA :\t 67980623 AGC :\t 42741732 AGG :\t 53953871 AGT :\t 49109578 ATA :\t 62191925 ATC :\t 40532560 ATG :\t 55516564 ATT :\t 75663351 CAA :\t 57170968 CAC :\t 45873394 CAG :\t 62322498 CAT :\t 55814087 CCA :\t 55568638 CCC :\t 39882676 CCG :\t 8495526 CCT :\t 54101070 CGA :\t 6847361 CGC :\t 7416430  CGG :\t 8705912 CGT :\t 8010016 CTA :\t 38950865 CTC :\t 51615280 CTG :\t 61556952 CTT :\t 61394655 GAA :\t 61143571 GAC :\t 28896461 GAG :\t 51713795 GAT :\t 41018890 GCA :\t 44177624 GCC :\t 36081859 GCG :\t 7479830 GCT :\t 42326258 GGA :\t 48024396 GGC :\t 36067367 GGG :\t 40000766 GGT :\t 35209635 GTA :\t 34395292 GTC :\t 28621456 GTG :\t 46474021 GTT :\t 44703218 TAA :\t 62229283 TAC :\t 34006723 TAG :\t 39242680 TAT :\t 62088324 TCA :\t 59937972 TCC :\t 46873740 TCG :\t 7049574 TCT :\t 67921009 TGA :\t 59920239 TGC :\t 43840071 TGG :\t 56641534 TGT :\t 61864773 TTA :\t 62028934 TTC :\t 61013121 TTG :\t 58719052  TTT :\t 117589720\"\n",
    "rob_string_split = RobString.split()\n",
    "rob_string_split = list(filter(lambda x: x != \":\", rob_string_split))\n",
    "triplet_genome_counts_dict = {}\n",
    "for i in range(0,len(rob_string_split),2): \n",
    "    triplet = rob_string_split[i]\n",
    "    count = rob_string_split[i+1]\n",
    "    triplet_genome_counts_dict[triplet] = int(count)"
   ]
  },
  {
   "cell_type": "code",
   "execution_count": 11,
   "metadata": {},
   "outputs": [],
   "source": [
    "number_sites = 0\n",
    "for key in triplet_genome_counts_dict.keys(): \n",
    "    number_sites += int(triplet_genome_counts_dict[key])\n",
    "    "
   ]
  },
  {
   "cell_type": "markdown",
   "metadata": {},
   "source": [
    "# ** making the mutability model ** "
   ]
  },
  {
   "cell_type": "code",
   "execution_count": 16,
   "metadata": {},
   "outputs": [],
   "source": [
    "model = {}\n",
    "for key, item in mutations_dictionary_ref_alt.items(): \n",
    "    n_muts = item[0]\n",
    "    n_trips = triplet_genome_counts_dict[key]\n",
    "    mut = n_muts/n_trips\n",
    "    \n",
    "    into_dict = {}\n",
    "    for into_trip_key,value in item[1].items(): \n",
    "        into_dict[into_trip_key] = value/n_muts\n",
    "    \n",
    "    model[key] = [mut,into_dict]"
   ]
  },
  {
   "cell_type": "code",
   "execution_count": 68,
   "metadata": {},
   "outputs": [],
   "source": [
    "with open('Model_2020_12_02_genomeWide.txt', 'w') as outfile:\n",
    "    json.dump(model, outfile)"
   ]
  },
  {
   "cell_type": "markdown",
   "metadata": {},
   "source": [
    "## **calculating overall mean**"
   ]
  },
  {
   "cell_type": "code",
   "execution_count": 33,
   "metadata": {},
   "outputs": [],
   "source": [
    "model = json.load(open(\"Model_2020_12_02_genomeWide.txt\"))"
   ]
  },
  {
   "cell_type": "code",
   "execution_count": 35,
   "metadata": {},
   "outputs": [],
   "source": [
    "muts_list = []\n",
    "for value in model.values():\n",
    "    muts_list.append(value[0])"
   ]
  },
  {
   "cell_type": "code",
   "execution_count": 37,
   "metadata": {},
   "outputs": [
    {
     "data": {
      "text/plain": [
       "6.122372566455623e-05"
      ]
     },
     "execution_count": 37,
     "metadata": {},
     "output_type": "execute_result"
    }
   ],
   "source": [
    "np.mean(muts_list)"
   ]
  },
  {
   "cell_type": "code",
   "execution_count": 60,
   "metadata": {},
   "outputs": [
    {
     "data": {
      "text/plain": [
       "<Figure size 640x640 with 0 Axes>"
      ]
     },
     "execution_count": 60,
     "metadata": {},
     "output_type": "execute_result"
    },
    {
     "data": {
      "text/plain": [
       "<Figure size 640x640 with 0 Axes>"
      ]
     },
     "metadata": {},
     "output_type": "display_data"
    }
   ],
   "source": []
  },
  {
   "cell_type": "code",
   "execution_count": 69,
   "metadata": {},
   "outputs": [
    {
     "data": {
      "text/plain": [
       "(array([54.,  2.,  0.,  0.,  0.,  0.,  1.,  4.,  1.,  2.]),\n",
       " array([1.31984440e-05, 4.80957583e-05, 8.29930725e-05, 1.17890387e-04,\n",
       "        1.52787701e-04, 1.87685015e-04, 2.22582329e-04, 2.57479644e-04,\n",
       "        2.92376958e-04, 3.27274272e-04, 3.62171586e-04]),\n",
       " <BarContainer object of 10 artists>)"
      ]
     },
     "execution_count": 69,
     "metadata": {},
     "output_type": "execute_result"
    },
    {
     "data": {
      "image/png": "[encoded data removed]",
      "text/plain": [
       "<Figure size 640x760 with 1 Axes>"
      ]
     },
     "metadata": {
      "needs_background": "light"
     },
     "output_type": "display_data"
    }
   ],
   "source": [
    "figure(figsize=(8, 9.5), dpi=80)#https://stackoverflow.com/questions/332289/how-do-you-change-the-size-of-figures-drawn-with-matplotlib\n",
    "plt.hist(muts_list)\n",
    "\n",
    "# plt.xlabel(\"Relative mutability\", size=17)\n",
    "# plt.xticks(rotation=45, size = 16)\n",
    "# plt.yticks(size = 16)\n",
    "# plt.title(\"Histogram of mutability in the 3-mer model\", size = 18)\n",
    "\n",
    "# # plt.show()\n",
    "# # plt.savefig(\"plots/mutabilityHistogram_tripletModel_2021_09_14.png\")"
   ]
  },
  {
   "cell_type": "markdown",
   "metadata": {},
   "source": [
    "**54 triplets in the lowest mutability bin (which as min value of 1.31984440e-05)**\n",
    "- max mutability = 3.6e-04"
   ]
  }
 ],
 "metadata": {
  "kernelspec": {
   "display_name": "Python [conda env:.conda-mutEq]",
   "language": "python",
   "name": "conda-env-.conda-mutEq-py"
  },
  "language_info": {
   "codemirror_mode": {
    "name": "ipython",
    "version": 3
   },
   "file_extension": ".py",
   "mimetype": "text/x-python",
   "name": "python",
   "nbconvert_exporter": "python",
   "pygments_lexer": "ipython3",
   "version": "3.9.6"
  }
 },
 "nbformat": 4,
 "nbformat_minor": 4
}
