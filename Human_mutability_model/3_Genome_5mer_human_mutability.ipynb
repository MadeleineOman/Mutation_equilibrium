{
 "cells": [
  {
   "cell_type": "markdown",
   "metadata": {},
   "source": [
    "# ** Ok let's generate human 5mer mutability dictionaries** "
   ]
  },
  {
   "cell_type": "markdown",
   "metadata": {},
   "source": [
    "**note that ive changed the data from which we generate the model (hg38, no liftover complications)**\n",
    "- howeevr the 5-mer model does not porduce the 3-mer model when combined.... wtf!! "
   ]
  },
  {
   "cell_type": "code",
   "execution_count": 129,
   "metadata": {},
   "outputs": [],
   "source": [
    "import pandas as pd\n",
    "from Bio import AlignIO\n",
    "import numpy\n",
    "import matplotlib.pyplot as plt\n",
    "from copy import copy \n",
    "from matplotlib.pyplot import figure"
   ]
  },
  {
   "cell_type": "code",
   "execution_count": 119,
   "metadata": {},
   "outputs": [],
   "source": [
    "import json\n",
    "import numpy as np"
   ]
  },
  {
   "cell_type": "markdown",
   "metadata": {},
   "source": [
    "**generating the fastas dictionary** "
   ]
  },
  {
   "cell_type": "code",
   "execution_count": 4,
   "metadata": {},
   "outputs": [],
   "source": [
    "!gunzip -r data/hg38_seq/"
   ]
  },
  {
   "cell_type": "code",
   "execution_count": 5,
   "metadata": {},
   "outputs": [],
   "source": [
    "list_chroms = ['chr' + str(i) for i in range(1, 23)]\n",
    "fastas_dict = {}   # creating dictionary with fasta alignment, length of seq, \n",
    "for chrom in list_chroms:\n",
    "    filename_tmp = \"data/hg38_seq/{c}.fa\".format(c=chrom)\n",
    "    fastas_dict[chrom] = []\n",
    "    fastas_dict[chrom].append(AlignIO.read(open(filename_tmp),\"fasta\"))\n",
    "    alignment_tmp = fastas_dict[chrom][0]\n",
    "    fastas_dict[chrom].append(len(str(alignment_tmp[0].seq)))"
   ]
  },
  {
   "cell_type": "markdown",
   "metadata": {},
   "source": [
    "**reading in the 100k mutations file** "
   ]
  },
  {
   "cell_type": "code",
   "execution_count": 6,
   "metadata": {},
   "outputs": [],
   "source": [
    "mutations_lines = open('data/nature24018-s2/Aging_Oocytes_Supplementary_Table_DNMs_wrangled_unique.tsv').readlines()"
   ]
  },
  {
   "cell_type": "code",
   "execution_count": 7,
   "metadata": {},
   "outputs": [
    {
     "data": {
      "text/plain": [
       "100438"
      ]
     },
     "execution_count": 7,
     "metadata": {},
     "output_type": "execute_result"
    }
   ],
   "source": [
    "len(mutations_lines)"
   ]
  },
  {
   "cell_type": "markdown",
   "metadata": {},
   "source": [
    "**making and filling the mutation dictionary**"
   ]
  },
  {
   "cell_type": "code",
   "execution_count": 85,
   "metadata": {},
   "outputs": [],
   "source": [
    "#making the blank dictionary --> rememebr to always reblank if the loop ran halfway then quit, as we a rappending in the for loop below below, not resetting. \n",
    "mutations_dictionary_ref_alt = {}\n",
    "nucleotides = [\"A\", \"T\", \"C\", \"G\"]\n",
    "\n",
    "list_fuck_ups = []\n",
    "indels = []\n",
    "\n",
    "for base1 in nucleotides:\n",
    "    for base2 in nucleotides:\n",
    "        for base3 in nucleotides:\n",
    "            for base4 in nucleotides:\n",
    "                for base5 in nucleotides:\n",
    "                    fivemer = base1+base2+base3+base4+base5\n",
    "                    mutations_dictionary_ref_alt[fivemer] = [0,{}]\n",
    "                    for base_changing in nucleotides: \n",
    "                        if base_changing != base3: \n",
    "                            mutations_dictionary_ref_alt[fivemer][1][base1+base2+base_changing+base4+base5] = 0"
   ]
  },
  {
   "cell_type": "code",
   "execution_count": 86,
   "metadata": {},
   "outputs": [],
   "source": [
    "#double checks that the dictionary is of the format \"XXXXX\":[0,{XXXXX:0,XXXXX:0,XXXXX:0}]\n",
    "assert len(mutations_dictionary_ref_alt)\n",
    "for value in mutations_dictionary_ref_alt.values(): \n",
    "    assert value[0] ==0\n",
    "    assert len(value[1])==3"
   ]
  },
  {
   "cell_type": "code",
   "execution_count": 87,
   "metadata": {
    "tags": []
   },
   "outputs": [
    {
     "name": "stdout",
     "output_type": "stream",
     "text": [
      "skipped\n"
     ]
    }
   ],
   "source": [
    "               \n",
    "#filling the dictionary \n",
    "#iterator = 0\n",
    "\n",
    "for iterator,line in enumerate(mutations_lines): #chnaged to enumerate so dont need an iterator manually \n",
    "    row_split_tmp = line.split()\n",
    "    if iterator >= 1: # skip the first lines \n",
    "        chrom_tmp = row_split_tmp[0]\n",
    "        if chrom_tmp in list_chroms:\n",
    "            site_number_tmp = int(row_split_tmp[1])-1 #need the -1 to offset properly (checked in the 0_110kmuts.... notebook)\n",
    "            site = [chrom_tmp, int(site_number_tmp)]\n",
    "            #print(site)\n",
    "\n",
    "            alignment = fastas_dict[site[0]][0]\n",
    "\n",
    "            Ref_bp = row_split_tmp[2]\n",
    "            New_bp = row_split_tmp[3]\n",
    "            Ref_5mer= (str(alignment[0,site[1]-2:site[1]+3].seq)).upper()#the offset is now here: site is the actual 0-based position \n",
    "            New_5mer = (str(alignment[0,site[1]-2:site[1]].seq)).upper()+str(New_bp)+(str(alignment[0,site[1]+1:site[1]+3].seq)).upper()#tested positioning\n",
    "            #print(Ref_bp); print(Ref_triplet); print(New_bp); print(New_triplet)\n",
    "\n",
    "            if Ref_5mer == New_5mer: \n",
    "                #print(Ref_triplet +\" \"+New_triplet+\" \"+str(row_split_tmp[0])+\"    \"++\"   \"+(str(alignment[0,site[1]-2])+\" \"+Ref_bp+\"   \"+str(alignment[0,site[1]])+\" \"+New_bp)\n",
    "                list_fuck_ups.append([Ref_5mer, New_5mer, row_split_tmp])\n",
    "            elif  len(Ref_5mer) == 5 and  len(New_5mer)==5 and \"N\" not in Ref_5mer: #s\n",
    "                #ok now time to add to dictionary \n",
    "                mutations_dictionary_ref_alt[Ref_5mer][0]+=1\n",
    "                mutations_dictionary_ref_alt[Ref_5mer][1][New_5mer] += 1 \n",
    "            else: \n",
    "                assert len(New_bp) >= 1\n",
    "                indels.append([Ref_5mer, New_5mer, row_split_tmp]) # we dont want to include indels in our model anyways \n",
    "                \n",
    "\n",
    "        \n",
    "        #break\n",
    "    else: \n",
    "        print(\"skipped\")\n",
    "        #print(\"skipped\"+line)\n",
    "#     iterator += 1\n",
    "    \n",
    "    \n",
    " "
   ]
  },
  {
   "cell_type": "code",
   "execution_count": 11,
   "metadata": {},
   "outputs": [],
   "source": [
    "with open('MutDict_5mer_2021_09_01.txt', 'w') as outfile:\n",
    "    json.dump(mutations_dictionary_ref_alt, outfile)"
   ]
  },
  {
   "cell_type": "code",
   "execution_count": 13,
   "metadata": {},
   "outputs": [
    {
     "data": {
      "text/plain": [
       "100437"
      ]
     },
     "execution_count": 13,
     "metadata": {},
     "output_type": "execute_result"
    }
   ],
   "source": [
    "iterator"
   ]
  },
  {
   "cell_type": "markdown",
   "metadata": {},
   "source": [
    "# **checking 5mer model against 3-mer**"
   ]
  },
  {
   "cell_type": "code",
   "execution_count": 16,
   "metadata": {},
   "outputs": [],
   "source": [
    "triplet_mutCount = json.load(open(\"MutDict_2020_12_10.txt\"))"
   ]
  },
  {
   "cell_type": "code",
   "execution_count": 25,
   "metadata": {
    "collapsed": true,
    "jupyter": {
     "outputs_hidden": true
    },
    "tags": []
   },
   "outputs": [
    {
     "name": "stdout",
     "output_type": "stream",
     "text": [
      "TCT -0.003048780487804878\n",
      "GTC 0.003424657534246575\n",
      "CTG -0.010416666666666666\n",
      "CGT -0.0003475842891901286\n",
      "GGC 0.0021382751247327157\n",
      "GAT -0.007106598984771574\n",
      "AGT -0.0116991643454039\n",
      "TTC -0.002366863905325444\n",
      "GTG -0.007268951194184839\n",
      "CGC -0.005083179297597043\n",
      "AAC -0.014656144306651634\n",
      "ATA -0.0025188916876574307\n",
      "TTA 0.0054988216810683424\n",
      "TGA -0.005239030779305829\n",
      "TGG -0.002728512960436562\n",
      "CTA -0.013496932515337423\n",
      "TCC -0.002592352559948153\n",
      "AGA 0.0004975124378109452\n",
      "GCA -0.004166666666666667\n",
      "GAC -0.0039603960396039604\n",
      "GAG -0.007905138339920948\n",
      "TCG -0.011527377521613832\n",
      "TGC -0.00684931506849315\n",
      "ATC -0.0029239766081871343\n",
      "ACC -0.0023148148148148147\n",
      "ATT -0.004930524428507396\n",
      "GCG -0.0004562043795620438\n",
      "GCT -0.005162241887905605\n",
      "CCT -0.006711409395973154\n",
      "GGG -0.0044609665427509295\n",
      "CCA 0.004137931034482759\n",
      "CCC -0.0013458950201884253\n",
      "GCC -0.009161381254404511\n",
      "TAC 0.0\n",
      "CGA -0.005008347245409015\n",
      "TTG 0.0\n",
      "TTT -0.0011409013120365088\n",
      "CTT -0.001869158878504673\n",
      "TAG -0.002793296089385475\n",
      "CAC -0.0010775862068965517\n",
      "TAT -0.004462474645030426\n",
      "CCG -0.0008250825082508251\n",
      "TCA -0.010666666666666666\n",
      "TAA -0.0016129032258064516\n",
      "CGG -0.007673667205169628\n",
      "ACA -0.004053506282934738\n",
      "AAA 0.0005924170616113745\n",
      "CTC -0.0039011703511053317\n",
      "ATG -0.004434589800443459\n",
      "GGA -0.000641025641025641\n",
      "GAA -0.008674101610904586\n",
      "ACT -0.006282124500285551\n",
      "AGG -0.005303476723629935\n",
      "AAG -0.0029211295034079843\n",
      "GTA -0.004932182490752158\n",
      "CAT -0.006321112515802781\n",
      "ACG -0.0055536272127733426\n",
      "GTT -0.001075268817204301\n",
      "CAA -0.0019550342130987292\n",
      "CAG -0.005263157894736842\n",
      "GGT -0.0017261219792865361\n",
      "TGT -0.008330027766759222\n",
      "AAT -0.006944444444444444\n",
      "AGC -0.008540925266903915\n"
     ]
    }
   ],
   "source": [
    "for trip_key,trip_mutCount_ele in triplet_mutCount.items(): \n",
    "    cur_trip_fivemer_counts=0\n",
    "    for fivemer_key,fivemer_mutCount_ele in mutations_dictionary_ref_alt.items(): \n",
    "        if fivemer_key[1:4]==trip_key: \n",
    "            cur_trip_fivemer_counts+=fivemer_mutCount_ele[0]\n",
    "    print(trip_key,(trip_mutCount_ele[0]-cur_trip_fivemer_counts)/trip_mutCount_ele[0])"
   ]
  },
  {
   "cell_type": "markdown",
   "metadata": {},
   "source": [
    "# **converting to 512 fivemer model (onle need half)**\n",
    "- need to do half as 100kkmuts/1024 potential 5-mers = 100 range (not good enough) "
   ]
  },
  {
   "cell_type": "code",
   "execution_count": 53,
   "metadata": {},
   "outputs": [],
   "source": [
    "def reverse_complement(dna):\n",
    "    \"\"\"\n",
    "    Str --> str \n",
    "    Note that this function will revComp everything: need appropruate if conditional to make sure you are 64-->32 not 64--> complementary 64 \n",
    "    \"\"\"\n",
    "    rev_comped = str()\n",
    "    complement = {'A': 'T', 'C': 'G', 'G': 'C', 'T': 'A'}\n",
    "    for base in dna:\n",
    "        rev_comped=complement[base]+rev_comped\n",
    "    return rev_comped"
   ]
  },
  {
   "cell_type": "code",
   "execution_count": 94,
   "metadata": {},
   "outputs": [],
   "source": [
    "#making blank dict \n",
    "fivemer_globalGenomeCounts512 = {}\n",
    "mutations_dictionary_ref_alt_512 = {}\n",
    "for base1 in nucleotides:\n",
    "    for base2 in nucleotides:\n",
    "        for base3 in [\"A\",\"C\"]:\n",
    "            for base4 in nucleotides:\n",
    "                for base5 in nucleotides:\n",
    "                    fivemer = base1+base2+base3+base4+base5\n",
    "                    fivemer_globalGenomeCounts512[fivemer]=0\n",
    "                    mutations_dictionary_ref_alt_512[fivemer] = [0,{}]\n",
    "                    for base_changing in nucleotides: \n",
    "                        if base_changing != base3: \n",
    "                            mutations_dictionary_ref_alt_512[fivemer][1][base1+base2+base_changing+base4+base5] = 0"
   ]
  },
  {
   "cell_type": "code",
   "execution_count": 96,
   "metadata": {},
   "outputs": [],
   "source": [
    "#converting the triplet \n",
    "fivemer_globalGenomeCounts = json.load(open(\"../HumanTripletCounts/global_fivemer_counts_2021_08_31.txt\"))\n",
    "for fivemerKey,fivemerVal in fivemer_globalGenomeCounts.items(): \n",
    "    if fivemerKey[2] in [\"T\",\"G\"]: \n",
    "        fivemer_globalGenomeCounts512[reverse_complement(fivemerKey)]+= fivemerVal\n",
    "    else: \n",
    "        fivemer_globalGenomeCounts512[fivemerKey] += fivemerVal\n",
    "\n",
    "for fivemerKey in fivemer_globalGenomeCounts512.keys(): #just double checking it worked \n",
    "    assert fivemer_globalGenomeCounts512[fivemerKey]== fivemer_globalGenomeCounts[fivemerKey]+ fivemer_globalGenomeCounts[reverse_complement(fivemerKey)]"
   ]
  },
  {
   "cell_type": "code",
   "execution_count": 99,
   "metadata": {},
   "outputs": [],
   "source": [
    "for fivemerKey,fivemerVal in mutations_dictionary_ref_alt.items(): \n",
    "    if fivemerKey[2] in [\"T\",\"G\"]: \n",
    "        mutations_dictionary_ref_alt_512[reverse_complement(fivemerKey)][0]+= fivemerVal[0]\n",
    "        for into_fivemerKey,intofivemerVal in fivemerVal[1].items(): \n",
    "            mutations_dictionary_ref_alt_512[reverse_complement(fivemerKey)][1][reverse_complement(into_fivemerKey)]+=intofivemerVal\n",
    "    else: \n",
    "        mutations_dictionary_ref_alt_512[fivemerKey][0]+= fivemerVal[0]\n",
    "        for into_fivemerKey,intofivemerVal in fivemerVal[1].items(): \n",
    "            mutations_dictionary_ref_alt_512[fivemerKey][1][into_fivemerKey]+=intofivemerVal\n",
    "\n",
    "for fivemerKey in mutations_dictionary_ref_alt_512.keys(): #just double checking it worked \n",
    "    assert mutations_dictionary_ref_alt_512[fivemerKey][0]== mutations_dictionary_ref_alt[fivemerKey][0]+ mutations_dictionary_ref_alt[reverse_complement(fivemerKey)][0]"
   ]
  },
  {
   "cell_type": "markdown",
   "metadata": {},
   "source": [
    "# **making the mutability model** "
   ]
  },
  {
   "cell_type": "code",
   "execution_count": 102,
   "metadata": {},
   "outputs": [],
   "source": [
    "model = {}\n",
    "for key, item in mutations_dictionary_ref_alt_512.items(): \n",
    "    n_muts = item[0]\n",
    "    n_trips = fivemer_globalGenomeCounts512[key]\n",
    "    mut = n_muts/n_trips\n",
    "    \n",
    "    into_dict = {}\n",
    "    for into_trip_key,value in item[1].items(): \n",
    "        if n_muts==0: \n",
    "            assert value ==0 #iof the number of muts ttoal is 0, then all values of the sub (into) dict should be zero \n",
    "            into_dict[into_trip_key] = 0\n",
    "            \n",
    "        else: \n",
    "            into_dict[into_trip_key] = value/n_muts\n",
    "    \n",
    "    model[key] = [mut,into_dict]"
   ]
  },
  {
   "cell_type": "markdown",
   "metadata": {},
   "source": [
    "** here is the model for copy/pasting purposes** "
   ]
  },
  {
   "cell_type": "code",
   "execution_count": 104,
   "metadata": {},
   "outputs": [],
   "source": [
    "with open('Model_fivemer_genomeWide-512_2021_09_02.txt', 'w') as outfile:\n",
    "    json.dump(model, outfile)"
   ]
  },
  {
   "cell_type": "markdown",
   "metadata": {},
   "source": [
    "## **doubling to return to size 1024**"
   ]
  },
  {
   "cell_type": "code",
   "execution_count": 113,
   "metadata": {},
   "outputs": [],
   "source": [
    "model_1024 = {}\n",
    "for key,value in model.items(): \n",
    "    model_1024[key]=value\n",
    "    model_1024[reverse_complement(key)]=[value[0],{}]\n",
    "    for into_key,into_valu in value[1].items(): \n",
    "        model_1024[reverse_complement(key)][1][reverse_complement(into_key)]=into_valu"
   ]
  },
  {
   "cell_type": "code",
   "execution_count": 114,
   "metadata": {},
   "outputs": [
    {
     "data": {
      "text/plain": [
       "([1.5086762938292033e-05,\n",
       "  {'AATAA': 0.21895424836601307,\n",
       "   'AACAA': 0.31209150326797386,\n",
       "   'AAGAA': 0.46895424836601307}],\n",
       " [1.5086762938292033e-05,\n",
       "  {'TTATT': 0.21895424836601307,\n",
       "   'TTGTT': 0.31209150326797386,\n",
       "   'TTCTT': 0.46895424836601307}])"
      ]
     },
     "execution_count": 114,
     "metadata": {},
     "output_type": "execute_result"
    }
   ],
   "source": [
    "model[\"AAAAA\"], model_1024[\"TTTTT\"]"
   ]
  },
  {
   "cell_type": "code",
   "execution_count": 115,
   "metadata": {},
   "outputs": [],
   "source": [
    "with open('Model_fivemer_genomeWide_512doubled_2021_09_03.txt', 'w') as outfile:\n",
    "    json.dump(model_1024, outfile)"
   ]
  },
  {
   "cell_type": "markdown",
   "metadata": {},
   "source": [
    "## **calculating overall mean**"
   ]
  },
  {
   "cell_type": "code",
   "execution_count": 117,
   "metadata": {},
   "outputs": [],
   "source": [
    "muts_list_1024 = []\n",
    "for value in model_1024.values(): \n",
    "    muts_list_1024.append(value[0])"
   ]
  },
  {
   "cell_type": "code",
   "execution_count": 120,
   "metadata": {},
   "outputs": [
    {
     "data": {
      "text/plain": [
       "6.164895371853912e-05"
      ]
     },
     "execution_count": 120,
     "metadata": {},
     "output_type": "execute_result"
    }
   ],
   "source": [
    "np.mean(muts_list_1024)"
   ]
  },
  {
   "cell_type": "code",
   "execution_count": 124,
   "metadata": {},
   "outputs": [],
   "source": [
    "muts_list_512 = []\n",
    "for x in muts_list_1024: \n",
    "    if x not in muts_list_512: \n",
    "        muts_list_512.append(x)"
   ]
  },
  {
   "cell_type": "code",
   "execution_count": 144,
   "metadata": {},
   "outputs": [
    {
     "data": {
      "text/plain": [
       "(array([438.,  10.,   0.,   3.,  12.,  20.,  17.,   6.,   4.,   2.]),\n",
       " array([5.89098150e-06, 5.58285522e-05, 1.05766123e-04, 1.55703693e-04,\n",
       "        2.05641264e-04, 2.55578835e-04, 3.05516405e-04, 3.55453976e-04,\n",
       "        4.05391547e-04, 4.55329117e-04, 5.05266688e-04]),\n",
       " <BarContainer object of 10 artists>)"
      ]
     },
     "execution_count": 144,
     "metadata": {},
     "output_type": "execute_result"
    },
    {
     "data": {
      "image/png": "[encoded data removed]",
      "text/plain": [
       "<Figure size 432x288 with 1 Axes>"
      ]
     },
     "metadata": {
      "needs_background": "light"
     },
     "output_type": "display_data"
    }
   ],
   "source": [
    "figure(figsize=(8, 9.5))#https://stackoverflow.com/questions/332289/how-do-you-change-the-size-of-figures-drawn-with-matplotlib\n",
    "plt.hist(muts_list_512)\n",
    "plt.xlabel(\"Relative mutability\", size=17)\n",
    "plt.xticks(rotation=45, size = 16)\n",
    "plt.yticks(size = 16)\n",
    "plt.title(\"Histogram of mutability in the 5-mer model\", size = 18)\n",
    "\n",
    "plt.show()\n",
    "# plt.savefig(\"plots/mutabilityHistogram_5merModel_2021_09_14.png\")"
   ]
  },
  {
   "cell_type": "markdown",
   "metadata": {},
   "source": [
    "**438 5-mers in the lowest bin (which has min value of 5.89e-06)**\n",
    "- 5.05266688e-04 is highest mutability "
   ]
  }
 ],
 "metadata": {
  "kernelspec": {
   "display_name": "Python [conda env:.conda-mutEq]",
   "language": "python",
   "name": "conda-env-.conda-mutEq-py"
  },
  "language_info": {
   "codemirror_mode": {
    "name": "ipython",
    "version": 3
   },
   "file_extension": ".py",
   "mimetype": "text/x-python",
   "name": "python",
   "nbconvert_exporter": "python",
   "pygments_lexer": "ipython3",
   "version": "3.9.6"
  }
 },
 "nbformat": 4,
 "nbformat_minor": 4
}
