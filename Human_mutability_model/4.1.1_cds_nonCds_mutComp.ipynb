{
 "cells": [
  {
   "cell_type": "markdown",
   "id": "68e68199-3d18-48e5-8959-e6503adb2314",
   "metadata": {},
   "source": [
    "# **mutation rate in coding vs non coding**"
   ]
  },
  {
   "cell_type": "markdown",
   "id": "168946f5-f1a9-49d9-a203-db95518a908f",
   "metadata": {},
   "source": [
    "- below is a preliminary analysis of the overall mutability in coding vs noncoding regions. this is not definitive as the # of non coding sites include all sites in the genome that are not in codons (ie doesnt account for seqeunce coverage)\n",
    "- the Jonsson paper does not specify how many callable sites are in each seqeunce class (ie 2,682,890,000 overall bp in coverage) so the below calculation is not necessarily accurate"
   ]
  },
  {
   "cell_type": "code",
   "execution_count": 1,
   "id": "76e71d8f-5767-4f1d-9203-3ffb6c1c0dcd",
   "metadata": {},
   "outputs": [],
   "source": [
    "import json "
   ]
  },
  {
   "cell_type": "code",
   "execution_count": 11,
   "id": "159ce725-3f05-4783-b0b5-fe87fcfb0288",
   "metadata": {},
   "outputs": [],
   "source": [
    "coding_trips = json.load(open(\"tripCount_cds_2021_09_15_robFile.txt\"))\n",
    "coding_muts = json.load(open(\"MutDict_intergenic_2021_09_16.txt\"))\n",
    "noncoding_trips = json.load(open(\"tripCount_nonCds_2021_09_15.txt\"))\n",
    "intergenic_muts = json.load(open(\"MutDict_coding_2021_09_16.txt\"))\n",
    "intron_muts = json.load(open(\"MutDict_intron_2021_09_16.txt\"))"
   ]
  },
  {
   "cell_type": "code",
   "execution_count": 12,
   "id": "f954c3fd-3eaf-41af-aabc-1125fd5cfe8c",
   "metadata": {},
   "outputs": [],
   "source": [
    "coding_trips_count = 0\n",
    "coding_muts_count = 0\n",
    "noncoding_trips_count = 0\n",
    "noncoding_muts_count = 0\n",
    "for triplet,coding_mut_val in coding_muts.items():\n",
    "    coding_muts_count += coding_mut_val[0]\n",
    "    coding_trips_count += coding_trips[triplet]\n",
    "    noncoding_trips_count += noncoding_trips[triplet]\n",
    "    noncoding_muts_count += intergenic_muts[triplet][0] #adding intergenic muts\n",
    "    noncoding_muts_count += intron_muts[triplet][0] #adding intronic muts "
   ]
  },
  {
   "cell_type": "code",
   "execution_count": 13,
   "id": "79048a0a-c14e-425f-bbb5-50992f49f97a",
   "metadata": {},
   "outputs": [
    {
     "data": {
      "text/plain": [
       "(42486, 35258968, 'mutations per bp in coding is', 0.0012049700376936727)"
      ]
     },
     "execution_count": 13,
     "metadata": {},
     "output_type": "execute_result"
    }
   ],
   "source": [
    "coding_muts_count, coding_trips_count, \"mutations per bp in coding is\", coding_muts_count/coding_trips_count"
   ]
  },
  {
   "cell_type": "code",
   "execution_count": 14,
   "id": "66a69639-7b3e-4fbb-96ca-5926103458b2",
   "metadata": {},
   "outputs": [
    {
     "data": {
      "text/plain": [
       "(56017, 1632537318, 'mutations per bp in noncoding is', 3.431284503108676e-05)"
      ]
     },
     "execution_count": 14,
     "metadata": {},
     "output_type": "execute_result"
    }
   ],
   "source": [
    "noncoding_muts_count, noncoding_trips_count, \"mutations per bp in noncoding is\", noncoding_muts_count/noncoding_trips_count"
   ]
  }
 ],
 "metadata": {
  "kernelspec": {
   "display_name": "Python [conda env:.conda-mutEq]",
   "language": "python",
   "name": "conda-env-.conda-mutEq-py"
  },
  "language_info": {
   "codemirror_mode": {
    "name": "ipython",
    "version": 3
   },
   "file_extension": ".py",
   "mimetype": "text/x-python",
   "name": "python",
   "nbconvert_exporter": "python",
   "pygments_lexer": "ipython3",
   "version": "3.9.6"
  }
 },
 "nbformat": 4,
 "nbformat_minor": 5
}
