{
 "cells": [
  {
   "cell_type": "markdown",
   "id": "8730400e-af8b-4250-8f09-d64fa5ed7b96",
   "metadata": {},
   "source": [
    "# **making cds and non-cds specific models**"
   ]
  },
  {
   "cell_type": "code",
   "execution_count": 18,
   "id": "8b51cc4e-ce61-402b-ba4f-8cf1f1bf1e53",
   "metadata": {},
   "outputs": [],
   "source": [
    "import json \n",
    "from Bio import SeqIO"
   ]
  },
  {
   "cell_type": "markdown",
   "id": "bac9b75a-eb66-48e3-86ac-31f2db06e8b0",
   "metadata": {},
   "source": [
    "**getting mutationa dn intergenic/coding fastas**"
   ]
  },
  {
   "cell_type": "code",
   "execution_count": 17,
   "id": "bf758300-365a-4499-a54e-3eae0f430eee",
   "metadata": {},
   "outputs": [],
   "source": [
    "%%bash \n",
    "cp ../NonCoding_Coding_Sims/data/fivemer_sims/Homo_sapiens.GRCh38.cds.all.fa data/\n",
    "cp ../NonCoding_Coding_Sims/data/fivemer_sims/intergenic.fasta data/"
   ]
  },
  {
   "cell_type": "markdown",
   "id": "6248cade-8d2f-4d6d-b3de-322caffa47d0",
   "metadata": {},
   "source": [
    "## **making the triplet freqeuncy dictionaries**"
   ]
  },
  {
   "cell_type": "code",
   "execution_count": 19,
   "id": "7e6c416e-bb44-41ce-ac1d-f609fdfe9780",
   "metadata": {},
   "outputs": [],
   "source": [
    "coding_trip_freqs = {}\n",
    "noncoding_trip_freqs = {}\n",
    "bases = [\"A\",\"T\",\"G\",\"C\"]\n",
    "for base1 in bases: \n",
    "    for base2 in bases: \n",
    "        for base3 in bases: \n",
    "            coding_trip_freqs[base1+base2+base3] = 0\n",
    "            noncoding_trip_freqs[base1+base2+base3]=0"
   ]
  },
  {
   "cell_type": "code",
   "execution_count": 27,
   "id": "64b8e2b6-5cf2-4305-8e37-7d0798fa06f4",
   "metadata": {},
   "outputs": [],
   "source": [
    "for secReq in SeqIO.parse(open(\"data/Homo_sapiens.GRCh38.cds.all.fa\"),\"fasta\"): \n",
    "    for i in range(1,len(secReq.seq)-1): \n",
    "        triplet = str(secReq.seq[i-1:i+2]).upper()\n",
    "        if \"N\" not in triplet: \n",
    "            coding_trip_freqs[triplet]+=1\n",
    "        "
   ]
  },
  {
   "cell_type": "code",
   "execution_count": 32,
   "id": "88c5c55c-4044-4834-abbf-ed9ecaf6f225",
   "metadata": {},
   "outputs": [],
   "source": [
    "for secReq in SeqIO.parse(open(\"data/intergenic.fasta\"),\"fasta\"): \n",
    "    for i in range(1,len(secReq.seq)-1): \n",
    "        triplet = str(secReq.seq[i-1:i+2]).upper()\n",
    "        if \"N\" not in triplet: \n",
    "            noncoding_trip_freqs[triplet]+=1"
   ]
  },
  {
   "cell_type": "code",
   "execution_count": 34,
   "id": "99729c7c-c779-4e69-a815-92011db2e92f",
   "metadata": {},
   "outputs": [],
   "source": [
    "with open('tripCount_cds_2021_09_15.txt', 'w') as outfile:\n",
    "    json.dump(coding_trip_freqs, outfile)"
   ]
  },
  {
   "cell_type": "code",
   "execution_count": 35,
   "id": "92f28afb-6116-4e5b-9fd3-4a76f93e43b6",
   "metadata": {},
   "outputs": [],
   "source": [
    "with open('tripCount_nonCds_2021_09_15.txt', 'w') as outfile:\n",
    "    json.dump(noncoding_trip_freqs, outfile)"
   ]
  }
 ],
 "metadata": {
  "kernelspec": {
   "display_name": "Python [conda env:.conda-mutEq]",
   "language": "python",
   "name": "conda-env-.conda-mutEq-py"
  },
  "language_info": {
   "codemirror_mode": {
    "name": "ipython",
    "version": 3
   },
   "file_extension": ".py",
   "mimetype": "text/x-python",
   "name": "python",
   "nbconvert_exporter": "python",
   "pygments_lexer": "ipython3",
   "version": "3.9.6"
  }
 },
 "nbformat": 4,
 "nbformat_minor": 5
}
