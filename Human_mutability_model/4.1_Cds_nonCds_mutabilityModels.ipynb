{
 "cells": [
  {
   "cell_type": "markdown",
   "id": "758585be-ebaa-433e-93b1-4bdd20b00dd0",
   "metadata": {},
   "source": [
    "# **creating the cds and noncds mutation models**"
   ]
  },
  {
   "cell_type": "code",
   "execution_count": 1,
   "id": "ca48c6fa-3878-46d8-905a-45bc3e23a36e",
   "metadata": {},
   "outputs": [],
   "source": [
    "import pysam \n",
    "from Bio import AlignIO\n",
    "from tqdm import tqdm \n",
    "import json \n",
    "import matplotlib.pyplot as plt\n",
    "import numpy as np \n",
    "from matplotlib.pyplot import figure"
   ]
  },
  {
   "cell_type": "markdown",
   "id": "50a55487-0848-461d-9d2b-d0a22f672db1",
   "metadata": {},
   "source": [
    "**getting the annotation file**"
   ]
  },
  {
   "cell_type": "code",
   "execution_count": 3,
   "id": "019925aa-3568-4a5e-9294-8b42d25c46c6",
   "metadata": {},
   "outputs": [],
   "source": [
    "!cp /research/references/hsapiens/hg38/hg38.ncbiRefSeq.gtf.gz data/"
   ]
  },
  {
   "cell_type": "code",
   "execution_count": 11,
   "id": "5532292f-963b-4692-b863-9580af0078f5",
   "metadata": {},
   "outputs": [],
   "source": [
    "!gunzip data/hg38.ncbiRefSeq.gtf.gz"
   ]
  },
  {
   "cell_type": "code",
   "execution_count": 12,
   "id": "1426dce6-fa3d-48c8-9ebd-3f5130136862",
   "metadata": {
    "jupyter": {
     "source_hidden": true
    },
    "tags": []
   },
   "outputs": [],
   "source": [
    "%%bash \n",
    "(grep ^\"#\" data/hg38.ncbiRefSeq.gtf; grep -v ^\"#\" data/hg38.ncbiRefSeq.gtf | sort -k1,1 -k4,4n) | bgzip > data/hg38.ncbiRefSeq_sortedgff.bgz"
   ]
  },
  {
   "cell_type": "code",
   "execution_count": 13,
   "id": "aa45c0cc-1e10-45fa-a934-72c3c134333d",
   "metadata": {
    "tags": []
   },
   "outputs": [],
   "source": [
    "!tabix -p gff data/hg38.ncbiRefSeq_sortedgff.bgz"
   ]
  },
  {
   "cell_type": "code",
   "execution_count": 32,
   "id": "ff2304a0-231f-4c12-8dcd-779f12ba3d46",
   "metadata": {
    "tags": []
   },
   "outputs": [
    {
     "name": "stdout",
     "output_type": "stream",
     "text": [
      " 127169 3UTR\n",
      " 247915 5UTR\n",
      "1440848 CDS\n",
      "1911608 exon\n",
      " 118545 start_codon\n",
      " 118439 stop_codon\n",
      " 166923 transcript\n"
     ]
    }
   ],
   "source": [
    "!zcat data/hg38.ncbiRefSeq_sortedgff.bgz| cut -f 3 | sort | uniq -c \n",
    "#so this gff is of coding regions only "
   ]
  },
  {
   "cell_type": "markdown",
   "id": "30b6f1fe-81cd-4a05-9912-682ae1755123",
   "metadata": {},
   "source": [
    "**generating the fastas dictionary** "
   ]
  },
  {
   "cell_type": "code",
   "execution_count": 10,
   "id": "176d1ae1-89a1-4449-99d8-c15990122228",
   "metadata": {},
   "outputs": [],
   "source": [
    "list_chroms = ['chr' + str(i) for i in range(1, 23)]\n",
    "fastas_dict = {}   # creating dictionary with fasta alignment, length of seq, \n",
    "for chrom in list_chroms:\n",
    "    filename_tmp = \"data/hg38_seq/{c}.fa\".format(c=chrom)\n",
    "    fastas_dict[chrom] = []\n",
    "    fastas_dict[chrom].append(AlignIO.read(open(filename_tmp),\"fasta\"))\n",
    "    alignment_tmp = fastas_dict[chrom][0]\n",
    "    fastas_dict[chrom].append(len(str(alignment_tmp[0].seq)))"
   ]
  },
  {
   "cell_type": "markdown",
   "id": "4c99130f-7a03-4b8a-97e5-030ad1368eb1",
   "metadata": {},
   "source": [
    "**reading in mutationfile**"
   ]
  },
  {
   "cell_type": "code",
   "execution_count": 11,
   "id": "aaf647e5-1b7c-4ce7-9d5b-7c4a8c8adcf0",
   "metadata": {},
   "outputs": [],
   "source": [
    "mutations_lines = open(\"data/nature24018-s2/Aging_Oocytes_Supplementary_Table_DNMs_wrangled_unique.tsv\").readlines()"
   ]
  },
  {
   "cell_type": "markdown",
   "id": "39b2de33-74a4-4ba4-806f-6f1347041fdf",
   "metadata": {},
   "source": [
    "## **making the cds and nonCds mutation dictionaries**"
   ]
  },
  {
   "cell_type": "code",
   "execution_count": 53,
   "id": "b9d97fc4-936c-4d2e-a63f-866d9e66b055",
   "metadata": {},
   "outputs": [],
   "source": [
    "coding_muts = {}\n",
    "noncoding_muts = {}\n",
    "intron_muts = {}\n",
    "bases = [\"A\",\"T\",\"G\",\"C\"]\n",
    "for base1 in bases: \n",
    "    for base2 in bases: \n",
    "        for base3 in bases: \n",
    "            coding_muts[base1+base2+base3] = [0,{}]\n",
    "            noncoding_muts[base1+base2+base3] = [0,{}]\n",
    "            intron_muts[base1+base2+base3] = [0,{}]\n",
    "            for base_changing in bases: \n",
    "                if base_changing != base2: \n",
    "                    coding_muts[base1+base2+base3][1][base1+base_changing+base3] = 0\n",
    "                    noncoding_muts[base1+base2+base3][1][base1+base_changing+base3] = 0\n",
    "                    intron_muts[base1+base2+base3][1][base1+base_changing+base3] = 0\n"
   ]
  },
  {
   "cell_type": "code",
   "execution_count": 59,
   "id": "c5f4794b-d8cb-48bc-9040-3df85c05846a",
   "metadata": {},
   "outputs": [
    {
     "name": "stderr",
     "output_type": "stream",
     "text": [
      "100%|████████████████████████████████████████████████████████████████████████████████████████████████| 100437/100437 [1:04:18<00:00, 26.03it/s]\n"
     ]
    }
   ],
   "source": [
    "list_fuck_ups = []\n",
    "indels = []\n",
    "gff_filename = \"data/hg38.ncbiRefSeq_sortedgff.bgz\"\n",
    "\n",
    "for line in tqdm(mutations_lines[1:]): \n",
    "    chrom = line.split()[0]\n",
    "    if chrom in list_chroms:\n",
    "        site = int(line.split()[1])\n",
    "        #print(site)\n",
    "\n",
    "        alignment = fastas_dict[chrom][0]\n",
    "\n",
    "        Ref_bp = line.split()[2].upper()\n",
    "        New_bp = line.split()[3].upper()\n",
    "        Ref_triplet= (str(alignment[0,site-2:site+1].seq)).upper() #tried and true values (the mutations file is 1-based so need to sub)\n",
    "        New_triplet = (str(alignment[0,site-2])+str(New_bp)+str(alignment[0,site])).upper()\n",
    "\n",
    "        if Ref_triplet == New_triplet: \n",
    "            #print(Ref_triplet +\" \"+New_triplet+\" \"+str(row_split_tmp[0])+\"    \"++\"   \"+(str(alignment[0,site[1]-2])+\" \"+Ref_bp+\"   \"+str(alignment[0,site[1]])+\" \"+New_bp)\n",
    "            list_fuck_ups.append([Ref_triplet, New_triplet, line.split()])\n",
    "        elif  len(Ref_triplet) == 3 and  len(New_triplet)==3 and \"N\" not in Ref_triplet: \n",
    "            #ok now time to add to dictionary \n",
    "            if not [record for record in pysam.Tabixfile(gff_filename).fetch(chrom, site, site+1)]: #both the gff and mutations file are 1-based\n",
    "                noncoding_muts[Ref_triplet][0]+=1\n",
    "                noncoding_muts[Ref_triplet][1][New_triplet] += 1 \n",
    "            else: \n",
    "                seqcrec = [record for record in pysam.Tabixfile(gff_filename).fetch(chrom, site, site+1)]\n",
    "                if any(\"CDS\" in s for s in seqcrec) or any(\"exon\" in s for s in seqcrec): #https://stackoverflow.com/questions/4843158/how-to-check-if-a-string-is-a-substring-of-items-in-a-list-of-strings\n",
    "                    coding_muts[Ref_triplet][0]+=1\n",
    "                    coding_muts[Ref_triplet][1][New_triplet] += 1 \n",
    "                else: #all those that return a value but not inthe CDs or exon should be \n",
    "                    intron_muts[Ref_triplet][0]+=1\n",
    "                    intron_muts[Ref_triplet][1][New_triplet] += 1                 \n",
    " \n",
    "        else: \n",
    "            assert len(New_bp) >= 1\n",
    "            indels.append([Ref_triplet, New_triplet, line.split()]) # we dont want to include indels in our model anyways \n",
    "\n",
    "    "
   ]
  },
  {
   "cell_type": "code",
   "execution_count": 61,
   "id": "e4f0d7ac-acf7-4895-bcda-5610b6e19059",
   "metadata": {},
   "outputs": [
    {
     "data": {
      "text/plain": [
       "([888, {'ATA': 153, 'AGA': 483, 'ACA': 252}],\n",
       " [76, {'ATA': 14, 'AGA': 41, 'ACA': 21}])"
      ]
     },
     "execution_count": 61,
     "metadata": {},
     "output_type": "execute_result"
    }
   ],
   "source": [
    "intron_muts[\"AAA\"], coding_muts[\"AAA\"]"
   ]
  },
  {
   "cell_type": "code",
   "execution_count": 64,
   "id": "d78659ce-a10e-4e4a-ae27-4d01813e1eb5",
   "metadata": {},
   "outputs": [],
   "source": [
    "with open('MutDict_coding_2021_09_16.txt', 'w') as outfile:\n",
    "    json.dump(coding_muts, outfile)"
   ]
  },
  {
   "cell_type": "code",
   "execution_count": 63,
   "id": "98f95481-3ff5-40c1-aed0-16db23e7a437",
   "metadata": {},
   "outputs": [],
   "source": [
    "with open('MutDict_intergenic_2021_09_16.txt', 'w') as outfile:\n",
    "    json.dump(noncoding_muts, outfile)\n",
    "    \n",
    "with open('MutDict_intron_2021_09_16.txt', 'w') as outfile:\n",
    "    json.dump(intron_muts, outfile)"
   ]
  },
  {
   "cell_type": "code",
   "execution_count": 65,
   "id": "953d1e6b-ea13-4bdf-a16f-1236db5a15cc",
   "metadata": {},
   "outputs": [
    {
     "name": "stdout",
     "output_type": "stream",
     "text": [
      "-2 mutations excluded as they are in sex chromosomes\n",
      "4902 coding mutations\n",
      "42486 noncoding mutations\n",
      "51115 intron mutations\n"
     ]
    }
   ],
   "source": [
    "sum_coding = 0\n",
    "sum_noncoding = 0\n",
    "sum_intron = 0\n",
    "for val in coding_muts.values(): \n",
    "    sum_coding+=val[0]\n",
    "for val in noncoding_muts.values(): \n",
    "    sum_noncoding+=val[0]\n",
    "for val in intron_muts.values(): \n",
    "    sum_intron+=val[0]\n",
    "print(sum_coding+ sum_noncoding+sum_intron+ len(indels) - len(mutations_lines), \"mutations excluded as they are in sex chromosomes\")\n",
    "print(sum_coding,\"coding mutations\")\n",
    "print(sum_noncoding, \"noncoding mutations\")\n",
    "print(sum_intron, \"intron mutations\")"
   ]
  },
  {
   "cell_type": "markdown",
   "id": "0f83718f-21a1-4d30-8d2c-138a9da86043",
   "metadata": {},
   "source": [
    "# **ok make the model**"
   ]
  },
  {
   "cell_type": "code",
   "execution_count": 20,
   "id": "118e9b65-4ab3-4f7b-8813-0340384fe60d",
   "metadata": {},
   "outputs": [],
   "source": [
    "#importing the triplet coutns \n",
    "coding_trips = json.load(open(\"tripCount_cds_2021_09_15_robFile.txt\"))\n",
    "noncoding_trips = json.load(open(\"tripCount_nonCds_2021_09_15.txt\"))"
   ]
  },
  {
   "cell_type": "code",
   "execution_count": 21,
   "id": "d1278211-f751-4495-b483-3caee164af0e",
   "metadata": {},
   "outputs": [],
   "source": [
    "#importing the triplet coutns \n",
    "coding_muts = json.load(open(\"MutDict_coding_2021_09_16.txt\"))\n",
    "noncoding_muts= json.load(open(\"MutDict_intergenic_2021_09_16.txt\"))"
   ]
  },
  {
   "cell_type": "code",
   "execution_count": 22,
   "id": "17295478-a73d-48d7-845e-751989342974",
   "metadata": {},
   "outputs": [],
   "source": [
    "coding_sum = 0\n",
    "noncoding_sum = 0\n",
    "for val in coding_trips.values(): \n",
    "    coding_sum+=val\n",
    "for val in noncoding_trips.values(): \n",
    "    noncoding_sum+=val"
   ]
  },
  {
   "cell_type": "code",
   "execution_count": 23,
   "id": "29012f02-8770-4234-8919-b555b05c54e9",
   "metadata": {},
   "outputs": [
    {
     "name": "stdout",
     "output_type": "stream",
     "text": [
      "number of triplets from the coding fasta is 35258968\n",
      "number of triplets from the intergenic fasta is 1632537318\n"
     ]
    }
   ],
   "source": [
    "print(\"number of triplets from the coding fasta is\",coding_sum)\n",
    "print(\"number of triplets from the intergenic fasta is\", noncoding_sum)"
   ]
  },
  {
   "cell_type": "code",
   "execution_count": 24,
   "id": "f3a889f6-7112-4cb3-8786-fae9b336f9c6",
   "metadata": {},
   "outputs": [],
   "source": [
    "coding_sum = 0\n",
    "noncoding_sum = 0\n",
    "for val in coding_muts.values(): \n",
    "    coding_sum+=val[0]\n",
    "for val in noncoding_muts.values(): \n",
    "    noncoding_sum+=val[0]"
   ]
  },
  {
   "cell_type": "code",
   "execution_count": 25,
   "id": "53309dbc-f0ca-458d-9701-56a553ba4446",
   "metadata": {},
   "outputs": [
    {
     "name": "stdout",
     "output_type": "stream",
     "text": [
      "number of mutations from the cds 4902\n",
      "number of mutations from the intergenic 42486\n"
     ]
    }
   ],
   "source": [
    "print(\"number of mutations from the cds\",coding_sum)\n",
    "print(\"number of mutations from the intergenic\", noncoding_sum)"
   ]
  },
  {
   "cell_type": "code",
   "execution_count": 26,
   "id": "61df01a1-dcce-4e82-bf6c-19d0e119d971",
   "metadata": {},
   "outputs": [],
   "source": [
    "coding_model = {}\n",
    "coding_live_sum = 0\n",
    "for key, item in coding_muts.items(): \n",
    "    n_muts = item[0]\n",
    "    n_trips = coding_trips[key]\n",
    "    mut = n_muts/n_trips\n",
    "    coding_live_sum+=n_muts\n",
    "    into_dict = {}\n",
    "    for into_trip_key,value in item[1].items(): \n",
    "        into_dict[into_trip_key] = value/n_muts\n",
    "    \n",
    "    coding_model[key] = [mut,into_dict]"
   ]
  },
  {
   "cell_type": "code",
   "execution_count": 27,
   "id": "1d704399-388d-4e71-af7c-981ec3d2901b",
   "metadata": {},
   "outputs": [],
   "source": [
    "noncoding_model = {}\n",
    "for key, item in noncoding_muts.items(): \n",
    "    n_muts = item[0]\n",
    "    n_trips = noncoding_trips[key]\n",
    "    mut = n_muts/n_trips\n",
    "    \n",
    "    into_dict = {}\n",
    "    for into_trip_key,value in item[1].items(): \n",
    "        into_dict[into_trip_key] = value/n_muts\n",
    "    \n",
    "    noncoding_model[key] = [mut,into_dict]"
   ]
  },
  {
   "cell_type": "code",
   "execution_count": 28,
   "id": "621b5f21-a3c6-407a-bbcc-3a1b45eae7fa",
   "metadata": {},
   "outputs": [],
   "source": [
    "with open('Model_2021_09_17_codingNoIntrons_robfile.txt', 'w') as outfile:\n",
    "    json.dump(coding_model, outfile)"
   ]
  },
  {
   "cell_type": "code",
   "execution_count": 74,
   "id": "76309818-7c14-4e16-b2bc-7d8e4237b3ec",
   "metadata": {},
   "outputs": [],
   "source": [
    "with open('Model_2021_09_17_nonCoding.txt', 'w') as outfile:\n",
    "    json.dump(noncoding_model, outfile)"
   ]
  },
  {
   "cell_type": "markdown",
   "id": "54b0baf2-9c43-407e-a6b2-7e516932468f",
   "metadata": {},
   "source": [
    "# **analysing the models a bit**"
   ]
  },
  {
   "cell_type": "code",
   "execution_count": 29,
   "id": "76473c20-eb8b-4258-86d1-a89601740faa",
   "metadata": {},
   "outputs": [],
   "source": [
    "coding_muts_list = []\n",
    "noncoding_muts_list = []\n",
    "triplets = []\n",
    "for triplet,val in coding_model.items(): \n",
    "    triplets.append(triplet)\n",
    "    coding_muts_list.append(val[0])\n",
    "    noncoding_muts_list.append(noncoding_model[triplet][0])"
   ]
  },
  {
   "cell_type": "code",
   "execution_count": 39,
   "id": "a1a3bbc5-f36a-4aed-92b7-5615ef9677a4",
   "metadata": {
    "tags": []
   },
   "outputs": [
    {
     "data": {
      "image/png": "[encoded data removed]",
      "text/plain": [
       "<Figure size 576x684 with 1 Axes>"
      ]
     },
     "metadata": {
      "needs_background": "light"
     },
     "output_type": "display_data"
    }
   ],
   "source": [
    "figure(figsize=(8, 9.5))#https://stackoverflow.com/questions/332289/how-do-you-change-the-size-of-figures-drawn-with-matplotlib\n",
    "plt.hist(coding_muts_list)\n",
    "plt.xlabel(\"Relative mutability\", size=17)\n",
    "plt.xticks(rotation=45, size = 16)\n",
    "plt.yticks(size = 16)\n",
    "plt.title(\"Histogram of mutability in the model of coding regions\", size = 18)\n",
    "plt.axvline(x=np.mean(coding_muts_list), color=\"red\")\n",
    "# plt.savefig(\"plots/mutabilityHistogram_codingModel_2021_09_17_noIntrons_nonverlapCDS.png\")"
   ]
  },
  {
   "cell_type": "code",
   "execution_count": 31,
   "id": "30112f82-9757-4c97-be64-de204c6a828b",
   "metadata": {
    "tags": []
   },
   "outputs": [
    {
     "data": {
      "text/plain": [
       "<matplotlib.lines.Line2D at 0x7f89f1626520>"
      ]
     },
     "execution_count": 31,
     "metadata": {},
     "output_type": "execute_result"
    },
    {
     "data": {
      "image/png": "[encoded data removed]",
      "text/plain": [
       "<Figure size 576x684 with 1 Axes>"
      ]
     },
     "metadata": {
      "needs_background": "light"
     },
     "output_type": "display_data"
    }
   ],
   "source": [
    "figure(figsize=(8, 9.5))#https://stackoverflow.com/questions/332289/how-do-you-change-the-size-of-figures-drawn-with-matplotlib\n",
    "plt.hist(noncoding_muts_list)\n",
    "plt.xlabel(\"Relative mutability\", size=17)\n",
    "plt.xticks(rotation=35, size = 16)\n",
    "# plt.xticks( size = 16)\n",
    "plt.yticks(size = 16)\n",
    "plt.title(\"Histogram of mutability in the model of non coding regions\", size = 18)\n",
    "plt.axvline(x=np.mean(noncoding_muts_list), color=\"red\")\n",
    "# plt.savefig(\"plots/mutabilityHistogram_noncodingModel_2021_09_17.png\")"
   ]
  },
  {
   "cell_type": "code",
   "execution_count": 37,
   "id": "a3f95578-163e-4e49-b764-88fbdf2ab48f",
   "metadata": {},
   "outputs": [
    {
     "name": "stdout",
     "output_type": "stream",
     "text": [
      "average coding model mutability is 0.00017513023854836952 plus or minus 2.1867692658684335e-05\n"
     ]
    }
   ],
   "source": [
    "print(\"average coding model mutability is\",np.mean(coding_muts_list),\"plus or minus\",np.std(coding_muts_list)/np.sqrt(len(coding_muts)))"
   ]
  },
  {
   "cell_type": "code",
   "execution_count": 38,
   "id": "1b628f5a-5d6d-4201-9fa1-5efcec8160d6",
   "metadata": {},
   "outputs": [
    {
     "name": "stdout",
     "output_type": "stream",
     "text": [
      "average noncoding model mutability is 5.0791956211746186e-05 plus or minus 9.495964712774053e-06\n"
     ]
    }
   ],
   "source": [
    "print(\"average noncoding model mutability is\",np.mean(noncoding_muts_list),\"plus or minus\",np.std(noncoding_muts_list)/np.sqrt(len(noncoding_muts)))"
   ]
  },
  {
   "cell_type": "code",
   "execution_count": 34,
   "id": "c61a510c-038a-4a2c-9a20-6253d6632ff5",
   "metadata": {},
   "outputs": [
    {
     "data": {
      "text/plain": [
       "('coding is', 3.447991603597043, 'the size of noncoding')"
      ]
     },
     "execution_count": 34,
     "metadata": {},
     "output_type": "execute_result"
    }
   ],
   "source": [
    "\"coding is\",np.mean(coding_muts_list)/np.mean(noncoding_muts_list),\"the size of noncoding\""
   ]
  },
  {
   "cell_type": "code",
   "execution_count": 83,
   "id": "d3c8ad89-df79-40bd-86be-6738c312521d",
   "metadata": {},
   "outputs": [
    {
     "data": {
      "text/plain": [
       "(1.938398624915358e-05, 2.602451994913601e-05)"
      ]
     },
     "execution_count": 83,
     "metadata": {},
     "output_type": "execute_result"
    }
   ],
   "source": [
    "4902/252889160=1.93e-05, 42486/ 1632537318 = 2.60e-05"
   ]
  },
  {
   "cell_type": "code",
   "execution_count": 90,
   "id": "c01fab82-fc8e-4084-acda-7b7f13119220",
   "metadata": {
    "collapsed": true,
    "jupyter": {
     "outputs_hidden": true
    },
    "tags": []
   },
   "outputs": [
    {
     "name": "stdout",
     "output_type": "stream",
     "text": [
      "AAA 0.1917372258945301\n",
      "AAT 0.28893577239057566\n",
      "AAG -0.7723723666846148\n",
      "AAC -0.44875531671252167\n",
      "ATA 0.38333446739786564\n",
      "ATT 0.05689959534300203\n",
      "ATG -0.4901164439981584\n",
      "ATC -1.1091824412986975\n",
      "AGA -0.7727437990563057\n",
      "AGT -0.46358305065754823\n",
      "AGG -0.4447352568238197\n",
      "AGC -0.7381048565184309\n",
      "ACA -0.5240269455804824\n",
      "ACT -0.2939148739920923\n",
      "ACG -1.8745390076510873\n",
      "ACC -0.9221324268136362\n",
      "TAA 0.31422191418450235\n",
      "TAT -0.11978264164034579\n",
      "TAG 0.006512753060956394\n",
      "TAC -0.4941681214025034\n",
      "TTA 0.25494479685787563\n",
      "TTT 0.3372018005344883\n",
      "TTG -0.33744628442034086\n",
      "TTC -0.4791826204182796\n",
      "TGA -0.678143302795735\n",
      "TGT -0.4039941478915061\n",
      "TGG -0.8867049549113131\n",
      "TGC -0.6203638119757212\n",
      "TCA -0.44650523229527156\n",
      "TCT -0.03472159588559103\n",
      "TCG -1.4088400785247988\n",
      "TCC -0.39215931734906184\n",
      "GAA -0.6048422473346948\n",
      "GAT -1.2125314895332393\n",
      "GAG -0.7722438601502805\n",
      "GAC -0.9526610978759787\n",
      "GTA 0.026928019271543157\n",
      "GTT -0.09887262784663622\n",
      "GTG -0.4906933211700909\n",
      "GTC -0.9577231665527854\n",
      "GGA -1.0596284318150264\n",
      "GGT -0.46703559182542753\n",
      "GGG -0.5643070852578421\n",
      "GGC -1.378143939453279\n",
      "GCA -1.0872381439482897\n",
      "GCT -0.8258269671944372\n",
      "GCG -2.051463680911064\n",
      "GCC -2.389697106126059\n",
      "CAA -0.8180548542279593\n",
      "CAT -0.2615643064147075\n",
      "CAG -0.693877445146208\n",
      "CAC -0.5516813063074478\n",
      "CTA -0.5812083967908805\n",
      "CTT 0.12464542476114242\n",
      "CTG -0.6848941734250988\n",
      "CTC -0.3798438747474506\n",
      "CGA -2.3610712654971806\n",
      "CGT -1.2237446536733638\n",
      "CGG -1.6717968318589227\n",
      "CGC -2.4458987900327376\n",
      "CCA -0.9615260123600116\n",
      "CCT -0.8229483241143748\n",
      "CCG -2.54939714409485\n",
      "CCC -0.7346769703082489\n"
     ]
    }
   ],
   "source": [
    "for t,c,n in zip(triplets,coding_muts,noncoding_muts): \n",
    "    print(t,(c-n)/c)"
   ]
  },
  {
   "cell_type": "code",
   "execution_count": null,
   "id": "94915028-ff59-4f62-9cf2-fe7842531762",
   "metadata": {},
   "outputs": [],
   "source": [
    "coding_model[\"CGC\"]"
   ]
  },
  {
   "cell_type": "code",
   "execution_count": null,
   "id": "e02661c9-a448-44a3-a9f7-bcd841ef9018",
   "metadata": {},
   "outputs": [],
   "source": []
  }
 ],
 "metadata": {
  "kernelspec": {
   "display_name": "Python [conda env:.conda-mutEq]",
   "language": "python",
   "name": "conda-env-.conda-mutEq-py"
  },
  "language_info": {
   "codemirror_mode": {
    "name": "ipython",
    "version": 3
   },
   "file_extension": ".py",
   "mimetype": "text/x-python",
   "name": "python",
   "nbconvert_exporter": "python",
   "pygments_lexer": "ipython3",
   "version": "3.9.6"
  }
 },
 "nbformat": 4,
 "nbformat_minor": 5
}
