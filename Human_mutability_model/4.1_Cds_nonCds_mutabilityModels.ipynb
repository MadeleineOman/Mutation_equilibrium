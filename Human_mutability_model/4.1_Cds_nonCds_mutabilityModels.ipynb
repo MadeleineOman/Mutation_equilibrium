{
 "cells": [
  {
   "cell_type": "markdown",
   "id": "758585be-ebaa-433e-93b1-4bdd20b00dd0",
   "metadata": {},
   "source": [
    "# **creating the cds and noncds mutation models**"
   ]
  },
  {
   "cell_type": "code",
   "execution_count": 115,
   "id": "ca48c6fa-3878-46d8-905a-45bc3e23a36e",
   "metadata": {},
   "outputs": [],
   "source": [
    "import pysam \n",
    "from Bio import AlignIO\n",
    "from tqdm import tqdm \n",
    "import json \n",
    "import matplotlib.pyplot as plt\n",
    "import numpy as np \n",
    "from matplotlib.pyplot import figure"
   ]
  },
  {
   "cell_type": "markdown",
   "id": "50a55487-0848-461d-9d2b-d0a22f672db1",
   "metadata": {},
   "source": [
    "**getting the annotation file**"
   ]
  },
  {
   "cell_type": "code",
   "execution_count": 3,
   "id": "019925aa-3568-4a5e-9294-8b42d25c46c6",
   "metadata": {},
   "outputs": [],
   "source": [
    "!cp /research/references/hsapiens/hg38/hg38.ncbiRefSeq.gtf.gz data/"
   ]
  },
  {
   "cell_type": "code",
   "execution_count": 11,
   "id": "5532292f-963b-4692-b863-9580af0078f5",
   "metadata": {},
   "outputs": [],
   "source": [
    "!gunzip data/hg38.ncbiRefSeq.gtf.gz"
   ]
  },
  {
   "cell_type": "code",
   "execution_count": 12,
   "id": "1426dce6-fa3d-48c8-9ebd-3f5130136862",
   "metadata": {
    "jupyter": {
     "source_hidden": true
    },
    "tags": []
   },
   "outputs": [],
   "source": [
    "%%bash \n",
    "(grep ^\"#\" data/hg38.ncbiRefSeq.gtf; grep -v ^\"#\" data/hg38.ncbiRefSeq.gtf | sort -k1,1 -k4,4n) | bgzip > data/hg38.ncbiRefSeq_sortedgff.bgz"
   ]
  },
  {
   "cell_type": "code",
   "execution_count": 13,
   "id": "aa45c0cc-1e10-45fa-a934-72c3c134333d",
   "metadata": {
    "tags": []
   },
   "outputs": [],
   "source": [
    "!tabix -p gff data/hg38.ncbiRefSeq_sortedgff.bgz"
   ]
  },
  {
   "cell_type": "code",
   "execution_count": 32,
   "id": "ff2304a0-231f-4c12-8dcd-779f12ba3d46",
   "metadata": {
    "tags": []
   },
   "outputs": [
    {
     "name": "stdout",
     "output_type": "stream",
     "text": [
      " 127169 3UTR\n",
      " 247915 5UTR\n",
      "1440848 CDS\n",
      "1911608 exon\n",
      " 118545 start_codon\n",
      " 118439 stop_codon\n",
      " 166923 transcript\n"
     ]
    }
   ],
   "source": [
    "!zcat data/hg38.ncbiRefSeq_sortedgff.bgz| cut -f 3 | sort | uniq -c \n",
    "#so this gff is of coding regions only "
   ]
  },
  {
   "cell_type": "markdown",
   "id": "30b6f1fe-81cd-4a05-9912-682ae1755123",
   "metadata": {},
   "source": [
    "**generating the fastas dictionary** "
   ]
  },
  {
   "cell_type": "code",
   "execution_count": 37,
   "id": "176d1ae1-89a1-4449-99d8-c15990122228",
   "metadata": {},
   "outputs": [],
   "source": [
    "list_chroms = ['chr' + str(i) for i in range(1, 23)]\n",
    "fastas_dict = {}   # creating dictionary with fasta alignment, length of seq, \n",
    "for chrom in list_chroms:\n",
    "    filename_tmp = \"data/hg38_seq/{c}.fa\".format(c=chrom)\n",
    "    fastas_dict[chrom] = []\n",
    "    fastas_dict[chrom].append(AlignIO.read(open(filename_tmp),\"fasta\"))\n",
    "    alignment_tmp = fastas_dict[chrom][0]\n",
    "    fastas_dict[chrom].append(len(str(alignment_tmp[0].seq)))"
   ]
  },
  {
   "cell_type": "markdown",
   "id": "4c99130f-7a03-4b8a-97e5-030ad1368eb1",
   "metadata": {},
   "source": [
    "**reading in mutationfile**"
   ]
  },
  {
   "cell_type": "code",
   "execution_count": 2,
   "id": "aaf647e5-1b7c-4ce7-9d5b-7c4a8c8adcf0",
   "metadata": {},
   "outputs": [],
   "source": [
    "mutations_lines = open(\"data/nature24018-s2/Aging_Oocytes_Supplementary_Table_DNMs_wrangled_unique.tsv\").readlines()"
   ]
  },
  {
   "cell_type": "markdown",
   "id": "39b2de33-74a4-4ba4-806f-6f1347041fdf",
   "metadata": {},
   "source": [
    "## **making the cds and nonCds mutation dictionaries**"
   ]
  },
  {
   "cell_type": "code",
   "execution_count": 34,
   "id": "b9d97fc4-936c-4d2e-a63f-866d9e66b055",
   "metadata": {},
   "outputs": [],
   "source": [
    "coding_muts = {}\n",
    "noncoding_muts = {}\n",
    "bases = [\"A\",\"T\",\"G\",\"C\"]\n",
    "for base1 in bases: \n",
    "    for base2 in bases: \n",
    "        for base3 in bases: \n",
    "            coding_muts[base1+base2+base3] = [0,{}]\n",
    "            noncoding_muts[base1+base2+base3] = [0,{}]\n",
    "            for base_changing in bases: \n",
    "                if base_changing != base2: \n",
    "                    coding_muts[base1+base2+base3][1][base1+base_changing+base3] = 0\n",
    "                    noncoding_muts[base1+base2+base3][1][base1+base_changing+base3] = 0\n"
   ]
  },
  {
   "cell_type": "code",
   "execution_count": 71,
   "id": "c5f4794b-d8cb-48bc-9040-3df85c05846a",
   "metadata": {},
   "outputs": [
    {
     "name": "stderr",
     "output_type": "stream",
     "text": [
      "100%|██████████████████████████████████████████████████████████████████████████████████████████████████| 100437/100437 [41:30<00:00, 40.34it/s]\n"
     ]
    }
   ],
   "source": [
    "list_fuck_ups = []\n",
    "indels = []\n",
    "\n",
    "for line in tqdm(mutations_lines[1:]): \n",
    "    chrom = line.split()[0]\n",
    "    if chrom in list_chroms:\n",
    "        site = int(line.split()[1])\n",
    "        #print(site)\n",
    "\n",
    "        alignment = fastas_dict[chrom][0]\n",
    "\n",
    "        Ref_bp = line.split()[2].upper()\n",
    "        New_bp = line.split()[3].upper()\n",
    "        Ref_triplet= (str(alignment[0,site-2:site+1].seq)).upper() #tried and true values (the mutations file is 1-based so need to sub)\n",
    "        New_triplet = (str(alignment[0,site-2])+str(New_bp)+str(alignment[0,site])).upper()\n",
    "\n",
    "        if Ref_triplet == New_triplet: \n",
    "            #print(Ref_triplet +\" \"+New_triplet+\" \"+str(row_split_tmp[0])+\"    \"++\"   \"+(str(alignment[0,site[1]-2])+\" \"+Ref_bp+\"   \"+str(alignment[0,site[1]])+\" \"+New_bp)\n",
    "            list_fuck_ups.append([Ref_triplet, New_triplet, line.split()])\n",
    "        elif  len(Ref_triplet) == 3 and  len(New_triplet)==3 and \"N\" not in Ref_triplet: \n",
    "            #ok now time to add to dictionary \n",
    "            if not [record for record in pysam.Tabixfile(gff_filename).fetch(chrom, site, site+1)]: #both the gff and mutations file are 1-based\n",
    "                noncoding_muts[Ref_triplet][0]+=1\n",
    "                noncoding_muts[Ref_triplet][1][New_triplet] += 1 \n",
    "            else: \n",
    "                coding_muts[Ref_triplet][0]+=1\n",
    "                coding_muts[Ref_triplet][1][New_triplet] += 1 \n",
    " \n",
    "        else: \n",
    "            assert len(New_bp) >= 1\n",
    "            indels.append([Ref_triplet, New_triplet, line.split()]) # we dont want to include indels in our model anyways \n",
    "\n",
    "    "
   ]
  },
  {
   "cell_type": "code",
   "execution_count": 78,
   "id": "d78659ce-a10e-4e4a-ae27-4d01813e1eb5",
   "metadata": {},
   "outputs": [],
   "source": [
    "with open('MutDict_coding_2021_09_15.txt', 'w') as outfile:\n",
    "    json.dump(coding_muts, outfile)"
   ]
  },
  {
   "cell_type": "code",
   "execution_count": 79,
   "id": "98f95481-3ff5-40c1-aed0-16db23e7a437",
   "metadata": {},
   "outputs": [],
   "source": [
    "with open('MutDict_nonCoding_2021_09_15.txt', 'w') as outfile:\n",
    "    json.dump(noncoding_muts, outfile)"
   ]
  },
  {
   "cell_type": "code",
   "execution_count": 87,
   "id": "953d1e6b-ea13-4bdf-a16f-1236db5a15cc",
   "metadata": {},
   "outputs": [
    {
     "name": "stdout",
     "output_type": "stream",
     "text": [
      "61 mutations excluded as they are in sex chromosomes\n",
      "56062 coding mutations\n",
      "42504 noncoding mutations\n"
     ]
    }
   ],
   "source": [
    "sum_coding = 0\n",
    "sum_noncoding = 0\n",
    "for val in coding_muts.values(): \n",
    "    sum_coding+=val[0]\n",
    "for val in noncoding_muts.values(): \n",
    "    sum_noncoding+=val[0]\n",
    "print(sum_coding+ sum_noncoding+len(indels) - len(mutations_lines), \"mutations excluded as they are in sex chromosomes\")\n",
    "print(sum_coding,\"coding mutations\")\n",
    "print(sum_noncoding, \"noncoding mutations\")"
   ]
  },
  {
   "cell_type": "markdown",
   "id": "0f83718f-21a1-4d30-8d2c-138a9da86043",
   "metadata": {},
   "source": [
    "# **ok make the model**"
   ]
  },
  {
   "cell_type": "code",
   "execution_count": 88,
   "id": "118e9b65-4ab3-4f7b-8813-0340384fe60d",
   "metadata": {},
   "outputs": [],
   "source": [
    "#importing the triplet coutns \n",
    "coding_trips = json.load(open(\"tripCount_cds_2021_09_15.txt\"))\n",
    "noncoding_trips = json.load(open(\"tripCount_nonCds_2021_09_15.txt\"))"
   ]
  },
  {
   "cell_type": "code",
   "execution_count": 89,
   "id": "61df01a1-dcce-4e82-bf6c-19d0e119d971",
   "metadata": {},
   "outputs": [],
   "source": [
    "coding_model = {}\n",
    "for key, item in coding_muts.items(): \n",
    "    n_muts = item[0]\n",
    "    n_trips = coding_trips[key]\n",
    "    mut = n_muts/n_trips\n",
    "    \n",
    "    into_dict = {}\n",
    "    for into_trip_key,value in item[1].items(): \n",
    "        into_dict[into_trip_key] = value/n_muts\n",
    "    \n",
    "    coding_model[key] = [mut,into_dict]"
   ]
  },
  {
   "cell_type": "code",
   "execution_count": 93,
   "id": "1d704399-388d-4e71-af7c-981ec3d2901b",
   "metadata": {},
   "outputs": [],
   "source": [
    "noncoding_model = {}\n",
    "for key, item in noncoding_muts.items(): \n",
    "    n_muts = item[0]\n",
    "    n_trips = noncoding_trips[key]\n",
    "    mut = n_muts/n_trips\n",
    "    \n",
    "    into_dict = {}\n",
    "    for into_trip_key,value in item[1].items(): \n",
    "        into_dict[into_trip_key] = value/n_muts\n",
    "    \n",
    "    noncoding_model[key] = [mut,into_dict]"
   ]
  },
  {
   "cell_type": "code",
   "execution_count": 94,
   "id": "46c97440-f9c8-4cda-a3bc-11f80c724ff2",
   "metadata": {},
   "outputs": [
    {
     "data": {
      "text/plain": [
       "([1.138046272048466e-05,\n",
       "  {'ATA': 0.16874135546334718,\n",
       "   'AGA': 0.5089903181189488,\n",
       "   'ACA': 0.32226832641770403}],\n",
       " [723, {'ATA': 122, 'AGA': 368, 'ACA': 233}],\n",
       " 63529930)"
      ]
     },
     "execution_count": 94,
     "metadata": {},
     "output_type": "execute_result"
    }
   ],
   "source": [
    "noncoding_model[\"AAA\"], noncoding_muts[\"AAA\"], noncoding_trips[\"AAA\"]"
   ]
  },
  {
   "cell_type": "code",
   "execution_count": 95,
   "id": "621b5f21-a3c6-407a-bbcc-3a1b45eae7fa",
   "metadata": {},
   "outputs": [],
   "source": [
    "with open('Model_2021_09_15_coding.txt', 'w') as outfile:\n",
    "    json.dump(coding_model, outfile)"
   ]
  },
  {
   "cell_type": "code",
   "execution_count": 96,
   "id": "76309818-7c14-4e16-b2bc-7d8e4237b3ec",
   "metadata": {},
   "outputs": [],
   "source": [
    "with open('Model_2021_09_15_nonCoding.txt', 'w') as outfile:\n",
    "    json.dump(noncoding_model, outfile)"
   ]
  },
  {
   "cell_type": "markdown",
   "id": "54b0baf2-9c43-407e-a6b2-7e516932468f",
   "metadata": {},
   "source": [
    "# **analysing the models a bit**"
   ]
  },
  {
   "cell_type": "code",
   "execution_count": 98,
   "id": "76473c20-eb8b-4258-86d1-a89601740faa",
   "metadata": {},
   "outputs": [],
   "source": [
    "coding_muts = []\n",
    "noncoding_muts = []\n",
    "for triplet,val in coding_model.items(): \n",
    "    coding_muts.append(val[0])\n",
    "    noncoding_muts.append(noncoding_model[triplet][0])"
   ]
  },
  {
   "cell_type": "code",
   "execution_count": 128,
   "id": "a1a3bbc5-f36a-4aed-92b7-5615ef9677a4",
   "metadata": {
    "collapsed": true,
    "jupyter": {
     "outputs_hidden": true
    },
    "tags": []
   },
   "outputs": [
    {
     "data": {
      "image/png": "[encoded data removed]",
      "text/plain": [
       "<Figure size 576x684 with 1 Axes>"
      ]
     },
     "metadata": {
      "needs_background": "light"
     },
     "output_type": "display_data"
    }
   ],
   "source": [
    "figure(figsize=(8, 9.5))#https://stackoverflow.com/questions/332289/how-do-you-change-the-size-of-figures-drawn-with-matplotlib\n",
    "plt.hist(coding_muts)\n",
    "plt.xlabel(\"Relative mutability\", size=17)\n",
    "plt.xticks(rotation=45, size = 16)\n",
    "plt.yticks(size = 16)\n",
    "plt.title(\"Histogram of mutability in the model of coding regions\", size = 18)\n",
    "plt.axvline(x=np.mean(coding_muts), color=\"red\")\n",
    "# plt.savefig(\"plots/mutabilityHistogram_codingModel_2021_09_15.png\")"
   ]
  },
  {
   "cell_type": "code",
   "execution_count": 129,
   "id": "30112f82-9757-4c97-be64-de204c6a828b",
   "metadata": {
    "collapsed": true,
    "jupyter": {
     "outputs_hidden": true
    },
    "tags": []
   },
   "outputs": [
    {
     "data": {
      "image/png": "[encoded data removed]",
      "text/plain": [
       "<Figure size 576x684 with 1 Axes>"
      ]
     },
     "metadata": {
      "needs_background": "light"
     },
     "output_type": "display_data"
    }
   ],
   "source": [
    "figure(figsize=(8, 9.5))#https://stackoverflow.com/questions/332289/how-do-you-change-the-size-of-figures-drawn-with-matplotlib\n",
    "plt.hist(noncoding_muts)\n",
    "plt.xlabel(\"Relative mutability\", size=17)\n",
    "plt.xticks(rotation=35, size = 16)\n",
    "# plt.xticks( size = 16)\n",
    "plt.yticks(size = 16)\n",
    "plt.title(\"Histogram of mutability in the model of non coding regions\", size = 18)\n",
    "plt.axvline(x=np.mean(noncoding_muts), color=\"red\")\n",
    "# plt.savefig(\"plots/mutabilityHistogram_noncodingModel_2021_09_15.png\")"
   ]
  },
  {
   "cell_type": "code",
   "execution_count": 105,
   "id": "a3f95578-163e-4e49-b764-88fbdf2ab48f",
   "metadata": {},
   "outputs": [
    {
     "data": {
      "text/plain": [
       "('coding', 0.0002782743847789383, 2.7228065621718076e-05)"
      ]
     },
     "execution_count": 105,
     "metadata": {},
     "output_type": "execute_result"
    }
   ],
   "source": [
    "\"coding\",np.mean(coding_muts),np.std(coding_muts)/np.sqrt(len(coding_muts))"
   ]
  },
  {
   "cell_type": "code",
   "execution_count": 106,
   "id": "1b628f5a-5d6d-4201-9fa1-5efcec8160d6",
   "metadata": {},
   "outputs": [
    {
     "data": {
      "text/plain": [
       "('noncoding', 5.0832407922549726e-05, 9.506530119018473e-06)"
      ]
     },
     "execution_count": 106,
     "metadata": {},
     "output_type": "execute_result"
    }
   ],
   "source": [
    "\"noncoding\",np.mean(noncoding_muts),np.std(noncoding_muts)/np.sqrt(len(noncoding_muts))"
   ]
  },
  {
   "cell_type": "code",
   "execution_count": 109,
   "id": "c61a510c-038a-4a2c-9a20-6253d6632ff5",
   "metadata": {},
   "outputs": [
    {
     "data": {
      "text/plain": [
       "('coding is', 5.474349851829333, 'the size of noncoding')"
      ]
     },
     "execution_count": 109,
     "metadata": {},
     "output_type": "execute_result"
    }
   ],
   "source": [
    "\"coding is\",np.mean(coding_muts)/np.mean(noncoding_muts),\"the size of noncoding\""
   ]
  }
 ],
 "metadata": {
  "kernelspec": {
   "display_name": "Python [conda env:.conda-mutEq]",
   "language": "python",
   "name": "conda-env-.conda-mutEq-py"
  },
  "language_info": {
   "codemirror_mode": {
    "name": "ipython",
    "version": 3
   },
   "file_extension": ".py",
   "mimetype": "text/x-python",
   "name": "python",
   "nbconvert_exporter": "python",
   "pygments_lexer": "ipython3",
   "version": "3.9.6"
  }
 },
 "nbformat": 4,
 "nbformat_minor": 5
}
