{
 "cells": [
  {
   "cell_type": "code",
   "execution_count": 4,
   "metadata": {},
   "outputs": [],
   "source": [
    "!python3.8 intronOnly_avMut_2021_03_22.py 1 1000 10"
   ]
  },
  {
   "cell_type": "markdown",
   "metadata": {},
   "source": [
    "**2021 03 30 re running the sim with exona nd introns... need to figure out the exon eq. point*** "
   ]
  },
  {
   "cell_type": "code",
   "execution_count": 14,
   "metadata": {},
   "outputs": [
    {
     "name": "stdout",
     "output_type": "stream",
     "text": [
      "/home/omanmade/.local/lib/python3.8/site-packages/pandas/compat/__init__.py:97: UserWarning: Could not import the lzma module. Your installed Python is incomplete. Attempting to use lzma compression will result in a RuntimeError.\n",
      "  warnings.warn(msg)\n",
      "total number of CDS where len >= 4k is 3473\n",
      "number_of_exons is 1\n",
      "intron_gap is 50\n",
      "note that every intron is the same\n",
      "length of one of the exons is 4074\n",
      "100%|████████████████████████████████████████| 100/100 [00:00<00:00, 266.46it/s]\n"
     ]
    }
   ],
   "source": [
    "!python3.8 intronExon_avMut_2021_03_30_fromCodingNonCodingSims.py Trial2 10000 100000"
   ]
  },
  {
   "cell_type": "markdown",
   "metadata": {},
   "source": [
    "**2021 03 30 look i fucked it up last time*** "
   ]
  },
  {
   "cell_type": "code",
   "execution_count": 16,
   "metadata": {},
   "outputs": [],
   "source": [
    "python3.8 intronExon_avMut_2021_03_30_fromCodingNonCodingSims.py Trial3 100000 10000"
   ]
  }
 ],
 "metadata": {
  "kernelspec": {
   "display_name": "Python 3",
   "language": "python",
   "name": "python3"
  },
  "language_info": {
   "codemirror_mode": {
    "name": "ipython",
    "version": 3
   },
   "file_extension": ".py",
   "mimetype": "text/x-python",
   "name": "python",
   "nbconvert_exporter": "python",
   "pygments_lexer": "ipython3",
   "version": "3.8.5"
  }
 },
 "nbformat": 4,
 "nbformat_minor": 4
}
