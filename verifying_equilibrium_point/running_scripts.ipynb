{
 "cells": [
  {
   "cell_type": "code",
   "execution_count": 4,
   "metadata": {},
   "outputs": [],
   "source": [
    "!python3.8 intronOnly_avMut_2021_03_22.py 1 1000 10"
   ]
  },
  {
   "cell_type": "markdown",
   "metadata": {},
   "source": [
    "**2021 03 30 re running the sim with exona nd introns... need to figure out the exon eq. point*** "
   ]
  },
  {
   "cell_type": "code",
   "execution_count": 14,
   "metadata": {},
   "outputs": [
    {
     "name": "stdout",
     "output_type": "stream",
     "text": [
      "/home/omanmade/.local/lib/python3.8/site-packages/pandas/compat/__init__.py:97: UserWarning: Could not import the lzma module. Your installed Python is incomplete. Attempting to use lzma compression will result in a RuntimeError.\n",
      "  warnings.warn(msg)\n",
      "total number of CDS where len >= 4k is 3473\n",
      "number_of_exons is 1\n",
      "intron_gap is 50\n",
      "note that every intron is the same\n",
      "length of one of the exons is 4074\n",
      "100%|████████████████████████████████████████| 100/100 [00:00<00:00, 266.46it/s]\n"
     ]
    }
   ],
   "source": [
    "!python3.8 intronExon_avMut_2021_03_30_fromCodingNonCodingSims.py Trial2 10000 100000"
   ]
  },
  {
   "cell_type": "markdown",
   "metadata": {},
   "source": [
    "**2021 03 30 look i fucked it up last time*** "
   ]
  },
  {
   "cell_type": "code",
   "execution_count": 16,
   "metadata": {},
   "outputs": [],
   "source": [
    "python3.8 intronExon_avMut_2021_03_30_fromCodingNonCodingSims.py Trial3 100000 10000"
   ]
  },
  {
   "cell_type": "markdown",
   "metadata": {},
   "source": [
    "**need dna output every n gens to show triplet frequencies at equilibrium**"
   ]
  },
  {
   "cell_type": "code",
   "execution_count": 1,
   "metadata": {},
   "outputs": [],
   "source": [
    "dna_length = 100000\n",
    "prop_muts =2\n"
   ]
  },
  {
   "cell_type": "code",
   "execution_count": 9,
   "metadata": {},
   "outputs": [
    {
     "name": "stdout",
     "output_type": "stream",
     "text": [
      "  1%|▏                                  | 1003/200000 [00:26<1:28:46, 37.36it/s]^C\n",
      "  1%|▏                                  | 1009/200000 [00:26<1:28:36, 37.43it/s]\n",
      "Traceback (most recent call last):\n",
      "  File \"intronOnly_avMut_DNAoutputEveryNgen_2021_12_14.py\", line 93, in <module>\n",
      "    base_index = base_to_mutate(DNA, current_weights, indices)\n",
      "  File \"intronOnly_avMut_DNAoutputEveryNgen_2021_12_14.py\", line 37, in base_to_mutate\n",
      "    base_index = choice(indices, p=normalized_weights) \n",
      "  File \"mtrand.pyx\", line 913, in numpy.random.mtrand.RandomState.choice\n",
      "  File \"/home/omanmade/.local/lib/python3.8/site-packages/numpy/core/getlimits.py\", line 367, in __new__\n",
      "    try:\n",
      "KeyboardInterrupt\n"
     ]
    }
   ],
   "source": [
    "!python3.8 intronOnly_avMut_DNAoutputEveryNgen_2021_12_14.py TrialBlah 100000 2 4 "
   ]
  },
  {
   "cell_type": "code",
   "execution_count": 11,
   "metadata": {},
   "outputs": [
    {
     "name": "stdout",
     "output_type": "stream",
     "text": [
      "/bin/bash: parallel: command not found\n"
     ]
    }
   ],
   "source": [
    "!parallel -j 10 -c \"python3.8 intronOnly_avMut_DNAoutputEveryNgen_2021_12_14.py tripEq_Trial{} 100000 2 4\" -- {1..10}"
   ]
  },
  {
   "cell_type": "code",
   "execution_count": 10,
   "metadata": {},
   "outputs": [],
   "source": [
    "!chmod +x intronOnly_avMut_DNAoutputEveryNgen_2021_12_14.py"
   ]
  }
 ],
 "metadata": {
  "kernelspec": {
   "display_name": "Python 3 (ipykernel)",
   "language": "python",
   "name": "python3"
  },
  "language_info": {
   "codemirror_mode": {
    "name": "ipython",
    "version": 3
   },
   "file_extension": ".py",
   "mimetype": "text/x-python",
   "name": "python",
   "nbconvert_exporter": "python",
   "pygments_lexer": "ipython3",
   "version": "3.9.6"
  }
 },
 "nbformat": 4,
 "nbformat_minor": 4
}
