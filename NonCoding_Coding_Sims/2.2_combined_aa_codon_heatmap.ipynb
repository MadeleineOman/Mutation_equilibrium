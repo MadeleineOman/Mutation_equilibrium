{
 "cells": [
  {
   "cell_type": "markdown",
   "metadata": {},
   "source": [
    "# **combine the aa and codon into one heatmap**"
   ]
  },
  {
   "cell_type": "code",
   "execution_count": 1,
   "metadata": {},
   "outputs": [],
   "source": [
    "import matplotlib.pyplot as plt\n",
    "import matplotlib\n",
    "import matplotlib.patches as mpatches\n",
    "import numpy as np \n",
    "import json\n",
    "import pandas as pd\n",
    "from datetime import datetime"
   ]
  },
  {
   "cell_type": "code",
   "execution_count": 2,
   "metadata": {},
   "outputs": [],
   "source": [
    "SynonymousCodons = {'CYS': ['TGT', 'TGC'], 'ASP': ['GAT', 'GAC'],\n",
    "'SER': ['TCT', 'TCG', 'TCA', 'TCC', 'AGC', 'AGT'],\n",
    "'GLN': ['CAA', 'CAG'], 'MET': ['ATG'], 'ASN': ['AAC', 'AAT'],\n",
    "'PRO': ['CCT', 'CCG', 'CCA', 'CCC'], 'LYS': ['AAG', 'AAA'],\n",
    "'STOP': ['TAG', 'TGA', 'TAA'], 'THR': ['ACC', 'ACA', 'ACG', 'ACT'],\n",
    "'PHE': ['TTT', 'TTC'], 'ALA': ['GCA', 'GCC', 'GCG', 'GCT'],\n",
    "'GLY': ['GGT', 'GGG', 'GGA', 'GGC'], 'ILE': ['ATC', 'ATA', 'ATT'],\n",
    "'LEU': ['TTA', 'TTG', 'CTC', 'CTT', 'CTG', 'CTA'], 'HIS': ['CAT', 'CAC'],\n",
    "'ARG': ['CGA', 'CGC', 'CGG', 'CGT', 'AGG', 'AGA'], 'TRP': ['TGG'],\n",
    "'VAL': ['GTA', 'GTC', 'GTG', 'GTT'], 'GLU': ['GAG', 'GAA'], 'TYR': ['TAT', 'TAC']}\n",
    "get_aa_dict = {}#dictionary that turns codon into aa \n",
    "for key,value in SynonymousCodons.items(): \n",
    "    for codon in value: \n",
    "        get_aa_dict[codon] = key \n",
    "\n",
    "bases = [ \"T\", \"C\",\"A\", \"G\"]"
   ]
  },
  {
   "cell_type": "code",
   "execution_count": 4,
   "metadata": {},
   "outputs": [],
   "source": [
    "#reading in dfs\n",
    "codon_change_df = pd.read_csv(\"data/dif_DNA/2021_04_18_codon_propChnage_2xcov.csv\")\n",
    "aa_change_df = pd.read_csv(\"data/dif_DNA/2021_04_18_aa_propChnage_2xcov.csv\")"
   ]
  },
  {
   "cell_type": "code",
   "execution_count": 7,
   "metadata": {},
   "outputs": [],
   "source": [
    "#making the list of mean chnage counts for each triplet in the order for \"triplets\" \n",
    "codon_aa_meanChangeCount_array = []\n",
    "for base1 in bases: \n",
    "\n",
    "    for base3 in bases:\n",
    "        curr_codon_counts_list = []\n",
    "        \n",
    "        for base2 in bases: \n",
    "            curr_codon = base1+base2+base3\n",
    "            curr_codon_counts_list.append(float(np.mean(codon_change_df[[curr_codon]])))\n",
    "            cur_aa = get_aa_dict[curr_codon]\n",
    "            curr_codon_counts_list.append(float(np.mean(aa_change_df[[cur_aa]])))\n",
    "        codon_aa_meanChangeCount_array.append(curr_codon_counts_list)\n",
    "    "
   ]
  },
  {
   "cell_type": "markdown",
   "metadata": {},
   "source": [
    "# **getting on the plotting**"
   ]
  },
  {
   "cell_type": "code",
   "execution_count": 8,
   "metadata": {},
   "outputs": [],
   "source": [
    "plt.style.use(\"seaborn-darkgrid\")"
   ]
  },
  {
   "cell_type": "code",
   "execution_count": 9,
   "metadata": {},
   "outputs": [],
   "source": [
    "from mpl_toolkits.axes_grid1 import AxesGrid\n",
    "\n",
    "def shiftedColorMap(cmap, codon_meanChangeCount_array, start=0,  stop=1.0, name='shiftedcmap'):\n",
    "    '''\n",
    "    Function to offset the \"center\" of a colormap. Useful for\n",
    "    data with a negative min and positive max and you want the\n",
    "    middle of the colormap's dynamic range to be at zero.\n",
    "\n",
    "    Input\n",
    "    -----\n",
    "      cmap : The matplotlib colormap to be altered\n",
    "      start : Offset from lowest point in the colormap's range.\n",
    "          Defaults to 0.0 (no lower offset). Should be between\n",
    "          0.0 and `midpoint`.\n",
    "      midpoint : The new center of the colormap. Defaults to \n",
    "          0.5 (no shift). Should be between 0.0 and 1.0. In\n",
    "          general, this should be  1 - vmax / (vmax + abs(vmin))\n",
    "          For example if your data range from -15.0 to +5.0 and\n",
    "          you want the center of the colormap at 0.0, `midpoint`\n",
    "          should be set to  1 - 5/(5 + 15)) or 0.75\n",
    "      stop : Offset from highest point in the colormap's range.\n",
    "          Defaults to 1.0 (no upper offset). Should be between\n",
    "          `midpoint` and 1.0.\n",
    "    '''\n",
    "    \n",
    "    cmap_counts = []\n",
    "    for value in codon_meanChangeCount_array: \n",
    "        cmap_counts.extend(value)\n",
    "\n",
    "    cmapmax = max(cmap_counts)\n",
    "    cmapmin = min(cmap_counts)\n",
    "    \n",
    "    midpoint = 1 - cmapmax/(cmapmax - cmapmin)\n",
    "    \n",
    "    cdict = {\n",
    "        'red': [],\n",
    "        'green': [],\n",
    "        'blue': [],\n",
    "        'alpha': []\n",
    "    }\n",
    "\n",
    "    # regular index to compute the colors\n",
    "    reg_index = np.linspace(start, stop, 257)\n",
    "\n",
    "    # shifted index to match the data\n",
    "    shift_index = np.hstack([\n",
    "        np.linspace(start, midpoint, 128, endpoint=False), \n",
    "        np.linspace(midpoint, stop, 129, endpoint=True)\n",
    "    ])\n",
    "\n",
    "    for ri, si in zip(reg_index, shift_index):\n",
    "        r, g, b, a = cmap(ri)\n",
    "\n",
    "        cdict['red'].append((si, r, r))\n",
    "        cdict['green'].append((si, g, g))\n",
    "        cdict['blue'].append((si, b, b))\n",
    "        cdict['alpha'].append((si, a, a))\n",
    "\n",
    "    newcmap = matplotlib.colors.LinearSegmentedColormap(name, cdict)\n",
    "    plt.register_cmap(cmap=newcmap)\n",
    "\n",
    "    return newcmap"
   ]
  },
  {
   "cell_type": "code",
   "execution_count": 10,
   "metadata": {},
   "outputs": [],
   "source": [
    "base2_axis = []\n",
    "base1base3_axis = []\n",
    "for base13 in bases: \n",
    "    base2_axis.append(\"_\"+base13+\"_\")\n",
    "    for base2 in bases: \n",
    "        base1base3_axis.append(base13+\"_\"+base2)"
   ]
  },
  {
   "cell_type": "code",
   "execution_count": 11,
   "metadata": {},
   "outputs": [
    {
     "data": {
      "image/png": "[encoded data removed]",
      "text/plain": [
       "<Figure size 1332x756 with 2 Axes>"
      ]
     },
     "metadata": {},
     "output_type": "display_data"
    }
   ],
   "source": [
    "fig, ax = plt.subplots()\n",
    "im = ax.imshow(np.array(codon_aa_meanChangeCount_array), interpolation=\"nearest\", cmap = shiftedColorMap(matplotlib.cm.coolwarm, codon_aa_meanChangeCount_array), aspect =1/2)\n",
    "\n",
    "# We want to show all ticks...\n",
    "# ax.set_xticks(np.arange(len(base2_axis)))\n",
    "# ax.set_yticks(np.arange(len(base1base3_axis)))\n",
    "# ... and label them with the respective list entries\n",
    "# ax.set_xticklabels(base2_axis)\n",
    "# ax.set_yticklabels(base1base3_axis)\n",
    "\n",
    "# Rotate the tick labels and set their alignment.\n",
    "# plt.setp(ax.get_xticklabels(), rotation=45, ha=\"right\",\n",
    "#          rotation_mode=\"anchor\")\n",
    "\n",
    "# for i in range(len(base1base3_axis)):\n",
    "#     for j in range(len(base2_axis)):\n",
    "#         text = ax.text(j, i, np.array(codon_meanChangeCount_array)[i, j],\n",
    "#                        ha=\"center\", va=\"center\", color=\"k\")\n",
    "\n",
    "\n",
    "ax.grid(False)\n",
    "ax.set_title(\"Codon & aa freq chnage heatmap all 64 codons order t->c->a->g\")\n",
    "#fig.tight_layout()\n",
    "fig = matplotlib.pyplot.gcf()\n",
    "fig.set_size_inches(18.5, 10.5)\n",
    "\n",
    "fig.colorbar(im).ax.tick_params(labelsize=17)\n",
    "plt.show()"
   ]
  }
 ],
 "metadata": {
  "kernelspec": {
   "display_name": "Python 3",
   "language": "python",
   "name": "python3"
  },
  "language_info": {
   "codemirror_mode": {
    "name": "ipython",
    "version": 3
   },
   "file_extension": ".py",
   "mimetype": "text/x-python",
   "name": "python",
   "nbconvert_exporter": "python",
   "pygments_lexer": "ipython3",
   "version": "3.9.2"
  }
 },
 "nbformat": 4,
 "nbformat_minor": 4
}
