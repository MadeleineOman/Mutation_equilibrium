{
 "cells": [
  {
   "cell_type": "markdown",
   "metadata": {},
   "source": [
    "# ** Creating the sliding window plot** \n",
    "- this script will get you \n",
    "    - the dna after 600k gens (6x coverage; as determined with avMut sims at the start of equilbiurm) \n",
    "    - window size 1000\n",
    "    - stderr ribbon around the window values\n",
    "        - note the stderr is the stderr b/t trials \n",
    "    - the mean and stderr ribbon for overal exon mutability \n",
    "        - note that this mean weights the mutability of each exon ewually: not accounting for length) \n",
    "        - (same for intron) \n",
    "    - all of the above for non CpGs too \n",
    "        - basically replace any CpG value with the average of non-CpG mutabilities "
   ]
  },
  {
   "cell_type": "markdown",
   "metadata": {},
   "source": [
    "** imports and global object creation ** "
   ]
  },
  {
   "cell_type": "code",
   "execution_count": 4,
   "metadata": {},
   "outputs": [],
   "source": [
    "import matplotlib.pyplot as plt\n",
    "import numpy\n",
    "import json\n",
    "import numpy.random\n",
    "import copy\n",
    "import numpy as np \n",
    "from datetime import datetime #for plotting \n",
    "from tqdm import tqdm"
   ]
  },
  {
   "cell_type": "code",
   "execution_count": 5,
   "metadata": {},
   "outputs": [],
   "source": [
    "plt.style.use('seaborn-ticks')"
   ]
  },
  {
   "cell_type": "markdown",
   "metadata": {},
   "source": [
    "** reading in objects **"
   ]
  },
  {
   "cell_type": "code",
   "execution_count": 6,
   "metadata": {},
   "outputs": [],
   "source": [
    "#doubled model genome wide\n",
    "model = json.load(open(\"../Human_mutability_model/Model_2020_12_02_genomeWide.txt\"))"
   ]
  },
  {
   "cell_type": "code",
   "execution_count": 7,
   "metadata": {},
   "outputs": [],
   "source": [
    "file_path_initial = \"data/same_DNA/\"\n",
    "sim_name_initial = \"Files_to_use_for_parallel\"\n",
    "\n",
    "file_path_afterSim = \"data/same_DNA/\"\n",
    "sim_name_afterSim = \"Trial\"\n",
    "\n",
    "about_sim = \"_cds_invariant50\"\n",
    "nTrials = 10"
   ]
  },
  {
   "cell_type": "code",
   "execution_count": 8,
   "metadata": {},
   "outputs": [],
   "source": [
    "cds_pos_dictionary = open(file_path_initial+sim_name_initial+\"_exon_insertion_dict.txt\").readlines()[0]\n",
    "cds_pos_dictionary = json.loads(cds_pos_dictionary)\n",
    "cds_seq_dictionary = open(file_path_initial+sim_name_initial+\"_exons_toUseSeqeunce_dict.txt\").readlines()[0]\n",
    "cds_seq_dictionary = json.loads(cds_seq_dictionary)"
   ]
  },
  {
   "cell_type": "code",
   "execution_count": 9,
   "metadata": {},
   "outputs": [],
   "source": [
    "file_name = \"Files_to_use_for_parallel_DNA_gen0_cds.txt\"\n",
    "DNAI = open(file_path_initial+file_name).readlines()[0]"
   ]
  },
  {
   "cell_type": "code",
   "execution_count": 10,
   "metadata": {},
   "outputs": [],
   "source": [
    "DNAF_dataDict = {}\n",
    "#note I want the dna string to be an entry in the list value fo the DNAF dictionary so i can add weigths later \n",
    "n_gens = 200000\n",
    "for index_tmp in range(1,nTrials+1):\n",
    "    file_name = sim_name_afterSim+str(index_tmp)+\"_DNA_final\"+about_sim+\"_{g}.txt\".format(g=n_gens)\n",
    "    DNAF_dataDict[\"Trial\"+str(index_tmp)] = [open(file_path_afterSim+file_name).readlines()[0]]"
   ]
  },
  {
   "cell_type": "code",
   "execution_count": 11,
   "metadata": {},
   "outputs": [
    {
     "data": {
      "text/plain": [
       "1"
      ]
     },
     "execution_count": 11,
     "metadata": {},
     "output_type": "execute_result"
    }
   ],
   "source": [
    "len(DNAF_dataDict[\"Trial1\"])"
   ]
  },
  {
   "cell_type": "markdown",
   "metadata": {},
   "source": [
    "** adding th mutability list to the DNAF_datatDict ** "
   ]
  },
  {
   "cell_type": "code",
   "execution_count": 12,
   "metadata": {},
   "outputs": [],
   "source": [
    "for trial_number in range(1, nTrials+1): \n",
    "    trial_name = \"Trial\"+str(trial_number)\n",
    "    trial_weights = []\n",
    "    for i in range(1, len(DNAF_dataDict[trial_name][0])-1):\n",
    "        triplet = DNAF_dataDict[trial_name][0][i-1:i+2]\n",
    "        trial_weights.append(model[triplet][0])\n",
    "    DNAF_dataDict[trial_name].append(trial_weights)"
   ]
  },
  {
   "cell_type": "markdown",
   "metadata": {},
   "source": [
    "# ** Getting average window value for each sample, then averaging/sd across samples ** "
   ]
  },
  {
   "cell_type": "code",
   "execution_count": 13,
   "metadata": {},
   "outputs": [],
   "source": [
    "window_size = 1000"
   ]
  },
  {
   "cell_type": "code",
   "execution_count": 14,
   "metadata": {},
   "outputs": [],
   "source": [
    "sliding_window_X = []\n",
    "\n",
    "for i in range(0,len(DNAI), window_size):                                  # 1[len(dnai)] iterating by window size \n",
    "    if len(DNAI) - i > window_size:                                        # if you're not RIGHT at the end \n",
    "        sliding_window_X.append(i+int(window_size/2)) "
   ]
  },
  {
   "cell_type": "code",
   "execution_count": 15,
   "metadata": {},
   "outputs": [
    {
     "name": "stdout",
     "output_type": "stream",
     "text": [
      "size of omitted section is : 145\n",
      "size of omitted section is : 145\n",
      "size of omitted section is : 145\n",
      "size of omitted section is : 145\n",
      "size of omitted section is : 145\n",
      "size of omitted section is : 145\n",
      "size of omitted section is : 145\n",
      "size of omitted section is : 145\n",
      "size of omitted section is : 145\n"
     ]
    }
   ],
   "source": [
    "# now want to append every average window mut value to the dnafplus dict \n",
    "\n",
    "for trial_number in range(1,nTrials): \n",
    "    trial_name = \"Trial\"+str(trial_number)\n",
    "    \n",
    "    trial_muts_list = []\n",
    "    for i in range(0,len(DNAI), window_size):\n",
    "        if len(DNAI) - i > window_size: \n",
    "            \n",
    "            av_mut = np.mean(DNAF_dataDict[trial_name][1][i:i+window_size])\n",
    "            trial_muts_list.append(av_mut)\n",
    "                \n",
    "        else: \n",
    "            print(\"size of omitted section is : \"+str(len(DNAI)-i))\n",
    "    DNAF_dataDict[trial_name].append(trial_muts_list)\n",
    "    "
   ]
  },
  {
   "cell_type": "code",
   "execution_count": 16,
   "metadata": {},
   "outputs": [
    {
     "data": {
      "text/plain": [
       "3"
      ]
     },
     "execution_count": 16,
     "metadata": {},
     "output_type": "execute_result"
    }
   ],
   "source": [
    "len(DNAF_dataDict[trial_name])"
   ]
  },
  {
   "cell_type": "markdown",
   "metadata": {},
   "source": [
    "** adding the window size mutability averages to the dictionary ** "
   ]
  },
  {
   "cell_type": "code",
   "execution_count": 17,
   "metadata": {},
   "outputs": [],
   "source": [
    "# creating the average muts and std list \n",
    "sliding_window_avMut = []\n",
    "sliding_window_SE = []\n",
    "\n",
    "nwindows = len(DNAF_dataDict[\"Trial1\"][2])\n",
    "\n",
    "for i in range(0,nwindows):\n",
    "    window_muts = []\n",
    "\n",
    "    for trial_number in range(1,nTrials): \n",
    "        trial_name = \"Trial\"+str(trial_number)\n",
    "        window_muts.append(DNAF_dataDict[trial_name][2][i])\n",
    "    \n",
    "    sliding_window_avMut.append(np.mean(window_muts))\n",
    "    sliding_window_SE.append(np.std(window_muts)/np.sqrt(nTrials))\n",
    "    "
   ]
  },
  {
   "cell_type": "markdown",
   "metadata": {},
   "source": [
    "** making the vectors to plot with plt ** "
   ]
  },
  {
   "cell_type": "code",
   "execution_count": 18,
   "metadata": {},
   "outputs": [],
   "source": [
    "sliding_belowError =  []\n",
    "sliding_aboveError = []\n",
    "for avMut, stderr in zip(sliding_window_avMut, sliding_window_SE): \n",
    "    sliding_belowError.append(avMut-stderr)\n",
    "    sliding_aboveError.append(avMut+stderr)\n",
    "sliding_belowError = np.array(sliding_belowError)\n",
    "sliding_aboveError = np.array(sliding_aboveError)"
   ]
  },
  {
   "cell_type": "markdown",
   "metadata": {},
   "source": [
    "** this is a double check to make sure the exons are when I think they are ** "
   ]
  },
  {
   "cell_type": "code",
   "execution_count": 19,
   "metadata": {},
   "outputs": [],
   "source": [
    "#do a double check after file imports \n",
    "for gene_id, gene_value in cds_seq_dictionary.items():     \n",
    "    if DNAI.find(gene_value[0]) != cds_pos_dictionary[gene_id][0]+1: \n",
    "        print(\"ERROR: cds_pos_dict not accurate for this dna for \"+gene_id)\n"
   ]
  },
  {
   "cell_type": "markdown",
   "metadata": {},
   "source": [
    "** create a list of cds positions for plotting** "
   ]
  },
  {
   "cell_type": "code",
   "execution_count": 20,
   "metadata": {},
   "outputs": [],
   "source": [
    "cds_pos_list = []\n",
    "for value in cds_pos_dictionary.values(): \n",
    "    cds_pos_list.extend([value[0], value[1]])\n",
    "cds_pos_list.sort()"
   ]
  },
  {
   "cell_type": "markdown",
   "metadata": {},
   "source": [
    "### ** OK NOW GET HORZONTAL MEAN VALUE (ALL INTRON, ALL EXON ) ** "
   ]
  },
  {
   "cell_type": "markdown",
   "metadata": {},
   "source": [
    "** EXON** "
   ]
  },
  {
   "cell_type": "code",
   "execution_count": 21,
   "metadata": {},
   "outputs": [
    {
     "name": "stderr",
     "output_type": "stream",
     "text": [
      "100%|██████████| 10/10 [00:00<00:00, 27.79it/s]\n"
     ]
    }
   ],
   "source": [
    "#this list that will gather the mean mutability for all trials (len 10) (each string has mean mut for all its exons) \n",
    "exon_mean_mut = []\n",
    "for i in tqdm(range(1,nTrials+1)):\n",
    "    trial_name = \"Trial\"+str(i)\n",
    "    exon_muts = []\n",
    "    exon_means = []\n",
    "    for exon in (cds_pos_dictionary.values()): #for each exon in the string (bounds are in the cds pos dicitonary)\n",
    "        start = exon[0] #setting the bounds \n",
    "        end = exon[1]\n",
    "        for j in range(start+1,end-2): #collect all the triplets in that region and add the mutability to exon_muts\n",
    "            triplet = DNAF_dataDict[trial_name][0][j-1: j+2]\n",
    "            exon_muts.append(model[triplet][0])\n",
    "        exon_means.append(np.mean(exon_muts)) # for each exon, add the overall exon mean to exon_means \n",
    "    exon_mean_mut.append(np.mean(exon_means))#for each trial, add the overall trail mean to exon_mean_mut \n",
    "\n",
    "#exon_mean_mut is now a slist len ==10 containing the av mut for each trial. \n",
    "mean_exon_mut = np.mean(exon_mean_mut)\n",
    "std_exon_mut = np.std(exon_mean_mut)\n",
    "stderr_exon_mut = np.std(exon_mean_mut)/np.sqrt(nTrials)"
   ]
  },
  {
   "cell_type": "code",
   "execution_count": 22,
   "metadata": {},
   "outputs": [
    {
     "name": "stdout",
     "output_type": "stream",
     "text": [
      "mean exon mut =  3.4574859227787605e-05 stderr exon mut=   4.752947028125075e-08\n"
     ]
    }
   ],
   "source": [
    "print(\"mean exon mut = \", mean_exon_mut, \"stderr exon mut=  \", stderr_exon_mut) "
   ]
  },
  {
   "cell_type": "markdown",
   "metadata": {},
   "source": [
    "** INTRON** "
   ]
  },
  {
   "cell_type": "code",
   "execution_count": 23,
   "metadata": {},
   "outputs": [
    {
     "name": "stderr",
     "output_type": "stream",
     "text": [
      "100%|██████████| 10/10 [00:00<00:00, 26.92it/s]\n"
     ]
    }
   ],
   "source": [
    "#this list that will gather the mean mutability for all trials (len 10) (each string has mean mut for all its introns) \n",
    "intron_mean_mut = []\n",
    "for i in tqdm(range(1,nTrials+1)):\n",
    "    intron_start = 1\n",
    "    trial_name = \"Trial\"+str(i)\n",
    "    intron_muts = []\n",
    "    intron_means = []\n",
    "    for j in range(0, len(cds_pos_list), 2): #the cds_pos dict was converted into a list, here here we want to iterate it by 2 \n",
    "        start = cds_pos_list[j] #start of the exon \n",
    "        end = cds_pos_list[j+1] #end of the exon \n",
    "        for k in range(intron_start,start): #analyze triplets from previous exon end to this intron start \n",
    "            triplet = DNAF_dataDict[trial_name][0][k-1: k+2]\n",
    "            intron_muts.append(model[triplet][0])\n",
    "        intron_start = end #update the \"intron starting value\" with the end of the current intron\n",
    "        intron_means.append(np.mean(intron_muts))#for each intron, append the avergae to intron_means\n",
    "    intron_mean_mut.append(np.mean(intron_means)) #for each trial, append the mean to intron_mean_mut\n",
    "    \n",
    "\n",
    "#intron_mean_mut is now a slist len ==10 containing the av mut for each trial. \n",
    "mean_intron_mut = np.mean(intron_mean_mut)\n",
    "std_intron_mut = np.std(intron_mean_mut)\n",
    "stderr_intron_mut = np.std(intron_mean_mut)/np.sqrt(nTrials)"
   ]
  },
  {
   "cell_type": "code",
   "execution_count": 24,
   "metadata": {},
   "outputs": [
    {
     "name": "stdout",
     "output_type": "stream",
     "text": [
      "mean intrn mut =  2.9244799828375013e-05 stderr intron mut=   3.992012157998018e-08\n"
     ]
    }
   ],
   "source": [
    "print(\"mean intrn mut = \", mean_intron_mut, \"stderr intron mut=  \", stderr_intron_mut) "
   ]
  },
  {
   "cell_type": "markdown",
   "metadata": {},
   "source": [
    "** difference exon/intron** "
   ]
  },
  {
   "cell_type": "code",
   "execution_count": 25,
   "metadata": {},
   "outputs": [],
   "source": [
    "diff_exon_intro = []\n",
    "for e,i in zip(exon_mean_mut, intron_mean_mut): \n",
    "    diff_exon_intro.append(e/i)"
   ]
  },
  {
   "cell_type": "code",
   "execution_count": 26,
   "metadata": {},
   "outputs": [
    {
     "data": {
      "text/plain": [
       "(1.1822823558427333, 0.007820672166946985)"
      ]
     },
     "execution_count": 26,
     "metadata": {},
     "output_type": "execute_result"
    }
   ],
   "source": [
    "np.mean(diff_exon_intro), np.std(diff_exon_intro)"
   ]
  },
  {
   "cell_type": "markdown",
   "metadata": {},
   "source": [
    "** converting the exona nd itnron mean error into a vector that plt can plot as a ribbon ** "
   ]
  },
  {
   "cell_type": "code",
   "execution_count": 27,
   "metadata": {},
   "outputs": [],
   "source": [
    "exon_below_error = []\n",
    "exon_above_error = []\n",
    "intron_below_error = []\n",
    "intron_above_error = []\n",
    "for element in sliding_window_X: \n",
    "    exon_below_error.append(mean_exon_mut-stderr_exon_mut)\n",
    "    exon_above_error.append(mean_exon_mut+stderr_exon_mut)\n",
    "    intron_below_error.append(mean_intron_mut-stderr_intron_mut)\n",
    "    intron_above_error.append(mean_intron_mut+stderr_intron_mut)"
   ]
  },
  {
   "cell_type": "markdown",
   "metadata": {},
   "source": [
    "** making the x axis kbp units ** "
   ]
  },
  {
   "cell_type": "code",
   "execution_count": 28,
   "metadata": {},
   "outputs": [],
   "source": [
    "sliding_window_X_kb = [a/1000 for a in sliding_window_X]"
   ]
  },
  {
   "cell_type": "markdown",
   "metadata": {},
   "source": [
    "** plotting ** "
   ]
  },
  {
   "cell_type": "code",
   "execution_count": 44,
   "metadata": {},
   "outputs": [
    {
     "data": {
      "image/png": "[encoded data removed]",
      "text/plain": [
       "<Figure size 432x288 with 1 Axes>"
      ]
     },
     "metadata": {},
     "output_type": "display_data"
    }
   ],
   "source": [
    "#details you want to be in graph titles\n",
    "sim_details = \"n = 12\"\n",
    "\n",
    "#this chunck is just plotting\n",
    "fig, ax = plt.subplots()\n",
    "plt.plot(sliding_window_X_kb, sliding_window_avMut, \"black\")\n",
    "\n",
    "#x and y axis and aesthetic ticks \n",
    "plt.xlabel(\"Position of Nucleotide (kbp)\")\n",
    "plt.ylabel(\"Mutability\")\n",
    "plt.xticks([0,20,40,60,80,100])\n",
    "plt.xlim(left = 0, right=100) \n",
    "plt.ticklabel_format(axis=\"y\", style=\"sci\",  scilimits=(0,0)) #e^-n format \n",
    "\n",
    "# LINES SHOWING WHERE THE CODING AND NON-CODING REGIONS ARE \n",
    "for index in range(0,len(cds_pos_list), 2): \n",
    "    ax.axvspan(cds_pos_list[index]/1000, cds_pos_list[index+1]/1000, alpha=.15, color='royalblue')\n",
    "ax.grid(False)\n",
    "\n",
    "#adjusting font size \n",
    "SMALL_SIZE = 14\n",
    "MEDIUM_SIZE = 14\n",
    "BIGGER_SIZE = 18\n",
    "# plt.rc('font', size=MEDIUM_SIZE)          # controls default text sizes\n",
    "plt.rc('axes', titlesize=MEDIUM_SIZE)     # fontsize of the axes title\n",
    "plt.rc('axes', labelsize=MEDIUM_SIZE)    # fontsize of the x and y labels\n",
    "plt.rc('xtick', labelsize=MEDIUM_SIZE)    # fontsize of the tick labels\n",
    "plt.rc('ytick', labelsize=MEDIUM_SIZE)    # fontsize of the tick labels\n",
    "plt.rc('legend', fontsize=MEDIUM_SIZE)    # legend fontsize\n",
    "\n",
    "#adding average exon / intron mutability horizontal ribbons \n",
    "plt.fill_between(sliding_window_X_kb,exon_below_error,exon_above_error, color = \"cornflowerblue\", label = \"Exon\")\n",
    "plt.fill_between(sliding_window_X_kb,intron_below_error,intron_above_error, color = \"cornflowerblue\", label = \"Intron\")\n",
    "#adding in SD \n",
    "plt.fill_between(sliding_window_X_kb,sliding_belowError,sliding_aboveError, color = \"grey\")\n",
    "\n",
    "plt.show()\n",
    "# timestamp = datetime.now().strftime(\"%Y/%m/%d_%H:%M:%S\").replace(\"/\", \"_\").replace(\":\", \"_\")\n",
    "# plt.tight_layout()\n",
    "# plt.savefig(\"plots/Sliding_{t}_Finalized_avCodingNonCoding_{g}.png\".format(t = timestamp, g = n_gens))"
   ]
  },
  {
   "cell_type": "code",
   "execution_count": 31,
   "metadata": {},
   "outputs": [
    {
     "name": "stdout",
     "output_type": "stream",
     "text": [
      "exon      3.4574859227787605e-05 4.752947028125075e-08\n",
      "intron    2.9244799828375013e-05 3.992012157998018e-08\n"
     ]
    }
   ],
   "source": [
    "print(\"exon     \", mean_exon_mut, stderr_exon_mut)\n",
    "print(\"intron   \", mean_intron_mut, stderr_intron_mut)"
   ]
  },
  {
   "cell_type": "markdown",
   "metadata": {},
   "source": [
    "# ** NON CPGS ** ~~~~~~~~~~~~~~~~~~~~~~~~~~~"
   ]
  },
  {
   "cell_type": "code",
   "execution_count": 32,
   "metadata": {},
   "outputs": [],
   "source": [
    "muts = []\n",
    "for mut in model.values(): \n",
    "    muts.append(mut[0])"
   ]
  },
  {
   "cell_type": "code",
   "execution_count": 33,
   "metadata": {},
   "outputs": [
    {
     "data": {
      "image/png": "[encoded data removed]",
      "text/plain": [
       "<Figure size 432x288 with 1 Axes>"
      ]
     },
     "metadata": {},
     "output_type": "display_data"
    }
   ],
   "source": [
    "plt.hist(muts)\n",
    "plt.xticks(rotation = 90)\n",
    "plt.show()"
   ]
  },
  {
   "cell_type": "code",
   "execution_count": 34,
   "metadata": {},
   "outputs": [
    {
     "name": "stdout",
     "output_type": "stream",
     "text": [
      "GCG 0.00029305478867835234\n",
      "CGG 0.0002844044368929987\n",
      "CCG 0.00028532665311129646\n",
      "CGC 0.0002917845917779848\n",
      "CGT 0.00035917531250873904\n",
      "CGA 0.00026243687166486475\n",
      "ACG 0.00036217158636308954\n",
      "TCG 0.0002461141623593142\n"
     ]
    }
   ],
   "source": [
    "#use the histogram above to find the right sperating value \n",
    "cpg_muts = []\n",
    "non_cpg_muts = []\n",
    "for key, value in model.items(): \n",
    "    if value[0] >= 0.0002 : \n",
    "        print(key, value[0])\n",
    "        cpg_muts.append(value[0])\n",
    "    else: \n",
    "        non_cpg_muts.append(value[0])"
   ]
  },
  {
   "cell_type": "code",
   "execution_count": 35,
   "metadata": {},
   "outputs": [
    {
     "data": {
      "text/plain": [
       "2.7390179270981408e-05"
      ]
     },
     "execution_count": 35,
     "metadata": {},
     "output_type": "execute_result"
    }
   ],
   "source": [
    "np.mean(non_cpg_muts)"
   ]
  },
  {
   "cell_type": "markdown",
   "metadata": {},
   "source": [
    "** getting the non-cpg weights ** "
   ]
  },
  {
   "cell_type": "code",
   "execution_count": 36,
   "metadata": {},
   "outputs": [
    {
     "ename": "NameError",
     "evalue": "name 'weights_initial' is not defined",
     "output_type": "error",
     "traceback": [
      "\u001b[0;31m---------------------------------------------------------------------------\u001b[0m",
      "\u001b[0;31mNameError\u001b[0m                                 Traceback (most recent call last)",
      "\u001b[0;32m<ipython-input-36-33518d15033f>\u001b[0m in \u001b[0;36m<module>\u001b[0;34m\u001b[0m\n\u001b[1;32m      1\u001b[0m \u001b[0mweights_initial_noCpg\u001b[0m \u001b[0;34m=\u001b[0m \u001b[0;34m[\u001b[0m\u001b[0;34m]\u001b[0m\u001b[0;34m\u001b[0m\u001b[0;34m\u001b[0m\u001b[0m\n\u001b[1;32m      2\u001b[0m \u001b[0mcpg_initial_counter\u001b[0m \u001b[0;34m=\u001b[0m \u001b[0;36m0\u001b[0m\u001b[0;34m\u001b[0m\u001b[0;34m\u001b[0m\u001b[0m\n\u001b[0;32m----> 3\u001b[0;31m \u001b[0;32mfor\u001b[0m \u001b[0mindex\u001b[0m\u001b[0;34m,\u001b[0m \u001b[0mweight\u001b[0m \u001b[0;32min\u001b[0m \u001b[0menumerate\u001b[0m\u001b[0;34m(\u001b[0m\u001b[0mweights_initial\u001b[0m\u001b[0;34m)\u001b[0m\u001b[0;34m:\u001b[0m\u001b[0;34m\u001b[0m\u001b[0;34m\u001b[0m\u001b[0m\n\u001b[0m\u001b[1;32m      4\u001b[0m     \u001b[0;32mif\u001b[0m \u001b[0mweight\u001b[0m \u001b[0;32min\u001b[0m \u001b[0mcpg_muts\u001b[0m\u001b[0;34m:\u001b[0m\u001b[0;34m\u001b[0m\u001b[0;34m\u001b[0m\u001b[0m\n\u001b[1;32m      5\u001b[0m         \u001b[0mcpg_initial_counter\u001b[0m \u001b[0;34m+=\u001b[0m \u001b[0;36m1\u001b[0m\u001b[0;34m\u001b[0m\u001b[0;34m\u001b[0m\u001b[0m\n",
      "\u001b[0;31mNameError\u001b[0m: name 'weights_initial' is not defined"
     ]
    }
   ],
   "source": [
    "weights_initial_noCpg = []\n",
    "cpg_initial_counter = 0\n",
    "for index, weight in enumerate(weights_initial):  \n",
    "    if weight in cpg_muts: \n",
    "        cpg_initial_counter += 1\n",
    "        weights_initial_noCpg.append(0.45)\n",
    "    else: \n",
    "        weights_initial_noCpg.append(weight)\n",
    "        "
   ]
  },
  {
   "cell_type": "code",
   "execution_count": 37,
   "metadata": {},
   "outputs": [],
   "source": [
    "DNAF_dataDict_noCPGMuts = {}\n",
    "for key, value in DNAF_dataDict.items(): \n",
    "    trial_muts = []\n",
    "    for weight in value[1]: \n",
    "        if weight in cpg_muts: \n",
    "            trial_muts.append(np.mean(non_cpg_muts))\n",
    "        else: \n",
    "            trial_muts.append(weight)\n",
    "    DNAF_dataDict_noCPGMuts[key] = [trial_muts]\n",
    "    "
   ]
  },
  {
   "cell_type": "markdown",
   "metadata": {},
   "source": [
    "** adding the window size mutability averages to the dictionary ** "
   ]
  },
  {
   "cell_type": "code",
   "execution_count": 145,
   "metadata": {},
   "outputs": [
    {
     "name": "stdout",
     "output_type": "stream",
     "text": [
      "size of omitted section is : 145\n",
      "size of omitted section is : 145\n",
      "size of omitted section is : 145\n",
      "size of omitted section is : 145\n",
      "size of omitted section is : 145\n",
      "size of omitted section is : 145\n",
      "size of omitted section is : 145\n",
      "size of omitted section is : 145\n",
      "size of omitted section is : 145\n"
     ]
    }
   ],
   "source": [
    "# now want to append every average window mut value to the dnafplus dict \n",
    "\n",
    "for trial_number in range(1,nTrials): \n",
    "    trial_name = \"Trial\"+str(trial_number)\n",
    "    \n",
    "    trial_muts_list = []\n",
    "    for i in range(0,len(DNAI), window_size):\n",
    "        if len(DNAI) - i > window_size: \n",
    "            \n",
    "            av_mut = np.mean(DNAF_dataDict_noCPGMuts[trial_name][0][i:i+window_size])\n",
    "            trial_muts_list.append(av_mut)\n",
    "                \n",
    "        else: \n",
    "            print(\"size of omitted section is : \"+str(len(DNAI)-i))\n",
    "    DNAF_dataDict_noCPGMuts[trial_name].append(trial_muts_list)\n",
    "    "
   ]
  },
  {
   "cell_type": "markdown",
   "metadata": {},
   "source": [
    "** adding the window size mutability averages to the dictionary ** "
   ]
  },
  {
   "cell_type": "code",
   "execution_count": 147,
   "metadata": {},
   "outputs": [],
   "source": [
    "# creating the average muts and std list \n",
    "sliding_window_avMut_noCpg = []\n",
    "sliding_window_SE_noCpg = []\n",
    "\n",
    "nwindows = len(DNAF_dataDict_noCPGMuts[\"Trial1\"][1])\n",
    "\n",
    "for i in range(0,nwindows):\n",
    "    window_muts = []\n",
    "\n",
    "    for trial_number in range(1,nTrials): \n",
    "        trial_name = \"Trial\"+str(trial_number)\n",
    "        window_muts.append(DNAF_dataDict_noCPGMuts[trial_name][1][i])\n",
    "    \n",
    "    sliding_window_avMut_noCpg.append(np.mean(window_muts))\n",
    "    sliding_window_SE_noCpg.append(np.std(window_muts)/np.sqrt(nTrials))\n",
    "    "
   ]
  },
  {
   "cell_type": "markdown",
   "metadata": {},
   "source": [
    "** making the vectors to plot with plt ** "
   ]
  },
  {
   "cell_type": "code",
   "execution_count": 149,
   "metadata": {},
   "outputs": [],
   "source": [
    "sliding_belowError_noCpg =  []\n",
    "sliding_aboveError_noCpg = []\n",
    "for avMut, stderr in zip(sliding_window_avMut_noCpg, sliding_window_SE_noCpg): \n",
    "    sliding_belowError_noCpg.append(avMut-stderr)\n",
    "    sliding_aboveError_noCpg.append(avMut+stderr)\n",
    "sliding_belowError_noCpg = np.array(sliding_belowError_noCpg)\n",
    "sliding_aboveError_noCpg = np.array(sliding_aboveError_noCpg)"
   ]
  },
  {
   "cell_type": "markdown",
   "metadata": {},
   "source": [
    "### ** OK NOW GET HORZONTAL MEAN VALUE (ALL INTRON, ALL EXON ) ** "
   ]
  },
  {
   "cell_type": "markdown",
   "metadata": {},
   "source": [
    "** EXON** "
   ]
  },
  {
   "cell_type": "code",
   "execution_count": 150,
   "metadata": {},
   "outputs": [
    {
     "name": "stderr",
     "output_type": "stream",
     "text": [
      "100%|██████████| 10/10 [00:00<00:00, 14.12it/s]\n"
     ]
    }
   ],
   "source": [
    "#this list that will gather the mean mutability for all trials (len 10) (each string has mean mut for all its exons) \n",
    "exon_mean_mut_noCpg = []\n",
    "for i in tqdm(range(1,nTrials+1)):\n",
    "    trial_name = \"Trial\"+str(i)\n",
    "    exon_muts = []\n",
    "    exon_means = []\n",
    "    for exon in (cds_pos_dictionary.values()): #for each exon in the string (bounds are in the cds pos dicitonary)\n",
    "        start = exon[0] #setting the bounds \n",
    "        end = exon[1]\n",
    "        for j in range(start+1,end-2): #collect all the triplets in that region and add the mutability to exon_muts\n",
    "            triplet = DNAF_dataDict[trial_name][0][j-1: j+2] # need to use the old dataDNAF dict as thats the one with rhe dna string\n",
    "            mut = model[triplet][0]\n",
    "            if mut in cpg_muts: \n",
    "                mut = np.mean(non_cpg_muts)\n",
    "            exon_muts.append(mut)\n",
    "        exon_means.append(np.mean(exon_muts)) # for each exon, add the overall exon mean to exon_means \n",
    "    exon_mean_mut_noCpg.append(np.mean(exon_means))#for each trial, add the overall trail mean to exon_mean_mut \n",
    "\n",
    "#exon_mean_mut is now a slist len ==10 containing the av mut for each trial. \n",
    "mean_exon_mut_noCpg = np.mean(exon_mean_mut_noCpg)\n",
    "std_exon_mut_noCpg = np.std(exon_mean_mut_noCpg)\n",
    "stderr_exon_mut_noCpg = np.std(exon_mean_mut_noCpg)/np.sqrt(nTrials)"
   ]
  },
  {
   "cell_type": "code",
   "execution_count": 151,
   "metadata": {},
   "outputs": [
    {
     "name": "stdout",
     "output_type": "stream",
     "text": [
      "mean exon mut =  2.70275207222e-05 stderr exon mut=   1.076310769e-08\n"
     ]
    }
   ],
   "source": [
    "print(\"mean exon mut = \", mean_exon_mut_noCpg, \"stderr exon mut=  \", stderr_exon_mut_noCpg) "
   ]
  },
  {
   "cell_type": "markdown",
   "metadata": {},
   "source": [
    "** INTRON** "
   ]
  },
  {
   "cell_type": "code",
   "execution_count": 152,
   "metadata": {},
   "outputs": [
    {
     "name": "stderr",
     "output_type": "stream",
     "text": [
      "100%|██████████| 10/10 [00:00<00:00, 16.88it/s]\n"
     ]
    }
   ],
   "source": [
    "#this list that will gather the mean mutability for all trials (len 10) (each string has mean mut for all its introns) \n",
    "intron_mean_mut_noCpg = []\n",
    "for i in tqdm(range(1,nTrials+1)):\n",
    "    intron_start = 1\n",
    "    trial_name = \"Trial\"+str(i)\n",
    "    intron_muts = []\n",
    "    intron_means = []\n",
    "    for j in range(0, len(cds_pos_list), 2): #the cds_pos dict was converted into a list, here here we want to iterate it by 2 \n",
    "        start = cds_pos_list[j] #start of the exon \n",
    "        end = cds_pos_list[j+1] #end of the exon \n",
    "        for k in range(intron_start,start): #analyze triplets from previous exon end to this intron start \n",
    "            triplet = DNAF_dataDict[trial_name][0][k-1: k+2]# need to use the old dataDNAF dict as thats the one with rhe dna string\n",
    "            mut = model[triplet][0]\n",
    "            if mut in cpg_muts: \n",
    "                mut = np.mean(non_cpg_muts)\n",
    "            intron_muts.append(mut)\n",
    "        intron_start = end #update the \"intron starting value\" with the end of the current intron\n",
    "        intron_means.append(np.mean(intron_muts))#for each intron, append the avergae to intron_means\n",
    "    intron_mean_mut_noCpg.append(np.mean(intron_means)) #for each trial, append the mean to intron_mean_mut\n",
    "    \n",
    "\n",
    "#intron_mean_mut is now a slist len ==10 containing the av mut for each trial. \n",
    "mean_intron_mut_noCpg = np.mean(intron_mean_mut_noCpg)\n",
    "std_intron_mut_noCpg = np.std(intron_mean_mut_noCpg)\n",
    "stderr_intron_mut_noCpg = np.std(intron_mean_mut_noCpg)/np.sqrt(nTrials)"
   ]
  },
  {
   "cell_type": "code",
   "execution_count": 153,
   "metadata": {},
   "outputs": [
    {
     "name": "stdout",
     "output_type": "stream",
     "text": [
      "mean intrn mut =  2.61102076216e-05 stderr intron mut=   1.07358810816e-08\n"
     ]
    }
   ],
   "source": [
    "print(\"mean intrn mut = \", mean_intron_mut_noCpg, \"stderr intron mut=  \", stderr_intron_mut_noCpg) "
   ]
  },
  {
   "cell_type": "code",
   "execution_count": 143,
   "metadata": {},
   "outputs": [
    {
     "name": "stdout",
     "output_type": "stream",
     "text": [
      "mean intrn mut =  2.91250370035e-05 stderr intron mut=   7.33671463586e-08\n"
     ]
    }
   ],
   "source": [
    "print(\"mean intrn mut = \", mean_intron_mut, \"stderr intron mut=  \", stderr_intron_mut) "
   ]
  },
  {
   "cell_type": "markdown",
   "metadata": {},
   "source": [
    "** converting the exona nd itnron mean error into a vector that plt can plot as a ribbon ** "
   ]
  },
  {
   "cell_type": "code",
   "execution_count": 154,
   "metadata": {},
   "outputs": [],
   "source": [
    "exon_below_error_noCpg = []\n",
    "exon_above_error_noCpg = []\n",
    "intron_below_error_noCpg = []\n",
    "intron_above_error_noCpg = []\n",
    "for element in sliding_window_X: \n",
    "    exon_below_error_noCpg.append(mean_exon_mut_noCpg-stderr_exon_mut_noCpg)\n",
    "    exon_above_error_noCpg.append(mean_exon_mut_noCpg+stderr_exon_mut_noCpg)\n",
    "    intron_below_error_noCpg.append(mean_intron_mut_noCpg-stderr_intron_mut_noCpg)\n",
    "    intron_above_error_noCpg.append(mean_intron_mut_noCpg+stderr_intron_mut_noCpg)"
   ]
  },
  {
   "cell_type": "markdown",
   "metadata": {},
   "source": [
    "** plotting ** "
   ]
  },
  {
   "cell_type": "code",
   "execution_count": 156,
   "metadata": {},
   "outputs": [
    {
     "data": {
      "image/png": "[encoded data removed]",
      "text/plain": [
       "<matplotlib.figure.Figure at 0x7f33d5414668>"
      ]
     },
     "metadata": {},
     "output_type": "display_data"
    }
   ],
   "source": [
    "#this chunck is just plotting\n",
    "fig, ax = plt.subplots()\n",
    "plt.plot(sliding_window_X_kb, sliding_window_avMut_noCpg, \"black\")\n",
    "\n",
    "#x and y axis and aesthetic ticks \n",
    "plt.xlabel(\"Position of Nucleotide (kbp)\")\n",
    "plt.ylabel(\"Average Mutability\")\n",
    "plt.xticks([0,20,40,60,80,100])\n",
    "plt.xlim(left = 0, right=100) \n",
    "plt.ticklabel_format(axis=\"y\", style=\"sci\",  scilimits=(0,0)) #e^-n format \n",
    "\n",
    "# LINES SHOWING WHERE THE CODING AND NON-CODING REGIONS ARE \n",
    "for index in range(0,len(cds_pos_list), 2): \n",
    "    ax.axvspan(cds_pos_list[index]/1000, cds_pos_list[index+1]/1000, alpha=.15, color='blue')\n",
    "ax.grid(False)\n",
    "\n",
    "#adjusting font size \n",
    "SMALL_SIZE = 14\n",
    "MEDIUM_SIZE = 14\n",
    "BIGGER_SIZE = 18\n",
    "plt.rc('font', size=SMALL_SIZE)          # controls default text sizes\n",
    "plt.rc('axes', titlesize=MEDIUM_SIZE)     # fontsize of the axes title\n",
    "plt.rc('axes', labelsize=MEDIUM_SIZE)    # fontsize of the x and y labels\n",
    "plt.rc('xtick', labelsize=SMALL_SIZE)    # fontsize of the tick labels\n",
    "plt.rc('ytick', labelsize=SMALL_SIZE)    # fontsize of the tick labels\n",
    "plt.rc('legend', fontsize=SMALL_SIZE)    # legend fontsize\n",
    "\n",
    "#adding average exon / intron mutability horizontal ribbons \n",
    "plt.fill_between(sliding_window_X_kb,exon_below_error_noCpg,exon_above_error_noCpg, color = \"silver\", label = \"Exon\")\n",
    "plt.fill_between(sliding_window_X_kb,intron_below_error_noCpg,intron_above_error_noCpg, color = \"silver\", label = \"Intron\")\n",
    "#adding in SD \n",
    "plt.fill_between(sliding_window_X_kb,sliding_belowError_noCpg,sliding_aboveError_noCpg, color = \"grey\")\n",
    "\n",
    "plt.show()\n",
    "# timestamp = datetime.now().strftime(\"%Y/%m/%d_%H:%M:%S\").replace(\"/\", \"_\").replace(\":\", \"_\")\n",
    "# plt.tight_layout()\n",
    "# plt.savefig(\"plots/Sliding_{t}_Finalized_avCodingNonCoding_{g}_noCpG.png\".format(t = timestamp, g = n_gens))"
   ]
  }
 ],
 "metadata": {
  "kernelspec": {
   "display_name": "Python 3 (ipykernel)",
   "language": "python",
   "name": "python3"
  },
  "language_info": {
   "codemirror_mode": {
    "name": "ipython",
    "version": 3
   },
   "file_extension": ".py",
   "mimetype": "text/x-python",
   "name": "python",
   "nbconvert_exporter": "python",
   "pygments_lexer": "ipython3",
   "version": "3.9.6"
  }
 },
 "nbformat": 4,
 "nbformat_minor": 4
}
