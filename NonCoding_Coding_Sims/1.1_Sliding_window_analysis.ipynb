{
 "cells": [
  {
   "cell_type": "markdown",
   "metadata": {},
   "source": [
    "# ** analysis of the sliding window for the paper ** "
   ]
  },
  {
   "cell_type": "code",
   "execution_count": 1,
   "metadata": {},
   "outputs": [],
   "source": [
    "import matplotlib.pyplot as plt\n",
    "import numpy\n",
    "import json\n",
    "import numpy.random\n",
    "import copy\n",
    "import numpy as np \n",
    "from datetime import datetime #for plotting \n",
    "from tqdm import tqdm"
   ]
  },
  {
   "cell_type": "code",
   "execution_count": 2,
   "metadata": {},
   "outputs": [],
   "source": [
    "model = json.load(open(\"../Human_mutability_model/Model_2020_12_02_genomeWide.txt\"))"
   ]
  },
  {
   "cell_type": "markdown",
   "metadata": {},
   "source": [
    "** calculating the mean mutability of the whole initial strand ** "
   ]
  },
  {
   "cell_type": "code",
   "execution_count": 5,
   "metadata": {},
   "outputs": [],
   "source": [
    "DNAI = open(\"data/same_DNA/Files_to_use_for_parallel_DNA_gen0_cds.txt\").readlines()[0]"
   ]
  },
  {
   "cell_type": "code",
   "execution_count": 13,
   "metadata": {},
   "outputs": [],
   "source": [
    "initial_muts = []\n",
    "for i in range(1, len(DNAI)-1): \n",
    "    triplet = DNAI[i-1: i+2]\n",
    "    initial_muts.append(model[triplet][0])"
   ]
  },
  {
   "cell_type": "code",
   "execution_count": 14,
   "metadata": {},
   "outputs": [
    {
     "data": {
      "text/plain": [
       "5.4395848326695644e-05"
      ]
     },
     "execution_count": 14,
     "metadata": {},
     "output_type": "execute_result"
    }
   ],
   "source": [
    "np.mean(initial_muts)"
   ]
  },
  {
   "cell_type": "markdown",
   "metadata": {},
   "source": [
    "** calculating the mean mutability of all the final strnads ** "
   ]
  },
  {
   "cell_type": "code",
   "execution_count": 25,
   "metadata": {},
   "outputs": [],
   "source": [
    "DNAF_dataDict = {}\n",
    "#note I want the dna string to be an entry in the list value fo the DNAF dictionary so i can add weigths later \n",
    "n_gens = 600000\n",
    "nTrials = 10\n",
    "for trial_num in range(1,nTrials+1):\n",
    "    file_name = \"data/same_DNA/Trial{t}_DNA_final_cds_invariant50_{g}.txt\".format(t=trial_num, g=n_gens)\n",
    "    DNAF_dataDict[\"Trial\"+str(trial_num)] = open(file_name).readlines()[0]"
   ]
  },
  {
   "cell_type": "code",
   "execution_count": 26,
   "metadata": {},
   "outputs": [],
   "source": [
    "final_av_muts = []\n",
    "for trial_num in range(1,nTrials+1):\n",
    "    cur_final_muts = []\n",
    "    trial_name = \"Trial{t}\".format(t=trial_num)\n",
    "    for i in range(1, len(DNAI)-1): \n",
    "        triplet = DNAF_dataDict[trial_name][i-1:i+2]\n",
    "        cur_final_muts.append(model[triplet][0])\n",
    "    final_av_muts.append(np.mean(cur_final_muts))"
   ]
  },
  {
   "cell_type": "code",
   "execution_count": 28,
   "metadata": {},
   "outputs": [
    {
     "data": {
      "text/plain": [
       "3.201456438655606e-05"
      ]
     },
     "execution_count": 28,
     "metadata": {},
     "output_type": "execute_result"
    }
   ],
   "source": [
    "np.mean(final_av_muts)"
   ]
  },
  {
   "cell_type": "markdown",
   "metadata": {},
   "source": [
    "** calculating the mutability of the initial strand exons ** "
   ]
  },
  {
   "cell_type": "code",
   "execution_count": 36,
   "metadata": {},
   "outputs": [],
   "source": [
    "exon_inser_dict = json.load(open(\"data/same_DNA/Files_to_use_for_parallel_exon_insertion_dict.txt\"))"
   ]
  },
  {
   "cell_type": "code",
   "execution_count": 40,
   "metadata": {},
   "outputs": [],
   "source": [
    "initial_coding_mut = []\n",
    "for exon_bounds in exon_inser_dict.values(): \n",
    "    start = exon_bounds[0]\n",
    "    end = exon_bounds[1]\n",
    "    length = end-start\n",
    "    cur_exon_muts = []\n",
    "    for i in range(1, length-1): \n",
    "        triplet = DNAI[i-1:i+2]\n",
    "        mut = model[triplet][0]\n",
    "        cur_exon_muts.append(mut)\n",
    "    initial_coding_mut.append(np.mean(cur_exon_muts))"
   ]
  },
  {
   "cell_type": "code",
   "execution_count": 42,
   "metadata": {},
   "outputs": [
    {
     "data": {
      "text/plain": [
       "5.9234892254934978e-05"
      ]
     },
     "execution_count": 42,
     "metadata": {},
     "output_type": "execute_result"
    }
   ],
   "source": [
    "np.mean(initial_coding_mut)"
   ]
  },
  {
   "cell_type": "markdown",
   "metadata": {},
   "source": [
    "** calculating the mutability of the initial strand non-coding ** "
   ]
  },
  {
   "cell_type": "code",
   "execution_count": 43,
   "metadata": {},
   "outputs": [],
   "source": [
    "exon_bounds_list = []\n",
    "for exon_bounds in exon_inser_dict.values(): \n",
    "    exon_bounds_list.extend(exon_bounds)\n",
    "exon_bounds_list.sort()"
   ]
  },
  {
   "cell_type": "code",
   "execution_count": 45,
   "metadata": {},
   "outputs": [
    {
     "data": {
      "text/plain": [
       "[7141,\n",
       " 11479,\n",
       " 18621,\n",
       " 23421,\n",
       " 30563,\n",
       " 35810,\n",
       " 42952,\n",
       " 54730,\n",
       " 61872,\n",
       " 68859,\n",
       " 76001,\n",
       " 80708,\n",
       " 87850,\n",
       " 100144]"
      ]
     },
     "execution_count": 45,
     "metadata": {},
     "output_type": "execute_result"
    }
   ],
   "source": [
    "exon_bounds_list"
   ]
  },
  {
   "cell_type": "code",
   "execution_count": 46,
   "metadata": {},
   "outputs": [
    {
     "data": {
      "text/plain": [
       "6.1015518031740047e-05"
      ]
     },
     "execution_count": 46,
     "metadata": {},
     "output_type": "execute_result"
    }
   ],
   "source": [
    "intron_start = 1\n",
    "intron_muts = []\n",
    "for j in range(0, len(exon_bounds_list), 2): #the cds_pos dict was converted into a list, here here we want to iterate it by 2 \n",
    "    start = exon_bounds_list[j] #start of the exon \n",
    "    end = exon_bounds_list[j+1] #end of the exon \n",
    "    for k in range(intron_start,start): #analyze triplets from previous exon end to this intron start \n",
    "        triplet = DNAI[k-1: k+2]\n",
    "        intron_muts.append(model[triplet][0])\n",
    "    intron_start = end #update the \"intron starting value\" with the end of the current intron\n",
    "np.mean(intron_muts)"
   ]
  },
  {
   "cell_type": "markdown",
   "metadata": {},
   "source": [
    "** how the exception exons chnaged (didnt decrease as much) ** "
   ]
  },
  {
   "cell_type": "code",
   "execution_count": 56,
   "metadata": {},
   "outputs": [],
   "source": [
    "exept_exons = {'ENST00000287097.6':[],'ENST00000338368.7':[]}"
   ]
  },
  {
   "cell_type": "code",
   "execution_count": 57,
   "metadata": {},
   "outputs": [],
   "source": [
    "# initial mutability \n",
    "for exon_name,value in exept_exons.items(): \n",
    "    bounds = exon_inser_dict[exon_name]\n",
    "    exon_mut = []\n",
    "    for i in range(bounds[0], bounds[1]): \n",
    "        triplet = DNAI[i-1:i+2]\n",
    "        mut = model[triplet][0]\n",
    "        exon_mut.append(mut)\n",
    "    value.append(exon_mut)"
   ]
  },
  {
   "cell_type": "code",
   "execution_count": 59,
   "metadata": {},
   "outputs": [
    {
     "data": {
      "text/plain": [
       "(3.1645926001598445e-05, 3.8259818539031552e-05)"
      ]
     },
     "execution_count": 59,
     "metadata": {},
     "output_type": "execute_result"
    }
   ],
   "source": [
    "np.mean(exept_exons['ENST00000287097.6']), np.mean(exept_exons['ENST00000338368.7'])"
   ]
  },
  {
   "cell_type": "code",
   "execution_count": 53,
   "metadata": {},
   "outputs": [
    {
     "data": {
      "text/plain": [
       "{'ENST00000287097.6': [7141, 11479],\n",
       " 'ENST00000293879.9': [30563, 35810],\n",
       " 'ENST00000338368.7': [87850, 100144],\n",
       " 'ENST00000346169.7': [18621, 23421],\n",
       " 'ENST00000389722.7': [61872, 68859],\n",
       " 'ENST00000437464.1': [42952, 54730],\n",
       " 'ENST00000613019.4': [76001, 80708]}"
      ]
     },
     "execution_count": 53,
     "metadata": {},
     "output_type": "execute_result"
    }
   ],
   "source": [
    "exon_inser_dict"
   ]
  },
  {
   "cell_type": "code",
   "execution_count": 57,
   "metadata": {},
   "outputs": [],
   "source": [
    "# initial mutability \n",
    "for exon_name,value in exept_exons.items(): \n",
    "    bounds = exon_inser_dict[exon_name]\n",
    "    exon_mut = []\n",
    "    for i in range(bounds[0], bounds[1]): \n",
    "        triplet = DNAI[i-1:i+2]\n",
    "        mut = model[triplet][0]\n",
    "        exon_mut.append(mut)\n",
    "    value.append(exon_mut)"
   ]
  },
  {
   "cell_type": "code",
   "execution_count": 61,
   "metadata": {},
   "outputs": [
    {
     "data": {
      "text/plain": [
       "100145"
      ]
     },
     "execution_count": 61,
     "metadata": {},
     "output_type": "execute_result"
    }
   ],
   "source": [
    "len(DNAF_dataDict[\"Trial1\"])"
   ]
  },
  {
   "cell_type": "code",
   "execution_count": null,
   "metadata": {},
   "outputs": [],
   "source": []
  },
  {
   "cell_type": "code",
   "execution_count": null,
   "metadata": {},
   "outputs": [],
   "source": []
  },
  {
   "cell_type": "code",
   "execution_count": null,
   "metadata": {},
   "outputs": [],
   "source": []
  },
  {
   "cell_type": "code",
   "execution_count": null,
   "metadata": {},
   "outputs": [],
   "source": []
  }
 ],
 "metadata": {
  "kernelspec": {
   "display_name": "Python 3 (ipykernel)",
   "language": "python",
   "name": "python3"
  },
  "language_info": {
   "codemirror_mode": {
    "name": "ipython",
    "version": 3
   },
   "file_extension": ".py",
   "mimetype": "text/x-python",
   "name": "python",
   "nbconvert_exporter": "python",
   "pygments_lexer": "ipython3",
   "version": "3.9.6"
  }
 },
 "nbformat": 4,
 "nbformat_minor": 4
}
