{
 "cells": [
  {
   "cell_type": "markdown",
   "id": "24617aab-4a85-4754-a566-d35c5fc173fc",
   "metadata": {},
   "source": [
    "# **analysing the 3-mer fivemer redo somulations**"
   ]
  },
  {
   "cell_type": "code",
   "execution_count": 1,
   "id": "1b3fa1f1-9e25-4491-abaf-2682cd27562b",
   "metadata": {},
   "outputs": [],
   "source": [
    "import numpy as np \n",
    "import json \n",
    "import matplotlib.pyplot as plt"
   ]
  },
  {
   "cell_type": "markdown",
   "id": "74d388c2-6e22-451c-b609-a5510cd01dea",
   "metadata": {},
   "source": [
    "### **coding**\n",
    "- basically want to read in 100 trials, calculate mutability"
   ]
  },
  {
   "cell_type": "code",
   "execution_count": 2,
   "id": "c6bc6e73-38d0-44cd-8f45-1ec83c045fb9",
   "metadata": {},
   "outputs": [],
   "source": [
    "avMut_coding_dict = {}\n",
    "nTrial=100\n",
    "for i in range(nTrial): \n",
    "    weights = json.load(open(\"data/fivemer_sims/threemer/coding/trial{}_weights.txt\".format(i)))\n",
    "    weightsI = json.load(open(\"data/fivemer_sims/threemer/coding/trial{}_weightsI.txt\".format(i)))\n",
    "    avMut_coding_dict[\"trial{}\".format(i)] = {\"initial\":np.mean(weightsI),\"final\":np.mean(weights)}"
   ]
  },
  {
   "cell_type": "code",
   "execution_count": 10,
   "id": "25120834-cfad-473e-91fb-1f1796eeeb60",
   "metadata": {},
   "outputs": [],
   "source": [
    "avMut_initial_cds = []\n",
    "avMut_final_cds = []\n",
    "avMut_chnage_cds = []\n",
    "for key,val in avMut_coding_dict.items(): \n",
    "    avMut_initial_cds.append(val[\"initial\"])\n",
    "    avMut_final_cds.append(val[\"final\"])\n",
    "    avMut_chnage_cds.append((val[\"initial\"]-val[\"final\"])/val[\"initial\"])"
   ]
  },
  {
   "cell_type": "code",
   "execution_count": 11,
   "id": "1221d794-e5ed-4f9f-8f27-8bd9da678b0d",
   "metadata": {},
   "outputs": [
    {
     "data": {
      "text/plain": [
       "<BarContainer object of 3 artists>"
      ]
     },
     "execution_count": 11,
     "metadata": {},
     "output_type": "execute_result"
    },
    {
     "data": {
      "image/png": "[encoded data removed]",
      "text/plain": [
       "<Figure size 432x288 with 1 Axes>"
      ]
     },
     "metadata": {
      "needs_background": "light"
     },
     "output_type": "display_data"
    }
   ],
   "source": [
    "plt.bar([\"initial\",\"final\",\"change\"],[np.mean(avMut_initial_cds),np.mean(avMut_final_cds),np.mean(avMut_chnage_cds)])"
   ]
  },
  {
   "cell_type": "markdown",
   "id": "e36577f4-7268-4c80-a015-a8bf22875682",
   "metadata": {},
   "source": [
    "### **noncoding**"
   ]
  },
  {
   "cell_type": "code",
   "execution_count": 12,
   "id": "3d53676c-e214-42b6-96a3-6d78fbbd570c",
   "metadata": {},
   "outputs": [],
   "source": [
    "avMut_noncoding_dict = {}\n",
    "nTrial=100\n",
    "for i in range(nTrial): \n",
    "    weights = json.load(open(\"data/fivemer_sims/threemer/nonCoding/trialtrial{}_weights.txt\".format(i)))\n",
    "    weightsI = json.load(open(\"data/fivemer_sims/threemer/nonCoding/trialtrial{}_weightsI.txt\".format(i)))\n",
    "    avMut_noncoding_dict[\"trial{}\".format(i)] = {\"initial\":np.mean(weightsI),\"final\":np.mean(weights)}"
   ]
  },
  {
   "cell_type": "code",
   "execution_count": 13,
   "id": "40c78b89-f5bb-43ba-ac99-2375812c3e94",
   "metadata": {},
   "outputs": [],
   "source": [
    "avMut_initial_Ncds = []\n",
    "avMut_final_Ncds = []\n",
    "avMut_chnage_Ncds = []\n",
    "for key,val in avMut_noncoding_dict.items(): \n",
    "    avMut_initial_Ncds.append(val[\"initial\"])\n",
    "    avMut_final_Ncds.append(val[\"final\"])\n",
    "    avMut_chnage_Ncds.append((val[\"initial\"]-val[\"final\"])/val[\"initial\"])"
   ]
  },
  {
   "cell_type": "code",
   "execution_count": 15,
   "id": "55d991bc-87ec-4425-93c1-4c8d006c00b9",
   "metadata": {},
   "outputs": [
    {
     "data": {
      "text/plain": [
       "(3.481455008035961e-05, 2.9360326157900777e-05, 0.15666506991672413)"
      ]
     },
     "execution_count": 15,
     "metadata": {},
     "output_type": "execute_result"
    }
   ],
   "source": [
    "np.mean(avMut_final_cds), np.mean(avMut_final_Ncds), (np.mean(avMut_final_cds)- np.mean(avMut_final_Ncds))/np.mean(avMut_final_cds) "
   ]
  },
  {
   "cell_type": "code",
   "execution_count": 16,
   "id": "94f4a099-d6cc-4171-97de-fdfe6b5bea2f",
   "metadata": {},
   "outputs": [
    {
     "data": {
      "text/plain": [
       "(3.875366010614184e-07, 5.7570711207955486e-08)"
      ]
     },
     "execution_count": 16,
     "metadata": {},
     "output_type": "execute_result"
    }
   ],
   "source": [
    "np.std(avMut_final_cds)/10, np.std(avMut_final_Ncds)/10"
   ]
  }
 ],
 "metadata": {
  "kernelspec": {
   "display_name": "Python [conda env:.conda-mutEq]",
   "language": "python",
   "name": "conda-env-.conda-mutEq-py"
  },
  "language_info": {
   "codemirror_mode": {
    "name": "ipython",
    "version": 3
   },
   "file_extension": ".py",
   "mimetype": "text/x-python",
   "name": "python",
   "nbconvert_exporter": "python",
   "pygments_lexer": "ipython3",
   "version": "3.9.6"
  }
 },
 "nbformat": 4,
 "nbformat_minor": 5
}
