{
 "cells": [
  {
   "cell_type": "markdown",
   "metadata": {},
   "source": [
    "** 2020 12 06 reset dna script with genome wide mutabiliy model ** "
   ]
  },
  {
   "cell_type": "code",
   "execution_count": 16,
   "metadata": {},
   "outputs": [
    {
     "name": "stdout",
     "output_type": "stream",
     "text": [
      "100%|██████████████████████████████████████████| 10/10 [00:00<00:00, 364.42it/s]\n",
      "100%|██████████████████████████████████████████| 10/10 [00:00<00:00, 313.30it/s]\n",
      "100%|██████████████████████████████████████████| 10/10 [00:00<00:00, 331.83it/s]\n"
     ]
    }
   ],
   "source": [
    "!parallel -j 10 -i sh -c \"python3.5 Script_reset_DNAoutput_every_100kgen_proper_invariant.py Trial{} 1000000 100000 > data/dif_DNA/Trial{}_stdOut.txt\" -- {1..10}"
   ]
  },
  {
   "cell_type": "code",
   "execution_count": 10,
   "metadata": {},
   "outputs": [],
   "source": [
    "!rm data/dif_DNA/*"
   ]
  },
  {
   "cell_type": "code",
   "execution_count": 11,
   "metadata": {},
   "outputs": [],
   "source": [
    "!cp ../Old200kSampledMutModel_2020_12_02/Old_workbooks_scripting_2020_11_14/Scripting_data/Files_to* ./data/same_DNA/"
   ]
  },
  {
   "cell_type": "markdown",
   "metadata": {},
   "source": [
    "** 2020 02 12 resuing dna basic redo to inlcue genome wide mut ** "
   ]
  },
  {
   "cell_type": "code",
   "execution_count": 13,
   "metadata": {},
   "outputs": [
    {
     "name": "stdout",
     "output_type": "stream",
     "text": [
      "100%|███████████████████████████████████████████| 11/11 [00:00<00:00, 20.53it/s]\n",
      "100%|███████████████████████████████████████████| 11/11 [00:00<00:00, 20.12it/s]\n",
      "100%|███████████████████████████████████████████| 11/11 [00:00<00:00, 19.83it/s]\n"
     ]
    }
   ],
   "source": [
    "!parallel -j 10 -i sh -c \"python3.5 Script_reuse_DNAoutput_every_100kgen.py Trial{} 1000000 data/same_DNA/Files_to_use_for_parallel_DNA_gen0_cds.txt data/same_DNA/Files_to_use_for_parallel_DNA_map_cds_invariant50.txt > data/same_DNA/Trial{}_stdOut.txt\" -- {1..10}"
   ]
  },
  {
   "cell_type": "code",
   "execution_count": 18,
   "metadata": {},
   "outputs": [],
   "source": [
    "!rm data/dif_DNA/Trial*"
   ]
  },
  {
   "cell_type": "markdown",
   "metadata": {},
   "source": [
    "** 2020 12 17 getting the reset dna for 0.1 mutation coverage ** "
   ]
  },
  {
   "cell_type": "code",
   "execution_count": null,
   "metadata": {},
   "outputs": [],
   "source": [
    "!parallel -j 10 -i sh -c \"python3.5 Script_reset_DNAoutput_every_100kgen_proper_invariant.py 2020_12_17_Trial{} 10000 100000 > data/dif_DNA/2020_12_17_Trial{}_stdOut.txt\" -- {1..10}"
   ]
  },
  {
   "cell_type": "markdown",
   "metadata": {},
   "source": [
    "** 2021 04 17 getting the reset dna for 2 mutation coverage ** "
   ]
  },
  {
   "cell_type": "code",
   "execution_count": null,
   "metadata": {},
   "outputs": [],
   "source": [
    "!parallel -j 10 -i sh -c \"python3.5 Script_reset_DNAoutput_every_100kgen_proper_invariant.py 2020_12_17_Trial{} 10000 100000 > data/dif_DNA/2020_12_17_Trial{}_stdOut.txt\" -- {1..10}"
   ]
  },
  {
   "cell_type": "markdown",
   "metadata": {},
   "source": [
    "**2022 01 04 redoing the \"reuse\" sim to double check something**\n",
    "- going to use another file that was generated is a \"reset dna\" simulatyion\n",
    "- lets use trial 10"
   ]
  },
  {
   "cell_type": "code",
   "execution_count": null,
   "metadata": {},
   "outputs": [],
   "source": [
    "!parallel -j 10 -i sh -c \"python3.5 Script_reuse_DNAoutput_every_100kgen_redo_2022_01_04.py redo_Trial{} 1000000 data/same_DNA/Files_to_use_for_parallel_DNA_gen0_cds.txt data/dif_DNA/2020_12_17_Trial10_DNA_map_cds_invariant50.txt > data/same_DNA/redo_Trial{}_stdOut.txt\" -- {1..10}"
   ]
  }
 ],
 "metadata": {
  "kernelspec": {
   "display_name": "Python 3 (ipykernel)",
   "language": "python",
   "name": "python3"
  },
  "language_info": {
   "codemirror_mode": {
    "name": "ipython",
    "version": 3
   },
   "file_extension": ".py",
   "mimetype": "text/x-python",
   "name": "python",
   "nbconvert_exporter": "python",
   "pygments_lexer": "ipython3",
   "version": "3.9.6"
  }
 },
 "nbformat": 4,
 "nbformat_minor": 4
}
