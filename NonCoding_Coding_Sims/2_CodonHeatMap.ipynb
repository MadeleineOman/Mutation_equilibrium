{
 "cells": [
  {
   "cell_type": "markdown",
   "metadata": {},
   "source": [
    "# ** heatmap ** "
   ]
  },
  {
   "cell_type": "code",
   "execution_count": 1,
   "metadata": {},
   "outputs": [],
   "source": [
    "import matplotlib.pyplot as plt\n",
    "import matplotlib\n",
    "import numpy as np \n",
    "import matplotlib.patches as mpatches\n",
    "import numpy as np \n",
    "import copy\n",
    "import json\n",
    "import pandas as pd\n",
    "import math\n",
    "from datetime import datetime"
   ]
  },
  {
   "cell_type": "code",
   "execution_count": 2,
   "metadata": {},
   "outputs": [],
   "source": [
    "plt.style.use(\"seaborn-darkgrid\")"
   ]
  },
  {
   "cell_type": "code",
   "execution_count": 62,
   "metadata": {},
   "outputs": [],
   "source": [
    "#initial half model \n",
    "model = {'AAG': [0.35645079041305455, {'ATG': 0.15259895088221268, 'ACG': 0.2341440152598951, 'AGG': 0.6132570338578922}], 'GAC': [0.38170347003154576, {'GGC': 0.581267217630854, 'GCC': 0.17447199265381083, 'GTC': 0.24426078971533516}], 'TCA': [0.44338655339094774, {'TGA': 0.2484307895606211, 'TTA': 0.6247109349190618, 'TAA': 0.12685827552031714}], 'CCA': [0.4589957500393515, {'CAA': 0.10185185185185185, 'CTA': 0.6903292181069959, 'CGA': 0.20781893004115226}], 'GCC': [0.5527913809990206, {'GGC': 0.1630049610205528, 'GAC': 0.23848334514528702, 'GTC': 0.5985116938341601}], 'CCT': [0.5123493090267568, {'CTT': 0.6662840746054519, 'CGT': 0.22955523672883785, 'CAT': 0.10416068866571017}], 'GCA': [0.49819102749638206, {'GGA': 0.15359477124183007, 'GTA': 0.6016702977487292, 'GAA': 0.24473493100944083}], 'TAA': [0.3860215053763441, {'TGA': 0.5678471945881417, 'TTA': 0.22682053322721846, 'TCA': 0.20533227218463987}], 'ACT': [0.5261127596439169, {'AGT': 0.24844895657078397, 'AAT': 0.1551043429216018, 'ATT': 0.5964467005076142}], 'TAT': [0.544423228125351, {'TCT': 0.07654219104600785, 'TGT': 0.8021456571074892, 'TTT': 0.12131215184650299}], 'CAG': [0.4073735527117611, {'CGG': 0.6428571428571429, 'CCG': 0.20905011219147346, 'CTG': 0.1480927449513837}], 'AAA': [0.3198252625708709, {'AGA': 0.5239755884917175, 'ATA': 0.17988956698634118, 'ACA': 0.2961348445219413}], 'CCG': [0.943577893317928, {'CAG': 0.01, 'CGG': 0.04673469387755102, 'CTG': 0.943265306122449}], 'CAA': [0.36173285198555954, {'CCA': 0.28493013972055886, 'CTA': 0.13822355289421157, 'CGA': 0.5768463073852296}], 'ACA': [0.5516478655164787, {'AGA': 0.17802726543704891, 'ATA': 0.6555733761026463, 'AAA': 0.16639935846030474}], 'GCT': [0.5081906865451868, {'GAT': 0.16334661354581673, 'GGT': 0.20101412531691415, 'GTT': 0.6356392611372691}], 'CAC': [0.3995351785336996, {'CCC': 0.20359598096245374, 'CTC': 0.18244315177154943, 'CGC': 0.6139608672659969}], 'ACG': [0.9583888149134487, {'ATG': 0.922542549496353, 'AAG': 0.04341785342132685, 'AGG': 0.03403959708232025}], 'GAG': [0.3202682875707399, {'GTG': 0.23036649214659685, 'GGG': 0.5530104712041884, 'GCG': 0.21662303664921467}], 'AAT': [0.48758198043221157, {'ACT': 0.1133406835722161, 'AGT': 0.7592061742006616, 'ATT': 0.1274531422271224}], 'GCG': [0.9428571428571428, {'GTG': 0.9054178145087236, 'GGG': 0.027548209366391185, 'GAG': 0.06703397612488522}], 'CCC': [0.5453669813138123, {'CTC': 0.6450017661603674, 'CAC': 0.11974567290709998, 'CGC': 0.2352525609325327}], 'ACC': [0.6345660930062248, {'ATC': 0.532602423542989, 'AAC': 0.3147720715522216, 'AGC': 0.15262550490478938}], 'TCT': [0.4717741935483871, {'TGT': 0.34816490698843644, 'TAT': 0.1757164404223228, 'TTT': 0.47611865258924085}], 'TCG': [0.9197916666666667, {'TGG': 0.052095130237825596, 'TAG': 0.026896942242355604, 'TTG': 0.9210079275198187}], 'AAC': [0.3978541712283775, {'AGC': 0.6692350027517887, 'ACC': 0.17776554760594387, 'ATC': 0.15299944964226747}], 'GAT': [0.4466903598400711, {'GCT': 0.11636001989060167, 'GGT': 0.5862754848334162, 'GTT': 0.2973644952759821}], 'TAG': [0.38808618504435993, {'TGG': 0.6962769431743958, 'TCG': 0.16525146962769433, 'TTG': 0.13847158719790986}], 'GAA': [0.30323054331864907, {'GGA': 0.5617433414043583, 'GTA': 0.19915254237288135, 'GCA': 0.2391041162227603}], 'CAT': [0.5741935483870968, {'CGT': 0.716724286949006, 'CTT': 0.1497407087294728, 'CCT': 0.13353500432152118}], 'TCC': [0.5196784458214705, {'TGC': 0.22687721559780857, 'TTC': 0.602964872703835, 'TAC': 0.17015791169835642}], 'TAC': [0.4143262045864468, {'TGC': 0.7276119402985075, 'TTC': 0.1455223880597015, 'TCC': 0.12686567164179105}]}\n",
    "#doubled model \n",
    "model = {'GTC': [0.38170347003154576, {'GCC': 0.581267217630854, 'GGC': 0.17447199265381083, 'GAC': 0.24426078971533516}], 'TGA': [0.44338655339094774, {'TAA': 0.6247109349190618, 'TTA': 0.12685827552031714, 'TCA': 0.2484307895606211}], 'TAT': [0.544423228125351, {'TTT': 0.12131215184650299, 'TGT': 0.8021456571074892, 'TCT': 0.07654219104600785}], 'CGC': [0.9428571428571428, {'CTC': 0.06703397612488522, 'CCC': 0.027548209366391185, 'CAC': 0.9054178145087236}], 'ATT': [0.48758198043221157, {'AGT': 0.1133406835722161, 'ACT': 0.7592061742006616, 'AAT': 0.1274531422271224}], 'GCA': [0.49819102749638206, {'GTA': 0.6016702977487292, 'GAA': 0.24473493100944083, 'GGA': 0.15359477124183007}], 'CGT': [0.9583888149134487, {'CTT': 0.04341785342132685, 'CCT': 0.03403959708232025, 'CAT': 0.922542549496353}], 'CCA': [0.4589957500393515, {'CTA': 0.6903292181069959, 'CGA': 0.20781893004115226, 'CAA': 0.10185185185185185}], 'GGA': [0.5196784458214705, {'GTA': 0.17015791169835642, 'GAA': 0.602964872703835, 'GCA': 0.22687721559780857}], 'AAA': [0.3198252625708709, {'ACA': 0.2961348445219413, 'ATA': 0.17988956698634118, 'AGA': 0.5239755884917175}], 'AAC': [0.3978541712283775, {'ACC': 0.17776554760594387, 'AGC': 0.6692350027517887, 'ATC': 0.15299944964226747}], 'CTC': [0.3202682875707399, {'CGC': 0.21662303664921467, 'CCC': 0.5530104712041884, 'CAC': 0.23036649214659685}], 'AGG': [0.5123493090267568, {'ACG': 0.22955523672883785, 'AAG': 0.6662840746054519, 'ATG': 0.10416068866571017}], 'AGA': [0.4717741935483871, {'ACA': 0.34816490698843644, 'AAA': 0.47611865258924085, 'ATA': 0.1757164404223228}], 'AGC': [0.5081906865451868, {'ACC': 0.20101412531691415, 'AAC': 0.6356392611372691, 'ATC': 0.16334661354581673}], 'CAA': [0.36173285198555954, {'CTA': 0.13822355289421157, 'CGA': 0.5768463073852296, 'CCA': 0.28493013972055886}], 'CTT': [0.35645079041305455, {'CGT': 0.2341440152598951, 'CCT': 0.6132570338578922, 'CAT': 0.15259895088221268}], 'CAC': [0.3995351785336996, {'CCC': 0.20359598096245374, 'CTC': 0.18244315177154943, 'CGC': 0.6139608672659969}], 'TAG': [0.38808618504435993, {'TCG': 0.16525146962769433, 'TGG': 0.6962769431743958, 'TTG': 0.13847158719790986}], 'ACA': [0.5516478655164787, {'ATA': 0.6555733761026463, 'AGA': 0.17802726543704891, 'AAA': 0.16639935846030474}], 'CTG': [0.4073735527117611, {'CGG': 0.20905011219147346, 'CAG': 0.1480927449513837, 'CCG': 0.6428571428571429}], 'ACT': [0.5261127596439169, {'AGT': 0.24844895657078397, 'ATT': 0.5964467005076142, 'AAT': 0.1551043429216018}], 'TTA': [0.3860215053763441, {'TGA': 0.20533227218463987, 'TAA': 0.22682053322721846, 'TCA': 0.5678471945881417}], 'CGA': [0.9197916666666667, {'CTA': 0.026896942242355604, 'CAA': 0.9210079275198187, 'CCA': 0.052095130237825596}], 'GTA': [0.4143262045864468, {'GGA': 0.12686567164179105, 'GAA': 0.1455223880597015, 'GCA': 0.7276119402985075}], 'GGC': [0.5527913809990206, {'GCC': 0.1630049610205528, 'GTC': 0.23848334514528702, 'GAC': 0.5985116938341601}], 'AGT': [0.5261127596439169, {'ATT': 0.1551043429216018, 'ACT': 0.24844895657078397, 'AAT': 0.5964467005076142}], 'AAT': [0.48758198043221157, {'AGT': 0.7592061742006616, 'ATT': 0.1274531422271224, 'ACT': 0.1133406835722161}], 'CCG': [0.943577893317928, {'CTG': 0.943265306122449, 'CGG': 0.04673469387755102, 'CAG': 0.01}], 'ACC': [0.6345660930062248, {'AAC': 0.3147720715522216, 'ATC': 0.532602423542989, 'AGC': 0.15262550490478938}], 'TCC': [0.5196784458214705, {'TTC': 0.602964872703835, 'TGC': 0.22687721559780857, 'TAC': 0.17015791169835642}], 'TCT': [0.4717741935483871, {'TTT': 0.47611865258924085, 'TGT': 0.34816490698843644, 'TAT': 0.1757164404223228}], 'CAG': [0.4073735527117611, {'CTG': 0.1480927449513837, 'CGG': 0.6428571428571429, 'CCG': 0.20905011219147346}], 'TTG': [0.36173285198555954, {'TCG': 0.5768463073852296, 'TGG': 0.28493013972055886, 'TAG': 0.13822355289421157}], 'ATC': [0.4466903598400711, {'ACC': 0.5862754848334162, 'AAC': 0.2973644952759821, 'AGC': 0.11636001989060167}], 'CGG': [0.943577893317928, {'CTG': 0.01, 'CAG': 0.943265306122449, 'CCG': 0.04673469387755102}], 'TTC': [0.30323054331864907, {'TGC': 0.2391041162227603, 'TCC': 0.5617433414043583, 'TAC': 0.19915254237288135}], 'TAA': [0.3860215053763441, {'TGA': 0.5678471945881417, 'TTA': 0.22682053322721846, 'TCA': 0.20533227218463987}], 'ATG': [0.5741935483870968, {'ACG': 0.716724286949006, 'AAG': 0.1497407087294728, 'AGG': 0.13353500432152118}], 'GGT': [0.6345660930062248, {'GTT': 0.3147720715522216, 'GCT': 0.15262550490478938, 'GAT': 0.532602423542989}], 'TGC': [0.49819102749638206, {'TTC': 0.24473493100944083, 'TCC': 0.15359477124183007, 'TAC': 0.6016702977487292}], 'GTG': [0.3995351785336996, {'GAG': 0.18244315177154943, 'GCG': 0.6139608672659969, 'GGG': 0.20359598096245374}], 'GGG': [0.5453669813138123, {'GAG': 0.6450017661603674, 'GTG': 0.11974567290709998, 'GCG': 0.2352525609325327}], 'ACG': [0.9583888149134487, {'ATG': 0.922542549496353, 'AAG': 0.04341785342132685, 'AGG': 0.03403959708232025}], 'TGG': [0.4589957500393515, {'TCG': 0.20781893004115226, 'TTG': 0.10185185185185185, 'TAG': 0.6903292181069959}], 'GAA': [0.30323054331864907, {'GTA': 0.19915254237288135, 'GGA': 0.5617433414043583, 'GCA': 0.2391041162227603}], 'GAC': [0.38170347003154576, {'GCC': 0.17447199265381083, 'GTC': 0.24426078971533516, 'GGC': 0.581267217630854}], 'TAC': [0.4143262045864468, {'TTC': 0.1455223880597015, 'TGC': 0.7276119402985075, 'TCC': 0.12686567164179105}], 'GAT': [0.4466903598400711, {'GTT': 0.2973644952759821, 'GCT': 0.11636001989060167, 'GGT': 0.5862754848334162}], 'ATA': [0.544423228125351, {'ACA': 0.8021456571074892, 'AAA': 0.12131215184650299, 'AGA': 0.07654219104600785}], 'GCT': [0.5081906865451868, {'GTT': 0.6356392611372691, 'GGT': 0.20101412531691415, 'GAT': 0.16334661354581673}], 'CAT': [0.5741935483870968, {'CTT': 0.1497407087294728, 'CGT': 0.716724286949006, 'CCT': 0.13353500432152118}], 'CTA': [0.38808618504435993, {'CGA': 0.16525146962769433, 'CAA': 0.13847158719790986, 'CCA': 0.6962769431743958}], 'CCT': [0.5123493090267568, {'CTT': 0.6662840746054519, 'CGT': 0.22955523672883785, 'CAT': 0.10416068866571017}], 'TTT': [0.3198252625708709, {'TCT': 0.5239755884917175, 'TGT': 0.2961348445219413, 'TAT': 0.17988956698634118}], 'TCG': [0.9197916666666667, {'TGG': 0.052095130237825596, 'TTG': 0.9210079275198187, 'TAG': 0.026896942242355604}], 'AAG': [0.35645079041305455, {'ATG': 0.15259895088221268, 'ACG': 0.2341440152598951, 'AGG': 0.6132570338578922}], 'GTT': [0.3978541712283775, {'GCT': 0.6692350027517887, 'GGT': 0.17776554760594387, 'GAT': 0.15299944964226747}], 'TCA': [0.44338655339094774, {'TAA': 0.12685827552031714, 'TGA': 0.2484307895606211, 'TTA': 0.6247109349190618}], 'CCC': [0.5453669813138123, {'CTC': 0.6450017661603674, 'CGC': 0.2352525609325327, 'CAC': 0.11974567290709998}], 'GAG': [0.3202682875707399, {'GTG': 0.23036649214659685, 'GCG': 0.21662303664921467, 'GGG': 0.5530104712041884}], 'GCG': [0.9428571428571428, {'GAG': 0.06703397612488522, 'GTG': 0.9054178145087236, 'GGG': 0.027548209366391185}], 'GCC': [0.5527913809990206, {'GTC': 0.5985116938341601, 'GGC': 0.1630049610205528, 'GAC': 0.23848334514528702}], 'TGT': [0.5516478655164787, {'TCT': 0.17802726543704891, 'TAT': 0.6555733761026463, 'TTT': 0.16639935846030474}]}\n",
    "bases = [ \"T\", \"C\",\"A\", \"G\"]"
   ]
  },
  {
   "cell_type": "markdown",
   "metadata": {},
   "source": [
    "# ** heat map using codons only ** \n",
    "- going to need: \n",
    "    - DNAI dict\n",
    "    - DNAF dict\n",
    "    - DNA map dict... \n",
    "    - exon insertion dictionary "
   ]
  },
  {
   "cell_type": "code",
   "execution_count": 4,
   "metadata": {},
   "outputs": [],
   "source": [
    "file_path_afterSim = \"data/dif_DNA/\"\n",
    "sim_name_afterSim = \"Trial\"\n",
    "about_sim = \"_cds_invariant50\"\n",
    "nTrials= 10 #\n",
    "genToUse = 600000"
   ]
  },
  {
   "cell_type": "code",
   "execution_count": 200,
   "metadata": {},
   "outputs": [],
   "source": [
    "DNA_dataDict = {}\n",
    "\n",
    "#DifDNA800kgen trial 1-5\n",
    "for index_tmp in range(1,nTrials+1):\n",
    "    file_name_exondict = sim_name_afterSim+str(index_tmp)+\"_exon_insertion_dict.txt\"\n",
    "    file_name_dnaI = sim_name_afterSim+str(index_tmp)+\"_DNA_gen0_cds.txt\"\n",
    "    file_name_dnaF = sim_name_afterSim+str(index_tmp)+\"_DNA_final\"+about_sim+\"_\"+str(genToUse)+\".txt\"\n",
    "    file_name_dnamap = sim_name_afterSim+str(index_tmp)+\"_DNA_map\"+about_sim+\".txt\"\n",
    "    \n",
    "    file_object_exondict = json.loads(open(file_path_afterSim+file_name_exondict).readlines()[0])\n",
    "    file_object_dnaI = open(file_path_afterSim+file_name_dnaI).readlines()[0]\n",
    "    file_object_dnaF = open(file_path_afterSim+file_name_dnaF).readlines()[0]\n",
    "    file_object_dnamap = open(file_path_afterSim+file_name_dnamap).readlines()[0]\n",
    "    \n",
    "    DNA_dataDict[\"Trial\"+str(index_tmp)] = [file_object_dnaI, file_object_dnaF, file_object_dnamap, file_object_exondict]  \n",
    "\n",
    "\n",
    "#adding codonsI and codonsF list to the dna_data dictionary \n",
    "for trial_number in range(1,nTrials+1):\n",
    "    trial_name = \"Trial\"+str(trial_number)\n",
    "\n",
    "    current_DNAI = DNA_dataDict[trial_name][0]\n",
    "    current_DNAF = DNA_dataDict[trial_name][1]\n",
    "    current_codonsI = []\n",
    "    current_codonsF = []\n",
    "\n",
    "    tmp_nCodons = 0\n",
    "\n",
    "    for exon_bounds_list in DNA_dataDict[trial_name][3].values():\n",
    "\n",
    "        i = int(exon_bounds_list[0])+1#set the start of the codon (this is proven as the start)\n",
    "\n",
    "        tmp_exon_codons = int((int(exon_bounds_list[1]) - int(exon_bounds_list[0]))/3)\n",
    "        tmp_nCodons += tmp_exon_codons\n",
    "\n",
    "\n",
    "        while i <= int(exon_bounds_list[1]): \n",
    "            current_codonsI.append(current_DNAI[i:i+3])\n",
    "            current_codonsF.append(current_DNAF[i:i+3])\n",
    "            i+= 3\n",
    "        \n",
    "    \n",
    "    DNA_dataDict[trial_name].extend([current_codonsI, current_codonsF])"
   ]
  },
  {
   "cell_type": "code",
   "execution_count": 201,
   "metadata": {},
   "outputs": [],
   "source": [
    "# creatign dictionary that has the initial, final, and (final-initial)/initial freq for each tripet (one list of each, n = ntrial) \n",
    "triplets = []\n",
    "count_change_dictionary = {}\n",
    "for base1 in bases: \n",
    "    for base2 in bases: \n",
    "        for base3 in bases: \n",
    "            \n",
    "            triplet = base1+base2+base3\n",
    "            triplets.append(triplet)\n",
    "            count_change_dictionary[triplet] = [[],[],[]]\n",
    "            \n",
    "            for trial_number in range(1,nTrials+1):\n",
    "                \n",
    "                trial_name = \"Trial\"+str(trial_number)\n",
    "                \n",
    "                count_initial = DNA_dataDict[trial_name][4].count(triplet)\n",
    "                count_final = DNA_dataDict[trial_name][5].count(triplet)\n",
    "                \n",
    "                count_change_dictionary[triplet][0].append(count_initial)\n",
    "                count_change_dictionary[triplet][1].append(count_final)\n",
    "                count_change_dictionary[triplet][2].append((count_final-count_initial)/count_initial)"
   ]
  },
  {
   "cell_type": "code",
   "execution_count": 202,
   "metadata": {},
   "outputs": [],
   "source": [
    "#count_change_dictionary"
   ]
  },
  {
   "cell_type": "code",
   "execution_count": 203,
   "metadata": {},
   "outputs": [],
   "source": [
    "#making the list of mean chnage counts for each triplet in the order for \"triplets\" \n",
    "codon_meanChangeCount_array = []\n",
    "for base1 in bases: \n",
    "\n",
    "    for base3 in bases:\n",
    "        codon_counts_list = []\n",
    "        \n",
    "        for base2 in bases: \n",
    "            codon = base1+base2+base3\n",
    "            codon_counts_list.append(np.mean(count_change_dictionary[codon][2]))\n",
    "        codon_meanChangeCount_array.append(codon_counts_list)\n",
    "    "
   ]
  },
  {
   "cell_type": "markdown",
   "metadata": {},
   "source": [
    "** making the cmap center at 0 ** "
   ]
  },
  {
   "cell_type": "code",
   "execution_count": 204,
   "metadata": {},
   "outputs": [],
   "source": [
    "import numpy as np\n",
    "import matplotlib\n",
    "import matplotlib.pyplot as plt\n",
    "from mpl_toolkits.axes_grid1 import AxesGrid\n",
    "\n",
    "def shiftedColorMap(cmap, codon_meanChangeCount_array, start=0,  stop=1.0, name='shiftedcmap'):\n",
    "    '''\n",
    "    Function to offset the \"center\" of a colormap. Useful for\n",
    "    data with a negative min and positive max and you want the\n",
    "    middle of the colormap's dynamic range to be at zero.\n",
    "\n",
    "    Input\n",
    "    -----\n",
    "      cmap : The matplotlib colormap to be altered\n",
    "      start : Offset from lowest point in the colormap's range.\n",
    "          Defaults to 0.0 (no lower offset). Should be between\n",
    "          0.0 and `midpoint`.\n",
    "      midpoint : The new center of the colormap. Defaults to \n",
    "          0.5 (no shift). Should be between 0.0 and 1.0. In\n",
    "          general, this should be  1 - vmax / (vmax + abs(vmin))\n",
    "          For example if your data range from -15.0 to +5.0 and\n",
    "          you want the center of the colormap at 0.0, `midpoint`\n",
    "          should be set to  1 - 5/(5 + 15)) or 0.75\n",
    "      stop : Offset from highest point in the colormap's range.\n",
    "          Defaults to 1.0 (no upper offset). Should be between\n",
    "          `midpoint` and 1.0.\n",
    "    '''\n",
    "    \n",
    "    cmap_counts = []\n",
    "    for value in codon_meanChangeCount_array: \n",
    "        cmap_counts.extend(value)\n",
    "\n",
    "    cmapmax = max(cmap_counts)\n",
    "    cmapmin = min(cmap_counts)\n",
    "    \n",
    "    midpoint = 1 - cmapmax/(cmapmax - cmapmin)\n",
    "    \n",
    "    cdict = {\n",
    "        'red': [],\n",
    "        'green': [],\n",
    "        'blue': [],\n",
    "        'alpha': []\n",
    "    }\n",
    "\n",
    "    # regular index to compute the colors\n",
    "    reg_index = np.linspace(start, stop, 257)\n",
    "\n",
    "    # shifted index to match the data\n",
    "    shift_index = np.hstack([\n",
    "        np.linspace(start, midpoint, 128, endpoint=False), \n",
    "        np.linspace(midpoint, stop, 129, endpoint=True)\n",
    "    ])\n",
    "\n",
    "    for ri, si in zip(reg_index, shift_index):\n",
    "        r, g, b, a = cmap(ri)\n",
    "\n",
    "        cdict['red'].append((si, r, r))\n",
    "        cdict['green'].append((si, g, g))\n",
    "        cdict['blue'].append((si, b, b))\n",
    "        cdict['alpha'].append((si, a, a))\n",
    "\n",
    "    newcmap = matplotlib.colors.LinearSegmentedColormap(name, cdict)\n",
    "    plt.register_cmap(cmap=newcmap)\n",
    "\n",
    "    return newcmap"
   ]
  },
  {
   "cell_type": "code",
   "execution_count": 205,
   "metadata": {},
   "outputs": [],
   "source": [
    "base2_axis = []\n",
    "base1base3_axis = []\n",
    "for base13 in bases: \n",
    "    base2_axis.append(\"_\"+base13+\"_\")\n",
    "    for base2 in bases: \n",
    "        base1base3_axis.append(base13+\"_\"+base2)"
   ]
  },
  {
   "cell_type": "code",
   "execution_count": 206,
   "metadata": {},
   "outputs": [
    {
     "data": {
      "image/png": "[encoded data removed]",
      "text/plain": [
       "<matplotlib.figure.Figure at 0x7faa1e1fd080>"
      ]
     },
     "metadata": {},
     "output_type": "display_data"
    }
   ],
   "source": [
    "fig, ax = plt.subplots()\n",
    "im = ax.imshow(np.array(codon_meanChangeCount_array), interpolation=\"nearest\", cmap = shiftedColorMap(matplotlib.cm.coolwarm, codon_meanChangeCount_array), aspect =1/4)\n",
    "\n",
    "# We want to show all ticks...\n",
    "ax.set_xticks(np.arange(len(base2_axis)))\n",
    "ax.set_yticks(np.arange(len(base1base3_axis)))\n",
    "# ... and label them with the respective list entries\n",
    "ax.set_xticklabels(base2_axis)\n",
    "ax.set_yticklabels(base1base3_axis)\n",
    "\n",
    "# Rotate the tick labels and set their alignment.\n",
    "# plt.setp(ax.get_xticklabels(), rotation=45, ha=\"right\",\n",
    "#          rotation_mode=\"anchor\")\n",
    "\n",
    "# for i in range(len(base1base3_axis)):\n",
    "#     for j in range(len(base2_axis)):\n",
    "#         text = ax.text(j, i, np.array(codon_meanChangeCount_array)[i, j],\n",
    "#                        ha=\"center\", va=\"center\", color=\"k\")\n",
    "\n",
    "\n",
    "ax.grid(False)\n",
    "ax.set_title(\"Codon freq chnage heatmap all 64 codons\")\n",
    "#fig.tight_layout()\n",
    "fig = matplotlib.pyplot.gcf()\n",
    "fig.set_size_inches(18.5, 10.5)\n",
    "\n",
    "fig.colorbar(im).ax.tick_params(labelsize=17)\n",
    "plt.show()"
   ]
  },
  {
   "cell_type": "markdown",
   "metadata": {},
   "source": [
    "# ** creating mean chnage for each a.a. ** "
   ]
  },
  {
   "cell_type": "code",
   "execution_count": 2,
   "metadata": {},
   "outputs": [],
   "source": [
    "SynonymousCodons = {'CYS': ['TGT', 'TGC'], 'ASP': ['GAT', 'GAC'],\n",
    "'SER': ['TCT', 'TCG', 'TCA', 'TCC', 'AGC', 'AGT'],\n",
    "'GLN': ['CAA', 'CAG'], 'MET': ['ATG'], 'ASN': ['AAC', 'AAT'],\n",
    "'PRO': ['CCT', 'CCG', 'CCA', 'CCC'], 'LYS': ['AAG', 'AAA'],\n",
    "'STOP': ['TAG', 'TGA', 'TAA'], 'THR': ['ACC', 'ACA', 'ACG', 'ACT'],\n",
    "'PHE': ['TTT', 'TTC'], 'ALA': ['GCA', 'GCC', 'GCG', 'GCT'],\n",
    "'GLY': ['GGT', 'GGG', 'GGA', 'GGC'], 'ILE': ['ATC', 'ATA', 'ATT'],\n",
    "'LEU': ['TTA', 'TTG', 'CTC', 'CTT', 'CTG', 'CTA'], 'HIS': ['CAT', 'CAC'],\n",
    "'ARG': ['CGA', 'CGC', 'CGG', 'CGT', 'AGG', 'AGA'], 'TRP': ['TGG'],\n",
    "'VAL': ['GTA', 'GTC', 'GTG', 'GTT'], 'GLU': ['GAG', 'GAA'], 'TYR': ['TAT', 'TAC']}"
   ]
  },
  {
   "cell_type": "code",
   "execution_count": 5,
   "metadata": {},
   "outputs": [
    {
     "ename": "NameError",
     "evalue": "name 'count_change_dictionary' is not defined",
     "output_type": "error",
     "traceback": [
      "\u001b[0;31m---------------------------------------------------------------------------\u001b[0m",
      "\u001b[0;31mNameError\u001b[0m                                 Traceback (most recent call last)",
      "\u001b[0;32m<ipython-input-5-64b0d8a7f342>\u001b[0m in \u001b[0;36m<module>\u001b[0;34m\u001b[0m\n\u001b[1;32m      8\u001b[0m         \u001b[0;32mfor\u001b[0m \u001b[0msyn_codon\u001b[0m \u001b[0;32min\u001b[0m \u001b[0mcodon_list\u001b[0m\u001b[0;34m:\u001b[0m\u001b[0;34m\u001b[0m\u001b[0;34m\u001b[0m\u001b[0m\n\u001b[1;32m      9\u001b[0m \u001b[0;34m\u001b[0m\u001b[0m\n\u001b[0;32m---> 10\u001b[0;31m             \u001b[0msum_i\u001b[0m \u001b[0;34m+=\u001b[0m \u001b[0mcount_change_dictionary\u001b[0m\u001b[0;34m[\u001b[0m\u001b[0msyn_codon\u001b[0m\u001b[0;34m]\u001b[0m\u001b[0;34m[\u001b[0m\u001b[0;36m0\u001b[0m\u001b[0;34m]\u001b[0m\u001b[0;34m[\u001b[0m\u001b[0mtrial_number\u001b[0m\u001b[0;34m]\u001b[0m\u001b[0;34m\u001b[0m\u001b[0;34m\u001b[0m\u001b[0m\n\u001b[0m\u001b[1;32m     11\u001b[0m             \u001b[0msum_f\u001b[0m \u001b[0;34m+=\u001b[0m \u001b[0mcount_change_dictionary\u001b[0m\u001b[0;34m[\u001b[0m\u001b[0msyn_codon\u001b[0m\u001b[0;34m]\u001b[0m\u001b[0;34m[\u001b[0m\u001b[0;36m1\u001b[0m\u001b[0;34m]\u001b[0m\u001b[0;34m[\u001b[0m\u001b[0mtrial_number\u001b[0m\u001b[0;34m]\u001b[0m\u001b[0;34m\u001b[0m\u001b[0;34m\u001b[0m\u001b[0m\n\u001b[1;32m     12\u001b[0m         \u001b[0maa_current_chnage_list\u001b[0m\u001b[0;34m.\u001b[0m\u001b[0mappend\u001b[0m\u001b[0;34m(\u001b[0m\u001b[0;34m(\u001b[0m\u001b[0msum_f\u001b[0m\u001b[0;34m-\u001b[0m\u001b[0msum_i\u001b[0m\u001b[0;34m)\u001b[0m\u001b[0;34m/\u001b[0m\u001b[0msum_i\u001b[0m\u001b[0;34m)\u001b[0m\u001b[0;34m\u001b[0m\u001b[0;34m\u001b[0m\u001b[0m\n",
      "\u001b[0;31mNameError\u001b[0m: name 'count_change_dictionary' is not defined"
     ]
    }
   ],
   "source": [
    "aa_mean_change = {}\n",
    "\n",
    "for aa, codon_list in SynonymousCodons.items(): \n",
    "    aa_current_chnage_list = []\n",
    "    for trial_number in range(nTrials): \n",
    "        sum_i = 0\n",
    "        sum_f = 0\n",
    "        for syn_codon in codon_list: \n",
    "            \n",
    "            sum_i += count_change_dictionary[syn_codon][0][trial_number]\n",
    "            sum_f += count_change_dictionary[syn_codon][1][trial_number]\n",
    "        aa_current_chnage_list.append((sum_f-sum_i)/sum_i)\n",
    "    aa_mean_change[aa] = aa_current_chnage_list"
   ]
  },
  {
   "cell_type": "markdown",
   "metadata": {},
   "source": [
    "** saving to df ** "
   ]
  },
  {
   "cell_type": "code",
   "execution_count": 190,
   "metadata": {},
   "outputs": [],
   "source": [
    "aa_mean_change_df = pd.DataFrame.from_dict(aa_mean_change)\n",
    "timestamp = datetime.now().strftime(\"%Y/%m/%d\").replace(\"/\", \"_\").replace(\":\", \"_\")\n",
    "aa_mean_change_df.to_csv(\"aa_mean_change_{t}.csv\".format(t=timestamp))"
   ]
  },
  {
   "cell_type": "markdown",
   "metadata": {},
   "source": [
    "# ** making the heatmap but for a.a.s ** "
   ]
  },
  {
   "cell_type": "code",
   "execution_count": 181,
   "metadata": {},
   "outputs": [],
   "source": [
    "SynonymousCodons_rev = {}\n",
    "for aa_key, codon_list in SynonymousCodons.items(): \n",
    "    for codon in codon_list: \n",
    "        SynonymousCodons_rev[codon] = aa_key"
   ]
  },
  {
   "cell_type": "code",
   "execution_count": 196,
   "metadata": {},
   "outputs": [],
   "source": [
    "#making the list of mean chnage counts for each triplet in the order for \"triplets\" \n",
    "aa_meanChangeCount_array = []\n",
    "for base1 in bases: \n",
    "\n",
    "    for base3 in bases:\n",
    "        aa_counts_list = []\n",
    "        \n",
    "        for base2 in bases: \n",
    "            codon = base1+base2+base3\n",
    "            aa = SynonymousCodons_rev[codon]\n",
    "            aa_counts_list.append(np.mean(aa_mean_change[aa]))\n",
    "        \n",
    "        \n",
    "        aa_meanChangeCount_array.append(aa_counts_list)\n",
    "    "
   ]
  },
  {
   "cell_type": "code",
   "execution_count": 209,
   "metadata": {},
   "outputs": [
    {
     "data": {
      "image/png": "[encoded data removed]",
      "text/plain": [
       "<matplotlib.figure.Figure at 0x7faa1adde9e8>"
      ]
     },
     "metadata": {},
     "output_type": "display_data"
    }
   ],
   "source": [
    "fig, ax = plt.subplots()\n",
    "im = ax.imshow(np.array(aa_meanChangeCount_array), interpolation=\"nearest\", cmap = shiftedColorMap(matplotlib.cm.coolwarm, aa_meanChangeCount_array), aspect =1/4)\n",
    "\n",
    "# We want to show all ticks...\n",
    "ax.set_xticks(np.arange(len(base2_axis)))\n",
    "ax.set_yticks(np.arange(len(base1base3_axis)))\n",
    "# ... and label them with the respective list entries\n",
    "ax.set_xticklabels(base2_axis)\n",
    "ax.set_yticklabels(base1base3_axis)\n",
    "\n",
    "# Rotate the tick labels and set their alignment.\n",
    "# plt.setp(ax.get_xticklabels(), rotation=45, ha=\"right\",\n",
    "#          rotation_mode=\"anchor\")\n",
    "\n",
    "# for i in range(len(base1base3_axis)):\n",
    "#     for j in range(len(base2_axis)):\n",
    "#         text = ax.text(j, i, np.array(codon_meanChangeCount_array)[i, j],\n",
    "#                        ha=\"center\", va=\"center\", color=\"k\")\n",
    "\n",
    "\n",
    "ax.grid(False)\n",
    "ax.set_title(\"Amino acid freq chnage (averaged over codons)\")\n",
    "#fig.tight_layout()\n",
    "fig = matplotlib.pyplot.gcf()\n",
    "fig.set_size_inches(18.5, 10.5)\n",
    "\n",
    "fig.colorbar(im).ax.tick_params(labelsize=17)\n",
    "plt.show()"
   ]
  }
 ],
 "metadata": {
  "kernelspec": {
   "display_name": "Python 3",
   "language": "python",
   "name": "python3"
  },
  "language_info": {
   "codemirror_mode": {
    "name": "ipython",
    "version": 3
   },
   "file_extension": ".py",
   "mimetype": "text/x-python",
   "name": "python",
   "nbconvert_exporter": "python",
   "pygments_lexer": "ipython3",
   "version": "3.9.2"
  }
 },
 "nbformat": 4,
 "nbformat_minor": 4
}
