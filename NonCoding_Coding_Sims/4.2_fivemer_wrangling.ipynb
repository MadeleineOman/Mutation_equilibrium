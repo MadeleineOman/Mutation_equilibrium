{
 "cells": [
  {
   "cell_type": "markdown",
   "id": "9c0b8864-501b-43db-abe7-72c100aca2de",
   "metadata": {},
   "source": [
    "# **analysing the fivemer redo somulations**"
   ]
  },
  {
   "cell_type": "code",
   "execution_count": 69,
   "id": "15b84b03-8148-4594-8924-5344fa6335de",
   "metadata": {},
   "outputs": [],
   "source": [
    "import numpy as np \n",
    "import json \n",
    "import matplotlib.pyplot as plt\n",
    "import pandas as pd"
   ]
  },
  {
   "cell_type": "markdown",
   "id": "0738b825-1130-4bcd-a217-8a1a31879c8c",
   "metadata": {},
   "source": [
    "### **coding**\n",
    "- basically want to read in 100 trials, calculate mutability"
   ]
  },
  {
   "cell_type": "code",
   "execution_count": 8,
   "id": "4f826a34-7d15-4570-a8b8-4bb20ed462d4",
   "metadata": {},
   "outputs": [],
   "source": [
    "nTrial=100"
   ]
  },
  {
   "cell_type": "code",
   "execution_count": 5,
   "id": "f08cd20e-a5c6-4ca2-a551-ca03ffad98cb",
   "metadata": {},
   "outputs": [],
   "source": [
    "avMut_coding_dict = {}\n",
    "\n",
    "for i in range(nTrial): \n",
    "    weights = json.load(open(\"data/fivemer_sims/coding/trial{}_weights.txt\".format(i)))\n",
    "    weightsI = json.load(open(\"data/fivemer_sims/coding/trial{}_weightsI.txt\".format(i)))\n",
    "    avMut_coding_dict[\"trial{}\".format(i)] = {\"initial\":np.mean(weightsI),\"final\":np.mean(weights)}"
   ]
  },
  {
   "cell_type": "code",
   "execution_count": 15,
   "id": "09bba93d-56f0-4efd-9c6f-dc529bc59a12",
   "metadata": {},
   "outputs": [],
   "source": [
    "avMut_initial_cds = []\n",
    "avMut_final_cds = []\n",
    "avMut_chnage_cds = []\n",
    "for key,val in avMut_coding_dict.items(): \n",
    "    avMut_initial_cds.append(val[\"initial\"])\n",
    "    avMut_final_cds.append(val[\"final\"])\n",
    "    avMut_chnage_cds.append((val[\"initial\"]-val[\"final\"])/val[\"initial\"])"
   ]
  },
  {
   "cell_type": "code",
   "execution_count": 26,
   "id": "9213b7a2-cb5b-4d08-8f40-2d9700ee7d8d",
   "metadata": {},
   "outputs": [
    {
     "data": {
      "text/plain": [
       "(array([ 9., 12., 21., 12., 17.,  8., 10.,  5.,  3.,  3.]),\n",
       " array([2.95951861e-05, 3.16340782e-05, 3.36729703e-05, 3.57118624e-05,\n",
       "        3.77507545e-05, 3.97896466e-05, 4.18285387e-05, 4.38674308e-05,\n",
       "        4.59063229e-05, 4.79452150e-05, 4.99841071e-05]),\n",
       " <BarContainer object of 10 artists>)"
      ]
     },
     "execution_count": 26,
     "metadata": {},
     "output_type": "execute_result"
    },
    {
     "data": {
      "image/png": "[encoded data removed]",
      "text/plain": [
       "<Figure size 432x288 with 1 Axes>"
      ]
     },
     "metadata": {
      "needs_background": "light"
     },
     "output_type": "display_data"
    }
   ],
   "source": [
    "plt.hist(avMut_final_cds)"
   ]
  },
  {
   "cell_type": "code",
   "execution_count": 27,
   "id": "1081f02b-a6bc-44ca-a511-5654e4852d46",
   "metadata": {},
   "outputs": [
    {
     "data": {
      "text/plain": [
       "(array([ 2.,  6., 14., 17., 25., 13., 12.,  6.,  4.,  1.]),\n",
       " array([2.90807497e-05, 2.94389742e-05, 2.97971987e-05, 3.01554232e-05,\n",
       "        3.05136477e-05, 3.08718721e-05, 3.12300966e-05, 3.15883211e-05,\n",
       "        3.19465456e-05, 3.23047701e-05, 3.26629946e-05]),\n",
       " <BarContainer object of 10 artists>)"
      ]
     },
     "execution_count": 27,
     "metadata": {},
     "output_type": "execute_result"
    },
    {
     "data": {
      "image/png": "[encoded data removed]",
      "text/plain": [
       "<Figure size 432x288 with 1 Axes>"
      ]
     },
     "metadata": {
      "needs_background": "light"
     },
     "output_type": "display_data"
    }
   ],
   "source": [
    "plt.hist(avMut_final_Ncds)"
   ]
  },
  {
   "cell_type": "code",
   "execution_count": 14,
   "id": "67f23f1d-e5db-4a98-acd9-22c54deb07b6",
   "metadata": {},
   "outputs": [
    {
     "data": {
      "text/plain": [
       "<BarContainer object of 3 artists>"
      ]
     },
     "execution_count": 14,
     "metadata": {},
     "output_type": "execute_result"
    },
    {
     "data": {
      "image/png": "[encoded data removed]",
      "text/plain": [
       "<Figure size 432x288 with 1 Axes>"
      ]
     },
     "metadata": {
      "needs_background": "light"
     },
     "output_type": "display_data"
    }
   ],
   "source": [
    "plt.bar([\"initial\",\"final\",\"change\"],[np.mean(avMut_initial_cds),np.mean(avMut_final_cds),np.mean(avMut_chnage_cds)])"
   ]
  },
  {
   "cell_type": "markdown",
   "id": "58ccf523-427d-4b28-8f65-944a6327781a",
   "metadata": {},
   "source": [
    "### **noncoding**"
   ]
  },
  {
   "cell_type": "code",
   "execution_count": 18,
   "id": "e8a9425e-8855-4499-b59f-44ccbeb5b1b9",
   "metadata": {},
   "outputs": [],
   "source": [
    "avMut_noncoding_dict = {}\n",
    "nTrial=100\n",
    "for i in range(nTrial): \n",
    "    weights = json.load(open(\"data/fivemer_sims/nonCoding/trialtrial{}_weights.txt\".format(i)))\n",
    "    weightsI = json.load(open(\"data/fivemer_sims/nonCoding/trialtrial{}_weightsI.txt\".format(i)))\n",
    "    avMut_noncoding_dict[\"trial{}\".format(i)] = {\"initial\":np.mean(weightsI),\"final\":np.mean(weights)}"
   ]
  },
  {
   "cell_type": "code",
   "execution_count": 19,
   "id": "ed938179-1f79-4ebe-9289-0ffe96a66777",
   "metadata": {},
   "outputs": [],
   "source": [
    "avMut_initial_Ncds = []\n",
    "avMut_final_Ncds = []\n",
    "avMut_chnage_Ncds = []\n",
    "for key,val in avMut_noncoding_dict.items(): \n",
    "    avMut_initial_Ncds.append(val[\"initial\"])\n",
    "    avMut_final_Ncds.append(val[\"final\"])\n",
    "    avMut_chnage_Ncds.append((val[\"initial\"]-val[\"final\"])/val[\"initial\"])"
   ]
  },
  {
   "cell_type": "code",
   "execution_count": 11,
   "id": "06ef04a1-c07b-41e1-8e05-c206d586b25a",
   "metadata": {},
   "outputs": [
    {
     "ename": "SyntaxError",
     "evalue": "invalid syntax (1269392081.py, line 1)",
     "output_type": "error",
     "traceback": [
      "\u001b[0;36m  File \u001b[0;32m\"/tmp/ipykernel_58572/1269392081.py\"\u001b[0;36m, line \u001b[0;32m1\u001b[0m\n\u001b[0;31m    [1:10]\u001b[0m\n\u001b[0m      ^\u001b[0m\n\u001b[0;31mSyntaxError\u001b[0m\u001b[0;31m:\u001b[0m invalid syntax\n"
     ]
    }
   ],
   "source": []
  },
  {
   "cell_type": "markdown",
   "id": "a15dabc8-fe45-452a-90d4-5dcc5d8d88b8",
   "metadata": {},
   "source": [
    "# **summary**"
   ]
  },
  {
   "cell_type": "code",
   "execution_count": 20,
   "id": "a32a19b9-07b3-4457-af58-10f6db391031",
   "metadata": {},
   "outputs": [
    {
     "data": {
      "text/plain": [
       "(array([ 3.,  2.,  4.,  5., 19., 28., 21., 11.,  5.,  2.]),\n",
       " array([0.45131426, 0.46060751, 0.46990076, 0.47919401, 0.48848726,\n",
       "        0.49778051, 0.50707376, 0.51636701, 0.52566026, 0.53495351,\n",
       "        0.54424676]),\n",
       " <BarContainer object of 10 artists>)"
      ]
     },
     "execution_count": 20,
     "metadata": {},
     "output_type": "execute_result"
    },
    {
     "data": {
      "image/png": "[encoded data removed]",
      "text/plain": [
       "<Figure size 432x288 with 1 Axes>"
      ]
     },
     "metadata": {
      "needs_background": "light"
     },
     "output_type": "display_data"
    }
   ],
   "source": [
    "plt.hist(avMut_chnage_Ncds)"
   ]
  },
  {
   "cell_type": "code",
   "execution_count": 23,
   "id": "db1f86f2-cbc7-44bb-aae3-992f9539ea49",
   "metadata": {},
   "outputs": [
    {
     "data": {
      "text/plain": [
       "(3.7682299223955275e-05, 3.070145589156653e-05, 0.18525523856439477)"
      ]
     },
     "execution_count": 23,
     "metadata": {},
     "output_type": "execute_result"
    }
   ],
   "source": [
    "np.mean(avMut_final_cds), np.mean(avMut_final_Ncds), (np.mean(avMut_final_cds)- np.mean(avMut_final_Ncds))/np.mean(avMut_final_cds) "
   ]
  },
  {
   "cell_type": "code",
   "execution_count": 25,
   "id": "43ceb3e3-d61c-4d6c-87d7-1b7a298f105c",
   "metadata": {},
   "outputs": [
    {
     "data": {
      "text/plain": [
       "(4.668626750798167e-07, 6.861403218486098e-08)"
      ]
     },
     "execution_count": 25,
     "metadata": {},
     "output_type": "execute_result"
    }
   ],
   "source": [
    "np.std(avMut_final_cds)/10, np.std(avMut_final_Ncds)/10"
   ]
  },
  {
   "cell_type": "markdown",
   "id": "895478d1-1196-472a-9a5c-3db7af64ceab",
   "metadata": {},
   "source": [
    "# **noncoding relationship with mutability plot**"
   ]
  },
  {
   "cell_type": "code",
   "execution_count": 14,
   "id": "c13f18b3-e6da-41ef-a4d4-2c1cfa64423a",
   "metadata": {},
   "outputs": [],
   "source": [
    "model = json.load(open(\"../Human_mutability_model/Model_fivemer_genomeWide_512doubled_2021_09_03.txt\"))"
   ]
  },
  {
   "cell_type": "code",
   "execution_count": 18,
   "id": "00da6989-14db-4fb6-aa11-7d32d9ac3bc4",
   "metadata": {},
   "outputs": [],
   "source": [
    "fivemer_counts = {}\n",
    "for fivemer in model.keys(): \n",
    "    fivemer_counts[fivemer] = [0 for i in range(nTrial)]\n"
   ]
  },
  {
   "cell_type": "code",
   "execution_count": 19,
   "id": "13b533b8-3fad-4995-8bab-fb823e793255",
   "metadata": {},
   "outputs": [],
   "source": [
    "for i in range(nTrial): \n",
    "    dna = open(\"data/fivemer_sims/nonCoding/trialtrial{}_DNA.txt\".format(i)).readlines()[0]\n",
    "    for j in range(2,len(dna)-2): \n",
    "        cur_5mer = dna[j-2:j+3]\n",
    "        fivemer_counts[cur_5mer][i]+=1"
   ]
  },
  {
   "cell_type": "code",
   "execution_count": 72,
   "id": "6b30b838-3763-4303-81e7-56f19060c7da",
   "metadata": {},
   "outputs": [],
   "source": [
    "fivemer_results={}\n",
    "fivemer_results[\"fivemer_muts\"] = []\n",
    "fivemer_results[\"fivemer_log10muts\"] = []\n",
    "fivemer_results[\"fivemer_av_count\"] = []\n",
    "fivemer_results[\"fivemer_stderr\"] = []\n",
    "fivemer_results[\"fivemers_ordered\"] = []\n",
    "for fivemer,val in fivemer_counts.items(): \n",
    "    fivemer_results[\"fivemers_ordered\"].append(fivemer)\n",
    "    fivemer_results[\"fivemer_muts\"].append(model[fivemer][0])\n",
    "    fivemer_results[\"fivemer_log10muts\"].append(np.log10(model[fivemer][0]))\n",
    "    fivemer_results[\"fivemer_av_count\"].append(np.mean(val))\n",
    "    fivemer_results[\"fivemer_stderr\"].append(np.std(val)/np.sqrt(nTrial))"
   ]
  },
  {
   "cell_type": "code",
   "execution_count": 73,
   "id": "8f9c06d8-0fa5-4657-b260-99c745560999",
   "metadata": {},
   "outputs": [],
   "source": [
    "fivemer_results_df= pd.DataFrame.from_dict(fivemer_results)"
   ]
  },
  {
   "cell_type": "code",
   "execution_count": 74,
   "id": "fc237364-4eab-4c96-9324-9f2e46479113",
   "metadata": {},
   "outputs": [],
   "source": [
    "fivemer_results_df.to_csv(\"data/fivemer_sims/nonCoding/dataframe_fivemer_results_summary_2022_01_04.csv\")"
   ]
  },
  {
   "cell_type": "code",
   "execution_count": 64,
   "id": "1a6b08b5-ad2c-49ed-b02f-9d0e6e030f48",
   "metadata": {},
   "outputs": [
    {
     "data": {
      "image/png": "[encoded data removed]",
      "text/plain": [
       "<Figure size 432x288 with 1 Axes>"
      ]
     },
     "metadata": {
      "needs_background": "light"
     },
     "output_type": "display_data"
    }
   ],
   "source": [
    "# plt.scatter(fivemer_log10muts,fivemer_av_count,c=\"black\",s=7)\n",
    "plt.errorbar(fivemer_log10muts,fivemer_av_count, yerr=fivemer_stderr, fmt=\"o\",c=\"black\",markersize=3)\n",
    "#https://stackoverflow.com/questions/50360567/python-errorbar-with-varied-marker-size\n",
    "#https://www.geeksforgeeks.org/use-error-bars-in-a-matplotlib-scatter-plot/\n",
    "plt.xlabel(\"Mutability (log10)\")\n",
    "plt.ylabel(\"Fivemer count\")\n",
    "# plt.savefig(\"plots/Scatter_2022_01_04_fivemer_noncoding_countsVsMut_2xMutCov_100nTrial_5kbp_errorbars.pdf\")"
   ]
  },
  {
   "cell_type": "code",
   "execution_count": 53,
   "id": "deb134a0-77ba-4c1e-aed3-ba80807222eb",
   "metadata": {},
   "outputs": [
    {
     "data": {
      "text/plain": [
       "array([0.05, 0.1 , 0.15, 0.2 , 0.25, 0.3 , 0.35, 0.4 , 0.45, 0.5 ])"
      ]
     },
     "execution_count": 53,
     "metadata": {},
     "output_type": "execute_result"
    }
   ],
   "source": [
    "np.linspace(0.05, 0.5, 10)"
   ]
  }
 ],
 "metadata": {
  "kernelspec": {
   "display_name": "Python [conda env:.conda-mutEq]",
   "language": "python",
   "name": "conda-env-.conda-mutEq-py"
  },
  "language_info": {
   "codemirror_mode": {
    "name": "ipython",
    "version": 3
   },
   "file_extension": ".py",
   "mimetype": "text/x-python",
   "name": "python",
   "nbconvert_exporter": "python",
   "pygments_lexer": "ipython3",
   "version": "3.9.6"
  }
 },
 "nbformat": 4,
 "nbformat_minor": 5
}
