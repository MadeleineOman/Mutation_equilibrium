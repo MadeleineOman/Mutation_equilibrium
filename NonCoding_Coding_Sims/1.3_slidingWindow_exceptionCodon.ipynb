{
 "cells": [
  {
   "cell_type": "markdown",
   "id": "cc5b12ce",
   "metadata": {},
   "source": [
    "# **analyzing the chnage in mutability for the exceptional exons** "
   ]
  },
  {
   "cell_type": "code",
   "execution_count": 13,
   "id": "b41cfb6f",
   "metadata": {},
   "outputs": [],
   "source": [
    "import json \n",
    "import numpy as np "
   ]
  },
  {
   "cell_type": "code",
   "execution_count": 2,
   "id": "d6f3b1fd",
   "metadata": {},
   "outputs": [],
   "source": [
    "#import objects \n",
    "model = json.load(open(\"../Human_mutability_model/Model_2020_12_02_genomeWide.txt\"))\n",
    "cds_pos_dictionary = json.load(open(\"data/same_DNA/Files_to_use_for_parallel_exon_insertion_dict.txt\"))"
   ]
  },
  {
   "cell_type": "code",
   "execution_count": 10,
   "id": "8904070d",
   "metadata": {},
   "outputs": [],
   "source": [
    "#setting parameters\n",
    "nGen = 200000\n",
    "nTrials = 10"
   ]
  },
  {
   "cell_type": "code",
   "execution_count": 12,
   "id": "66ffbb79",
   "metadata": {},
   "outputs": [],
   "source": [
    "#creating the empty codon dictionary to add all the codon chnage values to for all codons \n",
    "codon_change = {}\n",
    "for key in cds_pos_dictionary.keys(): \n",
    "    codon_change[key] = []"
   ]
  },
  {
   "cell_type": "code",
   "execution_count": 15,
   "id": "dd91548e",
   "metadata": {},
   "outputs": [],
   "source": [
    "#adding the mean chnage for each trial to a list correspodning to each codon \n",
    "for codon_key,value in codon_change.items(): \n",
    "    for trial_n in range(1, nTrials+1): \n",
    "        init_muts = []\n",
    "        final_muts = []\n",
    "        dnai = open(\"data/same_DNA/Trial{}_DNA_final_cds_invariant50_0.txt\".format(trial_n)).readlines()[0]\n",
    "        dnaf = open(\"data/same_DNA/Trial{}_DNA_final_cds_invariant50_{}.txt\".format(trial_n,nGen)).readlines()[0]\n",
    "        for i in range(cds_pos_dictionary[codon_key][0], cds_pos_dictionary[codon_key][1]): \n",
    "            init_triplet = dnai[i-1:i+2]\n",
    "            final_triplet = dnaf[i-1:i+2]\n",
    "            init_muts.append(model[init_triplet][0])\n",
    "            final_muts.append(model[final_triplet][0])\n",
    "        value.append(np.mean(final_muts)/np.mean(init_muts))\n",
    "        \n",
    "        "
   ]
  },
  {
   "cell_type": "code",
   "execution_count": 18,
   "id": "4bf22581",
   "metadata": {},
   "outputs": [],
   "source": [
    "excep_codons = ['ENST00000287097.6','ENST00000338368.7']"
   ]
  },
  {
   "cell_type": "code",
   "execution_count": 20,
   "id": "dc3df840",
   "metadata": {},
   "outputs": [],
   "source": [
    "excep_codon_change = []\n",
    "reg_codon_change = []\n",
    "for codon_key,value in codon_change.items(): \n",
    "    if codon_key in excep_codons: \n",
    "        excep_codon_change.append(np.mean(value))\n",
    "    else: \n",
    "        reg_codon_change.append(np.mean(value))"
   ]
  },
  {
   "cell_type": "code",
   "execution_count": 32,
   "id": "87e26ab7",
   "metadata": {},
   "outputs": [
    {
     "name": "stdout",
     "output_type": "stream",
     "text": [
      "rgular codons decreased by 0.29614109138362843 with stderr 0.007187049145516214\n"
     ]
    }
   ],
   "source": [
    "print(\"rgular codons decreased by\", 1-np.mean(reg_codon_change), \"with stderr\", np.std(reg_codon_change)/len(reg_codon_change))"
   ]
  },
  {
   "cell_type": "code",
   "execution_count": 33,
   "id": "f5aa1753",
   "metadata": {},
   "outputs": [
    {
     "name": "stdout",
     "output_type": "stream",
     "text": [
      "exception codons decreased by 0.10159842238402461 0.017967622863790535\n"
     ]
    }
   ],
   "source": [
    "print(\"exception codons decreased by\", 1-np.mean(excep_codon_change), np.std(reg_codon_change)/len(excep_codon_change))"
   ]
  },
  {
   "cell_type": "code",
   "execution_count": null,
   "id": "7e3e42ba",
   "metadata": {},
   "outputs": [],
   "source": [
    "print(\"exception codons showed 20% less drecrease than regular, or decreased by 1/3 the ammount that regular codons did\")"
   ]
  }
 ],
 "metadata": {
  "kernelspec": {
   "display_name": "Python 3 (ipykernel)",
   "language": "python",
   "name": "python3"
  },
  "language_info": {
   "codemirror_mode": {
    "name": "ipython",
    "version": 3
   },
   "file_extension": ".py",
   "mimetype": "text/x-python",
   "name": "python",
   "nbconvert_exporter": "python",
   "pygments_lexer": "ipython3",
   "version": "3.9.6"
  }
 },
 "nbformat": 4,
 "nbformat_minor": 5
}
