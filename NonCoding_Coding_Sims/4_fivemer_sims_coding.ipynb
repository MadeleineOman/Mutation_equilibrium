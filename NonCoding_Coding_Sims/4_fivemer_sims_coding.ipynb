{
 "cells": [
  {
   "cell_type": "markdown",
   "id": "2092c36b-5ed0-4533-8461-6298aeff8ed7",
   "metadata": {},
   "source": [
    "# **simulation non-coding and coding sequence under the 5-mer model** "
   ]
  },
  {
   "cell_type": "code",
   "execution_count": 23,
   "id": "b7829cff-74cb-4e47-84b8-c55b41041aa3",
   "metadata": {},
   "outputs": [],
   "source": [
    " # IMPORT STATEMENTS~~~~~~~~~~~~~~~~~~~~~~~~~~~~~~~~~~~~~~~~~~~~~~~~~~~~~~~~~~~~~~~~~~~~~~~~~~~~~~~~~~~~~~~~~~~~~~~~~~~~~~~~~~~~~~~~~~~~~~~~~~~~~~~~~~~~~~~~~~~~~~~~~~~~~~~~~~~~~~~~~~~~~~~~\n",
    "\n",
    "import random\n",
    "from random import randint\n",
    "from typing import List, Dict\n",
    "from numpy.random import choice\n",
    "import numpy as np\n",
    "import matplotlib.pyplot as plt\n",
    "import pandas as pd\n",
    "import numpy\n",
    "from Bio import SeqIO\n",
    "from tqdm import tqdm\n",
    "import copy \n",
    "import math \n",
    "import json\n",
    "import sys \n"
   ]
  },
  {
   "cell_type": "markdown",
   "id": "2295d01f-c704-4a9c-a3c8-a3c22ec8368f",
   "metadata": {},
   "source": [
    "### **static objects**"
   ]
  },
  {
   "cell_type": "code",
   "execution_count": 36,
   "id": "d6e5d347-e7b9-48e3-ae96-fddf59cb6bc6",
   "metadata": {},
   "outputs": [],
   "source": [
    "aa_conversion_dict = {\"TTT\": \"F\", \"TTC\": \"F\", \"TTA\": \"L\", \"TTG\": \"L\", \"CTT\": \"L\", \"CTC\": \"L\", \"CTA\": \"L\", \"CTG\": \"L\", \"ATT\": \"I\", \"ATC\": \"I\", \"ATA\": \"I\", \"ATG\": \"M\", \"GTT\": \"V\", \"GTC\": \"V\", \"GTA\": \"V\", \"GTG\": \"V\", \"TCT\": \"S\", \"TCC\": \"S\", \"TCA\": \"S\", \"TCG\": \"S\", \"AGT\": \"S\", \"AGC\": \"S\", \"CCT\": \"P\", \"CCC\": \"P\", \"CCA\": \"P\", \"CCG\": \"P\", \"ACT\": \"T\", \"ACC\": \"T\", \"ACA\": \"T\", \"ACG\": \"T\", \"GCT\": \"A\", \"GCC\": \"A\", \"GCA\": \"A\", \"GCG\": \"A\", \"TAT\": \"Y\", \"TAC\": \"Y\", \"CAT\": \"H\", \"CAC\": \"H\", \"CAA\": \"Q\", \"CAG\": \"Q\", \"AAT\": \"N\", \"AAC\": \"N\", \"AAA\": \"K\", \"AAG\": \"K\", \"GAT\": \"D\", \"GAC\": \"D\", \"GAA\": \"E\", \"GAG\": \"E\", \"TGT\": \"C\", \"TGC\": \"C\", \"TGG\": \"W\", \"CGT\": \"R\", \"CGC\": \"R\", \"CGA\": \"R\", \"CGG\": \"R\", \"AGA\": \"R\", \"AGG\": \"R\", \"GGT\": \"G\", \"GGC\": \"G\", \"GGA\": \"G\", \"GGG\": \"G\", \"TAA\": \"*\", \"TAG\": \"*\", \"TGA\": \"*\"} \n",
    "model_5 = json.load(open(\"../Human_mutability_model/Model_fivemer_genomeWide_512doubled_2021_09_03.txt\"))\n",
    "blosum_dict = {'T': {'T': 1.0, 'Q': 0.5, 'C': 0.4, 'M': 0.5, 'A': 0.6, 'B': 0.5, 'K': 0.5, 'E': 0.5, 'P': 0.4, 'R': 0.4, 'G': 0.3, 'J': 0.4, 'F': 0.3, 'X': 0.5, 'Z': 0.5, '*': 0.0, 'N': 0.6, 'V': 0.5, 'H': 0.4, 'W': 0.2, 'L': 0.4, 'S': 0.7, 'D': 0.4, 'I': 0.5, 'Y': 0.4}, 'Q': {'T': 0.5, 'Q': 1.0, 'C': 0.2, 'M': 0.6, 'A': 0.5, 'B': 0.5, 'K': 0.7, 'E': 0.8, 'P': 0.4, 'R': 0.7, 'G': 0.3, 'J': 0.3, 'F': 0.2, 'X': 0.5, 'Z': 1.0, '*': 0.0, 'N': 0.6, 'V': 0.3, 'H': 0.7, 'W': 0.3, 'L': 0.3, 'S': 0.5, 'D': 0.5, 'I': 0.2, 'Y': 0.3}, 'C': {'T': 0.4, 'Q': 0.2, 'C': 1.0, 'M': 0.4, 'A': 0.5, 'B': 0.2, 'K': 0.2, 'E': 0.0, 'P': 0.2, 'R': 0.1, 'G': 0.2, 'J': 0.4, 'F': 0.3, 'X': 0.5, 'Z': 0.1, '*': 0.0, 'N': 0.2, 'V': 0.4, 'H': 0.1, 'W': 0.2, 'L': 0.4, 'S': 0.4, 'D': 0.1, 'I': 0.4, 'Y': 0.2},'M': {'T': 0.5, 'Q': 0.6, 'C': 0.4, 'M': 1.0, 'A': 0.4, 'B': 0.2, 'K': 0.4, 'E': 0.3, 'P': 0.3, 'R': 0.4, 'G': 0.2, 'J': 0.8, 'F': 0.5, 'X': 0.5, 'Z': 0.4, '*': 0.0, 'N': 0.3, 'V': 0.6, 'H': 0.3, 'W': 0.4, 'L': 0.8, 'S': 0.4, 'D': 0.2, 'I': 0.7, 'Y': 0.4},'A': {'T': 0.6, 'Q': 0.5, 'C': 0.5, 'M': 0.4, 'A': 1.0, 'B': 0.4, 'K': 0.5, 'E': 0.5, 'P': 0.5, 'R': 0.4, 'G': 0.6, 'J': 0.4, 'F': 0.3, 'X': 0.5, 'Z': 0.5, '*': 0.0, 'N': 0.4, 'V': 0.5, 'H': 0.4, 'W': 0.2, 'L': 0.4, 'S': 0.7, 'D': 0.3, 'I': 0.4, 'Y': 0.3},'B': {'T': 0.5, 'Q': 0.5, 'C': 0.2, 'M': 0.2, 'A': 0.4, 'B': 1.0, 'K': 0.5, 'E': 0.7, 'P': 0.3, 'R': 0.4, 'G': 0.4, 'J': 0.1, 'F': 0.2, 'X': 0.5, 'Z': 0.6, '*': 0.0, 'N': 1.0, 'V': 0.2, 'H': 0.5, 'W': 0.0, 'L': 0.1, 'S': 0.6, 'D': 1.0, 'I': 0.1, 'Y': 0.2}, 'K': {'T': 0.5, 'Q': 0.7, 'C': 0.2, 'M': 0.4, 'A': 0.5, 'B': 0.5, 'K': 1.0, 'E': 0.6, 'P': 0.4, 'R': 0.8, 'G': 0.4, 'J': 0.3, 'F': 0.2, 'X': 0.5, 'Z': 0.7, '*': 0.0, 'N': 0.6, 'V': 0.3, 'H': 0.5, 'W': 0.1, 'L': 0.3, 'S': 0.5, 'D': 0.5, 'I': 0.2, 'Y': 0.3}, 'E': {'T': 0.5, 'Q': 0.8, 'C': 0.0, 'M': 0.3, 'A': 0.5, 'B': 0.7, 'K': 0.6, 'E': 1.0, 'P': 0.4, 'R': 0.5, 'G': 0.3, 'J': 0.2, 'F': 0.1, 'X': 0.5, 'Z': 1.0, '*': 0.0, 'N': 0.5, 'V': 0.3, 'H': 0.5, 'W': 0.1, 'L': 0.2, 'S': 0.5, 'D': 0.7, 'I': 0.2, 'Y': 0.2}, 'P': {'T': 0.4, 'Q': 0.4, 'C': 0.2, 'M': 0.3, 'A': 0.5, 'B': 0.3, 'K': 0.4, 'E': 0.4, 'P': 1.0, 'R': 0.3, 'G': 0.3, 'J': 0.2, 'F': 0.2, 'X': 0.5, 'Z': 0.4, '*': 0.0, 'N': 0.3, 'V': 0.3, 'H': 0.3, 'W': 0.1, 'L': 0.2, 'S': 0.4, 'D': 0.3, 'I': 0.2, 'Y': 0.2}, 'R': {'T': 0.4, 'Q': 0.7, 'C': 0.1, 'M': 0.4, 'A': 0.4, 'B': 0.4, 'K': 0.8, 'E': 0.5, 'P': 0.3, 'R': 1.0, 'G': 0.3, 'J': 0.3, 'F': 0.2, 'X': 0.5, 'Z': 0.6, '*': 0.0, 'N': 0.5, 'V': 0.3, 'H': 0.6, 'W': 0.2, 'L': 0.3, 'S': 0.5, 'D': 0.3, 'I': 0.2, 'Y': 0.3}, 'G': {'T': 0.3, 'Q': 0.3, 'C': 0.2, 'M': 0.2, 'A': 0.6, 'B': 0.4, 'K': 0.4, 'E': 0.3, 'P': 0.3, 'R': 0.3, 'G': 1.0, 'J': 0.1, 'F': 0.1, 'X': 0.5, 'Z': 0.3, '*': 0.0, 'N': 0.5, 'V': 0.1, 'H': 0.3, 'W': 0.2, 'L': 0.1, 'S': 0.5, 'D': 0.4, 'I': 0.1, 'Y': 0.1}, 'J': {'T': 0.4, 'Q': 0.3, 'C': 0.4, 'M': 0.8, 'A': 0.4, 'B': 0.1, 'K': 0.3, 'E': 0.2, 'P': 0.2, 'R': 0.3, 'G': 0.1, 'J': 1.0, 'F': 0.6, 'X': 0.5, 'Z': 0.2, '*': 0.0, 'N': 0.2, 'V': 0.7, 'H': 0.2, 'W': 0.3, 'L': 1.0, 'S': 0.3, 'D': 0.1, 'I': 0.9, 'Y': 0.4}, 'F': {'T': 0.3, 'Q': 0.2, 'C': 0.3, 'M': 0.5, 'A': 0.3, 'B': 0.2, 'K': 0.2, 'E': 0.1, 'P': 0.2, 'R': 0.2, 'G': 0.1, 'J': 0.6, 'F': 1.0, 'X': 0.5, 'Z': 0.2, '*': 0.0, 'N': 0.2, 'V': 0.4, 'H': 0.4, 'W': 0.6, 'L': 0.6, 'S': 0.3, 'D': 0.1, 'I': 0.5, 'Y': 0.9}, 'X': {'T': 0.5, 'Q': 0.5, 'C': 0.5, 'M': 0.5, 'A': 0.5, 'B': 0.5, 'K': 0.5, 'E': 0.5, 'P': 0.5, 'R': 0.5, 'G': 0.5, 'J': 0.5, 'F': 0.5, 'X': 0.5, 'Z': 0.5, '*': 0.0, 'N': 0.5, 'V': 0.5, 'H': 0.5, 'W': 0.5, 'L': 0.5, 'S': 0.5, 'D': 0.5, 'I': 0.5, 'Y': 0.5}, 'Z': {'T': 0.5, 'Q': 1.0, 'C': 0.1, 'M': 0.4, 'A': 0.5, 'B': 0.6, 'K': 0.7, 'E': 1.0, 'P': 0.4, 'R': 0.6, 'G': 0.3, 'J': 0.2, 'F': 0.2, 'X': 0.5, 'Z': 1.0, '*': 0.0, 'N': 0.5, 'V': 0.3, 'H': 0.6, 'W': 0.2, 'L': 0.2, 'S': 0.5, 'D': 0.7, 'I': 0.2, 'Y': 0.3}, '*': {'T': 0.0, 'Q': 0.0, 'C': 0.0, 'M': 0.0, 'A': 0.0, 'B': 0.0, 'K': 0.0, 'E': 0.0, 'P': 0.0, 'R': 0.0, 'G': 0.0, 'J': 0.0, 'F': 0.0, 'X': 0.0, 'Z': 0.0, '*': 0.7, 'N': 0.0, 'V': 0.0, 'H': 0.0, 'W': 0.0, 'L': 0.0, 'S': 0.0, 'D': 0.0, 'I': 0.0, 'Y': 0.0}, 'N': {'T': 0.6, 'Q': 0.6, 'C': 0.2, 'M': 0.3, 'A': 0.4, 'B': 1.0, 'K': 0.6, 'E': 0.5, 'P': 0.3, 'R': 0.5, 'G': 0.5, 'J': 0.2, 'F': 0.2, 'X': 0.5, 'Z': 0.5, '*': 0.0, 'N': 1.0, 'V': 0.2, 'H': 0.6, 'W': 0.1, 'L': 0.2, 'S': 0.6, 'D': 0.7, 'I': 0.2, 'Y': 0.3}, 'V': {'T': 0.5, 'Q': 0.3, 'C': 0.4, 'M': 0.6, 'A': 0.5, 'B': 0.2, 'K': 0.3, 'E': 0.3, 'P': 0.3, 'R': 0.3, 'G': 0.1, 'J': 0.7, 'F': 0.4, 'X': 0.5, 'Z': 0.3, '*': 0.0, 'N': 0.2, 'V': 1.0, 'H': 0.2, 'W': 0.3, 'L': 0.6, 'S': 0.4, 'D': 0.1, 'I': 0.9, 'Y': 0.3}, 'H': {'T': 0.4, 'Q': 0.7, 'C': 0.1, 'M': 0.3, 'A': 0.4, 'B': 0.5, 'K': 0.5, 'E': 0.5, 'P': 0.3, 'R': 0.6, 'G': 0.3, 'J': 0.2, 'F': 0.4, 'X': 0.5, 'Z': 0.6, '*': 0.0, 'N': 0.6, 'V': 0.2, 'H': 1.0, 'W': 0.3, 'L': 0.2, 'S': 0.4, 'D': 0.4, 'I': 0.2, 'Y': 0.7}, 'W': {'T': 0.2, 'Q': 0.3, 'C': 0.2, 'M': 0.4, 'A': 0.2, 'B': 0.0, 'K': 0.1, 'E': 0.1, 'P': 0.1, 'R': 0.2, 'G': 0.2, 'J': 0.3, 'F': 0.6, 'X': 0.5, 'Z': 0.2, '*': 0.0, 'N': 0.1, 'V': 0.3, 'H': 0.3, 'W': 1.0, 'L': 0.3, 'S': 0.2, 'D': 0.0, 'I': 0.2, 'Y': 0.8}, 'L': {'T': 0.4, 'Q': 0.3, 'C': 0.4, 'M': 0.8, 'A': 0.4, 'B': 0.1, 'K': 0.3, 'E': 0.2, 'P': 0.2, 'R': 0.3, 'G': 0.1, 'J': 1.0, 'F': 0.6, 'X': 0.5, 'Z': 0.2, '*': 0.0, 'N': 0.2, 'V': 0.6, 'H': 0.2, 'W': 0.3, 'L': 1.0, 'S': 0.3, 'D': 0.1, 'I': 0.7, 'Y': 0.4}, 'S': {'T': 0.7, 'Q': 0.5, 'C': 0.4, 'M': 0.4, 'A': 0.7, 'B': 0.6, 'K': 0.5, 'E': 0.5, 'P': 0.4, 'R': 0.5, 'G': 0.5, 'J': 0.3, 'F': 0.3, 'X': 0.5, 'Z': 0.5, '*': 0.0, 'N': 0.6, 'V': 0.4, 'H': 0.4, 'W': 0.2, 'L': 0.3, 'S': 1.0, 'D': 0.5, 'I': 0.3, 'Y': 0.3}, 'D': {'T': 0.4, 'Q': 0.5, 'C': 0.1, 'M': 0.2, 'A': 0.3, 'B': 1.0, 'K': 0.5, 'E': 0.7, 'P': 0.3, 'R': 0.3, 'G': 0.4, 'J': 0.1, 'F': 0.1, 'X': 0.5, 'Z': 0.7, '*': 0.0, 'N': 0.7, 'V': 0.1, 'H': 0.4, 'W': 0.0, 'L': 0.1, 'S': 0.5, 'D': 1.0, 'I': 0.1, 'Y': 0.2}, 'I': {'T': 0.5, 'Q': 0.2, 'C': 0.4, 'M': 0.7, 'A': 0.4, 'B': 0.1, 'K': 0.2, 'E': 0.2, 'P': 0.2, 'R': 0.2, 'G': 0.1, 'J': 0.9, 'F': 0.5, 'X': 0.5, 'Z': 0.2, '*': 0.0, 'N': 0.2, 'V': 0.9, 'H': 0.2, 'W': 0.2, 'L': 0.7, 'S': 0.3, 'D': 0.1, 'I': 1.0, 'Y': 0.4}, 'Y': {'T': 0.4, 'Q': 0.3, 'C': 0.2, 'M': 0.4, 'A': 0.3, 'B': 0.2, 'K': 0.3, 'E': 0.2, 'P': 0.2, 'R': 0.3, 'G': 0.1, 'J': 0.4, 'F': 0.9, 'X': 0.5, 'Z': 0.3, '*': 0.0, 'N': 0.3, 'V': 0.3, 'H': 0.7, 'W': 0.8, 'L': 0.4, 'S': 0.3, 'D': 0.2, 'I': 0.4, 'Y': 1.0}}"
   ]
  },
  {
   "cell_type": "markdown",
   "id": "89e6bd2a-9747-4247-8b31-40ecd1163676",
   "metadata": {},
   "source": [
    "## **functions** "
   ]
  },
  {
   "cell_type": "code",
   "execution_count": 91,
   "id": "fa2febd4-aa33-48aa-b4c8-287f711434e6",
   "metadata": {},
   "outputs": [],
   "source": [
    "def base_to_mutate(DNA, current_weights): \n",
    "    \"\"\"\n",
    "    (DNA: str, weights: Dict) -> int\n",
    "    \n",
    "    Will return the index of a random choice of a base that will be mutated based on probabilities given by the\n",
    "    weights dictionary (i.e. the model)    ex. \"ATCGTA\" --> index 3 (\"G\") will mutate\n",
    "    \"\"\"\n",
    "    #DNA STR --> WEIGHTS LIST INDEXING DOUBLE CHECK \n",
    "    indices = []\n",
    "    indices = list(i for i in range(2, len(DNA)-2))  #adjusted for fivemer \n",
    "    if (len(indices)) != (len(current_weights)): \n",
    "        print(\"ERROR, FUCKED UP\")\n",
    "        print(\"length of indices = \" + str(len(indices)))\n",
    "        print(\"length of weights = \" + str(len(current_weights)))\n",
    "    \n",
    "    # NORMALIZE THE POPULATION OF WEIGHTS    \n",
    "    total_freq = sum(current_weights) \n",
    "    normalized_weights = copy.copy(current_weights)\n",
    "    for index, value in enumerate(current_weights):\n",
    "        normalized_weights[index] = value/total_freq \n",
    "\n",
    "    # DRAW THE INDEX OF THE BASE THAT WILL BE MUTATED\n",
    "    base_index = choice(indices, p=normalized_weights) \n",
    "    return base_index\n",
    "\n",
    "\n",
    "def base_to_turn_into(i, model, DNA):\n",
    "    \"\"\"\n",
    "    (i: int, weights: Dict, DNA: str) -> str (the base A/T/C/G)\n",
    "    \"\"\"\n",
    "      \n",
    "    # GRAB THE TRIPLET AND COMPLEMENT IT IF NEED BE.\n",
    "    fivemer = DNA[i-2:i+3] #adjusted for fivemer \n",
    "            \n",
    "    # GENERATE A LIST OF THE TRIPLETS AND WEIGHTS OF THE THREE TRIPLETS THE CHOSEN TRIPLET CAN TURN INTO \n",
    "    into_fivemers = []\n",
    "    current_weights_to_turn_into=[]\n",
    "    for key,value in model[fivemer][1].items(): \n",
    "        into_fivemers.append(key)\n",
    "        current_weights_to_turn_into.append(value)\n",
    "      \n",
    "    # MAKE AND RETURN THE CHOICE OF BASE TO TURN INTO.\n",
    "    return choice(into_fivemers, p = current_weights_to_turn_into)[2] # <-- the [2] will select the central base of fivemer\n",
    "\n",
    "\n",
    "def current_frequencies(DNA, weights, index, current_weights): #and by weights, she means the \"model\" dictionary \n",
    "    \"\"\"\n",
    "    (DNA: str, weights list, index = chosen site) -> updated weights List \n",
    "    only chnages the 3 bases around the index chosen \n",
    "    \"\"\"\n",
    "    #CREATE THE 3 SOURROUNDING TRIPLETS\n",
    "    fivemer_2b4 = DNA[index-4:index+1] #indexing is just -1/+1 expanded from the triplet test \n",
    "    fivemer_1b4= DNA[index-3:index+2] #dont worry this indexing is double checked \n",
    "    fivemer_center = DNA[index-2:index+3]\n",
    "    fivemer_1after = DNA[index-1:index+4]\n",
    "    fivemer_2after = DNA[index:index+5]\n",
    "    fivemer_list = [fivemer_2b4,fivemer_1b4,fivemer_center,fivemer_1after,fivemer_2after]\n",
    "    \n",
    "    #GET THE WEIGHTS FOR EACH TRIPLET AND UPDATE WEIGHTS (LIST) OBJECT \n",
    "    current_weights[index-4]= weights[fivemer_list[0]][0]\n",
    "    current_weights[index-3]= weights[fivemer_list[1]][0]   #these indexes seem weird, but it represents the difference in lenght  \n",
    "    current_weights[index-2]= weights[fivemer_list[2]][0]   #between the dna string and the list. ive tested it, these\n",
    "    current_weights[index-1] = weights[fivemer_list[3]][0]  #match up \n",
    "    current_weights[index]= weights[fivemer_list[3]][0]\n",
    "    \n",
    "    return current_weights\n",
    "\n",
    "def codingYesNo(ab_index, mb, DNA, DNA_map):\n",
    "    \"\"\"\n",
    "    (ab_index: int, mb = base A/T/C/G, DNA: str, DNA_map: List) -> List or None\n",
    "    \n",
    "    Will check if the ancestral base is part of the coding/ non-coding/invariant region.\n",
    "    If part of a noncoding region, it will return \"None\".\n",
    "    If part of a coding region, it will return the ancestral and mutated codons in a list with two entries [ancestral_codon, mutated_codon] \n",
    "    If part of an invariant region, returns int(3)\n",
    "    \"\"\"\n",
    "    if DNA_map[ab_index] == \"N\": # doesnt apply for these sims but w/e wont chnage for now \n",
    "        return None\n",
    "    elif DNA_map[ab_index] == \"3\": #if invariant \n",
    "        return 3\n",
    "    else:\n",
    "        if DNA_map[ab_index] == \"0\": # if we're at the first position...\n",
    "            codon = DNA[ab_index] + DNA[ab_index + 1] + DNA[ab_index + 2] # take the 012 codon\n",
    "            m_codon = mb + DNA[ab_index + 1] + DNA[ab_index + 2] # make the mutated codon\n",
    "        elif DNA_map[ab_index] == \"1\": # if we're at the second position...\n",
    "            codon = DNA[ab_index - 1] + DNA[ab_index] + DNA[ab_index + 1] # take the 012 codon\n",
    "            m_codon = DNA[ab_index - 1] + mb + DNA[ab_index + 1] # make the mutated codon\n",
    "        elif DNA_map[ab_index] == \"2\": # if we're at the third position...\n",
    "            codon = DNA[ab_index - 2] + DNA[ab_index - 1] + DNA[ab_index] # take the 012 codon\n",
    "            m_codon = DNA[ab_index - 2] + DNA[ab_index - 1] + mb # make the mutated codon\n",
    "        \n",
    "        return [codon, m_codon] # if it's coding, return the ancestral and mutated codons\n",
    "\n",
    "def blosum(a_m_codons, codon_aa_conversionDict, blosum_dict):\n",
    "    \"\"\"\n",
    "    (a_m_codons: List [ancestral_codon, mutated_codon], codon_aa_conversionDict = triplet-->aa dict, blosum_dict = blosum matrix ) -> bool (True/False     \n",
    "    Will return True if the change is acceptable and False if the change is not acceptable.  \n",
    "    ex. [\"CGT\", \"CAT\"] --> R to H is accepted at 0.6, or 60%. If the function accepts it, it will return True.\n",
    "    \"\"\"\n",
    "    \n",
    "    a_aa = codon_aa_conversionDict[a_m_codons[0]] #ancestral a.a \n",
    "    m_aa = codon_aa_conversionDict[a_m_codons[1]]  #mutated a.a \n",
    "    \n",
    "    return choice([True, False], p = [blosum_dict[a_aa][m_aa], (1-(blosum_dict[a_aa][m_aa]))]) \n",
    "\n",
    "def mutate_chromosome(DNA, ab_index, mb):\n",
    "    \"\"\"\n",
    "    (DNA:str, ab_index:number, site chosen, mb:str) -> str (mutated DNA)\n",
    "    Will return a new DNA string with a random base mutated to a new base as given by the previous functions.\n",
    "    \"\"\"\n",
    "    return DNA[:ab_index] + mb + DNA[ab_index + 1:]"
   ]
  },
  {
   "cell_type": "markdown",
   "id": "28fe48d2-9556-446e-a031-ef4afa90e808",
   "metadata": {},
   "source": [
    "### **fetchign 100 sample coding seqs**"
   ]
  },
  {
   "cell_type": "code",
   "execution_count": 14,
   "id": "55d04afb-7af0-4588-8e8c-2f94c192a880",
   "metadata": {},
   "outputs": [],
   "source": [
    "#!cp ../Human_exon_data/Homo_sapiens.GRCh38.cds.all.fa ./data/fivemer_sims/"
   ]
  },
  {
   "cell_type": "code",
   "execution_count": 4,
   "id": "37f02fad-368b-4c84-b337-e5d41bbff25f",
   "metadata": {},
   "outputs": [],
   "source": [
    "coding_ids = [] #tsrating the sampling \n",
    "for seqRec in SeqIO.parse(open(\"data/fivemer_sims/Homo_sapiens.GRCh38.cds.all.fa\"),\"fasta\"):\n",
    "    coding_ids.append(seqRec.id )\n",
    "chosen_coding_ids = random.choices(coding_ids,k=20000) #arbitrarily high sample number to make sure 100 seqs will have length >= 5000"
   ]
  },
  {
   "cell_type": "code",
   "execution_count": null,
   "id": "5964aa94-cea4-408f-827c-d34fd6ac28ae",
   "metadata": {
    "tags": []
   },
   "outputs": [],
   "source": [
    "chosen_coding_randSeq = {}\n",
    "for seqRec in SeqIO.parse(open(\"data/fivemer_sims/Homo_sapiens.GRCh38.cds.all.fa\"),\"fasta\"):\n",
    "    if seqRec.id in chosen_coding_ids: \n",
    "        if len(seqRec.seq) >= 5000: \n",
    "            if \"N\" not in seqRec.seq and len(seqRec.seq)%3==0: #making sure its divisible by zero \n",
    "                chosen_coding_randSeq[seqRec.id] = str(seqRec.seq)\n",
    "\n",
    "#cut down to 100 n \n",
    "chosen_coding_randSeq_100 = {}\n",
    "for key in list(chosen_coding_randSeq.keys())[0:100]:\n",
    "    chosen_coding_randSeq_100[key] = chosen_coding_randSeq[key]"
   ]
  },
  {
   "cell_type": "markdown",
   "id": "f53c32f2-c57c-402f-af5c-acfbfd63bb5e",
   "metadata": {},
   "source": [
    "# **simulation**"
   ]
  },
  {
   "cell_type": "code",
   "execution_count": null,
   "id": "ffc25215-ad2c-4ca6-adcf-26e659d97ad3",
   "metadata": {},
   "outputs": [],
   "source": [
    "for key,DNA in tqdm(chosen_coding_randSeq_100.items()): \n",
    "    #basci dna-specific parameters \n",
    "    trial_n = list(chosen_coding_randSeq_100.keys()).index(key)\n",
    "    number_gens = len(DNA)*2\n",
    "    \n",
    "    DNA_map = \"012\"*int(len(DNA)/3)\n",
    "    #randomly choosing half of CDS to be invariant sites (3 in the DNA_map)--> GROUP BY CODON (3 at a time) \n",
    "    number_codingSites_turnedInvariant = 0 \n",
    "    while number_codingSites_turnedInvariant <= len(DNA)/2: #2 for half inmvariant, \n",
    "        site_chosen = random.randrange(len(DNA))\n",
    "        if (DNA_map[site_chosen]) == \"0\" : \n",
    "            DNA_map = DNA_map[:site_chosen] + \"333\" + DNA_map[site_chosen+3:]\n",
    "            number_codingSites_turnedInvariant += 3\n",
    "\n",
    "    #creating the list of initial weights \n",
    "    weights = []\n",
    "    for i in range(2,len(DNA)-2): # adjusted for fivemer\n",
    "        weights.append(model_5[(DNA[i-2:i+3])][0])\n",
    "\n",
    "    number_gens = len(DNA)*2\n",
    "    \n",
    "    #write initial state to files \n",
    "    DNAI = copy.copy(DNA)\n",
    "    weights_i = copy.copy(weights)\n",
    "    text_file = open(\"data/fivemer_sims/coding/trial{n}_DNAI.txt\".format(n=trial_n), \"w\")\n",
    "    n = text_file.write(DNAI)\n",
    "    text_file.close()\n",
    "    text_file = open(\"data/fivemer_sims/coding/trial{n}_weightsI.txt\".format(n=trial_n), \"w\")\n",
    "    n = text_file.write(str(weights_i))\n",
    "    text_file.close()\n",
    "    \n",
    "    for x in range(len(DNA)*2): #running the sim for this dna string \n",
    "    \n",
    "        #selecting the base to mutate \n",
    "        ab_index = base_to_mutate(DNA, weights) # ex. \"mutate position 25 (\"G\")\"   \n",
    "\n",
    "        if len(DNA)-ab_index >= 5 and ab_index >= 5 : #making sure dont pick the ends , adjusted for 5mer\n",
    "\n",
    "            mb = base_to_turn_into(ab_index, model_5, DNA) # ex. \"position 25 (\"G\") will become \"A\"    \n",
    "\n",
    "            #determining if alloweed to mutate. if so, then mutating \n",
    "            if codingYesNo(ab_index, mb, DNA, DNA_map) == None:\n",
    "                mDNA = mutate_chromosome(DNA, ab_index, mb) # always mutate \n",
    "                DNA = mDNA # the mutated DNA is the new DNA \n",
    "            elif codingYesNo(ab_index, mb, DNA, DNA_map) != 3: # not invariant site\n",
    "                a_m_codons = codingYesNo(ab_index, mb, DNA, DNA_map) # check to see if the change is acceptable\n",
    "                if blosum(a_m_codons, aa_conversion_dict, blosum_dict) == True: # if the change is acceptable...\n",
    "                    mDNA = mutate_chromosome(DNA, ab_index, mb) # mutate it (otherwise do nothing)\n",
    "                    DNA = mDNA # the mutated DNA is the new DNA    \n",
    "\n",
    "            #updating the weights lits \n",
    "            weights = current_frequencies(DNA, model_5, ab_index, weights)\n",
    "\n",
    "    text_file = open(\"data/fivemer_sims/coding/trial{n}_DNA.txt\".format(n=trial_n), \"w\")\n",
    "    n = text_file.write(DNA)\n",
    "    text_file.close()\n",
    "\n",
    "    text_file = open(\"data/fivemer_sims/coding/trial{n}_weights.txt\".format(n=trial_n), \"w\")\n",
    "    n = text_file.write(str(weights))\n",
    "    text_file.close()"
   ]
  },
  {
   "cell_type": "code",
   "execution_count": 118,
   "id": "0dae7772-8b3c-421e-9ff8-41d30ae1582c",
   "metadata": {},
   "outputs": [],
   "source": []
  },
  {
   "cell_type": "code",
   "execution_count": 140,
   "id": "ec4a28e9-0b83-43a6-9b85-799b8176bdae",
   "metadata": {},
   "outputs": [],
   "source": []
  },
  {
   "cell_type": "markdown",
   "id": "1e06d9b9-3fd1-4fbe-b875-f98e1743aa64",
   "metadata": {},
   "source": [
    "### **simulation**"
   ]
  },
  {
   "cell_type": "code",
   "execution_count": 141,
   "id": "929e9a1b-7be2-4129-b8a1-9ec655bdee4a",
   "metadata": {},
   "outputs": [
    {
     "name": "stderr",
     "output_type": "stream",
     "text": [
      "100%|███████████████████████████████████████████████████████████████████████████████████████| 20256/20256 [01:00<00:00, 333.63it/s]\n"
     ]
    }
   ],
   "source": []
  }
 ],
 "metadata": {
  "kernelspec": {
   "display_name": "Python [conda env:.conda-mutEq]",
   "language": "python",
   "name": "conda-env-.conda-mutEq-py"
  },
  "language_info": {
   "codemirror_mode": {
    "name": "ipython",
    "version": 3
   },
   "file_extension": ".py",
   "mimetype": "text/x-python",
   "name": "python",
   "nbconvert_exporter": "python",
   "pygments_lexer": "ipython3",
   "version": "3.9.6"
  }
 },
 "nbformat": 4,
 "nbformat_minor": 5
}
