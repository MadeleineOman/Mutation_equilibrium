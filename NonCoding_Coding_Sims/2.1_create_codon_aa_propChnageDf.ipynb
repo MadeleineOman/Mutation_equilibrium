{
 "cells": [
  {
   "cell_type": "markdown",
   "metadata": {},
   "source": [
    "# **creating proportional codon and aa chnage dataframe** "
   ]
  },
  {
   "cell_type": "code",
   "execution_count": 1,
   "metadata": {},
   "outputs": [],
   "source": [
    "import matplotlib.pyplot as plt\n",
    "import matplotlib\n",
    "import numpy as np \n",
    "import matplotlib.patches as mpatches\n",
    "import numpy as np \n",
    "import copy\n",
    "import json\n",
    "import pandas as pd\n",
    "import math\n",
    "from datetime import datetime"
   ]
  },
  {
   "cell_type": "code",
   "execution_count": 2,
   "metadata": {},
   "outputs": [],
   "source": [
    "plt.style.use(\"seaborn-darkgrid\")"
   ]
  },
  {
   "cell_type": "code",
   "execution_count": 3,
   "metadata": {},
   "outputs": [],
   "source": [
    "#whole genome doubled model\n",
    "model = json.load(open(\"../Human_mutability_model/Model_2020_12_02_genomeWide.txt\"))\n",
    "bases = [ \"T\", \"C\",\"A\", \"G\"]"
   ]
  },
  {
   "cell_type": "markdown",
   "metadata": {},
   "source": [
    "# **heat map using codons only** \n",
    "- going to need: \n",
    "    - DNAI dict\n",
    "    - DNAF dict\n",
    "    - DNA map dict... \n",
    "    - exon insertion dictionary "
   ]
  },
  {
   "cell_type": "code",
   "execution_count": 4,
   "metadata": {},
   "outputs": [],
   "source": [
    "file_path_afterSim = \"data/dif_DNA/\"\n",
    "sim_name_afterSim = \"Trial\"\n",
    "about_sim = \"_cds_invariant50\"\n",
    "nTrials= 10 #\n",
    "genToUse = 200000"
   ]
  },
  {
   "cell_type": "code",
   "execution_count": 5,
   "metadata": {},
   "outputs": [],
   "source": [
    "DNA_dataDict = {}\n",
    "\n",
    "#DifDNA800kgen trial 1-5\n",
    "for index_tmp in range(1,nTrials+1):\n",
    "    file_name_exondict = sim_name_afterSim+str(index_tmp)+\"_exon_insertion_dict.txt\"\n",
    "    file_name_dnaI = sim_name_afterSim+str(index_tmp)+\"_DNA_gen0_cds.txt\"\n",
    "    file_name_dnaF = sim_name_afterSim+str(index_tmp)+\"_DNA_final\"+about_sim+\"_\"+str(genToUse)+\".txt\"\n",
    "    file_name_dnamap = sim_name_afterSim+str(index_tmp)+\"_DNA_map\"+about_sim+\".txt\"\n",
    "    \n",
    "    file_object_exondict = json.loads(open(file_path_afterSim+file_name_exondict).readlines()[0])\n",
    "    file_object_dnaI = open(file_path_afterSim+file_name_dnaI).readlines()[0]\n",
    "    file_object_dnaF = open(file_path_afterSim+file_name_dnaF).readlines()[0]\n",
    "    file_object_dnamap = open(file_path_afterSim+file_name_dnamap).readlines()[0]\n",
    "    \n",
    "    DNA_dataDict[\"Trial\"+str(index_tmp)] = [file_object_dnaI, file_object_dnaF, file_object_dnamap, file_object_exondict]  \n",
    "\n",
    "\n",
    "#adding codonsI and codonsF list to the dna_data dictionary \n",
    "for trial_number in range(1,nTrials+1):\n",
    "    trial_name = \"Trial\"+str(trial_number)\n",
    "\n",
    "    current_DNAI = DNA_dataDict[trial_name][0]\n",
    "    current_DNAF = DNA_dataDict[trial_name][1]\n",
    "    current_codonsI = []\n",
    "    current_codonsF = []\n",
    "\n",
    "    tmp_nCodons = 0\n",
    "\n",
    "    for exon_bounds_list in DNA_dataDict[trial_name][3].values():\n",
    "\n",
    "        i = int(exon_bounds_list[0])+1#set the start of the codon (this is proven as the start)\n",
    "\n",
    "        tmp_exon_codons = int((int(exon_bounds_list[1]) - int(exon_bounds_list[0]))/3)\n",
    "        tmp_nCodons += tmp_exon_codons\n",
    "\n",
    "\n",
    "        while i <= int(exon_bounds_list[1]): \n",
    "            current_codonsI.append(current_DNAI[i:i+3])\n",
    "            current_codonsF.append(current_DNAF[i:i+3])\n",
    "            i+= 3\n",
    "        \n",
    "    \n",
    "    DNA_dataDict[trial_name].extend([current_codonsI, current_codonsF])"
   ]
  },
  {
   "cell_type": "code",
   "execution_count": 6,
   "metadata": {},
   "outputs": [],
   "source": [
    "# creatign dictionary that has the initial, final, and (final-initial)/initial freq for each tripet (one list of each, n = ntrial) \n",
    "triplets = []\n",
    "count_change_dictionary = {}\n",
    "for base1 in bases: \n",
    "    for base2 in bases: \n",
    "        for base3 in bases: \n",
    "            \n",
    "            triplet = base1+base2+base3\n",
    "            triplets.append(triplet)\n",
    "            count_change_dictionary[triplet] = [[],[],[]]\n",
    "            \n",
    "            for trial_number in range(1,nTrials+1):\n",
    "                \n",
    "                trial_name = \"Trial\"+str(trial_number)\n",
    "                \n",
    "                count_initial = DNA_dataDict[trial_name][4].count(triplet)\n",
    "                count_final = DNA_dataDict[trial_name][5].count(triplet)\n",
    "                \n",
    "                count_change_dictionary[triplet][0].append(count_initial)\n",
    "                count_change_dictionary[triplet][1].append(count_final)\n",
    "                count_change_dictionary[triplet][2].append((count_final-count_initial)/count_initial)"
   ]
  },
  {
   "cell_type": "code",
   "execution_count": 7,
   "metadata": {},
   "outputs": [],
   "source": [
    "codon_propChnage_dict = {}\n",
    "for key, value_list in count_change_dictionary.items(): \n",
    "    codon_propChnage_dict[key] = value_list[2]"
   ]
  },
  {
   "cell_type": "code",
   "execution_count": 8,
   "metadata": {},
   "outputs": [],
   "source": [
    "codon_propChange_df = pd.DataFrame.from_dict(codon_propChnage_dict)\n",
    "timestamp = datetime.now().strftime(\"%Y/%m/%d\").replace(\"/\", \"_\").replace(\":\", \"_\")\n",
    "codon_propChange_df.to_csv(\"data/dif_DNA/{t}_codon_propChnage_2xcov.csv\".format(t=timestamp))"
   ]
  },
  {
   "cell_type": "markdown",
   "metadata": {},
   "source": [
    "# **creating mean chnage for each a.a.** "
   ]
  },
  {
   "cell_type": "code",
   "execution_count": 9,
   "metadata": {},
   "outputs": [],
   "source": [
    "SynonymousCodons = {'CYS': ['TGT', 'TGC'], 'ASP': ['GAT', 'GAC'],\n",
    "'SER': ['TCT', 'TCG', 'TCA', 'TCC', 'AGC', 'AGT'],\n",
    "'GLN': ['CAA', 'CAG'], 'MET': ['ATG'], 'ASN': ['AAC', 'AAT'],\n",
    "'PRO': ['CCT', 'CCG', 'CCA', 'CCC'], 'LYS': ['AAG', 'AAA'],\n",
    "'STOP': ['TAG', 'TGA', 'TAA'], 'THR': ['ACC', 'ACA', 'ACG', 'ACT'],\n",
    "'PHE': ['TTT', 'TTC'], 'ALA': ['GCA', 'GCC', 'GCG', 'GCT'],\n",
    "'GLY': ['GGT', 'GGG', 'GGA', 'GGC'], 'ILE': ['ATC', 'ATA', 'ATT'],\n",
    "'LEU': ['TTA', 'TTG', 'CTC', 'CTT', 'CTG', 'CTA'], 'HIS': ['CAT', 'CAC'],\n",
    "'ARG': ['CGA', 'CGC', 'CGG', 'CGT', 'AGG', 'AGA'], 'TRP': ['TGG'],\n",
    "'VAL': ['GTA', 'GTC', 'GTG', 'GTT'], 'GLU': ['GAG', 'GAA'], 'TYR': ['TAT', 'TAC']}"
   ]
  },
  {
   "cell_type": "code",
   "execution_count": 10,
   "metadata": {},
   "outputs": [],
   "source": [
    "aa_mean_change = {}\n",
    "\n",
    "for aa, codon_list in SynonymousCodons.items(): \n",
    "    aa_current_chnage_list = []\n",
    "    for trial_number in range(nTrials): \n",
    "        sum_i = 0\n",
    "        sum_f = 0\n",
    "        for syn_codon in codon_list: \n",
    "            \n",
    "            sum_i += count_change_dictionary[syn_codon][0][trial_number]\n",
    "            sum_f += count_change_dictionary[syn_codon][1][trial_number]\n",
    "        aa_current_chnage_list.append((sum_f-sum_i)/sum_i)\n",
    "    aa_mean_change[aa] = aa_current_chnage_list"
   ]
  },
  {
   "cell_type": "code",
   "execution_count": 11,
   "metadata": {},
   "outputs": [],
   "source": [
    "aa_mean_change_df = pd.DataFrame.from_dict(aa_mean_change)\n",
    "timestamp = datetime.now().strftime(\"%Y/%m/%d\").replace(\"/\", \"_\").replace(\":\", \"_\")\n",
    "aa_mean_change_df.to_csv(\"data/dif_DNA/{t}_aa_propChnage_2xcov.csv\".format(t=timestamp))"
   ]
  },
  {
   "cell_type": "markdown",
   "metadata": {},
   "source": [
    "## **create df for R regression analysis mutability on codon chnage**"
   ]
  },
  {
   "cell_type": "code",
   "execution_count": 23,
   "metadata": {},
   "outputs": [],
   "source": [
    "r_codon_change = {}\n",
    "\n",
    "for codon,value in codon_propChnage_dict.items():\n",
    "    r_codon_change[codon] = [model[codon][0], np.log10(model[codon][0]),np.mean(value)]"
   ]
  },
  {
   "cell_type": "code",
   "execution_count": 25,
   "metadata": {},
   "outputs": [],
   "source": [
    "r_codon_change_df = pd.DataFrame.from_dict(r_codon_change,orient=\"index\",columns=[\"mut\",\"mut_log10\",\"codon_chnage_2x\"])"
   ]
  },
  {
   "cell_type": "code",
   "execution_count": 26,
   "metadata": {},
   "outputs": [],
   "source": [
    "timestamp = datetime.now().strftime(\"%Y/%m/%d\").replace(\"/\", \"_\").replace(\":\", \"_\")\n",
    "r_codon_change_df.to_csv(\"data/dif_DNA/{t}_codon_propChnage_2xcov_Rdf.csv\".format(t=timestamp))"
   ]
  }
 ],
 "metadata": {
  "kernelspec": {
   "display_name": "Python 3",
   "language": "python",
   "name": "python3"
  },
  "language_info": {
   "codemirror_mode": {
    "name": "ipython",
    "version": 3
   },
   "file_extension": ".py",
   "mimetype": "text/x-python",
   "name": "python",
   "nbconvert_exporter": "python",
   "pygments_lexer": "ipython3",
   "version": "3.9.2"
  }
 },
 "nbformat": 4,
 "nbformat_minor": 4
}
