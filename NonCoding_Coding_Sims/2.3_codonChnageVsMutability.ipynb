{
 "cells": [
  {
   "cell_type": "markdown",
   "metadata": {},
   "source": [
    "# **plotting the codon chnage vs mutability**"
   ]
  },
  {
   "cell_type": "code",
   "execution_count": 7,
   "metadata": {},
   "outputs": [],
   "source": [
    "import matplotlib.pyplot as plt\n",
    "import numpy as np \n",
    "from sklearn.linear_model import LinearRegression\n",
    "import json\n",
    "import pandas as pd\n",
    "from datetime import datetime\n",
    "import statsmodels.api as sm\n",
    "from scipy import stats\n",
    "from sklearn import datasets, linear_model"
   ]
  },
  {
   "cell_type": "code",
   "execution_count": 2,
   "metadata": {},
   "outputs": [],
   "source": [
    "## impot codon chnage data \n",
    "codon_change_df  = pd.read_csv(\"data/dif_DNA/2021_03_01_codon_propChnage.csv\")\n",
    "##import model \n",
    "model = json.load(open(\"../Human_mutability_model/Model_2020_12_02_genomeWide.txt\"))"
   ]
  },
  {
   "cell_type": "code",
   "execution_count": 3,
   "metadata": {},
   "outputs": [],
   "source": [
    "#making the plotting df \n",
    "plotting_df = {}\n",
    "for triplet_key, mut_value in model.items(): \n",
    "    plotting_df[triplet_key] = [mut_value[0], float(np.mean(codon_change_df[[triplet_key]]))]\n",
    "plotting_df = pd.DataFrame.from_dict(plotting_df, orient = \"index\")\n",
    "plotting_df.columns = [\"mutability\", \"codon_mean_change\"]"
   ]
  },
  {
   "cell_type": "code",
   "execution_count": 4,
   "metadata": {},
   "outputs": [],
   "source": [
    "plt.style.use(\"seaborn-ticks\")"
   ]
  },
  {
   "cell_type": "code",
   "execution_count": 24,
   "metadata": {},
   "outputs": [
    {
     "data": {
      "image/png": "[encoded data removed]",
      "text/plain": [
       "<Figure size 432x288 with 1 Axes>"
      ]
     },
     "metadata": {},
     "output_type": "display_data"
    }
   ],
   "source": [
    "plt.scatter(plotting_df.mutability, plotting_df.codon_mean_change, color = \"k\", s = 26)\n",
    "plt.ylabel(\"Codon change\", size = 16)\n",
    "plt.xlabel(\"Mutability\", size = 16)\n",
    "plt.xticks(size = 14)\n",
    "plt.ticklabel_format(axis='x', style='sci', scilimits=(-2,2))#sci limits specify the e^x number beyond whic you need to use sci notaton\n",
    "plt.yticks(size = 14)\n",
    "plt.show()\n",
    "# timestamp = datetime.now().strftime(\"%Y/%m/%d\").replace(\"/\", \"_\").replace(\":\", \"_\")\n",
    "# plt.savefig(\"plots/Codon_change_{t}.png\".format(t=timestamp))"
   ]
  },
  {
   "cell_type": "code",
   "execution_count": 6,
   "metadata": {},
   "outputs": [
    {
     "name": "stdout",
     "output_type": "stream",
     "text": [
      "r^2:  0.1515231881963668 slope:  [-1571.87242968]\n"
     ]
    }
   ],
   "source": [
    "regression_mut_x = np.array(list(plotting_df.mutability)).reshape((-1,1))\n",
    "regression_change_y = np.array(list(plotting_df.codon_mean_change))\n",
    "\n",
    "regres_model =  LinearRegression().fit(regression_mut_x, regression_change_y)\n",
    "print('r^2: ', regres_model.score(regression_mut_x, regression_change_y), \"slope: \", regres_model.coef_)"
   ]
  },
  {
   "cell_type": "code",
   "execution_count": 8,
   "metadata": {},
   "outputs": [],
   "source": [
    "est_mutChange = sm.OLS(regression_change_y, sm.add_constant(regression_mut_x)).fit()"
   ]
  },
  {
   "cell_type": "code",
   "execution_count": 9,
   "metadata": {},
   "outputs": [
    {
     "name": "stdout",
     "output_type": "stream",
     "text": [
      "                            OLS Regression Results                            \n",
      "==============================================================================\n",
      "Dep. Variable:                      y   R-squared:                       0.152\n",
      "Model:                            OLS   Adj. R-squared:                  0.138\n",
      "Method:                 Least Squares   F-statistic:                     11.07\n",
      "Date:                Thu, 04 Mar 2021   Prob (F-statistic):            0.00148\n",
      "Time:                        09:31:32   Log-Likelihood:                -21.479\n",
      "No. Observations:                  64   AIC:                             46.96\n",
      "Df Residuals:                      62   BIC:                             51.28\n",
      "Df Model:                           1                                         \n",
      "Covariance Type:            nonrobust                                         \n",
      "==============================================================================\n",
      "                 coef    std err          t      P>|t|      [0.025      0.975]\n",
      "------------------------------------------------------------------------------\n",
      "const          0.1542      0.052      2.976      0.004       0.051       0.258\n",
      "x1         -1571.8724    472.391     -3.327      0.001   -2516.169    -627.576\n",
      "==============================================================================\n",
      "Omnibus:                        4.928   Durbin-Watson:                   2.418\n",
      "Prob(Omnibus):                  0.085   Jarque-Bera (JB):                4.850\n",
      "Skew:                           0.666   Prob(JB):                       0.0885\n",
      "Kurtosis:                       2.786   Cond. No.                     1.10e+04\n",
      "==============================================================================\n",
      "\n",
      "Notes:\n",
      "[1] Standard Errors assume that the covariance matrix of the errors is correctly specified.\n",
      "[2] The condition number is large, 1.1e+04. This might indicate that there are\n",
      "strong multicollinearity or other numerical problems.\n"
     ]
    }
   ],
   "source": [
    "print(est_mutChange.summary())"
   ]
  },
  {
   "cell_type": "markdown",
   "metadata": {},
   "source": [
    "##  **non_cpgs only now** "
   ]
  },
  {
   "cell_type": "code",
   "execution_count": 13,
   "metadata": {},
   "outputs": [],
   "source": [
    "plotting_df_nonCpg = plotting_df[plotting_df.mutability <= 0.0002]"
   ]
  },
  {
   "cell_type": "code",
   "execution_count": 26,
   "metadata": {},
   "outputs": [
    {
     "data": {
      "image/png": "[encoded data removed]",
      "text/plain": [
       "<Figure size 432x288 with 1 Axes>"
      ]
     },
     "metadata": {},
     "output_type": "display_data"
    }
   ],
   "source": [
    "plt.scatter(plotting_df_nonCpg.mutability, plotting_df_nonCpg.codon_mean_change, color = \"k\", s = 26)\n",
    "plt.ylabel(\"Codon change\", size = 16)\n",
    "plt.xlabel(\"Mutability\", size = 16)\n",
    "plt.xticks(size = 14)\n",
    "plt.ticklabel_format(axis='x', style='sci', scilimits=(-2,2))#sci limits specify the e^x number beyond whic you need to use sci notaton\n",
    "plt.yticks(size = 14)\n",
    "plt.show()\n",
    "# timestamp = datetime.now().strftime(\"%Y/%m/%d\").replace(\"/\", \"_\").replace(\":\", \"_\")\n",
    "# plt.savefig(\"plots/Codon_change_{t}_nonCpgs.png\".format(t=timestamp))"
   ]
  },
  {
   "cell_type": "code",
   "execution_count": 15,
   "metadata": {},
   "outputs": [
    {
     "name": "stdout",
     "output_type": "stream",
     "text": [
      "r^2:  0.0006132441565321889 slope:  [-1088.83541317]\n"
     ]
    }
   ],
   "source": [
    "regression_mut_x_nonCpg = np.array(list(plotting_df_nonCpg.mutability)).reshape((-1,1))\n",
    "regression_change_y_nonCpg = np.array(list(plotting_df_nonCpg.codon_mean_change))\n",
    "\n",
    "regres_model_nonCpg =  LinearRegression().fit(regression_mut_x_nonCpg, regression_change_y_nonCpg)\n",
    "print('r^2: ', regres_model.score(regression_mut_x_nonCpg, regression_change_y_nonCpg), \"slope: \", regres_model_nonCpg.coef_)"
   ]
  },
  {
   "cell_type": "code",
   "execution_count": 16,
   "metadata": {},
   "outputs": [],
   "source": [
    "est_mutChange_nonCpg = sm.OLS(regression_change_y_nonCpg, sm.add_constant(regression_mut_x_nonCpg)).fit()"
   ]
  },
  {
   "cell_type": "code",
   "execution_count": 17,
   "metadata": {},
   "outputs": [
    {
     "name": "stdout",
     "output_type": "stream",
     "text": [
      "                            OLS Regression Results                            \n",
      "==============================================================================\n",
      "Dep. Variable:                      y   R-squared:                       0.001\n",
      "Model:                            OLS   Adj. R-squared:                 -0.018\n",
      "Method:                 Least Squares   F-statistic:                   0.04332\n",
      "Date:                Thu, 04 Mar 2021   Prob (F-statistic):              0.836\n",
      "Time:                        09:35:59   Log-Likelihood:                -22.072\n",
      "No. Observations:                  56   AIC:                             48.14\n",
      "Df Residuals:                      54   BIC:                             52.20\n",
      "Df Model:                           1                                         \n",
      "Covariance Type:            nonrobust                                         \n",
      "==============================================================================\n",
      "                 coef    std err          t      P>|t|      [0.025      0.975]\n",
      "------------------------------------------------------------------------------\n",
      "const          0.1429      0.151      0.944      0.349      -0.161       0.446\n",
      "x1         -1088.8354   5231.480     -0.208      0.836   -1.16e+04    9399.651\n",
      "==============================================================================\n",
      "Omnibus:                        4.289   Durbin-Watson:                   2.250\n",
      "Prob(Omnibus):                  0.117   Jarque-Bera (JB):                4.118\n",
      "Skew:                           0.615   Prob(JB):                        0.128\n",
      "Kurtosis:                       2.497   Cond. No.                     1.07e+05\n",
      "==============================================================================\n",
      "\n",
      "Notes:\n",
      "[1] Standard Errors assume that the covariance matrix of the errors is correctly specified.\n",
      "[2] The condition number is large, 1.07e+05. This might indicate that there are\n",
      "strong multicollinearity or other numerical problems.\n"
     ]
    }
   ],
   "source": [
    "print(est_mutChange_nonCpg.summary())"
   ]
  }
 ],
 "metadata": {
  "kernelspec": {
   "display_name": "Python 3 (ipykernel)",
   "language": "python",
   "name": "python3"
  },
  "language_info": {
   "codemirror_mode": {
    "name": "ipython",
    "version": 3
   },
   "file_extension": ".py",
   "mimetype": "text/x-python",
   "name": "python",
   "nbconvert_exporter": "python",
   "pygments_lexer": "ipython3",
   "version": "3.9.6"
  }
 },
 "nbformat": 4,
 "nbformat_minor": 4
}
