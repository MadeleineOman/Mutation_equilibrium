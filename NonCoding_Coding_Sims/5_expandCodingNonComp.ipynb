{
 "cells": [
  {
   "cell_type": "markdown",
   "id": "7ba70200-2006-4c28-9fcd-8c089602c26a",
   "metadata": {},
   "source": [
    "# **expanding the coding vs non-coding comparison**"
   ]
  },
  {
   "cell_type": "code",
   "execution_count": 5,
   "id": "c22f2abe-1c89-46d4-b9d9-3ce40a5ddf7b",
   "metadata": {},
   "outputs": [],
   "source": [
    "#bash statemnt format \n",
    "# Description_of_sim,  Number_gens, where to i=find initial dna,   where to find initial dnamap \n",
    "\n",
    "# IMPORT STATEMENTS~~~~~~~~~~~~~~~~~~~~~~~~~~~~~~~~~~~~~~~~~~~~~~~~~~~~~~~~~~~~~~~~~~~~~~~~~~~~~~~~~~~~~~~~~~~~~~~~~~~~~~~~~~~~~~~~~~~~~~~~~~~~~~~~~~~~~~~~~~~~~~~~~~~~~~~~~~~~~~~~~~~~~~~~\n",
    "\n",
    "import random\n",
    "from random import randint\n",
    "from typing import List, Dict\n",
    "from numpy.random import choice\n",
    "import numpy as np\n",
    "import matplotlib.pyplot as plt\n",
    "import pandas as pd\n",
    "import numpy\n",
    "from Bio import SeqIO\n",
    "from tqdm import tqdm\n",
    "import copy \n",
    "import math \n",
    "import json\n",
    "import sys \n",
    "from multiprocessing import Pool"
   ]
  },
  {
   "cell_type": "code",
   "execution_count": 8,
   "id": "02ab0819-95fa-45bc-a8d3-725e3c3b5fb4",
   "metadata": {},
   "outputs": [],
   "source": [
    "\n",
    "#MAKING STATIC OBJECTS ~~~~~~~~~~~~~~~~~~~~~~~~~~~~~~~~~~~~~~~~~~~~~~~~~~~~~~~~~~~~~~~~~~~~~~~~~~~~~~~~~~~~~~~~~~~~~~~~~~~~~~~~~~~~~~~~~~~~~~~~~~~~~~~~~~~~~~~~~~~~~~~~~~~~~~~~~~~~~~~~~~~~~~\n",
    "\n",
    "aa_conversion_dict = {\"TTT\": \"F\", \"TTC\": \"F\", \\\n",
    "\"TTA\": \"L\", \"TTG\": \"L\", \"CTT\": \"L\", \"CTC\": \"L\", \"CTA\": \"L\", \"CTG\": \"L\", \\\n",
    "\"ATT\": \"I\", \"ATC\": \"I\", \"ATA\": \"I\", \\\n",
    "\"ATG\": \"M\", \\\n",
    "\"GTT\": \"V\", \"GTC\": \"V\", \"GTA\": \"V\", \"GTG\": \"V\", \\\n",
    "\"TCT\": \"S\", \"TCC\": \"S\", \"TCA\": \"S\", \"TCG\": \"S\", \"AGT\": \"S\", \"AGC\": \"S\", \\\n",
    "\"CCT\": \"P\", \"CCC\": \"P\", \"CCA\": \"P\", \"CCG\": \"P\", \\\n",
    "\"ACT\": \"T\", \"ACC\": \"T\", \"ACA\": \"T\", \"ACG\": \"T\", \\\n",
    "\"GCT\": \"A\", \"GCC\": \"A\", \"GCA\": \"A\", \"GCG\": \"A\", \\\n",
    "\"TAT\": \"Y\", \"TAC\": \"Y\", \\\n",
    "\"CAT\": \"H\", \"CAC\": \"H\", \\\n",
    "\"CAA\": \"Q\", \"CAG\": \"Q\", \\\n",
    "\"AAT\": \"N\", \"AAC\": \"N\", \\\n",
    "\"AAA\": \"K\", \"AAG\": \"K\", \\\n",
    "\"GAT\": \"D\", \"GAC\": \"D\", \\\n",
    "\"GAA\": \"E\", \"GAG\": \"E\", \\\n",
    "\"TGT\": \"C\", \"TGC\": \"C\", \\\n",
    "\"TGG\": \"W\", \\\n",
    "\"CGT\": \"R\", \"CGC\": \"R\", \"CGA\": \"R\", \"CGG\": \"R\", \"AGA\": \"R\", \"AGG\": \"R\", \\\n",
    "\"GGT\": \"G\", \"GGC\": \"G\", \"GGA\": \"G\", \"GGG\": \"G\", \\\n",
    "\"TAA\": \"*\", \"TAG\": \"*\", \"TGA\": \"*\"} \\\n",
    "\n",
    "#blosum matrix \n",
    "blosum_dict = {'T': {'T': 1.0, 'Q': 0.5, 'C': 0.4, 'M': 0.5, 'A': 0.6, 'B': 0.5, 'K': 0.5, 'E': 0.5, 'P': 0.4, 'R': 0.4, 'G': 0.3, 'J': 0.4, 'F': 0.3, 'X': 0.5, 'Z': 0.5, '*': 0.0, 'N': 0.6, 'V': 0.5, 'H': 0.4, 'W': 0.2, 'L': 0.4, 'S': 0.7, 'D': 0.4, 'I': 0.5, 'Y': 0.4}, \\\n",
    " 'Q': {'T': 0.5, 'Q': 1.0, 'C': 0.2, 'M': 0.6, 'A': 0.5, 'B': 0.5, 'K': 0.7, 'E': 0.8, 'P': 0.4, 'R': 0.7, 'G': 0.3, 'J': 0.3, 'F': 0.2, 'X': 0.5, 'Z': 1.0, '*': 0.0, 'N': 0.6, 'V': 0.3, 'H': 0.7, 'W': 0.3, 'L': 0.3, 'S': 0.5, 'D': 0.5, 'I': 0.2, 'Y': 0.3}, \\\n",
    " 'C': {'T': 0.4, 'Q': 0.2, 'C': 1.0, 'M': 0.4, 'A': 0.5, 'B': 0.2, 'K': 0.2, 'E': 0.0, 'P': 0.2, 'R': 0.1, 'G': 0.2, 'J': 0.4, 'F': 0.3, 'X': 0.5, 'Z': 0.1, '*': 0.0, 'N': 0.2, 'V': 0.4, 'H': 0.1, 'W': 0.2, 'L': 0.4, 'S': 0.4, 'D': 0.1, 'I': 0.4, 'Y': 0.2}, \\\n",
    " 'M': {'T': 0.5, 'Q': 0.6, 'C': 0.4, 'M': 1.0, 'A': 0.4, 'B': 0.2, 'K': 0.4, 'E': 0.3, 'P': 0.3, 'R': 0.4, 'G': 0.2, 'J': 0.8, 'F': 0.5, 'X': 0.5, 'Z': 0.4, '*': 0.0, 'N': 0.3, 'V': 0.6, 'H': 0.3, 'W': 0.4, 'L': 0.8, 'S': 0.4, 'D': 0.2, 'I': 0.7, 'Y': 0.4}, \\\n",
    " 'A': {'T': 0.6, 'Q': 0.5, 'C': 0.5, 'M': 0.4, 'A': 1.0, 'B': 0.4, 'K': 0.5, 'E': 0.5, 'P': 0.5, 'R': 0.4, 'G': 0.6, 'J': 0.4, 'F': 0.3, 'X': 0.5, 'Z': 0.5, '*': 0.0, 'N': 0.4, 'V': 0.5, 'H': 0.4, 'W': 0.2, 'L': 0.4, 'S': 0.7, 'D': 0.3, 'I': 0.4, 'Y': 0.3}, \\\n",
    " 'B': {'T': 0.5, 'Q': 0.5, 'C': 0.2, 'M': 0.2, 'A': 0.4, 'B': 1.0, 'K': 0.5, 'E': 0.7, 'P': 0.3, 'R': 0.4, 'G': 0.4, 'J': 0.1, 'F': 0.2, 'X': 0.5, 'Z': 0.6, '*': 0.0, 'N': 1.0, 'V': 0.2, 'H': 0.5, 'W': 0.0, 'L': 0.1, 'S': 0.6, 'D': 1.0, 'I': 0.1, 'Y': 0.2}, \\\n",
    " 'K': {'T': 0.5, 'Q': 0.7, 'C': 0.2, 'M': 0.4, 'A': 0.5, 'B': 0.5, 'K': 1.0, 'E': 0.6, 'P': 0.4, 'R': 0.8, 'G': 0.4, 'J': 0.3, 'F': 0.2, 'X': 0.5, 'Z': 0.7, '*': 0.0, 'N': 0.6, 'V': 0.3, 'H': 0.5, 'W': 0.1, 'L': 0.3, 'S': 0.5, 'D': 0.5, 'I': 0.2, 'Y': 0.3}, \\\n",
    " 'E': {'T': 0.5, 'Q': 0.8, 'C': 0.0, 'M': 0.3, 'A': 0.5, 'B': 0.7, 'K': 0.6, 'E': 1.0, 'P': 0.4, 'R': 0.5, 'G': 0.3, 'J': 0.2, 'F': 0.1, 'X': 0.5, 'Z': 1.0, '*': 0.0, 'N': 0.5, 'V': 0.3, 'H': 0.5, 'W': 0.1, 'L': 0.2, 'S': 0.5, 'D': 0.7, 'I': 0.2, 'Y': 0.2}, \\\n",
    " 'P': {'T': 0.4, 'Q': 0.4, 'C': 0.2, 'M': 0.3, 'A': 0.5, 'B': 0.3, 'K': 0.4, 'E': 0.4, 'P': 1.0, 'R': 0.3, 'G': 0.3, 'J': 0.2, 'F': 0.2, 'X': 0.5, 'Z': 0.4, '*': 0.0, 'N': 0.3, 'V': 0.3, 'H': 0.3, 'W': 0.1, 'L': 0.2, 'S': 0.4, 'D': 0.3, 'I': 0.2, 'Y': 0.2}, \\\n",
    " 'R': {'T': 0.4, 'Q': 0.7, 'C': 0.1, 'M': 0.4, 'A': 0.4, 'B': 0.4, 'K': 0.8, 'E': 0.5, 'P': 0.3, 'R': 1.0, 'G': 0.3, 'J': 0.3, 'F': 0.2, 'X': 0.5, 'Z': 0.6, '*': 0.0, 'N': 0.5, 'V': 0.3, 'H': 0.6, 'W': 0.2, 'L': 0.3, 'S': 0.5, 'D': 0.3, 'I': 0.2, 'Y': 0.3}, \\\n",
    " 'G': {'T': 0.3, 'Q': 0.3, 'C': 0.2, 'M': 0.2, 'A': 0.6, 'B': 0.4, 'K': 0.4, 'E': 0.3, 'P': 0.3, 'R': 0.3, 'G': 1.0, 'J': 0.1, 'F': 0.1, 'X': 0.5, 'Z': 0.3, '*': 0.0, 'N': 0.5, 'V': 0.1, 'H': 0.3, 'W': 0.2, 'L': 0.1, 'S': 0.5, 'D': 0.4, 'I': 0.1, 'Y': 0.1}, \\\n",
    " 'J': {'T': 0.4, 'Q': 0.3, 'C': 0.4, 'M': 0.8, 'A': 0.4, 'B': 0.1, 'K': 0.3, 'E': 0.2, 'P': 0.2, 'R': 0.3, 'G': 0.1, 'J': 1.0, 'F': 0.6, 'X': 0.5, 'Z': 0.2, '*': 0.0, 'N': 0.2, 'V': 0.7, 'H': 0.2, 'W': 0.3, 'L': 1.0, 'S': 0.3, 'D': 0.1, 'I': 0.9, 'Y': 0.4}, \\\n",
    " 'F': {'T': 0.3, 'Q': 0.2, 'C': 0.3, 'M': 0.5, 'A': 0.3, 'B': 0.2, 'K': 0.2, 'E': 0.1, 'P': 0.2, 'R': 0.2, 'G': 0.1, 'J': 0.6, 'F': 1.0, 'X': 0.5, 'Z': 0.2, '*': 0.0, 'N': 0.2, 'V': 0.4, 'H': 0.4, 'W': 0.6, 'L': 0.6, 'S': 0.3, 'D': 0.1, 'I': 0.5, 'Y': 0.9}, \\\n",
    " 'X': {'T': 0.5, 'Q': 0.5, 'C': 0.5, 'M': 0.5, 'A': 0.5, 'B': 0.5, 'K': 0.5, 'E': 0.5, 'P': 0.5, 'R': 0.5, 'G': 0.5, 'J': 0.5, 'F': 0.5, 'X': 0.5, 'Z': 0.5, '*': 0.0, 'N': 0.5, 'V': 0.5, 'H': 0.5, 'W': 0.5, 'L': 0.5, 'S': 0.5, 'D': 0.5, 'I': 0.5, 'Y': 0.5}, \\\n",
    " 'Z': {'T': 0.5, 'Q': 1.0, 'C': 0.1, 'M': 0.4, 'A': 0.5, 'B': 0.6, 'K': 0.7, 'E': 1.0, 'P': 0.4, 'R': 0.6, 'G': 0.3, 'J': 0.2, 'F': 0.2, 'X': 0.5, 'Z': 1.0, '*': 0.0, 'N': 0.5, 'V': 0.3, 'H': 0.6, 'W': 0.2, 'L': 0.2, 'S': 0.5, 'D': 0.7, 'I': 0.2, 'Y': 0.3}, \\\n",
    " '*': {'T': 0.0, 'Q': 0.0, 'C': 0.0, 'M': 0.0, 'A': 0.0, 'B': 0.0, 'K': 0.0, 'E': 0.0, 'P': 0.0, 'R': 0.0, 'G': 0.0, 'J': 0.0, 'F': 0.0, 'X': 0.0, 'Z': 0.0, '*': 0.7, 'N': 0.0, 'V': 0.0, 'H': 0.0, 'W': 0.0, 'L': 0.0, 'S': 0.0, 'D': 0.0, 'I': 0.0, 'Y': 0.0}, \\\n",
    " 'N': {'T': 0.6, 'Q': 0.6, 'C': 0.2, 'M': 0.3, 'A': 0.4, 'B': 1.0, 'K': 0.6, 'E': 0.5, 'P': 0.3, 'R': 0.5, 'G': 0.5, 'J': 0.2, 'F': 0.2, 'X': 0.5, 'Z': 0.5, '*': 0.0, 'N': 1.0, 'V': 0.2, 'H': 0.6, 'W': 0.1, 'L': 0.2, 'S': 0.6, 'D': 0.7, 'I': 0.2, 'Y': 0.3}, \\\n",
    " 'V': {'T': 0.5, 'Q': 0.3, 'C': 0.4, 'M': 0.6, 'A': 0.5, 'B': 0.2, 'K': 0.3, 'E': 0.3, 'P': 0.3, 'R': 0.3, 'G': 0.1, 'J': 0.7, 'F': 0.4, 'X': 0.5, 'Z': 0.3, '*': 0.0, 'N': 0.2, 'V': 1.0, 'H': 0.2, 'W': 0.3, 'L': 0.6, 'S': 0.4, 'D': 0.1, 'I': 0.9, 'Y': 0.3}, \\\n",
    " 'H': {'T': 0.4, 'Q': 0.7, 'C': 0.1, 'M': 0.3, 'A': 0.4, 'B': 0.5, 'K': 0.5, 'E': 0.5, 'P': 0.3, 'R': 0.6, 'G': 0.3, 'J': 0.2, 'F': 0.4, 'X': 0.5, 'Z': 0.6, '*': 0.0, 'N': 0.6, 'V': 0.2, 'H': 1.0, 'W': 0.3, 'L': 0.2, 'S': 0.4, 'D': 0.4, 'I': 0.2, 'Y': 0.7}, \\\n",
    " 'W': {'T': 0.2, 'Q': 0.3, 'C': 0.2, 'M': 0.4, 'A': 0.2, 'B': 0.0, 'K': 0.1, 'E': 0.1, 'P': 0.1, 'R': 0.2, 'G': 0.2, 'J': 0.3, 'F': 0.6, 'X': 0.5, 'Z': 0.2, '*': 0.0, 'N': 0.1, 'V': 0.3, 'H': 0.3, 'W': 1.0, 'L': 0.3, 'S': 0.2, 'D': 0.0, 'I': 0.2, 'Y': 0.8}, \\\n",
    " 'L': {'T': 0.4, 'Q': 0.3, 'C': 0.4, 'M': 0.8, 'A': 0.4, 'B': 0.1, 'K': 0.3, 'E': 0.2, 'P': 0.2, 'R': 0.3, 'G': 0.1, 'J': 1.0, 'F': 0.6, 'X': 0.5, 'Z': 0.2, '*': 0.0, 'N': 0.2, 'V': 0.6, 'H': 0.2, 'W': 0.3, 'L': 1.0, 'S': 0.3, 'D': 0.1, 'I': 0.7, 'Y': 0.4}, \\\n",
    " 'S': {'T': 0.7, 'Q': 0.5, 'C': 0.4, 'M': 0.4, 'A': 0.7, 'B': 0.6, 'K': 0.5, 'E': 0.5, 'P': 0.4, 'R': 0.5, 'G': 0.5, 'J': 0.3, 'F': 0.3, 'X': 0.5, 'Z': 0.5, '*': 0.0, 'N': 0.6, 'V': 0.4, 'H': 0.4, 'W': 0.2, 'L': 0.3, 'S': 1.0, 'D': 0.5, 'I': 0.3, 'Y': 0.3}, \\\n",
    " 'D': {'T': 0.4, 'Q': 0.5, 'C': 0.1, 'M': 0.2, 'A': 0.3, 'B': 1.0, 'K': 0.5, 'E': 0.7, 'P': 0.3, 'R': 0.3, 'G': 0.4, 'J': 0.1, 'F': 0.1, 'X': 0.5, 'Z': 0.7, '*': 0.0, 'N': 0.7, 'V': 0.1, 'H': 0.4, 'W': 0.0, 'L': 0.1, 'S': 0.5, 'D': 1.0, 'I': 0.1, 'Y': 0.2}, \\\n",
    " 'I': {'T': 0.5, 'Q': 0.2, 'C': 0.4, 'M': 0.7, 'A': 0.4, 'B': 0.1, 'K': 0.2, 'E': 0.2, 'P': 0.2, 'R': 0.2, 'G': 0.1, 'J': 0.9, 'F': 0.5, 'X': 0.5, 'Z': 0.2, '*': 0.0, 'N': 0.2, 'V': 0.9, 'H': 0.2, 'W': 0.2, 'L': 0.7, 'S': 0.3, 'D': 0.1, 'I': 1.0, 'Y': 0.4}, \\\n",
    " 'Y': {'T': 0.4, 'Q': 0.3, 'C': 0.2, 'M': 0.4, 'A': 0.3, 'B': 0.2, 'K': 0.3, 'E': 0.2, 'P': 0.2, 'R': 0.3, 'G': 0.1, 'J': 0.4, 'F': 0.9, 'X': 0.5, 'Z': 0.3, '*': 0.0, 'N': 0.3, 'V': 0.3, 'H': 0.7, 'W': 0.8, 'L': 0.4, 'S': 0.3, 'D': 0.2, 'I': 0.4, 'Y': 1.0}}\n",
    "\n",
    "#mutability model \n",
    "model = json.load(open(\"../Human_mutability_model/Model_2020_12_02_genomeWide.txt\"))"
   ]
  },
  {
   "cell_type": "code",
   "execution_count": 9,
   "id": "2e67bd9f-935b-42f4-9e9d-2173bf8229f3",
   "metadata": {},
   "outputs": [],
   "source": [
    "#FUNCTIONS ~~~~~~~~~~~~~~~~~~~~~~~~~~~~~~~~~~~~~~~~~~~~~~~~~~~~~~~~~~~~~~~~~~~~~~~~~~~~~~~~~~~~~~~~~~~~~~~~~~~~~~~~~~~~~~~~~~~~~~~~~~~~~~~~~~~~~~~~~~~~~~~~~~~~~~~~~~~~~~~~~~~~~~~~~~~~~~~~~~\n",
    "\n",
    "def base_to_mutate(DNA, current_weights): \n",
    "    \"\"\"\n",
    "    (DNA: str, weights: Dict) -> int\n",
    "    \n",
    "    Will return the index of a random choice of a base that will be mutated based on probabilities given by the\n",
    "    weights dictionary (i.e. the model)\n",
    "    ex. \"ATCGTA\" --> index 3 (\"G\") will mutate\n",
    "    \"\"\"\n",
    "    #DNA STR --> WEIGHTS LIST INDEXING DOUBLE CHECK \n",
    "    indices = []\n",
    "    indices = list(i for i in range(1, len(DNA)-1))\n",
    "    if (len(indices)) != (len(current_weights)): \n",
    "        print(\"ERROR, FUCKED UP\")\n",
    "        print(\"length of indices = \" + str(len(indices)))\n",
    "        print(\"length of weights = \" + str(len(current_weights)))\n",
    "    \n",
    "    # NORMALIZE THE POPULATION OF WEIGHTS    \n",
    "    total_freq = sum(current_weights) \n",
    "    normalized_weights = copy.copy(current_weights)\n",
    "    for index, value in enumerate(current_weights):\n",
    "        normalized_weights[index] = value/total_freq \n",
    "\n",
    "    # DRAW THE INDEX OF THE BASE THAT WILL BE MUTATED\n",
    "    base_index = choice(indices, p=normalized_weights) \n",
    "    \n",
    "    # RETURN THE INDEX\n",
    "    return base_index\n",
    "\n",
    "def current_frequencies(DNA, weights, index, current_weights): #and by weights, she means the \"model\" dictionary \n",
    "    \"\"\"\n",
    "    (DNA: str, weights list, index = chosen site) -> updated weights List \n",
    "    only chnages the 3 bases around the index chosen \n",
    "    \"\"\"\n",
    "    #CREATE THE 3 SOURROUNDING TRIPLETS\n",
    "    triplet_preceding = DNA[index-2:index+1] #dont worry this indexing is double checked \n",
    "    triplet_center = DNA[index-1:index+2]\n",
    "    triplet_following = DNA[index:index+3]\n",
    "    triplet_list = [triplet_preceding, triplet_center, triplet_following]\n",
    "    \n",
    "    #64-->32 \n",
    "    for triplet in triplet_list: \n",
    "        if triplet not in weights: \n",
    "            i = triplet_list.index(triplet)\n",
    "            triplet_list[i] = reverse_complement(triplet)\n",
    "    \n",
    "    #GET THE WEIGHTS FOR EACH TRIPLET AND UPDATE WEIGHTS (LIST) OBJECT \n",
    "    current_weights[index-2]= weights[triplet_list[0]][0]    #note that it's the expectedindex -1 as the index = position in string (from 1 to n-1) but here the items are the codons ...? \n",
    "    current_weights[index-1]= weights[triplet_list[1]][0]\n",
    "    current_weights[index] = weights[triplet_list[2]][0]\n",
    "    \n",
    "    return current_weights\n",
    "\n",
    "def base_to_turn_into(i, model, DNA):\n",
    "    \"\"\"\n",
    "    (i: int, weights: Dict, DNA: str) -> str (the base A/T/C/G)\n",
    "    \"\"\"\n",
    "      \n",
    "    # GRAB THE TRIPLET AND COMPLEMENT IT IF NEED BE.\n",
    "    triplet = DNA[i - 1:i+2] \n",
    "    if triplet not in model:\n",
    "            triplet = reverse_complement(triplet)\n",
    "            \n",
    "    # GENERATE A LIST OF THE TRIPLETS AND WEIGHTS OF THE THREE TRIPLETS THE CHOSEN TRIPLET CAN TURN INTO \n",
    "    triplets = list(key for key in model[triplet][1].keys())# ex. \"ATC\" --> [\"AAC\", \"AGC\", \"ACC\"] (triplets)\n",
    "    current_weights_to_turn_into = list(value for value in model[triplet][1].values()) # ex. \"ATCGTA\" --> [0.3, 0.5, 0.1, 0.1] (weights of triplet base changes) (these are already normalized!)\n",
    "    \n",
    "    # MAKE AND RETURN THE CHOICE OF BASE TO TURN INTO.\n",
    "    return choice(triplets, p = current_weights_to_turn_into)[1] # <-- the [1] will select the central base (middle N base out of strign 3)\n",
    "\n",
    "def codingYesNo(ab_index, mb, DNA, DNA_map):\n",
    "    \"\"\"\n",
    "    (ab_index: int, mb = base A/T/C/G, DNA: str, DNA_map: List) -> List or None\n",
    "    \n",
    "    Will check if the ancestral base is part of the coding/ non-coding/invariant region.\n",
    "    If part of a noncoding region, it will return \"None\".\n",
    "    If part of a coding region, it will return the ancestral and mutated codons in a list with two entries [ancestral_codon, mutated_codon] \n",
    "    If part of an invariant region, returns int(3)\n",
    "    \"\"\"\n",
    "    if DNA_map[ab_index] == \"N\": # if it's not non-coding (then it's coding)...\n",
    "        return None\n",
    "    elif DNA_map[ab_index] == \"3\": #if invariant \n",
    "        return 3\n",
    "    else:\n",
    "        if DNA_map[ab_index] == \"0\": # if we're at the first position...\n",
    "            codon = DNA[ab_index] + DNA[ab_index + 1] + DNA[ab_index + 2] # take the 012 codon\n",
    "            m_codon = mb + DNA[ab_index + 1] + DNA[ab_index + 2] # make the mutated codon\n",
    "        elif DNA_map[ab_index] == \"1\": # if we're at the second position...\n",
    "            codon = DNA[ab_index - 1] + DNA[ab_index] + DNA[ab_index + 1] # take the 012 codon\n",
    "            m_codon = DNA[ab_index - 1] + mb + DNA[ab_index + 1] # make the mutated codon\n",
    "        elif DNA_map[ab_index] == \"2\": # if we're at the third position...\n",
    "            codon = DNA[ab_index - 2] + DNA[ab_index - 1] + DNA[ab_index] # take the 012 codon\n",
    "            m_codon = DNA[ab_index - 2] + DNA[ab_index - 1] + mb # make the mutated codon\n",
    "        \n",
    "        return [codon, m_codon] # if it's coding, return the ancestral and mutated codons\n",
    "\n",
    "def blosum(a_m_codons, codon_aa_conversionDict, blosum_dict):\n",
    "    \"\"\"\n",
    "    (a_m_codons: List [ancestral_codon, mutated_codon], codon_aa_conversionDict = triplet-->aa dict, blosum_dict = blosum matrix ) -> bool (True/False     \n",
    "    Will return True if the change is acceptable and False if the change is not acceptable.  \n",
    "    ex. [\"CGT\", \"CAT\"] --> R to H is accepted at 0.6, or 60%. If the function accepts it, it will return True.\n",
    "    \"\"\"\n",
    "    \n",
    "    a_aa = codon_aa_conversionDict[a_m_codons[0]] #ancestral a.a \n",
    "    m_aa = codon_aa_conversionDict[a_m_codons[1]]  #mutated a.a \n",
    "    \n",
    "    return choice([True, False], p = [blosum_dict[a_aa][m_aa], (1-(blosum_dict[a_aa][m_aa]))]) \n",
    "\n",
    "def mutate_chromosome(DNA, ab_index, mb):\n",
    "    \"\"\"\n",
    "    (DNA:str, ab_index:number, site chosen, mb:str) -> str (mutated DNA)\n",
    "    Will return a new DNA string with a random base mutated to a new base as given by the previous functions.\n",
    "    \"\"\"\n",
    "    return DNA[:ab_index] + mb + DNA[ab_index + 1:]\n",
    "\n"
   ]
  },
  {
   "cell_type": "code",
   "execution_count": 6,
   "id": "f3ebcae9-8b6b-4e80-8970-972a1784df4e",
   "metadata": {},
   "outputs": [
    {
     "name": "stdout",
     "output_type": "stream",
     "text": [
      "total number of CDS where len >= 4k is 3473\n"
     ]
    }
   ],
   "source": [
    "#dictionary of CDS greater than a certain size (here >4k) \n",
    "cds_file_obj = open(\"../Human_exon_data/Homo_sapiens.GRCh38.cds.all.fa\")\n",
    "total_cds_dict = {}\n",
    "for gene in SeqIO.parse(cds_file_obj, \"fasta\"): \n",
    "    if len(gene.seq) >= 4000: \n",
    "        cds_map = \"012\"*int(len(gene.seq)/3)\n",
    "        if len(cds_map) == len(gene.seq) and \"N\" not in gene.seq: \n",
    "            total_cds_dict[gene.id] = [str(gene.seq), cds_map]\n",
    "print(\"total number of CDS where len >= 4k is \"+str(len(total_cds_dict)))                                #! print statement? \n"
   ]
  },
  {
   "cell_type": "code",
   "execution_count": 10,
   "id": "9919817b-b84b-4117-9dbc-aa6859161284",
   "metadata": {
    "tags": []
   },
   "outputs": [],
   "source": [
    "def CdsSimOutput(CDS_name):\n",
    "    \n",
    "    CDS_seq_map_list = total_cds_dict[CDS_name]\n",
    "    \n",
    "    DNA = CDS_seq_map_list[0]\n",
    "    DNA_map = CDS_seq_map_list[1]\n",
    "    \n",
    "    #setting invaruant sites \n",
    "    prop_invariant = 0.5\n",
    "    n_codons = int(len(DNA)/3)-1\n",
    "    codons_chosen = choice(n_codons ,size = int(n_codons*prop_invariant))\n",
    "    for codon in codons_chosen: \n",
    "        codon_start = codon*3\n",
    "        codon_end = codon*3+2\n",
    "        DNA_map = DNA_map[:codon_start]+\"333\"+DNA_map[codon_end+1:]\n",
    "    \n",
    "    #creating the list of initial weights \n",
    "    weights = []\n",
    "    for i in range(1,len(DNA)-1): # dont want it to run all the way to the end: need to -1 so last centre index is second last in DNA string \n",
    "        if (DNA[i-1:i+2]) in model: \n",
    "            weights.append(model[(DNA[i-1:i+2])][0])\n",
    "        else: \n",
    "            weights.append(model[reverse_complement(DNA[i-1:i+2])][0])\n",
    "\n",
    "#     writing initial conditions to file \n",
    "    text_file = open(\"data/expandedComp/{t}_DNA_gen0_cds.txt\".format(t=CDS_name), \"w\")                                #! need to change file creation: use the {}.format... file structure? \n",
    "    n = text_file.write(DNA)\n",
    "    text_file.close()\n",
    "    text_file = open(\"data/expandedComp/{t}_DNA_map_cds_invariant50.txt\".format(t=CDS_name), \"w\")\n",
    "    n = text_file.write(DNA_map)\n",
    "    text_file.close()\n",
    "\n",
    "\n",
    "    #SIMULATION ~~~~~~~~~~~~~~~~~~~~~~~~~~~~~~~~~~~~~~~~~~~~~~~~~~~~~~~~~~~~~~~~~~~~~~~~~~~~~~~~~~~~~~~~~~~~~~~~~~~~~~~~~~~~~~~~~~~~~~~~~~~~~~~~~~~~~~~~~~~~~~~~~~~~~~~~~~~~~~~~~~~~~~~~~~~~~\n",
    "\n",
    "    #creating the list for num times to print \n",
    "    number_gens = len(DNA)*2\n",
    "    gens_for_output = []\n",
    "    for x in range(0,int(number_gens)+1, 100000): \n",
    "        gens_for_output.append(x)\n",
    "\n",
    "    for x in range(int(number_gens)+1):\n",
    "\n",
    "        #selecting the base to mutate \n",
    "        ab_index = base_to_mutate(DNA, weights) # ex. \"mutate position 25 (\"G\")\"   \n",
    "\n",
    "        if len(DNA)-ab_index >= 3 and ab_index >= 3 : #making sure dont pick the ends \n",
    "\n",
    "            mb = base_to_turn_into(ab_index, model, DNA) # ex. \"position 25 (\"G\") will become \"A\"    \n",
    "\n",
    "            #determining if alloweed to mutate. if so, then mutating \n",
    "            if codingYesNo(ab_index, mb, DNA, DNA_map) == None:\n",
    "                mDNA = mutate_chromosome(DNA, ab_index, mb) # always mutate \n",
    "                DNA = mDNA # the mutated DNA is the new DNA \n",
    "            elif codingYesNo(ab_index, mb, DNA, DNA_map) != None and codingYesNo(ab_index, mb, DNA, DNA_map) != 3: # if the mutation is in a CODING REGION...\n",
    "                a_m_codons = codingYesNo(ab_index, mb, DNA, DNA_map) # check to see if the change is acceptable\n",
    "                if blosum(a_m_codons, aa_conversion_dict, blosum_dict) == True: # if the change is acceptable...\n",
    "                    mDNA = mutate_chromosome(DNA, ab_index, mb) # mutate it (otherwise do nothing)\n",
    "                    DNA = mDNA # the mutated DNA is the new DNA    \n",
    "\n",
    "            #updating the weights lits \n",
    "            weights = current_frequencies(DNA, model, ab_index, weights) \n",
    "\n",
    "        if x in gens_for_output: \n",
    "            # WRITING DATA TO FILES \n",
    "            NameForThisSim =(sys.argv[1])\n",
    "\n",
    "\n",
    "            file = open(\"data/expandedComp/{t}_DNA_final_cds_invariant50_{g}.txt\".format(t=CDS_name, g = x), \"w+\")\n",
    "            file.write(DNA)\n",
    "            file.close()\n",
    "\n",
    "    file = open(\"data/expandedComp/{t}_DNA_final_cds_invariant50_{g}.txt\".format(t=CDS_name, g = x), \"w+\")\n",
    "    file.write(DNA)\n",
    "    file.close()\n"
   ]
  },
  {
   "cell_type": "code",
   "execution_count": null,
   "id": "69ab6c57-ebf2-403f-a7e2-b09f770cd2e5",
   "metadata": {
    "tags": []
   },
   "outputs": [],
   "source": [
    "if __name__ == '__main__':\n",
    "    with Pool(10) as p:\n",
    "        p.map(CdsSimOutput,list(total_cds_dict.keys()))"
   ]
  },
  {
   "cell_type": "markdown",
   "id": "9e3a6b66-eee2-4d34-9a41-c5a09b162944",
   "metadata": {},
   "source": [
    "# **noncoding simulations**"
   ]
  },
  {
   "cell_type": "code",
   "execution_count": 16,
   "id": "92934f7b-6709-4617-babc-913bf3ebed69",
   "metadata": {
    "tags": []
   },
   "outputs": [],
   "source": [
    "def nonCdsSimOutput(j):\n",
    "    av_cds_len = 6440\n",
    "    DNA = choice([\"A\",\"T\",\"C\",\"G\"],size =av_cds_len)\n",
    "    DNA = \"\".join(DNA)\n",
    "\n",
    "    #creating the list of initial weights \n",
    "    weights = []\n",
    "    for i in (range(1,len(DNA)-1)): # dont want it to run all the way to the end: need to -1 so last centre index is second last in DNA string \n",
    "        if (DNA[i-1:i+2]) in model: \n",
    "            weights.append(model[(DNA[i-1:i+2])][0])\n",
    "        else: \n",
    "            weights.append(model[reverse_complement(DNA[i-1:i+2])][0])\n",
    "\n",
    "    #     writing initial conditions to file \n",
    "    text_file = open(\"data/expandedComp/nonCoding_{t}_DNA_gen0_cds.txt\".format(t=j), \"w\")                                #! need to change file creation: use the {}.format... file structure? \n",
    "    n = text_file.write(DNA)\n",
    "    text_file.close()\n",
    "\n",
    "    #SIMULATION ~~~~~~~~~~~~~~~~~~~~~~~~~~~~~~~~~~~~~~~~~~~~~~~~~~~~~~~~~~~~~~~~~~~~~~~~~~~~~~~~~~~~~~~~~~~~~~~~~~~~~~~~~~~~~~~~~~~~~~~~~~~~~~~~~~~~~~~~~~~~~~~~~~~~~~~~~~~~~~~~~~~~~~~~~~~~~\n",
    "\n",
    "    #creating the list for num times to print \n",
    "    number_gens = len(DNA)*2\n",
    "    for x in (range(int(number_gens)+1)):\n",
    "\n",
    "        #selecting the base to mutate \n",
    "        ab_index = base_to_mutate(DNA, weights) # ex. \"mutate position 25 (\"G\")\"   \n",
    "\n",
    "        if len(DNA)-ab_index >= 3 and ab_index >= 3 : #making sure dont pick the ends \n",
    "\n",
    "            mb = base_to_turn_into(ab_index, model, DNA) # ex. \"position 25 (\"G\") will become \"A\"    \n",
    "            DNA = mutate_chromosome(DNA, ab_index, mb) # mutate it (otherwise do nothing) \n",
    "\n",
    "            #updating the weights lits \n",
    "            weights = current_frequencies(DNA, model, ab_index, weights) \n",
    "\n",
    "    file = open(\"data/expandedComp/nonCoding_{t}_DNA_final_cds_invariant50_{g}.txt\".format( g = x,t=j), \"w+\")\n",
    "    file.write(DNA)\n",
    "    file.close()\n"
   ]
  },
  {
   "cell_type": "code",
   "execution_count": null,
   "id": "f5bcb284-80e4-4c74-beb6-5c681156ce37",
   "metadata": {},
   "outputs": [],
   "source": [
    "if __name__ == '__main__':\n",
    "    with Pool(10) as p:\n",
    "        p.map(nonCdsSimOutput,list(range(1,3473)))"
   ]
  },
  {
   "cell_type": "code",
   "execution_count": 3,
   "id": "51d83bd0-c4c1-4042-a1bf-ffe5a987c42a",
   "metadata": {},
   "outputs": [
    {
     "name": "stdout",
     "output_type": "stream",
     "text": [
      "data/expandedComp/nonCoding_1000_DNA_final_cds_invariant50_12880.txt\n",
      "data/expandedComp/nonCoding_1000_DNA_gen0_cds.txt\n",
      "data/expandedComp/nonCoding_1001_DNA_final_cds_invariant50_12880.txt\n",
      "data/expandedComp/nonCoding_1001_DNA_gen0_cds.txt\n",
      "data/expandedComp/nonCoding_1002_DNA_final_cds_invariant50_12880.txt\n",
      "data/expandedComp/nonCoding_1002_DNA_gen0_cds.txt\n",
      "data/expandedComp/nonCoding_1003_DNA_final_cds_invariant50_12880.txt\n",
      "data/expandedComp/nonCoding_1003_DNA_gen0_cds.txt\n",
      "data/expandedComp/nonCoding_1004_DNA_final_cds_invariant50_12880.txt\n",
      "data/expandedComp/nonCoding_1004_DNA_gen0_cds.txt\n",
      "ls: write error: Broken pipe\n"
     ]
    }
   ],
   "source": [
    "!ls data/expandedComp/non* | head"
   ]
  },
  {
   "cell_type": "markdown",
   "id": "749b8a96-5efa-4745-9e3e-5f21693c3ccb",
   "metadata": {},
   "source": [
    "# **calculate mutabiltyi at equilibrum and chnage for  simulation results**"
   ]
  },
  {
   "cell_type": "code",
   "execution_count": 9,
   "id": "131c58ae-ca4b-4ac6-aa20-1c29ce66b19d",
   "metadata": {
    "tags": []
   },
   "outputs": [
    {
     "name": "stderr",
     "output_type": "stream",
     "text": [
      "100%|███████████████████████████████████████████████████████████████████████████| 3473/3473 [00:33<00:00, 104.94it/s]\n"
     ]
    }
   ],
   "source": [
    "#coding regions \n",
    "allCds_muts = {}\n",
    "for cds_name,cds_list in tqdm(total_cds_dict.items()): \n",
    "    cds_mut_init = []\n",
    "    cds_mut_final = []\n",
    "    cds_len = len(cds_list[0])\n",
    "    cds_seq_init = open(\"data/expandedComp/{}_DNA_gen0_cds.txt\".format(cds_name)).readlines()[0]\n",
    "    cds_seq_final = open(\"data/expandedComp/{}_DNA_final_cds_invariant50_{}.txt\".format(cds_name,cds_len*2)).readlines()[0]\n",
    "    for i in range(1,cds_len-1): \n",
    "        triplet = cds_seq_final[i-1:i+2]\n",
    "        mut = model[triplet][0]\n",
    "        cds_mut_final.append(mut)\n",
    "        triplet = cds_seq_init[i-1:i+2]\n",
    "        mut = model[triplet][0]\n",
    "        cds_mut_init.append(mut)\n",
    "    allCds_muts[cds_name] = [np.mean(cds_mut_init),np.mean(cds_mut_final),np.mean(cds_mut_final)/np.mean(cds_mut_init)]\n",
    "    \n",
    "allCds_changes = []\n",
    "allCds_finalMut = []\n",
    "for val in allCds_muts.values(): \n",
    "    allCds_changes.append(val[2])\n",
    "    allCds_finalMut.append(val[1])"
   ]
  },
  {
   "cell_type": "code",
   "execution_count": 10,
   "id": "98b079cc-8abb-4212-8fe1-aa07118ded12",
   "metadata": {
    "tags": []
   },
   "outputs": [
    {
     "name": "stderr",
     "output_type": "stream",
     "text": [
      "100%|███████████████████████████████████████████████████████████████████████████| 3472/3472 [00:33<00:00, 102.81it/s]\n"
     ]
    }
   ],
   "source": [
    "#noncoding regions \n",
    "\n",
    "nCDS = 3473\n",
    "allNonCds_muts = {}\n",
    "for trial_n in tqdm(range(1,nCDS)): \n",
    "    noncds_mut_init = []\n",
    "    noncds_mut_final = []\n",
    "    noncds_len = 6440\n",
    "    noncds_seq_init = open(\"data/expandedComp/nonCoding_{}_DNA_gen0_cds.txt\".format(trial_n)).readlines()[0]\n",
    "    noncds_seq_final = open(\"data/expandedComp/nonCoding_{}_DNA_final_cds_invariant50_12880.txt\".format(trial_n)).readlines()[0]\n",
    "    for i in range(1,noncds_len-2): \n",
    "        triplet = noncds_seq_final[i-1:i+2]\n",
    "        mut = model[triplet][0]\n",
    "        noncds_mut_final.append(mut)\n",
    "        triplet = noncds_seq_init[i-1:i+2]\n",
    "        mut = model[triplet][0]\n",
    "        noncds_mut_init.append(mut)\n",
    "    allNonCds_muts[trial_n] = [np.mean(noncds_mut_init),np.mean(noncds_mut_final),np.mean(noncds_mut_final)/np.mean(noncds_mut_init)]\n",
    "    \n",
    "allNonCds_changes = []\n",
    "allNonCds_finalMut = []\n",
    "for val in allNonCds_muts.values(): \n",
    "    allNonCds_changes.append(val[2])\n",
    "    allNonCds_finalMut.append(val[1])"
   ]
  },
  {
   "cell_type": "code",
   "execution_count": 16,
   "id": "fa4ec5d8-91a5-43fe-b7cf-8701759f22bb",
   "metadata": {},
   "outputs": [
    {
     "data": {
      "text/plain": [
       "(3.3866444821269754e-05, 5.367183914021018e-08)"
      ]
     },
     "execution_count": 16,
     "metadata": {},
     "output_type": "execute_result"
    }
   ],
   "source": [
    "[np.mean(allCds_finalMut)],np.std(allCds_finalMut)/np.sqrt(len(allCds_finalMut))"
   ]
  },
  {
   "cell_type": "code",
   "execution_count": 17,
   "id": "5a415a34-0a40-4057-a5cf-81d8c8f207fb",
   "metadata": {},
   "outputs": [
    {
     "data": {
      "text/plain": [
       "(2.9308688001673744e-05, 8.964632159711354e-09)"
      ]
     },
     "execution_count": 17,
     "metadata": {},
     "output_type": "execute_result"
    }
   ],
   "source": [
    "np.mean(allNonCds_finalMut),np.std(allNonCds_finalMut)/np.sqrt(len(allNonCds_finalMut))"
   ]
  },
  {
   "cell_type": "code",
   "execution_count": 17,
   "id": "43335d0a-dd2c-4204-bdcc-31a4c9efbf4f",
   "metadata": {},
   "outputs": [
    {
     "data": {
      "text/plain": [
       "-4.4702303916501265"
      ]
     },
     "execution_count": 17,
     "metadata": {},
     "output_type": "execute_result"
    }
   ],
   "source": [
    "np.log10(3.3866444821269754e-05)"
   ]
  },
  {
   "cell_type": "code",
   "execution_count": 23,
   "id": "564cded4-8f6f-47df-8dbf-da619bcd1045",
   "metadata": {},
   "outputs": [
    {
     "name": "stdout",
     "output_type": "stream",
     "text": [
      "at equilibrium, coding regions are at  1.1555087289931139  times the mutability of the non coding regions\n"
     ]
    }
   ],
   "source": [
    "print(\"at equilibrium, coding regions are at \", 3.3866444821269754e-05/2.9308688001673744e-05,\" times the mutability of the non coding regions\")"
   ]
  },
  {
   "cell_type": "code",
   "execution_count": 12,
   "id": "3c85b97d-fb11-4d7d-a255-8a15af66cfa7",
   "metadata": {
    "tags": []
   },
   "outputs": [],
   "source": [
    "av_muts = [np.mean(allCds_finalMut),np.mean(allNonCds_finalMut)]\n",
    "stderr_muts = [np.std(allCds_finalMut)/np.sqrt(len(allCds_finalMut)),np.std(allNonCds_finalMut)/np.sqrt(len(allNonCds_finalMut))]"
   ]
  },
  {
   "cell_type": "code",
   "execution_count": 13,
   "id": "e04453f9-7e17-474f-8d31-e38d326e3444",
   "metadata": {},
   "outputs": [],
   "source": [
    "data_df = pd.DataFrame(list(zip([\"coding\",\"non_coding\"],av_muts, stderr_muts)),\n",
    "               columns =[\"sequence_class\",'av_mut', 'stderr_mut'])"
   ]
  },
  {
   "cell_type": "code",
   "execution_count": 14,
   "id": "040d9858-62fa-4fa8-8c04-1a91323e3fbc",
   "metadata": {},
   "outputs": [
    {
     "data": {
      "text/html": [
       "<div>\n",
       "<style scoped>\n",
       "    .dataframe tbody tr th:only-of-type {\n",
       "        vertical-align: middle;\n",
       "    }\n",
       "\n",
       "    .dataframe tbody tr th {\n",
       "        vertical-align: top;\n",
       "    }\n",
       "\n",
       "    .dataframe thead th {\n",
       "        text-align: right;\n",
       "    }\n",
       "</style>\n",
       "<table border=\"1\" class=\"dataframe\">\n",
       "  <thead>\n",
       "    <tr style=\"text-align: right;\">\n",
       "      <th></th>\n",
       "      <th>sequence_class</th>\n",
       "      <th>av_mut</th>\n",
       "      <th>stderr_mut</th>\n",
       "    </tr>\n",
       "  </thead>\n",
       "  <tbody>\n",
       "    <tr>\n",
       "      <th>0</th>\n",
       "      <td>coding</td>\n",
       "      <td>0.000034</td>\n",
       "      <td>5.367184e-08</td>\n",
       "    </tr>\n",
       "    <tr>\n",
       "      <th>1</th>\n",
       "      <td>non_coding</td>\n",
       "      <td>0.000029</td>\n",
       "      <td>8.964632e-09</td>\n",
       "    </tr>\n",
       "  </tbody>\n",
       "</table>\n",
       "</div>"
      ],
      "text/plain": [
       "  sequence_class    av_mut    stderr_mut\n",
       "0         coding  0.000034  5.367184e-08\n",
       "1     non_coding  0.000029  8.964632e-09"
      ]
     },
     "execution_count": 14,
     "metadata": {},
     "output_type": "execute_result"
    }
   ],
   "source": [
    "data_df"
   ]
  },
  {
   "cell_type": "code",
   "execution_count": 16,
   "id": "84ef7e1b-d4b6-41df-814d-7a6e6366e1ad",
   "metadata": {},
   "outputs": [],
   "source": [
    "data_df.to_csv(\"data/expandedComp/df_expandedCodingNonCVodingSim_result_2022_01_06.csv\")"
   ]
  },
  {
   "cell_type": "code",
   "execution_count": 1,
   "id": "6d180179-745b-4df4-b17b-708282aa631a",
   "metadata": {
    "collapsed": true,
    "jupyter": {
     "outputs_hidden": true
    },
    "tags": []
   },
   "outputs": [
    {
     "name": "stdout",
     "output_type": "stream",
     "text": [
      "data/same_DNA/redoTrial10_DNA_final_cds_invariant50_0.txt\n",
      "data/same_DNA/redoTrial10_DNA_final_cds_invariant50_100000.txt\n",
      "data/same_DNA/redoTrial10_DNA_final_cds_invariant50_209178.txt\n",
      "data/same_DNA/redoTrial1_DNA_final_cds_invariant50_0.txt\n",
      "data/same_DNA/redoTrial1_DNA_final_cds_invariant50_100000.txt\n",
      "data/same_DNA/redoTrial1_DNA_final_cds_invariant50_209178.txt\n",
      "data/same_DNA/redoTrial2_DNA_final_cds_invariant50_0.txt\n",
      "data/same_DNA/redoTrial2_DNA_final_cds_invariant50_100000.txt\n",
      "data/same_DNA/redoTrial2_DNA_final_cds_invariant50_209178.txt\n",
      "data/same_DNA/redoTrial3_DNA_final_cds_invariant50_0.txt\n",
      "data/same_DNA/redoTrial3_DNA_final_cds_invariant50_100000.txt\n",
      "data/same_DNA/redoTrial3_DNA_final_cds_invariant50_209178.txt\n",
      "data/same_DNA/redoTrial4_DNA_final_cds_invariant50_0.txt\n",
      "data/same_DNA/redoTrial4_DNA_final_cds_invariant50_100000.txt\n",
      "data/same_DNA/redoTrial4_DNA_final_cds_invariant50_209178.txt\n",
      "data/same_DNA/redoTrial5_DNA_final_cds_invariant50_0.txt\n",
      "data/same_DNA/redoTrial5_DNA_final_cds_invariant50_100000.txt\n",
      "data/same_DNA/redoTrial5_DNA_final_cds_invariant50_209178.txt\n",
      "data/same_DNA/redoTrial6_DNA_final_cds_invariant50_0.txt\n",
      "data/same_DNA/redoTrial6_DNA_final_cds_invariant50_100000.txt\n",
      "data/same_DNA/redoTrial6_DNA_final_cds_invariant50_209178.txt\n",
      "data/same_DNA/redoTrial7_DNA_final_cds_invariant50_0.txt\n",
      "data/same_DNA/redoTrial7_DNA_final_cds_invariant50_100000.txt\n",
      "data/same_DNA/redoTrial7_DNA_final_cds_invariant50_209178.txt\n",
      "data/same_DNA/redoTrial8_DNA_final_cds_invariant50_0.txt\n",
      "data/same_DNA/redoTrial8_DNA_final_cds_invariant50_100000.txt\n",
      "data/same_DNA/redoTrial8_DNA_final_cds_invariant50_209178.txt\n",
      "data/same_DNA/redoTrial9_DNA_final_cds_invariant50_0.txt\n",
      "data/same_DNA/redoTrial9_DNA_final_cds_invariant50_100000.txt\n",
      "data/same_DNA/redoTrial9_DNA_final_cds_invariant50_209178.txt\n",
      "data/same_DNA/redo_Trial{}_stdOut.txt\n"
     ]
    }
   ],
   "source": [
    "!ls data/same_DNA/redo* "
   ]
  }
 ],
 "metadata": {
  "kernelspec": {
   "display_name": "Python [conda env:.conda-mutEq]",
   "language": "python",
   "name": "conda-env-.conda-mutEq-py"
  },
  "language_info": {
   "codemirror_mode": {
    "name": "ipython",
    "version": 3
   },
   "file_extension": ".py",
   "mimetype": "text/x-python",
   "name": "python",
   "nbconvert_exporter": "python",
   "pygments_lexer": "ipython3",
   "version": "3.9.6"
  }
 },
 "nbformat": 4,
 "nbformat_minor": 5
}
