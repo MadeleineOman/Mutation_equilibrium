{
 "cells": [
  {
   "cell_type": "markdown",
   "id": "4af87daa",
   "metadata": {},
   "source": [
    "# **sliding qinodw log values**"
   ]
  },
  {
   "cell_type": "code",
   "execution_count": 30,
   "id": "9ec817df",
   "metadata": {},
   "outputs": [],
   "source": [
    "import matplotlib.pyplot as plt\n",
    "import numpy\n",
    "import json\n",
    "import numpy.random\n",
    "import copy\n",
    "import numpy as np \n",
    "from datetime import datetime #for plotting \n",
    "from tqdm import tqdm\n",
    "import matplotlib.patches as mpatches"
   ]
  },
  {
   "cell_type": "markdown",
   "id": "ac1d7900",
   "metadata": {},
   "source": [
    "**reading in objects**"
   ]
  },
  {
   "cell_type": "code",
   "execution_count": 31,
   "id": "3f4a0129",
   "metadata": {},
   "outputs": [],
   "source": [
    "#doubled model genome wide\n",
    "model = json.load(open(\"../Human_mutability_model/Model_2020_12_02_genomeWide.txt\"))"
   ]
  },
  {
   "cell_type": "markdown",
   "id": "135d1140-1479-4d34-9e31-b510c3e3fb8a",
   "metadata": {},
   "source": [
    "**i firget where i made these files specifically, but the code to geenrate a new string is in the \"reset\" scripts**"
   ]
  },
  {
   "cell_type": "code",
   "execution_count": 32,
   "id": "c4c43941",
   "metadata": {},
   "outputs": [],
   "source": [
    "file_path_initial = \"data/same_DNA/\"\n",
    "sim_name_initial = \"Files_to_use_for_parallel\"\n",
    "\n",
    "file_path_afterSim = \"data/same_DNA/\"\n",
    "sim_name_afterSim = \"Trial\"\n",
    "\n",
    "about_sim = \"_cds_invariant50\"\n",
    "nTrials = 10"
   ]
  },
  {
   "cell_type": "code",
   "execution_count": 33,
   "id": "038867e3",
   "metadata": {},
   "outputs": [],
   "source": [
    "cds_pos_dictionary = open(file_path_initial+sim_name_initial+\"_exon_insertion_dict.txt\").readlines()[0]\n",
    "cds_pos_dictionary = json.loads(cds_pos_dictionary)\n",
    "cds_seq_dictionary = open(file_path_initial+sim_name_initial+\"_exons_toUseSeqeunce_dict.txt\").readlines()[0]\n",
    "cds_seq_dictionary = json.loads(cds_seq_dictionary)"
   ]
  },
  {
   "cell_type": "code",
   "execution_count": 34,
   "id": "de7f850e",
   "metadata": {},
   "outputs": [],
   "source": [
    "file_name = \"Files_to_use_for_parallel_DNA_gen0_cds.txt\"\n",
    "DNAI = open(file_path_initial+file_name).readlines()[0]"
   ]
  },
  {
   "cell_type": "code",
   "execution_count": 35,
   "id": "cd85c70b",
   "metadata": {},
   "outputs": [],
   "source": [
    "DNAF_dataDict = {}\n",
    "#note I want the dna string to be an entry in the list value fo the DNAF dictionary so i can add weigths later \n",
    "n_gens = 200000\n",
    "for index_tmp in range(1,nTrials+1):\n",
    "    file_name = sim_name_afterSim+str(index_tmp)+\"_DNA_final\"+about_sim+\"_{g}.txt\".format(g=n_gens)\n",
    "    DNAF_dataDict[\"Trial\"+str(index_tmp)] = [open(file_path_afterSim+file_name).readlines()[0]]"
   ]
  },
  {
   "cell_type": "code",
   "execution_count": 36,
   "id": "b18228cb",
   "metadata": {},
   "outputs": [
    {
     "name": "stdout",
     "output_type": "stream",
     "text": [
      "1\n",
      "DNAF_datadict['Trial1'] = [seq]\n"
     ]
    }
   ],
   "source": [
    "print(len(DNAF_dataDict[\"Trial1\"]))\n",
    "print(\"DNAF_datadict['Trial1'] = [seq]\")"
   ]
  },
  {
   "cell_type": "markdown",
   "id": "9a5b995d",
   "metadata": {},
   "source": [
    "## **adding the LOG mutability list to the DNAF_datatDict** "
   ]
  },
  {
   "cell_type": "code",
   "execution_count": 37,
   "id": "a27af3a1",
   "metadata": {},
   "outputs": [],
   "source": [
    "for trial_number in range(1, nTrials+1): \n",
    "    trial_name = \"Trial\"+str(trial_number)\n",
    "    trial_weights = []\n",
    "    for i in range(1, len(DNAF_dataDict[trial_name][0])-1):\n",
    "        triplet = DNAF_dataDict[trial_name][0][i-1:i+2]\n",
    "        trial_weights.append(np.log10(model[triplet][0]))\n",
    "    DNAF_dataDict[trial_name].append(trial_weights)"
   ]
  },
  {
   "cell_type": "code",
   "execution_count": 38,
   "id": "4058c1fa",
   "metadata": {},
   "outputs": [
    {
     "name": "stdout",
     "output_type": "stream",
     "text": [
      "2\n",
      "DNAF_datadict['Trial1'] = [seq, log(mut)list]\n"
     ]
    }
   ],
   "source": [
    "print(len(DNAF_dataDict[\"Trial1\"]))\n",
    "print(\"DNAF_datadict['Trial1'] = [seq, log(mut)list]\")"
   ]
  },
  {
   "cell_type": "markdown",
   "id": "2415b578",
   "metadata": {},
   "source": [
    "## **Getting average window value for each sample, then averaging/sd across samples** "
   ]
  },
  {
   "cell_type": "code",
   "execution_count": 39,
   "id": "840b539c",
   "metadata": {},
   "outputs": [],
   "source": [
    "window_size = 1000"
   ]
  },
  {
   "cell_type": "code",
   "execution_count": 40,
   "id": "fb3c58a2",
   "metadata": {},
   "outputs": [],
   "source": [
    "sliding_window_X = []\n",
    "\n",
    "for i in range(0,len(DNAI), window_size):                                  # 1[len(dnai)] iterating by window size \n",
    "    if len(DNAI) - i > window_size:                                        # if you're not RIGHT at the end \n",
    "        sliding_window_X.append(i+int(window_size/2)) "
   ]
  },
  {
   "cell_type": "code",
   "execution_count": 41,
   "id": "56545148",
   "metadata": {},
   "outputs": [
    {
     "name": "stdout",
     "output_type": "stream",
     "text": [
      "size of omitted section is : 145\n",
      "size of omitted section is : 145\n",
      "size of omitted section is : 145\n",
      "size of omitted section is : 145\n",
      "size of omitted section is : 145\n",
      "size of omitted section is : 145\n",
      "size of omitted section is : 145\n",
      "size of omitted section is : 145\n",
      "size of omitted section is : 145\n"
     ]
    }
   ],
   "source": [
    "# now want to append every average window mut value to the dnafplus dict \n",
    "\n",
    "for trial_number in range(1,nTrials): \n",
    "    trial_name = \"Trial\"+str(trial_number)\n",
    "    \n",
    "    trial_muts_list = []\n",
    "    for i in range(0,len(DNAI), window_size):\n",
    "        if len(DNAI) - i > window_size: \n",
    "            \n",
    "            av_mut = np.mean(DNAF_dataDict[trial_name][1][i:i+window_size])\n",
    "            trial_muts_list.append(av_mut)\n",
    "                \n",
    "        else: \n",
    "            print(\"size of omitted section is : \"+str(len(DNAI)-i))\n",
    "    DNAF_dataDict[trial_name].append(trial_muts_list)\n",
    "    "
   ]
  },
  {
   "cell_type": "code",
   "execution_count": 42,
   "id": "e5cae4ce-02cb-4adb-863e-3043defa4f8f",
   "metadata": {},
   "outputs": [],
   "source": [
    "with open('data/same_DNA/DNAF_dataDict.txt', 'w') as json_file:\n",
    "    json.dump(DNAF_dataDict, json_file)"
   ]
  },
  {
   "cell_type": "code",
   "execution_count": 43,
   "id": "1094f3b6",
   "metadata": {},
   "outputs": [
    {
     "name": "stdout",
     "output_type": "stream",
     "text": [
      "3\n",
      "DNAF_datadict['Trial1'] = [seq, log(mut)list, logSlidingWindowList]\n"
     ]
    }
   ],
   "source": [
    "print(len(DNAF_dataDict[\"Trial1\"]))\n",
    "print(\"DNAF_datadict['Trial1'] = [seq, log(mut)list, logSlidingWindowList]\")"
   ]
  },
  {
   "cell_type": "markdown",
   "id": "17ab91d9",
   "metadata": {},
   "source": [
    "## **making a list of window size mutability averages across trials and StandardError** "
   ]
  },
  {
   "cell_type": "code",
   "execution_count": 44,
   "id": "287218de",
   "metadata": {},
   "outputs": [],
   "source": [
    "# creating the average muts and stderr list \n",
    "sliding_window_avMut = []\n",
    "sliding_window_SE = []\n",
    "\n",
    "nwindows = len(DNAF_dataDict[\"Trial1\"][2])\n",
    "\n",
    "for i in range(0,nwindows):\n",
    "    window_muts = []\n",
    "\n",
    "    for trial_number in range(1,nTrials): \n",
    "        trial_name = \"Trial\"+str(trial_number)\n",
    "        window_muts.append(DNAF_dataDict[trial_name][2][i])\n",
    "    \n",
    "    sliding_window_avMut.append(np.mean(window_muts))\n",
    "    sliding_window_SE.append(np.std(window_muts)/np.sqrt(nTrials))\n",
    "    "
   ]
  },
  {
   "cell_type": "markdown",
   "id": "977cc9a4",
   "metadata": {},
   "source": [
    "### **making the vectors to plot with plt ribbon for the stderr** "
   ]
  },
  {
   "cell_type": "code",
   "execution_count": 45,
   "id": "6ffb453f",
   "metadata": {},
   "outputs": [],
   "source": [
    "sliding_belowError =  []\n",
    "sliding_aboveError = []\n",
    "for avMut, stderr in zip(sliding_window_avMut, sliding_window_SE): \n",
    "    sliding_belowError.append(avMut-stderr)\n",
    "    sliding_aboveError.append(avMut+stderr)\n",
    "sliding_belowError = np.array(sliding_belowError)\n",
    "sliding_aboveError = np.array(sliding_aboveError)"
   ]
  },
  {
   "cell_type": "markdown",
   "id": "fb39c8ab",
   "metadata": {},
   "source": [
    "### **double check to make sure the exons are when I think they are** "
   ]
  },
  {
   "cell_type": "code",
   "execution_count": 46,
   "id": "d0c3b8b5",
   "metadata": {},
   "outputs": [],
   "source": [
    "#do a double check after file imports \n",
    "for gene_id, gene_value in cds_seq_dictionary.items():     \n",
    "    if DNAI.find(gene_value[0]) != cds_pos_dictionary[gene_id][0]+1: \n",
    "        print(\"ERROR: cds_pos_dict not accurate for this dna for \"+gene_id)\n"
   ]
  },
  {
   "cell_type": "markdown",
   "id": "e4df4902",
   "metadata": {},
   "source": [
    "### **create a list of cds positions for plotting** "
   ]
  },
  {
   "cell_type": "code",
   "execution_count": 47,
   "id": "59481866",
   "metadata": {},
   "outputs": [],
   "source": [
    "cds_pos_list = []\n",
    "for value in cds_pos_dictionary.values(): \n",
    "    cds_pos_list.extend([value[0], value[1]])\n",
    "cds_pos_list.sort()"
   ]
  },
  {
   "cell_type": "markdown",
   "id": "e05e5e90",
   "metadata": {},
   "source": [
    "## **OK NOW GET HORZONTAL MEAN VALUE (ALL INTRON, ALL EXON )** "
   ]
  },
  {
   "cell_type": "markdown",
   "id": "23ebc2b5",
   "metadata": {},
   "source": [
    "### **EXON** "
   ]
  },
  {
   "cell_type": "code",
   "execution_count": 48,
   "id": "f9661387",
   "metadata": {},
   "outputs": [
    {
     "name": "stderr",
     "output_type": "stream",
     "text": [
      "100%|██████████████████████████████████████████████████████████████████████████████████████████████████████████| 10/10 [00:00<00:00, 12.41it/s]\n"
     ]
    }
   ],
   "source": [
    "#this list that will gather the mean mutability for all trials (len 10) (each string has mean mut for all its exons) \n",
    "exon_mean_mut = []\n",
    "for i in tqdm(range(1,nTrials+1)):\n",
    "    trial_name = \"Trial\"+str(i)\n",
    "    exon_muts = []\n",
    "    exon_means = []\n",
    "    for exon in (cds_pos_dictionary.values()): #for each exon in the string (bounds are in the cds pos dicitonary)\n",
    "        start = exon[0] #setting the bounds \n",
    "        end = exon[1]\n",
    "        for j in range(start+1,end-2): #collect all the triplets in that region and add the mutability to exon_muts\n",
    "            triplet = DNAF_dataDict[trial_name][0][j-1: j+2]\n",
    "            exon_muts.append(np.log10(model[triplet][0]))\n",
    "        exon_means.append(np.mean(exon_muts)) # for each exon, add the overall exon mean to exon_means \n",
    "    exon_mean_mut.append(np.mean(exon_means))#for each trial, add the overall trail mean to exon_mean_mut \n",
    "\n",
    "#exon_mean_mut is now a slist len ==10 containing the av mut for each trial. \n",
    "mean_exon_mut = np.mean(exon_mean_mut)\n",
    "std_exon_mut = np.std(exon_mean_mut)\n",
    "stderr_exon_mut = np.std(exon_mean_mut)/np.sqrt(nTrials)"
   ]
  },
  {
   "cell_type": "code",
   "execution_count": 49,
   "id": "bb05a97f",
   "metadata": {},
   "outputs": [
    {
     "data": {
      "text/plain": [
       "100143"
      ]
     },
     "execution_count": 49,
     "metadata": {},
     "output_type": "execute_result"
    }
   ],
   "source": [
    "len(DNAF_dataDict[trial_name][1])"
   ]
  },
  {
   "cell_type": "code",
   "execution_count": 50,
   "id": "8095391e",
   "metadata": {},
   "outputs": [
    {
     "name": "stdout",
     "output_type": "stream",
     "text": [
      "mean exon mut =  -4.56618692474532 stderr exon mut=   0.0002473560340936797\n"
     ]
    }
   ],
   "source": [
    "print(\"mean exon mut = \", mean_exon_mut, \"stderr exon mut=  \", stderr_exon_mut) "
   ]
  },
  {
   "cell_type": "code",
   "execution_count": 51,
   "id": "1e4d2330-b81f-47a5-bc1f-ed77120cabb5",
   "metadata": {},
   "outputs": [
    {
     "data": {
      "text/plain": [
       "2.7152703374325828e-05"
      ]
     },
     "execution_count": 51,
     "metadata": {},
     "output_type": "execute_result"
    }
   ],
   "source": [
    "10**-4.56618692474532"
   ]
  },
  {
   "cell_type": "markdown",
   "id": "b2e1b28a",
   "metadata": {},
   "source": [
    "### **INTRON** "
   ]
  },
  {
   "cell_type": "code",
   "execution_count": 52,
   "id": "ff229384",
   "metadata": {},
   "outputs": [
    {
     "name": "stderr",
     "output_type": "stream",
     "text": [
      "100%|██████████████████████████████████████████████████████████████████████████████████████████████████████████| 10/10 [00:00<00:00, 11.85it/s]\n"
     ]
    }
   ],
   "source": [
    "#this list that will gather the mean mutability for all trials (len 10) (each string has mean mut for all its introns) \n",
    "intron_mean_mut = []\n",
    "for i in tqdm(range(1,nTrials+1)):\n",
    "    intron_start = 1\n",
    "    trial_name = \"Trial\"+str(i)\n",
    "    intron_muts = []\n",
    "    intron_means = []\n",
    "    for j in range(0, len(cds_pos_list), 2): #the cds_pos dict was converted into a list, here here we want to iterate it by 2 \n",
    "        start = cds_pos_list[j] #start of the exon \n",
    "        end = cds_pos_list[j+1] #end of the exon \n",
    "        for k in range(intron_start,start): #analyze triplets from previous exon end to this intron start \n",
    "            triplet = DNAF_dataDict[trial_name][0][k-1: k+2]\n",
    "            intron_muts.append(np.log10(model[triplet][0]))\n",
    "        intron_start = end #update the \"intron starting value\" with the end of the current intron\n",
    "        intron_means.append(np.mean(intron_muts))#for each intron, append the avergae to intron_means\n",
    "    intron_mean_mut.append(np.mean(intron_means)) #for each trial, append the mean to intron_mean_mut\n",
    "    \n",
    "\n",
    "#intron_mean_mut is now a slist len ==10 containing the av mut for each trial. \n",
    "mean_intron_mut = np.mean(intron_mean_mut)\n",
    "std_intron_mut = np.std(intron_mean_mut)\n",
    "stderr_intron_mut = np.std(intron_mean_mut)/np.sqrt(nTrials)"
   ]
  },
  {
   "cell_type": "code",
   "execution_count": 53,
   "id": "c01032cc",
   "metadata": {},
   "outputs": [
    {
     "name": "stdout",
     "output_type": "stream",
     "text": [
      "mean intrn mut =  -4.596733812238127 stderr intron mut=   0.00018147089675934873\n"
     ]
    }
   ],
   "source": [
    "print(\"mean intrn mut = \", mean_intron_mut, \"stderr intron mut=  \", stderr_intron_mut) "
   ]
  },
  {
   "cell_type": "code",
   "execution_count": 54,
   "id": "272ce1ba-3c3e-463e-9371-93c4370f970b",
   "metadata": {},
   "outputs": [
    {
     "data": {
      "text/plain": [
       "2.7152703374325828e-05"
      ]
     },
     "execution_count": 54,
     "metadata": {},
     "output_type": "execute_result"
    }
   ],
   "source": [
    "10**-4.56618692474532"
   ]
  },
  {
   "cell_type": "markdown",
   "id": "4b304c30-92d5-42e4-af01-e91c6776991e",
   "metadata": {},
   "source": [
    "## **getting intergenic coding triplets**"
   ]
  },
  {
   "cell_type": "code",
   "execution_count": 55,
   "id": "a7106fdb-25fa-4eea-8e2c-f3d6e4519beb",
   "metadata": {},
   "outputs": [
    {
     "name": "stderr",
     "output_type": "stream",
     "text": [
      "100%|██████████████████████████████████████████████████████████████████████████████████████████████████████████| 10/10 [00:00<00:00, 40.34it/s]\n"
     ]
    }
   ],
   "source": [
    "intron_trips_dict = {}\n",
    "for i in tqdm(range(1,nTrials+1)):\n",
    "    intron_start = 1\n",
    "    trial_name = \"Trial\"+str(i)\n",
    "    intron_trips = []\n",
    "    for j in range(0, len(cds_pos_list), 2): #the cds_pos dict was converted into a list, here here we want to iterate it by 2 \n",
    "        start = cds_pos_list[j] #start of the exon \n",
    "        end = cds_pos_list[j+1] #end of the exon \n",
    "        for k in range(intron_start,start): #analyze triplets from previous exon end to this intron start \n",
    "            triplet = DNAF_dataDict[trial_name][0][k-1: k+2]\n",
    "            intron_trips.append(triplet)\n",
    "        intron_start = end #update the \"intron starting value\" with the end of the current intron\n",
    "    intron_trips_dict[trial_name] =  intron_trips"
   ]
  },
  {
   "cell_type": "code",
   "execution_count": 56,
   "id": "e46cdd4c-0484-43c8-a94f-3ee84751a9c1",
   "metadata": {},
   "outputs": [],
   "source": [
    "timestamp = datetime.now().strftime(\"%Y_%m_%d\")\n",
    "with open('data/same_DNA/DNAF_intergenic_trips_{t}.txt'.format(t=timestamp), 'w') as json_file:\n",
    "    json.dump(intron_trips_dict, json_file)"
   ]
  },
  {
   "cell_type": "markdown",
   "id": "701195be",
   "metadata": {},
   "source": [
    "### **difference exon/intron** "
   ]
  },
  {
   "cell_type": "code",
   "execution_count": 57,
   "id": "075ff7d1",
   "metadata": {},
   "outputs": [],
   "source": [
    "diff_exon_intro = []\n",
    "for e,i in zip(exon_mean_mut, intron_mean_mut): \n",
    "    diff_exon_intro.append(e/i)"
   ]
  },
  {
   "cell_type": "code",
   "execution_count": 58,
   "id": "965739fa",
   "metadata": {},
   "outputs": [
    {
     "data": {
      "text/plain": [
       "(0.9933546702466949, 0.0002149838329915976)"
      ]
     },
     "execution_count": 58,
     "metadata": {},
     "output_type": "execute_result"
    }
   ],
   "source": [
    "np.mean(diff_exon_intro), np.std(diff_exon_intro)"
   ]
  },
  {
   "cell_type": "markdown",
   "id": "e2b3dcfb",
   "metadata": {},
   "source": [
    "## **converting the exona nd itnron mean error into a vector that plt can plot as a ribbon** "
   ]
  },
  {
   "cell_type": "code",
   "execution_count": 59,
   "id": "66d41841",
   "metadata": {},
   "outputs": [],
   "source": [
    "exon_below_error = []\n",
    "exon_above_error = []\n",
    "intron_below_error = []\n",
    "intron_above_error = []\n",
    "for element in sliding_window_X: \n",
    "    exon_below_error.append(mean_exon_mut-stderr_exon_mut)\n",
    "    exon_above_error.append(mean_exon_mut+stderr_exon_mut)\n",
    "    intron_below_error.append(mean_intron_mut-stderr_intron_mut)\n",
    "    intron_above_error.append(mean_intron_mut+stderr_intron_mut)"
   ]
  },
  {
   "cell_type": "markdown",
   "id": "798f4454",
   "metadata": {},
   "source": [
    "## **making the x axis kbp units** "
   ]
  },
  {
   "cell_type": "code",
   "execution_count": 60,
   "id": "fad1d278",
   "metadata": {},
   "outputs": [],
   "source": [
    "sliding_window_X_kb = [a/1000 for a in sliding_window_X]"
   ]
  },
  {
   "cell_type": "markdown",
   "id": "a5ba6d3b",
   "metadata": {},
   "source": [
    "## **plotting** "
   ]
  },
  {
   "cell_type": "code",
   "execution_count": 61,
   "id": "b4b5cea2",
   "metadata": {},
   "outputs": [
    {
     "data": {
      "image/png": "[encoded data removed]",
      "text/plain": [
       "<Figure size 432x288 with 1 Axes>"
      ]
     },
     "metadata": {
      "needs_background": "light"
     },
     "output_type": "display_data"
    }
   ],
   "source": [
    "#this chunck is just plotting\n",
    "fig, ax = plt.subplots()\n",
    "# plt.plot(sliding_window_X_kb, sliding_window_avMut, \"royalblue\",alpha = 0.15,label=\"coding\")\n",
    "# plt.plot(sliding_window_X_kb, sliding_window_avMut, \"white\",label=\"non-coding\")\n",
    "plt.plot(sliding_window_X_kb, sliding_window_avMut, \"black\")\n",
    "\n",
    "#x and y axis and aesthetic ticks \n",
    "plt.xlabel(\"Position of Nucleotide (kbp)\")\n",
    "plt.ylabel(\"Mutability (log10)\")\n",
    "plt.xticks([0,20,40,60,80,100])\n",
    "plt.xlim(left = 0, right=100) \n",
    "plt.ticklabel_format(axis=\"y\", style=\"sci\",  scilimits=(0,0)) #e^-n format \n",
    "\n",
    "# LINES SHOWING WHERE THE CODING AND NON-CODING REGIONS ARE \n",
    "for index in range(0,len(cds_pos_list), 2): \n",
    "    ax.axvspan(cds_pos_list[index]/1000, cds_pos_list[index+1]/1000, alpha=.15, color='royalblue')\n",
    "ax.grid(False)\n",
    "\n",
    "#adjusting font size \n",
    "SMALL_SIZE = 14\n",
    "MEDIUM_SIZE = 14\n",
    "BIGGER_SIZE = 18\n",
    "# plt.rc('font', size=MEDIUM_SIZE)          # controls default text sizes\n",
    "plt.rc('axes', titlesize=MEDIUM_SIZE)     # fontsize of the axes title\n",
    "plt.rc('axes', labelsize=MEDIUM_SIZE)    # fontsize of the x and y labels\n",
    "plt.rc('xtick', labelsize=MEDIUM_SIZE)    # fontsize of the tick labels\n",
    "plt.rc('ytick', labelsize=MEDIUM_SIZE)    # fontsize of the tick labels\n",
    "plt.rc('legend', fontsize=MEDIUM_SIZE)    # legend fontsize\n",
    "\n",
    "#adding average exon / intron mutability horizontal ribbons \n",
    "plt.fill_between(sliding_window_X_kb,exon_below_error,exon_above_error, color = \"cornflowerblue\")\n",
    "plt.fill_between(sliding_window_X_kb,intron_below_error,intron_above_error, color = \"crimson\")\n",
    "#adding in SD \n",
    "plt.fill_between(sliding_window_X_kb,sliding_belowError,sliding_aboveError, color = \"grey\")\n",
    "# plt.legend()\n",
    "\n",
    "# plt.show()\n",
    "# timestamp = datetime.now().strftime(\"%Y/%m/%d_%H:%M:%S\").replace(\"/\", \"_\").replace(\":\", \"_\")\n",
    "# plt.tight_layout()\n",
    "# plt.savefig(\"plots/Sliding_{t}_Finalized_avCodingNonCoding_log10_{g}_highres.jpg\".format(t = timestamp, g = n_gens),dpi = 300)"
   ]
  },
  {
   "cell_type": "code",
   "execution_count": 89,
   "id": "5a51a86d",
   "metadata": {},
   "outputs": [
    {
     "name": "stdout",
     "output_type": "stream",
     "text": [
      "exon      -4.56618692474532 0.0002473560340936797\n",
      "intron    -4.596733812238127 0.00018147089675934873\n"
     ]
    }
   ],
   "source": [
    "print(\"exon     \", mean_exon_mut, stderr_exon_mut)\n",
    "print(\"intron   \", mean_intron_mut, stderr_intron_mut)"
   ]
  },
  {
   "cell_type": "markdown",
   "id": "c63377f6",
   "metadata": {},
   "source": [
    "# **slight adjustmenets for the poster**"
   ]
  },
  {
   "cell_type": "code",
   "execution_count": 51,
   "id": "e6a4e113",
   "metadata": {},
   "outputs": [],
   "source": [
    "#plt.style.use('seaborn-ticks')#--> need this off for the legend background to work "
   ]
  },
  {
   "cell_type": "code",
   "execution_count": 63,
   "id": "c7e7dbc7",
   "metadata": {},
   "outputs": [
    {
     "data": {
      "image/png": "[encoded data removed]",
      "text/plain": [
       "<Figure size 432x288 with 1 Axes>"
      ]
     },
     "metadata": {
      "needs_background": "light"
     },
     "output_type": "display_data"
    }
   ],
   "source": [
    "#this chunck is just plotting\n",
    "fig, ax = plt.subplots()\n",
    "\n",
    "#plotting data\n",
    "plt.plot(sliding_window_X_kb, sliding_window_avMut, \"black\")\n",
    "#adding in SD \n",
    "plt.fill_between(sliding_window_X_kb,sliding_belowError,sliding_aboveError, color = \"grey\")\n",
    "\n",
    "#x and y axis and aesthetic ticks \n",
    "plt.xlabel(\"Position of Nucleotide (kbp)\")\n",
    "plt.ylabel(\"Mutability (log10)\")\n",
    "plt.xticks([0,20,40,60,80,100])\n",
    "plt.xlim(left = 0, right=100) \n",
    "plt.ticklabel_format(axis=\"y\", style=\"sci\",  scilimits=(0,0)) #e^-n format \n",
    "\n",
    "# LINES SHOWING WHERE THE CODING AND NON-CODING REGIONS ARE \n",
    "for index in range(0,len(cds_pos_list), 2): \n",
    "    ax.axvspan(cds_pos_list[index]/1000, cds_pos_list[index+1]/1000, alpha=.15, color='royalblue')\n",
    "ax.grid(False)\n",
    "\n",
    "\n",
    "#adjusting font size \n",
    "SMALL_SIZE = 14\n",
    "MEDIUM_SIZE = 14\n",
    "BIGGER_SIZE = 18\n",
    "# plt.rc('font', size=MEDIUM_SIZE)          # controls default text sizes\n",
    "plt.rc('axes', titlesize=MEDIUM_SIZE)     # fontsize of the axes title\n",
    "plt.rc('axes', labelsize=MEDIUM_SIZE)    # fontsize of the x and y labels\n",
    "plt.rc('xtick', labelsize=MEDIUM_SIZE)    # fontsize of the tick labels\n",
    "plt.rc('ytick', labelsize=MEDIUM_SIZE)    # fontsize of the tick labels\n",
    "plt.rc('legend', fontsize=MEDIUM_SIZE)    # legend fontsize\n",
    "\n",
    "#adding average exon / intron mutability horizontal ribbons \n",
    "plt.hlines(mean_exon_mut, xmin=0, xmax=100, color = \"black\",linestyles = \"dotted\")\n",
    "plt.hlines(mean_intron_mut,  xmin=0, xmax=100,color = \"black\",linestyles = \"dashed\")\n",
    "\n",
    "\n",
    "##doing some wack shit to make the legend possible \n",
    "codingPatch = mpatches.Patch( color=\"royalblue\",alpha = .15,label='coding')\n",
    "neutralPatch = mpatches.Patch(color=\"white\", label='neutral')\n",
    "plt.legend(handles=[codingPatch,neutralPatch],facecolor=\"lightgrey\",fontsize = \"large\")\n",
    "\n",
    "# plt.show()\n",
    "timestamp = datetime.now().strftime(\"%Y/%m/%d_%H:%M:%S\").replace(\"/\", \"_\").replace(\":\", \"_\")\n",
    "plt.tight_layout()\n",
    "plt.savefig(\"plots/Sliding_{t}_Finalized_avCodingNonCoding_log10_{g}_highres_PosterSMBE.jpg\".format(t = timestamp, g = n_gens),dpi = 300)"
   ]
  },
  {
   "cell_type": "markdown",
   "id": "bc32d644",
   "metadata": {},
   "source": [
    "# **NON CPGS** ~~~~~~~~~~~~~~~~~~~~~~~~~~~"
   ]
  },
  {
   "cell_type": "code",
   "execution_count": 65,
   "id": "e0191e6b",
   "metadata": {},
   "outputs": [],
   "source": [
    "muts = []\n",
    "for mut in model.values(): \n",
    "    muts.append((mut[0]))"
   ]
  },
  {
   "cell_type": "code",
   "execution_count": 66,
   "id": "a60f8267",
   "metadata": {},
   "outputs": [
    {
     "data": {
      "image/png": "[encoded data removed]",
      "text/plain": [
       "<Figure size 432x288 with 1 Axes>"
      ]
     },
     "metadata": {
      "needs_background": "light"
     },
     "output_type": "display_data"
    }
   ],
   "source": [
    "plt.hist(muts)\n",
    "plt.xticks(rotation = 90)\n",
    "plt.show()"
   ]
  },
  {
   "cell_type": "code",
   "execution_count": 67,
   "id": "d8eb3057",
   "metadata": {},
   "outputs": [
    {
     "name": "stdout",
     "output_type": "stream",
     "text": [
      "GCG -3.533051177610831\n",
      "CGG -3.546063632614861\n",
      "CCG -3.5446576578609563\n",
      "CGC -3.5349376455559254\n",
      "CGT -3.444693521697628\n",
      "CGA -3.580975147819114\n",
      "ACG -3.441085624617659\n",
      "TCG -3.60886339459654\n"
     ]
    }
   ],
   "source": [
    "#use the histogram above to find the right sperating value \n",
    "cpg_muts = []\n",
    "non_cpg_muts = []\n",
    "for key, value in model.items(): \n",
    "    if value[0] >= 0.0002 : \n",
    "        print(key, np.log10(value[0]))\n",
    "        cpg_muts.append(np.log10(value[0]))\n",
    "    else: \n",
    "        non_cpg_muts.append(np.log10(value[0]))"
   ]
  },
  {
   "cell_type": "code",
   "execution_count": 68,
   "id": "dfc9a965",
   "metadata": {},
   "outputs": [
    {
     "data": {
      "text/plain": [
       "-4.58829975487749"
      ]
     },
     "execution_count": 68,
     "metadata": {},
     "output_type": "execute_result"
    }
   ],
   "source": [
    "np.mean(non_cpg_muts)"
   ]
  },
  {
   "cell_type": "markdown",
   "id": "6ad35234",
   "metadata": {},
   "source": [
    "### **getting the non-cpg weights** "
   ]
  },
  {
   "cell_type": "code",
   "execution_count": 69,
   "id": "e534072a",
   "metadata": {},
   "outputs": [],
   "source": [
    "DNAF_dataDict_noCPGMuts = {}\n",
    "for key, value in DNAF_dataDict.items(): \n",
    "    trial_muts = []\n",
    "    for weight in value[1]: \n",
    "        if weight in cpg_muts: \n",
    "            trial_muts.append(np.mean(non_cpg_muts))\n",
    "        else: \n",
    "            trial_muts.append(weight)\n",
    "    DNAF_dataDict_noCPGMuts[key] = [trial_muts]\n",
    "    "
   ]
  },
  {
   "cell_type": "code",
   "execution_count": 70,
   "id": "5700e802",
   "metadata": {},
   "outputs": [
    {
     "name": "stdout",
     "output_type": "stream",
     "text": [
      "1\n",
      "DNAF_datadict_noCPGMuts['Trial1'] = [logMuts]\n"
     ]
    }
   ],
   "source": [
    "print(len(DNAF_dataDict_noCPGMuts[\"Trial1\"]))\n",
    "print(\"DNAF_datadict_noCPGMuts['Trial1'] = [logMuts]\")"
   ]
  },
  {
   "cell_type": "markdown",
   "id": "447b90fd",
   "metadata": {},
   "source": [
    "### **adding the window size mutability averages to the dictionary** "
   ]
  },
  {
   "cell_type": "code",
   "execution_count": 71,
   "id": "674a94eb",
   "metadata": {},
   "outputs": [
    {
     "name": "stdout",
     "output_type": "stream",
     "text": [
      "size of omitted section is : 145\n",
      "size of omitted section is : 145\n",
      "size of omitted section is : 145\n",
      "size of omitted section is : 145\n",
      "size of omitted section is : 145\n",
      "size of omitted section is : 145\n",
      "size of omitted section is : 145\n",
      "size of omitted section is : 145\n",
      "size of omitted section is : 145\n"
     ]
    }
   ],
   "source": [
    "# now want to append every average window mut value to the dnafplus dict \n",
    "\n",
    "for trial_number in range(1,nTrials): \n",
    "    trial_name = \"Trial\"+str(trial_number)\n",
    "    \n",
    "    trial_muts_list = []\n",
    "    for i in range(0,len(DNAI), window_size):\n",
    "        if len(DNAI) - i > window_size: \n",
    "            \n",
    "            av_mut = np.mean(DNAF_dataDict_noCPGMuts[trial_name][0][i:i+window_size])\n",
    "            trial_muts_list.append(av_mut)\n",
    "                \n",
    "        else: \n",
    "            print(\"size of omitted section is : \"+str(len(DNAI)-i))\n",
    "    DNAF_dataDict_noCPGMuts[trial_name].append(trial_muts_list)\n",
    "    "
   ]
  },
  {
   "cell_type": "markdown",
   "id": "b3de8c46",
   "metadata": {},
   "source": [
    "### **adding the window size mutability averages to the dictionary** "
   ]
  },
  {
   "cell_type": "code",
   "execution_count": 72,
   "id": "c24f535e",
   "metadata": {},
   "outputs": [],
   "source": [
    "# creating the average muts and std list \n",
    "sliding_window_avMut_noCpg = []\n",
    "sliding_window_SE_noCpg = []\n",
    "\n",
    "nwindows = len(DNAF_dataDict_noCPGMuts[\"Trial1\"][1])\n",
    "\n",
    "for i in range(0,nwindows):\n",
    "    window_muts = []\n",
    "\n",
    "    for trial_number in range(1,nTrials): \n",
    "        trial_name = \"Trial\"+str(trial_number)\n",
    "        window_muts.append(DNAF_dataDict_noCPGMuts[trial_name][1][i])\n",
    "    \n",
    "    sliding_window_avMut_noCpg.append(np.mean(window_muts))\n",
    "    sliding_window_SE_noCpg.append(np.std(window_muts)/np.sqrt(nTrials))\n",
    "    "
   ]
  },
  {
   "cell_type": "markdown",
   "id": "b63371c9",
   "metadata": {},
   "source": [
    "### **making the vectors to plot with plt** "
   ]
  },
  {
   "cell_type": "code",
   "execution_count": 73,
   "id": "fb3a80df",
   "metadata": {},
   "outputs": [],
   "source": [
    "sliding_belowError_noCpg =  []\n",
    "sliding_aboveError_noCpg = []\n",
    "for avMut, stderr in zip(sliding_window_avMut_noCpg, sliding_window_SE_noCpg): \n",
    "    sliding_belowError_noCpg.append(avMut-stderr)\n",
    "    sliding_aboveError_noCpg.append(avMut+stderr)\n",
    "sliding_belowError_noCpg = np.array(sliding_belowError_noCpg)\n",
    "sliding_aboveError_noCpg = np.array(sliding_aboveError_noCpg)"
   ]
  },
  {
   "cell_type": "markdown",
   "id": "54a40d4b",
   "metadata": {},
   "source": [
    "## **OK NOW GET HORZONTAL MEAN VALUE (ALL INTRON, ALL EXON )** "
   ]
  },
  {
   "cell_type": "markdown",
   "id": "88ec2c36",
   "metadata": {},
   "source": [
    "### **EXON** "
   ]
  },
  {
   "cell_type": "code",
   "execution_count": 74,
   "id": "106e5c8f",
   "metadata": {},
   "outputs": [
    {
     "name": "stderr",
     "output_type": "stream",
     "text": [
      "100%|██████████████████████████████████████████████████████████████████████████████████████████████████████████| 10/10 [00:01<00:00,  7.94it/s]\n"
     ]
    }
   ],
   "source": [
    "#this list that will gather the mean mutability for all trials (len 10) (each string has mean mut for all its exons) \n",
    "exon_mean_mut_noCpg = []\n",
    "for i in tqdm(range(1,nTrials+1)):\n",
    "    trial_name = \"Trial\"+str(i)\n",
    "    exon_muts = []\n",
    "    exon_means = []\n",
    "    for exon in (cds_pos_dictionary.values()): #for each exon in the string (bounds are in the cds pos dicitonary)\n",
    "        start = exon[0] #setting the bounds \n",
    "        end = exon[1]\n",
    "        for j in range(start+1,end-2): #collect all the triplets in that region and add the mutability to exon_muts\n",
    "            triplet = DNAF_dataDict[trial_name][0][j-1: j+2] # need to use the old dataDNAF dict as thats the one with rhe dna string\n",
    "            mut = np.log10(model[triplet][0])\n",
    "            if mut in cpg_muts: \n",
    "                mut = (np.mean(non_cpg_muts))\n",
    "            exon_muts.append(mut)\n",
    "        exon_means.append(np.mean(exon_muts)) # for each exon, add the overall exon mean to exon_means \n",
    "    exon_mean_mut_noCpg.append(np.mean(exon_means))#for each trial, add the overall trail mean to exon_mean_mut \n",
    "\n",
    "#exon_mean_mut is now a slist len ==10 containing the av mut for each trial. \n",
    "mean_exon_mut_noCpg = np.mean(exon_mean_mut_noCpg)\n",
    "std_exon_mut_noCpg = np.std(exon_mean_mut_noCpg)\n",
    "stderr_exon_mut_noCpg = np.std(exon_mean_mut_noCpg)/np.sqrt(nTrials)"
   ]
  },
  {
   "cell_type": "code",
   "execution_count": 75,
   "id": "4a6271f8",
   "metadata": {},
   "outputs": [
    {
     "name": "stdout",
     "output_type": "stream",
     "text": [
      "mean exon mut =  -4.596054025309981 stderr exon mut=   0.0001696893098431365\n"
     ]
    }
   ],
   "source": [
    "print(\"mean exon mut = \", mean_exon_mut_noCpg, \"stderr exon mut=  \", stderr_exon_mut_noCpg) "
   ]
  },
  {
   "cell_type": "markdown",
   "id": "192fc365",
   "metadata": {},
   "source": [
    "### **INTRON** "
   ]
  },
  {
   "cell_type": "code",
   "execution_count": 76,
   "id": "1c57c252",
   "metadata": {},
   "outputs": [
    {
     "name": "stderr",
     "output_type": "stream",
     "text": [
      "100%|██████████████████████████████████████████████████████████████████████████████████████████████████████████| 10/10 [00:01<00:00,  8.72it/s]\n"
     ]
    }
   ],
   "source": [
    "#this list that will gather the mean mutability for all trials (len 10) (each string has mean mut for all its introns) \n",
    "intron_mean_mut_noCpg = []\n",
    "for i in tqdm(range(1,nTrials+1)):\n",
    "    intron_start = 1\n",
    "    trial_name = \"Trial\"+str(i)\n",
    "    intron_muts = []\n",
    "    intron_means = []\n",
    "    for j in range(0, len(cds_pos_list), 2): #the cds_pos dict was converted into a list, here here we want to iterate it by 2 \n",
    "        start = cds_pos_list[j] #start of the exon \n",
    "        end = cds_pos_list[j+1] #end of the exon \n",
    "        for k in range(intron_start,start): #analyze triplets from previous exon end to this intron start \n",
    "            triplet = DNAF_dataDict[trial_name][0][k-1: k+2]# need to use the old dataDNAF dict as thats the one with rhe dna string\n",
    "            mut = np.log10(model[triplet][0])\n",
    "            if mut in cpg_muts: \n",
    "                mut = np.mean(non_cpg_muts)\n",
    "            intron_muts.append(mut)\n",
    "        intron_start = end #update the \"intron starting value\" with the end of the current intron\n",
    "        intron_means.append(np.mean(intron_muts))#for each intron, append the avergae to intron_means\n",
    "    intron_mean_mut_noCpg.append(np.mean(intron_means)) #for each trial, append the mean to intron_mean_mut\n",
    "    \n",
    "\n",
    "#intron_mean_mut is now a slist len ==10 containing the av mut for each trial. \n",
    "mean_intron_mut_noCpg = np.mean(intron_mean_mut_noCpg)\n",
    "std_intron_mut_noCpg = np.std(intron_mean_mut_noCpg)\n",
    "stderr_intron_mut_noCpg = np.std(intron_mean_mut_noCpg)/np.sqrt(nTrials)"
   ]
  },
  {
   "cell_type": "code",
   "execution_count": 77,
   "id": "bd5f9893",
   "metadata": {},
   "outputs": [
    {
     "name": "stdout",
     "output_type": "stream",
     "text": [
      "mean intrn mut =  -4.608389749873326 stderr intron mut=   0.0002346595069820796\n"
     ]
    }
   ],
   "source": [
    "print(\"mean intrn mut = \", mean_intron_mut_noCpg, \"stderr intron mut=  \", stderr_intron_mut_noCpg) "
   ]
  },
  {
   "cell_type": "markdown",
   "id": "8f521314",
   "metadata": {},
   "source": [
    "### **converting the exona nd itnron mean error into a vector that plt can plot as a ribbon** "
   ]
  },
  {
   "cell_type": "code",
   "execution_count": 78,
   "id": "7a78b7c7",
   "metadata": {},
   "outputs": [],
   "source": [
    "exon_below_error_noCpg = []\n",
    "exon_above_error_noCpg = []\n",
    "intron_below_error_noCpg = []\n",
    "intron_above_error_noCpg = []\n",
    "for element in sliding_window_X: \n",
    "    exon_below_error_noCpg.append(mean_exon_mut_noCpg-stderr_exon_mut_noCpg)\n",
    "    exon_above_error_noCpg.append(mean_exon_mut_noCpg+stderr_exon_mut_noCpg)\n",
    "    intron_below_error_noCpg.append(mean_intron_mut_noCpg-stderr_intron_mut_noCpg)\n",
    "    intron_above_error_noCpg.append(mean_intron_mut_noCpg+stderr_intron_mut_noCpg)"
   ]
  },
  {
   "cell_type": "markdown",
   "id": "f5c8ab3f",
   "metadata": {},
   "source": [
    "## **plotting** "
   ]
  },
  {
   "cell_type": "code",
   "execution_count": 79,
   "id": "aa53b28f",
   "metadata": {},
   "outputs": [
    {
     "data": {
      "image/png": "[encoded data removed]",
      "text/plain": [
       "<Figure size 432x288 with 1 Axes>"
      ]
     },
     "metadata": {
      "needs_background": "light"
     },
     "output_type": "display_data"
    }
   ],
   "source": [
    "#this chunck is just plotting\n",
    "fig, ax = plt.subplots()\n",
    "plt.plot(sliding_window_X_kb, sliding_window_avMut_noCpg, \"black\")\n",
    "\n",
    "#x and y axis and aesthetic ticks \n",
    "plt.xlabel(\"Position of Nucleotide (kbp)\")\n",
    "plt.ylabel(\"Mutability (log10)\")\n",
    "plt.xticks([0,20,40,60,80,100])\n",
    "plt.xlim(left = 0, right=100) \n",
    "plt.ticklabel_format(axis=\"y\", style=\"sci\",  scilimits=(0,0)) #e^-n format \n",
    "\n",
    "# LINES SHOWING WHERE THE CODING AND NON-CODING REGIONS ARE \n",
    "for index in range(0,len(cds_pos_list), 2): \n",
    "    ax.axvspan(cds_pos_list[index]/1000, cds_pos_list[index+1]/1000, alpha=.15, color='royalblue')\n",
    "ax.grid(False)\n",
    "\n",
    "#adjusting font size \n",
    "SMALL_SIZE = 14\n",
    "MEDIUM_SIZE = 14\n",
    "BIGGER_SIZE = 18\n",
    "plt.rc('font', size=SMALL_SIZE)          # controls default text sizes\n",
    "plt.rc('axes', titlesize=MEDIUM_SIZE)     # fontsize of the axes title\n",
    "plt.rc('axes', labelsize=MEDIUM_SIZE)    # fontsize of the x and y labels\n",
    "plt.rc('xtick', labelsize=SMALL_SIZE)    # fontsize of the tick labels\n",
    "plt.rc('ytick', labelsize=SMALL_SIZE)    # fontsize of the tick labels\n",
    "plt.rc('legend', fontsize=SMALL_SIZE)    # legend fontsize\n",
    "\n",
    "#adding average exon / intron mutability horizontal ribbons \n",
    "plt.fill_between(sliding_window_X_kb,exon_below_error_noCpg,exon_above_error_noCpg, color = \"cornflowerblue\", label = \"Exon\")\n",
    "plt.fill_between(sliding_window_X_kb,intron_below_error_noCpg,intron_above_error_noCpg, color = \"crimson\", label = \"Intron\")\n",
    "#adding in SD \n",
    "plt.fill_between(sliding_window_X_kb,sliding_belowError_noCpg,sliding_aboveError_noCpg, color = \"grey\")\n",
    "\n",
    "# plt.show()\n",
    "# timestamp = datetime.now().strftime(\"%Y/%m/%d_%H:%M:%S\").replace(\"/\", \"_\").replace(\":\", \"_\")\n",
    "# plt.tight_layout()\n",
    "# plt.savefig(\"plots/Sliding_{t}_Finalized_avCodingNonCoding_{g}_noCpG_log10_highRes.jpg\".format(t = timestamp, g = n_gens),dpi=300)"
   ]
  }
 ],
 "metadata": {
  "kernelspec": {
   "display_name": "Python 3 (ipykernel)",
   "language": "python",
   "name": "python3"
  },
  "language_info": {
   "codemirror_mode": {
    "name": "ipython",
    "version": 3
   },
   "file_extension": ".py",
   "mimetype": "text/x-python",
   "name": "python",
   "nbconvert_exporter": "python",
   "pygments_lexer": "ipython3",
   "version": "3.9.6"
  }
 },
 "nbformat": 4,
 "nbformat_minor": 5
}
