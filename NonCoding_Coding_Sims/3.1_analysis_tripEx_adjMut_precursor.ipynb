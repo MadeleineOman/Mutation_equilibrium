{
 "cells": [
  {
   "cell_type": "markdown",
   "metadata": {},
   "source": [
    "# ** TRIPLET CHNAGE ** "
   ]
  },
  {
   "cell_type": "code",
   "execution_count": 1,
   "metadata": {},
   "outputs": [],
   "source": [
    "import matplotlib.pyplot as plt\n",
    "import matplotlib\n",
    "import numpy as np \n",
    "import matplotlib.patches as mpatches\n",
    "import json\n",
    "import pandas as pd\n",
    "from datetime import datetime"
   ]
  },
  {
   "cell_type": "code",
   "execution_count": 2,
   "metadata": {},
   "outputs": [],
   "source": [
    "plt.style.use(\"seaborn-ticks\")"
   ]
  },
  {
   "cell_type": "code",
   "execution_count": 3,
   "metadata": {},
   "outputs": [],
   "source": [
    "#whole genome doubled model\n",
    "model = json.load(open(\"../Human_mutability_model/Model_2020_12_02_genomeWide.txt\"))"
   ]
  },
  {
   "cell_type": "code",
   "execution_count": 4,
   "metadata": {},
   "outputs": [],
   "source": [
    "file_path_afterSim = \"data/dif_DNA/\"\n",
    "sim_name_afterSim = \"Trial\"\n",
    "about_sim = \"_cds_invariant50\"\n",
    "nTrials= 10 #\n",
    "gen_to_use = 600000"
   ]
  },
  {
   "cell_type": "code",
   "execution_count": 5,
   "metadata": {},
   "outputs": [],
   "source": [
    "DNA_dataDict = {}\n",
    "\n",
    "#DifDNA800kgen trial 1-5\n",
    "for index_tmp in range(1,int(nTrials)+1):\n",
    "    file_name_exondict = sim_name_afterSim+str(index_tmp)+\"_exon_insertion_dict.txt\"\n",
    "    file_name_dnaI = sim_name_afterSim+str(index_tmp)+\"_DNA_gen0_cds.txt\"\n",
    "    file_name_dnaF = sim_name_afterSim+str(index_tmp)+\"_DNA_final\"+about_sim+\"_\"+str(gen_to_use)+\".txt\"\n",
    "    file_name_dnamap = sim_name_afterSim+str(index_tmp)+\"_DNA_map\"+about_sim+\".txt\"\n",
    "    \n",
    "    file_object_exondict = json.loads(open(file_path_afterSim+file_name_exondict).readlines()[0])\n",
    "    file_object_dnaI = open(file_path_afterSim+file_name_dnaI).readlines()[0]\n",
    "    file_object_dnaF = open(file_path_afterSim+file_name_dnaF).readlines()[0]\n",
    "    file_object_dnamap = open(file_path_afterSim+file_name_dnamap).readlines()[0]\n",
    "    \n",
    "    DNA_dataDict[\"Trial\"+str(index_tmp)] = [file_object_dnaI, file_object_dnaF, file_object_dnamap, file_object_exondict]\n",
    "    \n",
    "#adding codonsI and codonsF list to the dna_data dictionary \n",
    "for trial_number in range(1,nTrials+1):\n",
    "    trial_name = \"Trial\"+str(trial_number)\n",
    "\n",
    "    current_DNAI = DNA_dataDict[trial_name][0]\n",
    "    current_DNAF = DNA_dataDict[trial_name][1]\n",
    "    current_codonsI = []\n",
    "    current_codonsF = []\n",
    "\n",
    "    tmp_nCodons = 0\n",
    "\n",
    "    for exon_bounds_list in DNA_dataDict[trial_name][3].values():\n",
    "\n",
    "        i = int(exon_bounds_list[0])+1\n",
    "\n",
    "        tmp_exon_codons = int((int(exon_bounds_list[1]) - int(exon_bounds_list[0]))/3)\n",
    "        tmp_nCodons += tmp_exon_codons\n",
    "\n",
    "\n",
    "        while i <= int(exon_bounds_list[1]): \n",
    "            current_codonsI.append(current_DNAI[i:i+3])\n",
    "            current_codonsF.append(current_DNAF[i:i+3])\n",
    "            i+= 3\n",
    "    \n",
    "    DNA_dataDict[trial_name].extend([current_codonsI, current_codonsF])\n",
    "    \n",
    "#adding intronic triplet counts to the dictionary dna_datadict\n",
    "for trial_number in range(1,nTrials+1):\n",
    "    trial_name = \"Trial\"+str(trial_number)\n",
    "    \n",
    "    #turning the exon iseertion dictionary into an ordered list of bounds \n",
    "    all_exon_bounds_list = []\n",
    "    for current_exon_bounds_list in DNA_dataDict[trial_name][3].values():\n",
    "        all_exon_bounds_list.append(int(current_exon_bounds_list[0]))\n",
    "        all_exon_bounds_list.append(int(current_exon_bounds_list[1]))    \n",
    "    all_exon_bounds_list.sort()\n",
    "    all_exon_bounds_list = [0]+all_exon_bounds_list[0:-1] #dont want the last bound as my dna end in exon \n",
    "\n",
    "    current_allIntronTriplets_initial  = []\n",
    "    current_allIntronTriplets_final  = []\n",
    "\n",
    "    for start_bound_index in range(0,len(all_exon_bounds_list),2): \n",
    "        start_bound = all_exon_bounds_list[start_bound_index]\n",
    "        end_bound = all_exon_bounds_list[start_bound_index+1]\n",
    "        for site in range(start_bound+1,end_bound-1): \n",
    "\n",
    "            tripletI = DNA_dataDict[trial_name][0][site-1:site+2]\n",
    "            current_allIntronTriplets_initial.append(tripletI)\n",
    "\n",
    "            tripletF = DNA_dataDict[trial_name][1][site-1:site+2]\n",
    "            current_allIntronTriplets_final.append(tripletF)\n",
    "        \n",
    "    \n",
    "    DNA_dataDict[trial_name].extend([current_allIntronTriplets_initial, current_allIntronTriplets_final])"
   ]
  },
  {
   "cell_type": "markdown",
   "metadata": {},
   "source": [
    "DNA_dataDict[\"Trial\"+str(index_tmp)] = \n",
    "0. file_object_dnaI, (dna string)\n",
    "1. file_object_dnaF, (dna string)\n",
    "2. file_object_dnamap, (dna map string)\n",
    "3. file_object_exondict (dictionary) \n",
    "4. current_codonsI,  (list) \n",
    "5. current_codonsF (list) \n",
    "6. intronic triplet initial (list)\n",
    "7. intronic triplet final (list) "
   ]
  },
  {
   "cell_type": "markdown",
   "metadata": {},
   "source": [
    "** building the list for triplet counts **"
   ]
  },
  {
   "cell_type": "code",
   "execution_count": 32,
   "metadata": {},
   "outputs": [],
   "source": [
    "triplets = []\n",
    "for key in model.keys(): \n",
    "    triplets.append(key)"
   ]
  },
  {
   "cell_type": "code",
   "execution_count": 38,
   "metadata": {},
   "outputs": [],
   "source": [
    "#muts \n",
    "muts = []\n",
    "for triplet in triplets: \n",
    "    muts.append(model[triplet][0])\n",
    "    \n",
    "muts_log10 = []\n",
    "for mut in muts: \n",
    "    muts_log10.append(np.log(mut))"
   ]
  },
  {
   "cell_type": "code",
   "execution_count": 36,
   "metadata": {},
   "outputs": [],
   "source": [
    "#making the counts dictionary (proportion of the # that you started with --> proportional chnage )\n",
    "intron_counts_dict = {}\n",
    "for triplet in triplets: \n",
    "    \n",
    "    intron_counts_dict[triplet] = []\n",
    "    \n",
    "    for trial_number in range(1,nTrials+1):\n",
    "        trial_name = \"Trial\"+str(trial_number)\n",
    "        \n",
    "        triplet_countI = DNA_dataDict[trial_name][6].count(triplet)\n",
    "        triplet_countF = DNA_dataDict[trial_name][7].count(triplet)\n",
    "        \n",
    "        intron_counts_dict[triplet].append((triplet_countF- triplet_countI)/triplet_countI) \n",
    "\n",
    "# MAKING THE MEAN AND STD LISTS \n",
    "triplet_muts_intron = []\n",
    "triplet_chnage_mean_intron = []\n",
    "triplet_chnage_std_intron = []\n",
    "\n",
    "for triplet in triplets: \n",
    "    triplet_muts_intron.append(model[triplet][0])        \n",
    "    triplet_chnage_mean_intron.append(np.mean(intron_counts_dict[triplet]))\n",
    "    triplet_chnage_std_intron.append(np.std(intron_counts_dict[triplet])/np.sqrt(nTrials))"
   ]
  },
  {
   "cell_type": "code",
   "execution_count": 37,
   "metadata": {},
   "outputs": [],
   "source": [
    "#precursor mut \n",
    "precursor_mut_prob = []\n",
    "bases = [\"A\", \"T\", \"G\", \"C\"]\n",
    "for triplet in triplets: \n",
    "    current_weight_mut =[]\n",
    "    \n",
    "    for middle_base in bases: \n",
    "        from_triplet = triplet[0]+middle_base+triplet[2]\n",
    "        \n",
    "        if from_triplet != triplet: \n",
    "            current_mut = model[from_triplet][0]\n",
    "            current_prob =model[from_triplet][1][triplet]\n",
    "            current_weight_mut.append(current_mut*current_prob)\n",
    "            \n",
    "    precursor_mut_prob.append(np.mean(current_weight_mut))\n",
    "        "
   ]
  },
  {
   "cell_type": "code",
   "execution_count": 41,
   "metadata": {},
   "outputs": [],
   "source": [
    "## adj mut \n",
    "adj_both_1around_mut = []\n",
    "for triplet in triplets: \n",
    "    adj_both_1around_mut.append(adj_mut_calc(triplet))\n"
   ]
  },
  {
   "cell_type": "code",
   "execution_count": 40,
   "metadata": {},
   "outputs": [],
   "source": [
    "def adj_mut_calc(dna): \n",
    "    \"\"\"\n",
    "    string --> float \n",
    "    takes a TRIPLET\n",
    "    calulates the mutability for ALL POSSIBLE triplets (equal weights) adjacent \n",
    "    \"\"\"\n",
    "    muts_leftadj = []\n",
    "    muts_rightadj = []\n",
    "    #piece for triplet -1 relative index \n",
    "    piece_leftadj = dna[0:2]\n",
    "    for base in [\"A\", \"T\", \"G\", \"C\"]: \n",
    "        triplet_leftadj = base+piece_leftadj\n",
    "        if triplet_leftadj in model: \n",
    "            muts_leftadj.append(model[triplet_leftadj][0])\n",
    "        else: \n",
    "            muts_leftadj.append(model[reverse_complement(triplet_leftadj)][0])\n",
    "#     #for triplets -2 relative index         \n",
    "#     piece_leftadj =  dna[0:1]\n",
    "#     for base1 in [\"A\", \"T\", \"G\", \"C\"]: \n",
    "#         for base2 in [\"A\", \"T\", \"G\", \"C\"]: \n",
    "#             triplet_leftadj = base1+base2+piece_leftadj\n",
    "#             if triplet_leftadj in model: \n",
    "#                 muts_leftadj.append(model[triplet_leftadj][0])\n",
    "#             else: \n",
    "#                 muts_leftadj.append(model[reverse_complement(triplet_leftadj)][0])\n",
    "#     #for triplets +1 reltive index \n",
    "    piece_rightadj = dna[1:3]\n",
    "    for base in [\"A\", \"T\", \"G\", \"C\"]: \n",
    "        triplet_rightadj = piece_rightadj+base \n",
    "        if triplet_rightadj in model: \n",
    "            muts_rightadj.append(model[triplet_rightadj][0])\n",
    "        else: \n",
    "            muts_rightadj.append(model[reverse_complement(triplet_rightadj)][0])\n",
    "#     #for triplets +2 relative index         \n",
    "#     piece_rightadj =  dna[2:3]\n",
    "#     for base1 in [\"A\", \"T\", \"G\", \"C\"]: \n",
    "#         for base2 in [\"A\", \"T\", \"G\", \"C\"]: \n",
    "#             triplet_rightadj =piece_rightadj+base1+base2\n",
    "#             if triplet_rightadj in model: \n",
    "#                 muts_rightadj.append(model[triplet_rightadj][0])\n",
    "#             else: \n",
    "#                 muts_rightadj.append(model[reverse_complement(triplet_rightadj)][0])\n",
    "\n",
    "    return (np.mean(muts_leftadj+muts_rightadj))\n"
   ]
  },
  {
   "cell_type": "markdown",
   "metadata": {},
   "source": [
    "** making the df ** "
   ]
  },
  {
   "cell_type": "code",
   "execution_count": 49,
   "metadata": {},
   "outputs": [],
   "source": [
    "plotting_df = pd.DataFrame(list(zip(triplets, muts, muts_log10, triplet_chnage_mean_intron, adj_both_1around_mut, precursor_mut_prob)), \n",
    "               columns =[\"trip\", \"muts\", \"muts_log10\", \"trip_chnage\", \"adj_mut\", \"precursor_mut\"]) "
   ]
  },
  {
   "cell_type": "markdown",
   "metadata": {},
   "source": [
    "## ** adjacent analysis ** "
   ]
  },
  {
   "cell_type": "code",
   "execution_count": 90,
   "metadata": {},
   "outputs": [
    {
     "data": {
      "image/png": "[encoded data removed]",
      "text/plain": [
       "<matplotlib.figure.Figure at 0x7f3d98282048>"
      ]
     },
     "metadata": {},
     "output_type": "display_data"
    }
   ],
   "source": [
    "plt.scatter(plotting_df.muts_log10, plotting_df.trip_chnage, s = 36, color = plotting_df.adj_mut, edgecolor = \"grey\", cmap = \"Greys\")\n",
    "plt.axhline(y = 0, linewidth = 0.25, color = \"k\")\n",
    "plt.xticks(rotation=45, size = 12)\n",
    "plt.yticks(size = 12)\n",
    "plt.xlabel(\"Mutability (log10)\", size = 14)\n",
    "plt.ylabel(\"Proportional triplet change\", size = 14)\n",
    "# plt.xlim(left = 0, right = 0.0004)\n",
    "\n",
    "#errobars\n",
    "# plt.errorbar(triplet_muts_intron_log10, triplet_chnage_mean_intron, yerr = np.array(triplet_chnage_std_intron), ecolor = \"grey\", ls = \"None\")\n",
    "\n",
    "plt.show()\n",
    "# timestamp = datetime.now().strftime(\"%Y/%m/%d_%H:%M:%S\").replace(\"/\", \"_\").replace(\":\", \"_\")\n",
    "# plt.tight_layout()\n",
    "# plt.savefig(\"plots/Scatter_{t}_{l}Mbp_{p}gens_log_adjMut.png\".format(p = gen_to_use, l = str(100000/1000000),t = timestamp))"
   ]
  },
  {
   "cell_type": "code",
   "execution_count": 87,
   "metadata": {},
   "outputs": [
    {
     "data": {
      "text/html": [
       "<div>\n",
       "<table border=\"1\" class=\"dataframe\">\n",
       "  <thead>\n",
       "    <tr style=\"text-align: right;\">\n",
       "      <th></th>\n",
       "      <th>trip</th>\n",
       "      <th>muts</th>\n",
       "      <th>muts_log10</th>\n",
       "      <th>trip_chnage</th>\n",
       "      <th>adj_mut</th>\n",
       "      <th>precursor_mut</th>\n",
       "    </tr>\n",
       "  </thead>\n",
       "  <tbody>\n",
       "    <tr>\n",
       "      <th>9</th>\n",
       "      <td>CTC</td>\n",
       "      <td>0.000015</td>\n",
       "      <td>-11.114237</td>\n",
       "      <td>-0.282573</td>\n",
       "      <td>0.000058</td>\n",
       "      <td>0.000015</td>\n",
       "    </tr>\n",
       "    <tr>\n",
       "      <th>12</th>\n",
       "      <td>GAG</td>\n",
       "      <td>0.000015</td>\n",
       "      <td>-11.129233</td>\n",
       "      <td>-0.254783</td>\n",
       "      <td>0.000060</td>\n",
       "      <td>0.000016</td>\n",
       "    </tr>\n",
       "    <tr>\n",
       "      <th>20</th>\n",
       "      <td>TTC</td>\n",
       "      <td>0.000014</td>\n",
       "      <td>-11.187263</td>\n",
       "      <td>0.193381</td>\n",
       "      <td>0.000052</td>\n",
       "      <td>0.000010</td>\n",
       "    </tr>\n",
       "    <tr>\n",
       "      <th>22</th>\n",
       "      <td>GAC</td>\n",
       "      <td>0.000017</td>\n",
       "      <td>-10.954671</td>\n",
       "      <td>-0.308227</td>\n",
       "      <td>0.000105</td>\n",
       "      <td>0.000012</td>\n",
       "    </tr>\n",
       "    <tr>\n",
       "      <th>56</th>\n",
       "      <td>AAC</td>\n",
       "      <td>0.000020</td>\n",
       "      <td>-10.835528</td>\n",
       "      <td>0.474294</td>\n",
       "      <td>0.000069</td>\n",
       "      <td>0.000015</td>\n",
       "    </tr>\n",
       "    <tr>\n",
       "      <th>62</th>\n",
       "      <td>GAA</td>\n",
       "      <td>0.000013</td>\n",
       "      <td>-11.235412</td>\n",
       "      <td>0.287887</td>\n",
       "      <td>0.000054</td>\n",
       "      <td>0.000010</td>\n",
       "    </tr>\n",
       "  </tbody>\n",
       "</table>\n",
       "</div>"
      ],
      "text/plain": [
       "   trip      muts  muts_log10  trip_chnage   adj_mut  precursor_mut\n",
       "9   CTC  0.000015  -11.114237    -0.282573  0.000058       0.000015\n",
       "12  GAG  0.000015  -11.129233    -0.254783  0.000060       0.000016\n",
       "20  TTC  0.000014  -11.187263     0.193381  0.000052       0.000010\n",
       "22  GAC  0.000017  -10.954671    -0.308227  0.000105       0.000012\n",
       "56  AAC  0.000020  -10.835528     0.474294  0.000069       0.000015\n",
       "62  GAA  0.000013  -11.235412     0.287887  0.000054       0.000010"
      ]
     },
     "execution_count": 87,
     "metadata": {},
     "output_type": "execute_result"
    }
   ],
   "source": [
    "plotting_df[(plotting_df.adj_mut > 0.00005)&(plotting_df.muts < 0.00002)]"
   ]
  },
  {
   "cell_type": "markdown",
   "metadata": {},
   "source": [
    "** so GAC is low mut (-10.9is log) but decreases in freq (to half initial freq) as ACG adjacent mutates often destroying GAC **"
   ]
  },
  {
   "cell_type": "code",
   "execution_count": 76,
   "metadata": {},
   "outputs": [
    {
     "data": {
      "image/png": "[encoded data removed]",
      "text/plain": [
       "<matplotlib.figure.Figure at 0x7f3d983188d0>"
      ]
     },
     "metadata": {},
     "output_type": "display_data"
    }
   ],
   "source": [
    "plt.hist(plotting_df.adj_mut)\n",
    "plt.show()"
   ]
  },
  {
   "cell_type": "code",
   "execution_count": 92,
   "metadata": {},
   "outputs": [],
   "source": [
    "# recall that non-cpg variation fromt he human mutability analysis notebook \n",
    "noncpg_min = 1.3198444035923253e-05\n",
    "noncpg_max = 4.9361488694784825e-05"
   ]
  },
  {
   "cell_type": "code",
   "execution_count": 108,
   "metadata": {},
   "outputs": [
    {
     "name": "stdout",
     "output_type": "stream",
     "text": [
      "GAC is within the lowest 0.11829049585121945 % mut in or model\n"
     ]
    }
   ],
   "source": [
    "print(\"GAC is within the lowest\", (model[\"GAC\"][0]-noncpg_min)/(noncpg_max - noncpg_min), \"% mut in or model\")"
   ]
  },
  {
   "cell_type": "markdown",
   "metadata": {},
   "source": [
    "## ** precursor analysis** "
   ]
  },
  {
   "cell_type": "code",
   "execution_count": 64,
   "metadata": {},
   "outputs": [
    {
     "data": {
      "image/png": "[encoded data removed]",
      "text/plain": [
       "<matplotlib.figure.Figure at 0x7f3d983a4320>"
      ]
     },
     "metadata": {},
     "output_type": "display_data"
    }
   ],
   "source": [
    "plt.scatter(plotting_df.muts_log10, plotting_df.trip_chnage, s = 36, color = plotting_df.precursor_mut, edgecolor = \"grey\", cmap = \"Greys\")\n",
    "plt.axhline(y = 0, linewidth = 0.25, color = \"k\")\n",
    "plt.xticks(rotation=45, size = 12)\n",
    "plt.yticks(size = 12)\n",
    "plt.xlabel(\"Mutability (log10)\", size = 14)\n",
    "plt.ylabel(\"Proportional triplet change\", size = 14)\n",
    "# plt.xlim(left = 0, right = 0.0004)\n",
    "\n",
    "#errobars\n",
    "# plt.errorbar(triplet_muts_intron_log10, triplet_chnage_mean_intron, yerr = np.array(triplet_chnage_std_intron), ecolor = \"grey\", ls = \"None\")\n",
    "\n",
    "plt.show()\n",
    "# timestamp = datetime.now().strftime(\"%Y/%m/%d_%H:%M:%S\").replace(\"/\", \"_\").replace(\":\", \"_\")\n",
    "# plt.tight_layout()\n",
    "# plt.savefig(\"plots/Scatter_{t}_{l}Mbp_{p}gens_log_precursorMut.png\".format(p = gen_to_use, l = str(100000/1000000),t = timestamp))"
   ]
  },
  {
   "cell_type": "code",
   "execution_count": 75,
   "metadata": {},
   "outputs": [],
   "source": [
    "# precursor_mut_tripEx = [\"ATG\", \"CAT\"]\n",
    "\n",
    "# for triplet in precursor_mut_tripEx: \n",
    "#     for base in bases: \n",
    "#         precursor_trip = triplet[0]+base+triplet[2]\n",
    "#         if triplet != precursor_trip: \n",
    "#             print(triplet, model[triplet][0], precursor_trip, model[precursor_trip][0], model[precursor_trip][1][triplet])"
   ]
  },
  {
   "cell_type": "code",
   "execution_count": 74,
   "metadata": {},
   "outputs": [],
   "source": [
    "# for key, value in model.items(): \n",
    "#     if \"CG\" in key: \n",
    "#         print(key, value)"
   ]
  },
  {
   "cell_type": "markdown",
   "metadata": {},
   "source": [
    "** so the triplets are CAT and ATG for precursor example** \n",
    "- they are the most liekly (90%) offsrping of CpG mutators (the most mutable CpGs too) "
   ]
  },
  {
   "cell_type": "code",
   "execution_count": 106,
   "metadata": {},
   "outputs": [
    {
     "name": "stdout",
     "output_type": "stream",
     "text": [
      "CAT is within the hgihest 0.18929104176733502 % mut in or model\n"
     ]
    }
   ],
   "source": [
    "print(\"CAT is within the hgihest\", (noncpg_max-model[\"CAT\"][0])/(noncpg_max - noncpg_min), \"% mut in or model\")"
   ]
  },
  {
   "cell_type": "code",
   "execution_count": 109,
   "metadata": {},
   "outputs": [
    {
     "name": "stdout",
     "output_type": "stream",
     "text": [
      "ATG is within the hgihest 0.24176561344998782 % mut in or model\n"
     ]
    }
   ],
   "source": [
    "print(\"ATG is within the hgihest\", (noncpg_max-model[\"ATG\"][0])/(noncpg_max - noncpg_min), \"% mut in or model\")"
   ]
  },
  {
   "cell_type": "code",
   "execution_count": 103,
   "metadata": {},
   "outputs": [
    {
     "data": {
      "text/plain": [
       "4.9361488694784825e-05"
      ]
     },
     "execution_count": 103,
     "metadata": {},
     "output_type": "execute_result"
    }
   ],
   "source": [
    "noncpg_max"
   ]
  },
  {
   "cell_type": "code",
   "execution_count": 110,
   "metadata": {},
   "outputs": [
    {
     "data": {
      "text/plain": [
       "([4.251614829783026e-05,\n",
       "  {'CCT': 0.13864306784660768,\n",
       "   'CGT': 0.7130214917825537,\n",
       "   'CTT': 0.1483354403708386}],\n",
       " [4.061850801861585e-05,\n",
       "  {'AAG': 0.15121951219512195,\n",
       "   'ACG': 0.720620842572062,\n",
       "   'AGG': 0.12815964523281598}])"
      ]
     },
     "execution_count": 110,
     "metadata": {},
     "output_type": "execute_result"
    }
   ],
   "source": [
    "model[\"CAT\"], model[\"ATG\"]"
   ]
  },
  {
   "cell_type": "code",
   "execution_count": 111,
   "metadata": {},
   "outputs": [
    {
     "data": {
      "text/plain": [
       "1.3198444035923253e-05"
      ]
     },
     "execution_count": 111,
     "metadata": {},
     "output_type": "execute_result"
    }
   ],
   "source": [
    "noncpg_min"
   ]
  },
  {
   "cell_type": "code",
   "execution_count": 112,
   "metadata": {},
   "outputs": [
    {
     "data": {
      "text/plain": [
       "0.18156424581005595"
      ]
     },
     "execution_count": 112,
     "metadata": {},
     "output_type": "execute_result"
    }
   ],
   "source": [
    "(4.9-4.25)/(4.9-1.32)"
   ]
  },
  {
   "cell_type": "code",
   "execution_count": null,
   "metadata": {},
   "outputs": [],
   "source": []
  },
  {
   "cell_type": "code",
   "execution_count": null,
   "metadata": {},
   "outputs": [],
   "source": []
  },
  {
   "cell_type": "code",
   "execution_count": null,
   "metadata": {},
   "outputs": [],
   "source": []
  },
  {
   "cell_type": "code",
   "execution_count": null,
   "metadata": {},
   "outputs": [],
   "source": []
  },
  {
   "cell_type": "code",
   "execution_count": null,
   "metadata": {},
   "outputs": [],
   "source": []
  },
  {
   "cell_type": "code",
   "execution_count": null,
   "metadata": {},
   "outputs": [],
   "source": []
  }
 ],
 "metadata": {
  "kernelspec": {
   "display_name": "Python 3",
   "language": "python",
   "name": "python3"
  },
  "language_info": {
   "codemirror_mode": {
    "name": "ipython",
    "version": 3
   },
   "file_extension": ".py",
   "mimetype": "text/x-python",
   "name": "python",
   "nbconvert_exporter": "python",
   "pygments_lexer": "ipython3",
   "version": "3.8.5"
  }
 },
 "nbformat": 4,
 "nbformat_minor": 4
}
