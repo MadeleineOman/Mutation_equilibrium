{
 "cells": [
  {
   "cell_type": "code",
   "execution_count": null,
   "metadata": {},
   "outputs": [],
   "source": [
    "exons_to_use"
   ]
  },
  {
   "cell_type": "code",
   "execution_count": 17,
   "metadata": {},
   "outputs": [
    {
     "name": "stdout",
     "output_type": "stream",
     "text": [
      "100%|█████████████████████████████████████████| 100/100 [00:06<00:00, 16.58it/s]\n"
     ]
    }
   ],
   "source": [
    "!python3.5 Script_reset_DNA.py Files_to_use_for_parallel 100 >> Files_to_use_for_parallel_aboutTheDNA.txt"
   ]
  },
  {
   "cell_type": "code",
   "execution_count": 16,
   "metadata": {},
   "outputs": [
    {
     "name": "stdout",
     "output_type": "stream",
     "text": [
      "total number of CDS where len >= 4k is 3473\n",
      "100%|█████████████████████████████████████████| 100/100 [00:06<00:00, 15.87it/s]\n"
     ]
    }
   ],
   "source": [
    "!python3.5 Script_reuse_DNA.py Parallel_Trial{} 600000 Scripting_data/Files_to_use_for_parallel_DNA_gen0_cds.txt Scripting_data/Files_to_use_for_parallel_DNA_map_cds_invariant50.txt"
   ]
  },
  {
   "cell_type": "code",
   "execution_count": null,
   "metadata": {},
   "outputs": [
    {
     "name": "stdout",
     "output_type": "stream",
     "text": [
      "total number of CDS where len >= 4k is 3473\n",
      "total number of CDS where len >= 4k is 3473\n",
      "total number of CDS where len >= 4k is 3473\n",
      "total number of CDS where len >= 4k is 3473\n",
      "total number of CDS where len >= 4k is 3473\n",
      "  0%|                                                | 0/600000 [00:00<?, ?it/s]total number of CDS where len >= 4k is 3473\n",
      "total number of CDS where len >= 4k is 3473\n",
      "total number of CDS where len >= 4k is 3473\n",
      "total number of CDS where len >= 4k is 3473\n",
      "  0%|                                     | 2/600000 [00:00<12:27:33, 13.38it/s]total number of CDS where len >= 4k is 3473\n",
      "total number of CDS where len >= 4k is 3473\n",
      "  0%|                                     | 2/600000 [00:00<12:27:30, 13.38it/s]total number of CDS where len >= 4k is 3473\n",
      "  0%|                                   | 176/600000 [00:11<10:59:29, 15.16it/s]"
     ]
    }
   ],
   "source": [
    "!parallel -j 12 -i sh -c \"python3.5 Script_reuse_DNA.py Parallel_Trial{} 600000 Scripting_data/Files_to_use_for_parallel_DNA_gen0_cds.txt Scripting_data/Files_to_use_for_parallel_DNA_map_cds_invariant50.txt\" -- {1..12}"
   ]
  },
  {
   "cell_type": "code",
   "execution_count": 22,
   "metadata": {},
   "outputs": [],
   "source": [
    "!rm Scripting_data/Parallel*"
   ]
  },
  {
   "cell_type": "code",
   "execution_count": null,
   "metadata": {},
   "outputs": [],
   "source": [
    "!parallel -j 12 -i sh -c \"python3.5 Script_reset_DNA.py Parallel_Trial{} 600000 \" -- {1..5}"
   ]
  },
  {
   "cell_type": "markdown",
   "metadata": {},
   "source": [
    "** dont listen to this (below), its running, there was text when I first ran it and the server is loaded** "
   ]
  },
  {
   "cell_type": "code",
   "execution_count": null,
   "metadata": {},
   "outputs": [],
   "source": [
    "parallel -j 12 -i sh -c \"python3.5 Script_reuse_DNA.py Parallel_Trial{} 600000 Scripting_data/Files_to_use_for_parallel_DNA_gen0_cds.txt Scripting_data/Files_to_use_for_parallel_DNA_map_cds_invariant50.txt\" -- {11..30}"
   ]
  },
  {
   "cell_type": "code",
   "execution_count": 28,
   "metadata": {},
   "outputs": [],
   "source": [
    "tmp_gen0_dna = open(\"Scripting_data/Files_to_use_for_parallel_DNA_map_cds_invariant50.txt\").readlines()[0]"
   ]
  },
  {
   "cell_type": "code",
   "execution_count": 30,
   "metadata": {},
   "outputs": [
    {
     "data": {
      "text/plain": [
       "'32033332313012033332313313312033312333032012033312'"
      ]
     },
     "execution_count": 30,
     "metadata": {},
     "output_type": "execute_result"
    }
   ],
   "source": [
    "tmp_gen0_dna[-50:]"
   ]
  },
  {
   "cell_type": "code",
   "execution_count": null,
   "metadata": {},
   "outputs": [],
   "source": [
    "!parallel -j 12 -i sh -c \"python3.5 Script_reuse_DNA.py Parallel_Trial{} 600000 Scripting_data/Files_to_use_for_parallel_DNA_gen0_cds.txt Scripting_data/Files_to_use_for_parallel_DNA_map_cds_invariant50.txt\" -- {1..12}"
   ]
  },
  {
   "cell_type": "code",
   "execution_count": 1,
   "metadata": {},
   "outputs": [
    {
     "name": "stdout",
     "output_type": "stream",
     "text": [
      "total number of CDS where len >= 4k is 3473\n",
      "100%|█████████████████████████████████████████| 600/600 [00:37<00:00, 16.14it/s]\n"
     ]
    }
   ],
   "source": [
    "!python3.5 Script_reuse_DNA.py Parallel_Trial1 600 Scripting_data/Files_to_use_for_parallel_DNA_gen0_cds.txt Scripting_data/Files_to_use_for_parallel_DNA_map_cds_invariant50.txt"
   ]
  },
  {
   "cell_type": "code",
   "execution_count": 2,
   "metadata": {},
   "outputs": [],
   "source": [
    "tmp_gen0 = open(\"Scripting_data/Files_to_use_for_parallel_DNA_gen0_cds.txt\").readlines()[0]\n",
    "tmp_final = open(\"Scripting_data_trial2/Parallel_Trial1_DNA_final_cds_invariant50.txt\").readlines()[0]\n",
    "\n",
    "\n"
   ]
  },
  {
   "cell_type": "code",
   "execution_count": 3,
   "metadata": {},
   "outputs": [],
   "source": [
    "count = sum(1 for a, b in zip(tmp_gen0, tmp_final) if a != b)"
   ]
  },
  {
   "cell_type": "code",
   "execution_count": 4,
   "metadata": {},
   "outputs": [
    {
     "data": {
      "text/plain": [
       "398"
      ]
     },
     "execution_count": 4,
     "metadata": {},
     "output_type": "execute_result"
    }
   ],
   "source": [
    "count"
   ]
  },
  {
   "cell_type": "code",
   "execution_count": 15,
   "metadata": {},
   "outputs": [
    {
     "name": "stdout",
     "output_type": "stream",
     "text": [
      "100%|█████████████████████████████████████████| 600/600 [00:38<00:00, 15.39it/s]\n"
     ]
    }
   ],
   "source": [
    "!python3.5 Script_reset_DNA.py DifDNA_Trial1 600 > Scripting_data_trial2/DifDNA_Trial1_stdout.txt"
   ]
  },
  {
   "cell_type": "code",
   "execution_count": 12,
   "metadata": {},
   "outputs": [],
   "source": [
    "tmp_gen01 = open(\"Scripting_data_trial2/DifDNA_Trial1_DNA_gen0_cds.txt\").readlines()[0]\n",
    "tmp_final1 = open(\"Scripting_data_trial2/DifDNA_Trial1_DNA_final_cds_invariant50.txt\").readlines()[0]\n",
    "\n",
    "\n"
   ]
  },
  {
   "cell_type": "code",
   "execution_count": 13,
   "metadata": {},
   "outputs": [],
   "source": [
    "count = sum(1 for a, b in zip(tmp_gen01, tmp_final1) if a != b)"
   ]
  },
  {
   "cell_type": "code",
   "execution_count": 14,
   "metadata": {},
   "outputs": [
    {
     "data": {
      "text/plain": [
       "399"
      ]
     },
     "execution_count": 14,
     "metadata": {},
     "output_type": "execute_result"
    }
   ],
   "source": [
    "count"
   ]
  },
  {
   "cell_type": "markdown",
   "metadata": {},
   "source": [
    "** 2020/08/06** redoing whole simulation (dont worry they ARE running) "
   ]
  },
  {
   "cell_type": "code",
   "execution_count": null,
   "metadata": {},
   "outputs": [],
   "source": [
    "!parallel -j 12 -i sh -c \"python3.5 Script_reuse_DNA.py Parallel_Trial{} 600000 Scripting_data/Files_to_use_for_parallel_DNA_gen0_cds.txt Scripting_data/Files_to_use_for_parallel_DNA_map_cds_invariant50.txt > Scripting_data_trial2/SameDNA_Trial{}_stdout.txt\" -- {1..12}"
   ]
  },
  {
   "cell_type": "code",
   "execution_count": null,
   "metadata": {},
   "outputs": [],
   "source": [
    "!parallel -j 12 -i sh -c \"python3.5 Script_reset_DNA.py DifDNA_Trial{} 600000 > Scripting_data_trial2/DifDNA_trial{}_stdout.txt\" -- {1..12}"
   ]
  },
  {
   "cell_type": "markdown",
   "metadata": {},
   "source": [
    "tmp_length_sim = open(\"Scrip\")"
   ]
  },
  {
   "cell_type": "code",
   "execution_count": null,
   "metadata": {},
   "outputs": [],
   "source": [
    "2+2"
   ]
  },
  {
   "cell_type": "markdown",
   "metadata": {},
   "source": [
    "** 2020/08/12 ** running more off of previous (cininuing for longer) "
   ]
  },
  {
   "cell_type": "code",
   "execution_count": null,
   "metadata": {},
   "outputs": [],
   "source": [
    "#contunuing off of previous \n",
    "!parallel -j 12 -i sh -c \"python3.5 Script_reuse_DNA.py DifDNA_Trial{}_cont 600000 Scripting_data_trial2/DifDNA_Trial{}_DNA_final_cds_invariant50.txt Scripting_data_trial2/DifDNA_Trial{}_DNA_map_cds_invariant50.txt > Scripting_data_trial2/DifDNA_Trial{}_stdout_cont.txt\" -- {1..12}\n",
    "#rna this one using mobaxterm though as the one below froze this fcki notebook. "
   ]
  },
  {
   "cell_type": "code",
   "execution_count": null,
   "metadata": {},
   "outputs": [],
   "source": [
    "#rredoing the sliding window anohter \n",
    "!parallel -j 6 -i sh -c \"python3.5 Script_reuse_DNA.py Parallel_redo_Trial{} 600000 Scripting_data_trial2/DifDNA_Trial2_DNA_gen0_cds.txt Scripting_data_trial2/DifDNA_Trial2_DNA_map_cds_invariant50.txt > Scripting_data_trial2/SameDNA_Trial{}_stdout_cont.txt\" -- {1..5}"
   ]
  },
  {
   "cell_type": "code",
   "execution_count": null,
   "metadata": {},
   "outputs": [],
   "source": [
    "# dw thetr eboth running as of 10:50 am 2020/08/12 --> should be done tomorrow night in time for analysis "
   ]
  },
  {
   "cell_type": "markdown",
   "metadata": {},
   "source": [
    "** running codon usage bias sim ** "
   ]
  },
  {
   "cell_type": "code",
   "execution_count": 21,
   "metadata": {},
   "outputs": [
    {
     "data": {
      "text/plain": [
       "4"
      ]
     },
     "execution_count": 21,
     "metadata": {},
     "output_type": "execute_result"
    }
   ],
   "source": [
    "2+2"
   ]
  },
  {
   "cell_type": "code",
   "execution_count": null,
   "metadata": {},
   "outputs": [],
   "source": [
    "python3.5 Script_reuse_DNAoutput_every_100kgen.py CodonUsage_Trial{} 100 Scripting_data_trial2/CodingUsage_DNA_gen0.txt Scripting_data_trial2/CodingUsage_DNA_map.txt "
   ]
  },
  {
   "cell_type": "code",
   "execution_count": null,
   "metadata": {},
   "outputs": [],
   "source": [
    "parallel -j 10 -i sh -c \"python3.5 Script_reuse_DNAoutput_every_100kgen.py CodonUsage_Trial{} 800000 Scripting_data_trial2/CodingUsage_DNA_gen0.txt Scripting_data_trial2/CodingUsage_DNA_map.txt\" -- {1..9}           "
   ]
  },
  {
   "cell_type": "markdown",
   "metadata": {},
   "source": [
    "** 2020/08/12 rerunning prev sims with better invariant sites ** "
   ]
  },
  {
   "cell_type": "code",
   "execution_count": null,
   "metadata": {},
   "outputs": [],
   "source": [
    "parallel -j 12 -i sh -c \"python3.5 Script_reset_DNAoutput_every_100kgen_proper_invariant.py DifDNA_invarCodon_Trial{} 1000000 > Scripting_data_trial2/2020_08_12_invariant_redo/DifDNA_invarCodon_stdOut.txt\" -- {1..10}           "
   ]
  },
  {
   "cell_type": "code",
   "execution_count": null,
   "metadata": {},
   "outputs": [],
   "source": [
    "parallel -j 10 -i sh -c \"python3.5 Script_reuse_DNAoutput_every_100kgen.py CodonUsage_Trial{} 800000 Scripting_data_trial2/CodingUsage_DNA_gen0.txt Scripting_data_trial2/CodingUsage_DNA_map.txt\" -- {1..9}           "
   ]
  },
  {
   "cell_type": "code",
   "execution_count": null,
   "metadata": {},
   "outputs": [],
   "source": [
    "parallel -j 10 -i sh -c \"python3.5 Script_reuse_DNAoutput_every_100kgen.py SameDNA_invarCodon_Trial{} 1000000 Scripting_data_trial2/DifDNA_Trial2_DNA_gen0_cds.txt Scripting_data_trial2/DifDNA_Trial2_DNA_map_cds_invariant50.txt > Scripting_data_trial2/2020_08_12_invariant_redo/SameDNA_Trial{}_stdout_cont.txt\" -- {1..10}"
   ]
  },
  {
   "cell_type": "markdown",
   "metadata": {},
   "source": [
    "** 2020/08/12 simple sim ** "
   ]
  },
  {
   "cell_type": "code",
   "execution_count": null,
   "metadata": {},
   "outputs": [],
   "source": [
    "parallel -j 3 -i sh -c \"python3.5 Script_intronicOnly_simpleMutPattern.py DifDNA_invarCodon_Trial{} > Scripting_data_trial3_simple/SimpleSim_stdOut.txt\" -- {1..1000}           "
   ]
  },
  {
   "cell_type": "markdown",
   "metadata": {},
   "source": [
    "** 2020/09/08 simple sim count muts no intoprobs ** "
   ]
  },
  {
   "cell_type": "code",
   "execution_count": null,
   "metadata": {},
   "outputs": [],
   "source": [
    "parallel -j 3 -i sh -c \"python3.5 Script_intronicOnly_simpleMutPattern_noIntoWeights_countMuts.py Trial{} > Scripting_data_trial5_simple_noWeights_countMuts/SimpleSim_stdOut_{}.txt\" -- {1..1000}           "
   ]
  }
 ],
 "metadata": {
  "kernelspec": {
   "display_name": "Python 3 (ipykernel)",
   "language": "python",
   "name": "python3"
  },
  "language_info": {
   "codemirror_mode": {
    "name": "ipython",
    "version": 3
   },
   "file_extension": ".py",
   "mimetype": "text/x-python",
   "name": "python",
   "nbconvert_exporter": "python",
   "pygments_lexer": "ipython3",
   "version": "3.9.6"
  }
 },
 "nbformat": 4,
 "nbformat_minor": 4
}
