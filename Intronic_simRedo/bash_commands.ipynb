{
 "cells": [
  {
   "cell_type": "markdown",
   "metadata": {},
   "source": [
    "** 2020.12.02 simpel sims need alooog ass dna strand to get genome vs sim triplets ** "
   ]
  },
  {
   "cell_type": "code",
   "execution_count": null,
   "metadata": {},
   "outputs": [
    {
     "name": "stdout",
     "output_type": "stream",
     "text": [
      "  0%|                                    | 201/500000 [00:02<1:44:48, 79.48it/s]"
     ]
    }
   ],
   "source": [
    "!parallel -j 10 -i sh -c \"python3.5 script_redoSim_2020_12_03.py Trial{} 50000 10 > data/Trial{}_stdOut.txt\" -- {1..101}           "
   ]
  },
  {
   "cell_type": "markdown",
   "metadata": {},
   "source": [
    "**2021 04 17 redo with 2x coverage and a new parallel module (since server update) and had to chnage the script ot match**"
   ]
  },
  {
   "cell_type": "code",
   "execution_count": 28,
   "metadata": {},
   "outputs": [
    {
     "name": "stdout",
     "output_type": "stream",
     "text": [
      "100%|██████████| 2000/2000 [00:00<00:00, 2964.61it/s]\n",
      "100%|██████████| 2000/2000 [00:00<00:00, 2938.24it/s]\n",
      "100%|██████████| 2000/2000 [00:00<00:00, 2880.35it/s]\n",
      "100%|██████████| 2000/2000 [00:00<00:00, 2706.94it/s]\n",
      "100%|██████████| 2000/2000 [00:00<00:00, 2663.49it/s]\n",
      "100%|██████████| 2000/2000 [00:00<00:00, 2638.31it/s]\n",
      "100%|██████████| 2000/2000 [00:00<00:00, 2621.77it/s]\n",
      "100%|██████████| 2000/2000 [00:00<00:00, 2612.13it/s]\n",
      "100%|██████████| 2000/2000 [00:00<00:00, 2457.15it/s]\n",
      "100%|██████████| 2000/2000 [00:00<00:00, 2487.04it/s]\n"
     ]
    }
   ],
   "source": [
    "!seq 10 | parallel python script_redoSim_2021_04_18_outputDNA_counts_newParallel.py cov2x_2021_04_18_Trial 100000 [0,0.1,2]\n",
    "\n"
   ]
  },
  {
   "cell_type": "markdown",
   "metadata": {},
   "source": [
    "**2021 04 21 red the 2x coverage printing out the count dict at same time as the dna**"
   ]
  },
  {
   "cell_type": "code",
   "execution_count": null,
   "metadata": {},
   "outputs": [],
   "source": [
    "!seq 10 | parallel python script_redoSim_2021_04_18_outputDNA_counts_newParallel.py cov2x_2021_04_18_Trial 100000 [0,0.1,2]"
   ]
  }
 ],
 "metadata": {
  "kernelspec": {
   "display_name": "Python 3",
   "language": "python",
   "name": "python3"
  },
  "language_info": {
   "codemirror_mode": {
    "name": "ipython",
    "version": 3
   },
   "file_extension": ".py",
   "mimetype": "text/x-python",
   "name": "python",
   "nbconvert_exporter": "python",
   "pygments_lexer": "ipython3",
   "version": "3.9.2"
  }
 },
 "nbformat": 4,
 "nbformat_minor": 4
}
