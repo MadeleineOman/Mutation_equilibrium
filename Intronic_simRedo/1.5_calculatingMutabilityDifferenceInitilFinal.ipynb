{
 "cells": [
  {
   "cell_type": "markdown",
   "id": "a90f53fd-87ae-42a9-a94d-75327a19c8fa",
   "metadata": {},
   "source": [
    "# **calcuating the difference between inital and final mutability of random dna**"
   ]
  },
  {
   "cell_type": "code",
   "execution_count": 19,
   "id": "2446a3f4-0136-4623-90a1-fafae3c5349e",
   "metadata": {},
   "outputs": [],
   "source": [
    "import json \n",
    "import numpy as np"
   ]
  },
  {
   "cell_type": "code",
   "execution_count": 14,
   "id": "84d9bc5a-0173-47d3-b76d-a72fba87b6d5",
   "metadata": {},
   "outputs": [],
   "source": [
    "model = json.load(open(\"../Human_mutability_model/Model_2020_12_02_genomeWide.txt\"))"
   ]
  },
  {
   "cell_type": "code",
   "execution_count": 20,
   "id": "b72eaf95-66f0-4167-9748-fc4a48bd81b7",
   "metadata": {},
   "outputs": [],
   "source": [
    "ntrial = 10\n",
    "dnaI_trialsmuts_list  = []\n",
    "dnaF_trialsmuts_list = []\n",
    "for trial in range(1, ntrial): \n",
    "    dna_i = open(\"data/cov2x_2021_04_18_Trial{}_DNA_0.txt\".format(trial)).readlines()[0]\n",
    "    dna_f= open(\"data/cov2x_2021_04_18_Trial{}_DNA_199999.txt\".format(trial)).readlines()[0]\n",
    "    assert(len(dna_f)==len(dna_i))\n",
    "    muts_i_list = []\n",
    "    muts_f_list = []\n",
    "    for i in range(1, len(dna_f)-1): \n",
    "        triplet_i = dna_i[i-1:i+2]\n",
    "        mut_i = model[triplet_i][0]\n",
    "        muts_i_list.append(mut_i)\n",
    "        \n",
    "        triplet_f = dna_f[i-1:i+2]\n",
    "        mut_f = model[triplet_f][0]\n",
    "        muts_f_list.append(mut_f)\n",
    "    dnaI_trialsmuts_list.append(np.mean(muts_i_list))\n",
    "    dnaF_trialsmuts_list.append(np.mean(muts_f_list))"
   ]
  },
  {
   "cell_type": "code",
   "execution_count": 22,
   "id": "bc91e62d-0a08-4c41-b6f4-8cd297d483a2",
   "metadata": {},
   "outputs": [
    {
     "data": {
      "text/plain": [
       "(6.134563791239381e-05, 2.929813126875468e-05, -0.5224088905784203)"
      ]
     },
     "execution_count": 22,
     "metadata": {},
     "output_type": "execute_result"
    }
   ],
   "source": [
    "np.mean(dnaI_trialsmuts_list), np.mean(dnaF_trialsmuts_list), (np.mean(dnaF_trialsmuts_list)-np.mean(dnaI_trialsmuts_list))/np.mean(dnaI_trialsmuts_list)"
   ]
  },
  {
   "cell_type": "code",
   "execution_count": 23,
   "id": "88dcbdd5-8501-4821-8e73-b5d2a51d424f",
   "metadata": {},
   "outputs": [
    {
     "data": {
      "text/plain": [
       "(2.5528153328456813e-08, 1.0375406209888884e-08)"
      ]
     },
     "execution_count": 23,
     "metadata": {},
     "output_type": "execute_result"
    }
   ],
   "source": [
    "np.std(dnaI_trialsmuts_list)/10, np.std(dnaF_trialsmuts_list)/10"
   ]
  }
 ],
 "metadata": {
  "kernelspec": {
   "display_name": "Python [conda env:.conda-mutEq]",
   "language": "python",
   "name": "conda-env-.conda-mutEq-py"
  },
  "language_info": {
   "codemirror_mode": {
    "name": "ipython",
    "version": 3
   },
   "file_extension": ".py",
   "mimetype": "text/x-python",
   "name": "python",
   "nbconvert_exporter": "python",
   "pygments_lexer": "ipython3",
   "version": "3.9.6"
  }
 },
 "nbformat": 4,
 "nbformat_minor": 5
}
