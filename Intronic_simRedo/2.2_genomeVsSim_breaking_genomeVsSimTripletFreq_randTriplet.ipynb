{
 "cells": [
  {
   "cell_type": "markdown",
   "metadata": {},
   "source": [
    "# ** BREAKING THE GENOME TRIP FREQ VS SIM ** "
   ]
  },
  {
   "cell_type": "code",
   "execution_count": 1,
   "metadata": {},
   "outputs": [],
   "source": [
    "from numpy.random import choice\n",
    "from tqdm import tqdm\n",
    "import matplotlib.pyplot as plt\n",
    "from datetime import datetime\n",
    "import numpy as np \n",
    "import json\n",
    "import random\n",
    "import copy "
   ]
  },
  {
   "cell_type": "code",
   "execution_count": 2,
   "metadata": {},
   "outputs": [],
   "source": [
    "def base_to_mutate(DNA, current_weights, indices): \n",
    "    \"\"\"\n",
    "    (DNA: str, weights: Dict) -> int\n",
    "    \n",
    "    Will return the index of a random choice of a base that will be mutated based on probabilities given by the\n",
    "    weights dictionary (i.e. the model)\n",
    "    ex. \"ATCGTA\" --> index 3 (\"G\") will mutate\n",
    "    \"\"\"\n",
    "\n",
    "    # NORMALIZE THE POPULATION OF WEIGHTS    \n",
    "    total_freq = sum(current_weights) - current_weights[0] - current_weights[-1] # remove the start and end weight\n",
    "    normalized_weights = [\"error\"]*len(current_weights)\n",
    "    for index, value in enumerate(current_weights):\n",
    "        normalized_weights[index] = value/total_freq \n",
    "    \n",
    "    normalized_weights[0] = 0\n",
    "    normalized_weights[-1] = 0\n",
    "    # DRAW THE INDEX OF THE BASE THAT WILL BE MUTATED\n",
    "    base_index = choice(indices, p=normalized_weights) \n",
    "    \n",
    "\n",
    "    # RETURN THE INDEX\n",
    "    return base_index  \n",
    "\n",
    "\n"
   ]
  },
  {
   "cell_type": "code",
   "execution_count": 4,
   "metadata": {},
   "outputs": [],
   "source": [
    "model0 = json.load(open(\"../Human_mutability_model/Model_2020_12_02_genomeWide.txt\"))"
   ]
  },
  {
   "cell_type": "code",
   "execution_count": 5,
   "metadata": {},
   "outputs": [],
   "source": [
    "mut_dict = json.load(open(\"../Human_mutability_model/MutDict_2020_12_10.txt\"))"
   ]
  },
  {
   "cell_type": "code",
   "execution_count": 6,
   "metadata": {},
   "outputs": [],
   "source": [
    "triplet_genome_dict = json.load(open(\"../HumanTripletCounts/GenomeTripletCounts_2020_12_02_genomeWide.txt\"))"
   ]
  },
  {
   "cell_type": "code",
   "execution_count": 8,
   "metadata": {},
   "outputs": [],
   "source": [
    "triplets = []\n",
    "muts_count = []\n",
    "triplet_genomeCount = []\n",
    "for key in mut_dict.keys(): \n",
    "    triplets.append(key)\n",
    "    muts_count.append(mut_dict[key][0])\n",
    "    triplet_genomeCount.append(triplet_genome_dict[key])"
   ]
  },
  {
   "cell_type": "markdown",
   "metadata": {},
   "source": [
    "** making the model with same # muts but different # trips (genome wide random sample) ** "
   ]
  },
  {
   "cell_type": "code",
   "execution_count": 10,
   "metadata": {},
   "outputs": [],
   "source": [
    "randNtriplets = random.sample(triplet_genomeCount, k=len(triplet_genomeCount))"
   ]
  },
  {
   "cell_type": "code",
   "execution_count": 17,
   "metadata": {},
   "outputs": [],
   "source": [
    "model2 = {}\n",
    "for triplet,Nmut,randNtrip in zip(triplets, muts_count, randNtriplets): \n",
    "    newMutability = Nmut/int(randNtrip)\n",
    "    into_dict = {}\n",
    "    for into_trip, into_count in mut_dict[triplet][1].items(): \n",
    "        into_dict[into_trip] = int(into_count)/Nmut\n",
    "    model2[triplet] = [newMutability, into_dict]"
   ]
  },
  {
   "cell_type": "markdown",
   "metadata": {},
   "source": [
    "** run the sim ** "
   ]
  },
  {
   "cell_type": "code",
   "execution_count": 23,
   "metadata": {},
   "outputs": [
    {
     "name": "stderr",
     "output_type": "stream",
     "text": [
      " 19%|█▉        | 9693/50000 [00:12<00:51, 783.61it/s]\n"
     ]
    },
    {
     "ename": "KeyboardInterrupt",
     "evalue": "",
     "output_type": "error",
     "traceback": [
      "\u001b[0;31m---------------------------------------------------------------------------\u001b[0m",
      "\u001b[0;31mKeyboardInterrupt\u001b[0m                         Traceback (most recent call last)",
      "\u001b[0;32m<ipython-input-23-9c43a14b821e>\u001b[0m in \u001b[0;36m<module>\u001b[0;34m()\u001b[0m\n\u001b[1;32m     83\u001b[0m \u001b[0;34m\u001b[0m\u001b[0m\n\u001b[1;32m     84\u001b[0m         \u001b[0;31m#chanaging the dna\u001b[0m\u001b[0;34m\u001b[0m\u001b[0;34m\u001b[0m\u001b[0m\n\u001b[0;32m---> 85\u001b[0;31m         \u001b[0mDNA\u001b[0m \u001b[0;34m=\u001b[0m \u001b[0mDNA\u001b[0m\u001b[0;34m[\u001b[0m\u001b[0;34m:\u001b[0m\u001b[0mbase_index\u001b[0m\u001b[0;34m]\u001b[0m\u001b[0;34m+\u001b[0m\u001b[0mmb\u001b[0m\u001b[0;34m+\u001b[0m\u001b[0mDNA\u001b[0m\u001b[0;34m[\u001b[0m\u001b[0mbase_index\u001b[0m\u001b[0;34m+\u001b[0m\u001b[0;36m1\u001b[0m\u001b[0;34m:\u001b[0m\u001b[0;34m]\u001b[0m\u001b[0;34m\u001b[0m\u001b[0m\n\u001b[0m\u001b[1;32m     86\u001b[0m     \u001b[0;31m#     s7 = time.time()\u001b[0m\u001b[0;34m\u001b[0m\u001b[0;34m\u001b[0m\u001b[0m\n\u001b[1;32m     87\u001b[0m     \u001b[0;31m#     t7 = time.time() - s6\u001b[0m\u001b[0;34m\u001b[0m\u001b[0;34m\u001b[0m\u001b[0m\n",
      "\u001b[0;31mKeyboardInterrupt\u001b[0m: "
     ]
    }
   ],
   "source": [
    "#for running sumltiple at one time\n",
    "n_reps = 10\n",
    "dna_length = 5000 #--> total string ill be 50kbp \n",
    "prop_muts = 10\n",
    "\n",
    "dna_dict = {}\n",
    "for trial_number in (range(1,n_reps+1)): \n",
    "    \n",
    "\n",
    "    #making the dna ~~~~~~~~~~~~~~~~~~~~~~~~~~~~~~~~~~~~~~~~~~~~~~~~~~~~~~~~~~~~~~~~~~~~~~~~~~~~~~~~~~~~~~\n",
    "#     dna_length = 5000\n",
    "    DNA  = choice([\"A\", \"T\", \"C\", \"G\"], size = dna_length)\n",
    "    DNA = \"\".join(DNA)\n",
    "    DNA_initial = copy.copy(DNA)\n",
    "\n",
    "    #triplets\n",
    "    triplets = []\n",
    "    for i_1 in [\"A\", \"T\", \"G\", \"C\"]: \n",
    "        for i_2 in [\"A\", \"T\", \"G\", \"C\"]: \n",
    "            for i_3 in [\"A\", \"T\", \"G\", \"C\"]: \n",
    "                triplets.append(i_1+i_2+i_3)\n",
    "\n",
    "    #triplet-count dict \n",
    "    triplet_chosen_count_dict = {}\n",
    "    triplet_into_count_dict = {}\n",
    "    for triplet in triplets: \n",
    "        triplet_chosen_count_dict[triplet] = [0,0,0]  \n",
    "        triplet_into_count_dict[triplet] = [0,0,0]\n",
    "\n",
    "    #making the weights \n",
    "    current_weights = []\n",
    "    for i in range(1,len(DNA)-1): \n",
    "        triplet = DNA[i-1:i+2]\n",
    "        current_weights.append(model2[triplet][0])\n",
    "\n",
    "    indices = [i for i in range(1, len(DNA)-1)]\n",
    "    mut_indices = []\n",
    "\n",
    "    #runnign the sim ~~~~~~~~~~~~~~~~~~~~~~~~~~~~~~~~~~~~~~~~~~~~~~~~~~~~~~~~~~~~~~~~~~~~~~~~~~~~~~~~~~~~~\n",
    "    for i in tqdm(range(int(len(DNA)*prop_muts))):\n",
    "    #     s0 = time.time()\n",
    "        base_index = base_to_mutate(DNA, current_weights, indices)\n",
    "\n",
    "    #     s1 = time.time()\n",
    "    #     t1 = time.time() - s0\n",
    "\n",
    "    #     curr_index = indices.index(base_index)\n",
    "    #     current_weights = current_weights[0:curr_index -2]+current_weights[curr_index+3:]\n",
    "\n",
    "        mut_indices.append(base_index)\n",
    "    #     s2 = time.time()\n",
    "    #     t2 = time.time() - s1\n",
    "        #adding the count for \"chosen to mutate\" in coutns dict \n",
    "        c_triplet = DNA[base_index-1: base_index+2]\n",
    "        c_triplet_left = DNA[base_index-2: base_index+1]\n",
    "        c_triplet_right = DNA[base_index: base_index+3]\n",
    "    #     s3 = time.time()\n",
    "    #     t3 = time.time() - s2\n",
    "\n",
    "        triplet_chosen_count_dict[c_triplet_left][0] += 1\n",
    "        triplet_chosen_count_dict[c_triplet][1] += 1\n",
    "        triplet_chosen_count_dict[c_triplet_right][2] += 1\n",
    "\n",
    "\n",
    "        #accurate model INTO probability ~~~~~~~~~~~~~~~~~~~~~~~~~~~~~~~~~~~~~~OR ^ \n",
    "        curr_into_bases = []\n",
    "        curr_into_bases_probs = []\n",
    "        for into_base, prob in model2[c_triplet][1].items(): \n",
    "            curr_into_bases.append(into_base)\n",
    "            curr_into_bases_probs.append(prob)\n",
    "        mb =  choice(curr_into_bases, p = curr_into_bases_probs)[1]\n",
    "\n",
    "        #adding the count for \"mutated into thiss\" in the triplet dict \n",
    "        m_triplet = c_triplet[0]+mb+c_triplet[2]\n",
    "        m_triplet_left = c_triplet_left[0:2]+mb\n",
    "        m_triplet_right = mb+c_triplet_right[1:3]\n",
    "\n",
    "        triplet_into_count_dict[m_triplet_left][0] += 1 \n",
    "        triplet_into_count_dict[m_triplet][1] += 1 \n",
    "        triplet_into_count_dict[m_triplet_right][2] += 1 \n",
    "    #     s6 = time.time()\n",
    "    #     t6 = time.time() - s5\n",
    "\n",
    "        #chanaging the dna \n",
    "        DNA = DNA[:base_index]+mb+DNA[base_index+1:]\n",
    "    #     s7 = time.time()\n",
    "    #     t7 = time.time() - s6\n",
    "\n",
    "        current_weights[base_index-2]= model2[m_triplet_left][0]    \n",
    "        current_weights[base_index-1]= model2[m_triplet][0]\n",
    "        current_weights[base_index] = model2[m_triplet_right][0]\n",
    "        \n",
    "    dna_dict[\"Trial\"+str(trial_number)] = DNA\n",
    "    \n",
    "\n"
   ]
  },
  {
   "cell_type": "markdown",
   "metadata": {},
   "source": [
    "** getting and normalizing the simulation  triplet couts ** "
   ]
  },
  {
   "cell_type": "code",
   "execution_count": 26,
   "metadata": {},
   "outputs": [
    {
     "name": "stderr",
     "output_type": "stream",
     "text": [
      "100%|██████████| 10/10 [00:00<00:00, 393.02it/s]\n"
     ]
    }
   ],
   "source": [
    "triplet_counts = {}\n",
    "for triplet in triplets: \n",
    "    triplet_counts[triplet] = 0\n",
    "    \n",
    "for trial_key, dna_value in tqdm(dna_dict.items()): \n",
    "    for i in (range(1, len(dna_value)-2)):\n",
    "        triplet = dna_value[i-1:i+2]\n",
    "        triplet_counts[triplet] += 1\n",
    "\n",
    "triplet_counts_list = []\n",
    "for triplet in triplets: \n",
    "    triplet_counts_list.append(triplet_counts[triplet])"
   ]
  },
  {
   "cell_type": "code",
   "execution_count": 27,
   "metadata": {},
   "outputs": [],
   "source": [
    "sum_trips_sim = sum(triplet_counts_list)"
   ]
  },
  {
   "cell_type": "code",
   "execution_count": 28,
   "metadata": {},
   "outputs": [],
   "source": [
    "triplet_counts_list_norm = []\n",
    "for index, element in enumerate(triplet_counts_list): \n",
    "    triplet_counts_list_norm.append(element/ sum_trips_sim)"
   ]
  },
  {
   "cell_type": "markdown",
   "metadata": {},
   "source": [
    "** getting and normalizing the genome triplet counts ** "
   ]
  },
  {
   "cell_type": "code",
   "execution_count": 29,
   "metadata": {},
   "outputs": [],
   "source": [
    "triplet_genome_counts_list = []\n",
    "for triplet in triplets: \n",
    "    triplet_genome_counts_list.append(int(triplet_genome_dict[triplet]))"
   ]
  },
  {
   "cell_type": "code",
   "execution_count": 30,
   "metadata": {},
   "outputs": [],
   "source": [
    "sum_trips_genome = sum(triplet_genome_counts_list)"
   ]
  },
  {
   "cell_type": "code",
   "execution_count": 31,
   "metadata": {},
   "outputs": [],
   "source": [
    "triplet_genome_counts_list_norm = []\n",
    "for index, element in enumerate(triplet_genome_counts_list): \n",
    "    triplet_genome_counts_list_norm.append(element/ sum_trips_genome)"
   ]
  },
  {
   "cell_type": "markdown",
   "metadata": {},
   "source": [
    "** plotting both together ** "
   ]
  },
  {
   "cell_type": "code",
   "execution_count": 33,
   "metadata": {},
   "outputs": [],
   "source": [
    "plt.style.use(\"seaborn-ticks\")"
   ]
  },
  {
   "cell_type": "code",
   "execution_count": 36,
   "metadata": {},
   "outputs": [
    {
     "data": {
      "image/png": "[encoded data removed]",
      "text/plain": [
       "<matplotlib.figure.Figure at 0x7f6804ae3400>"
      ]
     },
     "metadata": {},
     "output_type": "display_data"
    }
   ],
   "source": [
    "plt.scatter(triplet_counts_list_norm,triplet_genome_counts_list_norm, color = \"black\",  )\n",
    "plt.plot([0,0.055], [0,0.055])\n",
    "plt.xlabel(\"Simulation triplet frequency\")\n",
    "plt.ylabel(\"Genome triplet frequency\")\n",
    "plt.title(\"Same # muts, random # trips \\n 50kbp 10x coverage\")\n",
    "\n",
    "plt.xlim((0,0.055))\n",
    "plt.ylim((0,0.055))\n",
    "\n",
    "plt.show()\n",
    "# timestamp = datetime.now().strftime(\"%Y/%m/%d_%H:%M:%S\").replace(\"/\", \"_\").replace(\":\", \"_\")\n",
    "# plt.tight_layout()\n",
    "# plt.savefig(\"plots/Breakinggenome_vsSim_{t}_{l}Mbp_{p}propmuts_randNtripsSampled.png\".format(p = prop_muts, l = str(n_reps*dna_length/1000000), t = timestamp))"
   ]
  }
 ],
 "metadata": {
  "kernelspec": {
   "display_name": "Python 3",
   "language": "python",
   "name": "python3"
  },
  "language_info": {
   "codemirror_mode": {
    "name": "ipython",
    "version": 3
   },
   "file_extension": ".py",
   "mimetype": "text/x-python",
   "name": "python",
   "nbconvert_exporter": "python",
   "pygments_lexer": "ipython3",
   "version": "3.5.1"
  }
 },
 "nbformat": 4,
 "nbformat_minor": 2
}
