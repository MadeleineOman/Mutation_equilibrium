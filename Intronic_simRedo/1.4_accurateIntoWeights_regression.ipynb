{
 "cells": [
  {
   "cell_type": "markdown",
   "id": "cac9ec09",
   "metadata": {},
   "source": [
    "# **taking the plotting dataframe created in 1.2 and plotting all four early/late change/counts scatter plots together** "
   ]
  },
  {
   "cell_type": "code",
   "execution_count": 23,
   "id": "823c512d",
   "metadata": {},
   "outputs": [
    {
     "ename": "ModuleNotFoundError",
     "evalue": "No module named 'pyqt_fit'",
     "output_type": "error",
     "traceback": [
      "\u001b[0;31m---------------------------------------------------------------------------\u001b[0m",
      "\u001b[0;31mModuleNotFoundError\u001b[0m                       Traceback (most recent call last)",
      "\u001b[0;32m<ipython-input-23-9bd48a3e3ba8>\u001b[0m in \u001b[0;36m<module>\u001b[0;34m\u001b[0m\n\u001b[1;32m      7\u001b[0m \u001b[0;32mfrom\u001b[0m \u001b[0msklearn\u001b[0m\u001b[0;34m.\u001b[0m\u001b[0mlinear_model\u001b[0m \u001b[0;32mimport\u001b[0m \u001b[0mLinearRegression\u001b[0m\u001b[0;34m\u001b[0m\u001b[0;34m\u001b[0m\u001b[0m\n\u001b[1;32m      8\u001b[0m \u001b[0;32mimport\u001b[0m \u001b[0mstatsmodels\u001b[0m\u001b[0;34m.\u001b[0m\u001b[0mapi\u001b[0m \u001b[0;32mas\u001b[0m \u001b[0msm\u001b[0m\u001b[0;34m\u001b[0m\u001b[0;34m\u001b[0m\u001b[0m\n\u001b[0;32m----> 9\u001b[0;31m \u001b[0;32mfrom\u001b[0m \u001b[0mpyqt_fit\u001b[0m \u001b[0;32mimport\u001b[0m \u001b[0mplot_fit\u001b[0m\u001b[0;34m\u001b[0m\u001b[0;34m\u001b[0m\u001b[0m\n\u001b[0m",
      "\u001b[0;31mModuleNotFoundError\u001b[0m: No module named 'pyqt_fit'"
     ]
    }
   ],
   "source": [
    "import pandas as pd\n",
    "import matplotlib.pyplot as plt\n",
    "import seaborn as sns\n",
    "from datetime import datetime\n",
    "from scipy import stats\n",
    "import numpy as np\n",
    "from sklearn.linear_model import LinearRegression\n",
    "import statsmodels.api as sm\n",
    "from pyqt_fit import plot_fit"
   ]
  },
  {
   "cell_type": "code",
   "execution_count": 24,
   "id": "f99217e5",
   "metadata": {},
   "outputs": [
    {
     "ename": "ModuleNotFoundError",
     "evalue": "No module named 'pyqt_fit'",
     "output_type": "error",
     "traceback": [
      "\u001b[0;31m---------------------------------------------------------------------------\u001b[0m",
      "\u001b[0;31mModuleNotFoundError\u001b[0m                       Traceback (most recent call last)",
      "\u001b[0;32m<ipython-input-24-1912c8bb193e>\u001b[0m in \u001b[0;36m<module>\u001b[0;34m\u001b[0m\n\u001b[0;32m----> 1\u001b[0;31m \u001b[0;32mfrom\u001b[0m \u001b[0mpyqt_fit\u001b[0m \u001b[0;32mimport\u001b[0m \u001b[0mplot_fit\u001b[0m\u001b[0;34m\u001b[0m\u001b[0;34m\u001b[0m\u001b[0m\n\u001b[0m",
      "\u001b[0;31mModuleNotFoundError\u001b[0m: No module named 'pyqt_fit'"
     ]
    }
   ],
   "source": [
    "from pyqt_fit import plot_fit"
   ]
  },
  {
   "cell_type": "code",
   "execution_count": 2,
   "id": "6fb9683f",
   "metadata": {},
   "outputs": [],
   "source": [
    "df = pd.read_csv(\"data/Data_dataframes/final_plotting_01_2x_coverage_2021_04_21.csv\")"
   ]
  },
  {
   "cell_type": "code",
   "execution_count": 3,
   "id": "d2b51c13",
   "metadata": {},
   "outputs": [
    {
     "data": {
      "text/html": [
       "<div>\n",
       "<style scoped>\n",
       "    .dataframe tbody tr th:only-of-type {\n",
       "        vertical-align: middle;\n",
       "    }\n",
       "\n",
       "    .dataframe tbody tr th {\n",
       "        vertical-align: top;\n",
       "    }\n",
       "\n",
       "    .dataframe thead th {\n",
       "        text-align: right;\n",
       "    }\n",
       "</style>\n",
       "<table border=\"1\" class=\"dataframe\">\n",
       "  <thead>\n",
       "    <tr style=\"text-align: right;\">\n",
       "      <th></th>\n",
       "      <th>Unnamed: 0</th>\n",
       "      <th>triplet</th>\n",
       "      <th>mut</th>\n",
       "      <th>mut_log10</th>\n",
       "      <th>change_01_mean</th>\n",
       "      <th>change_early_stder</th>\n",
       "      <th>change_2_mean</th>\n",
       "      <th>change_2_stder</th>\n",
       "      <th>countsChosen_01_mean</th>\n",
       "      <th>countsChosen_01_stder</th>\n",
       "      <th>countsInto_01_mean</th>\n",
       "      <th>countsInto_01_stder</th>\n",
       "      <th>countsChosen_2_mean</th>\n",
       "      <th>countsChosen_2_stder</th>\n",
       "      <th>countsInto_2_mean</th>\n",
       "      <th>countsInto_2_stder</th>\n",
       "    </tr>\n",
       "  </thead>\n",
       "  <tbody>\n",
       "    <tr>\n",
       "      <th>0</th>\n",
       "      <td>TGC</td>\n",
       "      <td>TGC</td>\n",
       "      <td>0.000030</td>\n",
       "      <td>-4.523276</td>\n",
       "      <td>0.161236</td>\n",
       "      <td>0.001774</td>\n",
       "      <td>-0.161588</td>\n",
       "      <td>0.001892</td>\n",
       "      <td>107.3</td>\n",
       "      <td>1.059292</td>\n",
       "      <td>86.5</td>\n",
       "      <td>0.972882</td>\n",
       "      <td>2829.1</td>\n",
       "      <td>4.954886</td>\n",
       "      <td>2604.6</td>\n",
       "      <td>4.115872</td>\n",
       "    </tr>\n",
       "    <tr>\n",
       "      <th>1</th>\n",
       "      <td>GCG</td>\n",
       "      <td>GCG</td>\n",
       "      <td>0.000293</td>\n",
       "      <td>-3.533051</td>\n",
       "      <td>-0.671613</td>\n",
       "      <td>0.001847</td>\n",
       "      <td>-0.935979</td>\n",
       "      <td>0.000920</td>\n",
       "      <td>551.6</td>\n",
       "      <td>1.435409</td>\n",
       "      <td>82.6</td>\n",
       "      <td>0.637495</td>\n",
       "      <td>2731.5</td>\n",
       "      <td>4.436271</td>\n",
       "      <td>1965.0</td>\n",
       "      <td>4.531666</td>\n",
       "    </tr>\n",
       "    <tr>\n",
       "      <th>2</th>\n",
       "      <td>CGG</td>\n",
       "      <td>CGG</td>\n",
       "      <td>0.000284</td>\n",
       "      <td>-3.546064</td>\n",
       "      <td>-0.641476</td>\n",
       "      <td>0.001077</td>\n",
       "      <td>-0.938726</td>\n",
       "      <td>0.000692</td>\n",
       "      <td>577.3</td>\n",
       "      <td>1.951948</td>\n",
       "      <td>96.5</td>\n",
       "      <td>0.576628</td>\n",
       "      <td>2744.0</td>\n",
       "      <td>4.376985</td>\n",
       "      <td>2220.9</td>\n",
       "      <td>4.658852</td>\n",
       "    </tr>\n",
       "    <tr>\n",
       "      <th>3</th>\n",
       "      <td>AGA</td>\n",
       "      <td>AGA</td>\n",
       "      <td>0.000030</td>\n",
       "      <td>-4.529189</td>\n",
       "      <td>0.122615</td>\n",
       "      <td>0.001321</td>\n",
       "      <td>0.327619</td>\n",
       "      <td>0.002391</td>\n",
       "      <td>97.5</td>\n",
       "      <td>1.188486</td>\n",
       "      <td>63.9</td>\n",
       "      <td>0.338969</td>\n",
       "      <td>3891.4</td>\n",
       "      <td>7.145236</td>\n",
       "      <td>3173.0</td>\n",
       "      <td>4.499333</td>\n",
       "    </tr>\n",
       "    <tr>\n",
       "      <th>4</th>\n",
       "      <td>GTT</td>\n",
       "      <td>GTT</td>\n",
       "      <td>0.000021</td>\n",
       "      <td>-4.681856</td>\n",
       "      <td>0.028296</td>\n",
       "      <td>0.001480</td>\n",
       "      <td>0.380779</td>\n",
       "      <td>0.005045</td>\n",
       "      <td>64.8</td>\n",
       "      <td>1.018627</td>\n",
       "      <td>134.0</td>\n",
       "      <td>1.218195</td>\n",
       "      <td>2683.8</td>\n",
       "      <td>6.229414</td>\n",
       "      <td>3448.9</td>\n",
       "      <td>6.014890</td>\n",
       "    </tr>\n",
       "  </tbody>\n",
       "</table>\n",
       "</div>"
      ],
      "text/plain": [
       "  Unnamed: 0 triplet       mut  mut_log10  change_01_mean  change_early_stder  \\\n",
       "0        TGC     TGC  0.000030  -4.523276        0.161236            0.001774   \n",
       "1        GCG     GCG  0.000293  -3.533051       -0.671613            0.001847   \n",
       "2        CGG     CGG  0.000284  -3.546064       -0.641476            0.001077   \n",
       "3        AGA     AGA  0.000030  -4.529189        0.122615            0.001321   \n",
       "4        GTT     GTT  0.000021  -4.681856        0.028296            0.001480   \n",
       "\n",
       "   change_2_mean  change_2_stder  countsChosen_01_mean  countsChosen_01_stder  \\\n",
       "0      -0.161588        0.001892                 107.3               1.059292   \n",
       "1      -0.935979        0.000920                 551.6               1.435409   \n",
       "2      -0.938726        0.000692                 577.3               1.951948   \n",
       "3       0.327619        0.002391                  97.5               1.188486   \n",
       "4       0.380779        0.005045                  64.8               1.018627   \n",
       "\n",
       "   countsInto_01_mean  countsInto_01_stder  countsChosen_2_mean  \\\n",
       "0                86.5             0.972882               2829.1   \n",
       "1                82.6             0.637495               2731.5   \n",
       "2                96.5             0.576628               2744.0   \n",
       "3                63.9             0.338969               3891.4   \n",
       "4               134.0             1.218195               2683.8   \n",
       "\n",
       "   countsChosen_2_stder  countsInto_2_mean  countsInto_2_stder  \n",
       "0              4.954886             2604.6            4.115872  \n",
       "1              4.436271             1965.0            4.531666  \n",
       "2              4.376985             2220.9            4.658852  \n",
       "3              7.145236             3173.0            4.499333  \n",
       "4              6.229414             3448.9            6.014890  "
      ]
     },
     "execution_count": 3,
     "metadata": {},
     "output_type": "execute_result"
    }
   ],
   "source": [
    "df.head()"
   ]
  },
  {
   "cell_type": "markdown",
   "id": "66afc906",
   "metadata": {},
   "source": [
    "# **regression**"
   ]
  },
  {
   "cell_type": "code",
   "execution_count": 7,
   "id": "a20397c9",
   "metadata": {},
   "outputs": [],
   "source": [
    "def r2(x, y):\n",
    "    return stats.pearsonr(x, y)[0] ** 2"
   ]
  },
  {
   "cell_type": "code",
   "execution_count": 13,
   "id": "045ceb4a",
   "metadata": {},
   "outputs": [],
   "source": [
    "x = np.array(df.mut_log10).reshape((-1, 1))\n",
    "y = np.array(df.change_2_mean)\n",
    "model = LinearRegression().fit(x, y)"
   ]
  },
  {
   "cell_type": "code",
   "execution_count": 15,
   "id": "aaa688f5",
   "metadata": {},
   "outputs": [
    {
     "name": "stdout",
     "output_type": "stream",
     "text": [
      "r^2:  0.4264699676582788\n"
     ]
    }
   ],
   "source": [
    "print(\"r^2: \", model.score(x, y))"
   ]
  },
  {
   "cell_type": "code",
   "execution_count": 18,
   "id": "921c0a61",
   "metadata": {},
   "outputs": [],
   "source": [
    "est_mutChange = sm.OLS(y, sm.add_constant(x)).fit()"
   ]
  },
  {
   "cell_type": "code",
   "execution_count": 22,
   "id": "63f525f7",
   "metadata": {},
   "outputs": [
    {
     "name": "stdout",
     "output_type": "stream",
     "text": [
      "                            OLS Regression Results                            \n",
      "==============================================================================\n",
      "Dep. Variable:                      y   R-squared:                       0.426\n",
      "Model:                            OLS   Adj. R-squared:                  0.417\n",
      "Method:                 Least Squares   F-statistic:                     46.10\n",
      "Date:                Sun, 25 Apr 2021   Prob (F-statistic):           4.96e-09\n",
      "Time:                        20:12:13   Log-Likelihood:                -36.949\n",
      "No. Observations:                  64   AIC:                             77.90\n",
      "Df Residuals:                      62   BIC:                             82.22\n",
      "Df Model:                           1                                         \n",
      "Covariance Type:            nonrobust                                         \n",
      "==============================================================================\n",
      "                 coef    std err          t      P>|t|      [0.025      0.975]\n",
      "------------------------------------------------------------------------------\n",
      "const         -4.3778      0.647     -6.767      0.000      -5.671      -3.085\n",
      "x1            -0.9822      0.145     -6.790      0.000      -1.271      -0.693\n",
      "==============================================================================\n",
      "Omnibus:                        3.087   Durbin-Watson:                   2.056\n",
      "Prob(Omnibus):                  0.214   Jarque-Bera (JB):                2.753\n",
      "Skew:                           0.416   Prob(JB):                        0.252\n",
      "Kurtosis:                       2.418   Cond. No.                         55.5\n",
      "==============================================================================\n",
      "\n",
      "Notes:\n",
      "[1] Standard Errors assume that the covariance matrix of the errors is correctly specified.\n"
     ]
    }
   ],
   "source": [
    "print(est_mutChange.summary())"
   ]
  },
  {
   "cell_type": "code",
   "execution_count": 5,
   "id": "c7b1441b",
   "metadata": {},
   "outputs": [
    {
     "data": {
      "text/plain": [
       "<seaborn.axisgrid.FacetGrid at 0x7f0268313b20>"
      ]
     },
     "execution_count": 5,
     "metadata": {},
     "output_type": "execute_result"
    },
    {
     "data": {
      "image/png": "[encoded data removed]",
      "text/plain": [
       "<Figure size 360x360 with 1 Axes>"
      ]
     },
     "metadata": {
      "needs_background": "light"
     },
     "output_type": "display_data"
    }
   ],
   "source": [
    "sns.lmplot(x=\"mut_log10\", y=\"change_2_mean\", data=df)"
   ]
  }
 ],
 "metadata": {
  "kernelspec": {
   "display_name": "Python 3 (ipykernel)",
   "language": "python",
   "name": "python3"
  },
  "language_info": {
   "codemirror_mode": {
    "name": "ipython",
    "version": 3
   },
   "file_extension": ".py",
   "mimetype": "text/x-python",
   "name": "python",
   "nbconvert_exporter": "python",
   "pygments_lexer": "ipython3",
   "version": "3.9.6"
  }
 },
 "nbformat": 4,
 "nbformat_minor": 5
}
