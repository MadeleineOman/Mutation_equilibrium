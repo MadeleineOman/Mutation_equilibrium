{
 "cells": [
  {
   "cell_type": "markdown",
   "metadata": {},
   "source": [
    "# ** Plotting the 100 replicates for 1Mbp string 10x coverage genome vs sim  triplet frequency with bootstrapping for variance** \n",
    "- here: 5 replicates of 1Mpb each "
   ]
  },
  {
   "cell_type": "code",
   "execution_count": 3,
   "metadata": {},
   "outputs": [],
   "source": [
    "import json\n",
    "from tqdm import tqdm \n",
    "import matplotlib.pyplot as plt\n",
    "from datetime import datetime\n",
    "import numpy as np"
   ]
  },
  {
   "cell_type": "markdown",
   "metadata": {},
   "source": [
    "**declaring basic objects ** "
   ]
  },
  {
   "cell_type": "code",
   "execution_count": 17,
   "metadata": {},
   "outputs": [],
   "source": [
    "model = json.load(open(\"../Human_mutability_model/Model_2020_12_02_genomeWide.txt\"))"
   ]
  },
  {
   "cell_type": "code",
   "execution_count": 18,
   "metadata": {},
   "outputs": [],
   "source": [
    "triplets = []\n",
    "for b1 in [\"A\", 'T', 'C', 'G']: \n",
    "    for b2 in [\"A\", 'T', 'C', 'G']: \n",
    "        for b3 in [\"A\", 'T', 'C', 'G']: \n",
    "            triplets.append(b1+b2+b3)"
   ]
  },
  {
   "cell_type": "code",
   "execution_count": 19,
   "metadata": {},
   "outputs": [],
   "source": [
    "muts = []\n",
    "for triplet in triplets: \n",
    "    muts.append(model[triplet][0])"
   ]
  },
  {
   "cell_type": "markdown",
   "metadata": {},
   "source": [
    "** reading in the simulation DNAF into dictionary ** "
   ]
  },
  {
   "cell_type": "code",
   "execution_count": 4,
   "metadata": {},
   "outputs": [],
   "source": [
    "ntrials = 101"
   ]
  },
  {
   "cell_type": "code",
   "execution_count": 5,
   "metadata": {},
   "outputs": [],
   "source": [
    "DNAF_dataDict = {}\n",
    "for i in range(1, ntrials+1): \n",
    "    trial_name = \"Trial\"+str(i)\n",
    "    DNAF_dataDict[trial_name] = open(\"data/{t}_DNA.txt\".format(t=trial_name)).readlines()[0]"
   ]
  },
  {
   "cell_type": "markdown",
   "metadata": {},
   "source": [
    "** setting the length of dna vs replicate # ** "
   ]
  },
  {
   "cell_type": "code",
   "execution_count": 40,
   "metadata": {},
   "outputs": [
    {
     "name": "stdout",
     "output_type": "stream",
     "text": [
      "[21.0, 41.0, 61.0, 81.0, 101.0]\n"
     ]
    }
   ],
   "source": [
    "n_replicates = 5\n",
    "dna_length = int(len(DNAF_dataDict[\"Trial1\"])*(ntrials-1)/n_replicates)\n",
    "trial_bounds = [((ntrials-1)/n_replicates)*i+1 for i in range(1,n_replicates+1)]\n",
    "print(trial_bounds)"
   ]
  },
  {
   "cell_type": "markdown",
   "metadata": {},
   "source": [
    "** creating the (nomralized) dictionary of dicvtionary triplet counts (one triplet count dict per replicate) ** "
   ]
  },
  {
   "cell_type": "code",
   "execution_count": 54,
   "metadata": {},
   "outputs": [
    {
     "name": "stderr",
     "output_type": "stream",
     "text": [
      "100%|██████████| 5/5 [00:02<00:00,  1.85it/s]\n"
     ]
    }
   ],
   "source": [
    "triplet_dictdict_counts = {}\n",
    "trial_start = 0\n",
    "for trial_bound in tqdm(trial_bounds): \n",
    "    #make the dict triplet with 0 values attached \n",
    "    bound_name = str(int(trial_start+1))+\"-\"+str(int(trial_bound))\n",
    "    triplet_dictdict_counts[bound_name] = {}\n",
    "    for triplet in triplets: \n",
    "        triplet_dictdict_counts[bound_name][triplet] = 0\n",
    "    \n",
    "    #filling those dictionaries with the triplet counts \n",
    "    for trial_number in range(int(trial_start+1), int(trial_bound+1)): #trial start need to be plus one so the next one afterts right AFTER the previous end \n",
    "        trial_name = \"Trial\"+str(trial_number)\n",
    "        dna = DNAF_dataDict[trial_name]\n",
    "        for i in range(1, len(dna)-1): \n",
    "            triplet = dna[i-1:i+2]\n",
    "            triplet_dictdict_counts[bound_name][triplet] += 1\n",
    "    \n",
    "    #normalizing the counts (frequency) \n",
    "    for triplet_key, count in triplet_dictdict_counts[bound_name].items(): \n",
    "        triplet_dictdict_counts[bound_name][triplet_key] = count/dna_length\n",
    "        \n",
    "    # makes the next bound start where this one ended     \n",
    "    trial_start = trial_bound \n",
    "    "
   ]
  },
  {
   "cell_type": "markdown",
   "metadata": {},
   "source": [
    "** getting the list of means and stderr ** "
   ]
  },
  {
   "cell_type": "code",
   "execution_count": 56,
   "metadata": {},
   "outputs": [],
   "source": [
    "av_triplet_counts = []\n",
    "stderr_triplet_counts = []\n",
    "\n",
    "for triplet in triplets: \n",
    "    triplet_list = []\n",
    "    for tripletcountdict in triplet_dictdict_counts.values(): \n",
    "        triplet_list.append(tripletcountdict[triplet])\n",
    "    av_triplet_counts.append(np.mean(triplet_list))\n",
    "    stderr_triplet_counts.append(np.std(triplet_list)/np.sqrt(n_replicates)) "
   ]
  },
  {
   "cell_type": "markdown",
   "metadata": {},
   "source": [
    "** getting and normalizing the genome triplet counts ** "
   ]
  },
  {
   "cell_type": "code",
   "execution_count": 60,
   "metadata": {},
   "outputs": [],
   "source": [
    "triplet_genome_counts_dict = json.load(open(\"../HumanTripletCounts/GenomeTripletCounts_2020_12_02_genomeWide.txt\"))"
   ]
  },
  {
   "cell_type": "code",
   "execution_count": 61,
   "metadata": {},
   "outputs": [],
   "source": [
    "triplet_genome_counts_list = []\n",
    "for triplet in triplets: \n",
    "    triplet_genome_counts_list.append(int(triplet_genome_counts_dict[triplet]))"
   ]
  },
  {
   "cell_type": "code",
   "execution_count": 62,
   "metadata": {},
   "outputs": [],
   "source": [
    "sum_trips_genome = sum(triplet_genome_counts_list)"
   ]
  },
  {
   "cell_type": "code",
   "execution_count": 63,
   "metadata": {},
   "outputs": [],
   "source": [
    "for index, element in enumerate(triplet_genome_counts_list): \n",
    "    triplet_genome_counts_list[index] = element/ sum_trips_genome"
   ]
  },
  {
   "cell_type": "markdown",
   "metadata": {},
   "source": [
    "** plotting both together with mutability coloration** "
   ]
  },
  {
   "cell_type": "code",
   "execution_count": 64,
   "metadata": {},
   "outputs": [],
   "source": [
    "plt.style.use(\"seaborn-ticks\")"
   ]
  },
  {
   "cell_type": "code",
   "execution_count": 69,
   "metadata": {},
   "outputs": [],
   "source": [
    "edge_colors = []\n",
    "for mut in muts: \n",
    "    if mut <= 0.00020: \n",
    "        edge_colors.append(\"grey\")\n",
    "    elif mut <= 0.0003: \n",
    "        edge_colors.append(\"dimgrey\")\n",
    "    else: \n",
    "        edge_colors.append(\"black\")\n",
    "        "
   ]
  },
  {
   "cell_type": "code",
   "execution_count": 68,
   "metadata": {},
   "outputs": [],
   "source": [
    "prop_muts = 10"
   ]
  },
  {
   "cell_type": "code",
   "execution_count": 77,
   "metadata": {},
   "outputs": [
    {
     "data": {
      "image/png": "[encoded data removed]",
      "text/plain": [
       "<matplotlib.figure.Figure at 0x7f75279afb70>"
      ]
     },
     "metadata": {},
     "output_type": "display_data"
    }
   ],
   "source": [
    "plt.scatter(av_triplet_counts,triplet_genome_counts_list, s = 15, color = muts,  edgecolor = edge_colors, cmap = \"Greys\")\n",
    "plt.plot([0,0.055], [0,0.055], color = \"grey\", linestyle='dashed')\n",
    "plt.xlabel(\"Simulation triplet frequency (scaled)\")\n",
    "plt.ylabel(\"Genome triplet frequency (scaled)\")\n",
    "sim_details = \"1MBp_10xMuts_accurateIntoTrip\"\n",
    "\n",
    "plt.colorbar()\n",
    "\n",
    "plt.xlim((0,0.05))\n",
    "plt.ylim((0,0.05))\n",
    "plt.xticks([0,0.01,0.02,0.03,0.04, 0.05])\n",
    "plt.yticks([0,0.01,0.02,0.03,0.04, 0.05])\n",
    "\n",
    "plt.errorbar(av_triplet_counts, triplet_genome_counts_list, xerr = np.array(stderr_triplet_counts), ecolor = \"grey\", ls = \"None\")\n",
    "\n",
    "# plt.show()\n",
    "timestamp = datetime.now().strftime(\"%Y/%m/%d_%H:%M:%S\").replace(\"/\", \"_\").replace(\":\", \"_\")\n",
    "plt.tight_layout()\n",
    "plt.savefig(\"plots/Scatter_{t}_{l}Mbp_{p}propmuts_accurateINTO_genomeVsim_stderr_{r}reps.png\".format(p = prop_muts, l = str(dna_length/1000000), t = timestamp, r = n_replicates))"
   ]
  }
 ],
 "metadata": {
  "kernelspec": {
   "display_name": "Python 3",
   "language": "python",
   "name": "python3"
  },
  "language_info": {
   "codemirror_mode": {
    "name": "ipython",
    "version": 3
   },
   "file_extension": ".py",
   "mimetype": "text/x-python",
   "name": "python",
   "nbconvert_exporter": "python",
   "pygments_lexer": "ipython3",
   "version": "3.5.1"
  }
 },
 "nbformat": 4,
 "nbformat_minor": 2
}
