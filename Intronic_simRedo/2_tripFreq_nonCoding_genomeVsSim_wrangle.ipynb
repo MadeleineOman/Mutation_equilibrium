{
 "cells": [
  {
   "cell_type": "markdown",
   "id": "57683455-d609-4b6f-bee0-3de9fd7ebe9d",
   "metadata": {},
   "source": [
    "# **outputting df for the trip freqs found in intergenic vs non coding in our sim at equilibrium**"
   ]
  },
  {
   "cell_type": "code",
   "execution_count": 15,
   "id": "79c29231-ca6a-4771-a34b-34bbcbc73413",
   "metadata": {},
   "outputs": [],
   "source": [
    "import json \n",
    "import pandas as pd\n",
    "import numpy as np\n",
    "import matplotlib.pyplot as plt"
   ]
  },
  {
   "cell_type": "code",
   "execution_count": 2,
   "id": "765261c7-bae3-41b0-84bd-084926414f89",
   "metadata": {},
   "outputs": [],
   "source": [
    "intergenic_trips = json.load(open(\"../Human_mutability_model/tripCount_nonCds_2021_09_15.txt\"))"
   ]
  },
  {
   "cell_type": "code",
   "execution_count": 9,
   "id": "783644db-a005-4b00-ba0b-ecf1c59989e2",
   "metadata": {},
   "outputs": [],
   "source": [
    "sim_trips = json.load(open(\"data/Data_dataframes/dict_2021_04_18_2xCov_triplet_counts.txt\"))"
   ]
  },
  {
   "cell_type": "code",
   "execution_count": 12,
   "id": "a77387d0-2fd1-4211-92f0-bf49cbc59e91",
   "metadata": {},
   "outputs": [],
   "source": [
    "trips = []\n",
    "intergenic_freq = []\n",
    "sim_mean_freq = []\n",
    "sim_stderr_freq = []\n",
    "for triplet,inter_count in intergenic_trips.items(): \n",
    "    sim_av = np.mean(sim_trips[triplet])\n",
    "    sim_stder = np.std(sim_trips[triplet])/np.sqrt(len((sim_trips[triplet])))\n",
    "    \n",
    "    trips.append(triplet)\n",
    "    intergenic_freq.append(inter_count)\n",
    "    sim_mean_freq.append(sim_av)\n",
    "    sim_stderr_freq.append(sim_stder)"
   ]
  },
  {
   "cell_type": "code",
   "execution_count": 13,
   "id": "0f60b97d-1a8a-4142-8289-02e5e8f0d01a",
   "metadata": {},
   "outputs": [],
   "source": [
    "plotting_df = pd.DataFrame(list(zip(trips, intergenic_freq,sim_mean_freq,sim_stderr_freq)),\n",
    "               columns =['triplet', 'intergenic_freq',\"sim_mean_freq\",\"sim_stderr_freq\"])"
   ]
  },
  {
   "cell_type": "code",
   "execution_count": 18,
   "id": "c3ad89ce-2630-495b-9fe3-3352c9373645",
   "metadata": {
    "tags": []
   },
   "outputs": [],
   "source": [
    "plotting_df.to_csv(\"data/Data_dataframes/DataDF_2022_01_04_nonCoding_genomeVsSim.csv\")"
   ]
  }
 ],
 "metadata": {
  "kernelspec": {
   "display_name": "Python [conda env:.conda-mutEq]",
   "language": "python",
   "name": "conda-env-.conda-mutEq-py"
  },
  "language_info": {
   "codemirror_mode": {
    "name": "ipython",
    "version": 3
   },
   "file_extension": ".py",
   "mimetype": "text/x-python",
   "name": "python",
   "nbconvert_exporter": "python",
   "pygments_lexer": "ipython3",
   "version": "3.9.6"
  }
 },
 "nbformat": 4,
 "nbformat_minor": 5
}
