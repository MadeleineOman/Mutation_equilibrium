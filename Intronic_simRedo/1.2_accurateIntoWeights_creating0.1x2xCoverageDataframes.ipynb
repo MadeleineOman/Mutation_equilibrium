{
 "cells": [
  {
   "cell_type": "markdown",
   "id": "05a6248d",
   "metadata": {},
   "source": [
    "# **creating the dfs to store triplet chnage and counts information (average and sd)** "
   ]
  },
  {
   "cell_type": "code",
   "execution_count": 3,
   "id": "a3ac2876",
   "metadata": {},
   "outputs": [],
   "source": [
    "from datetime import datetime\n",
    "import numpy as np \n",
    "import pandas as pd\n",
    "import json "
   ]
  },
  {
   "cell_type": "markdown",
   "id": "ed86d3db",
   "metadata": {},
   "source": [
    "### **loading in the data** "
   ]
  },
  {
   "cell_type": "code",
   "execution_count": 4,
   "id": "bceb8295",
   "metadata": {},
   "outputs": [],
   "source": [
    "model = json.load(open(\"../Human_mutability_model/Model_2020_12_02_genomeWide.txt\"))"
   ]
  },
  {
   "cell_type": "code",
   "execution_count": 13,
   "id": "21f89ff6",
   "metadata": {},
   "outputs": [],
   "source": [
    "ntrial = 10  \n",
    "#importing data \n",
    "\n",
    "#DNA TRIPLET CHNAGE \n",
    "#generating the empty tripfreq disctionaries for each coverage level \n",
    "#tripfreq_dnaX = {\"trip\":[0,for,each,trial], \"next_trip\":[0,for,each,trial] ....}\n",
    "tripfreq_dna0 = {}\n",
    "tripfreq_dna01 = {}\n",
    "tripfreq_dna2 = {}\n",
    "for triplet in list(model.keys()): \n",
    "    tripfreq_dna0[triplet] = [0]*ntrial\n",
    "    tripfreq_dna01[triplet] = [0]*ntrial\n",
    "    tripfreq_dna2[triplet] = [0]*ntrial\n",
    "\n",
    "#filling the empty tripfreq dictionaries \n",
    "#tripfreq_dnaX = {\"trip\":[count,for,each,trial], \"next_trip\":[count,for,each,trial] ....}\n",
    "for trial in range(1, ntrial+1): \n",
    "    dna_0 = open(\"data/cov2x_2021_04_18_Trial{}_DNA_0.txt\".format(trial)).readlines()[0]\n",
    "    dna_01 = open(\"data/cov2x_2021_04_18_Trial{}_DNA_10000.txt\".format(trial)).readlines()[0]\n",
    "    dna_2 = open(\"data/cov2x_2021_04_18_Trial{}_DNA_199999.txt\".format(trial)).readlines()[0]\n",
    "    for j in range(1, len(dna_0)-2): \n",
    "        cur_trip_dna0 = dna_0[j-1:j+2]#getting the triplet for that index of the sequence \n",
    "        cur_trip_dna01 = dna_01[j-1:j+2]\n",
    "        cur_trip_dna2 = dna_2[j-1:j+2]\n",
    "        tripfreq_dna0[cur_trip_dna0][trial-1] += 1#adding the triple tcount to the correct index of the trial list \n",
    "        tripfreq_dna01[cur_trip_dna01][trial-1] += 1\n",
    "        tripfreq_dna2[cur_trip_dna2][trial-1] += 1\n",
    "\n",
    "#TRIPLET COUNTS INFO \n",
    "#generating the empty tripcount disctionaries for each coverage level (excpet 0 ofcourse) \n",
    "#tripcount_dnaX = {\"trip\":[0,for,each,trial], \"next_trip\":[0,for,each,trial] ....}\n",
    "tripcount_chosen_01 = {}\n",
    "tripcount_chosen_2 = {}\n",
    "tripcount_into_01 = {}\n",
    "tripcount_into_2 = {}\n",
    "for triplet in list(model.keys()): \n",
    "    tripcount_chosen_01[triplet] = [0]*ntrial\n",
    "    tripcount_chosen_2[triplet] = [0]*ntrial\n",
    "    tripcount_into_01[triplet] = [0]*ntrial\n",
    "    tripcount_into_2[triplet] = [0]*ntrial\n",
    "    \n",
    "#filling the empty tripfreq dictionaries \n",
    "for trial in range(1, ntrial+1): \n",
    "    cur_chosen_01 = json.load(open(\"data/cov2x_2021_04_18_Trial{}_triplet_chosen_count_dict_10000.txt\".format(trial)))\n",
    "    cur_chosen_2 = json.load(open(\"data/cov2x_2021_04_18_Trial{}_triplet_chosen_count_dict_199999.txt\".format(trial)))\n",
    "    cur_into_01 = json.load(open(\"data/cov2x_2021_04_18_Trial{}_triplet_into_count_dict_10000.txt\".format(trial)))\n",
    "    cur_into_2 = json.load(open(\"data/cov2x_2021_04_18_Trial{}_triplet_into_count_dict_199999.txt\".format(trial)))\n",
    "    for triplet in list(model.keys()): \n",
    "        tripcount_chosen_01[triplet][trial-1] = cur_chosen_01[triplet][1] #adding the value for the cur trail dict to the overall tripcount dict \n",
    "        tripcount_chosen_2[triplet][trial-1] = cur_chosen_2[triplet][1]#need the [0,1,2] middle spot as that represents the central triplet in the dict \n",
    "        tripcount_into_01[triplet][trial-1] = cur_into_01[triplet][1]#need trial-1 as trial 1-->10 and index of the list 0-->9 \n",
    "        tripcount_into_2[triplet][trial-1] = cur_into_2[triplet][1]"
   ]
  },
  {
   "cell_type": "markdown",
   "id": "4cf5bb90",
   "metadata": {},
   "source": [
    "### **need to analyze and convert into sensible data for the dataframe** "
   ]
  },
  {
   "cell_type": "code",
   "execution_count": 46,
   "id": "34e88e6e",
   "metadata": {},
   "outputs": [],
   "source": [
    "#need a dictionary like: \n",
    "#{\"triplet\":[mut, earlyChange, LateChnage, earlyChosen,earlyInto,lateChosen,LateInto]}\n",
    "\n",
    "data_dict = {}\n",
    "for triplet, mutVal in model.items(): \n",
    "    mut = mutVal[0]\n",
    "    mut_log10 = np.log10(mut)\n",
    "    \n",
    "    #claculate the chnage for each trial, then average \n",
    "    early_change = []\n",
    "    late_change = []\n",
    "    for i in range(ntrial): \n",
    "        early_change.append((tripfreq_dna01[triplet][i]-tripfreq_dna0[triplet][i])/tripfreq_dna0[triplet][i])\n",
    "        late_change.append((tripfreq_dna2[triplet][i]-tripfreq_dna0[triplet][i])/tripfreq_dna0[triplet][i])\n",
    "    early_chnage_avg = np.mean(early_change)\n",
    "    early_chnage_stderr = np.std(early_change)/ntrial\n",
    "    late_chnage_avg = np.mean(late_change)\n",
    "    late_chnage_stderr = np.std(late_change)/ntrial\n",
    "    \n",
    "    #get the triplet counts \n",
    "    early_counts_chosen_avg = np.mean(tripcount_chosen_01[triplet])\n",
    "    early_counts_chosen_stderr = np.std(tripcount_chosen_01[triplet])/ntrial\n",
    "    early_counts_into_avg = np.mean(tripcount_into_01[triplet])\n",
    "    early_counts_into_stderr = np.std(tripcount_into_01[triplet])/ntrial\n",
    "    #now for the late (2x coverage) \n",
    "    late_counts_chosen_avg = np.mean(tripcount_chosen_2[triplet])\n",
    "    late_counts_chosen_stderr = np.std(tripcount_chosen_2[triplet])/ntrial\n",
    "    late_counts_into_avg = np.mean(tripcount_into_2[triplet])\n",
    "    late_counts_into_stderr = np.std(tripcount_into_2[triplet])/ntrial\n",
    "    \n",
    "    #making the dict\n",
    "    data_dict[triplet] = [triplet, mut, mut_log10,\n",
    "                          early_chnage_avg, early_chnage_stderr, \n",
    "                          late_chnage_avg, late_chnage_stderr, \n",
    "                          early_counts_chosen_avg, early_counts_chosen_stderr, early_counts_into_avg, early_counts_into_stderr,\n",
    "                          late_counts_chosen_avg, late_counts_chosen_stderr, late_counts_into_avg, late_counts_into_stderr] "
   ]
  },
  {
   "cell_type": "code",
   "execution_count": 48,
   "id": "9a11db51",
   "metadata": {},
   "outputs": [],
   "source": [
    "plotting_df = pd.DataFrame.from_dict(data_dict, orient = \"index\", columns=[\"triplet\", \"mut\", \"mut_log10\",\n",
    "                                                                           \"change_01_mean\", \"change_early_stder\", \n",
    "                                                                           \"change_2_mean\",\"change_2_stder\",\n",
    "                                                                           \"countsChosen_01_mean\", \"countsChosen_01_stder\", \"countsInto_01_mean\", \"countsInto_01_stder\",\n",
    "                                                                           \"countsChosen_2_mean\", \"countsChosen_2_stder\", \"countsInto_2_mean\",\"countsInto_2_stder\"])"
   ]
  },
  {
   "cell_type": "code",
   "execution_count": 49,
   "id": "bdc4b9da",
   "metadata": {},
   "outputs": [],
   "source": [
    "plotting_df.to_csv(\"data/Data_dataframes/final_plotting_01_2x_coverage_2021_04_21.csv\")"
   ]
  }
 ],
 "metadata": {
  "kernelspec": {
   "display_name": "Python 3 (ipykernel)",
   "language": "python",
   "name": "python3"
  },
  "language_info": {
   "codemirror_mode": {
    "name": "ipython",
    "version": 3
   },
   "file_extension": ".py",
   "mimetype": "text/x-python",
   "name": "python",
   "nbconvert_exporter": "python",
   "pygments_lexer": "ipython3",
   "version": "3.9.6"
  }
 },
 "nbformat": 4,
 "nbformat_minor": 5
}
