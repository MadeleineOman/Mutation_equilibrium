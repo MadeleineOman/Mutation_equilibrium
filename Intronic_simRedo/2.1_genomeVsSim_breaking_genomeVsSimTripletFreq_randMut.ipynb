{
 "cells": [
  {
   "cell_type": "markdown",
   "metadata": {},
   "source": [
    "# ** BREAKING THE GENOME TRIP FREQ VS SIM: keeping the triplet # but randomly choosing the #muts ** "
   ]
  },
  {
   "cell_type": "code",
   "execution_count": 1,
   "metadata": {},
   "outputs": [],
   "source": [
    "from numpy.random import choice\n",
    "import copy \n",
    "from tqdm import tqdm\n",
    "import matplotlib.pyplot as plt\n",
    "from datetime import datetime\n",
    "import time\n",
    "import timeit\n",
    "import numpy as np \n",
    "import matplotlib.patches as mpatches\n",
    "import json\n",
    "import random"
   ]
  },
  {
   "cell_type": "code",
   "execution_count": 2,
   "metadata": {},
   "outputs": [],
   "source": [
    "def base_to_mutate(DNA, current_weights, indices): \n",
    "    \"\"\"\n",
    "    (DNA: str, weights: Dict) -> int\n",
    "    \n",
    "    Will return the index of a random choice of a base that will be mutated based on probabilities given by the\n",
    "    weights dictionary (i.e. the model)\n",
    "    ex. \"ATCGTA\" --> index 3 (\"G\") will mutate\n",
    "    \"\"\"\n",
    "\n",
    "    # NORMALIZE THE POPULATION OF WEIGHTS    \n",
    "    total_freq = sum(current_weights) - current_weights[0] - current_weights[-1] # remove the start and end weight\n",
    "    normalized_weights = [\"error\"]*len(current_weights)\n",
    "    for index, value in enumerate(current_weights):\n",
    "        normalized_weights[index] = value/total_freq \n",
    "    \n",
    "    normalized_weights[0] = 0\n",
    "    normalized_weights[-1] = 0\n",
    "    # DRAW THE INDEX OF THE BASE THAT WILL BE MUTATED\n",
    "    base_index = choice(indices, p=normalized_weights) \n",
    "    \n",
    "\n",
    "    # RETURN THE INDEX\n",
    "    return base_index  \n",
    "\n",
    "\n"
   ]
  },
  {
   "cell_type": "code",
   "execution_count": 3,
   "metadata": {},
   "outputs": [],
   "source": [
    "model0 = json.load(open(\"../Human_mutability_model/Model_2020_12_02_genomeWide.txt\"))"
   ]
  },
  {
   "cell_type": "code",
   "execution_count": 4,
   "metadata": {},
   "outputs": [],
   "source": [
    "mut_dict = json.load(open(\"../Human_mutability_model/MutDict_2020_12_10.txt\"))"
   ]
  },
  {
   "cell_type": "code",
   "execution_count": 5,
   "metadata": {},
   "outputs": [],
   "source": [
    "triplet_genome_dict = json.load(open(\"../HumanTripletCounts/GenomeTripletCounts_2020_12_02_genomeWide.txt\"))"
   ]
  },
  {
   "cell_type": "code",
   "execution_count": 7,
   "metadata": {},
   "outputs": [],
   "source": [
    "triplets = []\n",
    "muts = []\n",
    "for key in mut_dict.keys(): \n",
    "    triplets.append(key)\n",
    "    muts.append(mut_dict[key][0])"
   ]
  },
  {
   "cell_type": "markdown",
   "metadata": {},
   "source": [
    "# ** Break 1: chnage the # muts but not the #triplets denominator ** "
   ]
  },
  {
   "cell_type": "markdown",
   "metadata": {},
   "source": [
    "** chnaging the model to have mut vhnaged, but the same triplet # ** "
   ]
  },
  {
   "cell_type": "code",
   "execution_count": 8,
   "metadata": {},
   "outputs": [],
   "source": [
    "random_muts = random.sample(muts, k= len(muts))\n"
   ]
  },
  {
   "cell_type": "code",
   "execution_count": 9,
   "metadata": {},
   "outputs": [],
   "source": [
    "model1 = {}\n",
    "for triplet, randNmut in zip(triplets, random_muts): \n",
    "    newMutability = randNmut/int(triplet_genome_dict[triplet])\n",
    "    realNmut = mut_dict[triplet][0]\n",
    "    into_dict = {}\n",
    "    for into_triplet,intoNmuts in mut_dict[triplet][1].items(): #the into dictionary stays the same, \n",
    "        into_dict[into_triplet] = intoNmuts/realNmut  # want to make proportional, so divide by the actual # muts to get sum to 1 \n",
    "    model1[triplet] = [newMutability, into_dict]"
   ]
  },
  {
   "cell_type": "markdown",
   "metadata": {},
   "source": [
    "** run the sim ** "
   ]
  },
  {
   "cell_type": "code",
   "execution_count": 24,
   "metadata": {},
   "outputs": [
    {
     "name": "stderr",
     "output_type": "stream",
     "text": [
      "  0%|          | 0/10 [00:25<?, ?it/s]\n"
     ]
    },
    {
     "ename": "KeyboardInterrupt",
     "evalue": "",
     "output_type": "error",
     "traceback": [
      "\u001b[0;31m---------------------------------------------------------------------------\u001b[0m",
      "\u001b[0;31mKeyboardInterrupt\u001b[0m                         Traceback (most recent call last)",
      "\u001b[0;32m<ipython-input-24-02a88ed6efa7>\u001b[0m in \u001b[0;36m<module>\u001b[0;34m()\u001b[0m\n\u001b[1;32m     41\u001b[0m     \u001b[0;32mfor\u001b[0m \u001b[0mi\u001b[0m \u001b[0;32min\u001b[0m \u001b[0;34m(\u001b[0m\u001b[0mrange\u001b[0m\u001b[0;34m(\u001b[0m\u001b[0mint\u001b[0m\u001b[0;34m(\u001b[0m\u001b[0mlen\u001b[0m\u001b[0;34m(\u001b[0m\u001b[0mDNA\u001b[0m\u001b[0;34m)\u001b[0m\u001b[0;34m*\u001b[0m\u001b[0mprop_muts\u001b[0m\u001b[0;34m)\u001b[0m\u001b[0;34m)\u001b[0m\u001b[0;34m)\u001b[0m\u001b[0;34m:\u001b[0m\u001b[0;34m\u001b[0m\u001b[0m\n\u001b[1;32m     42\u001b[0m     \u001b[0;31m#     s0 = time.time()\u001b[0m\u001b[0;34m\u001b[0m\u001b[0;34m\u001b[0m\u001b[0m\n\u001b[0;32m---> 43\u001b[0;31m         \u001b[0mbase_index\u001b[0m \u001b[0;34m=\u001b[0m \u001b[0mbase_to_mutate\u001b[0m\u001b[0;34m(\u001b[0m\u001b[0mDNA\u001b[0m\u001b[0;34m,\u001b[0m \u001b[0mcurrent_weights\u001b[0m\u001b[0;34m,\u001b[0m \u001b[0mindices\u001b[0m\u001b[0;34m)\u001b[0m\u001b[0;34m\u001b[0m\u001b[0m\n\u001b[0m\u001b[1;32m     44\u001b[0m \u001b[0;34m\u001b[0m\u001b[0m\n\u001b[1;32m     45\u001b[0m     \u001b[0;31m#     s1 = time.time()\u001b[0m\u001b[0;34m\u001b[0m\u001b[0;34m\u001b[0m\u001b[0m\n",
      "\u001b[0;32m<ipython-input-2-20d4fb58a854>\u001b[0m in \u001b[0;36mbase_to_mutate\u001b[0;34m(DNA, current_weights, indices)\u001b[0m\n\u001b[1;32m     17\u001b[0m     \u001b[0mnormalized_weights\u001b[0m\u001b[0;34m[\u001b[0m\u001b[0;34m-\u001b[0m\u001b[0;36m1\u001b[0m\u001b[0;34m]\u001b[0m \u001b[0;34m=\u001b[0m \u001b[0;36m0\u001b[0m\u001b[0;34m\u001b[0m\u001b[0m\n\u001b[1;32m     18\u001b[0m     \u001b[0;31m# DRAW THE INDEX OF THE BASE THAT WILL BE MUTATED\u001b[0m\u001b[0;34m\u001b[0m\u001b[0;34m\u001b[0m\u001b[0m\n\u001b[0;32m---> 19\u001b[0;31m     \u001b[0mbase_index\u001b[0m \u001b[0;34m=\u001b[0m \u001b[0mchoice\u001b[0m\u001b[0;34m(\u001b[0m\u001b[0mindices\u001b[0m\u001b[0;34m,\u001b[0m \u001b[0mp\u001b[0m\u001b[0;34m=\u001b[0m\u001b[0mnormalized_weights\u001b[0m\u001b[0;34m)\u001b[0m\u001b[0;34m\u001b[0m\u001b[0m\n\u001b[0m\u001b[1;32m     20\u001b[0m \u001b[0;34m\u001b[0m\u001b[0m\n\u001b[1;32m     21\u001b[0m \u001b[0;34m\u001b[0m\u001b[0m\n",
      "\u001b[0;32mmtrand.pyx\u001b[0m in \u001b[0;36mmtrand.RandomState.choice (numpy/random/mtrand/mtrand.c:15544)\u001b[0;34m()\u001b[0m\n",
      "\u001b[0;32m/usr/local/lib/python3.5/site-packages/numpy/core/getlimits.py\u001b[0m in \u001b[0;36m__new__\u001b[0;34m(cls, dtype)\u001b[0m\n\u001b[1;32m     92\u001b[0m     \u001b[0m_finfo_cache\u001b[0m \u001b[0;34m=\u001b[0m \u001b[0;34m{\u001b[0m\u001b[0;34m}\u001b[0m\u001b[0;34m\u001b[0m\u001b[0m\n\u001b[1;32m     93\u001b[0m \u001b[0;34m\u001b[0m\u001b[0m\n\u001b[0;32m---> 94\u001b[0;31m     \u001b[0;32mdef\u001b[0m \u001b[0m__new__\u001b[0m\u001b[0;34m(\u001b[0m\u001b[0mcls\u001b[0m\u001b[0;34m,\u001b[0m \u001b[0mdtype\u001b[0m\u001b[0;34m)\u001b[0m\u001b[0;34m:\u001b[0m\u001b[0;34m\u001b[0m\u001b[0m\n\u001b[0m\u001b[1;32m     95\u001b[0m         \u001b[0;32mtry\u001b[0m\u001b[0;34m:\u001b[0m\u001b[0;34m\u001b[0m\u001b[0m\n\u001b[1;32m     96\u001b[0m             \u001b[0mdtype\u001b[0m \u001b[0;34m=\u001b[0m \u001b[0mnumeric\u001b[0m\u001b[0;34m.\u001b[0m\u001b[0mdtype\u001b[0m\u001b[0;34m(\u001b[0m\u001b[0mdtype\u001b[0m\u001b[0;34m)\u001b[0m\u001b[0;34m\u001b[0m\u001b[0m\n",
      "\u001b[0;31mKeyboardInterrupt\u001b[0m: "
     ]
    }
   ],
   "source": [
    "#for running sumltiple at one time\n",
    "n_reps = 10\n",
    "dna_length = 5000 #--> total string ill be 50kbp \n",
    "prop_muts = 10\n",
    "\n",
    "dna_dict = {}\n",
    "for trial_number in (range(1,n_reps+1)): \n",
    "    \n",
    "\n",
    "    #making the dna ~~~~~~~~~~~~~~~~~~~~~~~~~~~~~~~~~~~~~~~~~~~~~~~~~~~~~~~~~~~~~~~~~~~~~~~~~~~~~~~~~~~~~~\n",
    "#     dna_length = 5000\n",
    "    DNA  = choice([\"A\", \"T\", \"C\", \"G\"], size = dna_length)\n",
    "    DNA = \"\".join(DNA)\n",
    "    DNA_initial = copy.copy(DNA)\n",
    "    sim_details += str(dna_length/1000000) + \"MB random seq \\n \"\n",
    "\n",
    "    #triplets\n",
    "    triplets = []\n",
    "    for i_1 in [\"A\", \"T\", \"G\", \"C\"]: \n",
    "        for i_2 in [\"A\", \"T\", \"G\", \"C\"]: \n",
    "            for i_3 in [\"A\", \"T\", \"G\", \"C\"]: \n",
    "                triplets.append(i_1+i_2+i_3)\n",
    "\n",
    "    #triplet-count dict \n",
    "    triplet_chosen_count_dict = {}\n",
    "    triplet_into_count_dict = {}\n",
    "    for triplet in triplets: \n",
    "        triplet_chosen_count_dict[triplet] = [0,0,0]  \n",
    "        triplet_into_count_dict[triplet] = [0,0,0]\n",
    "\n",
    "    #making the weights \n",
    "    current_weights = []\n",
    "    for i in range(1,len(DNA)-1): \n",
    "        triplet = DNA[i-1:i+2]\n",
    "        current_weights.append(model1[triplet][0])\n",
    "\n",
    "    indices = [i for i in range(1, len(DNA)-1)]\n",
    "    mut_indices = []\n",
    "\n",
    "    #runnign the sim ~~~~~~~~~~~~~~~~~~~~~~~~~~~~~~~~~~~~~~~~~~~~~~~~~~~~~~~~~~~~~~~~~~~~~~~~~~~~~~~~~~~~~\n",
    "    for i in tqdm(range(int(len(DNA)*prop_muts))):\n",
    "    #     s0 = time.time()\n",
    "        base_index = base_to_mutate(DNA, current_weights, indices)\n",
    "\n",
    "    #     s1 = time.time()\n",
    "    #     t1 = time.time() - s0\n",
    "\n",
    "    #     curr_index = indices.index(base_index)\n",
    "    #     current_weights = current_weights[0:curr_index -2]+current_weights[curr_index+3:]\n",
    "\n",
    "        mut_indices.append(base_index)\n",
    "    #     s2 = time.time()\n",
    "    #     t2 = time.time() - s1\n",
    "        #adding the count for \"chosen to mutate\" in coutns dict \n",
    "        c_triplet = DNA[base_index-1: base_index+2]\n",
    "        c_triplet_left = DNA[base_index-2: base_index+1]\n",
    "        c_triplet_right = DNA[base_index: base_index+3]\n",
    "    #     s3 = time.time()\n",
    "    #     t3 = time.time() - s2\n",
    "\n",
    "        triplet_chosen_count_dict[c_triplet_left][0] += 1\n",
    "        triplet_chosen_count_dict[c_triplet][1] += 1\n",
    "        triplet_chosen_count_dict[c_triplet_right][2] += 1\n",
    "\n",
    "\n",
    "        #accurate model INTO probability ~~~~~~~~~~~~~~~~~~~~~~~~~~~~~~~~~~~~~~OR ^ \n",
    "        curr_into_bases = []\n",
    "        curr_into_bases_probs = []\n",
    "        for into_base, prob in model1[c_triplet][1].items(): \n",
    "            curr_into_bases.append(into_base)\n",
    "            curr_into_bases_probs.append(prob)\n",
    "        mb =  choice(curr_into_bases, p = curr_into_bases_probs)[1]\n",
    "\n",
    "        #adding the count for \"mutated into thiss\" in the triplet dict \n",
    "        m_triplet = c_triplet[0]+mb+c_triplet[2]\n",
    "        m_triplet_left = c_triplet_left[0:2]+mb\n",
    "        m_triplet_right = mb+c_triplet_right[1:3]\n",
    "\n",
    "        triplet_into_count_dict[m_triplet_left][0] += 1 \n",
    "        triplet_into_count_dict[m_triplet][1] += 1 \n",
    "        triplet_into_count_dict[m_triplet_right][2] += 1 \n",
    "    #     s6 = time.time()\n",
    "    #     t6 = time.time() - s5\n",
    "\n",
    "        #chanaging the dna \n",
    "        DNA = DNA[:base_index]+mb+DNA[base_index+1:]\n",
    "    #     s7 = time.time()\n",
    "    #     t7 = time.time() - s6\n",
    "\n",
    "        current_weights[base_index-2]= model1[m_triplet_left][0]    \n",
    "        current_weights[base_index-1]= model1[m_triplet][0]\n",
    "        current_weights[base_index] = model1[m_triplet_right][0]\n",
    "        \n",
    "    dna_dict[\"Trial\"+str(trial_number)] = DNA\n",
    "    \n",
    "\n"
   ]
  },
  {
   "cell_type": "code",
   "execution_count": 26,
   "metadata": {},
   "outputs": [
    {
     "data": {
      "text/plain": [
       "9"
      ]
     },
     "execution_count": 26,
     "metadata": {},
     "output_type": "execute_result"
    }
   ],
   "source": [
    "2+7\n"
   ]
  },
  {
   "cell_type": "markdown",
   "metadata": {},
   "source": [
    "** getting and normalizing the simulation  triplet couts ** "
   ]
  },
  {
   "cell_type": "code",
   "execution_count": 51,
   "metadata": {},
   "outputs": [
    {
     "name": "stderr",
     "output_type": "stream",
     "text": [
      "100%|██████████| 10/10 [00:00<00:00, 377.89it/s]\n"
     ]
    }
   ],
   "source": [
    "triplet_counts = {}\n",
    "for triplet in triplets: \n",
    "    triplet_counts[triplet] = 0\n",
    "    \n",
    "for trial_key, dna_value in tqdm(dna_dict.items()): \n",
    "    for i in (range(1, len(dna_value)-2)):\n",
    "        triplet = dna_value[i-1:i+2]\n",
    "        triplet_counts[triplet] += 1\n",
    "\n",
    "triplet_counts_list = []\n",
    "for triplet in triplets: \n",
    "    triplet_counts_list.append(triplet_counts[triplet])"
   ]
  },
  {
   "cell_type": "code",
   "execution_count": 52,
   "metadata": {},
   "outputs": [],
   "source": [
    "sum_trips_sim = sum(triplet_counts_list)"
   ]
  },
  {
   "cell_type": "code",
   "execution_count": 53,
   "metadata": {},
   "outputs": [],
   "source": [
    "triplet_counts_list_norm = []\n",
    "for index, element in enumerate(triplet_counts_list): \n",
    "    triplet_counts_list_norm.append(element/ sum_trips_sim)"
   ]
  },
  {
   "cell_type": "markdown",
   "metadata": {},
   "source": [
    "** getting and normalizing the genome triplet counts ** "
   ]
  },
  {
   "cell_type": "code",
   "execution_count": 54,
   "metadata": {},
   "outputs": [],
   "source": [
    "triplet_genome_counts_list = []\n",
    "for triplet in triplets: \n",
    "    triplet_genome_counts_list.append(int(triplet_genome_dict[triplet]))"
   ]
  },
  {
   "cell_type": "code",
   "execution_count": 55,
   "metadata": {},
   "outputs": [],
   "source": [
    "sum_trips_genome = sum(triplet_genome_counts_list)"
   ]
  },
  {
   "cell_type": "code",
   "execution_count": 57,
   "metadata": {},
   "outputs": [],
   "source": [
    "triplet_genome_counts_list_norm = []\n",
    "for index, element in enumerate(triplet_genome_counts_list): \n",
    "    triplet_genome_counts_list_norm.append(element/ sum_trips_genome)"
   ]
  },
  {
   "cell_type": "markdown",
   "metadata": {},
   "source": [
    "** plotting both together ** "
   ]
  },
  {
   "cell_type": "code",
   "execution_count": 19,
   "metadata": {},
   "outputs": [],
   "source": [
    "plt.style.use(\"seaborn-ticks\")"
   ]
  },
  {
   "cell_type": "code",
   "execution_count": 58,
   "metadata": {},
   "outputs": [
    {
     "data": {
      "image/png": "[encoded data removed]",
      "text/plain": [
       "<matplotlib.figure.Figure at 0x7f68b14c1ac8>"
      ]
     },
     "metadata": {},
     "output_type": "display_data"
    }
   ],
   "source": [
    "plt.scatter(triplet_counts_list_norm,triplet_genome_counts_list_norm, color = \"black\",  )\n",
    "plt.plot([0,0.055], [0,0.055])\n",
    "plt.xlabel(\"Simulation triplet frequency\")\n",
    "plt.ylabel(\"Genome triplet frequency\")\n",
    "plt.title(\"Same # triplets, random # muts \\n 50kbp 10x coervage\")\n",
    "\n",
    "plt.xlim((0,0.055))\n",
    "plt.ylim((0,0.055))\n",
    "\n",
    "plt.show()\n",
    "# timestamp = datetime.now().strftime(\"%Y/%m/%d_%H:%M:%S\").replace(\"/\", \"_\").replace(\":\", \"_\")\n",
    "# plt.tight_layout()\n",
    "# plt.savefig(\"plots/Breakinggenome_vsSim_{t}_{l}Mbp_{p}propmuts_accurateINTO_genomeVsim.png\".format(p = prop_muts, l = str(n_reps*dna_length/1000000), t = timestamp))"
   ]
  },
  {
   "cell_type": "markdown",
   "metadata": {},
   "source": [
    "# ** Break 1: chnage the # trips but not the #muts denominator ** "
   ]
  },
  {
   "cell_type": "code",
   "execution_count": 59,
   "metadata": {},
   "outputs": [],
   "source": [
    "random_trips = random.sample(triplet_genome_counts_list, k= len(triplet_genome_counts_list))\n"
   ]
  },
  {
   "cell_type": "code",
   "execution_count": 66,
   "metadata": {},
   "outputs": [],
   "source": [
    "model2 = {}\n",
    "for triplet,randomNtriplet, Nmut in zip(triplets, random_trips, muts): \n",
    "    newMutability = Nmut/int(randomNtriplet)\n",
    "    into_dict = {}\n",
    "    for into_triplet,intoNmuts in mut_dict[triplet][1].items(): #the into dictionary stays the same, \n",
    "        into_dict[into_triplet] = intoNmuts/Nmut  # want to make proportional, so divide by the actual # muts to get sum to 1 \n",
    "    model2[triplet] = [newMutability, into_dict]"
   ]
  },
  {
   "cell_type": "markdown",
   "metadata": {},
   "source": [
    "** run the sim ** "
   ]
  },
  {
   "cell_type": "code",
   "execution_count": 67,
   "metadata": {},
   "outputs": [
    {
     "name": "stderr",
     "output_type": "stream",
     "text": [
      "  0%|          | 0/50000 [00:00<?, ?it/s]\n"
     ]
    },
    {
     "ename": "ValueError",
     "evalue": "probabilities do not sum to 1",
     "output_type": "error",
     "traceback": [
      "\u001b[0;31m---------------------------------------------------------------------------\u001b[0m",
      "\u001b[0;31mValueError\u001b[0m                                Traceback (most recent call last)",
      "\u001b[0;32m<ipython-input-67-7f96627cbd8d>\u001b[0m in \u001b[0;36m<module>\u001b[0;34m()\u001b[0m\n\u001b[1;32m     70\u001b[0m             \u001b[0mcurr_into_bases\u001b[0m\u001b[0;34m.\u001b[0m\u001b[0mappend\u001b[0m\u001b[0;34m(\u001b[0m\u001b[0minto_base\u001b[0m\u001b[0;34m)\u001b[0m\u001b[0;34m\u001b[0m\u001b[0m\n\u001b[1;32m     71\u001b[0m             \u001b[0mcurr_into_bases_probs\u001b[0m\u001b[0;34m.\u001b[0m\u001b[0mappend\u001b[0m\u001b[0;34m(\u001b[0m\u001b[0mprob\u001b[0m\u001b[0;34m)\u001b[0m\u001b[0;34m\u001b[0m\u001b[0m\n\u001b[0;32m---> 72\u001b[0;31m         \u001b[0mmb\u001b[0m \u001b[0;34m=\u001b[0m  \u001b[0mchoice\u001b[0m\u001b[0;34m(\u001b[0m\u001b[0mcurr_into_bases\u001b[0m\u001b[0;34m,\u001b[0m \u001b[0mp\u001b[0m \u001b[0;34m=\u001b[0m \u001b[0mcurr_into_bases_probs\u001b[0m\u001b[0;34m)\u001b[0m\u001b[0;34m[\u001b[0m\u001b[0;36m1\u001b[0m\u001b[0;34m]\u001b[0m\u001b[0;34m\u001b[0m\u001b[0m\n\u001b[0m\u001b[1;32m     73\u001b[0m \u001b[0;34m\u001b[0m\u001b[0m\n\u001b[1;32m     74\u001b[0m         \u001b[0;31m#adding the count for \"mutated into thiss\" in the triplet dict\u001b[0m\u001b[0;34m\u001b[0m\u001b[0;34m\u001b[0m\u001b[0m\n",
      "\u001b[0;32mmtrand.pyx\u001b[0m in \u001b[0;36mmtrand.RandomState.choice (numpy/random/mtrand/mtrand.c:15963)\u001b[0;34m()\u001b[0m\n",
      "\u001b[0;31mValueError\u001b[0m: probabilities do not sum to 1"
     ]
    }
   ],
   "source": [
    "#for running sumltiple at one time\n",
    "n_reps = 10\n",
    "dna_length = 5000 #--> total string ill be 50kbp \n",
    "prop_muts = 10\n",
    "\n",
    "dna_dict = {}\n",
    "for trial_number in (range(1,n_reps+1)): \n",
    "    \n",
    "\n",
    "    #making the dna ~~~~~~~~~~~~~~~~~~~~~~~~~~~~~~~~~~~~~~~~~~~~~~~~~~~~~~~~~~~~~~~~~~~~~~~~~~~~~~~~~~~~~~\n",
    "#     dna_length = 5000\n",
    "    DNA  = choice([\"A\", \"T\", \"C\", \"G\"], size = dna_length)\n",
    "    DNA = \"\".join(DNA)\n",
    "    DNA_initial = copy.copy(DNA)\n",
    "    sim_details += str(dna_length/1000000) + \"MB random seq \\n \"\n",
    "\n",
    "    #triplets\n",
    "    triplets = []\n",
    "    for i_1 in [\"A\", \"T\", \"G\", \"C\"]: \n",
    "        for i_2 in [\"A\", \"T\", \"G\", \"C\"]: \n",
    "            for i_3 in [\"A\", \"T\", \"G\", \"C\"]: \n",
    "                triplets.append(i_1+i_2+i_3)\n",
    "\n",
    "    #triplet-count dict \n",
    "    triplet_chosen_count_dict = {}\n",
    "    triplet_into_count_dict = {}\n",
    "    for triplet in triplets: \n",
    "        triplet_chosen_count_dict[triplet] = [0,0,0]  \n",
    "        triplet_into_count_dict[triplet] = [0,0,0]\n",
    "\n",
    "    #making the weights \n",
    "    current_weights = []\n",
    "    for i in range(1,len(DNA)-1): \n",
    "        triplet = DNA[i-1:i+2]\n",
    "        current_weights.append(model2[triplet][0])\n",
    "\n",
    "    indices = [i for i in range(1, len(DNA)-1)]\n",
    "    mut_indices = []\n",
    "\n",
    "    #runnign the sim ~~~~~~~~~~~~~~~~~~~~~~~~~~~~~~~~~~~~~~~~~~~~~~~~~~~~~~~~~~~~~~~~~~~~~~~~~~~~~~~~~~~~~\n",
    "    for i in tqdm(range(int(len(DNA)*prop_muts))):\n",
    "    #     s0 = time.time()\n",
    "        base_index = base_to_mutate(DNA, current_weights, indices)\n",
    "\n",
    "    #     s1 = time.time()\n",
    "    #     t1 = time.time() - s0\n",
    "\n",
    "    #     curr_index = indices.index(base_index)\n",
    "    #     current_weights = current_weights[0:curr_index -2]+current_weights[curr_index+3:]\n",
    "\n",
    "        mut_indices.append(base_index)\n",
    "    #     s2 = time.time()\n",
    "    #     t2 = time.time() - s1\n",
    "        #adding the count for \"chosen to mutate\" in coutns dict \n",
    "        c_triplet = DNA[base_index-1: base_index+2]\n",
    "        c_triplet_left = DNA[base_index-2: base_index+1]\n",
    "        c_triplet_right = DNA[base_index: base_index+3]\n",
    "    #     s3 = time.time()\n",
    "    #     t3 = time.time() - s2\n",
    "\n",
    "        triplet_chosen_count_dict[c_triplet_left][0] += 1\n",
    "        triplet_chosen_count_dict[c_triplet][1] += 1\n",
    "        triplet_chosen_count_dict[c_triplet_right][2] += 1\n",
    "\n",
    "\n",
    "        #accurate model INTO probability ~~~~~~~~~~~~~~~~~~~~~~~~~~~~~~~~~~~~~~OR ^ \n",
    "        curr_into_bases = []\n",
    "        curr_into_bases_probs = []\n",
    "        for into_base, prob in model2[c_triplet][1].items(): \n",
    "            curr_into_bases.append(into_base)\n",
    "            curr_into_bases_probs.append(prob)\n",
    "        mb =  choice(curr_into_bases, p = curr_into_bases_probs)[1]\n",
    "\n",
    "        #adding the count for \"mutated into thiss\" in the triplet dict \n",
    "        m_triplet = c_triplet[0]+mb+c_triplet[2]\n",
    "        m_triplet_left = c_triplet_left[0:2]+mb\n",
    "        m_triplet_right = mb+c_triplet_right[1:3]\n",
    "\n",
    "        triplet_into_count_dict[m_triplet_left][0] += 1 \n",
    "        triplet_into_count_dict[m_triplet][1] += 1 \n",
    "        triplet_into_count_dict[m_triplet_right][2] += 1 \n",
    "    #     s6 = time.time()\n",
    "    #     t6 = time.time() - s5\n",
    "\n",
    "        #chanaging the dna \n",
    "        DNA = DNA[:base_index]+mb+DNA[base_index+1:]\n",
    "    #     s7 = time.time()\n",
    "    #     t7 = time.time() - s6\n",
    "\n",
    "        current_weights[base_index-2]= model2[m_triplet_left][0]    \n",
    "        current_weights[base_index-1]= model2[m_triplet][0]\n",
    "        current_weights[base_index] = model2[m_triplet_right][0]\n",
    "        \n",
    "    dna_dict[\"Trial\"+str(trial_number)] = DNA\n",
    "    \n",
    "\n"
   ]
  }
 ],
 "metadata": {
  "kernelspec": {
   "display_name": "Python 3",
   "language": "python",
   "name": "python3"
  },
  "language_info": {
   "codemirror_mode": {
    "name": "ipython",
    "version": 3
   },
   "file_extension": ".py",
   "mimetype": "text/x-python",
   "name": "python",
   "nbconvert_exporter": "python",
   "pygments_lexer": "ipython3",
   "version": "3.5.1"
  }
 },
 "nbformat": 4,
 "nbformat_minor": 2
}
