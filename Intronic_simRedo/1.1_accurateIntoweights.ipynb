{
 "cells": [
  {
   "cell_type": "markdown",
   "metadata": {},
   "source": [
    "# **using accurtae into weights** "
   ]
  },
  {
   "cell_type": "code",
   "execution_count": 1,
   "metadata": {},
   "outputs": [],
   "source": [
    "from numpy.random import choice\n",
    "import copy \n",
    "from tqdm import tqdm\n",
    "import matplotlib.pyplot as plt\n",
    "from datetime import datetime\n",
    "import time\n",
    "import timeit\n",
    "import numpy as np \n",
    "import matplotlib.patches as mpatches\n",
    "import json\n",
    "from sklearn.linear_model import LinearRegression\n",
    "import pandas as pd"
   ]
  },
  {
   "cell_type": "code",
   "execution_count": 2,
   "metadata": {},
   "outputs": [],
   "source": [
    "def base_to_mutate(DNA, current_weights, indices): \n",
    "    \"\"\"\n",
    "    (DNA: str, weights: Dict) -> int\n",
    "    \n",
    "    Will return the index of a random choice of a base that will be mutated based on probabilities given by the\n",
    "    weights dictionary (i.e. the model)\n",
    "    ex. \"ATCGTA\" --> index 3 (\"G\") will mutate\n",
    "    \"\"\"\n",
    "\n",
    "    # NORMALIZE THE POPULATION OF WEIGHTS    \n",
    "    total_freq = sum(current_weights) - current_weights[0] - current_weights[-1] # remove the start and end weight\n",
    "    normalized_weights = [\"error\"]*len(current_weights)\n",
    "    for index, value in enumerate(current_weights):\n",
    "        normalized_weights[index] = value/total_freq \n",
    "    \n",
    "    normalized_weights[0] = 0\n",
    "    normalized_weights[-1] = 0\n",
    "    # DRAW THE INDEX OF THE BASE THAT WILL BE MUTATED\n",
    "    base_index = choice(indices, p=normalized_weights) \n",
    "    \n",
    "\n",
    "    # RETURN THE INDEX\n",
    "    return base_index  \n",
    "\n",
    "\n"
   ]
  },
  {
   "cell_type": "markdown",
   "metadata": {},
   "source": [
    "## ** now it has the accurate into base prob, not random ** "
   ]
  },
  {
   "cell_type": "code",
   "execution_count": null,
   "metadata": {},
   "outputs": [
    {
     "name": "stderr",
     "output_type": "stream",
     "text": [
      "  0%|          | 75/600000 [00:01<3:56:38, 42.25it/s]"
     ]
    }
   ],
   "source": [
    "#informing the graph \n",
    "sim_details = \"\"\n",
    "\n",
    "#making the dna ~~~~~~~~~~~~~~~~~~~~~~~~~~~~~~~~~~~~~~~~~~~~~~~~~~~~~~~~~~~~~~~~~~~~~~~~~~~~~~~~~~~~~~\n",
    "dna_length = 100000\n",
    "DNA  = choice([\"A\", \"T\", \"C\", \"G\"], size = dna_length)\n",
    "DNA = \"\".join(DNA)\n",
    "DNA_initial = copy.copy(DNA)\n",
    "sim_details += str(dna_length/1000000) + \"MB random seq \\n \"\n",
    "\n",
    "#triplets\n",
    "triplets = []\n",
    "for i_1 in [\"A\", \"T\", \"G\", \"C\"]: \n",
    "    for i_2 in [\"A\", \"T\", \"G\", \"C\"]: \n",
    "        for i_3 in [\"A\", \"T\", \"G\", \"C\"]: \n",
    "            triplets.append(i_1+i_2+i_3)\n",
    "        \n",
    "#mutability model \n",
    "model = json.load(open(\"../Human_mutability_model/Model_2020_12_02_genomeWide.txt\"))\n",
    "#triplet-count dict \n",
    "triplet_chosen_count_dict = {}\n",
    "triplet_into_count_dict = {}\n",
    "for triplet in triplets: \n",
    "    triplet_chosen_count_dict[triplet] = [0,0,0]  \n",
    "    triplet_into_count_dict[triplet] = [0,0,0]\n",
    "\n",
    "#making the weights \n",
    "current_weights = []\n",
    "for i in range(1,len(DNA)-1): \n",
    "    triplet = DNA[i-1:i+2]\n",
    "    current_weights.append(model[triplet][0])\n",
    "\n",
    "indices = [i for i in range(1, len(DNA)-1)]\n",
    "mut_indices = []\n",
    "\n",
    "#choosing number of muts \n",
    "prop_muts = 0.1\n",
    "sim_details += str(prop_muts)+\"X prop muts \\n\"\n",
    "\n",
    "\n",
    "# DESCRIBE THE SIMULATION PLEASE GOD ~~~~~~~~~~~~~~~~~~~~~~~~~~~~~~~~~~~~~~~~~~~~~~~~~~~~~~~~~~~~~~~~~~~~~~~~~~~!!!!!!!!!!\n",
    "sim_details = \"random onto triplet,  overlapping\" + sim_details\n",
    "\n",
    "#runnign the sim ~~~~~~~~~~~~~~~~~~~~~~~~~~~~~~~~~~~~~~~~~~~~~~~~~~~~~~~~~~~~~~~~~~~~~~~~~~~~~~~~~~~~~\n",
    "for i in tqdm(range(int(len(DNA)*prop_muts))):\n",
    "#     s0 = time.time()\n",
    "    base_index = base_to_mutate(DNA, current_weights, indices)\n",
    "    \n",
    "#     s1 = time.time()\n",
    "#     t1 = time.time() - s0\n",
    "    \n",
    "#     curr_index = indices.index(base_index)\n",
    "#     current_weights = current_weights[0:curr_index -2]+current_weights[curr_index+3:]\n",
    "    \n",
    "    mut_indices.append(base_index)\n",
    "#     s2 = time.time()\n",
    "#     t2 = time.time() - s1\n",
    "    #adding the count for \"chosen to mutate\" in coutns dict \n",
    "    c_triplet = DNA[base_index-1: base_index+2]\n",
    "    c_triplet_left = DNA[base_index-2: base_index+1]\n",
    "    c_triplet_right = DNA[base_index: base_index+3]\n",
    "#     s3 = time.time()\n",
    "#     t3 = time.time() - s2\n",
    "    \n",
    "    triplet_chosen_count_dict[c_triplet_left][0] += 1\n",
    "    triplet_chosen_count_dict[c_triplet][1] += 1\n",
    "    triplet_chosen_count_dict[c_triplet_right][2] += 1\n",
    "    \n",
    "    \n",
    "    #accurate model INTO probability ~~~~~~~~~~~~~~~~~~~~~~~~~~~~~~~~~~~~~~OR ^ \n",
    "    curr_into_bases = []\n",
    "    curr_into_bases_probs = []\n",
    "    for into_base, prob in model[c_triplet][1].items(): \n",
    "        curr_into_bases.append(into_base)\n",
    "        curr_into_bases_probs.append(prob)\n",
    "    mb =  choice(curr_into_bases, p = curr_into_bases_probs)[1]\n",
    "\n",
    "    #adding the count for \"mutated into thiss\" in the triplet dict \n",
    "    m_triplet = c_triplet[0]+mb+c_triplet[2]\n",
    "    m_triplet_left = c_triplet_left[0:2]+mb\n",
    "    m_triplet_right = mb+c_triplet_right[1:3]\n",
    "    \n",
    "    triplet_into_count_dict[m_triplet_left][0] += 1 \n",
    "    triplet_into_count_dict[m_triplet][1] += 1 \n",
    "    triplet_into_count_dict[m_triplet_right][2] += 1 \n",
    "#     s6 = time.time()\n",
    "#     t6 = time.time() - s5\n",
    "    \n",
    "    #chanaging the dna \n",
    "    DNA = DNA[:base_index]+mb+DNA[base_index+1:]\n",
    "#     s7 = time.time()\n",
    "#     t7 = time.time() - s6\n",
    "\n",
    "    current_weights[base_index-2]= model[m_triplet_left][0]    \n",
    "    current_weights[base_index-1]= model[m_triplet][0]\n",
    "    current_weights[base_index] = model[m_triplet_right][0]\n",
    "    \n",
    "\n"
   ]
  },
  {
   "cell_type": "markdown",
   "metadata": {},
   "source": [
    "## ** plotting ** "
   ]
  },
  {
   "cell_type": "code",
   "execution_count": 69,
   "metadata": {},
   "outputs": [],
   "source": [
    "triplet_chosen_left = []\n",
    "triplet_chosen_centre = []\n",
    "triplet_chosen_right = []\n",
    "triplet_chosen_mean = []\n",
    "triplet_into_left = []\n",
    "triplet_into_centre = []\n",
    "triplet_into_right = []\n",
    "triplet_into_mean = []\n",
    "\n",
    "muts = []\n",
    "for triplet in triplets: \n",
    "    triplet_chosen_left.append(triplet_chosen_count_dict[triplet][0])\n",
    "    triplet_chosen_centre.append(triplet_chosen_count_dict[triplet][1])\n",
    "    triplet_chosen_right.append(triplet_chosen_count_dict[triplet][2])\n",
    "    triplet_chosen_mean.append(np.mean(triplet_chosen_count_dict[triplet]))\n",
    "    \n",
    "    triplet_into_left.append(triplet_into_count_dict[triplet][0])\n",
    "    triplet_into_centre.append(triplet_into_count_dict[triplet][1])\n",
    "    triplet_into_right.append(triplet_into_count_dict[triplet][2])\n",
    "    triplet_into_mean.append(np.mean(triplet_into_count_dict[triplet]))\n",
    "    \n",
    "    muts.append(model[triplet][0])"
   ]
  },
  {
   "cell_type": "code",
   "execution_count": 5,
   "metadata": {},
   "outputs": [],
   "source": [
    "#plt.style.use(\"classic\")\n",
    "plt.style.use(\"seaborn-ticks\")"
   ]
  },
  {
   "cell_type": "code",
   "execution_count": 72,
   "metadata": {},
   "outputs": [],
   "source": [
    "muts_log10 = []\n",
    "for mut in muts: \n",
    "    muts_log10.append(np.log10(mut))"
   ]
  },
  {
   "cell_type": "markdown",
   "metadata": {},
   "source": [
    "** exporting data (for later dont have to redo) ** "
   ]
  },
  {
   "cell_type": "code",
   "execution_count": 74,
   "metadata": {},
   "outputs": [],
   "source": [
    "data_dict = {\"triplets\":triplets, \"muts\": muts, \"mutsLog10\":muts_log10,\n",
    "            \"triplet_chosen_left\":triplet_chosen_left, \"triplet_chosen_centre\":triplet_chosen_centre, \"triplet_chosen_right\":triplet_chosen_right,\n",
    "             \"triplet_into_left\":triplet_into_left, \"triplet_into_centre\":triplet_into_centre, \"triplet_into_right\":triplet_into_right}\n",
    "\n",
    "data_df = pd.DataFrame.from_dict(data_dict)\n",
    "timestamp = datetime.now().strftime(\"%Y/%m/%d_%H:%M:%S\").replace(\"/\", \"_\").replace(\":\", \"_\")\n",
    "data_df.to_csv(\"data/Data_dataframes/DataDF_{t}_{l}Mbp_{p}propmuts_accurateINTO_genomeModel.csv\".format(p = prop_muts, l = str(dna_length/1000000), t = timestamp))"
   ]
  },
  {
   "cell_type": "markdown",
   "metadata": {},
   "source": [
    "** centre ** "
   ]
  },
  {
   "cell_type": "code",
   "execution_count": 80,
   "metadata": {},
   "outputs": [
    {
     "data": {
      "image/png": "[encoded data removed]",
      "text/plain": [
       "<matplotlib.figure.Figure at 0x7f4f289041d0>"
      ]
     },
     "metadata": {},
     "output_type": "display_data"
    }
   ],
   "source": [
    "plt.scatter(muts_log10,triplet_into_centre,color = \"grey\" , label = \"# times mutated into\", alpha = 0.8)\n",
    "plt.scatter(muts_log10,triplet_chosen_centre,color = \"black\", edgecolor = \"black\", label = \"# times chosen\", alpha = 0.8)\n",
    "# plt.legend(loc = 2)\n",
    "plt.xlabel(\"Mutability (log10)\")\n",
    "plt.ylabel(\"Triplet counts\")\n",
    "# plt.xlim(-5,-2.5)\n",
    "# plt.ylim(0,1000)\n",
    "\n",
    "#plt.errorbar(triplet_muts_intron, triplet_chnage_mean_intron, yerr = np.array(triplet_chnage_std_intron), ecolor = \"grey\", ls = \"None\")\n",
    "\n",
    "# # calc the trendline\n",
    "# z = np.polyfit(muts_log10, triplet_chosen_centre, 1)\n",
    "# p = np.poly1d(z)\n",
    "# plt.plot(muts_log10,p(muts_log10),color = \"black\")\n",
    "\n",
    "#font size \n",
    "\n",
    "SMALL_SIZE = 10\n",
    "MEDIUM_SIZE = 14\n",
    "BIGGER_SIZE = 18\n",
    "plt.rc('font', size=SMALL_SIZE)          # controls default text sizes\n",
    "plt.rc('axes', titlesize=MEDIUM_SIZE)     # fontsize of the axes title\n",
    "plt.rc('axes', labelsize=MEDIUM_SIZE)    # fontsize of the x and y labels\n",
    "plt.rc('xtick', labelsize=MEDIUM_SIZE)    # fontsize of the tick labels\n",
    "plt.rc('ytick', labelsize=MEDIUM_SIZE)    # fontsize of the tick labels\n",
    "plt.rc('legend', fontsize=MEDIUM_SIZE)    # legend fontsize\n",
    "\n",
    "plt.show()\n",
    "# timestamp = datetime.now().strftime(\"%Y/%m/%d_%H:%M:%S\").replace(\"/\", \"_\").replace(\":\", \"_\")\n",
    "# plt.tight_layout()\n",
    "# plt.savefig(\"plots/Scatter_{t}_{l}Mbp_{p}propmuts_accurateINTO_genomeModel_log.png\".format(p = prop_muts, l = str(dna_length/1000000), t = timestamp))"
   ]
  },
  {
   "cell_type": "markdown",
   "metadata": {},
   "source": [
    "## ** loading in exported data to vidualize ** "
   ]
  },
  {
   "cell_type": "code",
   "execution_count": 2,
   "metadata": {},
   "outputs": [],
   "source": [
    "imported_data_df = pd.read_csv(\"data/Data_dataframes/DataDF_2020_12_17_16_00_40_0.1Mbp_6propmuts_accurateINTO_genomeModel.csv\")"
   ]
  },
  {
   "cell_type": "code",
   "execution_count": 6,
   "metadata": {},
   "outputs": [
    {
     "data": {
      "image/png": "[encoded data removed]",
      "text/plain": [
       "<matplotlib.figure.Figure at 0x7f1a4ddc0d30>"
      ]
     },
     "metadata": {},
     "output_type": "display_data"
    }
   ],
   "source": [
    "plt.scatter(imported_data_df.mutsLog10,imported_data_df.triplet_into_centre,color = \"grey\" , label = \"# times mutated into\", alpha = 0.8)\n",
    "plt.scatter(imported_data_df.mutsLog10,imported_data_df.triplet_chosen_centre,color = \"black\", edgecolor = \"black\", label = \"# times chosen\", alpha = 0.8)\n",
    "# plt.legend(loc = 2)\n",
    "plt.xlabel(\"Mutability (log10)\")\n",
    "plt.ylabel(\"Triplet counts\")\n",
    "# plt.xlim(-5,-2.5)\n",
    "# plt.ylim(0,1000)\n",
    "\n",
    "#plt.errorbar(triplet_muts_intron, triplet_chnage_mean_intron, yerr = np.array(triplet_chnage_std_intron), ecolor = \"grey\", ls = \"None\")\n",
    "\n",
    "# # calc the trendline\n",
    "# z = np.polyfit(muts_log10, triplet_chosen_centre, 1)\n",
    "# p = np.poly1d(z)\n",
    "# plt.plot(muts_log10,p(muts_log10),color = \"black\")\n",
    "\n",
    "#font size \n",
    "\n",
    "SMALL_SIZE = 10\n",
    "MEDIUM_SIZE = 14\n",
    "BIGGER_SIZE = 18\n",
    "plt.rc('font', size=SMALL_SIZE)          # controls default text sizes\n",
    "plt.rc('axes', titlesize=MEDIUM_SIZE)     # fontsize of the axes title\n",
    "plt.rc('axes', labelsize=MEDIUM_SIZE)    # fontsize of the x and y labels\n",
    "plt.rc('xtick', labelsize=MEDIUM_SIZE)    # fontsize of the tick labels\n",
    "plt.rc('ytick', labelsize=MEDIUM_SIZE)    # fontsize of the tick labels\n",
    "plt.rc('legend', fontsize=MEDIUM_SIZE)    # legend fontsize\n",
    "\n",
    "plt.show()\n",
    "# timestamp = datetime.now().strftime(\"%Y/%m/%d_%H:%M:%S\").replace(\"/\", \"_\").replace(\":\", \"_\")\n",
    "# plt.tight_layout()\n",
    "# plt.savefig(\"plots/Scatter_{t}_0.1Mbp_6propmuts_accurateINTO_genomeModel_log.png\".format(t = timestamp))"
   ]
  },
  {
   "cell_type": "markdown",
   "metadata": {},
   "source": [
    "# ** reegression ** "
   ]
  },
  {
   "cell_type": "code",
   "execution_count": 26,
   "metadata": {},
   "outputs": [],
   "source": [
    "x_muts_log10 = np.array(muts_log10).reshape((-1, 1))\n",
    "y_triplet_chosen_centre = np.array(triplet_chosen_centre)\n"
   ]
  },
  {
   "cell_type": "code",
   "execution_count": 27,
   "metadata": {},
   "outputs": [
    {
     "name": "stderr",
     "output_type": "stream",
     "text": [
      "/usr/local/lib/python3.5/site-packages/scipy/linalg/basic.py:884: RuntimeWarning: internal gelsd driver lwork query error, required iwork dimension not returned. This is likely the result of LAPACK bug 0038, fixed in LAPACK 3.2.2 (released July 21, 2010). Falling back to 'gelss' driver.\n",
      "  warnings.warn(mesg, RuntimeWarning)\n"
     ]
    }
   ],
   "source": [
    "chosen_model= LinearRegression().fit(x_muts_log10, y_triplet_chosen_centre)\n"
   ]
  },
  {
   "cell_type": "code",
   "execution_count": 30,
   "metadata": {},
   "outputs": [],
   "source": [
    "r_sq = chosen_model.score(x_muts_log10, y_triplet_chosen_centre)\n",
    "slope = chosen_model.coef_\n",
    "intercept = chosen_model.intercept_"
   ]
  },
  {
   "cell_type": "code",
   "execution_count": 31,
   "metadata": {},
   "outputs": [
    {
     "name": "stdout",
     "output_type": "stream",
     "text": [
      "0.943730878937 [ 443.35647003] 2131.8125835\n"
     ]
    }
   ],
   "source": [
    "print(r_sq, slope, intercept)"
   ]
  },
  {
   "cell_type": "code",
   "execution_count": null,
   "metadata": {},
   "outputs": [],
   "source": []
  }
 ],
 "metadata": {
  "kernelspec": {
   "display_name": "Python 3 (ipykernel)",
   "language": "python",
   "name": "python3"
  },
  "language_info": {
   "codemirror_mode": {
    "name": "ipython",
    "version": 3
   },
   "file_extension": ".py",
   "mimetype": "text/x-python",
   "name": "python",
   "nbconvert_exporter": "python",
   "pygments_lexer": "ipython3",
   "version": "3.9.6"
  }
 },
 "nbformat": 4,
 "nbformat_minor": 4
}
