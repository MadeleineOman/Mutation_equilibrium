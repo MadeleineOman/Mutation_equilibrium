{
 "cells": [
  {
   "cell_type": "markdown",
   "metadata": {},
   "source": [
    "# ** Full model redo: intron overalpping ** "
   ]
  },
  {
   "cell_type": "code",
   "execution_count": 3,
   "metadata": {},
   "outputs": [],
   "source": [
    "from numpy.random import choice\n",
    "import copy \n",
    "from tqdm import tqdm\n",
    "import matplotlib.pyplot as plt\n",
    "from datetime import datetime\n",
    "import time\n",
    "import timeit\n",
    "import numpy as np \n",
    "import matplotlib.patches as mpatches\n",
    "import json"
   ]
  },
  {
   "cell_type": "code",
   "execution_count": 2,
   "metadata": {},
   "outputs": [],
   "source": [
    "def base_to_mutate(DNA, current_weights, indices): \n",
    "    \"\"\"\n",
    "    (DNA: str, weights: Dict) -> int\n",
    "    \n",
    "    Will return the index of a random choice of a base that will be mutated based on probabilities given by the\n",
    "    weights dictionary (i.e. the model)\n",
    "    ex. \"ATCGTA\" --> index 3 (\"G\") will mutate\n",
    "    \"\"\"\n",
    "\n",
    "    # NORMALIZE THE POPULATION OF WEIGHTS    \n",
    "    total_freq = sum(current_weights) - current_weights[0] - current_weights[-1] # remove the start and end weight\n",
    "    normalized_weights = [\"error\"]*len(current_weights)\n",
    "    for index, value in enumerate(current_weights):\n",
    "        normalized_weights[index] = value/total_freq \n",
    "    \n",
    "    normalized_weights[0] = 0\n",
    "    normalized_weights[-1] = 0\n",
    "    # DRAW THE INDEX OF THE BASE THAT WILL BE MUTATED\n",
    "    base_index = choice(indices, p=normalized_weights) \n",
    "    \n",
    "\n",
    "    # RETURN THE INDEX\n",
    "    return base_index  \n",
    "\n",
    "\n"
   ]
  },
  {
   "cell_type": "code",
   "execution_count": 13,
   "metadata": {},
   "outputs": [],
   "source": [
    "tmp_value = 0\n",
    "for mut_key,mut_value in json.load(open(\"../Human_mutability_model/Model_2020_12_02_genomeWide.txt\")).items(): \n",
    "    if (mut_value[0]) > tmp_value: \n",
    "        tmp_value = mut_value[0]\n",
    "        trip = mut_key\n",
    "    #tmp_list.append(mut_key)"
   ]
  },
  {
   "cell_type": "code",
   "execution_count": 15,
   "metadata": {},
   "outputs": [
    {
     "data": {
      "text/plain": [
       "(0.00036217158636308954, 'ACG')"
      ]
     },
     "execution_count": 15,
     "metadata": {},
     "output_type": "execute_result"
    }
   ],
   "source": [
    "tmp_value, trip"
   ]
  },
  {
   "cell_type": "code",
   "execution_count": 12,
   "metadata": {},
   "outputs": [
    {
     "data": {
      "text/plain": [
       "(1.3198444035923253e-05, 0.00036217158636308954)"
      ]
     },
     "execution_count": 12,
     "metadata": {},
     "output_type": "execute_result"
    }
   ],
   "source": [
    "min(tmp_list), max(tmp_list)"
   ]
  },
  {
   "cell_type": "code",
   "execution_count": 6,
   "metadata": {},
   "outputs": [
    {
     "data": {
      "text/plain": [
       "([1.3198444035923253e-05,\n",
       "  {'GCA': 0.24535315985130113,\n",
       "   'GGA': 0.5563816604708798,\n",
       "   'GTA': 0.1982651796778191}],\n",
       " 'GAA')"
      ]
     },
     "execution_count": 6,
     "metadata": {},
     "output_type": "execute_result"
    }
   ],
   "source": [
    "mut_value, mut_key"
   ]
  },
  {
   "cell_type": "code",
   "execution_count": 7,
   "metadata": {},
   "outputs": [
    {
     "data": {
      "text/plain": [
       "[1.4524195153728667e-05,\n",
       " {'ACA': 0.30213270142180093,\n",
       "  'AGA': 0.5242890995260664,\n",
       "  'ATA': 0.1735781990521327}]"
      ]
     },
     "execution_count": 7,
     "metadata": {},
     "output_type": "execute_result"
    }
   ],
   "source": [
    "json.load(open(\"../Human_mutability_model/Model_2020_12_02_genomeWide.txt\"))[\"AAA\"]"
   ]
  },
  {
   "cell_type": "markdown",
   "metadata": {},
   "source": [
    "## ** now it has the accurate into base prob, not random ** "
   ]
  },
  {
   "cell_type": "code",
   "execution_count": 115,
   "metadata": {},
   "outputs": [
    {
     "name": "stderr",
     "output_type": "stream",
     "text": [
      "  1%|          | 1088/200000 [00:05<16:06, 205.83it/s]\n"
     ]
    },
    {
     "ename": "KeyboardInterrupt",
     "evalue": "",
     "output_type": "error",
     "traceback": [
      "\u001b[0;31m---------------------------------------------------------------------------\u001b[0m",
      "\u001b[0;31mKeyboardInterrupt\u001b[0m                         Traceback (most recent call last)",
      "\u001b[0;32m<ipython-input-115-b92d9f717b4e>\u001b[0m in \u001b[0;36m<module>\u001b[0;34m()\u001b[0m\n\u001b[1;32m     45\u001b[0m \u001b[0;32mfor\u001b[0m \u001b[0mi\u001b[0m \u001b[0;32min\u001b[0m \u001b[0mtqdm\u001b[0m\u001b[0;34m(\u001b[0m\u001b[0mrange\u001b[0m\u001b[0;34m(\u001b[0m\u001b[0mint\u001b[0m\u001b[0;34m(\u001b[0m\u001b[0mlen\u001b[0m\u001b[0;34m(\u001b[0m\u001b[0mDNA\u001b[0m\u001b[0;34m)\u001b[0m\u001b[0;34m*\u001b[0m\u001b[0mprop_muts\u001b[0m\u001b[0;34m)\u001b[0m\u001b[0;34m)\u001b[0m\u001b[0;34m)\u001b[0m\u001b[0;34m:\u001b[0m\u001b[0;34m\u001b[0m\u001b[0m\n\u001b[1;32m     46\u001b[0m \u001b[0;31m#     s0 = time.time()\u001b[0m\u001b[0;34m\u001b[0m\u001b[0;34m\u001b[0m\u001b[0m\n\u001b[0;32m---> 47\u001b[0;31m     \u001b[0mbase_index\u001b[0m \u001b[0;34m=\u001b[0m \u001b[0mbase_to_mutate\u001b[0m\u001b[0;34m(\u001b[0m\u001b[0mDNA\u001b[0m\u001b[0;34m,\u001b[0m \u001b[0mcurrent_weights\u001b[0m\u001b[0;34m,\u001b[0m \u001b[0mindices\u001b[0m\u001b[0;34m)\u001b[0m\u001b[0;34m\u001b[0m\u001b[0m\n\u001b[0m\u001b[1;32m     48\u001b[0m \u001b[0;34m\u001b[0m\u001b[0m\n\u001b[1;32m     49\u001b[0m \u001b[0;31m#     s1 = time.time()\u001b[0m\u001b[0;34m\u001b[0m\u001b[0;34m\u001b[0m\u001b[0m\n",
      "\u001b[0;32m<ipython-input-2-20d4fb58a854>\u001b[0m in \u001b[0;36mbase_to_mutate\u001b[0;34m(DNA, current_weights, indices)\u001b[0m\n\u001b[1;32m     17\u001b[0m     \u001b[0mnormalized_weights\u001b[0m\u001b[0;34m[\u001b[0m\u001b[0;34m-\u001b[0m\u001b[0;36m1\u001b[0m\u001b[0;34m]\u001b[0m \u001b[0;34m=\u001b[0m \u001b[0;36m0\u001b[0m\u001b[0;34m\u001b[0m\u001b[0m\n\u001b[1;32m     18\u001b[0m     \u001b[0;31m# DRAW THE INDEX OF THE BASE THAT WILL BE MUTATED\u001b[0m\u001b[0;34m\u001b[0m\u001b[0;34m\u001b[0m\u001b[0m\n\u001b[0;32m---> 19\u001b[0;31m     \u001b[0mbase_index\u001b[0m \u001b[0;34m=\u001b[0m \u001b[0mchoice\u001b[0m\u001b[0;34m(\u001b[0m\u001b[0mindices\u001b[0m\u001b[0;34m,\u001b[0m \u001b[0mp\u001b[0m\u001b[0;34m=\u001b[0m\u001b[0mnormalized_weights\u001b[0m\u001b[0;34m)\u001b[0m\u001b[0;34m\u001b[0m\u001b[0m\n\u001b[0m\u001b[1;32m     20\u001b[0m \u001b[0;34m\u001b[0m\u001b[0m\n\u001b[1;32m     21\u001b[0m \u001b[0;34m\u001b[0m\u001b[0m\n",
      "\u001b[0;32mmtrand.pyx\u001b[0m in \u001b[0;36mmtrand.RandomState.choice (numpy/random/mtrand/mtrand.c:15544)\u001b[0;34m()\u001b[0m\n",
      "\u001b[0;32m/usr/local/lib/python3.5/site-packages/numpy/core/getlimits.py\u001b[0m in \u001b[0;36m__new__\u001b[0;34m(cls, dtype)\u001b[0m\n\u001b[1;32m     92\u001b[0m     \u001b[0m_finfo_cache\u001b[0m \u001b[0;34m=\u001b[0m \u001b[0;34m{\u001b[0m\u001b[0;34m}\u001b[0m\u001b[0;34m\u001b[0m\u001b[0m\n\u001b[1;32m     93\u001b[0m \u001b[0;34m\u001b[0m\u001b[0m\n\u001b[0;32m---> 94\u001b[0;31m     \u001b[0;32mdef\u001b[0m \u001b[0m__new__\u001b[0m\u001b[0;34m(\u001b[0m\u001b[0mcls\u001b[0m\u001b[0;34m,\u001b[0m \u001b[0mdtype\u001b[0m\u001b[0;34m)\u001b[0m\u001b[0;34m:\u001b[0m\u001b[0;34m\u001b[0m\u001b[0m\n\u001b[0m\u001b[1;32m     95\u001b[0m         \u001b[0;32mtry\u001b[0m\u001b[0;34m:\u001b[0m\u001b[0;34m\u001b[0m\u001b[0m\n\u001b[1;32m     96\u001b[0m             \u001b[0mdtype\u001b[0m \u001b[0;34m=\u001b[0m \u001b[0mnumeric\u001b[0m\u001b[0;34m.\u001b[0m\u001b[0mdtype\u001b[0m\u001b[0;34m(\u001b[0m\u001b[0mdtype\u001b[0m\u001b[0;34m)\u001b[0m\u001b[0;34m\u001b[0m\u001b[0m\n",
      "\u001b[0;31mKeyboardInterrupt\u001b[0m: "
     ]
    }
   ],
   "source": [
    "#informing the graph \n",
    "sim_details = \"\"\n",
    "\n",
    "#making the dna ~~~~~~~~~~~~~~~~~~~~~~~~~~~~~~~~~~~~~~~~~~~~~~~~~~~~~~~~~~~~~~~~~~~~~~~~~~~~~~~~~~~~~~\n",
    "dna_length = 20000\n",
    "DNA  = choice([\"A\", \"T\", \"C\", \"G\"], size = dna_length)\n",
    "DNA = \"\".join(DNA)\n",
    "DNA_initial = copy.copy(DNA)\n",
    "sim_details += str(dna_length/1000000) + \"MB random seq \\n \"\n",
    "\n",
    "#triplets\n",
    "triplets = []\n",
    "for i_1 in [\"A\", \"T\", \"G\", \"C\"]: \n",
    "    for i_2 in [\"A\", \"T\", \"G\", \"C\"]: \n",
    "        for i_3 in [\"A\", \"T\", \"G\", \"C\"]: \n",
    "            triplets.append(i_1+i_2+i_3)\n",
    "        \n",
    "#mutability model \n",
    "model = json.load(open(\"../Human_mutability_model/Model_2020_12_02_genomeWide.txt\"))\n",
    "#triplet-count dict \n",
    "triplet_chosen_count_dict = {}\n",
    "triplet_into_count_dict = {}\n",
    "for triplet in triplets: \n",
    "    triplet_chosen_count_dict[triplet] = [0,0,0]  \n",
    "    triplet_into_count_dict[triplet] = [0,0,0]\n",
    "\n",
    "#making the weights \n",
    "current_weights = []\n",
    "for i in range(1,len(DNA)-1): \n",
    "    triplet = DNA[i-1:i+2]\n",
    "    current_weights.append(model[triplet][0])\n",
    "\n",
    "indices = [i for i in range(1, len(DNA)-1)]\n",
    "mut_indices = []\n",
    "\n",
    "#choosing number of muts \n",
    "prop_muts = 10\n",
    "sim_details += str(prop_muts)+\"X prop muts \\n\"\n",
    "\n",
    "\n",
    "# DESCRIBE THE SIMULATION PLEASE GOD ~~~~~~~~~~~~~~~~~~~~~~~~~~~~~~~~~~~~~~~~~~~~~~~~~~~~~~~~~~~~~~~~~~~~~~~~~~~!!!!!!!!!!\n",
    "sim_details = \"random onto triplet,  overlapping\" + sim_details\n",
    "\n",
    "#runnign the sim ~~~~~~~~~~~~~~~~~~~~~~~~~~~~~~~~~~~~~~~~~~~~~~~~~~~~~~~~~~~~~~~~~~~~~~~~~~~~~~~~~~~~~\n",
    "for i in tqdm(range(int(len(DNA)*prop_muts))):\n",
    "#     s0 = time.time()\n",
    "    base_index = base_to_mutate(DNA, current_weights, indices)\n",
    "    \n",
    "#     s1 = time.time()\n",
    "#     t1 = time.time() - s0\n",
    "    \n",
    "#     curr_index = indices.index(base_index)\n",
    "#     current_weights = current_weights[0:curr_index -2]+current_weights[curr_index+3:]\n",
    "    \n",
    "    mut_indices.append(base_index)\n",
    "#     s2 = time.time()\n",
    "#     t2 = time.time() - s1\n",
    "    #adding the count for \"chosen to mutate\" in coutns dict \n",
    "    c_triplet = DNA[base_index-1: base_index+2]\n",
    "    c_triplet_left = DNA[base_index-2: base_index+1]\n",
    "    c_triplet_right = DNA[base_index: base_index+3]\n",
    "#     s3 = time.time()\n",
    "#     t3 = time.time() - s2\n",
    "    \n",
    "    triplet_chosen_count_dict[c_triplet_left][0] += 1\n",
    "    triplet_chosen_count_dict[c_triplet][1] += 1\n",
    "    triplet_chosen_count_dict[c_triplet_right][2] += 1\n",
    "    \n",
    "    \n",
    "    #accurate model INTO probability ~~~~~~~~~~~~~~~~~~~~~~~~~~~~~~~~~~~~~~OR ^ \n",
    "    curr_into_bases = []\n",
    "    curr_into_bases_probs = []\n",
    "    for into_base, prob in model[c_triplet][1].items(): \n",
    "        curr_into_bases.append(into_base)\n",
    "        curr_into_bases_probs.append(prob)\n",
    "    mb =  choice(curr_into_bases, p = curr_into_bases_probs)[1]\n",
    "\n",
    "    #adding the count for \"mutated into thiss\" in the triplet dict \n",
    "    m_triplet = c_triplet[0]+mb+c_triplet[2]\n",
    "    m_triplet_left = c_triplet_left[0:2]+mb\n",
    "    m_triplet_right = mb+c_triplet_right[1:3]\n",
    "    \n",
    "    triplet_into_count_dict[m_triplet_left][0] += 1 \n",
    "    triplet_into_count_dict[m_triplet][1] += 1 \n",
    "    triplet_into_count_dict[m_triplet_right][2] += 1 \n",
    "#     s6 = time.time()\n",
    "#     t6 = time.time() - s5\n",
    "    \n",
    "    #chanaging the dna \n",
    "    DNA = DNA[:base_index]+mb+DNA[base_index+1:]\n",
    "#     s7 = time.time()\n",
    "#     t7 = time.time() - s6\n",
    "\n",
    "    current_weights[base_index-2]= model[m_triplet_left][0]    \n",
    "    current_weights[base_index-1]= model[m_triplet][0]\n",
    "    current_weights[base_index] = model[m_triplet_right][0]\n",
    "    \n",
    "\n"
   ]
  },
  {
   "cell_type": "code",
   "execution_count": 10,
   "metadata": {},
   "outputs": [
    {
     "data": {
      "text/plain": [
       "499999"
      ]
     },
     "execution_count": 10,
     "metadata": {},
     "output_type": "execute_result"
    }
   ],
   "source": [
    "i"
   ]
  },
  {
   "cell_type": "markdown",
   "metadata": {},
   "source": [
    "# ** PLOTTING GENOME VS SIM TRIPLET FREQS ** "
   ]
  },
  {
   "cell_type": "markdown",
   "metadata": {},
   "source": [
    "** getting and normalizing the simulation  triplet couts ** "
   ]
  },
  {
   "cell_type": "code",
   "execution_count": 11,
   "metadata": {},
   "outputs": [
    {
     "name": "stderr",
     "output_type": "stream",
     "text": [
      "100%|██████████| 49997/49997 [00:00<00:00, 1133717.63it/s]\n"
     ]
    }
   ],
   "source": [
    "triplet_counts = {}\n",
    "muts = []\n",
    "for triplet in triplets: \n",
    "    triplet_counts[triplet] = 0\n",
    "    muts.append(model[triplet][0])\n",
    "\n",
    "for i in tqdm(range(1, len(DNA)-2)):\n",
    "    triplet = DNA[i-1:i+2]\n",
    "    triplet_counts[triplet] += 1\n",
    "\n",
    "triplet_counts_list = []\n",
    "for triplet in triplets: \n",
    "    triplet_counts_list.append(triplet_counts[triplet])"
   ]
  },
  {
   "cell_type": "code",
   "execution_count": 12,
   "metadata": {},
   "outputs": [],
   "source": [
    "sum_trips_sim = sum(triplet_counts_list)"
   ]
  },
  {
   "cell_type": "code",
   "execution_count": 13,
   "metadata": {},
   "outputs": [],
   "source": [
    "for index, element in enumerate(triplet_counts_list): \n",
    "    triplet_counts_list[index] = element/ sum_trips_sim"
   ]
  },
  {
   "cell_type": "markdown",
   "metadata": {},
   "source": [
    "** getting and normalizing the genome triplet counts ** "
   ]
  },
  {
   "cell_type": "code",
   "execution_count": 14,
   "metadata": {},
   "outputs": [],
   "source": [
    "triplet_genome_counts_dict = json.load(open(\"../HumanTripletCounts/GenomeTripletCounts_2020_12_02_genomeWide.txt\"))"
   ]
  },
  {
   "cell_type": "code",
   "execution_count": 15,
   "metadata": {},
   "outputs": [],
   "source": [
    "triplet_genome_counts_list = []\n",
    "for triplet in triplets: \n",
    "    triplet_genome_counts_list.append(int(triplet_genome_counts_dict[triplet]))"
   ]
  },
  {
   "cell_type": "code",
   "execution_count": 16,
   "metadata": {},
   "outputs": [],
   "source": [
    "sum_trips_genome = sum(triplet_genome_counts_list)"
   ]
  },
  {
   "cell_type": "code",
   "execution_count": 17,
   "metadata": {},
   "outputs": [],
   "source": [
    "for index, element in enumerate(triplet_genome_counts_list): \n",
    "    triplet_genome_counts_list[index] = element/ sum_trips_genome"
   ]
  },
  {
   "cell_type": "markdown",
   "metadata": {},
   "source": [
    "** plotting both together ** "
   ]
  },
  {
   "cell_type": "code",
   "execution_count": 20,
   "metadata": {},
   "outputs": [],
   "source": [
    "plt.style.use(\"seaborn-ticks\")"
   ]
  },
  {
   "cell_type": "code",
   "execution_count": 24,
   "metadata": {},
   "outputs": [
    {
     "data": {
      "image/png": "[encoded data removed]",
      "text/plain": [
       "<matplotlib.figure.Figure at 0x7f107eb6b8d0>"
      ]
     },
     "metadata": {},
     "output_type": "display_data"
    }
   ],
   "source": [
    "plt.scatter(triplet_counts_list,triplet_genome_counts_list, color = \"black\",  )\n",
    "plt.plot([0,0.055], [0,0.055])\n",
    "plt.xlabel(\"Simulation triplet frequency\")\n",
    "plt.ylabel(\"Genome triplet frequency\")\n",
    "sim_details = \"100kBp_10xMuts_accurateIntoTrip\"\n",
    "\n",
    "plt.xlim((0,0.055))\n",
    "plt.ylim((0,0.055))\n",
    "\n",
    "plt.show()\n",
    "# timestamp = datetime.now().strftime(\"%Y/%m/%d_%H:%M:%S\").replace(\"/\", \"_\").replace(\":\", \"_\")\n",
    "# plt.tight_layout()\n",
    "# plt.savefig(\"Data/Scatter_{t}_{l}Mbp_{p}propmuts_accurateINTO_genomeVsim.png\".format(p = prop_muts, l = str(dna_length/1000000), t = timestamp))"
   ]
  },
  {
   "cell_type": "markdown",
   "metadata": {},
   "source": [
    "** adding the mutability coloration ** "
   ]
  },
  {
   "cell_type": "code",
   "execution_count": 56,
   "metadata": {},
   "outputs": [],
   "source": [
    "min_muts = min(muts)\n",
    "integer_muts = [i/min_muts for i in muts]"
   ]
  },
  {
   "cell_type": "code",
   "execution_count": 55,
   "metadata": {},
   "outputs": [
    {
     "data": {
      "text/plain": [
       "1.3198444035923253e-05"
      ]
     },
     "execution_count": 55,
     "metadata": {},
     "output_type": "execute_result"
    }
   ],
   "source": [
    "min_muts"
   ]
  },
  {
   "cell_type": "code",
   "execution_count": 112,
   "metadata": {},
   "outputs": [],
   "source": [
    "edge_colors = []\n",
    "for mut in muts: \n",
    "    if mut <= 0.00020: \n",
    "        edge_colors.append(\"grey\")\n",
    "    elif mut <= 0.0003: \n",
    "        edge_colors.append(\"dimgrey\")\n",
    "    else: \n",
    "        edge_colors.append(\"black\")\n",
    "        "
   ]
  },
  {
   "cell_type": "code",
   "execution_count": 114,
   "metadata": {},
   "outputs": [
    {
     "data": {
      "image/png": "[encoded data removed]",
      "text/plain": [
       "<matplotlib.figure.Figure at 0x7f107eb5c4a8>"
      ]
     },
     "metadata": {},
     "output_type": "display_data"
    }
   ],
   "source": [
    "plt.scatter(triplet_counts_list,triplet_genome_counts_list, s = 30, color = muts, edgecolor = edge_colors, cmap = \"Greys\")\n",
    "plt.plot([0,0.055], [0,0.055], color = \"grey\", linestyle='dashed')\n",
    "plt.xlabel(\"Simulation triplet frequency\")\n",
    "plt.ylabel(\"Genome triplet frequency\")\n",
    "sim_details = \"100kBp_10xMuts_accurateIntoTrip\"\n",
    "\n",
    "# plt.legend(loc = 4, handles=[patch1, patch2, patch3, patch4])\n",
    "plt.colorbar()\n",
    "\n",
    "plt.xlim((0,0.055))\n",
    "plt.ylim((0,0.05))\n",
    "# plt.xticks([0,0.01,0.02,0.03,0.04, 0.05])\n",
    "# plt.yticks([0,0.01,0.02,0.03,0.04, 0.05])\n",
    "\n",
    "plt.show()\n",
    "# timestamp = datetime.now().strftime(\"%Y/%m/%d_%H:%M:%S\").replace(\"/\", \"_\").replace(\":\", \"_\")\n",
    "# plt.tight_layout()\n",
    "# plt.savefig(\"plots/Scatter_{t}_{l}Mbp_{p}propmuts_accurateINTO_genomeVsim.png\".format(p = prop_muts, l = str(dna_length/1000000), t = timestamp))"
   ]
  },
  {
   "cell_type": "code",
   "execution_count": null,
   "metadata": {},
   "outputs": [],
   "source": [
    "for key, value in "
   ]
  },
  {
   "cell_type": "code",
   "execution_count": null,
   "metadata": {},
   "outputs": [],
   "source": []
  },
  {
   "cell_type": "code",
   "execution_count": null,
   "metadata": {},
   "outputs": [],
   "source": []
  },
  {
   "cell_type": "code",
   "execution_count": null,
   "metadata": {},
   "outputs": [],
   "source": []
  },
  {
   "cell_type": "code",
   "execution_count": null,
   "metadata": {},
   "outputs": [],
   "source": []
  },
  {
   "cell_type": "code",
   "execution_count": null,
   "metadata": {},
   "outputs": [],
   "source": []
  },
  {
   "cell_type": "code",
   "execution_count": null,
   "metadata": {},
   "outputs": [],
   "source": []
  },
  {
   "cell_type": "code",
   "execution_count": null,
   "metadata": {},
   "outputs": [],
   "source": []
  },
  {
   "cell_type": "markdown",
   "metadata": {},
   "source": [
    "# **appendix **"
   ]
  },
  {
   "cell_type": "markdown",
   "metadata": {},
   "source": [
    "# ** PLOTTING TRIPLT FREQS ** "
   ]
  },
  {
   "cell_type": "code",
   "execution_count": 5,
   "metadata": {},
   "outputs": [
    {
     "name": "stderr",
     "output_type": "stream",
     "text": [
      "100%|██████████| 99997/99997 [00:00<00:00, 1156198.15it/s]\n"
     ]
    }
   ],
   "source": [
    "triplet_counts = {}\n",
    "muts = []\n",
    "for triplet in triplets: \n",
    "    triplet_counts[triplet] = 0\n",
    "    muts.append(model[triplet][0])\n",
    "\n",
    "for i in tqdm(range(1, len(DNA)-2)):\n",
    "    triplet = DNA[i-1:i+2]\n",
    "    triplet_counts[triplet] += 1\n",
    "\n",
    "triplet_counts_list = []\n",
    "for triplet in triplets: \n",
    "    triplet_counts_list.append(triplet_counts[triplet])"
   ]
  },
  {
   "cell_type": "code",
   "execution_count": 11,
   "metadata": {},
   "outputs": [],
   "source": [
    "plt.style.use(\"seaborn-darkgrid\")"
   ]
  },
  {
   "cell_type": "code",
   "execution_count": 11,
   "metadata": {},
   "outputs": [
    {
     "data": {
      "image/png": "[encoded data removed]",
      "text/plain": [
       "<matplotlib.figure.Figure at 0x7f2b11e871d0>"
      ]
     },
     "metadata": {},
     "output_type": "display_data"
    }
   ],
   "source": [
    "plt.scatter(muts,triplet_counts_list, color = \"red\", label = \"freq in sim\", alpha = 0.5)\n",
    "plt.xlabel(\"mutability\")\n",
    "plt.ylabel(\"frequncy in sim \")\n",
    "sim_details = \"100kBp random string   10x prop muts \\n frequncy   random INTO trip\"\n",
    "plt.title(sim_details)\n",
    "\n",
    "plt.xlim((0.2,1))\n",
    "\n",
    "#plt.errorbar(triplet_muts_intron, triplet_chnage_mean_intron, yerr = np.array(triplet_chnage_std_intron), ecolor = \"grey\", ls = \"None\")\n",
    "\n",
    "# plt.show()\n",
    "# timestamp = datetime.now().strftime(\"%Y/%m/%d_%H:%M:%S\").replace(\"/\", \"_\").replace(\":\", \"_\")\n",
    "# plt.tight_layout()\n",
    "# plt.savefig(\"Data/Scatter_{t}_{l}Mbp_{p}propmuts_rnadomINTO.png\".format(p = prop_muts, l = str(dna_length/1000000), t = timestamp))"
   ]
  },
  {
   "cell_type": "markdown",
   "metadata": {},
   "source": [
    "## ** plotting left / right ** "
   ]
  },
  {
   "cell_type": "code",
   "execution_count": 6,
   "metadata": {},
   "outputs": [],
   "source": [
    "triplet_chosen_left = []\n",
    "triplet_chosen_centre = []\n",
    "triplet_chosen_right = []\n",
    "triplet_chosen_mean = []\n",
    "triplet_into_left = []\n",
    "triplet_into_centre = []\n",
    "triplet_into_right = []\n",
    "triplet_into_mean = []\n",
    "\n",
    "muts = []\n",
    "for triplet in triplets: \n",
    "    triplet_chosen_left.append(triplet_chosen_count_dict[triplet][0])\n",
    "    triplet_chosen_centre.append(triplet_chosen_count_dict[triplet][1])\n",
    "    triplet_chosen_right.append(triplet_chosen_count_dict[triplet][2])\n",
    "    triplet_chosen_mean.append(np.mean(triplet_chosen_count_dict[triplet]))\n",
    "    \n",
    "    triplet_into_left.append(triplet_into_count_dict[triplet][0])\n",
    "    triplet_into_centre.append(triplet_into_count_dict[triplet][1])\n",
    "    triplet_into_right.append(triplet_into_count_dict[triplet][2])\n",
    "    triplet_into_mean.append(np.mean(triplet_into_count_dict[triplet]))\n",
    "    \n",
    "    muts.append(model[triplet][0])"
   ]
  },
  {
   "cell_type": "code",
   "execution_count": 7,
   "metadata": {},
   "outputs": [],
   "source": []
  },
  {
   "cell_type": "code",
   "execution_count": 13,
   "metadata": {},
   "outputs": [
    {
     "data": {
      "image/png": "[encoded data removed]",
      "text/plain": [
       "<matplotlib.figure.Figure at 0x7f2b11c0dc50>"
      ]
     },
     "metadata": {},
     "output_type": "display_data"
    }
   ],
   "source": [
    "plt.style.use(\"seaborn-ticks\")\n",
    "plt.scatter(muts,triplet_chosen_centre, color = \"blue\", label = \"# times chosen\", alpha = 0.5)\n",
    "plt.scatter(muts,triplet_into_centre, color = \"green\", label = \"# times mutated into\", alpha = 0.5)\n",
    "plt.legend(loc = 2)\n",
    "plt.xlabel(\"Relative triplet mutability\")\n",
    "plt.ylabel(\"Triplet counts\")\n",
    "# sim_details = \"1MB random string   0.05x prop muts \\n new adj count: centre\"\n",
    "# plt.title(sim_details)\n",
    "\n",
    "#plt.errorbar(triplet_muts_intron, triplet_chnage_mean_intron, yerr = np.array(triplet_chnage_std_intron), ecolor = \"grey\", ls = \"None\")\n",
    "\n",
    "#font size \n",
    "\n",
    "SMALL_SIZE = 10\n",
    "MEDIUM_SIZE = 14\n",
    "BIGGER_SIZE = 18\n",
    "plt.rc('font', size=SMALL_SIZE)          # controls default text sizes\n",
    "plt.rc('axes', titlesize=MEDIUM_SIZE)     # fontsize of the axes title\n",
    "plt.rc('axes', labelsize=MEDIUM_SIZE)    # fontsize of the x and y labels\n",
    "plt.rc('xtick', labelsize=MEDIUM_SIZE)    # fontsize of the tick labels\n",
    "plt.rc('ytick', labelsize=MEDIUM_SIZE)    # fontsize of the tick labels\n",
    "plt.rc('legend', fontsize=MEDIUM_SIZE)  \n",
    "\n",
    "# plt.show()\n",
    "timestamp = datetime.now().strftime(\"%Y/%m/%d_%H:%M:%S\").replace(\"/\", \"_\").replace(\":\", \"_\")\n",
    "plt.tight_layout()\n",
    "plt.savefig(\"Data/Scatter_{t}_{l}Mbp_{p}propmuts_accruateINTO_central.png\".format(p = prop_muts, l = str(dna_length/1000000), t = timestamp))"
   ]
  },
  {
   "cell_type": "markdown",
   "metadata": {},
   "source": [
    "** understanding the sim: differences b/t muts ** "
   ]
  },
  {
   "cell_type": "markdown",
   "metadata": {},
   "source": [
    "## ** plotting left / right ** "
   ]
  },
  {
   "cell_type": "code",
   "execution_count": 6,
   "metadata": {},
   "outputs": [],
   "source": [
    "triplet_chosen_left = []\n",
    "triplet_chosen_centre = []\n",
    "triplet_chosen_right = []\n",
    "triplet_chosen_mean = []\n",
    "triplet_into_left = []\n",
    "triplet_into_centre = []\n",
    "triplet_into_right = []\n",
    "triplet_into_mean = []\n",
    "\n",
    "muts = []\n",
    "for triplet in triplets: \n",
    "    triplet_chosen_left.append(triplet_chosen_count_dict[triplet][0])\n",
    "    triplet_chosen_centre.append(triplet_chosen_count_dict[triplet][1])\n",
    "    triplet_chosen_right.append(triplet_chosen_count_dict[triplet][2])\n",
    "    triplet_chosen_mean.append(np.mean(triplet_chosen_count_dict[triplet]))\n",
    "    \n",
    "    triplet_into_left.append(triplet_into_count_dict[triplet][0])\n",
    "    triplet_into_centre.append(triplet_into_count_dict[triplet][1])\n",
    "    triplet_into_right.append(triplet_into_count_dict[triplet][2])\n",
    "    triplet_into_mean.append(np.mean(triplet_into_count_dict[triplet]))\n",
    "    \n",
    "    muts.append(model[triplet][0])"
   ]
  },
  {
   "cell_type": "code",
   "execution_count": 7,
   "metadata": {},
   "outputs": [],
   "source": []
  },
  {
   "cell_type": "code",
   "execution_count": 9,
   "metadata": {},
   "outputs": [
    {
     "data": {
      "image/png": "[encoded data removed]",
      "text/plain": [
       "<matplotlib.figure.Figure at 0x7f2b13414a58>"
      ]
     },
     "metadata": {},
     "output_type": "display_data"
    }
   ],
   "source": [
    "plt.style.use(\"seaborn-ticks\")\n",
    "plt.scatter(muts,triplet_chosen_centre, color = \"blue\", label = \"# times chosen\", alpha = 0.5)\n",
    "plt.scatter(muts,triplet_into_centre, color = \"green\", label = \"# times mutated into\", alpha = 0.5)\n",
    "plt.legend(loc = 2)\n",
    "plt.xlabel(\"Relative triplet mutability\")\n",
    "plt.ylabel(\"Triplet counts\")\n",
    "# sim_details = \"1MB random string   0.05x prop muts \\n new adj count: centre\"\n",
    "# plt.title(sim_details)\n",
    "\n",
    "#plt.errorbar(triplet_muts_intron, triplet_chnage_mean_intron, yerr = np.array(triplet_chnage_std_intron), ecolor = \"grey\", ls = \"None\")\n",
    "\n",
    "#font size \n",
    "\n",
    "SMALL_SIZE = 10\n",
    "MEDIUM_SIZE = 14\n",
    "BIGGER_SIZE = 18\n",
    "plt.rc('font', size=SMALL_SIZE)          # controls default text sizes\n",
    "plt.rc('axes', titlesize=MEDIUM_SIZE)     # fontsize of the axes title\n",
    "plt.rc('axes', labelsize=MEDIUM_SIZE)    # fontsize of the x and y labels\n",
    "plt.rc('xtick', labelsize=MEDIUM_SIZE)    # fontsize of the tick labels\n",
    "plt.rc('ytick', labelsize=MEDIUM_SIZE)    # fontsize of the tick labels\n",
    "plt.rc('legend', fontsize=MEDIUM_SIZE)  \n",
    "\n",
    "plt.show()\n",
    "# timestamp = datetime.now().strftime(\"%Y/%m/%d_%H:%M:%S\").replace(\"/\", \"_\").replace(\":\", \"_\")\n",
    "# plt.tight_layout()\n",
    "# plt.savefig(\"Data/Scatter_{t}_{p}propmuts.png\".format(p = prop_muts, t = timestamp))"
   ]
  },
  {
   "cell_type": "code",
   "execution_count": 8,
   "metadata": {},
   "outputs": [
    {
     "data": {
      "text/plain": [
       "64"
      ]
     },
     "execution_count": 8,
     "metadata": {},
     "output_type": "execute_result"
    }
   ],
   "source": [
    "len(triplet_into_right,)"
   ]
  },
  {
   "cell_type": "code",
   "execution_count": 9,
   "metadata": {},
   "outputs": [
    {
     "data": {
      "image/png": "[encoded data removed]",
      "text/plain": [
       "<matplotlib.figure.Figure at 0x7f66ef2a45f8>"
      ]
     },
     "metadata": {},
     "output_type": "display_data"
    }
   ],
   "source": [
    "plt.scatter(muts,triplet_chosen_right, color = \"red\", label = \"# times chosen\", alpha = 0.5)\n",
    "plt.scatter(muts,triplet_into_right, color = \"green\", label = \"# times mutated into\", alpha = 0.5)\n",
    "plt.legend(loc = 2)\n",
    "plt.xlabel(\"mutability\")\n",
    "plt.ylabel(\"triplet chnage\")\n",
    "sim_details = \"1MB random string   0.05x prop muts \\n new adj count: right\"\n",
    "plt.title(sim_details)\n",
    "\n",
    "#plt.errorbar(triplet_muts_intron, triplet_chnage_mean_intron, yerr = np.array(triplet_chnage_std_intron), ecolor = \"grey\", ls = \"None\")\n",
    "\n",
    "# plt.show()\n",
    "timestamp = datetime.now().strftime(\"%Y/%m/%d_%H:%M:%S\").replace(\"/\", \"_\").replace(\":\", \"_\")\n",
    "plt.tight_layout()\n",
    "plt.savefig(\"Data/Scatter_{t}_{p}propmuts.png\".format(p = prop_muts, t = timestamp))"
   ]
  },
  {
   "cell_type": "code",
   "execution_count": 10,
   "metadata": {},
   "outputs": [
    {
     "data": {
      "image/png": "[encoded data removed]",
      "text/plain": [
       "<matplotlib.figure.Figure at 0x7f66ef4308d0>"
      ]
     },
     "metadata": {},
     "output_type": "display_data"
    }
   ],
   "source": [
    "plt.scatter(muts,triplet_chosen_mean, color = \"red\", label = \"# times chosen\", alpha = 0.5)\n",
    "plt.scatter(muts,triplet_into_mean, color = \"green\", label = \"# times mutated into\", alpha = 0.5)\n",
    "plt.legend(loc = 2)\n",
    "plt.xlabel(\"mutability\")\n",
    "plt.ylabel(\"triplet chnage\")\n",
    "sim_details = \"1MB random string   0.05x prop muts \\n new adj count: mean left, centre & right\"\n",
    "plt.title(sim_details)\n",
    "\n",
    "#plt.errorbar(triplet_muts_intron, triplet_chnage_mean_intron, yerr = np.array(triplet_chnage_std_intron), ecolor = \"grey\", ls = \"None\")\n",
    "\n",
    "# plt.show()\n",
    "timestamp = datetime.now().strftime(\"%Y/%m/%d_%H:%M:%S\").replace(\"/\", \"_\").replace(\":\", \"_\")\n",
    "plt.tight_layout()\n",
    "plt.savefig(\"Data/Scatter_{t}_{p}propmuts.png\".format(p = prop_muts, t = timestamp))"
   ]
  },
  {
   "cell_type": "markdown",
   "metadata": {},
   "source": [
    " # ** TRIPLET COUNT CHNAGE PLOT ** "
   ]
  },
  {
   "cell_type": "code",
   "execution_count": 12,
   "metadata": {},
   "outputs": [
    {
     "name": "stderr",
     "output_type": "stream",
     "text": [
      "100%|██████████| 9998/9998 [00:00<00:00, 686159.72it/s]\n"
     ]
    }
   ],
   "source": [
    "trip_count_dict_init_final = {}\n",
    "\n",
    "for triplet in triplets: \n",
    "    trip_count_dict_init_final[triplet] = [0,0]\n",
    "    \n",
    "for index in tqdm(range(1,len(DNA_initial)-1)): \n",
    "    triplet = DNA_initial[index-1:index+2]\n",
    "    trip_count_dict_init_final[triplet][0] += 1\n",
    "    \n",
    "    triplet = DNA[index-1:index+2]\n",
    "    trip_count_dict_init_final[triplet][1] += 1\n",
    "\n",
    "triplet_change = []\n",
    "for triplet in triplets: \n",
    "    triplet_change.append(trip_count_dict_init_final[triplet][1]- trip_count_dict_init_final[triplet][0])\n",
    "    \n",
    "    "
   ]
  },
  {
   "cell_type": "code",
   "execution_count": 13,
   "metadata": {},
   "outputs": [
    {
     "data": {
      "image/png": "[encoded data removed]",
      "text/plain": [
       "<matplotlib.figure.Figure at 0x7f66ef396e80>"
      ]
     },
     "metadata": {},
     "output_type": "display_data"
    }
   ],
   "source": [
    "plt.scatter(muts,triplet_change, color = \"red\", label = \"# times chosen\", alpha = 0.5)\n",
    "plt.xlabel(\"mutability\")\n",
    "plt.ylabel(\"triplet chnage\")\n",
    "sim_details = \"1MB random string   0.05x prop muts \\n triplet chnage\"\n",
    "plt.title(sim_details)\n",
    "\n",
    "plt.hlines(0, xmin = 0.2, xmax = 1)\n",
    "plt.xlim((0.2,1))\n",
    "\n",
    "#plt.errorbar(triplet_muts_intron, triplet_chnage_mean_intron, yerr = np.array(triplet_chnage_std_intron), ecolor = \"grey\", ls = \"None\")\n",
    "\n",
    "# plt.show()\n",
    "timestamp = datetime.now().strftime(\"%Y/%m/%d_%H:%M:%S\").replace(\"/\", \"_\").replace(\":\", \"_\")\n",
    "plt.tight_layout()\n",
    "plt.savefig(\"Data/Scatter_{t}_{p}propmuts.png\".format(p = prop_muts, t = timestamp))"
   ]
  },
  {
   "cell_type": "code",
   "execution_count": 95,
   "metadata": {},
   "outputs": [],
   "source": [
    "mut_indices.sort()\n",
    "mut_chosen_differences = []\n",
    "for index,value in enumerate(mut_indices): \n",
    "    if index != 0: \n",
    "        mut_chosen_differences.append( value - mut_indices[index-1])\n",
    "    "
   ]
  },
  {
   "cell_type": "code",
   "execution_count": 24,
   "metadata": {},
   "outputs": [
    {
     "data": {
      "text/plain": [
       "4"
      ]
     },
     "execution_count": 24,
     "metadata": {},
     "output_type": "execute_result"
    }
   ],
   "source": [
    "2+2"
   ]
  },
  {
   "cell_type": "code",
   "execution_count": 109,
   "metadata": {},
   "outputs": [
    {
     "data": {
      "text/plain": [
       "(array([  3.28190000e+04,   1.12410000e+04,   3.93600000e+03,\n",
       "          1.30200000e+03,   4.68000000e+02,   1.35000000e+02,\n",
       "          6.50000000e+01,   2.00000000e+01,   9.00000000e+00,\n",
       "          4.00000000e+00]),\n",
       " array([   0. ,   21.4,   42.8,   64.2,   85.6,  107. ,  128.4,  149.8,\n",
       "         171.2,  192.6,  214. ]),\n",
       " <a list of 10 Patch objects>)"
      ]
     },
     "execution_count": 109,
     "metadata": {},
     "output_type": "execute_result"
    },
    {
     "data": {
      "image/png": "[encoded data removed]",
      "text/plain": [
       "<matplotlib.figure.Figure at 0x7eff627ea6a0>"
      ]
     },
     "metadata": {},
     "output_type": "display_data"
    }
   ],
   "source": [
    "plt.hist(mut_chosen_differences)"
   ]
  },
  {
   "cell_type": "code",
   "execution_count": 49,
   "metadata": {},
   "outputs": [
    {
     "name": "stderr",
     "output_type": "stream",
     "text": [
      "100%|██████████| 3/3 [00:00<00:00, 3345.63it/s]\n"
     ]
    }
   ],
   "source": [
    "for gen in tqdm(range(int(len(DNA)/10))): \n",
    "    base_index = base_to_mutate(DNA, current_weights, indices, mut_indices)\n",
    "    #     print(mut_indices)\n",
    "    #     print(base_index)\n",
    "    indices = indices[0:base_index -2]+indices[base_index+3:]\n",
    "    current_weights = current_weights[0:base_index -2]+current_weights[base_index+3:]\n",
    "    mut_indices.append(base_index)\n"
   ]
  },
  {
   "cell_type": "code",
   "execution_count": 51,
   "metadata": {},
   "outputs": [
    {
     "data": {
      "text/plain": [
       "[9, 3, 15]"
      ]
     },
     "execution_count": 51,
     "metadata": {},
     "output_type": "execute_result"
    }
   ],
   "source": [
    "mut_indices"
   ]
  },
  {
   "cell_type": "code",
   "execution_count": 50,
   "metadata": {},
   "outputs": [
    {
     "data": {
      "text/plain": [
       "[1, 7, 13, 14, 15, 16, 17, 18, 19, 20, 21, 22, 23]"
      ]
     },
     "execution_count": 50,
     "metadata": {},
     "output_type": "execute_result"
    }
   ],
   "source": [
    "indices\n"
   ]
  },
  {
   "cell_type": "code",
   "execution_count": 127,
   "metadata": {},
   "outputs": [
    {
     "name": "stderr",
     "output_type": "stream",
     "text": [
      "100%|██████████| 1100/1100 [00:04<00:00, 225.03it/s]\n"
     ]
    }
   ],
   "source": [
    "\n",
    "for i in tqdm(range(int(len(DNA)/10))):\n",
    "    base_index = base_to_mutate(DNA, current_weights, indices, mut_indices)\n",
    "    \n",
    "    curr_index = indices.index(base_index)\n",
    "    indices = indices[0:curr_index -3]+indices[curr_index+4:]\n",
    "    current_weights = current_weights[0:curr_index -3]+current_weights[curr_index+4:]\n",
    "\n",
    "    c_triplet = DNA[base_index-1: base_index+2]\n",
    "\n",
    "    curr_into_bases = [\"A\", \"T\", \"C\", \"G\"]\n",
    "    curr_into_bases.remove(c_triplet[1])\n",
    "    mb =  choice(curr_into_bases)\n",
    "\n",
    "    DNA = DNA[:base_index]+mb+DNA[base_index+1:]\n",
    "    #print(base_index, indices, mb, sep = \"\\t\")"
   ]
  },
  {
   "cell_type": "code",
   "execution_count": 146,
   "metadata": {},
   "outputs": [
    {
     "data": {
      "text/plain": [
       "1100"
      ]
     },
     "execution_count": 146,
     "metadata": {},
     "output_type": "execute_result"
    }
   ],
   "source": [
    "len(mut_indices)"
   ]
  },
  {
   "cell_type": "code",
   "execution_count": 130,
   "metadata": {},
   "outputs": [
    {
     "data": {
      "text/plain": [
       "1100"
      ]
     },
     "execution_count": 130,
     "metadata": {},
     "output_type": "execute_result"
    }
   ],
   "source": [
    "len(set(mut_indices))"
   ]
  },
  {
   "cell_type": "code",
   "execution_count": 134,
   "metadata": {},
   "outputs": [],
   "source": [
    "mut_indices.sort()"
   ]
  },
  {
   "cell_type": "code",
   "execution_count": 140,
   "metadata": {},
   "outputs": [],
   "source": [
    "fuckups = []\n",
    "for index, value in enumerate(mut_indices): \n",
    "    if index != 0: \n",
    "        diff = value - mut_indices[index-1]\n",
    "        if diff <= 3: \n",
    "            fuckups.append([value, mut_indices[index-1]])\n"
   ]
  },
  {
   "cell_type": "code",
   "execution_count": 149,
   "metadata": {},
   "outputs": [
    {
     "data": {
      "text/plain": [
       "[[463, 461],\n",
       " [945, 942],\n",
       " [968, 965],\n",
       " [1491, 1489],\n",
       " [1755, 1754],\n",
       " [2113, 2111],\n",
       " [2142, 2139],\n",
       " [2255, 2253],\n",
       " [2652, 2649],\n",
       " [2729, 2726]]"
      ]
     },
     "execution_count": 149,
     "metadata": {},
     "output_type": "execute_result"
    }
   ],
   "source": [
    "fuckups[0:10]"
   ]
  },
  {
   "cell_type": "code",
   "execution_count": 161,
   "metadata": {},
   "outputs": [],
   "source": [
    "DNA = \"ATGTGTAGTCT\"*1000\n",
    "current_weights = [choice([0.35, 0.1, 0.5, 0.21]) for x in range(1,len(DNA)-1)]\n",
    "indices = [i for i in range(1, len(DNA)-1)]\n",
    "mut_indices = []\n"
   ]
  },
  {
   "cell_type": "code",
   "execution_count": 49,
   "metadata": {},
   "outputs": [
    {
     "name": "stdout",
     "output_type": "stream",
     "text": [
      "CTC\n",
      "['CGC', 'CAC', 'CTC'] [0.2352525609325327, 0.11974567290709998, 0.6450017661603674]\n"
     ]
    }
   ],
   "source": [
    "into_triplets = []\n",
    "into_weights = []\n",
    "for into_triplet, into_weight in model[triplet][1].items(): \n",
    "    into_triplets.append(into_triplet)\n",
    "    into_weights.append(into_weight)\n",
    "\n",
    "into_weight_sum = sum(into_weights) \n",
    "for index, value in enumerate(into_weights): \n",
    "    into_weights[index] = value/into_weight_sum\n",
    "\n",
    "mTriplet = choice(into_triplets, p = into_weights)\n",
    "    \n",
    "print(into_triplets, into_weights)"
   ]
  },
  {
   "cell_type": "markdown",
   "metadata": {},
   "source": []
  },
  {
   "cell_type": "code",
   "execution_count": 66,
   "metadata": {},
   "outputs": [
    {
     "name": "stderr",
     "output_type": "stream",
     "text": [
      "100%|██████████| 10000/10000 [03:35<00:00, 46.49it/s]\n"
     ]
    }
   ],
   "source": [
    "\n",
    "    #print(base_index, indices,  sep = \"\\t\")"
   ]
  },
  {
   "cell_type": "code",
   "execution_count": 67,
   "metadata": {},
   "outputs": [
    {
     "data": {
      "text/plain": [
       "10000"
      ]
     },
     "execution_count": 67,
     "metadata": {},
     "output_type": "execute_result"
    }
   ],
   "source": []
  },
  {
   "cell_type": "code",
   "execution_count": 68,
   "metadata": {},
   "outputs": [
    {
     "data": {
      "text/plain": [
       "10000"
      ]
     },
     "execution_count": 68,
     "metadata": {},
     "output_type": "execute_result"
    }
   ],
   "source": []
  },
  {
   "cell_type": "code",
   "execution_count": null,
   "metadata": {},
   "outputs": [],
   "source": []
  },
  {
   "cell_type": "code",
   "execution_count": 145,
   "metadata": {},
   "outputs": [
    {
     "data": {
      "text/plain": [
       "True"
      ]
     },
     "execution_count": 145,
     "metadata": {},
     "output_type": "execute_result"
    }
   ],
   "source": [
    "461 in mut_indices"
   ]
  },
  {
   "cell_type": "code",
   "execution_count": 133,
   "metadata": {},
   "outputs": [
    {
     "data": {
      "text/plain": [
       "2"
      ]
     },
     "execution_count": 133,
     "metadata": {},
     "output_type": "execute_result"
    }
   ],
   "source": [
    "len(set((\"hello\", \"goodbye\", \"hello\")))"
   ]
  },
  {
   "cell_type": "code",
   "execution_count": 101,
   "metadata": {},
   "outputs": [
    {
     "name": "stdout",
     "output_type": "stream",
     "text": [
      "ATGTGTAGTAT\t9\tA\n"
     ]
    }
   ],
   "source": [
    "print(DNA, base_index, mb, sep = \"\\t\")"
   ]
  },
  {
   "cell_type": "code",
   "execution_count": 103,
   "metadata": {},
   "outputs": [
    {
     "name": "stdout",
     "output_type": "stream",
     "text": [
      "ATGTGTAGCAT\t8\tC\n"
     ]
    }
   ],
   "source": [
    "print(DNA, base_index, mb, sep = \"\\t\")"
   ]
  },
  {
   "cell_type": "markdown",
   "metadata": {},
   "source": [
    "** old base to mutate before tried to do the optimization ** "
   ]
  },
  {
   "cell_type": "code",
   "execution_count": 2,
   "metadata": {},
   "outputs": [],
   "source": [
    "def base_to_mutate(DNA, current_weights, indices): \n",
    "    \"\"\"\n",
    "    (DNA: str, weights: Dict) -> int\n",
    "    \n",
    "    Will return the index of a random choice of a base that will be mutated based on probabilities given by the\n",
    "    weights dictionary (i.e. the model)\n",
    "    ex. \"ATCGTA\" --> index 3 (\"G\") will mutate\n",
    "    \"\"\"\n",
    "\n",
    "    # NORMALIZE THE POPULATION OF WEIGHTS    \n",
    "    total_freq = sum(current_weights) \n",
    "    normalized_weights = copy.copy(current_weights)\n",
    "    for index, value in enumerate(current_weights):\n",
    "        normalized_weights[index] = value/total_freq \n",
    "\n",
    "    # DRAW THE INDEX OF THE BASE THAT WILL BE MUTATED\n",
    "    base_index = choice(indices, p=normalized_weights) \n",
    "        \n",
    "    \n",
    "    # RETURN THE INDEX\n",
    "    return base_index\n",
    "\n"
   ]
  },
  {
   "cell_type": "code",
   "execution_count": 79,
   "metadata": {},
   "outputs": [],
   "source": [
    "# NORMALIZE THE POPULATION OF WEIGHTS    \n",
    "s0 = time.time ()\n",
    "total_freq = sum(current_weights) \n",
    "s1 = time.time()\n",
    "t1 = time.time() - s0\n",
    "\n",
    "normalized_weights = [\"error\"]*len(current_weights)\n",
    "s2 = time.time()\n",
    "t2 = time.time() - s1\n",
    "\n",
    "for index, value in enumerate(current_weights):\n",
    "    normalized_weights[index] = value/total_freq \n",
    "s3 = time.time()\n",
    "t3 = time.time() - s2\n",
    "\n",
    "# DRAW THE INDEX OF THE BASE THAT WILL BE MUTATED\n",
    "base_index = choice(indices, p=normalized_weights) \n",
    "s4 = time.time()\n",
    "t4 = time.time() - s3\n"
   ]
  },
  {
   "cell_type": "code",
   "execution_count": 80,
   "metadata": {},
   "outputs": [
    {
     "name": "stdout",
     "output_type": "stream",
     "text": [
      "0.005890607833862305 0.012868881225585938 0.1864941120147705 0.11419153213500977\n"
     ]
    }
   ],
   "source": [
    "print(t1,t2,t3,t4)"
   ]
  },
  {
   "cell_type": "code",
   "execution_count": 78,
   "metadata": {},
   "outputs": [],
   "source": [
    "cpg_trips = []\n",
    "for trip, mut in zip(triplets, muts): \n",
    "    if mut >= 0.79: \n",
    "        cpg_trips.append(trip)"
   ]
  },
  {
   "cell_type": "markdown",
   "metadata": {},
   "source": [
    "** why do the CpGs differ? checkingt he # in the mutation dataset ** "
   ]
  },
  {
   "cell_type": "code",
   "execution_count": 75,
   "metadata": {},
   "outputs": [],
   "source": [
    "mutations = {'AAT': [2304, {'ATT': 261, 'AGT': 1782, 'ACT': 261}], 'CTT': [1070, {'CAT': 148, 'CCT': 661, 'CGT': 261}], 'GAG': [759, {'GCG': 162, 'GTG': 186, 'GGG': 411}], 'TAC': [797, {'TGC': 571, 'TTC': 118, 'TCC': 108}], 'GCT': [1356, {'GGT': 256, 'GAT': 235, 'GTT': 865}], 'TCA': [1500, {'TGA': 363, 'TTA': 943, 'TAA': 194}], 'GGC': [1403, {'GTC': 333, 'GCC': 247, 'GAC': 823}], 'CTG': [1344, {'CGG': 277, 'CAG': 208, 'CCG': 859}], 'CAA': [1023, {'CGA': 602, 'CTA': 120, 'CCA': 301}], 'GTC': [584, {'GCC': 342, 'GAC': 137, 'GGC': 105}], 'TGC': [1314, {'TAC': 812, 'TTC': 321, 'TCC': 181}], 'TAA': [1240, {'TGA': 703, 'TTA': 270, 'TCA': 267}], 'TAG': [716, {'TTG': 102, 'TCG': 114, 'TGG': 500}], 'ACG': [2881, {'AAG': 131, 'AGG': 89, 'ATG': 2661}], 'GAA': [807, {'GTA': 160, 'GCA': 198, 'GGA': 449}], 'AAG': [1027, {'ACG': 230, 'AGG': 625, 'ATG': 172}], 'CAT': [2373, {'CCT': 329, 'CTT': 352, 'CGT': 1692}], 'CAC': [928, {'CCC': 194, 'CGC': 558, 'CTC': 176}], 'GAC': [505, {'GTC': 129, 'GCC': 85, 'GGC': 291}], 'TCC': [1543, {'TAC': 236, 'TTC': 939, 'TGC': 368}], 'TTG': [981, {'TCG': 554, 'TGG': 270, 'TAG': 157}], 'GGT': [1738, {'GCT': 261, 'GAT': 936, 'GTT': 541}], 'AGC': [1405, {'AAC': 890, 'ACC': 299, 'ATC': 216}], 'TGA': [1527, {'TTA': 190, 'TCA': 389, 'TAA': 948}], 'ACA': [2467, {'AAA': 417, 'ATA': 1618, 'AGA': 432}], 'AAC': [887, {'ACC': 159, 'ATC': 134, 'AGC': 594}], 'AGT': [1795, {'AAT': 1061, 'ATT': 277, 'ACT': 457}], 'ACT': [1751, {'AAT': 273, 'ATT': 1054, 'AGT': 424}], 'CCC': [1486, {'CGC': 351, 'CAC': 178, 'CTC': 957}], 'GGA': [1560, {'GTA': 292, 'GCA': 336, 'GAA': 932}], 'TCG': [1735, {'TTG': 1593, 'TGG': 87, 'TAG': 55}], 'TGT': [2521, {'TTT': 413, 'TCT': 456, 'TAT': 1652}], 'GTG': [963, {'GCG': 603, 'GAG': 169, 'GGG': 191}], 'GTT': [930, {'GCT': 622, 'GAT': 144, 'GGT': 164}], 'TTA': [1273, {'TGA': 249, 'TCA': 724, 'TAA': 300}], 'AGG': [1697, {'AAG': 1145, 'ACG': 370, 'ATG': 182}], 'CGA': [1797, {'CCA': 97, 'CTA': 40, 'CAA': 1660}], 'ATC': [1026, {'AAC': 319, 'AGC': 115, 'ACC': 592}], 'GGG': [1345, {'GCG': 315, 'GTG': 161, 'GAG': 869}], 'CTA': [815, {'CCA': 566, 'CGA': 139, 'CAA': 110}], 'CGT': [2877, {'CAT': 2651, 'CCT': 107, 'CTT': 119}], 'GAT': [985, {'GCT': 119, 'GGT': 587, 'GTT': 279}], 'GTA': [811, {'GCA': 599, 'GAA': 116, 'GGA': 96}], 'TTC': [845, {'TAC': 169, 'TCC': 479, 'TGC': 197}], 'CTC': [769, {'CCC': 434, 'CGC': 169, 'CAC': 166}], 'GCC': [1419, {'GTC': 866, 'GAC': 340, 'GGC': 213}], 'CCA': [1450, {'CGA': 296, 'CTA': 1016, 'CAA': 138}], 'TCT': [1968, {'TTT': 939, 'TGT': 681, 'TAT': 348}], 'AAA': [1688, {'ACA': 510, 'AGA': 885, 'ATA': 293}], 'CGG': [2476, {'CTG': 21, 'CAG': 2348, 'CCG': 107}], 'CAG': [1330, {'CGG': 860, 'CTG': 188, 'CCG': 282}], 'ATA': [2382, {'ACA': 1913, 'AAA': 294, 'AGA': 175}], 'TTT': [1753, {'TCT': 918, 'TGT': 509, 'TAT': 326}], 'TGG': [1466, {'TTG': 159, 'TCG': 310, 'TAG': 997}], 'TAT': [2465, {'TTT': 294, 'TGT': 1975, 'TCT': 196}], 'CGC': [2164, {'CCC': 66, 'CAC': 1966, 'CTC': 132}], 'GCG': [2192, {'GGG': 54, 'GTG': 1978, 'GAG': 160}], 'ATT': [2231, {'AAT': 317, 'AGT': 253, 'ACT': 1661}], 'ACC': [1728, {'AAC': 550, 'AGC': 268, 'ATC': 910}], 'CCG': [2424, {'CGG': 122, 'CTG': 2274, 'CAG': 28}], 'GCA': [1440, {'GTA': 845, 'GAA': 353, 'GGA': 242}], 'CCT': [1788, {'CAT': 181, 'CTT': 1177, 'CGT': 430}], 'AGA': [2010, {'ACA': 704, 'AAA': 955, 'ATA': 351}], 'ATG': [2255, {'AAG': 341, 'ACG': 1625, 'AGG': 289}]}"
   ]
  },
  {
   "cell_type": "code",
   "execution_count": 80,
   "metadata": {},
   "outputs": [],
   "source": [
    "tmp_sum = 0\n",
    "tmp_sum_cpg = 0\n",
    "for key, value in mutations.items(): \n",
    "    tmp_sum += value[0]\n",
    "    if key in cpg_trips: \n",
    "        tmp_sum_cpg += value[0]"
   ]
  },
  {
   "cell_type": "code",
   "execution_count": 83,
   "metadata": {},
   "outputs": [
    {
     "name": "stdout",
     "output_type": "stream",
     "text": [
      "total muts =  98089 total_cpgs =  18546\n"
     ]
    }
   ],
   "source": [
    "print(\"total muts = \", tmp_sum, \"total_cpgs = \", tmp_sum_cpg)"
   ]
  },
  {
   "cell_type": "markdown",
   "metadata": {},
   "source": [
    "# ** bvinning into colors ** "
   ]
  },
  {
   "cell_type": "code",
   "execution_count": 25,
   "metadata": {},
   "outputs": [
    {
     "name": "stdout",
     "output_type": "stream",
     "text": [
      "[1.3198444035923253e-05, 0.00010044172961771483, 0.0001876850151995064, 0.00027492830078129795, 0.00036217158636308954]\n"
     ]
    }
   ],
   "source": [
    "mut_rangeSize = max(muts) - min(muts)\n",
    "mut_nbin = 4\n",
    "mut_windowSize = mut_rangeSize/mut_nbin\n",
    "mut_rangeValues = [min(muts)+i*mut_windowSize for i in range(0,mut_nbin+1)]\n",
    "print(mut_rangeValues)"
   ]
  },
  {
   "cell_type": "code",
   "execution_count": 45,
   "metadata": {},
   "outputs": [],
   "source": [
    "colour_list_muts = []\n",
    "for value in muts: \n",
    "    if value <= mut_rangeValues[1]: \n",
    "        colour_list_muts.append(\"grey\")\n",
    "    elif value <= mut_rangeValues[2]: \n",
    "        colour_list_muts.append(\"lightgrey\")\n",
    "    elif value <= mut_rangeValues[3]: \n",
    "        colour_list_muts.append(\"blue\")\n",
    "    elif value >= mut_rangeValues[3]: \n",
    "        colour_list_muts.append(\"crimson\")\n",
    "    "
   ]
  },
  {
   "cell_type": "code",
   "execution_count": 46,
   "metadata": {},
   "outputs": [],
   "source": [
    "legendplot = [ \"{:.0e}\".format(i) for i in mut_rangeValues]\n",
    "\n",
    "patch1 = mpatches.Patch(color='grey', label=legendplot[0]+\" : \"+legendplot[1])\n",
    "patch2 = mpatches.Patch(color='lightgrey', label=legendplot[1]+\" : \"+legendplot[2])\n",
    "patch3 = mpatches.Patch(color='blue', label=legendplot[2]+\" : \"+legendplot[3])\n",
    "patch4 = mpatches.Patch(color='crimson', label=legendplot[3]+\" : \"+legendplot[4])"
   ]
  },
  {
   "cell_type": "code",
   "execution_count": 42,
   "metadata": {},
   "outputs": [
    {
     "data": {
      "text/plain": [
       "['1e-05', '1e-04', '2e-04', '3e-04', '4e-04']"
      ]
     },
     "execution_count": 42,
     "metadata": {},
     "output_type": "execute_result"
    }
   ],
   "source": [
    "legendplot"
   ]
  },
  {
   "cell_type": "code",
   "execution_count": 92,
   "metadata": {},
   "outputs": [
    {
     "data": {
      "image/png": "[encoded data removed]",
      "text/plain": [
       "<matplotlib.figure.Figure at 0x7f107ed30470>"
      ]
     },
     "metadata": {},
     "output_type": "display_data"
    }
   ],
   "source": [
    "plt.scatter(triplet_counts_list,triplet_genome_counts_list, color = colour_list_muts, edgecolors = colour_list_muts)\n",
    "plt.plot([0,0.055], [0,0.055], color = \"grey\", linestyle='dashed')\n",
    "plt.xlabel(\"Simulation triplet frequency\")\n",
    "plt.ylabel(\"Genome triplet frequency\")\n",
    "sim_details = \"100kBp_10xMuts_accurateIntoTrip\"\n",
    "\n",
    "plt.legend(loc = 4, handles=[patch1, patch2, patch3, patch4])\n",
    "\n",
    "plt.xlim((0,0.055))\n",
    "plt.ylim((0,0.05))\n",
    "# plt.xticks([0,0.01,0.02,0.03,0.04, 0.05])\n",
    "# plt.yticks([0,0.01,0.02,0.03,0.04, 0.05])\n",
    "\n",
    "plt.show()\n",
    "# timestamp = datetime.now().strftime(\"%Y/%m/%d_%H:%M:%S\").replace(\"/\", \"_\").replace(\":\", \"_\")\n",
    "# plt.tight_layout()\n",
    "# plt.savefig(\"Data/Scatter_{t}_{l}Mbp_{p}propmuts_accurateINTO_genomeVsim.png\".format(p = prop_muts, l = str(dna_length/1000000), t = timestamp))"
   ]
  },
  {
   "cell_type": "code",
   "execution_count": null,
   "metadata": {},
   "outputs": [],
   "source": []
  },
  {
   "cell_type": "code",
   "execution_count": null,
   "metadata": {},
   "outputs": [],
   "source": []
  },
  {
   "cell_type": "code",
   "execution_count": null,
   "metadata": {},
   "outputs": [],
   "source": []
  },
  {
   "cell_type": "code",
   "execution_count": null,
   "metadata": {},
   "outputs": [],
   "source": []
  },
  {
   "cell_type": "code",
   "execution_count": null,
   "metadata": {},
   "outputs": [],
   "source": []
  },
  {
   "cell_type": "code",
   "execution_count": null,
   "metadata": {},
   "outputs": [],
   "source": []
  },
  {
   "cell_type": "code",
   "execution_count": null,
   "metadata": {},
   "outputs": [],
   "source": []
  },
  {
   "cell_type": "code",
   "execution_count": null,
   "metadata": {},
   "outputs": [],
   "source": []
  },
  {
   "cell_type": "code",
   "execution_count": null,
   "metadata": {},
   "outputs": [],
   "source": []
  },
  {
   "cell_type": "code",
   "execution_count": null,
   "metadata": {},
   "outputs": [],
   "source": []
  },
  {
   "cell_type": "code",
   "execution_count": null,
   "metadata": {},
   "outputs": [],
   "source": []
  },
  {
   "cell_type": "code",
   "execution_count": null,
   "metadata": {},
   "outputs": [],
   "source": []
  },
  {
   "cell_type": "code",
   "execution_count": null,
   "metadata": {},
   "outputs": [],
   "source": []
  },
  {
   "cell_type": "code",
   "execution_count": null,
   "metadata": {},
   "outputs": [],
   "source": []
  }
 ],
 "metadata": {
  "kernelspec": {
   "display_name": "Python 3 (ipykernel)",
   "language": "python",
   "name": "python3"
  },
  "language_info": {
   "codemirror_mode": {
    "name": "ipython",
    "version": 3
   },
   "file_extension": ".py",
   "mimetype": "text/x-python",
   "name": "python",
   "nbconvert_exporter": "python",
   "pygments_lexer": "ipython3",
   "version": "3.9.6"
  }
 },
 "nbformat": 4,
 "nbformat_minor": 4
}
