{
 "cells": [
  {
   "cell_type": "markdown",
   "metadata": {},
   "source": [
    "---\n",
    "# Count triplet frequencies in Human genome HG38\n",
    "---\n",
    "\n",
    "- To estimate the relative mutation rate of each triplet \n",
    "  we need to know how many of each triplet exist in the \n",
    "  human genome\n",
    "  \n",
    "- We simply walk through the genome counting each unique\n",
    "  triplet.\n",
    "  \n",
    "- Triplets will include those with N's and lower case letters\n",
    "\n",
    "        - We ignore those with N's and convert the lower case to upper\n",
    "\n"
   ]
  },
  {
   "cell_type": "code",
   "execution_count": 1,
   "metadata": {},
   "outputs": [],
   "source": [
    "import json\n",
    "from Bio import SeqIO\n",
    "import gzip \n",
    "from collections import defaultdict"
   ]
  },
  {
   "cell_type": "code",
   "execution_count": 2,
   "metadata": {},
   "outputs": [],
   "source": [
    "\n",
    "trips = defaultdict(int)"
   ]
  },
  {
   "cell_type": "code",
   "execution_count": 4,
   "metadata": {},
   "outputs": [
    {
     "data": {
      "text/plain": [
       "defaultdict(int, {})"
      ]
     },
     "execution_count": 4,
     "metadata": {},
     "output_type": "execute_result"
    }
   ],
   "source": [
    "trips"
   ]
  },
  {
   "cell_type": "code",
   "execution_count": null,
   "metadata": {},
   "outputs": [],
   "source": [
    "\n",
    "\n",
    "trips = defaultdict(int)\n",
    "\n",
    "ref = gzip.open(\"/scratch/research/references/hsapiens/hg38/hg38.fa.gz\", 'rt')\n",
    "\n",
    "for s in SeqIO.parse(ref, 'fasta'):\n",
    "    for i in range(len(s.seq)-3):\n",
    "        triplet = str(s.seq[i:i+3])\n",
    "        trips[triplet]+=1\n",
    "            \n",
    "    "
   ]
  },
  {
   "cell_type": "code",
   "execution_count": 15,
   "metadata": {},
   "outputs": [
    {
     "name": "stdout",
     "output_type": "stream",
     "text": [
      "AAA :\t 116219865\n",
      "AAC :\t 45054039\n",
      "AAG :\t 60506716\n",
      "AAT :\t 74983114\n",
      "ACA :\t 61496684\n",
      "ACC :\t 35209715\n",
      "ACG :\t 7954793\n",
      "ACT :\t 49169423\n",
      "AGA :\t 67980623\n",
      "AGC :\t 42741732\n",
      "AGG :\t 53953871\n",
      "AGT :\t 49109578\n",
      "ATA :\t 62191925\n",
      "ATC :\t 40532560\n",
      "ATG :\t 55516564\n",
      "ATT :\t 75663351\n",
      "CAA :\t 57170968\n",
      "CAC :\t 45873394\n",
      "CAG :\t 62322498\n",
      "CAT :\t 55814087\n",
      "CCA :\t 55568638\n",
      "CCC :\t 39882676\n",
      "CCG :\t 8495526\n",
      "CCT :\t 54101070\n",
      "CGA :\t 6847361\n",
      "CGC :\t 7416430\n",
      "CGG :\t 8705912\n",
      "CGT :\t 8010016\n",
      "CTA :\t 38950865\n",
      "CTC :\t 51615280\n",
      "CTG :\t 61556952\n",
      "CTT :\t 61394655\n",
      "GAA :\t 61143571\n",
      "GAC :\t 28896461\n",
      "GAG :\t 51713795\n",
      "GAT :\t 41018890\n",
      "GCA :\t 44177624\n",
      "GCC :\t 36081859\n",
      "GCG :\t 7479830\n",
      "GCT :\t 42326258\n",
      "GGA :\t 48024396\n",
      "GGC :\t 36067367\n",
      "GGG :\t 40000766\n",
      "GGT :\t 35209635\n",
      "GTA :\t 34395292\n",
      "GTC :\t 28621456\n",
      "GTG :\t 46474021\n",
      "GTT :\t 44703218\n",
      "TAA :\t 62229283\n",
      "TAC :\t 34006723\n",
      "TAG :\t 39242680\n",
      "TAT :\t 62088324\n",
      "TCA :\t 59937972\n",
      "TCC :\t 46873740\n",
      "TCG :\t 7049574\n",
      "TCT :\t 67921009\n",
      "TGA :\t 59920239\n",
      "TGC :\t 43840071\n",
      "TGG :\t 56641534\n",
      "TGT :\t 61864773\n",
      "TTA :\t 62028934\n",
      "TTC :\t 61013121\n",
      "TTG :\t 58719052\n",
      "TTT :\t 117589720\n"
     ]
    }
   ],
   "source": [
    "from itertools import product\n",
    "\n",
    "# this deals with ignoring triplets with Ns and uppercases all the triplets with lower case ba\n",
    "trip_data = dict(zip([\"\".join(t) for t in product(\"ACGT\", repeat=3) ], [0]*64))\n",
    "for triplet, t_count in trips.items():\n",
    "    if triplet.upper() in trip_data:\n",
    "        trip_data[triplet.upper()] += t_count\n",
    "\n",
    "triplets = list(trip_data.keys())\n",
    "triplets.sort()\n",
    "for t in triplets:\n",
    "    print(t,\":\\t\", trip_data[t])\n",
    "        "
   ]
  },
  {
   "cell_type": "markdown",
   "metadata": {},
   "source": [
    "** copying the above into a string, convertoing to dictionary, saving ** "
   ]
  },
  {
   "cell_type": "code",
   "execution_count": 3,
   "metadata": {},
   "outputs": [],
   "source": [
    "TripletCountString = \"AAA :\t 116219865 AAC :\t 45054039 AAG :\t 60506716 AAT :\t 74983114 ACA :\t 61496684 ACC :\t 35209715 ACG :\t 7954793 ACT :\t 49169423 AGA :\t 67980623 AGC :\t 42741732 AGG :\t 53953871 AGT :\t 49109578 ATA :\t 62191925 ATC :\t 40532560 ATG :\t 55516564 ATT :\t 75663351 CAA :\t 57170968 CAC :\t 45873394 CAG :\t 62322498 CAT :\t 55814087 CCA :\t 55568638 CCC :\t 39882676 CCG :\t 8495526 CCT :\t 54101070 CGA :\t 6847361 CGC :\t 7416430  CGG :\t 8705912 CGT :\t 8010016 CTA :\t 38950865 CTC :\t 51615280 CTG :\t 61556952 CTT :\t 61394655 GAA :\t 61143571 GAC :\t 28896461 GAG :\t 51713795 GAT :\t 41018890 GCA :\t 44177624 GCC :\t 36081859 GCG :\t 7479830 GCT :\t 42326258 GGA :\t 48024396 GGC :\t 36067367 GGG :\t 40000766 GGT :\t 35209635 GTA :\t 34395292 GTC :\t 28621456 GTG :\t 46474021 GTT :\t 44703218 TAA :\t 62229283 TAC :\t 34006723 TAG :\t 39242680 TAT :\t 62088324 TCA :\t 59937972 TCC :\t 46873740 TCG :\t 7049574 TCT :\t 67921009 TGA :\t 59920239 TGC :\t 43840071 TGG :\t 56641534 TGT :\t 61864773 TTA :\t 62028934 TTC :\t 61013121 TTG :\t 58719052  TTT :\t 117589720\"\n"
   ]
  },
  {
   "cell_type": "code",
   "execution_count": 6,
   "metadata": {},
   "outputs": [
    {
     "name": "stdout",
     "output_type": "stream",
     "text": [
      "['AAA', '116219865', 'AAC', '45054039', 'AAG', '60506716', 'AAT', '74983114', 'ACA', '61496684']\n"
     ]
    }
   ],
   "source": [
    "rob_string_split = TripletCountString.split()\n",
    "rob_string_split = list(filter(lambda x: x != \":\", rob_string_split))\n",
    "print(rob_string_split[0:10])"
   ]
  },
  {
   "cell_type": "code",
   "execution_count": 7,
   "metadata": {},
   "outputs": [],
   "source": [
    "triplet_counts_dict = {}\n",
    "for i in range(0,len(rob_string_split),2): \n",
    "    triplet = rob_string_split[i]\n",
    "    count = rob_string_split[i+1]\n",
    "    triplet_counts_dict[triplet] = count"
   ]
  },
  {
   "cell_type": "code",
   "execution_count": 8,
   "metadata": {},
   "outputs": [],
   "source": [
    "with open('GenomeTripletCounts_2020_12_02_genomeWide.txt', 'w') as outfile:\n",
    "    json.dump(triplet_counts_dict, outfile)"
   ]
  },
  {
   "cell_type": "markdown",
   "metadata": {},
   "source": [
    "# ** ANanlyzing the genome triplet freqs ** "
   ]
  },
  {
   "cell_type": "code",
   "execution_count": 37,
   "metadata": {},
   "outputs": [],
   "source": [
    "import matplotlib.pyplot as plt\n",
    "plt.style.use(\"seaborn-darkgrid\")"
   ]
  },
  {
   "cell_type": "code",
   "execution_count": 1,
   "metadata": {},
   "outputs": [],
   "source": [
    "RobString = \"AAA :\t 116219865 AAC :\t 45054039 AAG :\t 60506716 AAT :\t 74983114 ACA :\t 61496684 ACC :\t 35209715 ACG :\t 7954793 ACT :\t 49169423 AGA :\t 67980623 AGC :\t 42741732 AGG :\t 53953871 AGT :\t 49109578 ATA :\t 62191925 ATC :\t 40532560 ATG :\t 55516564 ATT :\t 75663351 CAA :\t 57170968 CAC :\t 45873394 CAG :\t 62322498 CAT :\t 55814087 CCA :\t 55568638 CCC :\t 39882676 CCG :\t 8495526 CCT :\t 54101070 CGA :\t 6847361 CGC :\t 7416430  CGG :\t 8705912 CGT :\t 8010016 CTA :\t 38950865 CTC :\t 51615280 CTG :\t 61556952 CTT :\t 61394655 GAA :\t 61143571 GAC :\t 28896461 GAG :\t 51713795 GAT :\t 41018890 GCA :\t 44177624 GCC :\t 36081859 GCG :\t 7479830 GCT :\t 42326258 GGA :\t 48024396 GGC :\t 36067367 GGG :\t 40000766 GGT :\t 35209635 GTA :\t 34395292 GTC :\t 28621456 GTG :\t 46474021 GTT :\t 44703218 TAA :\t 62229283 TAC :\t 34006723 TAG :\t 39242680 TAT :\t 62088324 TCA :\t 59937972 TCC :\t 46873740 TCG :\t 7049574 TCT :\t 67921009 TGA :\t 59920239 TGC :\t 43840071 TGG :\t 56641534 TGT :\t 61864773 TTA :\t 62028934 TTC :\t 61013121 TTG :\t 58719052  TTT :\t 117589720\"\n"
   ]
  },
  {
   "cell_type": "code",
   "execution_count": 25,
   "metadata": {},
   "outputs": [
    {
     "data": {
      "text/plain": [
       "'61496684'"
      ]
     },
     "execution_count": 25,
     "metadata": {},
     "output_type": "execute_result"
    }
   ],
   "source": [
    "triplet_counts_dict[\"ACA\"]"
   ]
  },
  {
   "cell_type": "code",
   "execution_count": 26,
   "metadata": {},
   "outputs": [],
   "source": [
    "model = {'GTC': [0.38170347003154576, {'GCC': 0.581267217630854, 'GGC': 0.17447199265381083, 'GAC': 0.24426078971533516}], 'TGA': [0.44338655339094774, {'TAA': 0.6247109349190618, 'TTA': 0.12685827552031714, 'TCA': 0.2484307895606211}], 'TAT': [0.544423228125351, {'TTT': 0.12131215184650299, 'TGT': 0.8021456571074892, 'TCT': 0.07654219104600785}], 'CGC': [0.9428571428571428, {'CTC': 0.06703397612488522, 'CCC': 0.027548209366391185, 'CAC': 0.9054178145087236}], 'ATT': [0.48758198043221157, {'AGT': 0.1133406835722161, 'ACT': 0.7592061742006616, 'AAT': 0.1274531422271224}], 'GCA': [0.49819102749638206, {'GTA': 0.6016702977487292, 'GAA': 0.24473493100944083, 'GGA': 0.15359477124183007}], 'CGT': [0.9583888149134487, {'CTT': 0.04341785342132685, 'CCT': 0.03403959708232025, 'CAT': 0.922542549496353}], 'CCA': [0.4589957500393515, {'CTA': 0.6903292181069959, 'CGA': 0.20781893004115226, 'CAA': 0.10185185185185185}], 'GGA': [0.5196784458214705, {'GTA': 0.17015791169835642, 'GAA': 0.602964872703835, 'GCA': 0.22687721559780857}], 'AAA': [0.3198252625708709, {'ACA': 0.2961348445219413, 'ATA': 0.17988956698634118, 'AGA': 0.5239755884917175}], 'AAC': [0.3978541712283775, {'ACC': 0.17776554760594387, 'AGC': 0.6692350027517887, 'ATC': 0.15299944964226747}], 'CTC': [0.3202682875707399, {'CGC': 0.21662303664921467, 'CCC': 0.5530104712041884, 'CAC': 0.23036649214659685}], 'AGG': [0.5123493090267568, {'ACG': 0.22955523672883785, 'AAG': 0.6662840746054519, 'ATG': 0.10416068866571017}], 'AGA': [0.4717741935483871, {'ACA': 0.34816490698843644, 'AAA': 0.47611865258924085, 'ATA': 0.1757164404223228}], 'AGC': [0.5081906865451868, {'ACC': 0.20101412531691415, 'AAC': 0.6356392611372691, 'ATC': 0.16334661354581673}], 'CAA': [0.36173285198555954, {'CTA': 0.13822355289421157, 'CGA': 0.5768463073852296, 'CCA': 0.28493013972055886}], 'CTT': [0.35645079041305455, {'CGT': 0.2341440152598951, 'CCT': 0.6132570338578922, 'CAT': 0.15259895088221268}], 'CAC': [0.3995351785336996, {'CCC': 0.20359598096245374, 'CTC': 0.18244315177154943, 'CGC': 0.6139608672659969}], 'TAG': [0.38808618504435993, {'TCG': 0.16525146962769433, 'TGG': 0.6962769431743958, 'TTG': 0.13847158719790986}], 'ACA': [0.5516478655164787, {'ATA': 0.6555733761026463, 'AGA': 0.17802726543704891, 'AAA': 0.16639935846030474}], 'CTG': [0.4073735527117611, {'CGG': 0.20905011219147346, 'CAG': 0.1480927449513837, 'CCG': 0.6428571428571429}], 'ACT': [0.5261127596439169, {'AGT': 0.24844895657078397, 'ATT': 0.5964467005076142, 'AAT': 0.1551043429216018}], 'TTA': [0.3860215053763441, {'TGA': 0.20533227218463987, 'TAA': 0.22682053322721846, 'TCA': 0.5678471945881417}], 'CGA': [0.9197916666666667, {'CTA': 0.026896942242355604, 'CAA': 0.9210079275198187, 'CCA': 0.052095130237825596}], 'GTA': [0.4143262045864468, {'GGA': 0.12686567164179105, 'GAA': 0.1455223880597015, 'GCA': 0.7276119402985075}], 'GGC': [0.5527913809990206, {'GCC': 0.1630049610205528, 'GTC': 0.23848334514528702, 'GAC': 0.5985116938341601}], 'AGT': [0.5261127596439169, {'ATT': 0.1551043429216018, 'ACT': 0.24844895657078397, 'AAT': 0.5964467005076142}], 'AAT': [0.48758198043221157, {'AGT': 0.7592061742006616, 'ATT': 0.1274531422271224, 'ACT': 0.1133406835722161}], 'CCG': [0.943577893317928, {'CTG': 0.943265306122449, 'CGG': 0.04673469387755102, 'CAG': 0.01}], 'ACC': [0.6345660930062248, {'AAC': 0.3147720715522216, 'ATC': 0.532602423542989, 'AGC': 0.15262550490478938}], 'TCC': [0.5196784458214705, {'TTC': 0.602964872703835, 'TGC': 0.22687721559780857, 'TAC': 0.17015791169835642}], 'TCT': [0.4717741935483871, {'TTT': 0.47611865258924085, 'TGT': 0.34816490698843644, 'TAT': 0.1757164404223228}], 'CAG': [0.4073735527117611, {'CTG': 0.1480927449513837, 'CGG': 0.6428571428571429, 'CCG': 0.20905011219147346}], 'TTG': [0.36173285198555954, {'TCG': 0.5768463073852296, 'TGG': 0.28493013972055886, 'TAG': 0.13822355289421157}], 'ATC': [0.4466903598400711, {'ACC': 0.5862754848334162, 'AAC': 0.2973644952759821, 'AGC': 0.11636001989060167}], 'CGG': [0.943577893317928, {'CTG': 0.01, 'CAG': 0.943265306122449, 'CCG': 0.04673469387755102}], 'TTC': [0.30323054331864907, {'TGC': 0.2391041162227603, 'TCC': 0.5617433414043583, 'TAC': 0.19915254237288135}], 'TAA': [0.3860215053763441, {'TGA': 0.5678471945881417, 'TTA': 0.22682053322721846, 'TCA': 0.20533227218463987}], 'ATG': [0.5741935483870968, {'ACG': 0.716724286949006, 'AAG': 0.1497407087294728, 'AGG': 0.13353500432152118}], 'GGT': [0.6345660930062248, {'GTT': 0.3147720715522216, 'GCT': 0.15262550490478938, 'GAT': 0.532602423542989}], 'TGC': [0.49819102749638206, {'TTC': 0.24473493100944083, 'TCC': 0.15359477124183007, 'TAC': 0.6016702977487292}], 'GTG': [0.3995351785336996, {'GAG': 0.18244315177154943, 'GCG': 0.6139608672659969, 'GGG': 0.20359598096245374}], 'GGG': [0.5453669813138123, {'GAG': 0.6450017661603674, 'GTG': 0.11974567290709998, 'GCG': 0.2352525609325327}], 'ACG': [0.9583888149134487, {'ATG': 0.922542549496353, 'AAG': 0.04341785342132685, 'AGG': 0.03403959708232025}], 'TGG': [0.4589957500393515, {'TCG': 0.20781893004115226, 'TTG': 0.10185185185185185, 'TAG': 0.6903292181069959}], 'GAA': [0.30323054331864907, {'GTA': 0.19915254237288135, 'GGA': 0.5617433414043583, 'GCA': 0.2391041162227603}], 'GAC': [0.38170347003154576, {'GCC': 0.17447199265381083, 'GTC': 0.24426078971533516, 'GGC': 0.581267217630854}], 'TAC': [0.4143262045864468, {'TTC': 0.1455223880597015, 'TGC': 0.7276119402985075, 'TCC': 0.12686567164179105}], 'GAT': [0.4466903598400711, {'GTT': 0.2973644952759821, 'GCT': 0.11636001989060167, 'GGT': 0.5862754848334162}], 'ATA': [0.544423228125351, {'ACA': 0.8021456571074892, 'AAA': 0.12131215184650299, 'AGA': 0.07654219104600785}], 'GCT': [0.5081906865451868, {'GTT': 0.6356392611372691, 'GGT': 0.20101412531691415, 'GAT': 0.16334661354581673}], 'CAT': [0.5741935483870968, {'CTT': 0.1497407087294728, 'CGT': 0.716724286949006, 'CCT': 0.13353500432152118}], 'CTA': [0.38808618504435993, {'CGA': 0.16525146962769433, 'CAA': 0.13847158719790986, 'CCA': 0.6962769431743958}], 'CCT': [0.5123493090267568, {'CTT': 0.6662840746054519, 'CGT': 0.22955523672883785, 'CAT': 0.10416068866571017}], 'TTT': [0.3198252625708709, {'TCT': 0.5239755884917175, 'TGT': 0.2961348445219413, 'TAT': 0.17988956698634118}], 'TCG': [0.9197916666666667, {'TGG': 0.052095130237825596, 'TTG': 0.9210079275198187, 'TAG': 0.026896942242355604}], 'AAG': [0.35645079041305455, {'ATG': 0.15259895088221268, 'ACG': 0.2341440152598951, 'AGG': 0.6132570338578922}], 'GTT': [0.3978541712283775, {'GCT': 0.6692350027517887, 'GGT': 0.17776554760594387, 'GAT': 0.15299944964226747}], 'TCA': [0.44338655339094774, {'TAA': 0.12685827552031714, 'TGA': 0.2484307895606211, 'TTA': 0.6247109349190618}], 'CCC': [0.5453669813138123, {'CTC': 0.6450017661603674, 'CGC': 0.2352525609325327, 'CAC': 0.11974567290709998}], 'GAG': [0.3202682875707399, {'GTG': 0.23036649214659685, 'GCG': 0.21662303664921467, 'GGG': 0.5530104712041884}], 'GCG': [0.9428571428571428, {'GAG': 0.06703397612488522, 'GTG': 0.9054178145087236, 'GGG': 0.027548209366391185}], 'GCC': [0.5527913809990206, {'GTC': 0.5985116938341601, 'GGC': 0.1630049610205528, 'GAC': 0.23848334514528702}], 'TGT': [0.5516478655164787, {'TCT': 0.17802726543704891, 'TAT': 0.6555733761026463, 'TTT': 0.16639935846030474}]}"
   ]
  },
  {
   "cell_type": "code",
   "execution_count": 40,
   "metadata": {},
   "outputs": [],
   "source": [
    "triplets = []\n",
    "counts = []\n",
    "mut = []\n",
    "\n",
    "for triplet_key, count_value in triplet_counts_dict.items(): \n",
    "    triplets.append(triplet_key)\n",
    "    counts.append(int(count_value))\n",
    "    mut.append(model[triplet_key][0])"
   ]
  },
  {
   "cell_type": "code",
   "execution_count": 44,
   "metadata": {},
   "outputs": [
    {
     "data": {
      "image/png": "[encoded data removed]",
      "text/plain": [
       "<matplotlib.figure.Figure at 0x7f27cf6e4160>"
      ]
     },
     "metadata": {},
     "output_type": "display_data"
    }
   ],
   "source": [
    "plt.scatter(mut, counts)\n",
    "plt.xlabel(\"Mutability (old 200k sample still)\")\n",
    "plt.ylabel(\"Triplet freqeuncy in the genome\")\n",
    "#plt.title(\"Change in Triplet Count \\n\"+sim_details)\n",
    "plt.savefig(\"GenometripletCouts_vs_OldsampledMutability\")"
   ]
  },
  {
   "cell_type": "code",
   "execution_count": null,
   "metadata": {},
   "outputs": [],
   "source": []
  },
  {
   "cell_type": "code",
   "execution_count": null,
   "metadata": {},
   "outputs": [],
   "source": []
  },
  {
   "cell_type": "code",
   "execution_count": null,
   "metadata": {},
   "outputs": [],
   "source": []
  },
  {
   "cell_type": "code",
   "execution_count": null,
   "metadata": {},
   "outputs": [],
   "source": []
  },
  {
   "cell_type": "code",
   "execution_count": null,
   "metadata": {},
   "outputs": [],
   "source": []
  },
  {
   "cell_type": "code",
   "execution_count": null,
   "metadata": {},
   "outputs": [],
   "source": []
  },
  {
   "cell_type": "code",
   "execution_count": null,
   "metadata": {},
   "outputs": [],
   "source": []
  },
  {
   "cell_type": "code",
   "execution_count": null,
   "metadata": {},
   "outputs": [],
   "source": []
  },
  {
   "cell_type": "code",
   "execution_count": null,
   "metadata": {},
   "outputs": [],
   "source": []
  },
  {
   "cell_type": "code",
   "execution_count": null,
   "metadata": {},
   "outputs": [],
   "source": []
  },
  {
   "cell_type": "code",
   "execution_count": null,
   "metadata": {},
   "outputs": [],
   "source": []
  },
  {
   "cell_type": "code",
   "execution_count": null,
   "metadata": {},
   "outputs": [],
   "source": []
  },
  {
   "cell_type": "code",
   "execution_count": null,
   "metadata": {},
   "outputs": [],
   "source": []
  },
  {
   "cell_type": "code",
   "execution_count": null,
   "metadata": {},
   "outputs": [],
   "source": [
    "aaaaaaaaaaaa"
   ]
  }
 ],
 "metadata": {
  "kernelspec": {
   "display_name": "Python [conda env:.conda-mutEq]",
   "language": "python",
   "name": "conda-env-.conda-mutEq-py"
  },
  "language_info": {
   "codemirror_mode": {
    "name": "ipython",
    "version": 3
   },
   "file_extension": ".py",
   "mimetype": "text/x-python",
   "name": "python",
   "nbconvert_exporter": "python",
   "pygments_lexer": "ipython3",
   "version": "3.9.6"
  }
 },
 "nbformat": 4,
 "nbformat_minor": 4
}
