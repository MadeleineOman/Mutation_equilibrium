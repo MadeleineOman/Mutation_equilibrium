{
 "cells": [
  {
   "cell_type": "markdown",
   "metadata": {},
   "source": [
    "---\n",
    "# Count triplet frequencies in Human genome HG38\n",
    "---\n",
    "\n",
    "- To estimate the relative mutation rate of each triplet \n",
    "  we need to know how many of each triplet exist in the \n",
    "  human genome\n",
    "  \n",
    "- We simply walk through the genome counting each unique\n",
    "  triplet.\n",
    "  \n",
    "- Triplets will include those with N's and lower case letters\n",
    "\n",
    "        - We ignore those with N's and convert the lower case to upper\n",
    "\n"
   ]
  },
  {
   "cell_type": "code",
   "execution_count": 1,
   "metadata": {},
   "outputs": [],
   "source": [
    "import json\n",
    "from Bio import SeqIO\n",
    "import gzip \n",
    "from collections import defaultdict"
   ]
  },
  {
   "cell_type": "code",
   "execution_count": 2,
   "metadata": {},
   "outputs": [],
   "source": [
    "\n",
    "trips = defaultdict(int)"
   ]
  },
  {
   "cell_type": "code",
   "execution_count": 4,
   "metadata": {},
   "outputs": [
    {
     "data": {
      "text/plain": [
       "defaultdict(int, {})"
      ]
     },
     "execution_count": 4,
     "metadata": {},
     "output_type": "execute_result"
    }
   ],
   "source": [
    "trips"
   ]
  },
  {
   "cell_type": "code",
   "execution_count": null,
   "metadata": {},
   "outputs": [],
   "source": [
    "\n",
    "\n",
    "trips = defaultdict(int)\n",
    "\n",
    "ref = gzip.open(\"/scratch/research/references/hsapiens/hg38/hg38.fa.gz\", 'rt')\n",
    "\n",
    "for s in SeqIO.parse(ref, 'fasta'):\n",
    "    for i in range(len(s.seq)-3):\n",
    "        triplet = str(s.seq[i:i+3])\n",
    "        trips[triplet]+=1\n",
    "            \n",
    "    "
   ]
  },
  {
   "cell_type": "code",
   "execution_count": 15,
   "metadata": {},
   "outputs": [
    {
     "name": "stdout",
     "output_type": "stream",
     "text": [
      "AAA :\t 116219865\n",
      "AAC :\t 45054039\n",
      "AAG :\t 60506716\n",
      "AAT :\t 74983114\n",
      "ACA :\t 61496684\n",
      "ACC :\t 35209715\n",
      "ACG :\t 7954793\n",
      "ACT :\t 49169423\n",
      "AGA :\t 67980623\n",
      "AGC :\t 42741732\n",
      "AGG :\t 53953871\n",
      "AGT :\t 49109578\n",
      "ATA :\t 62191925\n",
      "ATC :\t 40532560\n",
      "ATG :\t 55516564\n",
      "ATT :\t 75663351\n",
      "CAA :\t 57170968\n",
      "CAC :\t 45873394\n",
      "CAG :\t 62322498\n",
      "CAT :\t 55814087\n",
      "CCA :\t 55568638\n",
      "CCC :\t 39882676\n",
      "CCG :\t 8495526\n",
      "CCT :\t 54101070\n",
      "CGA :\t 6847361\n",
      "CGC :\t 7416430\n",
      "CGG :\t 8705912\n",
      "CGT :\t 8010016\n",
      "CTA :\t 38950865\n",
      "CTC :\t 51615280\n",
      "CTG :\t 61556952\n",
      "CTT :\t 61394655\n",
      "GAA :\t 61143571\n",
      "GAC :\t 28896461\n",
      "GAG :\t 51713795\n",
      "GAT :\t 41018890\n",
      "GCA :\t 44177624\n",
      "GCC :\t 36081859\n",
      "GCG :\t 7479830\n",
      "GCT :\t 42326258\n",
      "GGA :\t 48024396\n",
      "GGC :\t 36067367\n",
      "GGG :\t 40000766\n",
      "GGT :\t 35209635\n",
      "GTA :\t 34395292\n",
      "GTC :\t 28621456\n",
      "GTG :\t 46474021\n",
      "GTT :\t 44703218\n",
      "TAA :\t 62229283\n",
      "TAC :\t 34006723\n",
      "TAG :\t 39242680\n",
      "TAT :\t 62088324\n",
      "TCA :\t 59937972\n",
      "TCC :\t 46873740\n",
      "TCG :\t 7049574\n",
      "TCT :\t 67921009\n",
      "TGA :\t 59920239\n",
      "TGC :\t 43840071\n",
      "TGG :\t 56641534\n",
      "TGT :\t 61864773\n",
      "TTA :\t 62028934\n",
      "TTC :\t 61013121\n",
      "TTG :\t 58719052\n",
      "TTT :\t 117589720\n"
     ]
    }
   ],
   "source": [
    "from itertools import product\n",
    "\n",
    "# this deals with ignoring triplets with Ns and uppercases all the triplets with lower case ba\n",
    "trip_data = dict(zip([\"\".join(t) for t in product(\"ACGT\", repeat=3) ], [0]*64))\n",
    "for triplet, t_count in trips.items():\n",
    "    if triplet.upper() in trip_data:\n",
    "        trip_data[triplet.upper()] += t_count\n",
    "\n",
    "triplets = list(trip_data.keys())\n",
    "triplets.sort()\n",
    "for t in triplets:\n",
    "    print(t,\":\\t\", trip_data[t])\n",
    "        "
   ]
  },
  {
   "cell_type": "markdown",
   "metadata": {},
   "source": [
    "** copying the above into a string, convertoing to dictionary, saving ** "
   ]
  },
  {
   "cell_type": "code",
   "execution_count": 3,
   "metadata": {},
   "outputs": [],
   "source": [
    "TripletCountString = \"AAA :\t 116219865 AAC :\t 45054039 AAG :\t 60506716 AAT :\t 74983114 ACA :\t 61496684 ACC :\t 35209715 ACG :\t 7954793 ACT :\t 49169423 AGA :\t 67980623 AGC :\t 42741732 AGG :\t 53953871 AGT :\t 49109578 ATA :\t 62191925 ATC :\t 40532560 ATG :\t 55516564 ATT :\t 75663351 CAA :\t 57170968 CAC :\t 45873394 CAG :\t 62322498 CAT :\t 55814087 CCA :\t 55568638 CCC :\t 39882676 CCG :\t 8495526 CCT :\t 54101070 CGA :\t 6847361 CGC :\t 7416430  CGG :\t 8705912 CGT :\t 8010016 CTA :\t 38950865 CTC :\t 51615280 CTG :\t 61556952 CTT :\t 61394655 GAA :\t 61143571 GAC :\t 28896461 GAG :\t 51713795 GAT :\t 41018890 GCA :\t 44177624 GCC :\t 36081859 GCG :\t 7479830 GCT :\t 42326258 GGA :\t 48024396 GGC :\t 36067367 GGG :\t 40000766 GGT :\t 35209635 GTA :\t 34395292 GTC :\t 28621456 GTG :\t 46474021 GTT :\t 44703218 TAA :\t 62229283 TAC :\t 34006723 TAG :\t 39242680 TAT :\t 62088324 TCA :\t 59937972 TCC :\t 46873740 TCG :\t 7049574 TCT :\t 67921009 TGA :\t 59920239 TGC :\t 43840071 TGG :\t 56641534 TGT :\t 61864773 TTA :\t 62028934 TTC :\t 61013121 TTG :\t 58719052  TTT :\t 117589720\"\n"
   ]
  },
  {
   "cell_type": "code",
   "execution_count": 6,
   "metadata": {},
   "outputs": [
    {
     "name": "stdout",
     "output_type": "stream",
     "text": [
      "['AAA', '116219865', 'AAC', '45054039', 'AAG', '60506716', 'AAT', '74983114', 'ACA', '61496684']\n"
     ]
    }
   ],
   "source": [
    "rob_string_split = TripletCountString.split()\n",
    "rob_string_split = list(filter(lambda x: x != \":\", rob_string_split))\n",
    "print(rob_string_split[0:10])"
   ]
  },
  {
   "cell_type": "code",
   "execution_count": 7,
   "metadata": {},
   "outputs": [],
   "source": [
    "triplet_counts_dict = {}\n",
    "for i in range(0,len(rob_string_split),2): \n",
    "    triplet = rob_string_split[i]\n",
    "    count = rob_string_split[i+1]\n",
    "    triplet_counts_dict[triplet] = count"
   ]
  },
  {
   "cell_type": "code",
   "execution_count": 8,
   "metadata": {},
   "outputs": [],
   "source": [
    "with open('GenomeTripletCounts_2020_12_02_genomeWide.txt', 'w') as outfile:\n",
    "    json.dump(triplet_counts_dict, outfile)"
   ]
  }
 ],
 "metadata": {
  "kernelspec": {
   "display_name": "Python [conda env:.conda-mutEq]",
   "language": "python",
   "name": "conda-env-.conda-mutEq-py"
  },
  "language_info": {
   "codemirror_mode": {
    "name": "ipython",
    "version": 3
   },
   "file_extension": ".py",
   "mimetype": "text/x-python",
   "name": "python",
   "nbconvert_exporter": "python",
   "pygments_lexer": "ipython3",
   "version": "3.9.6"
  }
 },
 "nbformat": 4,
 "nbformat_minor": 4
}
