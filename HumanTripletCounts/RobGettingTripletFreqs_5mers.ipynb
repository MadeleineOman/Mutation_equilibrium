{
 "cells": [
  {
   "cell_type": "markdown",
   "metadata": {},
   "source": [
    "---\n",
    "# Count triplet frequencies in Human genome HG38 --> adjusted for 5-mers \n",
    "---\n",
    "\n",
    "- To estimate the relative mutation rate of each 5mer \n",
    "  we need to know how many of each 5mers exist in the \n",
    "  human genome\n",
    "  \n",
    "- We simply walk through the genome counting each unique\n",
    "  triplet.\n",
    "  \n",
    "- 5-mer will include those with N's and lower case letters\n",
    "\n",
    "- We ignore those with N's and convert the lower case to upper\n",
    "\n"
   ]
  },
  {
   "cell_type": "code",
   "execution_count": 17,
   "metadata": {},
   "outputs": [],
   "source": [
    "import json\n",
    "from Bio import SeqIO\n",
    "import gzip \n",
    "from collections import defaultdict\n",
    "from tqdm import tqdm \n",
    "import matplotlib.pyplot as plt"
   ]
  },
  {
   "cell_type": "code",
   "execution_count": 3,
   "metadata": {},
   "outputs": [
    {
     "name": "stderr",
     "output_type": "stream",
     "text": [
      "455it [1:15:43,  9.99s/it]\n"
     ]
    }
   ],
   "source": [
    "fiveMers = defaultdict(int)\n",
    "\n",
    "ref = gzip.open(\"/research/references/hsapiens/hg38/hg38.fa.gz\", 'rt')\n",
    "\n",
    "for s in tqdm(SeqIO.parse(ref, 'fasta')):\n",
    "    for i in range(len(s.seq)-5):\n",
    "        fiveMer = str(s.seq[i:i+5])\n",
    "        fiveMers[fiveMer]+=1\n",
    "            \n",
    "    "
   ]
  },
  {
   "cell_type": "code",
   "execution_count": 9,
   "metadata": {},
   "outputs": [],
   "source": [
    "from itertools import product\n",
    "\n",
    "# this deals with ignoring triplets with Ns and uppercases all the triplets with lower case ba\n",
    "fiveMer_data = dict(zip([\"\".join(t) for t in product(\"ACGT\", repeat=5) ], [0]*1024))\n",
    "for fiveMer, f_count in fiveMers.items():\n",
    "    if fiveMer.upper() in fiveMer_data:\n",
    "        fiveMer_data[fiveMer.upper()] += f_count\n",
    "\n",
    "# fiveMers_list = list(fiveMer_data.keys())\n",
    "# fiveMers_list.sort()\n",
    "# for t in fiveMers_list:\n",
    "#     print(t,\":\\t\", fiveMer_data[t])\n",
    "        "
   ]
  },
  {
   "cell_type": "code",
   "execution_count": 15,
   "metadata": {},
   "outputs": [],
   "source": [
    "text_file = open(\"global_fivemer_counts_2021_08_31.txt\", \"w\")\n",
    "n = text_file.write(json.dumps(fiveMer_data))\n",
    "text_file.close()"
   ]
  },
  {
   "cell_type": "code",
   "execution_count": 18,
   "metadata": {},
   "outputs": [],
   "source": [
    "plotting = []\n",
    "for fivmerval in fiveMer_data.values(): \n",
    "    plotting.append(fivmerval)"
   ]
  },
  {
   "cell_type": "code",
   "execution_count": 19,
   "metadata": {},
   "outputs": [
    {
     "data": {
      "text/plain": [
       "(array([318., 479., 180.,  29.,  14.,   2.,   0.,   0.,   0.,   2.]),\n",
       " array([   84614. ,  2113693.8,  4142773.6,  6171853.4,  8200933.2,\n",
       "        10230013. , 12259092.8, 14288172.6, 16317252.4, 18346332.2,\n",
       "        20375412. ]),\n",
       " <BarContainer object of 10 artists>)"
      ]
     },
     "execution_count": 19,
     "metadata": {},
     "output_type": "execute_result"
    },
    {
     "data": {
      "image/png": "[encoded data removed]",
      "text/plain": [
       "<Figure size 432x288 with 1 Axes>"
      ]
     },
     "metadata": {
      "needs_background": "light"
     },
     "output_type": "display_data"
    }
   ],
   "source": [
    "plt.hist(plotting)"
   ]
  },
  {
   "cell_type": "markdown",
   "metadata": {},
   "source": [
    "# **double checking agaisnt triplet counts** "
   ]
  },
  {
   "cell_type": "code",
   "execution_count": 21,
   "metadata": {},
   "outputs": [],
   "source": [
    "triplet_counts = json.load(open(\"GenomeTripletCounts_2020_12_02_genomeWide.txt\"))"
   ]
  },
  {
   "cell_type": "markdown",
   "metadata": {},
   "source": [
    "**printing the relative discrepancy between the count of the triplet and the fivemer count**"
   ]
  },
  {
   "cell_type": "code",
   "execution_count": 25,
   "metadata": {
    "tags": []
   },
   "outputs": [
    {
     "name": "stdout",
     "output_type": "stream",
     "text": [
      "AGA 2.7802040001898774e-06\n",
      "CAC 1.1335546700555882e-06\n",
      "ATG 7.205056854743388e-07\n",
      "CGC 6.741788164925712e-07\n",
      "AAG 1.074260913449674e-06\n",
      "CAT 6.629150809185502e-07\n",
      "GGT 3.976184359764025e-07\n",
      "TAG 5.860965662895602e-07\n",
      "CCC 9.026475555451695e-07\n",
      "AGC 3.2988836297041026e-06\n",
      "CAG 5.29503807758155e-07\n",
      "TAT 4.509704594377519e-07\n",
      "GCT 8.505358541262967e-07\n",
      "CCG 9.416721224795263e-07\n",
      "TGC 8.439767353478966e-07\n",
      "AGG 6.301679447615538e-07\n",
      "TTT 5.782818430046436e-07\n",
      "GAA 3.549023984876513e-06\n",
      "ATA 8.522006675303908e-07\n",
      "CGA 1.6064583129179255e-06\n",
      "AAC 9.322138687721206e-07\n",
      "GAC 7.613389058265647e-07\n",
      "GGA 1.2493650102335488e-06\n",
      "GGG 8.249842015525402e-07\n",
      "GCG 1.0695430243735486e-06\n",
      "ACT 8.135137156276981e-07\n",
      "TGT 9.698572724092919e-07\n",
      "ATT 2.2732273647250965e-06\n",
      "TAA 5.142273614176143e-07\n",
      "CGT 1.622968044008901e-06\n",
      "TTC 2.310978322187452e-06\n",
      "GAT 3.24240855859337e-06\n",
      "ACC 5.680250464964002e-07\n",
      "GGC 3.1330260398548083e-06\n",
      "AAT 9.602161894743396e-07\n",
      "TCT 8.097641776788093e-07\n",
      "TGG 1.006328677468375e-06\n",
      "CTC 6.974678816040522e-07\n",
      "AAA 8.002074344175155e-07\n",
      "CTA 7.958744946999251e-07\n",
      "TGA 6.842429316745549e-07\n",
      "TCA 7.50776152386337e-07\n",
      "ACG 1.8856556041118857e-06\n",
      "GTA 4.651799438132405e-07\n",
      "CCA 6.658432045788129e-07\n",
      "TTA 4.514022439914895e-07\n",
      "CGG 6.891868422285913e-07\n",
      "CAA 8.570783688672194e-07\n",
      "TCC 9.813597122823995e-07\n",
      "GTG 8.391785165307732e-07\n",
      "TTG 6.130889170349685e-07\n",
      "GCA 6.564409167862898e-07\n",
      "GTT 6.487228727023634e-07\n",
      "CTT 6.189463887369348e-07\n",
      "TAC 4.999011518986995e-07\n",
      "ACA 6.341805356529468e-07\n",
      "CTG 6.173145155075254e-07\n",
      "GAG 6.768020022510435e-07\n",
      "ATC 2.3684662404743247e-06\n",
      "GTC 7.337152938690471e-07\n",
      "AGT 8.145050645721289e-07\n",
      "TCG 1.5603779746123666e-06\n",
      "GCC 3.020908651075877e-06\n",
      "CCT 6.099694516208274e-07\n"
     ]
    }
   ],
   "source": [
    "for triplet,trip_val in triplet_counts.items(): \n",
    "    cur_trip_fivmer_count = 0\n",
    "    for fivemer,fivemerVal in fiveMer_data.items(): \n",
    "        if fivemer[1:4]==triplet: \n",
    "            cur_trip_fivmer_count+=fivemerVal\n",
    "    print(triplet, (int(trip_val)-cur_trip_fivmer_count)/int(trip_val))"
   ]
  }
 ],
 "metadata": {
  "kernelspec": {
   "display_name": "Python [conda env:.conda-mutEq]",
   "language": "python",
   "name": "conda-env-.conda-mutEq-py"
  },
  "language_info": {
   "codemirror_mode": {
    "name": "ipython",
    "version": 3
   },
   "file_extension": ".py",
   "mimetype": "text/x-python",
   "name": "python",
   "nbconvert_exporter": "python",
   "pygments_lexer": "ipython3",
   "version": "3.9.6"
  }
 },
 "nbformat": 4,
 "nbformat_minor": 4
}
