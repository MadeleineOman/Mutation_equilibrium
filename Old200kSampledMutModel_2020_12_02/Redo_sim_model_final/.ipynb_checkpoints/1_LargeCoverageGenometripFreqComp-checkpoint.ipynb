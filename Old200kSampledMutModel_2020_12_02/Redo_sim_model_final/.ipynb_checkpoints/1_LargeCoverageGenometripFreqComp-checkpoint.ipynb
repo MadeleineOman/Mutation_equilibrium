{
 "cells": [
  {
   "cell_type": "markdown",
   "metadata": {},
   "source": [
    "# ** Full model redo: intron overalpping ** "
   ]
  },
  {
   "cell_type": "code",
   "execution_count": 3,
   "metadata": {},
   "outputs": [],
   "source": [
    "from numpy.random import choice\n",
    "import copy \n",
    "from tqdm import tqdm\n",
    "import matplotlib.pyplot as plt\n",
    "from datetime import datetime\n",
    "import time\n",
    "import timeit\n",
    "import numpy as np \n",
    "import matplotlib.patches as mpatches"
   ]
  },
  {
   "cell_type": "code",
   "execution_count": 4,
   "metadata": {},
   "outputs": [],
   "source": [
    "def base_to_mutate(DNA, current_weights, indices): \n",
    "    \"\"\"\n",
    "    (DNA: str, weights: Dict) -> int\n",
    "    \n",
    "    Will return the index of a random choice of a base that will be mutated based on probabilities given by the\n",
    "    weights dictionary (i.e. the model)\n",
    "    ex. \"ATCGTA\" --> index 3 (\"G\") will mutate\n",
    "    \"\"\"\n",
    "\n",
    "    # NORMALIZE THE POPULATION OF WEIGHTS    \n",
    "    total_freq = sum(current_weights) - current_weights[0] - current_weights[-1] # remove the start and end weight\n",
    "    normalized_weights = [\"error\"]*len(current_weights)\n",
    "    for index, value in enumerate(current_weights):\n",
    "        normalized_weights[index] = value/total_freq \n",
    "    \n",
    "    normalized_weights[0] = 0\n",
    "    normalized_weights[-1] = 0\n",
    "    # DRAW THE INDEX OF THE BASE THAT WILL BE MUTATED\n",
    "    base_index = choice(indices, p=normalized_weights) \n",
    "    \n",
    "\n",
    "    # RETURN THE INDEX\n",
    "    return base_index  \n",
    "\n",
    "\n"
   ]
  },
  {
   "cell_type": "markdown",
   "metadata": {},
   "source": [
    "## ** now it has the accurate into base prob, not random ** "
   ]
  },
  {
   "cell_type": "code",
   "execution_count": null,
   "metadata": {},
   "outputs": [],
   "source": [
    "#informing the graph \n",
    "sim_details = \"\"\n",
    "\n",
    "#making the dna ~~~~~~~~~~~~~~~~~~~~~~~~~~~~~~~~~~~~~~~~~~~~~~~~~~~~~~~~~~~~~~~~~~~~~~~~~~~~~~~~~~~~~~\n",
    "dna_length = 100000\n",
    "DNA  = choice([\"A\", \"T\", \"C\", \"G\"], size = dna_length)\n",
    "DNA = \"\".join(DNA)\n",
    "DNA_initial = copy.copy(DNA)\n",
    "sim_details += str(dna_length/1000000) + \"MB random seq \\n \"\n",
    "\n",
    "#triplets\n",
    "triplets = []\n",
    "for i_1 in [\"A\", \"T\", \"G\", \"C\"]: \n",
    "    for i_2 in [\"A\", \"T\", \"G\", \"C\"]: \n",
    "        for i_3 in [\"A\", \"T\", \"G\", \"C\"]: \n",
    "            triplets.append(i_1+i_2+i_3)\n",
    "        \n",
    "#mutability model \n",
    "model = {'GTC': [0.38170347003154576, {'GCC': 0.581267217630854, 'GGC': 0.17447199265381083, 'GAC': 0.24426078971533516}], 'TGA': [0.44338655339094774, {'TAA': 0.6247109349190618, 'TTA': 0.12685827552031714, 'TCA': 0.2484307895606211}], 'TAT': [0.544423228125351, {'TTT': 0.12131215184650299, 'TGT': 0.8021456571074892, 'TCT': 0.07654219104600785}], 'CGC': [0.9428571428571428, {'CTC': 0.06703397612488522, 'CCC': 0.027548209366391185, 'CAC': 0.9054178145087236}], 'ATT': [0.48758198043221157, {'AGT': 0.1133406835722161, 'ACT': 0.7592061742006616, 'AAT': 0.1274531422271224}], 'GCA': [0.49819102749638206, {'GTA': 0.6016702977487292, 'GAA': 0.24473493100944083, 'GGA': 0.15359477124183007}], 'CGT': [0.9583888149134487, {'CTT': 0.04341785342132685, 'CCT': 0.03403959708232025, 'CAT': 0.922542549496353}], 'CCA': [0.4589957500393515, {'CTA': 0.6903292181069959, 'CGA': 0.20781893004115226, 'CAA': 0.10185185185185185}], 'GGA': [0.5196784458214705, {'GTA': 0.17015791169835642, 'GAA': 0.602964872703835, 'GCA': 0.22687721559780857}], 'AAA': [0.3198252625708709, {'ACA': 0.2961348445219413, 'ATA': 0.17988956698634118, 'AGA': 0.5239755884917175}], 'AAC': [0.3978541712283775, {'ACC': 0.17776554760594387, 'AGC': 0.6692350027517887, 'ATC': 0.15299944964226747}], 'CTC': [0.3202682875707399, {'CGC': 0.21662303664921467, 'CCC': 0.5530104712041884, 'CAC': 0.23036649214659685}], 'AGG': [0.5123493090267568, {'ACG': 0.22955523672883785, 'AAG': 0.6662840746054519, 'ATG': 0.10416068866571017}], 'AGA': [0.4717741935483871, {'ACA': 0.34816490698843644, 'AAA': 0.47611865258924085, 'ATA': 0.1757164404223228}], 'AGC': [0.5081906865451868, {'ACC': 0.20101412531691415, 'AAC': 0.6356392611372691, 'ATC': 0.16334661354581673}], 'CAA': [0.36173285198555954, {'CTA': 0.13822355289421157, 'CGA': 0.5768463073852296, 'CCA': 0.28493013972055886}], 'CTT': [0.35645079041305455, {'CGT': 0.2341440152598951, 'CCT': 0.6132570338578922, 'CAT': 0.15259895088221268}], 'CAC': [0.3995351785336996, {'CCC': 0.20359598096245374, 'CTC': 0.18244315177154943, 'CGC': 0.6139608672659969}], 'TAG': [0.38808618504435993, {'TCG': 0.16525146962769433, 'TGG': 0.6962769431743958, 'TTG': 0.13847158719790986}], 'ACA': [0.5516478655164787, {'ATA': 0.6555733761026463, 'AGA': 0.17802726543704891, 'AAA': 0.16639935846030474}], 'CTG': [0.4073735527117611, {'CGG': 0.20905011219147346, 'CAG': 0.1480927449513837, 'CCG': 0.6428571428571429}], 'ACT': [0.5261127596439169, {'AGT': 0.24844895657078397, 'ATT': 0.5964467005076142, 'AAT': 0.1551043429216018}], 'TTA': [0.3860215053763441, {'TGA': 0.20533227218463987, 'TAA': 0.22682053322721846, 'TCA': 0.5678471945881417}], 'CGA': [0.9197916666666667, {'CTA': 0.026896942242355604, 'CAA': 0.9210079275198187, 'CCA': 0.052095130237825596}], 'GTA': [0.4143262045864468, {'GGA': 0.12686567164179105, 'GAA': 0.1455223880597015, 'GCA': 0.7276119402985075}], 'GGC': [0.5527913809990206, {'GCC': 0.1630049610205528, 'GTC': 0.23848334514528702, 'GAC': 0.5985116938341601}], 'AGT': [0.5261127596439169, {'ATT': 0.1551043429216018, 'ACT': 0.24844895657078397, 'AAT': 0.5964467005076142}], 'AAT': [0.48758198043221157, {'AGT': 0.7592061742006616, 'ATT': 0.1274531422271224, 'ACT': 0.1133406835722161}], 'CCG': [0.943577893317928, {'CTG': 0.943265306122449, 'CGG': 0.04673469387755102, 'CAG': 0.01}], 'ACC': [0.6345660930062248, {'AAC': 0.3147720715522216, 'ATC': 0.532602423542989, 'AGC': 0.15262550490478938}], 'TCC': [0.5196784458214705, {'TTC': 0.602964872703835, 'TGC': 0.22687721559780857, 'TAC': 0.17015791169835642}], 'TCT': [0.4717741935483871, {'TTT': 0.47611865258924085, 'TGT': 0.34816490698843644, 'TAT': 0.1757164404223228}], 'CAG': [0.4073735527117611, {'CTG': 0.1480927449513837, 'CGG': 0.6428571428571429, 'CCG': 0.20905011219147346}], 'TTG': [0.36173285198555954, {'TCG': 0.5768463073852296, 'TGG': 0.28493013972055886, 'TAG': 0.13822355289421157}], 'ATC': [0.4466903598400711, {'ACC': 0.5862754848334162, 'AAC': 0.2973644952759821, 'AGC': 0.11636001989060167}], 'CGG': [0.943577893317928, {'CTG': 0.01, 'CAG': 0.943265306122449, 'CCG': 0.04673469387755102}], 'TTC': [0.30323054331864907, {'TGC': 0.2391041162227603, 'TCC': 0.5617433414043583, 'TAC': 0.19915254237288135}], 'TAA': [0.3860215053763441, {'TGA': 0.5678471945881417, 'TTA': 0.22682053322721846, 'TCA': 0.20533227218463987}], 'ATG': [0.5741935483870968, {'ACG': 0.716724286949006, 'AAG': 0.1497407087294728, 'AGG': 0.13353500432152118}], 'GGT': [0.6345660930062248, {'GTT': 0.3147720715522216, 'GCT': 0.15262550490478938, 'GAT': 0.532602423542989}], 'TGC': [0.49819102749638206, {'TTC': 0.24473493100944083, 'TCC': 0.15359477124183007, 'TAC': 0.6016702977487292}], 'GTG': [0.3995351785336996, {'GAG': 0.18244315177154943, 'GCG': 0.6139608672659969, 'GGG': 0.20359598096245374}], 'GGG': [0.5453669813138123, {'GAG': 0.6450017661603674, 'GTG': 0.11974567290709998, 'GCG': 0.2352525609325327}], 'ACG': [0.9583888149134487, {'ATG': 0.922542549496353, 'AAG': 0.04341785342132685, 'AGG': 0.03403959708232025}], 'TGG': [0.4589957500393515, {'TCG': 0.20781893004115226, 'TTG': 0.10185185185185185, 'TAG': 0.6903292181069959}], 'GAA': [0.30323054331864907, {'GTA': 0.19915254237288135, 'GGA': 0.5617433414043583, 'GCA': 0.2391041162227603}], 'GAC': [0.38170347003154576, {'GCC': 0.17447199265381083, 'GTC': 0.24426078971533516, 'GGC': 0.581267217630854}], 'TAC': [0.4143262045864468, {'TTC': 0.1455223880597015, 'TGC': 0.7276119402985075, 'TCC': 0.12686567164179105}], 'GAT': [0.4466903598400711, {'GTT': 0.2973644952759821, 'GCT': 0.11636001989060167, 'GGT': 0.5862754848334162}], 'ATA': [0.544423228125351, {'ACA': 0.8021456571074892, 'AAA': 0.12131215184650299, 'AGA': 0.07654219104600785}], 'GCT': [0.5081906865451868, {'GTT': 0.6356392611372691, 'GGT': 0.20101412531691415, 'GAT': 0.16334661354581673}], 'CAT': [0.5741935483870968, {'CTT': 0.1497407087294728, 'CGT': 0.716724286949006, 'CCT': 0.13353500432152118}], 'CTA': [0.38808618504435993, {'CGA': 0.16525146962769433, 'CAA': 0.13847158719790986, 'CCA': 0.6962769431743958}], 'CCT': [0.5123493090267568, {'CTT': 0.6662840746054519, 'CGT': 0.22955523672883785, 'CAT': 0.10416068866571017}], 'TTT': [0.3198252625708709, {'TCT': 0.5239755884917175, 'TGT': 0.2961348445219413, 'TAT': 0.17988956698634118}], 'TCG': [0.9197916666666667, {'TGG': 0.052095130237825596, 'TTG': 0.9210079275198187, 'TAG': 0.026896942242355604}], 'AAG': [0.35645079041305455, {'ATG': 0.15259895088221268, 'ACG': 0.2341440152598951, 'AGG': 0.6132570338578922}], 'GTT': [0.3978541712283775, {'GCT': 0.6692350027517887, 'GGT': 0.17776554760594387, 'GAT': 0.15299944964226747}], 'TCA': [0.44338655339094774, {'TAA': 0.12685827552031714, 'TGA': 0.2484307895606211, 'TTA': 0.6247109349190618}], 'CCC': [0.5453669813138123, {'CTC': 0.6450017661603674, 'CGC': 0.2352525609325327, 'CAC': 0.11974567290709998}], 'GAG': [0.3202682875707399, {'GTG': 0.23036649214659685, 'GCG': 0.21662303664921467, 'GGG': 0.5530104712041884}], 'GCG': [0.9428571428571428, {'GAG': 0.06703397612488522, 'GTG': 0.9054178145087236, 'GGG': 0.027548209366391185}], 'GCC': [0.5527913809990206, {'GTC': 0.5985116938341601, 'GGC': 0.1630049610205528, 'GAC': 0.23848334514528702}], 'TGT': [0.5516478655164787, {'TCT': 0.17802726543704891, 'TAT': 0.6555733761026463, 'TTT': 0.16639935846030474}]}\n",
    "\n",
    "#triplet-count dict \n",
    "triplet_chosen_count_dict = {}\n",
    "triplet_into_count_dict = {}\n",
    "for triplet in triplets: \n",
    "    triplet_chosen_count_dict[triplet] = [0,0,0]  \n",
    "    triplet_into_count_dict[triplet] = [0,0,0]\n",
    "\n",
    "#making the weights \n",
    "current_weights = []\n",
    "for i in range(1,len(DNA)-1): \n",
    "    triplet = DNA[i-1:i+2]\n",
    "    current_weights.append(model[triplet][0])\n",
    "\n",
    "indices = [i for i in range(1, len(DNA)-1)]\n",
    "mut_indices = []\n",
    "\n",
    "#choosing number of muts \n",
    "prop_muts = 10\n",
    "sim_details += str(prop_muts)+\"X prop muts \\n\"\n",
    "\n",
    "\n",
    "# DESCRIBE THE SIMULATION PLEASE GOD ~~~~~~~~~~~~~~~~~~~~~~~~~~~~~~~~~~~~~~~~~~~~~~~~~~~~~~~~~~~~~~~~~~~~~~~~~~~!!!!!!!!!!\n",
    "sim_details = \"random onto triplet,  overlapping\" + sim_details\n",
    "\n",
    "#runnign the sim ~~~~~~~~~~~~~~~~~~~~~~~~~~~~~~~~~~~~~~~~~~~~~~~~~~~~~~~~~~~~~~~~~~~~~~~~~~~~~~~~~~~~~\n",
    "for i in tqdm(range(int(len(DNA)*prop_muts))):\n",
    "#     s0 = time.time()\n",
    "    base_index = base_to_mutate(DNA, current_weights, indices)\n",
    "    \n",
    "#     s1 = time.time()\n",
    "#     t1 = time.time() - s0\n",
    "    \n",
    "#     curr_index = indices.index(base_index)\n",
    "#     current_weights = current_weights[0:curr_index -2]+current_weights[curr_index+3:]\n",
    "    \n",
    "    mut_indices.append(base_index)\n",
    "#     s2 = time.time()\n",
    "#     t2 = time.time() - s1\n",
    "    #adding the count for \"chosen to mutate\" in coutns dict \n",
    "    c_triplet = DNA[base_index-1: base_index+2]\n",
    "    c_triplet_left = DNA[base_index-2: base_index+1]\n",
    "    c_triplet_right = DNA[base_index: base_index+3]\n",
    "#     s3 = time.time()\n",
    "#     t3 = time.time() - s2\n",
    "    \n",
    "    triplet_chosen_count_dict[c_triplet_left][0] += 1\n",
    "    triplet_chosen_count_dict[c_triplet][1] += 1\n",
    "    triplet_chosen_count_dict[c_triplet_right][2] += 1\n",
    "\n",
    "    #random into mut prob ~~~~~~~~~~~~~~~~~~~~~~~~~~~~~~~~~~~~~~~~~~~~~~~~~ OR \n",
    "    curr_into_bases = [\"A\", \"T\", \"C\", \"G\"]\n",
    "    curr_into_bases.remove(c_triplet[1])\n",
    "    mb =  choice(curr_into_bases)\n",
    "    \n",
    "    \n",
    "    #accurate model INTO probability ~~~~~~~~~~~~~~~~~~~~~~~~~~~~~~~~~~~~~~OR ^ \n",
    "#     curr_into_bases = []\n",
    "#     curr_into_bases_probs = []\n",
    "#     for into_base, prob in model[c_triplet][1].items(): \n",
    "#         curr_into_bases.append(into_base)\n",
    "#         curr_into_bases_probs.append(prob)\n",
    "#     mb =  choice(curr_into_bases, p = curr_into_bases_probs)[1]\n",
    "\n",
    "    #adding the count for \"mutated into thiss\" in the triplet dict \n",
    "    m_triplet = c_triplet[0]+mb+c_triplet[2]\n",
    "    m_triplet_left = c_triplet_left[0:2]+mb\n",
    "    m_triplet_right = mb+c_triplet_right[1:3]\n",
    "    \n",
    "    triplet_into_count_dict[m_triplet_left][0] += 1 \n",
    "    triplet_into_count_dict[m_triplet][1] += 1 \n",
    "    triplet_into_count_dict[m_triplet_right][2] += 1 \n",
    "#     s6 = time.time()\n",
    "#     t6 = time.time() - s5\n",
    "    \n",
    "    #chanaging the dna \n",
    "    DNA = DNA[:base_index]+mb+DNA[base_index+1:]\n",
    "#     s7 = time.time()\n",
    "#     t7 = time.time() - s6\n",
    "\n",
    "    current_weights[base_index-2]= model[m_triplet_left][0]    \n",
    "    current_weights[base_index-1]= model[m_triplet][0]\n",
    "    current_weights[base_index] = model[m_triplet_right][0]\n",
    "    \n",
    "# #troubleshooting~~~~~~~~~~~~~~~~~~~~~~~~~~~~~~~~~~~~~~~~~~~~~~~~~~~~~~~~~~~~~~~~~~~~~~~~~~~~~~~~~~~~~~~~~~\n",
    "# if len(mut_indices) != len(set(mut_indices)): \n",
    "#     print(\"duplicates in mutation indeices selected\")\n",
    "    \n",
    "# mut_indices_sorted = copy.copy(mut_indices)\n",
    "# mut_indices_sorted.sort()\n",
    "# fuckups = []\n",
    "# for index, value in enumerate(mut_indices_sorted): \n",
    "#     if index != 0: \n",
    "#         diff = value - mut_indices_sorted[index-1]\n",
    "#         if diff < 3: \n",
    "#             first_ind = mut_indices.index(value)\n",
    "#             second_ind = mut_indices.index(mut_indices_sorted[index-1])\n",
    "#             fuckups.append([value, first_ind, mut_indices_sorted[index-1], second_ind])\n",
    "# if len(fuckups) != 0: \n",
    "#     print(str(len(fuckups))+\" mutations are closer than 3bp together\")\n"
   ]
  },
  {
   "cell_type": "code",
   "execution_count": 15,
   "metadata": {},
   "outputs": [
    {
     "data": {
      "text/plain": [
       "999999"
      ]
     },
     "execution_count": 15,
     "metadata": {},
     "output_type": "execute_result"
    }
   ],
   "source": [
    "i"
   ]
  },
  {
   "cell_type": "markdown",
   "metadata": {},
   "source": [
    "# ** PLOTTING GENOME VS SIM TRIPLET FREQS ** "
   ]
  },
  {
   "cell_type": "markdown",
   "metadata": {},
   "source": [
    "** getting and normalizing the simulation  triplet couts ** "
   ]
  },
  {
   "cell_type": "code",
   "execution_count": 16,
   "metadata": {},
   "outputs": [
    {
     "name": "stderr",
     "output_type": "stream",
     "text": [
      "100%|██████████| 99997/99997 [00:00<00:00, 1158840.04it/s]\n"
     ]
    }
   ],
   "source": [
    "triplet_counts = {}\n",
    "muts = []\n",
    "for triplet in triplets: \n",
    "    triplet_counts[triplet] = 0\n",
    "    muts.append(model[triplet][0])\n",
    "\n",
    "for i in tqdm(range(1, len(DNA)-2)):\n",
    "    triplet = DNA[i-1:i+2]\n",
    "    triplet_counts[triplet] += 1\n",
    "\n",
    "triplet_counts_list = []\n",
    "for triplet in triplets: \n",
    "    triplet_counts_list.append(triplet_counts[triplet])"
   ]
  },
  {
   "cell_type": "code",
   "execution_count": 29,
   "metadata": {},
   "outputs": [],
   "source": [
    "sum_trips_sim = sum(triplet_counts_list)"
   ]
  },
  {
   "cell_type": "code",
   "execution_count": 30,
   "metadata": {},
   "outputs": [],
   "source": [
    "for index, element in enumerate(triplet_counts_list): \n",
    "    triplet_counts_list[index] = element/ sum_trips_sim"
   ]
  },
  {
   "cell_type": "markdown",
   "metadata": {},
   "source": [
    "** getting and normalizing the genome triplet counts ** "
   ]
  },
  {
   "cell_type": "code",
   "execution_count": 19,
   "metadata": {},
   "outputs": [],
   "source": [
    "RobString = \"AAA :\t 116219865 AAC :\t 45054039 AAG :\t 60506716 AAT :\t 74983114 ACA :\t 61496684 ACC :\t 35209715 ACG :\t 7954793 ACT :\t 49169423 AGA :\t 67980623 AGC :\t 42741732 AGG :\t 53953871 AGT :\t 49109578 ATA :\t 62191925 ATC :\t 40532560 ATG :\t 55516564 ATT :\t 75663351 CAA :\t 57170968 CAC :\t 45873394 CAG :\t 62322498 CAT :\t 55814087 CCA :\t 55568638 CCC :\t 39882676 CCG :\t 8495526 CCT :\t 54101070 CGA :\t 6847361 CGC :\t 7416430  CGG :\t 8705912 CGT :\t 8010016 CTA :\t 38950865 CTC :\t 51615280 CTG :\t 61556952 CTT :\t 61394655 GAA :\t 61143571 GAC :\t 28896461 GAG :\t 51713795 GAT :\t 41018890 GCA :\t 44177624 GCC :\t 36081859 GCG :\t 7479830 GCT :\t 42326258 GGA :\t 48024396 GGC :\t 36067367 GGG :\t 40000766 GGT :\t 35209635 GTA :\t 34395292 GTC :\t 28621456 GTG :\t 46474021 GTT :\t 44703218 TAA :\t 62229283 TAC :\t 34006723 TAG :\t 39242680 TAT :\t 62088324 TCA :\t 59937972 TCC :\t 46873740 TCG :\t 7049574 TCT :\t 67921009 TGA :\t 59920239 TGC :\t 43840071 TGG :\t 56641534 TGT :\t 61864773 TTA :\t 62028934 TTC :\t 61013121 TTG :\t 58719052  TTT :\t 117589720\"\n",
    "rob_string_split = RobString.split()\n",
    "rob_string_split = list(filter(lambda x: x != \":\", rob_string_split))\n",
    "triplet_genome_counts_dict = {}\n",
    "for i in range(0,len(rob_string_split),2): \n",
    "    triplet = rob_string_split[i]\n",
    "    count = rob_string_split[i+1]\n",
    "    triplet_genome_counts_dict[triplet] = count"
   ]
  },
  {
   "cell_type": "code",
   "execution_count": 27,
   "metadata": {},
   "outputs": [],
   "source": [
    "triplet_genome_counts_list = []\n",
    "for triplet in triplets: \n",
    "    triplet_genome_counts_list.append(int(triplet_genome_counts_dict[triplet]))"
   ]
  },
  {
   "cell_type": "code",
   "execution_count": 32,
   "metadata": {},
   "outputs": [],
   "source": [
    "sum_trips_genome = sum(triplet_genome_counts_list)"
   ]
  },
  {
   "cell_type": "code",
   "execution_count": 33,
   "metadata": {},
   "outputs": [],
   "source": [
    "for index, element in enumerate(triplet_genome_counts_list): \n",
    "    triplet_genome_counts_list[index] = element/ sum_trips_genome"
   ]
  },
  {
   "cell_type": "markdown",
   "metadata": {},
   "source": [
    "** plotting both together ** "
   ]
  },
  {
   "cell_type": "code",
   "execution_count": 43,
   "metadata": {},
   "outputs": [
    {
     "data": {
      "image/png": "[encoded data removed]",
      "text/plain": [
       "<matplotlib.figure.Figure at 0x7f2b0beef518>"
      ]
     },
     "metadata": {},
     "output_type": "display_data"
    }
   ],
   "source": [
    "plt.scatter(triplet_counts_list,triplet_genome_counts_list, color = \"black\",  )\n",
    "plt.plot([0,0.05], [0,0.05])\n",
    "plt.xlabel(\"Simulation triplet frequency\")\n",
    "plt.ylabel(\"Genome triplet frequency\")\n",
    "sim_details = \"100kBp_10xMuts_accurateIntoTrip\"\n",
    "\n",
    "plt.xlim((0,0.05))\n",
    "plt.ylim((0,0.05))\n",
    "\n",
    "# plt.show()\n",
    "timestamp = datetime.now().strftime(\"%Y/%m/%d_%H:%M:%S\").replace(\"/\", \"_\").replace(\":\", \"_\")\n",
    "plt.tight_layout()\n",
    "plt.savefig(\"Data/Scatter_{t}_{l}Mbp_{p}propmuts_accurateINTO_genomeVsim.png\".format(p = prop_muts, l = str(dna_length/1000000), t = timestamp))"
   ]
  },
  {
   "cell_type": "markdown",
   "metadata": {},
   "source": [
    "** adding the mutability coloration ** "
   ]
  },
  {
   "cell_type": "code",
   "execution_count": 45,
   "metadata": {},
   "outputs": [
    {
     "name": "stdout",
     "output_type": "stream",
     "text": [
      "[0.30323054331864907, 0.467020111217349, 0.6308096791160489, 0.7945992470147488, 0.9583888149134487]\n"
     ]
    }
   ],
   "source": [
    "mut_rangeSize = max(muts) - min(muts)\n",
    "mut_nbin = 4\n",
    "mut_windowSize = mut_rangeSize/mut_nbin\n",
    "mut_rangeValues = [min(muts)+i*mut_windowSize for i in range(0,mut_nbin+1)]\n",
    "print(mut_rangeValues)"
   ]
  },
  {
   "cell_type": "code",
   "execution_count": 52,
   "metadata": {},
   "outputs": [],
   "source": [
    "colour_list_muts = []\n",
    "for value in muts: \n",
    "    if value <= mut_rangeValues[1]: \n",
    "        colour_list_muts.append(\"grey\")\n",
    "    elif value <= mut_rangeValues[2]: \n",
    "        colour_list_muts.append(\"lightgrey\")\n",
    "    elif value <= mut_rangeValues[3]: \n",
    "        colour_list_muts.append(\"indianred\")\n",
    "    elif value >= mut_rangeValues[3]: \n",
    "        colour_list_muts.append(\"crimson\")\n",
    "    "
   ]
  },
  {
   "cell_type": "code",
   "execution_count": 56,
   "metadata": {},
   "outputs": [],
   "source": [
    "legendplot = [str(i)[0:4] for i in mut_rangeValues]\n",
    "\n",
    "patch1 = mpatches.Patch(color='grey', label=legendplot[0]+\" : \"+legendplot[1])\n",
    "patch2 = mpatches.Patch(color='lightgrey', label=legendplot[1]+\" : \"+legendplot[2])\n",
    "patch3 = mpatches.Patch(color='indianred', label=legendplot[2]+\" : \"+legendplot[3])\n",
    "patch4 = mpatches.Patch(color='crimson', label=legendplot[3]+\" : \"+legendplot[4])"
   ]
  },
  {
   "cell_type": "code",
   "execution_count": 70,
   "metadata": {},
   "outputs": [
    {
     "data": {
      "image/png": "[encoded data removed]",
      "text/plain": [
       "<matplotlib.figure.Figure at 0x7f2b12349358>"
      ]
     },
     "metadata": {},
     "output_type": "display_data"
    }
   ],
   "source": [
    "plt.scatter(triplet_counts_list,triplet_genome_counts_list, color = colour_list_muts, edgecolors = colour_list_muts)\n",
    "plt.plot([0,0.035], [0,0.035])\n",
    "plt.xlabel(\"Simulation triplet frequency\")\n",
    "plt.ylabel(\"Genome triplet frequency\")\n",
    "sim_details = \"100kBp_10xMuts_accurateIntoTrip\"\n",
    "\n",
    "plt.legend(loc = 4, handles=[patch1, patch2, patch3, patch4])\n",
    "\n",
    "plt.xlim((0,0.04))\n",
    "plt.ylim((0,0.045))\n",
    "plt.xticks([0,0.01,0.02,0.03,0.04])\n",
    "plt.yticks([0,0.01,0.02,0.03,0.04])\n",
    "\n",
    "plt.show()\n",
    "# timestamp = datetime.now().strftime(\"%Y/%m/%d_%H:%M:%S\").replace(\"/\", \"_\").replace(\":\", \"_\")\n",
    "# plt.tight_layout()\n",
    "# plt.savefig(\"Data/Scatter_{t}_{l}Mbp_{p}propmuts_accurateINTO_genomeVsim.png\".format(p = prop_muts, l = str(dna_length/1000000), t = timestamp))"
   ]
  },
  {
   "cell_type": "code",
   "execution_count": 78,
   "metadata": {},
   "outputs": [],
   "source": [
    "cpg_trips = []\n",
    "for trip, mut in zip(triplets, muts): \n",
    "    if mut >= 0.79: \n",
    "        cpg_trips.append(trip)"
   ]
  },
  {
   "cell_type": "markdown",
   "metadata": {},
   "source": [
    "** why do the CpGs differ? checkingt he # in the mutation dataset ** "
   ]
  },
  {
   "cell_type": "code",
   "execution_count": 75,
   "metadata": {},
   "outputs": [],
   "source": [
    "mutations = {'AAT': [2304, {'ATT': 261, 'AGT': 1782, 'ACT': 261}], 'CTT': [1070, {'CAT': 148, 'CCT': 661, 'CGT': 261}], 'GAG': [759, {'GCG': 162, 'GTG': 186, 'GGG': 411}], 'TAC': [797, {'TGC': 571, 'TTC': 118, 'TCC': 108}], 'GCT': [1356, {'GGT': 256, 'GAT': 235, 'GTT': 865}], 'TCA': [1500, {'TGA': 363, 'TTA': 943, 'TAA': 194}], 'GGC': [1403, {'GTC': 333, 'GCC': 247, 'GAC': 823}], 'CTG': [1344, {'CGG': 277, 'CAG': 208, 'CCG': 859}], 'CAA': [1023, {'CGA': 602, 'CTA': 120, 'CCA': 301}], 'GTC': [584, {'GCC': 342, 'GAC': 137, 'GGC': 105}], 'TGC': [1314, {'TAC': 812, 'TTC': 321, 'TCC': 181}], 'TAA': [1240, {'TGA': 703, 'TTA': 270, 'TCA': 267}], 'TAG': [716, {'TTG': 102, 'TCG': 114, 'TGG': 500}], 'ACG': [2881, {'AAG': 131, 'AGG': 89, 'ATG': 2661}], 'GAA': [807, {'GTA': 160, 'GCA': 198, 'GGA': 449}], 'AAG': [1027, {'ACG': 230, 'AGG': 625, 'ATG': 172}], 'CAT': [2373, {'CCT': 329, 'CTT': 352, 'CGT': 1692}], 'CAC': [928, {'CCC': 194, 'CGC': 558, 'CTC': 176}], 'GAC': [505, {'GTC': 129, 'GCC': 85, 'GGC': 291}], 'TCC': [1543, {'TAC': 236, 'TTC': 939, 'TGC': 368}], 'TTG': [981, {'TCG': 554, 'TGG': 270, 'TAG': 157}], 'GGT': [1738, {'GCT': 261, 'GAT': 936, 'GTT': 541}], 'AGC': [1405, {'AAC': 890, 'ACC': 299, 'ATC': 216}], 'TGA': [1527, {'TTA': 190, 'TCA': 389, 'TAA': 948}], 'ACA': [2467, {'AAA': 417, 'ATA': 1618, 'AGA': 432}], 'AAC': [887, {'ACC': 159, 'ATC': 134, 'AGC': 594}], 'AGT': [1795, {'AAT': 1061, 'ATT': 277, 'ACT': 457}], 'ACT': [1751, {'AAT': 273, 'ATT': 1054, 'AGT': 424}], 'CCC': [1486, {'CGC': 351, 'CAC': 178, 'CTC': 957}], 'GGA': [1560, {'GTA': 292, 'GCA': 336, 'GAA': 932}], 'TCG': [1735, {'TTG': 1593, 'TGG': 87, 'TAG': 55}], 'TGT': [2521, {'TTT': 413, 'TCT': 456, 'TAT': 1652}], 'GTG': [963, {'GCG': 603, 'GAG': 169, 'GGG': 191}], 'GTT': [930, {'GCT': 622, 'GAT': 144, 'GGT': 164}], 'TTA': [1273, {'TGA': 249, 'TCA': 724, 'TAA': 300}], 'AGG': [1697, {'AAG': 1145, 'ACG': 370, 'ATG': 182}], 'CGA': [1797, {'CCA': 97, 'CTA': 40, 'CAA': 1660}], 'ATC': [1026, {'AAC': 319, 'AGC': 115, 'ACC': 592}], 'GGG': [1345, {'GCG': 315, 'GTG': 161, 'GAG': 869}], 'CTA': [815, {'CCA': 566, 'CGA': 139, 'CAA': 110}], 'CGT': [2877, {'CAT': 2651, 'CCT': 107, 'CTT': 119}], 'GAT': [985, {'GCT': 119, 'GGT': 587, 'GTT': 279}], 'GTA': [811, {'GCA': 599, 'GAA': 116, 'GGA': 96}], 'TTC': [845, {'TAC': 169, 'TCC': 479, 'TGC': 197}], 'CTC': [769, {'CCC': 434, 'CGC': 169, 'CAC': 166}], 'GCC': [1419, {'GTC': 866, 'GAC': 340, 'GGC': 213}], 'CCA': [1450, {'CGA': 296, 'CTA': 1016, 'CAA': 138}], 'TCT': [1968, {'TTT': 939, 'TGT': 681, 'TAT': 348}], 'AAA': [1688, {'ACA': 510, 'AGA': 885, 'ATA': 293}], 'CGG': [2476, {'CTG': 21, 'CAG': 2348, 'CCG': 107}], 'CAG': [1330, {'CGG': 860, 'CTG': 188, 'CCG': 282}], 'ATA': [2382, {'ACA': 1913, 'AAA': 294, 'AGA': 175}], 'TTT': [1753, {'TCT': 918, 'TGT': 509, 'TAT': 326}], 'TGG': [1466, {'TTG': 159, 'TCG': 310, 'TAG': 997}], 'TAT': [2465, {'TTT': 294, 'TGT': 1975, 'TCT': 196}], 'CGC': [2164, {'CCC': 66, 'CAC': 1966, 'CTC': 132}], 'GCG': [2192, {'GGG': 54, 'GTG': 1978, 'GAG': 160}], 'ATT': [2231, {'AAT': 317, 'AGT': 253, 'ACT': 1661}], 'ACC': [1728, {'AAC': 550, 'AGC': 268, 'ATC': 910}], 'CCG': [2424, {'CGG': 122, 'CTG': 2274, 'CAG': 28}], 'GCA': [1440, {'GTA': 845, 'GAA': 353, 'GGA': 242}], 'CCT': [1788, {'CAT': 181, 'CTT': 1177, 'CGT': 430}], 'AGA': [2010, {'ACA': 704, 'AAA': 955, 'ATA': 351}], 'ATG': [2255, {'AAG': 341, 'ACG': 1625, 'AGG': 289}]}"
   ]
  },
  {
   "cell_type": "code",
   "execution_count": 80,
   "metadata": {},
   "outputs": [],
   "source": [
    "tmp_sum = 0\n",
    "tmp_sum_cpg = 0\n",
    "for key, value in mutations.items(): \n",
    "    tmp_sum += value[0]\n",
    "    if key in cpg_trips: \n",
    "        tmp_sum_cpg += value[0]"
   ]
  },
  {
   "cell_type": "code",
   "execution_count": 83,
   "metadata": {},
   "outputs": [
    {
     "name": "stdout",
     "output_type": "stream",
     "text": [
      "total muts =  98089 total_cpgs =  18546\n"
     ]
    }
   ],
   "source": [
    "print(\"total muts = \", tmp_sum, \"total_cpgs = \", tmp_sum_cpg)"
   ]
  },
  {
   "cell_type": "code",
   "execution_count": null,
   "metadata": {},
   "outputs": [],
   "source": []
  },
  {
   "cell_type": "code",
   "execution_count": null,
   "metadata": {},
   "outputs": [],
   "source": []
  },
  {
   "cell_type": "code",
   "execution_count": null,
   "metadata": {},
   "outputs": [],
   "source": []
  },
  {
   "cell_type": "code",
   "execution_count": null,
   "metadata": {},
   "outputs": [],
   "source": []
  },
  {
   "cell_type": "code",
   "execution_count": null,
   "metadata": {},
   "outputs": [],
   "source": []
  },
  {
   "cell_type": "code",
   "execution_count": null,
   "metadata": {},
   "outputs": [],
   "source": []
  },
  {
   "cell_type": "code",
   "execution_count": null,
   "metadata": {},
   "outputs": [],
   "source": []
  },
  {
   "cell_type": "code",
   "execution_count": null,
   "metadata": {},
   "outputs": [],
   "source": []
  },
  {
   "cell_type": "markdown",
   "metadata": {},
   "source": [
    "# **appendix **"
   ]
  },
  {
   "cell_type": "markdown",
   "metadata": {},
   "source": [
    "# ** PLOTTING TRIPLT FREQS ** "
   ]
  },
  {
   "cell_type": "code",
   "execution_count": 5,
   "metadata": {},
   "outputs": [
    {
     "name": "stderr",
     "output_type": "stream",
     "text": [
      "100%|██████████| 99997/99997 [00:00<00:00, 1156198.15it/s]\n"
     ]
    }
   ],
   "source": [
    "triplet_counts = {}\n",
    "muts = []\n",
    "for triplet in triplets: \n",
    "    triplet_counts[triplet] = 0\n",
    "    muts.append(model[triplet][0])\n",
    "\n",
    "for i in tqdm(range(1, len(DNA)-2)):\n",
    "    triplet = DNA[i-1:i+2]\n",
    "    triplet_counts[triplet] += 1\n",
    "\n",
    "triplet_counts_list = []\n",
    "for triplet in triplets: \n",
    "    triplet_counts_list.append(triplet_counts[triplet])"
   ]
  },
  {
   "cell_type": "code",
   "execution_count": 11,
   "metadata": {},
   "outputs": [],
   "source": [
    "plt.style.use(\"seaborn-darkgrid\")"
   ]
  },
  {
   "cell_type": "code",
   "execution_count": 11,
   "metadata": {},
   "outputs": [
    {
     "data": {
      "image/png": "[encoded data removed]",
      "text/plain": [
       "<matplotlib.figure.Figure at 0x7f2b11e871d0>"
      ]
     },
     "metadata": {},
     "output_type": "display_data"
    }
   ],
   "source": [
    "plt.scatter(muts,triplet_counts_list, color = \"red\", label = \"freq in sim\", alpha = 0.5)\n",
    "plt.xlabel(\"mutability\")\n",
    "plt.ylabel(\"frequncy in sim \")\n",
    "sim_details = \"100kBp random string   10x prop muts \\n frequncy   random INTO trip\"\n",
    "plt.title(sim_details)\n",
    "\n",
    "plt.xlim((0.2,1))\n",
    "\n",
    "#plt.errorbar(triplet_muts_intron, triplet_chnage_mean_intron, yerr = np.array(triplet_chnage_std_intron), ecolor = \"grey\", ls = \"None\")\n",
    "\n",
    "# plt.show()\n",
    "# timestamp = datetime.now().strftime(\"%Y/%m/%d_%H:%M:%S\").replace(\"/\", \"_\").replace(\":\", \"_\")\n",
    "# plt.tight_layout()\n",
    "# plt.savefig(\"Data/Scatter_{t}_{l}Mbp_{p}propmuts_rnadomINTO.png\".format(p = prop_muts, l = str(dna_length/1000000), t = timestamp))"
   ]
  },
  {
   "cell_type": "markdown",
   "metadata": {},
   "source": [
    "## ** plotting left / right ** "
   ]
  },
  {
   "cell_type": "code",
   "execution_count": 6,
   "metadata": {},
   "outputs": [],
   "source": [
    "triplet_chosen_left = []\n",
    "triplet_chosen_centre = []\n",
    "triplet_chosen_right = []\n",
    "triplet_chosen_mean = []\n",
    "triplet_into_left = []\n",
    "triplet_into_centre = []\n",
    "triplet_into_right = []\n",
    "triplet_into_mean = []\n",
    "\n",
    "muts = []\n",
    "for triplet in triplets: \n",
    "    triplet_chosen_left.append(triplet_chosen_count_dict[triplet][0])\n",
    "    triplet_chosen_centre.append(triplet_chosen_count_dict[triplet][1])\n",
    "    triplet_chosen_right.append(triplet_chosen_count_dict[triplet][2])\n",
    "    triplet_chosen_mean.append(np.mean(triplet_chosen_count_dict[triplet]))\n",
    "    \n",
    "    triplet_into_left.append(triplet_into_count_dict[triplet][0])\n",
    "    triplet_into_centre.append(triplet_into_count_dict[triplet][1])\n",
    "    triplet_into_right.append(triplet_into_count_dict[triplet][2])\n",
    "    triplet_into_mean.append(np.mean(triplet_into_count_dict[triplet]))\n",
    "    \n",
    "    muts.append(model[triplet][0])"
   ]
  },
  {
   "cell_type": "code",
   "execution_count": 7,
   "metadata": {},
   "outputs": [],
   "source": []
  },
  {
   "cell_type": "code",
   "execution_count": 13,
   "metadata": {},
   "outputs": [
    {
     "data": {
      "image/png": "[encoded data removed]",
      "text/plain": [
       "<matplotlib.figure.Figure at 0x7f2b11c0dc50>"
      ]
     },
     "metadata": {},
     "output_type": "display_data"
    }
   ],
   "source": [
    "plt.style.use(\"seaborn-ticks\")\n",
    "plt.scatter(muts,triplet_chosen_centre, color = \"blue\", label = \"# times chosen\", alpha = 0.5)\n",
    "plt.scatter(muts,triplet_into_centre, color = \"green\", label = \"# times mutated into\", alpha = 0.5)\n",
    "plt.legend(loc = 2)\n",
    "plt.xlabel(\"Relative triplet mutability\")\n",
    "plt.ylabel(\"Triplet counts\")\n",
    "# sim_details = \"1MB random string   0.05x prop muts \\n new adj count: centre\"\n",
    "# plt.title(sim_details)\n",
    "\n",
    "#plt.errorbar(triplet_muts_intron, triplet_chnage_mean_intron, yerr = np.array(triplet_chnage_std_intron), ecolor = \"grey\", ls = \"None\")\n",
    "\n",
    "#font size \n",
    "\n",
    "SMALL_SIZE = 10\n",
    "MEDIUM_SIZE = 14\n",
    "BIGGER_SIZE = 18\n",
    "plt.rc('font', size=SMALL_SIZE)          # controls default text sizes\n",
    "plt.rc('axes', titlesize=MEDIUM_SIZE)     # fontsize of the axes title\n",
    "plt.rc('axes', labelsize=MEDIUM_SIZE)    # fontsize of the x and y labels\n",
    "plt.rc('xtick', labelsize=MEDIUM_SIZE)    # fontsize of the tick labels\n",
    "plt.rc('ytick', labelsize=MEDIUM_SIZE)    # fontsize of the tick labels\n",
    "plt.rc('legend', fontsize=MEDIUM_SIZE)  \n",
    "\n",
    "# plt.show()\n",
    "timestamp = datetime.now().strftime(\"%Y/%m/%d_%H:%M:%S\").replace(\"/\", \"_\").replace(\":\", \"_\")\n",
    "plt.tight_layout()\n",
    "plt.savefig(\"Data/Scatter_{t}_{l}Mbp_{p}propmuts_accruateINTO_central.png\".format(p = prop_muts, l = str(dna_length/1000000), t = timestamp))"
   ]
  },
  {
   "cell_type": "markdown",
   "metadata": {},
   "source": [
    "** understanding the sim: differences b/t muts ** "
   ]
  },
  {
   "cell_type": "markdown",
   "metadata": {},
   "source": [
    "## ** plotting left / right ** "
   ]
  },
  {
   "cell_type": "code",
   "execution_count": 6,
   "metadata": {},
   "outputs": [],
   "source": [
    "triplet_chosen_left = []\n",
    "triplet_chosen_centre = []\n",
    "triplet_chosen_right = []\n",
    "triplet_chosen_mean = []\n",
    "triplet_into_left = []\n",
    "triplet_into_centre = []\n",
    "triplet_into_right = []\n",
    "triplet_into_mean = []\n",
    "\n",
    "muts = []\n",
    "for triplet in triplets: \n",
    "    triplet_chosen_left.append(triplet_chosen_count_dict[triplet][0])\n",
    "    triplet_chosen_centre.append(triplet_chosen_count_dict[triplet][1])\n",
    "    triplet_chosen_right.append(triplet_chosen_count_dict[triplet][2])\n",
    "    triplet_chosen_mean.append(np.mean(triplet_chosen_count_dict[triplet]))\n",
    "    \n",
    "    triplet_into_left.append(triplet_into_count_dict[triplet][0])\n",
    "    triplet_into_centre.append(triplet_into_count_dict[triplet][1])\n",
    "    triplet_into_right.append(triplet_into_count_dict[triplet][2])\n",
    "    triplet_into_mean.append(np.mean(triplet_into_count_dict[triplet]))\n",
    "    \n",
    "    muts.append(model[triplet][0])"
   ]
  },
  {
   "cell_type": "code",
   "execution_count": 7,
   "metadata": {},
   "outputs": [],
   "source": []
  },
  {
   "cell_type": "code",
   "execution_count": 9,
   "metadata": {},
   "outputs": [
    {
     "data": {
      "image/png": "[encoded data removed]",
      "text/plain": [
       "<matplotlib.figure.Figure at 0x7f2b13414a58>"
      ]
     },
     "metadata": {},
     "output_type": "display_data"
    }
   ],
   "source": [
    "plt.style.use(\"seaborn-ticks\")\n",
    "plt.scatter(muts,triplet_chosen_centre, color = \"blue\", label = \"# times chosen\", alpha = 0.5)\n",
    "plt.scatter(muts,triplet_into_centre, color = \"green\", label = \"# times mutated into\", alpha = 0.5)\n",
    "plt.legend(loc = 2)\n",
    "plt.xlabel(\"Relative triplet mutability\")\n",
    "plt.ylabel(\"Triplet counts\")\n",
    "# sim_details = \"1MB random string   0.05x prop muts \\n new adj count: centre\"\n",
    "# plt.title(sim_details)\n",
    "\n",
    "#plt.errorbar(triplet_muts_intron, triplet_chnage_mean_intron, yerr = np.array(triplet_chnage_std_intron), ecolor = \"grey\", ls = \"None\")\n",
    "\n",
    "#font size \n",
    "\n",
    "SMALL_SIZE = 10\n",
    "MEDIUM_SIZE = 14\n",
    "BIGGER_SIZE = 18\n",
    "plt.rc('font', size=SMALL_SIZE)          # controls default text sizes\n",
    "plt.rc('axes', titlesize=MEDIUM_SIZE)     # fontsize of the axes title\n",
    "plt.rc('axes', labelsize=MEDIUM_SIZE)    # fontsize of the x and y labels\n",
    "plt.rc('xtick', labelsize=MEDIUM_SIZE)    # fontsize of the tick labels\n",
    "plt.rc('ytick', labelsize=MEDIUM_SIZE)    # fontsize of the tick labels\n",
    "plt.rc('legend', fontsize=MEDIUM_SIZE)  \n",
    "\n",
    "plt.show()\n",
    "# timestamp = datetime.now().strftime(\"%Y/%m/%d_%H:%M:%S\").replace(\"/\", \"_\").replace(\":\", \"_\")\n",
    "# plt.tight_layout()\n",
    "# plt.savefig(\"Data/Scatter_{t}_{p}propmuts.png\".format(p = prop_muts, t = timestamp))"
   ]
  },
  {
   "cell_type": "code",
   "execution_count": 8,
   "metadata": {},
   "outputs": [
    {
     "data": {
      "text/plain": [
       "64"
      ]
     },
     "execution_count": 8,
     "metadata": {},
     "output_type": "execute_result"
    }
   ],
   "source": [
    "len(triplet_into_right,)"
   ]
  },
  {
   "cell_type": "code",
   "execution_count": 9,
   "metadata": {},
   "outputs": [
    {
     "data": {
      "image/png": "[encoded data removed]",
      "text/plain": [
       "<matplotlib.figure.Figure at 0x7f66ef2a45f8>"
      ]
     },
     "metadata": {},
     "output_type": "display_data"
    }
   ],
   "source": [
    "plt.scatter(muts,triplet_chosen_right, color = \"red\", label = \"# times chosen\", alpha = 0.5)\n",
    "plt.scatter(muts,triplet_into_right, color = \"green\", label = \"# times mutated into\", alpha = 0.5)\n",
    "plt.legend(loc = 2)\n",
    "plt.xlabel(\"mutability\")\n",
    "plt.ylabel(\"triplet chnage\")\n",
    "sim_details = \"1MB random string   0.05x prop muts \\n new adj count: right\"\n",
    "plt.title(sim_details)\n",
    "\n",
    "#plt.errorbar(triplet_muts_intron, triplet_chnage_mean_intron, yerr = np.array(triplet_chnage_std_intron), ecolor = \"grey\", ls = \"None\")\n",
    "\n",
    "# plt.show()\n",
    "timestamp = datetime.now().strftime(\"%Y/%m/%d_%H:%M:%S\").replace(\"/\", \"_\").replace(\":\", \"_\")\n",
    "plt.tight_layout()\n",
    "plt.savefig(\"Data/Scatter_{t}_{p}propmuts.png\".format(p = prop_muts, t = timestamp))"
   ]
  },
  {
   "cell_type": "code",
   "execution_count": 10,
   "metadata": {},
   "outputs": [
    {
     "data": {
      "image/png": "[encoded data removed]",
      "text/plain": [
       "<matplotlib.figure.Figure at 0x7f66ef4308d0>"
      ]
     },
     "metadata": {},
     "output_type": "display_data"
    }
   ],
   "source": [
    "plt.scatter(muts,triplet_chosen_mean, color = \"red\", label = \"# times chosen\", alpha = 0.5)\n",
    "plt.scatter(muts,triplet_into_mean, color = \"green\", label = \"# times mutated into\", alpha = 0.5)\n",
    "plt.legend(loc = 2)\n",
    "plt.xlabel(\"mutability\")\n",
    "plt.ylabel(\"triplet chnage\")\n",
    "sim_details = \"1MB random string   0.05x prop muts \\n new adj count: mean left, centre & right\"\n",
    "plt.title(sim_details)\n",
    "\n",
    "#plt.errorbar(triplet_muts_intron, triplet_chnage_mean_intron, yerr = np.array(triplet_chnage_std_intron), ecolor = \"grey\", ls = \"None\")\n",
    "\n",
    "# plt.show()\n",
    "timestamp = datetime.now().strftime(\"%Y/%m/%d_%H:%M:%S\").replace(\"/\", \"_\").replace(\":\", \"_\")\n",
    "plt.tight_layout()\n",
    "plt.savefig(\"Data/Scatter_{t}_{p}propmuts.png\".format(p = prop_muts, t = timestamp))"
   ]
  },
  {
   "cell_type": "markdown",
   "metadata": {},
   "source": [
    " # ** TRIPLET COUNT CHNAGE PLOT ** "
   ]
  },
  {
   "cell_type": "code",
   "execution_count": 12,
   "metadata": {},
   "outputs": [
    {
     "name": "stderr",
     "output_type": "stream",
     "text": [
      "100%|██████████| 9998/9998 [00:00<00:00, 686159.72it/s]\n"
     ]
    }
   ],
   "source": [
    "trip_count_dict_init_final = {}\n",
    "\n",
    "for triplet in triplets: \n",
    "    trip_count_dict_init_final[triplet] = [0,0]\n",
    "    \n",
    "for index in tqdm(range(1,len(DNA_initial)-1)): \n",
    "    triplet = DNA_initial[index-1:index+2]\n",
    "    trip_count_dict_init_final[triplet][0] += 1\n",
    "    \n",
    "    triplet = DNA[index-1:index+2]\n",
    "    trip_count_dict_init_final[triplet][1] += 1\n",
    "\n",
    "triplet_change = []\n",
    "for triplet in triplets: \n",
    "    triplet_change.append(trip_count_dict_init_final[triplet][1]- trip_count_dict_init_final[triplet][0])\n",
    "    \n",
    "    "
   ]
  },
  {
   "cell_type": "code",
   "execution_count": 13,
   "metadata": {},
   "outputs": [
    {
     "data": {
      "image/png": "[encoded data removed]",
      "text/plain": [
       "<matplotlib.figure.Figure at 0x7f66ef396e80>"
      ]
     },
     "metadata": {},
     "output_type": "display_data"
    }
   ],
   "source": [
    "plt.scatter(muts,triplet_change, color = \"red\", label = \"# times chosen\", alpha = 0.5)\n",
    "plt.xlabel(\"mutability\")\n",
    "plt.ylabel(\"triplet chnage\")\n",
    "sim_details = \"1MB random string   0.05x prop muts \\n triplet chnage\"\n",
    "plt.title(sim_details)\n",
    "\n",
    "plt.hlines(0, xmin = 0.2, xmax = 1)\n",
    "plt.xlim((0.2,1))\n",
    "\n",
    "#plt.errorbar(triplet_muts_intron, triplet_chnage_mean_intron, yerr = np.array(triplet_chnage_std_intron), ecolor = \"grey\", ls = \"None\")\n",
    "\n",
    "# plt.show()\n",
    "timestamp = datetime.now().strftime(\"%Y/%m/%d_%H:%M:%S\").replace(\"/\", \"_\").replace(\":\", \"_\")\n",
    "plt.tight_layout()\n",
    "plt.savefig(\"Data/Scatter_{t}_{p}propmuts.png\".format(p = prop_muts, t = timestamp))"
   ]
  },
  {
   "cell_type": "code",
   "execution_count": 95,
   "metadata": {},
   "outputs": [],
   "source": [
    "mut_indices.sort()\n",
    "mut_chosen_differences = []\n",
    "for index,value in enumerate(mut_indices): \n",
    "    if index != 0: \n",
    "        mut_chosen_differences.append( value - mut_indices[index-1])\n",
    "    "
   ]
  },
  {
   "cell_type": "code",
   "execution_count": 24,
   "metadata": {},
   "outputs": [
    {
     "data": {
      "text/plain": [
       "4"
      ]
     },
     "execution_count": 24,
     "metadata": {},
     "output_type": "execute_result"
    }
   ],
   "source": [
    "2+2"
   ]
  },
  {
   "cell_type": "code",
   "execution_count": 109,
   "metadata": {},
   "outputs": [
    {
     "data": {
      "text/plain": [
       "(array([  3.28190000e+04,   1.12410000e+04,   3.93600000e+03,\n",
       "          1.30200000e+03,   4.68000000e+02,   1.35000000e+02,\n",
       "          6.50000000e+01,   2.00000000e+01,   9.00000000e+00,\n",
       "          4.00000000e+00]),\n",
       " array([   0. ,   21.4,   42.8,   64.2,   85.6,  107. ,  128.4,  149.8,\n",
       "         171.2,  192.6,  214. ]),\n",
       " <a list of 10 Patch objects>)"
      ]
     },
     "execution_count": 109,
     "metadata": {},
     "output_type": "execute_result"
    },
    {
     "data": {
      "image/png": "[encoded data removed]",
      "text/plain": [
       "<matplotlib.figure.Figure at 0x7eff627ea6a0>"
      ]
     },
     "metadata": {},
     "output_type": "display_data"
    }
   ],
   "source": [
    "plt.hist(mut_chosen_differences)"
   ]
  },
  {
   "cell_type": "code",
   "execution_count": 49,
   "metadata": {},
   "outputs": [
    {
     "name": "stderr",
     "output_type": "stream",
     "text": [
      "100%|██████████| 3/3 [00:00<00:00, 3345.63it/s]\n"
     ]
    }
   ],
   "source": [
    "for gen in tqdm(range(int(len(DNA)/10))): \n",
    "    base_index = base_to_mutate(DNA, current_weights, indices, mut_indices)\n",
    "    #     print(mut_indices)\n",
    "    #     print(base_index)\n",
    "    indices = indices[0:base_index -2]+indices[base_index+3:]\n",
    "    current_weights = current_weights[0:base_index -2]+current_weights[base_index+3:]\n",
    "    mut_indices.append(base_index)\n"
   ]
  },
  {
   "cell_type": "code",
   "execution_count": 51,
   "metadata": {},
   "outputs": [
    {
     "data": {
      "text/plain": [
       "[9, 3, 15]"
      ]
     },
     "execution_count": 51,
     "metadata": {},
     "output_type": "execute_result"
    }
   ],
   "source": [
    "mut_indices"
   ]
  },
  {
   "cell_type": "code",
   "execution_count": 50,
   "metadata": {},
   "outputs": [
    {
     "data": {
      "text/plain": [
       "[1, 7, 13, 14, 15, 16, 17, 18, 19, 20, 21, 22, 23]"
      ]
     },
     "execution_count": 50,
     "metadata": {},
     "output_type": "execute_result"
    }
   ],
   "source": [
    "indices\n"
   ]
  },
  {
   "cell_type": "code",
   "execution_count": 127,
   "metadata": {},
   "outputs": [
    {
     "name": "stderr",
     "output_type": "stream",
     "text": [
      "100%|██████████| 1100/1100 [00:04<00:00, 225.03it/s]\n"
     ]
    }
   ],
   "source": [
    "\n",
    "for i in tqdm(range(int(len(DNA)/10))):\n",
    "    base_index = base_to_mutate(DNA, current_weights, indices, mut_indices)\n",
    "    \n",
    "    curr_index = indices.index(base_index)\n",
    "    indices = indices[0:curr_index -3]+indices[curr_index+4:]\n",
    "    current_weights = current_weights[0:curr_index -3]+current_weights[curr_index+4:]\n",
    "\n",
    "    c_triplet = DNA[base_index-1: base_index+2]\n",
    "\n",
    "    curr_into_bases = [\"A\", \"T\", \"C\", \"G\"]\n",
    "    curr_into_bases.remove(c_triplet[1])\n",
    "    mb =  choice(curr_into_bases)\n",
    "\n",
    "    DNA = DNA[:base_index]+mb+DNA[base_index+1:]\n",
    "    #print(base_index, indices, mb, sep = \"\\t\")"
   ]
  },
  {
   "cell_type": "code",
   "execution_count": 146,
   "metadata": {},
   "outputs": [
    {
     "data": {
      "text/plain": [
       "1100"
      ]
     },
     "execution_count": 146,
     "metadata": {},
     "output_type": "execute_result"
    }
   ],
   "source": [
    "len(mut_indices)"
   ]
  },
  {
   "cell_type": "code",
   "execution_count": 130,
   "metadata": {},
   "outputs": [
    {
     "data": {
      "text/plain": [
       "1100"
      ]
     },
     "execution_count": 130,
     "metadata": {},
     "output_type": "execute_result"
    }
   ],
   "source": [
    "len(set(mut_indices))"
   ]
  },
  {
   "cell_type": "code",
   "execution_count": 134,
   "metadata": {},
   "outputs": [],
   "source": [
    "mut_indices.sort()"
   ]
  },
  {
   "cell_type": "code",
   "execution_count": 140,
   "metadata": {},
   "outputs": [],
   "source": [
    "fuckups = []\n",
    "for index, value in enumerate(mut_indices): \n",
    "    if index != 0: \n",
    "        diff = value - mut_indices[index-1]\n",
    "        if diff <= 3: \n",
    "            fuckups.append([value, mut_indices[index-1]])\n"
   ]
  },
  {
   "cell_type": "code",
   "execution_count": 149,
   "metadata": {},
   "outputs": [
    {
     "data": {
      "text/plain": [
       "[[463, 461],\n",
       " [945, 942],\n",
       " [968, 965],\n",
       " [1491, 1489],\n",
       " [1755, 1754],\n",
       " [2113, 2111],\n",
       " [2142, 2139],\n",
       " [2255, 2253],\n",
       " [2652, 2649],\n",
       " [2729, 2726]]"
      ]
     },
     "execution_count": 149,
     "metadata": {},
     "output_type": "execute_result"
    }
   ],
   "source": [
    "fuckups[0:10]"
   ]
  },
  {
   "cell_type": "code",
   "execution_count": 161,
   "metadata": {},
   "outputs": [],
   "source": [
    "DNA = \"ATGTGTAGTCT\"*1000\n",
    "current_weights = [choice([0.35, 0.1, 0.5, 0.21]) for x in range(1,len(DNA)-1)]\n",
    "indices = [i for i in range(1, len(DNA)-1)]\n",
    "mut_indices = []\n"
   ]
  },
  {
   "cell_type": "code",
   "execution_count": 49,
   "metadata": {},
   "outputs": [
    {
     "name": "stdout",
     "output_type": "stream",
     "text": [
      "CTC\n",
      "['CGC', 'CAC', 'CTC'] [0.2352525609325327, 0.11974567290709998, 0.6450017661603674]\n"
     ]
    }
   ],
   "source": [
    "into_triplets = []\n",
    "into_weights = []\n",
    "for into_triplet, into_weight in model[triplet][1].items(): \n",
    "    into_triplets.append(into_triplet)\n",
    "    into_weights.append(into_weight)\n",
    "\n",
    "into_weight_sum = sum(into_weights) \n",
    "for index, value in enumerate(into_weights): \n",
    "    into_weights[index] = value/into_weight_sum\n",
    "\n",
    "mTriplet = choice(into_triplets, p = into_weights)\n",
    "    \n",
    "print(into_triplets, into_weights)"
   ]
  },
  {
   "cell_type": "markdown",
   "metadata": {},
   "source": []
  },
  {
   "cell_type": "code",
   "execution_count": 66,
   "metadata": {},
   "outputs": [
    {
     "name": "stderr",
     "output_type": "stream",
     "text": [
      "100%|██████████| 10000/10000 [03:35<00:00, 46.49it/s]\n"
     ]
    }
   ],
   "source": [
    "\n",
    "    #print(base_index, indices,  sep = \"\\t\")"
   ]
  },
  {
   "cell_type": "code",
   "execution_count": 67,
   "metadata": {},
   "outputs": [
    {
     "data": {
      "text/plain": [
       "10000"
      ]
     },
     "execution_count": 67,
     "metadata": {},
     "output_type": "execute_result"
    }
   ],
   "source": []
  },
  {
   "cell_type": "code",
   "execution_count": 68,
   "metadata": {},
   "outputs": [
    {
     "data": {
      "text/plain": [
       "10000"
      ]
     },
     "execution_count": 68,
     "metadata": {},
     "output_type": "execute_result"
    }
   ],
   "source": []
  },
  {
   "cell_type": "code",
   "execution_count": null,
   "metadata": {},
   "outputs": [],
   "source": []
  },
  {
   "cell_type": "code",
   "execution_count": 145,
   "metadata": {},
   "outputs": [
    {
     "data": {
      "text/plain": [
       "True"
      ]
     },
     "execution_count": 145,
     "metadata": {},
     "output_type": "execute_result"
    }
   ],
   "source": [
    "461 in mut_indices"
   ]
  },
  {
   "cell_type": "code",
   "execution_count": 133,
   "metadata": {},
   "outputs": [
    {
     "data": {
      "text/plain": [
       "2"
      ]
     },
     "execution_count": 133,
     "metadata": {},
     "output_type": "execute_result"
    }
   ],
   "source": [
    "len(set((\"hello\", \"goodbye\", \"hello\")))"
   ]
  },
  {
   "cell_type": "code",
   "execution_count": 101,
   "metadata": {},
   "outputs": [
    {
     "name": "stdout",
     "output_type": "stream",
     "text": [
      "ATGTGTAGTAT\t9\tA\n"
     ]
    }
   ],
   "source": [
    "print(DNA, base_index, mb, sep = \"\\t\")"
   ]
  },
  {
   "cell_type": "code",
   "execution_count": 103,
   "metadata": {},
   "outputs": [
    {
     "name": "stdout",
     "output_type": "stream",
     "text": [
      "ATGTGTAGCAT\t8\tC\n"
     ]
    }
   ],
   "source": [
    "print(DNA, base_index, mb, sep = \"\\t\")"
   ]
  },
  {
   "cell_type": "markdown",
   "metadata": {},
   "source": [
    "** old base to mutate before tried to do the optimization ** "
   ]
  },
  {
   "cell_type": "code",
   "execution_count": 2,
   "metadata": {},
   "outputs": [],
   "source": [
    "def base_to_mutate(DNA, current_weights, indices): \n",
    "    \"\"\"\n",
    "    (DNA: str, weights: Dict) -> int\n",
    "    \n",
    "    Will return the index of a random choice of a base that will be mutated based on probabilities given by the\n",
    "    weights dictionary (i.e. the model)\n",
    "    ex. \"ATCGTA\" --> index 3 (\"G\") will mutate\n",
    "    \"\"\"\n",
    "\n",
    "    # NORMALIZE THE POPULATION OF WEIGHTS    \n",
    "    total_freq = sum(current_weights) \n",
    "    normalized_weights = copy.copy(current_weights)\n",
    "    for index, value in enumerate(current_weights):\n",
    "        normalized_weights[index] = value/total_freq \n",
    "\n",
    "    # DRAW THE INDEX OF THE BASE THAT WILL BE MUTATED\n",
    "    base_index = choice(indices, p=normalized_weights) \n",
    "        \n",
    "    \n",
    "    # RETURN THE INDEX\n",
    "    return base_index\n",
    "\n"
   ]
  },
  {
   "cell_type": "code",
   "execution_count": 79,
   "metadata": {},
   "outputs": [],
   "source": [
    "# NORMALIZE THE POPULATION OF WEIGHTS    \n",
    "s0 = time.time ()\n",
    "total_freq = sum(current_weights) \n",
    "s1 = time.time()\n",
    "t1 = time.time() - s0\n",
    "\n",
    "normalized_weights = [\"error\"]*len(current_weights)\n",
    "s2 = time.time()\n",
    "t2 = time.time() - s1\n",
    "\n",
    "for index, value in enumerate(current_weights):\n",
    "    normalized_weights[index] = value/total_freq \n",
    "s3 = time.time()\n",
    "t3 = time.time() - s2\n",
    "\n",
    "# DRAW THE INDEX OF THE BASE THAT WILL BE MUTATED\n",
    "base_index = choice(indices, p=normalized_weights) \n",
    "s4 = time.time()\n",
    "t4 = time.time() - s3\n"
   ]
  },
  {
   "cell_type": "code",
   "execution_count": 80,
   "metadata": {},
   "outputs": [
    {
     "name": "stdout",
     "output_type": "stream",
     "text": [
      "0.005890607833862305 0.012868881225585938 0.1864941120147705 0.11419153213500977\n"
     ]
    }
   ],
   "source": [
    "print(t1,t2,t3,t4)"
   ]
  },
  {
   "cell_type": "code",
   "execution_count": null,
   "metadata": {},
   "outputs": [],
   "source": []
  },
  {
   "cell_type": "code",
   "execution_count": null,
   "metadata": {},
   "outputs": [],
   "source": []
  },
  {
   "cell_type": "code",
   "execution_count": null,
   "metadata": {},
   "outputs": [],
   "source": []
  },
  {
   "cell_type": "code",
   "execution_count": null,
   "metadata": {},
   "outputs": [],
   "source": []
  },
  {
   "cell_type": "code",
   "execution_count": null,
   "metadata": {},
   "outputs": [],
   "source": []
  },
  {
   "cell_type": "code",
   "execution_count": null,
   "metadata": {},
   "outputs": [],
   "source": []
  },
  {
   "cell_type": "code",
   "execution_count": null,
   "metadata": {},
   "outputs": [],
   "source": []
  },
  {
   "cell_type": "code",
   "execution_count": null,
   "metadata": {},
   "outputs": [],
   "source": []
  },
  {
   "cell_type": "code",
   "execution_count": null,
   "metadata": {},
   "outputs": [],
   "source": []
  },
  {
   "cell_type": "code",
   "execution_count": null,
   "metadata": {},
   "outputs": [],
   "source": []
  },
  {
   "cell_type": "code",
   "execution_count": null,
   "metadata": {},
   "outputs": [],
   "source": []
  },
  {
   "cell_type": "code",
   "execution_count": null,
   "metadata": {},
   "outputs": [],
   "source": []
  },
  {
   "cell_type": "code",
   "execution_count": null,
   "metadata": {},
   "outputs": [],
   "source": []
  },
  {
   "cell_type": "code",
   "execution_count": null,
   "metadata": {},
   "outputs": [],
   "source": []
  }
 ],
 "metadata": {
  "kernelspec": {
   "display_name": "Python 3",
   "language": "python",
   "name": "python3"
  },
  "language_info": {
   "codemirror_mode": {
    "name": "ipython",
    "version": 3
   },
   "file_extension": ".py",
   "mimetype": "text/x-python",
   "name": "python",
   "nbconvert_exporter": "python",
   "pygments_lexer": "ipython3",
   "version": "3.5.1"
  }
 },
 "nbformat": 4,
 "nbformat_minor": 2
}
