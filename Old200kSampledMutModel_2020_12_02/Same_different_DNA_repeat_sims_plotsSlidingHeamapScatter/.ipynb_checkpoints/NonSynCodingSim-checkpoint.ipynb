{
 "cells": [
  {
   "cell_type": "markdown",
   "metadata": {},
   "source": [
    "# ** proper thign for findign out if we see codon usage bias ** \n",
    "    1) i simulate a string oc coding sequence (long one, maybe that 40k one a while back?) \n",
    "    2) randomize the synonymous cites \n",
    "    3) run "
   ]
  },
  {
   "cell_type": "markdown",
   "metadata": {},
   "source": [
    "** load in the data ** "
   ]
  },
  {
   "cell_type": "code",
   "execution_count": 148,
   "metadata": {},
   "outputs": [],
   "source": [
    "import json \n",
    "import random\n",
    "import numpy as np\n",
    "import matplotlib.pyplot as plt"
   ]
  },
  {
   "cell_type": "code",
   "execution_count": 182,
   "metadata": {},
   "outputs": [],
   "source": [
    "model = {'GTC': [0.38170347003154576, {'GCC': 0.581267217630854, 'GGC': 0.17447199265381083, 'GAC': 0.24426078971533516}], 'TGA': [0.44338655339094774, {'TAA': 0.6247109349190618, 'TTA': 0.12685827552031714, 'TCA': 0.2484307895606211}], 'TAT': [0.544423228125351, {'TTT': 0.12131215184650299, 'TGT': 0.8021456571074892, 'TCT': 0.07654219104600785}], 'CGC': [0.9428571428571428, {'CTC': 0.06703397612488522, 'CCC': 0.027548209366391185, 'CAC': 0.9054178145087236}], 'ATT': [0.48758198043221157, {'AGT': 0.1133406835722161, 'ACT': 0.7592061742006616, 'AAT': 0.1274531422271224}], 'GCA': [0.49819102749638206, {'GTA': 0.6016702977487292, 'GAA': 0.24473493100944083, 'GGA': 0.15359477124183007}], 'CGT': [0.9583888149134487, {'CTT': 0.04341785342132685, 'CCT': 0.03403959708232025, 'CAT': 0.922542549496353}], 'CCA': [0.4589957500393515, {'CTA': 0.6903292181069959, 'CGA': 0.20781893004115226, 'CAA': 0.10185185185185185}], 'GGA': [0.5196784458214705, {'GTA': 0.17015791169835642, 'GAA': 0.602964872703835, 'GCA': 0.22687721559780857}], 'AAA': [0.3198252625708709, {'ACA': 0.2961348445219413, 'ATA': 0.17988956698634118, 'AGA': 0.5239755884917175}], 'AAC': [0.3978541712283775, {'ACC': 0.17776554760594387, 'AGC': 0.6692350027517887, 'ATC': 0.15299944964226747}], 'CTC': [0.3202682875707399, {'CGC': 0.21662303664921467, 'CCC': 0.5530104712041884, 'CAC': 0.23036649214659685}], 'AGG': [0.5123493090267568, {'ACG': 0.22955523672883785, 'AAG': 0.6662840746054519, 'ATG': 0.10416068866571017}], 'AGA': [0.4717741935483871, {'ACA': 0.34816490698843644, 'AAA': 0.47611865258924085, 'ATA': 0.1757164404223228}], 'AGC': [0.5081906865451868, {'ACC': 0.20101412531691415, 'AAC': 0.6356392611372691, 'ATC': 0.16334661354581673}], 'CAA': [0.36173285198555954, {'CTA': 0.13822355289421157, 'CGA': 0.5768463073852296, 'CCA': 0.28493013972055886}], 'CTT': [0.35645079041305455, {'CGT': 0.2341440152598951, 'CCT': 0.6132570338578922, 'CAT': 0.15259895088221268}], 'CAC': [0.3995351785336996, {'CCC': 0.20359598096245374, 'CTC': 0.18244315177154943, 'CGC': 0.6139608672659969}], 'TAG': [0.38808618504435993, {'TCG': 0.16525146962769433, 'TGG': 0.6962769431743958, 'TTG': 0.13847158719790986}], 'ACA': [0.5516478655164787, {'ATA': 0.6555733761026463, 'AGA': 0.17802726543704891, 'AAA': 0.16639935846030474}], 'CTG': [0.4073735527117611, {'CGG': 0.20905011219147346, 'CAG': 0.1480927449513837, 'CCG': 0.6428571428571429}], 'ACT': [0.5261127596439169, {'AGT': 0.24844895657078397, 'ATT': 0.5964467005076142, 'AAT': 0.1551043429216018}], 'TTA': [0.3860215053763441, {'TGA': 0.20533227218463987, 'TAA': 0.22682053322721846, 'TCA': 0.5678471945881417}], 'CGA': [0.9197916666666667, {'CTA': 0.026896942242355604, 'CAA': 0.9210079275198187, 'CCA': 0.052095130237825596}], 'GTA': [0.4143262045864468, {'GGA': 0.12686567164179105, 'GAA': 0.1455223880597015, 'GCA': 0.7276119402985075}], 'GGC': [0.5527913809990206, {'GCC': 0.1630049610205528, 'GTC': 0.23848334514528702, 'GAC': 0.5985116938341601}], 'AGT': [0.5261127596439169, {'ATT': 0.1551043429216018, 'ACT': 0.24844895657078397, 'AAT': 0.5964467005076142}], 'AAT': [0.48758198043221157, {'AGT': 0.7592061742006616, 'ATT': 0.1274531422271224, 'ACT': 0.1133406835722161}], 'CCG': [0.943577893317928, {'CTG': 0.943265306122449, 'CGG': 0.04673469387755102, 'CAG': 0.01}], 'ACC': [0.6345660930062248, {'AAC': 0.3147720715522216, 'ATC': 0.532602423542989, 'AGC': 0.15262550490478938}], 'TCC': [0.5196784458214705, {'TTC': 0.602964872703835, 'TGC': 0.22687721559780857, 'TAC': 0.17015791169835642}], 'TCT': [0.4717741935483871, {'TTT': 0.47611865258924085, 'TGT': 0.34816490698843644, 'TAT': 0.1757164404223228}], 'CAG': [0.4073735527117611, {'CTG': 0.1480927449513837, 'CGG': 0.6428571428571429, 'CCG': 0.20905011219147346}], 'TTG': [0.36173285198555954, {'TCG': 0.5768463073852296, 'TGG': 0.28493013972055886, 'TAG': 0.13822355289421157}], 'ATC': [0.4466903598400711, {'ACC': 0.5862754848334162, 'AAC': 0.2973644952759821, 'AGC': 0.11636001989060167}], 'CGG': [0.943577893317928, {'CTG': 0.01, 'CAG': 0.943265306122449, 'CCG': 0.04673469387755102}], 'TTC': [0.30323054331864907, {'TGC': 0.2391041162227603, 'TCC': 0.5617433414043583, 'TAC': 0.19915254237288135}], 'TAA': [0.3860215053763441, {'TGA': 0.5678471945881417, 'TTA': 0.22682053322721846, 'TCA': 0.20533227218463987}], 'ATG': [0.5741935483870968, {'ACG': 0.716724286949006, 'AAG': 0.1497407087294728, 'AGG': 0.13353500432152118}], 'GGT': [0.6345660930062248, {'GTT': 0.3147720715522216, 'GCT': 0.15262550490478938, 'GAT': 0.532602423542989}], 'TGC': [0.49819102749638206, {'TTC': 0.24473493100944083, 'TCC': 0.15359477124183007, 'TAC': 0.6016702977487292}], 'GTG': [0.3995351785336996, {'GAG': 0.18244315177154943, 'GCG': 0.6139608672659969, 'GGG': 0.20359598096245374}], 'GGG': [0.5453669813138123, {'GAG': 0.6450017661603674, 'GTG': 0.11974567290709998, 'GCG': 0.2352525609325327}], 'ACG': [0.9583888149134487, {'ATG': 0.922542549496353, 'AAG': 0.04341785342132685, 'AGG': 0.03403959708232025}], 'TGG': [0.4589957500393515, {'TCG': 0.20781893004115226, 'TTG': 0.10185185185185185, 'TAG': 0.6903292181069959}], 'GAA': [0.30323054331864907, {'GTA': 0.19915254237288135, 'GGA': 0.5617433414043583, 'GCA': 0.2391041162227603}], 'GAC': [0.38170347003154576, {'GCC': 0.17447199265381083, 'GTC': 0.24426078971533516, 'GGC': 0.581267217630854}], 'TAC': [0.4143262045864468, {'TTC': 0.1455223880597015, 'TGC': 0.7276119402985075, 'TCC': 0.12686567164179105}], 'GAT': [0.4466903598400711, {'GTT': 0.2973644952759821, 'GCT': 0.11636001989060167, 'GGT': 0.5862754848334162}], 'ATA': [0.544423228125351, {'ACA': 0.8021456571074892, 'AAA': 0.12131215184650299, 'AGA': 0.07654219104600785}], 'GCT': [0.5081906865451868, {'GTT': 0.6356392611372691, 'GGT': 0.20101412531691415, 'GAT': 0.16334661354581673}], 'CAT': [0.5741935483870968, {'CTT': 0.1497407087294728, 'CGT': 0.716724286949006, 'CCT': 0.13353500432152118}], 'CTA': [0.38808618504435993, {'CGA': 0.16525146962769433, 'CAA': 0.13847158719790986, 'CCA': 0.6962769431743958}], 'CCT': [0.5123493090267568, {'CTT': 0.6662840746054519, 'CGT': 0.22955523672883785, 'CAT': 0.10416068866571017}], 'TTT': [0.3198252625708709, {'TCT': 0.5239755884917175, 'TGT': 0.2961348445219413, 'TAT': 0.17988956698634118}], 'TCG': [0.9197916666666667, {'TGG': 0.052095130237825596, 'TTG': 0.9210079275198187, 'TAG': 0.026896942242355604}], 'AAG': [0.35645079041305455, {'ATG': 0.15259895088221268, 'ACG': 0.2341440152598951, 'AGG': 0.6132570338578922}], 'GTT': [0.3978541712283775, {'GCT': 0.6692350027517887, 'GGT': 0.17776554760594387, 'GAT': 0.15299944964226747}], 'TCA': [0.44338655339094774, {'TAA': 0.12685827552031714, 'TGA': 0.2484307895606211, 'TTA': 0.6247109349190618}], 'CCC': [0.5453669813138123, {'CTC': 0.6450017661603674, 'CGC': 0.2352525609325327, 'CAC': 0.11974567290709998}], 'GAG': [0.3202682875707399, {'GTG': 0.23036649214659685, 'GCG': 0.21662303664921467, 'GGG': 0.5530104712041884}], 'GCG': [0.9428571428571428, {'GAG': 0.06703397612488522, 'GTG': 0.9054178145087236, 'GGG': 0.027548209366391185}], 'GCC': [0.5527913809990206, {'GTC': 0.5985116938341601, 'GGC': 0.1630049610205528, 'GAC': 0.23848334514528702}], 'TGT': [0.5516478655164787, {'TCT': 0.17802726543704891, 'TAT': 0.6555733761026463, 'TTT': 0.16639935846030474}]}\n"
   ]
  },
  {
   "cell_type": "code",
   "execution_count": 6,
   "metadata": {},
   "outputs": [],
   "source": [
    "# import thee files associated with the long ass coding seqeunce region \n",
    "\n",
    "cds_pos_dictionary = open(\"DifDNA_Trial4_exon_insertion_dict.txt\").readlines()[0]\n",
    "cds_pos_dictionary = json.loads(cds_pos_dictionary)\n",
    "\n",
    "cds_seq_dictionary = open(\"DifDNA_Trial4_exons_toUseSeqeunce_dict.txt\").readlines()[0]\n",
    "cds_seq_dictionary = json.loads(cds_seq_dictionary)"
   ]
  },
  {
   "cell_type": "code",
   "execution_count": 7,
   "metadata": {},
   "outputs": [
    {
     "data": {
      "text/plain": [
       "{'ENST00000340834.10': [136859, 144890],\n",
       " 'ENST00000342175.11': [38836, 120193],\n",
       " 'ENST00000400822.7': [16665, 22170]}"
      ]
     },
     "execution_count": 7,
     "metadata": {},
     "output_type": "execute_result"
    }
   ],
   "source": [
    "cds_pos_dictionary"
   ]
  },
  {
   "cell_type": "code",
   "execution_count": 14,
   "metadata": {},
   "outputs": [],
   "source": [
    "cds = cds_seq_dictionary[\"ENST00000342175.11\"][0]"
   ]
  },
  {
   "cell_type": "code",
   "execution_count": 29,
   "metadata": {},
   "outputs": [
    {
     "name": "stdout",
     "output_type": "stream",
     "text": [
      "{'TAC': 'TYR', 'CGT': 'ARG', 'GCT': 'ALA', 'AGA': 'ARG', 'GAT': 'ASP', 'AGT': 'SER', 'GTT': 'VAL', 'CAA': 'GLN', 'TGT': 'CYS', 'CAC': 'HIS', 'GCC': 'ALA', 'CTG': 'LEU', 'GGA': 'GLY', 'CCT': 'PRO', 'AGC': 'SER', 'TGA': 'STOP', 'GTG': 'VAL', 'GCA': 'ALA', 'TAA': 'STOP', 'AAG': 'LYS', 'TTG': 'LEU', 'ACA': 'THR', 'TCG': 'SER', 'CTA': 'LEU', 'TCT': 'SER', 'GGT': 'GLY', 'CCC': 'PRO', 'ATT': 'ILE', 'CGC': 'ARG', 'CGG': 'ARG', 'TTT': 'PHE', 'TCC': 'SER', 'AAT': 'ASN', 'TAT': 'TYR', 'GAA': 'GLU', 'TGG': 'TRP', 'GAC': 'ASP', 'AGG': 'ARG', 'ACG': 'THR', 'GGG': 'GLY', 'CCA': 'PRO', 'GGC': 'GLY', 'ATC': 'ILE', 'AAC': 'ASN', 'TCA': 'SER', 'GTC': 'VAL', 'TTC': 'PHE', 'CCG': 'PRO', 'ATA': 'ILE', 'TAG': 'STOP', 'ATG': 'MET', 'GTA': 'VAL', 'AAA': 'LYS', 'CTC': 'LEU', 'CAT': 'HIS', 'ACC': 'THR', 'GCG': 'ALA', 'TGC': 'CYS', 'CAG': 'GLN', 'CTT': 'LEU', 'GAG': 'GLU', 'CGA': 'ARG', 'ACT': 'THR', 'TTA': 'LEU'}\n"
     ]
    }
   ],
   "source": [
    "SynonymousCodons = {'CYS': ['TGT', 'TGC'], 'ASP': ['GAT', 'GAC'],\n",
    "'SER': ['TCT', 'TCG', 'TCA', 'TCC', 'AGC', 'AGT'],\n",
    "'GLN': ['CAA', 'CAG'], 'MET': ['ATG'], 'ASN': ['AAC', 'AAT'],\n",
    "'PRO': ['CCT', 'CCG', 'CCA', 'CCC'], 'LYS': ['AAG', 'AAA'],\n",
    "'STOP': ['TAG', 'TGA', 'TAA'], 'THR': ['ACC', 'ACA', 'ACG', 'ACT'],\n",
    "'PHE': ['TTT', 'TTC'], 'ALA': ['GCA', 'GCC', 'GCG', 'GCT'],\n",
    "'GLY': ['GGT', 'GGG', 'GGA', 'GGC'], 'ILE': ['ATC', 'ATA', 'ATT'],\n",
    "'LEU': ['TTA', 'TTG', 'CTC', 'CTT', 'CTG', 'CTA'], 'HIS': ['CAT', 'CAC'],\n",
    "'ARG': ['CGA', 'CGC', 'CGG', 'CGT', 'AGG', 'AGA'], 'TRP': ['TGG'],\n",
    "'VAL': ['GTA', 'GTC', 'GTG', 'GTT'], 'GLU': ['GAG', 'GAA'], 'TYR': ['TAT', 'TAC']}\n",
    "\n",
    "get_aa_dict = {}\n",
    "for key,value in SynonymousCodons.items(): \n",
    "    for codon in value: \n",
    "        get_aa_dict[codon] = key \n",
    "\n",
    "print(get_aa_dict)"
   ]
  },
  {
   "cell_type": "code",
   "execution_count": 26,
   "metadata": {},
   "outputs": [],
   "source": [
    "del(triplets)"
   ]
  },
  {
   "cell_type": "code",
   "execution_count": 30,
   "metadata": {},
   "outputs": [
    {
     "name": "stdout",
     "output_type": "stream",
     "text": [
      "ATCCATTTAA\n",
      "['ACT', 'GTG', 'AAT', 'ATA', 'CAT', 'ATT', 'CGA', 'TCC', 'ATT', 'TAA']\n"
     ]
    }
   ],
   "source": [
    "codons= []\n",
    "for i in range(0,len(cds),3): \n",
    "    codon  = cds[i:i+3]\n",
    "    codons.append(codon)\n",
    "\n",
    "print(cds[-10:])\n",
    "print(codons[-10:])"
   ]
  },
  {
   "cell_type": "code",
   "execution_count": 38,
   "metadata": {},
   "outputs": [],
   "source": [
    "new_dna = str()\n",
    "new_codons = []\n",
    "for codon in codons: \n",
    "    aa = get_aa_dict[codon]\n",
    "    new_codon = random.choice(SynonymousCodons[aa])\n",
    "    new_codons.append(new_codon)\n",
    "    new_dna += new_codon"
   ]
  },
  {
   "cell_type": "code",
   "execution_count": 39,
   "metadata": {},
   "outputs": [],
   "source": [
    "counter = 0\n",
    "for i in range(len(codons)): \n",
    "    if codons[i] != new_codons[i]: \n",
    "        counter += 1"
   ]
  },
  {
   "cell_type": "code",
   "execution_count": 42,
   "metadata": {},
   "outputs": [
    {
     "data": {
      "text/plain": [
       "27119"
      ]
     },
     "execution_count": 42,
     "metadata": {},
     "output_type": "execute_result"
    }
   ],
   "source": [
    "len(codons)"
   ]
  },
  {
   "cell_type": "code",
   "execution_count": 41,
   "metadata": {},
   "outputs": [
    {
     "data": {
      "text/plain": [
       "17678"
      ]
     },
     "execution_count": 41,
     "metadata": {},
     "output_type": "execute_result"
    }
   ],
   "source": [
    "counter"
   ]
  },
  {
   "cell_type": "code",
   "execution_count": 37,
   "metadata": {},
   "outputs": [
    {
     "data": {
      "text/plain": [
       "'ATGACTACCCAAGCTCCAACCTTTACACAGCCATTGCAAAGTGTGGTTGTATTGGAGGGGAGTACGGCTACGTTTGAAGCTCACATCAGCGGTTTTCCGG'"
      ]
     },
     "execution_count": 37,
     "metadata": {},
     "output_type": "execute_result"
    }
   ],
   "source": [
    "new_dna[0:100]"
   ]
  },
  {
   "cell_type": "code",
   "execution_count": 44,
   "metadata": {},
   "outputs": [
    {
     "name": "stdout",
     "output_type": "stream",
     "text": [
      "TAC\t423\t0.01559792027729636\n",
      "CGT\t225\t0.008296766104944873\n",
      "GCT\t422\t0.015561045761274383\n",
      "AGA\t228\t0.008407389653010805\n",
      "GAT\t739\t0.02725026734024116\n",
      "AGT\t315\t0.011615472546922821\n",
      "GTT\t612\t0.022567203805450055\n",
      "CAA\t396\t0.014602308344702976\n",
      "TGT\t182\t0.006711161915999853\n",
      "CAC\t200\t0.007374903204395442\n",
      "GCC\t407\t0.015007928020944725\n",
      "CTG\t305\t0.01124672738670305\n",
      "GGA\t438\t0.016151038017626018\n",
      "CCT\t430\t0.015856041889450202\n",
      "AGC\t332\t0.012242339319296434\n",
      "TGA\t1\t3.687451602197721e-05\n",
      "GTG\t591\t0.021792838968988534\n",
      "GCA\t421\t0.015524171245252407\n",
      "TAA\t0\t0.0\n",
      "AAG\t1078\t0.03975072827169143\n",
      "TTG\t263\t0.009697997713780007\n",
      "ACA\t546\t0.020133485747999558\n",
      "TCG\t334\t0.012316088351340388\n",
      "CTA\t277\t0.010214240938087687\n",
      "TCT\t318\t0.011726096094988753\n",
      "GGT\t414\t0.015266049633098565\n",
      "CCC\t464\t0.017109775434197425\n",
      "ATT\t555\t0.02046535639219735\n",
      "CGC\t246\t0.009071130941406394\n",
      "CGG\t237\t0.008739260297208598\n",
      "TTT\t340\t0.012537335447472252\n",
      "TCC\t311\t0.011467974482834913\n",
      "AAT\t424\t0.01563479479331834\n",
      "TAT\t410\t0.015118551569010657\n",
      "GAA\t1161\t0.04281131310151554\n",
      "TGG\t402\t0.01482355544083484\n",
      "GAC\t702\t0.025885910247428003\n",
      "AGG\t238\t0.008776134813230576\n",
      "ACG\t513\t0.01891662671927431\n",
      "GGG\t440\t0.016224787049669974\n",
      "CCA\t463\t0.017072900918175447\n",
      "GGC\t451\t0.016630406725911723\n",
      "ATC\t544\t0.020059736715955602\n",
      "AAC\t476\t0.017552269626461153\n",
      "TCA\t328\t0.012094841255208525\n",
      "GTC\t596\t0.02197721154909842\n",
      "TTC\t340\t0.012537335447472252\n",
      "CCG\t477\t0.01758914414248313\n",
      "ATA\t568\t0.020944725100483057\n",
      "TAG\t0\t0.0\n",
      "ATG\t334\t0.012316088351340388\n",
      "GTA\t639\t0.02356281573804344\n",
      "AAA\t1137\t0.04192632471698809\n",
      "CTC\t288\t0.010619860614329436\n",
      "CAT\t192\t0.007079907076219624\n",
      "ACC\t510\t0.01880600317120838\n",
      "GCG\t394\t0.014528559312659022\n",
      "TGC\t180\t0.006637412883955898\n",
      "CAG\t345\t0.012721708027582138\n",
      "CTT\t261\t0.009624248681736051\n",
      "GAG\t1180\t0.04351192890593311\n",
      "CGA\t232\t0.008554887717098713\n",
      "ACT\t533\t0.019654117039713852\n",
      "TTA\t311\t0.011467974482834913\n"
     ]
    }
   ],
   "source": [
    "#checking counts are relatively random \n",
    "for codon in get_aa_dict.keys():\n",
    "    count = new_codons.count(codon)\n",
    "    prop = count / len(codons)\n",
    "    print(codon, count, prop, sep = \"\\t\")"
   ]
  },
  {
   "cell_type": "code",
   "execution_count": 84,
   "metadata": {},
   "outputs": [],
   "source": [
    "new_dna_map = cds = cds_seq_dictionary[\"ENST00000342175.11\"][1]"
   ]
  },
  {
   "cell_type": "code",
   "execution_count": 78,
   "metadata": {},
   "outputs": [
    {
     "data": {
      "text/plain": [
       "81357"
      ]
     },
     "execution_count": 78,
     "metadata": {},
     "output_type": "execute_result"
    }
   ],
   "source": [
    "len(new_dna) "
   ]
  },
  {
   "cell_type": "code",
   "execution_count": 85,
   "metadata": {},
   "outputs": [],
   "source": [
    "# di the invariant sites thing \n",
    "invarSitesIndices = random.sample(range(0, len(codons)), int(len(codons)/2))\n",
    "for codon_index in invarSitesIndices: \n",
    "    adj_codon_index = codon_index*3\n",
    "    new_dna_map = new_dna_map[:adj_codon_index]+\"333\"+new_dna_map[adj_codon_index+3:]"
   ]
  },
  {
   "cell_type": "code",
   "execution_count": 80,
   "metadata": {},
   "outputs": [
    {
     "data": {
      "text/plain": [
       "1582"
      ]
     },
     "execution_count": 80,
     "metadata": {},
     "output_type": "execute_result"
    }
   ],
   "source": [
    "invarSitesIndices[-1]"
   ]
  },
  {
   "cell_type": "code",
   "execution_count": 81,
   "metadata": {},
   "outputs": [
    {
     "data": {
      "text/plain": [
       "1582"
      ]
     },
     "execution_count": 81,
     "metadata": {},
     "output_type": "execute_result"
    }
   ],
   "source": [
    "codon_index"
   ]
  },
  {
   "cell_type": "code",
   "execution_count": 82,
   "metadata": {},
   "outputs": [
    {
     "data": {
      "text/plain": [
       "4746"
      ]
     },
     "execution_count": 82,
     "metadata": {},
     "output_type": "execute_result"
    }
   ],
   "source": [
    "adj_codon_index"
   ]
  },
  {
   "cell_type": "code",
   "execution_count": 86,
   "metadata": {},
   "outputs": [
    {
     "data": {
      "text/plain": [
       "'0123333330123330120120123330123330120120123333330123333333330123333330120120120120120123333330120120'"
      ]
     },
     "execution_count": 86,
     "metadata": {},
     "output_type": "execute_result"
    }
   ],
   "source": [
    "\n",
    "new_dna_map[0:100]"
   ]
  },
  {
   "cell_type": "code",
   "execution_count": 87,
   "metadata": {},
   "outputs": [],
   "source": [
    "file = open(\"CodingUsage_DNA_gen0.txt\", \"w+\")\n",
    "file.write(str(new_dna))\n",
    "file.close()\n",
    "\n",
    "file = open(\"CodingUsage_DNA_map.txt\", \"w+\")\n",
    "file.write(str(new_dna_map))\n",
    "file.close()"
   ]
  },
  {
   "cell_type": "code",
   "execution_count": 65,
   "metadata": {},
   "outputs": [
    {
     "data": {
      "text/plain": [
       "range(0, 10, 3)"
      ]
     },
     "execution_count": 65,
     "metadata": {},
     "output_type": "execute_result"
    }
   ],
   "source": [
    "range(0,10,3)"
   ]
  },
  {
   "cell_type": "markdown",
   "metadata": {},
   "source": [
    "# ** plotting codon usage bias ** "
   ]
  },
  {
   "cell_type": "code",
   "execution_count": 107,
   "metadata": {},
   "outputs": [],
   "source": [
    "# importing dna \n",
    "DNAI = open(\"CodingUsage_DNA_gen0.txt\").readlines()[0]\n",
    "initial_codons = []\n",
    "for i in range(1, len(DNAI), 3): \n",
    "    codon = DNAI[i-1:i+2]\n",
    "    initial_codons.append(codon)"
   ]
  },
  {
   "cell_type": "code",
   "execution_count": 108,
   "metadata": {},
   "outputs": [
    {
     "name": "stdout",
     "output_type": "stream",
     "text": [
      "ATGACGACGC\n",
      "['ATG', 'ACG', 'ACG', 'CAG', 'GCT', 'CCT', 'ACC', 'TTC', 'ACG', 'CAA']\n"
     ]
    }
   ],
   "source": [
    "print(DNAI[:10])\n",
    "print(initial_codons[0:10])"
   ]
  },
  {
   "cell_type": "code",
   "execution_count": 101,
   "metadata": {},
   "outputs": [],
   "source": [
    "nTrial = 9\n",
    "DNAF_dict = {}\n",
    "for trial_name in [\"Trial\"+str(n) for n in range(1,nTrial+1)]: \n",
    "    dnaf = open(\"Nonsyn_output/CodonUsage_{t}_DNA_final_cds_invariant50_800000.txt\".format(t=trial_name)).readlines()[0]\n",
    "    codons = []\n",
    "    for i in range(1, len(dnaf)-1,3): \n",
    "        codon = dnaf[i-1:i+2]\n",
    "        codons.append(codon)\n",
    "    DNAF_dict[trial_name] = [dnaf , codons]"
   ]
  },
  {
   "cell_type": "code",
   "execution_count": 109,
   "metadata": {},
   "outputs": [
    {
     "name": "stdout",
     "output_type": "stream",
     "text": [
      "ATCCATTTGA\n",
      "['ACT', 'GTT', 'AAC', 'CTA', 'CAC', 'ATA', 'CAA', 'TCC', 'ATT', 'TGA']\n"
     ]
    }
   ],
   "source": [
    "print(DNAF_dict[\"Trial1\"][0][-10:])\n",
    "print(DNAF_dict[\"Trial1\"][1][-10:])"
   ]
  },
  {
   "cell_type": "code",
   "execution_count": 122,
   "metadata": {},
   "outputs": [],
   "source": [
    "codon_countf_dict = {}\n",
    "for codon in get_aa_dict.keys(): #all codons are keys \n",
    "    counts_list = []\n",
    "    for trial_name in [\"Trial\"+str(n) for n in range(1,nTrial+1)]:\n",
    "        countf = DNAF_dict[trial_name][1].count(codon)\n",
    "        counts_list.append(countf)\n",
    "\n",
    "    codon_countf_dict[codon] = counts_list"
   ]
  },
  {
   "cell_type": "code",
   "execution_count": 133,
   "metadata": {},
   "outputs": [],
   "source": [
    "codon_counti_dict = {}\n",
    "for codon in get_aa_dict.keys():\n",
    "    counti = initial_codons.count(codon)\n",
    "    codon_counti_dict[codon] = counti"
   ]
  },
  {
   "cell_type": "code",
   "execution_count": 123,
   "metadata": {},
   "outputs": [
    {
     "data": {
      "text/plain": [
       "{'AAA': [920, 906, 953, 955, 927, 947, 884, 933, 936],\n",
       " 'AAC': [535, 529, 538, 546, 565, 529, 510, 516, 540],\n",
       " 'AAG': [774, 776, 778, 796, 783, 777, 792, 762, 800],\n",
       " 'AAT': [548, 561, 553, 540, 537, 562, 572, 544, 512],\n",
       " 'ACA': [670, 598, 629, 625, 623, 627, 653, 638, 633],\n",
       " 'ACC': [449, 421, 430, 412, 428, 415, 432, 422, 414],\n",
       " 'ACG': [429, 434, 423, 429, 423, 452, 416, 434, 439],\n",
       " 'ACT': [554, 593, 583, 557, 550, 566, 551, 579, 583],\n",
       " 'AGA': [344, 346, 335, 320, 351, 325, 329, 348, 350],\n",
       " 'AGC': [334, 360, 338, 326, 368, 349, 358, 342, 358],\n",
       " 'AGG': [278, 283, 286, 280, 265, 258, 280, 259, 269],\n",
       " 'AGT': [483, 468, 499, 449, 462, 440, 478, 458, 443],\n",
       " 'ATA': [565, 584, 567, 606, 558, 565, 570, 585, 566],\n",
       " 'ATC': [484, 456, 467, 455, 464, 476, 473, 456, 468],\n",
       " 'ATG': [425, 425, 439, 449, 441, 452, 441, 437, 445],\n",
       " 'ATT': [606, 571, 597, 597, 614, 586, 598, 604, 641],\n",
       " 'CAA': [580, 556, 582, 588, 568, 528, 586, 570, 544],\n",
       " 'CAC': [349, 412, 343, 367, 352, 363, 376, 356, 348],\n",
       " 'CAG': [439, 418, 444, 441, 437, 439, 425, 424, 448],\n",
       " 'CAT': [415, 429, 399, 434, 390, 414, 439, 416, 401],\n",
       " 'CCA': [478, 456, 453, 459, 462, 449, 428, 453, 468],\n",
       " 'CCC': [323, 329, 317, 337, 328, 318, 346, 325, 329],\n",
       " 'CCG': [326, 345, 332, 337, 336, 336, 338, 332, 331],\n",
       " 'CCT': [345, 381, 372, 372, 367, 360, 368, 375, 358],\n",
       " 'CGA': [250, 257, 263, 239, 274, 252, 248, 260, 263],\n",
       " 'CGC': [225, 228, 222, 228, 224, 210, 222, 238, 237],\n",
       " 'CGG': [230, 214, 211, 242, 234, 225, 227, 223, 241],\n",
       " 'CGT': [263, 284, 268, 270, 283, 292, 284, 290, 316],\n",
       " 'CTA': [370, 356, 404, 357, 365, 367, 364, 369, 356],\n",
       " 'CTC': [319, 297, 311, 318, 310, 319, 289, 313, 320],\n",
       " 'CTG': [410, 393, 405, 379, 382, 379, 422, 387, 396],\n",
       " 'CTT': [388, 424, 409, 397, 399, 381, 400, 381, 381],\n",
       " 'GAA': [811, 774, 792, 802, 810, 816, 798, 801, 801],\n",
       " 'GAC': [537, 561, 531, 518, 550, 542, 510, 543, 538],\n",
       " 'GAG': [751, 760, 755, 762, 761, 768, 746, 759, 763],\n",
       " 'GAT': [571, 549, 557, 561, 595, 605, 581, 576, 575],\n",
       " 'GCA': [416, 424, 426, 457, 420, 405, 444, 432, 424],\n",
       " 'GCC': [297, 306, 296, 302, 302, 299, 292, 278, 308],\n",
       " 'GCG': [286, 283, 296, 292, 274, 309, 280, 295, 284],\n",
       " 'GCT': [371, 391, 384, 382, 373, 408, 382, 382, 389],\n",
       " 'GGA': [362, 340, 377, 344, 374, 361, 343, 361, 366],\n",
       " 'GGC': [347, 340, 345, 344, 347, 354, 344, 353, 344],\n",
       " 'GGG': [322, 316, 344, 309, 315, 322, 324, 302, 309],\n",
       " 'GGT': [365, 374, 378, 362, 378, 371, 370, 365, 349],\n",
       " 'GTA': [591, 595, 590, 583, 595, 581, 559, 578, 601],\n",
       " 'GTC': [468, 479, 451, 484, 480, 460, 486, 469, 460],\n",
       " 'GTG': [506, 547, 534, 545, 508, 504, 533, 547, 525],\n",
       " 'GTT': [598, 586, 588, 594, 590, 575, 597, 611, 607],\n",
       " 'TAA': [0, 0, 0, 0, 0, 0, 0, 0, 0],\n",
       " 'TAC': [472, 451, 484, 504, 493, 519, 471, 498, 463],\n",
       " 'TAG': [0, 0, 0, 0, 0, 0, 0, 0, 0],\n",
       " 'TAT': [521, 532, 489, 516, 501, 503, 523, 507, 487],\n",
       " 'TCA': [450, 490, 423, 421, 437, 459, 450, 438, 486],\n",
       " 'TCC': [293, 310, 297, 296, 308, 302, 294, 296, 313],\n",
       " 'TCG': [270, 283, 281, 274, 280, 248, 280, 275, 251],\n",
       " 'TCT': [409, 405, 409, 349, 393, 401, 398, 393, 410],\n",
       " 'TGA': [1, 1, 1, 1, 1, 1, 1, 1, 1],\n",
       " 'TGC': [296, 304, 324, 331, 312, 324, 324, 334, 319],\n",
       " 'TGG': [425, 421, 429, 403, 427, 428, 423, 425, 431],\n",
       " 'TGT': [431, 435, 409, 446, 435, 486, 445, 426, 451],\n",
       " 'TTA': [459, 480, 459, 460, 453, 454, 459, 497, 426],\n",
       " 'TTC': [392, 376, 369, 400, 384, 401, 397, 395, 372],\n",
       " 'TTG': [466, 406, 448, 439, 442, 448, 423, 437, 415],\n",
       " 'TTT': [527, 510, 503, 531, 511, 507, 543, 516, 517]}"
      ]
     },
     "execution_count": 123,
     "metadata": {},
     "output_type": "execute_result"
    }
   ],
   "source": [
    "codon_countf_dict"
   ]
  },
  {
   "cell_type": "code",
   "execution_count": 130,
   "metadata": {},
   "outputs": [
    {
     "data": {
      "text/plain": [
       "27119.0"
      ]
     },
     "execution_count": 130,
     "metadata": {},
     "output_type": "execute_result"
    }
   ],
   "source": [
    "len(DNAI)/3"
   ]
  },
  {
   "cell_type": "code",
   "execution_count": 134,
   "metadata": {},
   "outputs": [
    {
     "data": {
      "text/plain": [
       "27119"
      ]
     },
     "execution_count": 134,
     "metadata": {},
     "output_type": "execute_result"
    }
   ],
   "source": [
    "sum(codon_counti_dict.values())"
   ]
  },
  {
   "cell_type": "code",
   "execution_count": 171,
   "metadata": {},
   "outputs": [],
   "source": [
    "change_mean = []\n",
    "change_se = []\n",
    "codons = []\n",
    "codon_usage = []\n",
    "for key,value in codon_countf_dict.items(): \n",
    "    counti = codon_counti_dict[key]\n",
    "    change_list = []\n",
    "    for count in value: \n",
    "        if counti != 0:\n",
    "            change = (count - counti)/counti\n",
    "            change_list.append(change)\n",
    "        if counti == 0: \n",
    "            change = (count - counti)\n",
    "            change_list.append(change)\n",
    "    \n",
    "    codons.append(key)\n",
    "    change_mean.append(round(np.mean(change_list),2))\n",
    "    change_se.append(round(np.std(change_list)/np.sqrt(nTrial),2))\n",
    "    codon_usage.append(codon_usage_dict[key])"
   ]
  },
  {
   "cell_type": "code",
   "execution_count": 172,
   "metadata": {},
   "outputs": [
    {
     "name": "stdout",
     "output_type": "stream",
     "text": [
      "['TAC', 'CGT', 'GCT', 'AGA', 'GAT', 'GCC', 'CAA', 'TGT', 'CAC', 'GAG', 'ACG', 'ACC', 'CCT', 'GCG', 'TGA', 'GTG', 'GGC', 'TAA', 'AAG', 'TTG']\n",
      "[0.14000000000000001, 0.26000000000000001, -0.089999999999999997, 0.48999999999999999, -0.22, -0.27000000000000002, 0.42999999999999999, 1.4199999999999999, 0.81000000000000005, -0.35999999999999999, -0.16, -0.17000000000000001, -0.14999999999999999, -0.27000000000000002, 0.0, -0.11, -0.23000000000000001, 0.0, -0.27000000000000002, 0.66000000000000003]\n",
      "[0.02, 0.02, 0.01, 0.02, 0.01, 0.01, 0.02, 0.040000000000000001, 0.029999999999999999, 0.0, 0.01, 0.01, 0.01, 0.01, 0.0, 0.01, 0.0, 0.0, 0.0, 0.02]\n",
      "[1.0, 0.38, 0.64, 1.0, 0.86, 1.0, 0.36, 0.84, 1.0, 1.0, 0.32, 1.0, 0.87, 0.27, 1.0, 1.0, 1.0, 0.53, 1.0, 0.32]\n"
     ]
    }
   ],
   "source": [
    "print(codons[0:20])\n",
    "print(change_mean[0:20])\n",
    "print(change_se[0:20])\n",
    "print(codon_usage[0:20])"
   ]
  },
  {
   "cell_type": "code",
   "execution_count": 144,
   "metadata": {},
   "outputs": [
    {
     "name": "stdout",
     "output_type": "stream",
     "text": [
      "['TAC', 'CGT', 'GCT', 'AGA', 'GAT', 'GCC', 'CAA', 'TGT', 'CAC', 'GAG', 'ACG', 'ACC', 'CCT', 'GCG', 'TGA', 'GTG', 'GGC', 'TAA', 'AAG', 'TTG']\n",
      "[60.890000000000001, 58.329999999999998, -37.329999999999998, 110.67, -164.56, -109.22, 170.88999999999999, 258.44, 162.88999999999999, -421.67000000000002, -82.0, -85.219999999999999, -63.560000000000002, -105.22, 0.0, -63.329999999999998, -104.56, 0.0, -296.0, 173.0]\n",
      "[6.7999999999999998, 4.9900000000000002, 3.4199999999999999, 3.6699999999999999, 5.6100000000000003, 2.8100000000000001, 6.46, 6.6500000000000004, 6.6500000000000004, 2.1000000000000001, 3.2999999999999998, 3.6400000000000001, 3.3700000000000001, 3.2799999999999998, 0.0, 5.5999999999999996, 1.4199999999999999, 0.0, 3.79, 5.8200000000000003]\n",
      "[1.0, 0.38, 0.64, 1.0, 0.86, 1.0, 0.36, 0.84, 1.0, 1.0, 0.32, 1.0, 0.87, 0.27, 1.0, 1.0, 1.0, 0.53, 1.0, 0.32]\n"
     ]
    }
   ],
   "source": [
    "print(codons[0:20])\n",
    "print(change_mean[0:20])\n",
    "print(change_se[0:20])\n",
    "print(codon_usage[0:20])"
   ]
  },
  {
   "cell_type": "code",
   "execution_count": 142,
   "metadata": {},
   "outputs": [],
   "source": [
    "codon_usage_dict = {'AAA': 0.77, 'AAC': 1.0, 'AAG': 1.0, 'AAT': 0.89, 'ACA': 0.81, 'ACC': 1.0, 'ACG': 0.32, 'ACT': 0.7, 'AGA': 1.0, 'AGC': 1.0, 'AGG': 1.0,\n",
    " 'AGT': 0.62, 'ATA': 0.36, 'ATC': 1.0, 'ATG': 1.0, 'ATT': 0.77, 'CAA': 0.36, 'CAC': 1.0, 'CAG': 1.0, 'CAT': 0.72, 'CCA': 0.83, 'CCC': 1.0, 'CCG': 0.36, 'CCT': 0.87,\n",
    " 'CGA': 0.51, 'CGC': 0.88, 'CGG': 0.97, 'CGT': 0.38, 'CTA': 0.18, 'CTC': 0.49, 'CTG': 1.0, 'CTT': 0.33, 'GAA': 0.73, 'GAC': 1.0, 'GAG': 1.0, 'GAT': 0.86, 'GCA': 0.56,\n",
    " 'GCC': 1.0, 'GCG': 0.27, 'GCT': 0.64, 'GGA': 0.73, 'GGC': 1.0, 'GGG': 0.75, 'GGT': 0.47, 'GTA': 0.25, 'GTC': 0.51, 'GTG': 1.0, 'GTT': 0.39, 'TAA': 0.53, 'TAC': 1.0,\n",
    " 'TAG': 0.43, 'TAT': 0.8, 'TCA': 0.63, 'TCC': 0.9, 'TCG': 0.23, 'TCT': 0.77, 'TGA': 1.0, 'TGC': 1.0, 'TGG': 1.0, 'TGT': 0.84, 'TTA': 0.19, 'TTC': 1.0, 'TTG': 0.32, 'TTT': 0.84} \n",
    "# copied form rob notebook "
   ]
  },
  {
   "cell_type": "code",
   "execution_count": 158,
   "metadata": {},
   "outputs": [
    {
     "data": {
      "text/plain": [
       "4"
      ]
     },
     "execution_count": 158,
     "metadata": {},
     "output_type": "execute_result"
    }
   ],
   "source": [
    "2+2"
   ]
  },
  {
   "cell_type": "code",
   "execution_count": 166,
   "metadata": {},
   "outputs": [],
   "source": [
    "plt.style.use(\"classic\")\n",
    "plt.style.use(\"seaborn-white\")"
   ]
  },
  {
   "cell_type": "code",
   "execution_count": 156,
   "metadata": {},
   "outputs": [
    {
     "data": {
      "text/plain": [
       "['seaborn-ticks',\n",
       " 'bmh',\n",
       " 'seaborn-colorblind',\n",
       " 'seaborn-dark-palette',\n",
       " 'seaborn-paper',\n",
       " 'seaborn-muted',\n",
       " 'seaborn-notebook',\n",
       " 'dark_background',\n",
       " 'fivethirtyeight',\n",
       " 'seaborn-bright',\n",
       " 'seaborn-poster',\n",
       " 'seaborn-darkgrid',\n",
       " 'classic',\n",
       " 'seaborn-deep',\n",
       " 'grayscale',\n",
       " 'seaborn-talk',\n",
       " 'ggplot',\n",
       " 'seaborn-pastel',\n",
       " 'seaborn-white',\n",
       " 'seaborn-whitegrid',\n",
       " 'seaborn-dark']"
      ]
     },
     "execution_count": 156,
     "metadata": {},
     "output_type": "execute_result"
    }
   ],
   "source": [
    "plt.style.available"
   ]
  },
  {
   "cell_type": "code",
   "execution_count": 178,
   "metadata": {},
   "outputs": [
    {
     "data": {
      "image/png": "[encoded data removed]",
      "text/plain": [
       "<matplotlib.figure.Figure at 0x7f2abfbea400>"
      ]
     },
     "metadata": {},
     "output_type": "display_data"
    }
   ],
   "source": [
    "plt.scatter(codon_usage, change_mean)\n",
    "plt.axhline(y = 0, linewidth = 0.25, color = \"k\")\n",
    "plt.errorbar(codon_usage, change_mean, yerr = np.array(change_se), ecolor = \"grey\", ls = \"None\")\n",
    "plt.title(\"Codon usage vs chnage \\n randomized sysnonymous codons in 80kbp cds\")\n",
    "plt.ylabel(\"Codon chnage\")\n",
    "plt.xlabel(\"Codon usage\")\n",
    "plt.savefig(\"Plots/Codon-Usage_2020_08_14_proportional_change.png\")"
   ]
  },
  {
   "cell_type": "code",
   "execution_count": 179,
   "metadata": {},
   "outputs": [],
   "source": [
    "def adj_mut_calc(dna): \n",
    "    \"\"\"\n",
    "    string --> float \n",
    "    takes a TRIPLET\n",
    "    calulates the mutability for ALL POSSIBLE triplets (equal weights) adjacent \n",
    "    \"\"\"\n",
    "    muts_leftadj = []\n",
    "    muts_rightadj = []\n",
    "    #piece for triplet -1 relative index \n",
    "    piece_leftadj = dna[0:2]\n",
    "    for base in [\"A\", \"T\", \"G\", \"C\"]: \n",
    "        triplet_leftadj = base+piece_leftadj\n",
    "        if triplet_leftadj in model: \n",
    "            muts_leftadj.append(model[triplet_leftadj][0])\n",
    "        else: \n",
    "            muts_leftadj.append(model[reverse_complement(triplet_leftadj)][0])\n",
    "#     #for triplets -2 relative index         \n",
    "#     piece_leftadj =  dna[0:1]\n",
    "#     for base1 in [\"A\", \"T\", \"G\", \"C\"]: \n",
    "#         for base2 in [\"A\", \"T\", \"G\", \"C\"]: \n",
    "#             triplet_leftadj = base1+base2+piece_leftadj\n",
    "#             if triplet_leftadj in model: \n",
    "#                 muts_leftadj.append(model[triplet_leftadj][0])\n",
    "#             else: \n",
    "#                 muts_leftadj.append(model[reverse_complement(triplet_leftadj)][0])\n",
    "#     #for triplets +1 reltive index \n",
    "    piece_rightadj = dna[1:3]\n",
    "    for base in [\"A\", \"T\", \"G\", \"C\"]: \n",
    "        triplet_rightadj = piece_rightadj+base \n",
    "        if triplet_rightadj in model: \n",
    "            muts_rightadj.append(model[triplet_rightadj][0])\n",
    "        else: \n",
    "            muts_rightadj.append(model[reverse_complement(triplet_rightadj)][0])\n",
    "#     #for triplets +2 relative index         \n",
    "#     piece_rightadj =  dna[2:3]\n",
    "#     for base1 in [\"A\", \"T\", \"G\", \"C\"]: \n",
    "#         for base2 in [\"A\", \"T\", \"G\", \"C\"]: \n",
    "#             triplet_rightadj =piece_rightadj+base1+base2\n",
    "#             if triplet_rightadj in model: \n",
    "#                 muts_rightadj.append(model[triplet_rightadj][0])\n",
    "#             else: \n",
    "#                 muts_rightadj.append(model[reverse_complement(triplet_rightadj)][0])\n",
    "\n",
    "    return (np.mean(muts_leftadj+muts_rightadj))\n"
   ]
  },
  {
   "cell_type": "code",
   "execution_count": 186,
   "metadata": {},
   "outputs": [],
   "source": [
    "codon_adjMut = []\n",
    "for codon in codons: \n",
    "    codon_adjMut.append(adj_mut_calc(codon))\n",
    "    "
   ]
  },
  {
   "cell_type": "code",
   "execution_count": 184,
   "metadata": {},
   "outputs": [],
   "source": [
    "codons_turnFromTripletMut = []\n",
    "bases = ['T', 'C', 'A', 'G']\n",
    "\n",
    "for triplet in codons: \n",
    "\n",
    "    current_weight_mut =[]\n",
    "\n",
    "    for middle_base in bases: \n",
    "\n",
    "        from_triplet = triplet[0]+middle_base+triplet[2]\n",
    "\n",
    "        if from_triplet != triplet: \n",
    "\n",
    "            current_mut = model[from_triplet][0]\n",
    "            current_prob = model[from_triplet][1][triplet]\n",
    "            \n",
    "            current_weight_mut.append(current_mut*current_prob)\n",
    "            \n",
    "    codons_turnFromTripletMut.append(np.mean(current_weight_mut))"
   ]
  },
  {
   "cell_type": "code",
   "execution_count": 187,
   "metadata": {},
   "outputs": [],
   "source": [
    "codon_mut = []\n",
    "for codon in codons: \n",
    "    codon_mut.append(model[codon][0])"
   ]
  },
  {
   "cell_type": "code",
   "execution_count": null,
   "metadata": {},
   "outputs": [],
   "source": [
    "fig, (ax1,ax2, ax3,ax4) = plt.subplots(1,4,sharey=True, figsize=(23,5))\n",
    "\n",
    "#fig.figsize = [5, 20]\n",
    "\n",
    "ax1.scatter(codon_mut,  change_mean)\n",
    "#ax1.set_title( \"Self mutability on codon chnage\")\n",
    "ax1.set_ylabel(\"Codon change in proportion to initial frequency\")\n",
    "ax1.set_xlabel(\"Self mutability\")\n",
    "ax1.axhline(y = 0, linewidth = 0.25, color = \"k\")\n",
    "ax2.scatter(codon_adjMut,  change_mean)\n",
    "#ax2.set_title( \"Adj mutability on codond chnage \\n (+1/-1 only, left AND right averaged)\")\n",
    "ax2.set_xlabel(\"Adjacent mutability\")\n",
    "ax2.axhline(y = 0, linewidth = 0.25, color = \"k\")\n",
    "ax3.scatter(codons_turnFromTripletMut,  change_mean)\n",
    "#ax3.set_title( \"Weighted mutability of codons \\n that turn into this codon \")\n",
    "ax3.set_xlabel(\"Weighted ancestral mutability\")\n",
    "ax3.axhline(y = 0, linewidth = 0.25, color = \"k\")\n",
    "ax4.scatter(codon_usage,  change_mean)\n",
    "#ax4.set_title(\"codon usage\")\n",
    "ax4.set_xlabel(\"Codon usage\")\n",
    "ax4.axhline(y = 0, linewidth = 0.25, color = \"k\")\n",
    "#a5 = axs[4].scatter(triplet_muts_intron, triplet_chnage_mean_intron)\n",
    "\n",
    "plt.savefig(\"CodonUsage_scatters_summary_2020_08_14.png\")\n"
   ]
  },
  {
   "cell_type": "code",
   "execution_count": 206,
   "metadata": {},
   "outputs": [],
   "source": [
    "import pandas as pd\n",
    "from sklearn import linear_model"
   ]
  },
  {
   "cell_type": "code",
   "execution_count": 252,
   "metadata": {},
   "outputs": [],
   "source": [
    "def normalize_list(list_tmp):\n",
    "    \"\"\"\n",
    "    takes in a numeric list, outputs the normalized list \n",
    "    \"\"\"\n",
    "    normalized_list = []\n",
    "    for element in list_tmp: \n",
    "        normalized_list.append(element/max(list_tmp))\n",
    "        \n",
    "    return(normalized_list)\n",
    "        "
   ]
  },
  {
   "cell_type": "code",
   "execution_count": 254,
   "metadata": {},
   "outputs": [],
   "source": [
    "triplet_muts_intron_norm = normalize_list(codon_mut)\n",
    "regression_adj_mutability_norm = normalize_list(regression_adj_mutability)\n",
    "triplets_turnFromTripletMut_norm = normalize_list(triplets_turnFromTripletMut)\n",
    "triplets_turnIntoTripletMut_norm = normalize_list(triplets_turnIntoTripletMut)"
   ]
  },
  {
   "cell_type": "code",
   "execution_count": 404,
   "metadata": {},
   "outputs": [],
   "source": [
    "regression_multiplearray = []\n",
    "for (a, b, c) in zip(triplet_muts_intron_norm,regression_adj_mutability_norm, triplets_turnFromTripletMut_norm): \n",
    "     regression_multiplearray.append([a,b,c])\n",
    "        \n",
    "regression_multiplearray = np.array(regression_multiplearray)"
   ]
  },
  {
   "cell_type": "code",
   "execution_count": 405,
   "metadata": {},
   "outputs": [
    {
     "name": "stdout",
     "output_type": "stream",
     "text": [
      "0.752182550797\n"
     ]
    }
   ],
   "source": [
    "model_3 = linear_model.LinearRegression().fit(regression_multiplearray, y)\n",
    "r_squared = model_3.score(regression_multiplearray, y)\n",
    "print(r_squared)"
   ]
  },
  {
   "cell_type": "code",
   "execution_count": 258,
   "metadata": {},
   "outputs": [
    {
     "data": {
      "text/plain": [
       "array([ -120.68666493, -1533.08583763,  1014.94270026,  -879.50335465])"
      ]
     },
     "execution_count": 258,
     "metadata": {},
     "output_type": "execute_result"
    }
   ],
   "source": [
    "model_3.coef_"
   ]
  },
  {
   "cell_type": "code",
   "execution_count": null,
   "metadata": {},
   "outputs": [],
   "source": []
  },
  {
   "cell_type": "code",
   "execution_count": null,
   "metadata": {},
   "outputs": [],
   "source": []
  },
  {
   "cell_type": "code",
   "execution_count": null,
   "metadata": {},
   "outputs": [],
   "source": []
  },
  {
   "cell_type": "code",
   "execution_count": null,
   "metadata": {},
   "outputs": [],
   "source": []
  },
  {
   "cell_type": "code",
   "execution_count": null,
   "metadata": {},
   "outputs": [],
   "source": []
  },
  {
   "cell_type": "code",
   "execution_count": null,
   "metadata": {},
   "outputs": [],
   "source": []
  },
  {
   "cell_type": "code",
   "execution_count": null,
   "metadata": {},
   "outputs": [],
   "source": []
  },
  {
   "cell_type": "code",
   "execution_count": null,
   "metadata": {},
   "outputs": [],
   "source": []
  },
  {
   "cell_type": "code",
   "execution_count": null,
   "metadata": {},
   "outputs": [],
   "source": []
  }
 ],
 "metadata": {
  "kernelspec": {
   "display_name": "Python 3",
   "language": "python",
   "name": "python3"
  },
  "language_info": {
   "codemirror_mode": {
    "name": "ipython",
    "version": 3
   },
   "file_extension": ".py",
   "mimetype": "text/x-python",
   "name": "python",
   "nbconvert_exporter": "python",
   "pygments_lexer": "ipython3",
   "version": "3.5.1"
  }
 },
 "nbformat": 4,
 "nbformat_minor": 2
}
