{
 "cells": [
  {
   "cell_type": "markdown",
   "id": "fea8f637-7d5d-48d7-b0ba-002eaf5062c3",
   "metadata": {},
   "source": [
    "# **non overlapping simulations**"
   ]
  },
  {
   "cell_type": "code",
   "execution_count": 2,
   "id": "ce2a9499-0f87-49f2-b200-2be0c0a86c4c",
   "metadata": {},
   "outputs": [],
   "source": [
    "#bash statemnt format \n",
    "# Description_of_sim,  Number_gens, where to i=find initial dna,   where to find initial dnamap \n",
    "\n",
    "# IMPORT STATEMENTS~~~~~~~~~~~~~~~~~~~~~~~~~~~~~~~~~~~~~~~~~~~~~~~~~~~~~~~~~~~~~~~~~~~~~~~~~~~~~~~~~~~~~~~~~~~~~~~~~~~~~~~~~~~~~~~~~~~~~~~~~~~~~~~~~~~~~~~~~~~~~~~~~~~~~~~~~~~~~~~~~~~~~~~~\n",
    "\n",
    "import random\n",
    "from random import randint\n",
    "from typing import List, Dict\n",
    "from numpy.random import choice\n",
    "import numpy as np\n",
    "import matplotlib.pyplot as plt\n",
    "import pandas as pd\n",
    "import numpy\n",
    "from tqdm import tqdm\n",
    "import copy \n",
    "import json"
   ]
  },
  {
   "cell_type": "code",
   "execution_count": 3,
   "id": "c3e32cf2-4902-4ab9-82bc-891f47fe4446",
   "metadata": {},
   "outputs": [],
   "source": [
    "\n",
    "#MAKING STATIC OBJECTS ~~~~~~~~~~~~~~~~~~~~~~~~~~~~~~~~~~~~~~~~~~~~~~~~~~~~~~~~~~~~~~~~~~~~~~~~~~~~~~~~~~~~~~~~~~~~~~~~~~~~~~~~~~~~~~~~~~~~~~~~~~~~~~~~~~~~~~~~~~~~~~~~~~~~~~~~~~~~~~~~~~~~~~\n",
    "#mutability model \n",
    "model = json.load(open(\"../Human_mutability_model/Model_2020_12_02_genomeWide.txt\"))"
   ]
  },
  {
   "cell_type": "code",
   "execution_count": 4,
   "id": "ff1f0ebf-1c42-4f1c-a6c7-3e2cbf7e1f24",
   "metadata": {},
   "outputs": [],
   "source": [
    "#FUNCTIONS ~~~~~~~~~~~~~~~~~~~~~~~~~~~~~~~~~~~~~~~~~~~~~~~~~~~~~~~~~~~~~~~~~~~~~~~~~~~~~~~~~~~~~~~~~~~~~~~~~~~~~~~~~~~~~~~~~~~~~~~~~~~~~~~~~~~~~~~~~~~~~~~~~~~~~~~~~~~~~~~~~~~~~~~~~~~~~~~~~~\n",
    "\n",
    "def base_to_mutate(DNA, current_weights): \n",
    "    \"\"\"\n",
    "    (DNA: str, weights: Dict) -> int\n",
    "    \n",
    "    Will return the index of a random choice of a base that will be mutated based on probabilities given by the\n",
    "    weights dictionary (i.e. the model)\n",
    "    ex. \"ATCGTA\" --> index 3 (\"G\") will mutate\n",
    "    \"\"\"\n",
    "    #DNA STR --> WEIGHTS LIST INDEXING DOUBLE CHECK \n",
    "    indices = []\n",
    "    indices = list(range(len(DNA)))                        \n",
    "    assert (len(indices)) == (len(current_weights)) \n",
    "\n",
    "    # NORMALIZE THE POPULATION OF WEIGHTS    \n",
    "    total_freq = sum(current_weights) \n",
    "    normalized_weights = copy.copy(current_weights)\n",
    "    for index, value in enumerate(current_weights):\n",
    "        normalized_weights[index] = value/total_freq \n",
    "\n",
    "    # DRAW THE INDEX OF THE BASE THAT WILL BE MUTATED\n",
    "    base_index = choice(indices, p=normalized_weights)  \n",
    "    \n",
    "    # RETURN THE INDEX\n",
    "    return base_index\n",
    "\n",
    "def triplet_to_turn_into(i, model, DNA):\n",
    "    \"\"\"\n",
    "    (i: int, weights: Dict, DNA: str) -> str (the base A/T/C/G)\n",
    "    \"\"\"\n",
    "    # GRAB THE TRIPLET AND COMPLEMENT IT IF NEED BE.\n",
    "    triplet = DNA[i] \n",
    "            \n",
    "    # GENERATE A LIST OF THE TRIPLETS AND WEIGHTS OF THE THREE TRIPLETS THE CHOSEN TRIPLET CAN TURN INTO \n",
    "    triplets = list(key for key in model[triplet][1].keys())# ex. \"ATC\" --> [\"AAC\", \"AGC\", \"ACC\"] (triplets)\n",
    "    current_weights_to_turn_into = list(value for value in model[triplet][1].values()) # ex. \"ATCGTA\" --> [0.3, 0.5, 0.1, 0.1] (weights of triplet base changes) (these are already normalized!)\n",
    "    \n",
    "    # MAKE AND RETURN THE CHOICE OF BASE TO TURN INTO.\n",
    "    return choice(triplets, p = current_weights_to_turn_into) # <-- the [1] will select the central base (middle N base out of strign 3)\n",
    "\n",
    "def mutate_chromosome(DNA, ab_index, mtrip):\n",
    "    \"\"\"\n",
    "    (DNA:list, ab_index:number, site chosen, mb:str) -> list (mutated DNA)\n",
    "    Will return a new DNA list mutated to a new base as given by the previous functions.\n",
    "    \"\"\"\n",
    "    mutated_DNA = copy.copy(DNA)\n",
    "    mutated_DNA[ab_index] = mtrip\n",
    "    \n",
    "    return mutated_DNA\n",
    "\n",
    "def current_frequencies(DNA, model, index, current_weights,mtrip): #and by weights, she means the \"model\" dictionary \n",
    "    \"\"\"\n",
    "    (DNA: str, weights list, index = chosen site) -> updated weights List \n",
    "    only chnages the 3 bases around the index chosen \n",
    "    \"\"\"    \n",
    "    #GET THE WEIGHTS FOR EACH TRIPLET AND UPDATE WEIGHTS (LIST) OBJECT \n",
    "    new_weights = copy.copy(current_weights)\n",
    "    new_weights[index]= model[mtrip][0]\n",
    "    return new_weights\n",
    "\n"
   ]
  },
  {
   "cell_type": "code",
   "execution_count": 12,
   "id": "7d154e57-e7c8-48fa-93a1-4c63e2fbed00",
   "metadata": {
    "tags": []
   },
   "outputs": [
    {
     "name": "stderr",
     "output_type": "stream",
     "text": [
      "100%|███████████████████████████████████████████████████████████████████████████████████████████████████████████████| 10/10 [00:16<00:00,  1.66s/it]\n"
     ]
    }
   ],
   "source": [
    "ntrial = 10 \n",
    "ntrips = int(1000) \n",
    "prop_to_print = [0,0.5,1,1.5,2]   #outputing a file at different mutation coverages to compare \n",
    "gens_to_print = [int(i*ntrips) for i in prop_to_print]\n",
    "gens_to_print[-1] = gens_to_print[-1]-1 #the number of genns last to ngen -1, so need to sub one here to make sure it prints at the end \n",
    "\n",
    "for k in tqdm(range(1,ntrial+1)): \n",
    "    \n",
    "    #set up for simulation \n",
    "    DNA = list(choice(list(model.keys()),size =ntrips))\n",
    "    weights = []\n",
    "    for trip in DNA: \n",
    "        weights.append(model[trip][0])\n",
    "    for j,triplet in enumerate(DNA):                                   #makign sure i got the weights right \n",
    "            if model[triplet][0] != weights[j]: \n",
    "                print(\"fuck\")\n",
    "\n",
    "    # running the simulation \n",
    "    for i in range(len(DNA)*2):\n",
    "        ab_index = base_to_mutate(DNA,weights)                          # picking the triple to mutate \n",
    "#         mtrip = triplet_to_turn_into(ab_index, model, DNA)              #selecting triplet to turn into \n",
    "        mtrip = choice(list(model.keys()))                              #random into triplet \n",
    "        for j,triplet in enumerate(DNA):                                #double check the weights match \n",
    "            if model[triplet][0] != weights[j]: \n",
    "                print(\"ab_index, mtrip functions.\",triplet, j, weights[j])\n",
    "        DNA = mutate_chromosome(DNA, ab_index,mtrip)                    #mutate dna \n",
    "        weights[ab_index]= model[mtrip][0]                              #updatign weights\n",
    "        for j,triplet in enumerate(DNA):                                #double check the weights match \n",
    "            if model[triplet][0] != weights[j]: \n",
    "                print(\"MC & UW\",j,triplet,\"weights\", weights[j],\"model val\",model[triplet][0]) \n",
    "    \n",
    "        if i in gens_to_print: \n",
    "            with open(\"data/nonOverlap_randInto/nonOverlap_randInto_trial{k}_DNAfinal_{n}trips_gen{i}.txt\".format(k=k,n=ntrips,i=i), \"w\") as outfile:  #write conditionsa to file \n",
    "                    json.dump(DNA, outfile)"
   ]
  },
  {
   "cell_type": "code",
   "execution_count": 11,
   "id": "ba4eb89d-76e1-4fab-94ad-aacc9ae680a7",
   "metadata": {},
   "outputs": [
    {
     "data": {
      "text/plain": [
       "'TAA'"
      ]
     },
     "execution_count": 11,
     "metadata": {},
     "output_type": "execute_result"
    }
   ],
   "source": [
    "choice(list(model.keys()))"
   ]
  },
  {
   "cell_type": "markdown",
   "id": "54797808-6abc-4de7-ac4e-b4813c1d347e",
   "metadata": {},
   "source": [
    "# **preping the non overlapping results for plotting**"
   ]
  },
  {
   "cell_type": "code",
   "execution_count": 21,
   "id": "8cff1ab6-5b08-42d4-8113-993011d3cee2",
   "metadata": {},
   "outputs": [],
   "source": [
    "trips_32 = []\n",
    "for base1 in [\"A\",\"T\",\"C\",\"G\"]: \n",
    "    for base2 in [\"C\",\"T\"]: \n",
    "        for base3 in  [\"A\",\"T\",\"C\",\"G\"]: \n",
    "            trips_32.append(base1+base2+base3)"
   ]
  },
  {
   "cell_type": "code",
   "execution_count": 22,
   "id": "c967f7cc-bb3f-43ad-8403-04da46cbe047",
   "metadata": {},
   "outputs": [],
   "source": [
    "def revComp(triplet): \n",
    "    conversion_dict = {\"A\":\"T\",\"T\":\"A\",\"C\":\"G\",\"G\":\"C\"} #dictionary that contaisn the reverse complement of each base \n",
    "    if triplet[1] in [\"A\",\"G\"]: # i personally like to remove A&Gs \n",
    "        rc_triplet = str()      #set up the new triplet ot be created \n",
    "        for base in triplet: \n",
    "            rc_triplet = conversion_dict[base]+rc_triplet #adds the reverse complemented bases to the rc_triplet in reverse order \n",
    "        return rc_triplet\n",
    "    else: \n",
    "        return triplet    #if the middle base is C or T, keep the triplet as is "
   ]
  },
  {
   "cell_type": "code",
   "execution_count": 33,
   "id": "548c1742-d068-4f64-b016-5f4e3a4df964",
   "metadata": {
    "tags": []
   },
   "outputs": [],
   "source": [
    "trip_sum_dict = {\"triplet\":[],\"mut\":[],\"log10mut\":[]}\n",
    "for gen in gens_to_print: \n",
    "    trip_sum_dict[\"avCounts_gen{g}\".format(g=int(gen))] = []\n",
    "    trip_sum_dict[\"stderrCounts_gen{g}\".format(g=int(gen))]=[]\n",
    "\n",
    "for triplet in trips_32: \n",
    "    if triplet[1] in [\"C\",\"T\"]:\n",
    "        trip_sum_dict[\"triplet\"].append(triplet)\n",
    "        trip_sum_dict[\"mut\"].append(model[triplet][0])\n",
    "        trip_sum_dict[\"log10mut\"].append(np.log10(model[triplet][0]))\n",
    "        for gen in gens_to_print: \n",
    "            triplet_list = []\n",
    "            for k in range(2,ntrial+1): \n",
    "        #         dna_init = json.load(open(\"data/nonOverlap_trial{k}_DNA_333trips_gen0.txt\"))\n",
    "                filename = \"data/nonOverlap_randInto/nonOverlap_randInto_trial{k}_DNAfinal_{n}trips_gen{i}.txt\".format(k=k,n=ntrips,i=int(gen))\n",
    "                dna_final= json.load(open(filename))\n",
    "                triplet_list.append(dna_final.count(triplet))\n",
    "                triplet_list.append(dna_final.count(revComp(triplet)))\n",
    "            trip_sum_dict[\"avCounts_gen{g}\".format(g=gen)].append(np.mean(triplet_list))\n",
    "            trip_sum_dict[\"stderrCounts_gen{g}\".format(g=gen)].append(np.std(triplet_list)/np.sqrt(ntrial))\n"
   ]
  },
  {
   "cell_type": "code",
   "execution_count": 34,
   "id": "1bdff8ea-b8fa-4c99-8c11-5da537382119",
   "metadata": {},
   "outputs": [],
   "source": [
    "trip_sum_df = pd.DataFrame.from_dict(trip_sum_dict)"
   ]
  },
  {
   "cell_type": "code",
   "execution_count": 35,
   "id": "01fbb17a-9716-4bf7-bc64-05d58f8edf91",
   "metadata": {},
   "outputs": [],
   "source": [
    "trip_sum_df.to_csv(\"data/nonOverlap_randInto/nonoverlapData_randInto_2021_12_11.csv\")"
   ]
  },
  {
   "cell_type": "code",
   "execution_count": 1,
   "id": "4bfcf8e0-eade-4307-96ee-cba5db2d82bd",
   "metadata": {},
   "outputs": [
    {
     "name": "stdout",
     "output_type": "stream",
     "text": [
      "/research/projects/hsapiens/mutation_equilibrium/nonoverlapSimulation\n"
     ]
    }
   ],
   "source": [
    "!pwd"
   ]
  }
 ],
 "metadata": {
  "kernelspec": {
   "display_name": "Python [conda env:.conda-mutability] *",
   "language": "python",
   "name": "conda-env-.conda-mutability-py"
  },
  "language_info": {
   "codemirror_mode": {
    "name": "ipython",
    "version": 3
   },
   "file_extension": ".py",
   "mimetype": "text/x-python",
   "name": "python",
   "nbconvert_exporter": "python",
   "pygments_lexer": "ipython3",
   "version": "3.9.6"
  }
 },
 "nbformat": 4,
 "nbformat_minor": 5
}
