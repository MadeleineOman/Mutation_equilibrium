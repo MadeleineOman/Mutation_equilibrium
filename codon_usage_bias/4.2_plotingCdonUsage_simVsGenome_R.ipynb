{
 "cells": [
  {
   "cell_type": "markdown",
   "id": "8c21fc88-073e-485e-899b-4ace361e41e3",
   "metadata": {},
   "source": [
    "# **plottting the codon usage found in the genome vs arrived to in the simulation**"
   ]
  },
  {
   "cell_type": "code",
   "execution_count": 1,
   "id": "cb54cc5a-d233-45ae-8614-90a7f479dede",
   "metadata": {
    "collapsed": true,
    "jupyter": {
     "outputs_hidden": true
    },
    "tags": []
   },
   "outputs": [
    {
     "name": "stderr",
     "output_type": "stream",
     "text": [
      "Warning message:\n",
      "“package ‘dplyr’ was built under R version 3.6.3”\n",
      "Attaching package: ‘dplyr’\n",
      "\n",
      "The following objects are masked from ‘package:stats’:\n",
      "\n",
      "    filter, lag\n",
      "\n",
      "The following objects are masked from ‘package:base’:\n",
      "\n",
      "    intersect, setdiff, setequal, union\n",
      "\n",
      "Registered S3 methods overwritten by 'ggplot2':\n",
      "  method         from \n",
      "  [.quosures     rlang\n",
      "  c.quosures     rlang\n",
      "  print.quosures rlang\n"
     ]
    }
   ],
   "source": [
    "library(dplyr)\n",
    "library(ggplot2)"
   ]
  },
  {
   "cell_type": "code",
   "execution_count": 2,
   "id": "c4f3330a-6093-482f-b957-7d4e4c122b1e",
   "metadata": {},
   "outputs": [],
   "source": [
    "genome_codonUsage <- read.csv(\"generating_codon_usage_bias_data/codon_usage_df_2022_01_02.csv\",stringsAsFactors=FALSE)"
   ]
  },
  {
   "cell_type": "code",
   "execution_count": 3,
   "id": "ef0b303e-786e-4ca6-80d4-535d115f7564",
   "metadata": {},
   "outputs": [],
   "source": [
    "colnames(genome_codonUsage)[1] <- \"codon\""
   ]
  },
  {
   "cell_type": "code",
   "execution_count": 4,
   "id": "5055d853-02f8-435b-95bb-3ea22b13d431",
   "metadata": {},
   "outputs": [
    {
     "data": {
      "text/html": [
       "<table>\n",
       "<thead><tr><th scope=col>codon</th><th scope=col>AA</th><th scope=col>codon_usage</th></tr></thead>\n",
       "<tbody>\n",
       "\t<tr><td>TGT </td><td>CYS </td><td>0.84</td></tr>\n",
       "\t<tr><td>TGC </td><td>CYS </td><td>1.00</td></tr>\n",
       "\t<tr><td>GAT </td><td>ASP </td><td>0.86</td></tr>\n",
       "\t<tr><td>GAC </td><td>ASP </td><td>1.00</td></tr>\n",
       "\t<tr><td>TCT </td><td>SER </td><td>0.77</td></tr>\n",
       "\t<tr><td>TCG </td><td>SER </td><td>0.23</td></tr>\n",
       "</tbody>\n",
       "</table>\n"
      ],
      "text/latex": [
       "\\begin{tabular}{r|lll}\n",
       " codon & AA & codon\\_usage\\\\\n",
       "\\hline\n",
       "\t TGT  & CYS  & 0.84\\\\\n",
       "\t TGC  & CYS  & 1.00\\\\\n",
       "\t GAT  & ASP  & 0.86\\\\\n",
       "\t GAC  & ASP  & 1.00\\\\\n",
       "\t TCT  & SER  & 0.77\\\\\n",
       "\t TCG  & SER  & 0.23\\\\\n",
       "\\end{tabular}\n"
      ],
      "text/markdown": [
       "\n",
       "| codon | AA | codon_usage |\n",
       "|---|---|---|\n",
       "| TGT  | CYS  | 0.84 |\n",
       "| TGC  | CYS  | 1.00 |\n",
       "| GAT  | ASP  | 0.86 |\n",
       "| GAC  | ASP  | 1.00 |\n",
       "| TCT  | SER  | 0.77 |\n",
       "| TCG  | SER  | 0.23 |\n",
       "\n"
      ],
      "text/plain": [
       "  codon AA  codon_usage\n",
       "1 TGT   CYS 0.84       \n",
       "2 TGC   CYS 1.00       \n",
       "3 GAT   ASP 0.86       \n",
       "4 GAC   ASP 1.00       \n",
       "5 TCT   SER 0.77       \n",
       "6 TCG   SER 0.23       "
      ]
     },
     "metadata": {},
     "output_type": "display_data"
    }
   ],
   "source": [
    "head(genome_codonUsage)"
   ]
  },
  {
   "cell_type": "code",
   "execution_count": 5,
   "id": "d4d3449a-718f-4f9b-999d-611499ab5a7a",
   "metadata": {
    "tags": []
   },
   "outputs": [],
   "source": [
    "sim_codonUsage <- read.csv(\"data/redo_multDif_exons_2021_02_07/2022_01_02_codonUsage_multCds.csv\",stringsAsFactors=FALSE)\n",
    "sim_codonUsage<-t(sim_codonUsage) #invert https://statisticsglobe.com/convert-row-names-into-column-of-data-frame-in-r\n",
    "colnames(sim_codonUsage) <- sim_codonUsage[1,] #seeting col names fpr all the trial cols \n",
    "sim_codonUsage<-as.data.frame(sim_codonUsage)   # converting from atrix 9done by t function) to df \n",
    "\n",
    "sim_codonUsage$codon <- rownames(sim_codonUsage) # setting the colanme for the codon col \n",
    "sim_codonUsage<-sim_codonUsage[2:dim(sim_codonUsage)[1],] #removing first row (has the colnames)"
   ]
  },
  {
   "cell_type": "code",
   "execution_count": 6,
   "id": "83544d72-8751-4ff4-9147-d94d9f0311d8",
   "metadata": {},
   "outputs": [],
   "source": [
    "sim_codonUsage[c(1:10)]<-apply(sim_codonUsage[c(1:10)],MARGIN=2,as.numeric)#geeting out of factors"
   ]
  },
  {
   "cell_type": "code",
   "execution_count": 7,
   "id": "0e2ecf62-345e-403d-bd51-ad0390ed2a38",
   "metadata": {},
   "outputs": [],
   "source": [
    "sim_codonUsage$usage_mean <- rowMeans(sim_codonUsage[,1:10]) #naking the mean col "
   ]
  },
  {
   "cell_type": "code",
   "execution_count": 8,
   "id": "90f436ce-e872-4c1c-96c8-c0204f340e03",
   "metadata": {},
   "outputs": [],
   "source": [
    "data_combined<- (merge(genome_codonUsage,sim_codonUsage[,c(\"codon\",\"usage_mean\")],by=\"codon\"))"
   ]
  },
  {
   "cell_type": "code",
   "execution_count": 9,
   "id": "13e6d2f2-2a76-49af-8238-9f45e48017b4",
   "metadata": {},
   "outputs": [
    {
     "data": {
      "text/html": [
       "<table>\n",
       "<thead><tr><th scope=col>codon</th><th scope=col>AA</th><th scope=col>codon_usage</th><th scope=col>usage_mean</th></tr></thead>\n",
       "<tbody>\n",
       "\t<tr><td>AAA      </td><td>LYS      </td><td>0.77     </td><td>1.0000000</td></tr>\n",
       "\t<tr><td>AAC      </td><td>ASN      </td><td>1.00     </td><td>0.8371102</td></tr>\n",
       "\t<tr><td>AAG      </td><td>LYS      </td><td>1.00     </td><td>0.8219270</td></tr>\n",
       "\t<tr><td>AAT      </td><td>ASN      </td><td>0.89     </td><td>1.0000000</td></tr>\n",
       "\t<tr><td>ACA      </td><td>THR      </td><td>0.81     </td><td>1.0000000</td></tr>\n",
       "\t<tr><td>ACC      </td><td>THR      </td><td>1.00     </td><td>0.5441759</td></tr>\n",
       "</tbody>\n",
       "</table>\n"
      ],
      "text/latex": [
       "\\begin{tabular}{r|llll}\n",
       " codon & AA & codon\\_usage & usage\\_mean\\\\\n",
       "\\hline\n",
       "\t AAA       & LYS       & 0.77      & 1.0000000\\\\\n",
       "\t AAC       & ASN       & 1.00      & 0.8371102\\\\\n",
       "\t AAG       & LYS       & 1.00      & 0.8219270\\\\\n",
       "\t AAT       & ASN       & 0.89      & 1.0000000\\\\\n",
       "\t ACA       & THR       & 0.81      & 1.0000000\\\\\n",
       "\t ACC       & THR       & 1.00      & 0.5441759\\\\\n",
       "\\end{tabular}\n"
      ],
      "text/markdown": [
       "\n",
       "| codon | AA | codon_usage | usage_mean |\n",
       "|---|---|---|---|\n",
       "| AAA       | LYS       | 0.77      | 1.0000000 |\n",
       "| AAC       | ASN       | 1.00      | 0.8371102 |\n",
       "| AAG       | LYS       | 1.00      | 0.8219270 |\n",
       "| AAT       | ASN       | 0.89      | 1.0000000 |\n",
       "| ACA       | THR       | 0.81      | 1.0000000 |\n",
       "| ACC       | THR       | 1.00      | 0.5441759 |\n",
       "\n"
      ],
      "text/plain": [
       "  codon AA  codon_usage usage_mean\n",
       "1 AAA   LYS 0.77        1.0000000 \n",
       "2 AAC   ASN 1.00        0.8371102 \n",
       "3 AAG   LYS 1.00        0.8219270 \n",
       "4 AAT   ASN 0.89        1.0000000 \n",
       "5 ACA   THR 0.81        1.0000000 \n",
       "6 ACC   THR 1.00        0.5441759 "
      ]
     },
     "metadata": {},
     "output_type": "display_data"
    }
   ],
   "source": [
    "head(data_combined)"
   ]
  },
  {
   "cell_type": "code",
   "execution_count": 19,
   "id": "684d81dd-6421-4172-a3aa-249941312ea2",
   "metadata": {
    "tags": []
   },
   "outputs": [
    {
     "name": "stderr",
     "output_type": "stream",
     "text": [
      "Saving 6.67 x 6.67 in image\n"
     ]
    },
    {
     "data": {
      "image/png": "[encoded data removed]",
      "text/plain": [
       "plot without title"
      ]
     },
     "metadata": {},
     "output_type": "display_data"
    }
   ],
   "source": [
    "ggplot(data_combined,aes(x=usage_mean,y=codon_usage))+\n",
    "    theme_light()+\n",
    "    geom_point()+\n",
    "    labs(x =\"Simulation codon usage\", y = \"Genome codon usage\")+\n",
    "    stat_smooth(method=\"lm\",formula=y~x, col = \"red\")\n",
    "# ggsave(\"plots/Codon_usage_simulation_vs_genome_2022_01_04_regression.pdf\")"
   ]
  },
  {
   "cell_type": "code",
   "execution_count": 16,
   "id": "f6a45a53-e5d7-4290-aaed-c954698ba111",
   "metadata": {},
   "outputs": [
    {
     "data": {
      "text/plain": [
       "\n",
       "Call:\n",
       "lm(formula = data_combined$codon_usage ~ data_combined$usage_mean)\n",
       "\n",
       "Residuals:\n",
       "     Min       1Q   Median       3Q      Max \n",
       "-0.55500 -0.21930  0.05867  0.26783  0.29396 \n",
       "\n",
       "Coefficients:\n",
       "                         Estimate Std. Error t value Pr(>|t|)    \n",
       "(Intercept)               0.65796    0.14643   4.493 3.12e-05 ***\n",
       "data_combined$usage_mean  0.08837    0.17313   0.510    0.612    \n",
       "---\n",
       "Signif. codes:  0 ‘***’ 0.001 ‘**’ 0.01 ‘*’ 0.05 ‘.’ 0.1 ‘ ’ 1\n",
       "\n",
       "Residual standard error: 0.2738 on 62 degrees of freedom\n",
       "Multiple R-squared:  0.004185,\tAdjusted R-squared:  -0.01188 \n",
       "F-statistic: 0.2605 on 1 and 62 DF,  p-value: 0.6116\n"
      ]
     },
     "metadata": {},
     "output_type": "display_data"
    }
   ],
   "source": [
    "summary(lm(data_combined$codon_usage~data_combined$usage_mean))"
   ]
  },
  {
   "cell_type": "code",
   "execution_count": 106,
   "id": "05ed9773-15fd-449b-a47a-dc0ab788e2cd",
   "metadata": {},
   "outputs": [
    {
     "data": {
      "text/html": [
       "<table>\n",
       "<thead><tr><th></th><th scope=col>codon</th><th scope=col>usage_mean</th></tr></thead>\n",
       "<tbody>\n",
       "\t<tr><th scope=row>TGC</th><td>TGC      </td><td>0.7056074</td></tr>\n",
       "\t<tr><th scope=row>GCG</th><td>GCG      </td><td>0.5118279</td></tr>\n",
       "\t<tr><th scope=row>CGG</th><td>CGG      </td><td>0.3838122</td></tr>\n",
       "\t<tr><th scope=row>AGA</th><td>AGA      </td><td>1.0000000</td></tr>\n",
       "\t<tr><th scope=row>GTT</th><td>GTT      </td><td>0.9973832</td></tr>\n",
       "\t<tr><th scope=row>TTG</th><td>TTG      </td><td>0.9998457</td></tr>\n",
       "\t<tr><th scope=row>GTG</th><td>GTG      </td><td>0.9619041</td></tr>\n",
       "\t<tr><th scope=row>ATA</th><td>ATA      </td><td>0.9437847</td></tr>\n",
       "\t<tr><th scope=row>TAA</th><td>TAA      </td><td>1.0000000</td></tr>\n",
       "\t<tr><th scope=row>TGA</th><td>TGA      </td><td>1.0000000</td></tr>\n",
       "</tbody>\n",
       "</table>\n"
      ],
      "text/latex": [
       "\\begin{tabular}{r|ll}\n",
       "  & codon & usage\\_mean\\\\\n",
       "\\hline\n",
       "\tTGC & TGC       & 0.7056074\\\\\n",
       "\tGCG & GCG       & 0.5118279\\\\\n",
       "\tCGG & CGG       & 0.3838122\\\\\n",
       "\tAGA & AGA       & 1.0000000\\\\\n",
       "\tGTT & GTT       & 0.9973832\\\\\n",
       "\tTTG & TTG       & 0.9998457\\\\\n",
       "\tGTG & GTG       & 0.9619041\\\\\n",
       "\tATA & ATA       & 0.9437847\\\\\n",
       "\tTAA & TAA       & 1.0000000\\\\\n",
       "\tTGA & TGA       & 1.0000000\\\\\n",
       "\\end{tabular}\n"
      ],
      "text/markdown": [
       "\n",
       "| <!--/--> | codon | usage_mean |\n",
       "|---|---|---|\n",
       "| TGC | TGC       | 0.7056074 |\n",
       "| GCG | GCG       | 0.5118279 |\n",
       "| CGG | CGG       | 0.3838122 |\n",
       "| AGA | AGA       | 1.0000000 |\n",
       "| GTT | GTT       | 0.9973832 |\n",
       "| TTG | TTG       | 0.9998457 |\n",
       "| GTG | GTG       | 0.9619041 |\n",
       "| ATA | ATA       | 0.9437847 |\n",
       "| TAA | TAA       | 1.0000000 |\n",
       "| TGA | TGA       | 1.0000000 |\n",
       "\n"
      ],
      "text/plain": [
       "    codon usage_mean\n",
       "TGC TGC   0.7056074 \n",
       "GCG GCG   0.5118279 \n",
       "CGG CGG   0.3838122 \n",
       "AGA AGA   1.0000000 \n",
       "GTT GTT   0.9973832 \n",
       "TTG TTG   0.9998457 \n",
       "GTG GTG   0.9619041 \n",
       "ATA ATA   0.9437847 \n",
       "TAA TAA   1.0000000 \n",
       "TGA TGA   1.0000000 "
      ]
     },
     "metadata": {},
     "output_type": "display_data"
    }
   ],
   "source": [
    "sim_codonUsage[,c(\"codon\",\"usage_mean\")]"
   ]
  }
 ],
 "metadata": {
  "kernelspec": {
   "display_name": "R [conda env:.conda-mutEq]",
   "language": "R",
   "name": "conda-env-.conda-mutEq-r"
  },
  "language_info": {
   "codemirror_mode": "r",
   "file_extension": ".r",
   "mimetype": "text/x-r-source",
   "name": "R",
   "pygments_lexer": "r",
   "version": "3.6.1"
  }
 },
 "nbformat": 4,
 "nbformat_minor": 5
}
