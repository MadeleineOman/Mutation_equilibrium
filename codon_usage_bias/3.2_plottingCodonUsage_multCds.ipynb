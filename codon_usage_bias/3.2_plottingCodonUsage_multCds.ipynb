{
 "cells": [
  {
   "cell_type": "markdown",
   "metadata": {
    "jupyter": {
     "source_hidden": true
    },
    "tags": []
   },
   "source": [
    "# **Plotting the codon usage** "
   ]
  },
  {
   "cell_type": "markdown",
   "metadata": {},
   "source": [
    "**importing packages and data**"
   ]
  },
  {
   "cell_type": "code",
   "execution_count": 8,
   "metadata": {},
   "outputs": [],
   "source": [
    "import json\n",
    "import pandas as pd\n",
    "import matplotlib.pyplot as plt\n",
    "import numpy as np\n",
    "from sklearn.linear_model import LinearRegression\n",
    "import statsmodels.api as sm\n",
    "from scipy import stats\n",
    "from datetime import datetime\n",
    "import seaborn as sns"
   ]
  },
  {
   "cell_type": "code",
   "execution_count": 2,
   "metadata": {},
   "outputs": [],
   "source": [
    "codon_usage_dict = {'AAA': 0.77, 'AAC': 1.0, 'AAG': 1.0, 'AAT': 0.89, 'ACA': 0.81, 'ACC': 1.0, 'ACG': 0.32, 'ACT': 0.7, 'AGA': 1.0, 'AGC': 1.0, 'AGG': 1.0,\n",
    " 'AGT': 0.62, 'ATA': 0.36, 'ATC': 1.0, 'ATG': 1.0, 'ATT': 0.77, 'CAA': 0.36, 'CAC': 1.0, 'CAG': 1.0, 'CAT': 0.72, 'CCA': 0.83, 'CCC': 1.0, 'CCG': 0.36, 'CCT': 0.87,\n",
    " 'CGA': 0.51, 'CGC': 0.88, 'CGG': 0.97, 'CGT': 0.38, 'CTA': 0.18, 'CTC': 0.49, 'CTG': 1.0, 'CTT': 0.33, 'GAA': 0.73, 'GAC': 1.0, 'GAG': 1.0, 'GAT': 0.86, 'GCA': 0.56,\n",
    " 'GCC': 1.0, 'GCG': 0.27, 'GCT': 0.64, 'GGA': 0.73, 'GGC': 1.0, 'GGG': 0.75, 'GGT': 0.47, 'GTA': 0.25, 'GTC': 0.51, 'GTG': 1.0, 'GTT': 0.39, 'TAA': 0.53, 'TAC': 1.0,\n",
    " 'TAG': 0.43, 'TAT': 0.8, 'TCA': 0.63, 'TCC': 0.9, 'TCG': 0.23, 'TCT': 0.77, 'TGA': 1.0, 'TGC': 1.0, 'TGG': 1.0, 'TGT': 0.84, 'TTA': 0.19, 'TTC': 1.0, 'TTG': 0.32, 'TTT': 0.84} \n",
    "# copied form rob notebook \n",
    "\n",
    "model = json.load(open(\"../Human_mutability_model/Model_2020_12_02_genomeWide.txt\"))\n",
    "\n",
    "codon_change_df = pd.read_csv(\"data/redo_multDif_exons_2021_02_07/2021_03_03_codonUsage_propChange_multCds.csv\")\n",
    "#the ntrial is the nrow fo the codon change dict (each row is a trial)\n",
    "ntrial = len(codon_change_df)"
   ]
  },
  {
   "cell_type": "markdown",
   "metadata": {},
   "source": [
    "**making the plotting df**"
   ]
  },
  {
   "cell_type": "code",
   "execution_count": 3,
   "metadata": {},
   "outputs": [],
   "source": [
    "plotting_df = {}\n",
    "for key, value in codon_usage_dict.items(): \n",
    "    cur_mut = model[key][0]\n",
    "    cur_usage = value\n",
    "    cur_change_mean = float(np.mean(codon_change_df[[key]]))\n",
    "    cur_change_sterr = float(np.std(codon_change_df[[key]]))/ntrial\n",
    "    plotting_df[key] = [cur_mut, cur_usage, cur_change_mean, cur_change_sterr]\n",
    "plotting_df = pd.DataFrame.from_dict(plotting_df, orient = \"index\", columns = [\"mutability\", \"usage\",\"chnage_mean\",\"change_stderr\"])"
   ]
  },
  {
   "cell_type": "markdown",
   "metadata": {},
   "source": [
    "**plotting**"
   ]
  },
  {
   "cell_type": "code",
   "execution_count": 4,
   "metadata": {},
   "outputs": [
    {
     "data": {
      "text/html": [
       "<div>\n",
       "<style scoped>\n",
       "    .dataframe tbody tr th:only-of-type {\n",
       "        vertical-align: middle;\n",
       "    }\n",
       "\n",
       "    .dataframe tbody tr th {\n",
       "        vertical-align: top;\n",
       "    }\n",
       "\n",
       "    .dataframe thead th {\n",
       "        text-align: right;\n",
       "    }\n",
       "</style>\n",
       "<table border=\"1\" class=\"dataframe\">\n",
       "  <thead>\n",
       "    <tr style=\"text-align: right;\">\n",
       "      <th></th>\n",
       "      <th>mutability</th>\n",
       "      <th>usage</th>\n",
       "      <th>chnage_mean</th>\n",
       "      <th>change_stderr</th>\n",
       "    </tr>\n",
       "  </thead>\n",
       "  <tbody>\n",
       "    <tr>\n",
       "      <th>AAA</th>\n",
       "      <td>0.000015</td>\n",
       "      <td>0.77</td>\n",
       "      <td>0.245048</td>\n",
       "      <td>0.001398</td>\n",
       "    </tr>\n",
       "    <tr>\n",
       "      <th>AAC</th>\n",
       "      <td>0.000020</td>\n",
       "      <td>1.00</td>\n",
       "      <td>0.043825</td>\n",
       "      <td>0.002145</td>\n",
       "    </tr>\n",
       "    <tr>\n",
       "      <th>AAG</th>\n",
       "      <td>0.000017</td>\n",
       "      <td>1.00</td>\n",
       "      <td>0.017424</td>\n",
       "      <td>0.001408</td>\n",
       "    </tr>\n",
       "    <tr>\n",
       "      <th>AAT</th>\n",
       "      <td>0.000031</td>\n",
       "      <td>0.89</td>\n",
       "      <td>0.246286</td>\n",
       "      <td>0.003315</td>\n",
       "    </tr>\n",
       "    <tr>\n",
       "      <th>ACA</th>\n",
       "      <td>0.000040</td>\n",
       "      <td>0.81</td>\n",
       "      <td>0.428705</td>\n",
       "      <td>0.006281</td>\n",
       "    </tr>\n",
       "    <tr>\n",
       "      <th>...</th>\n",
       "      <td>...</td>\n",
       "      <td>...</td>\n",
       "      <td>...</td>\n",
       "      <td>...</td>\n",
       "    </tr>\n",
       "    <tr>\n",
       "      <th>TGT</th>\n",
       "      <td>0.000041</td>\n",
       "      <td>0.84</td>\n",
       "      <td>0.270096</td>\n",
       "      <td>0.001589</td>\n",
       "    </tr>\n",
       "    <tr>\n",
       "      <th>TTA</th>\n",
       "      <td>0.000021</td>\n",
       "      <td>0.19</td>\n",
       "      <td>0.154839</td>\n",
       "      <td>0.002758</td>\n",
       "    </tr>\n",
       "    <tr>\n",
       "      <th>TTC</th>\n",
       "      <td>0.000014</td>\n",
       "      <td>1.00</td>\n",
       "      <td>-0.059781</td>\n",
       "      <td>0.002948</td>\n",
       "    </tr>\n",
       "    <tr>\n",
       "      <th>TTG</th>\n",
       "      <td>0.000017</td>\n",
       "      <td>0.32</td>\n",
       "      <td>0.222846</td>\n",
       "      <td>0.002274</td>\n",
       "    </tr>\n",
       "    <tr>\n",
       "      <th>TTT</th>\n",
       "      <td>0.000015</td>\n",
       "      <td>0.84</td>\n",
       "      <td>0.237148</td>\n",
       "      <td>0.002516</td>\n",
       "    </tr>\n",
       "  </tbody>\n",
       "</table>\n",
       "<p>64 rows × 4 columns</p>\n",
       "</div>"
      ],
      "text/plain": [
       "     mutability  usage  chnage_mean  change_stderr\n",
       "AAA    0.000015   0.77     0.245048       0.001398\n",
       "AAC    0.000020   1.00     0.043825       0.002145\n",
       "AAG    0.000017   1.00     0.017424       0.001408\n",
       "AAT    0.000031   0.89     0.246286       0.003315\n",
       "ACA    0.000040   0.81     0.428705       0.006281\n",
       "..          ...    ...          ...            ...\n",
       "TGT    0.000041   0.84     0.270096       0.001589\n",
       "TTA    0.000021   0.19     0.154839       0.002758\n",
       "TTC    0.000014   1.00    -0.059781       0.002948\n",
       "TTG    0.000017   0.32     0.222846       0.002274\n",
       "TTT    0.000015   0.84     0.237148       0.002516\n",
       "\n",
       "[64 rows x 4 columns]"
      ]
     },
     "execution_count": 4,
     "metadata": {},
     "output_type": "execute_result"
    }
   ],
   "source": [
    "plotting_df"
   ]
  },
  {
   "cell_type": "code",
   "execution_count": 5,
   "metadata": {},
   "outputs": [],
   "source": [
    "plt.style.use(\"seaborn-ticks\")"
   ]
  },
  {
   "cell_type": "code",
   "execution_count": 23,
   "metadata": {},
   "outputs": [
    {
     "data": {
      "image/png": "[encoded data removed]",
      "text/plain": [
       "<Figure size 720x648 with 1 Axes>"
      ]
     },
     "metadata": {},
     "output_type": "display_data"
    }
   ],
   "source": [
    "sns.set_context(\"paper\", font_scale=2.2)\n",
    "plt.figure(figsize=(10,9))\n",
    "\n",
    "plot = sns.scatterplot(x=\"usage\", y=\"chnage_mean\", data=plotting_df, color = \"k\",s=50)\n",
    "plot.axhline(0, color = \"black\", linewidth = 0.5)\n",
    "plot.set(xlabel = \"Codon Usage\", ylabel = \"Triplet Change\")\n",
    "plt.show()\n",
    "# timestamp = datetime.now().strftime(\"%Y/%m/%d\").replace(\"/\", \"_\").replace(\":\", \"_\")\n",
    "# plt.savefig(\"plots/Codon_Usage_{t}_multCds.png\".format(t=timestamp))"
   ]
  },
  {
   "cell_type": "code",
   "execution_count": 9,
   "metadata": {},
   "outputs": [
    {
     "data": {
      "image/png": "[encoded data removed]",
      "text/plain": [
       "<Figure size 432x288 with 1 Axes>"
      ]
     },
     "metadata": {},
     "output_type": "display_data"
    }
   ],
   "source": [
    "plt.scatter(plotting_df.usage, plotting_df.chnage_mean, color = \"k\", s= 16)\n",
    "plt.axhline(y = 0, linewidth = 0.25, color = \"k\")\n",
    "plt.errorbar(plotting_df.usage, plotting_df.chnage_mean, yerr = np.array(plotting_df.change_stderr), ecolor = \"grey\", ls = \"None\")\n",
    "# plt.title(\"Codon usage vs chnage \\n randomized sysnonymous codons in 100kbp cds\")\n",
    "plt.ylabel(\"Codon change\", size = 16)\n",
    "plt.xlabel(\"Codon usage\", size = 16)\n",
    "plt.xticks(size = 14)\n",
    "plt.yticks(size = 14)\n",
    "plt.show()\n",
    "# timestamp = datetime.now().strftime(\"%Y/%m/%d\").replace(\"/\", \"_\").replace(\":\", \"_\")\n",
    "# plt.savefig(\"plots/Codon-Usage_{t}_multCds.png\".format(t=timestamp))"
   ]
  },
  {
   "cell_type": "code",
   "execution_count": null,
   "metadata": {},
   "outputs": [],
   "source": []
  },
  {
   "cell_type": "markdown",
   "metadata": {},
   "source": [
    "## **regression**"
   ]
  },
  {
   "cell_type": "code",
   "execution_count": 47,
   "metadata": {},
   "outputs": [],
   "source": [
    "regression_mut_x = np.array(list(plotting_df.usage)).reshape((-1,1))\n",
    "regression_change_y = np.array(list(plotting_df.chnage_mean))"
   ]
  },
  {
   "cell_type": "code",
   "execution_count": 48,
   "metadata": {},
   "outputs": [],
   "source": [
    "regres_model =  LinearRegression().fit(regression_mut_x, regression_change_y)"
   ]
  },
  {
   "cell_type": "code",
   "execution_count": 49,
   "metadata": {},
   "outputs": [
    {
     "name": "stdout",
     "output_type": "stream",
     "text": [
      "r^2:  0.0058321310639696256 slope:  [0.06697095]\n"
     ]
    }
   ],
   "source": [
    "print('r^2: ', regres_model.score(regression_mut_x, regression_change_y), \"slope: \", regres_model.coef_)"
   ]
  },
  {
   "cell_type": "code",
   "execution_count": 50,
   "metadata": {},
   "outputs": [],
   "source": [
    "est_mutChange = sm.OLS(regression_change_y, sm.add_constant(regression_mut_x)).fit()"
   ]
  },
  {
   "cell_type": "code",
   "execution_count": 52,
   "metadata": {},
   "outputs": [
    {
     "name": "stdout",
     "output_type": "stream",
     "text": [
      "                            OLS Regression Results                            \n",
      "==============================================================================\n",
      "Dep. Variable:                      y   R-squared:                       0.006\n",
      "Model:                            OLS   Adj. R-squared:                 -0.010\n",
      "Method:                 Least Squares   F-statistic:                    0.3637\n",
      "Date:                Wed, 03 Mar 2021   Prob (F-statistic):              0.549\n",
      "Time:                        20:02:06   Log-Likelihood:                 1.5545\n",
      "No. Observations:                  64   AIC:                            0.8910\n",
      "Df Residuals:                      62   BIC:                             5.209\n",
      "Df Model:                           1                                         \n",
      "Covariance Type:            nonrobust                                         \n",
      "==============================================================================\n",
      "                 coef    std err          t      P>|t|      [0.025      0.975]\n",
      "------------------------------------------------------------------------------\n",
      "const         -0.0499      0.087     -0.577      0.566      -0.223       0.123\n",
      "x1             0.0670      0.111      0.603      0.549      -0.155       0.289\n",
      "==============================================================================\n",
      "Omnibus:                        2.600   Durbin-Watson:                   1.288\n",
      "Prob(Omnibus):                  0.272   Jarque-Bera (JB):                1.656\n",
      "Skew:                          -0.139   Prob(JB):                        0.437\n",
      "Kurtosis:                       2.263   Cond. No.                         5.78\n",
      "==============================================================================\n",
      "\n",
      "Notes:\n",
      "[1] Standard Errors assume that the covariance matrix of the errors is correctly specified.\n"
     ]
    }
   ],
   "source": [
    "print(est_mutChange.summary())"
   ]
  }
 ],
 "metadata": {
  "kernelspec": {
   "display_name": "Python 3 (ipykernel)",
   "language": "python",
   "name": "python3"
  },
  "language_info": {
   "codemirror_mode": {
    "name": "ipython",
    "version": 3
   },
   "file_extension": ".py",
   "mimetype": "text/x-python",
   "name": "python",
   "nbconvert_exporter": "python",
   "pygments_lexer": "ipython3",
   "version": "3.9.6"
  }
 },
 "nbformat": 4,
 "nbformat_minor": 4
}
