{
 "cells": [
  {
   "cell_type": "markdown",
   "metadata": {},
   "source": [
    "# ** codon usage bias sim except not the 100kbp exon (its super weird) ** \n",
    "    1) i simulate a string oc coding sequence (long one, maybe that 40k one a while back?) \n",
    "    2) randomize the synonymous cites \n",
    "    3) run "
   ]
  },
  {
   "cell_type": "markdown",
   "metadata": {},
   "source": [
    "** load in the data ** "
   ]
  },
  {
   "cell_type": "code",
   "execution_count": 11,
   "metadata": {},
   "outputs": [],
   "source": [
    "import json \n",
    "import random\n",
    "import numpy as np\n",
    "import matplotlib.pyplot as plt\n",
    "from Bio import SeqIO\n",
    "from datetime import datetime\n",
    "from numpy.random import choice"
   ]
  },
  {
   "cell_type": "code",
   "execution_count": 2,
   "metadata": {},
   "outputs": [],
   "source": [
    "plt.style.use(\"seaborn-ticks\")"
   ]
  },
  {
   "cell_type": "code",
   "execution_count": 3,
   "metadata": {},
   "outputs": [],
   "source": [
    "model = json.load(open(\"../Human_mutability_model/Model_2020_12_02_genomeWide.txt\"))\n",
    "\n",
    "SynonymousCodons = {'CYS': ['TGT', 'TGC'], 'ASP': ['GAT', 'GAC'],\n",
    "'SER': ['TCT', 'TCG', 'TCA', 'TCC', 'AGC', 'AGT'],\n",
    "'GLN': ['CAA', 'CAG'], 'MET': ['ATG'], 'ASN': ['AAC', 'AAT'],\n",
    "'PRO': ['CCT', 'CCG', 'CCA', 'CCC'], 'LYS': ['AAG', 'AAA'],\n",
    "'STOP': ['TAG', 'TGA', 'TAA'], 'THR': ['ACC', 'ACA', 'ACG', 'ACT'],\n",
    "'PHE': ['TTT', 'TTC'], 'ALA': ['GCA', 'GCC', 'GCG', 'GCT'],\n",
    "'GLY': ['GGT', 'GGG', 'GGA', 'GGC'], 'ILE': ['ATC', 'ATA', 'ATT'],\n",
    "'LEU': ['TTA', 'TTG', 'CTC', 'CTT', 'CTG', 'CTA'], 'HIS': ['CAT', 'CAC'],\n",
    "'ARG': ['CGA', 'CGC', 'CGG', 'CGT', 'AGG', 'AGA'], 'TRP': ['TGG'],\n",
    "'VAL': ['GTA', 'GTC', 'GTG', 'GTT'], 'GLU': ['GAG', 'GAA'], 'TYR': ['TAT', 'TAC']}\n",
    "\n",
    "get_aa_dict = {}#dictionary that turns codon into aa \n",
    "for key,value in SynonymousCodons.items(): \n",
    "    for codon in value: \n",
    "        get_aa_dict[codon] = key \n"
   ]
  },
  {
   "cell_type": "code",
   "execution_count": 82,
   "metadata": {},
   "outputs": [],
   "source": [
    "#finding a long ass exon \n",
    "cds_file_obj = open(\"../Human_exon_data/Homo_sapiens.GRCh38.cds.all.fa\")\n",
    "exon_lengths = []\n",
    "cds_lowerLim = 4000\n",
    "cds_upperLim = 6000\n",
    "cdsPots = []\n",
    "for gene in SeqIO.parse(cds_file_obj, \"fasta\"): \n",
    "    if cds_lowerLim <= len(gene.seq) <= cds_upperLim: \n",
    "        cdsPots.append(gene.id)\n",
    "cds_file_obj.close()"
   ]
  },
  {
   "cell_type": "code",
   "execution_count": 89,
   "metadata": {},
   "outputs": [],
   "source": [
    "n_exons = 22\n",
    "cdsChosen_list = list(choice(cdsPots, size = n_exons))"
   ]
  },
  {
   "cell_type": "code",
   "execution_count": 90,
   "metadata": {},
   "outputs": [],
   "source": [
    "#converting to a string\n",
    "for index, name in enumerate(cdsChosen_list): \n",
    "    cdsChosen_list[index] = str(name)"
   ]
  },
  {
   "cell_type": "code",
   "execution_count": 91,
   "metadata": {},
   "outputs": [],
   "source": [
    "cdsChosen_dict = {}\n",
    "\n",
    "for gene in SeqIO.parse(\"../Human_exon_data/Homo_sapiens.GRCh38.cds.all.fa\", \"fasta\"): \n",
    "    if gene.id in cdsChosen_list: \n",
    "        cdsChosen_dict[gene.id] = str(gene.seq)"
   ]
  },
  {
   "cell_type": "code",
   "execution_count": 94,
   "metadata": {},
   "outputs": [
    {
     "name": "stdout",
     "output_type": "stream",
     "text": [
      "total length of all exons 105327\n"
     ]
    }
   ],
   "source": [
    "total_length = 0\n",
    "for name, cds in cdsChosen_dict.items(): \n",
    "    total_length+= len(cds)\n",
    "    \n",
    "print(\"total length of all exons\", total_length)"
   ]
  },
  {
   "cell_type": "markdown",
   "metadata": {},
   "source": [
    "** randomly assign one of the syn codons ** "
   ]
  },
  {
   "cell_type": "code",
   "execution_count": 165,
   "metadata": {},
   "outputs": [],
   "source": [
    "cdsrandom_dict = {}\n",
    "cds_iterator = 1\n",
    "for key, cds in cdsChosen_dict.items():\n",
    "    new_dna = str()\n",
    "    for i in range(0,len(cds),3): \n",
    "        codon  = cds[i:i+3]\n",
    "        aa = get_aa_dict[codon]\n",
    "        new_codon = random.choice(SynonymousCodons[aa])\n",
    "        new_dna += new_codon\n",
    "    cdsrandom_dict[key] = [cds_iterator, new_dna]\n",
    "    cds_iterator += 1"
   ]
  },
  {
   "cell_type": "markdown",
   "metadata": {},
   "source": [
    "** make the dna map and add invariant sites ** "
   ]
  },
  {
   "cell_type": "code",
   "execution_count": 167,
   "metadata": {},
   "outputs": [],
   "source": [
    "for key, value in cdsrandom_dict.items(): \n",
    "    num_3s_added = 0\n",
    "    cds=value[1]\n",
    "    new_dna_map = str()\n",
    "    new_dna_map = \"012\"*int(len(cds)/3)\n",
    "    invarSitesIndices = random.sample(range(0, int(len(cds)/3)), int(len(cds)/(3*2)))\n",
    "    for codon_index in invarSitesIndices: \n",
    "        adj_codon_index = codon_index*3\n",
    "        new_dna_map = new_dna_map[:adj_codon_index]+\"333\"+new_dna_map[adj_codon_index+3:]\n",
    "        num_3s_added += 3\n",
    "    value.append(new_dna_map)\n",
    "#     print(len(cds)/num_3s_added, len(cds)/new_dna_map.count(\"3\"), len(cds)/(len(invarSitesIndices)*3))"
   ]
  },
  {
   "cell_type": "code",
   "execution_count": 163,
   "metadata": {},
   "outputs": [],
   "source": [
    "#double checking \n",
    "# for key, value in cdsrandom_dict.items(): \n",
    "#     print(len(value[1])/(value[1]).count(\"3\"))"
   ]
  },
  {
   "cell_type": "code",
   "execution_count": 164,
   "metadata": {},
   "outputs": [],
   "source": [
    "file = open(\"data/redo_multDif_exons_2021_02_07/all_coding_dict.txt\", \"w+\")\n",
    "file.write(json.dumps(cdsrandom_dict))\n",
    "file.close()"
   ]
  },
  {
   "cell_type": "markdown",
   "metadata": {},
   "source": [
    "** save dna string for sims ** "
   ]
  },
  {
   "cell_type": "code",
   "execution_count": 192,
   "metadata": {},
   "outputs": [],
   "source": [
    "!rm data/redo_multDif_exons_2021_02_07/*Trial{}*"
   ]
  },
  {
   "cell_type": "code",
   "execution_count": 177,
   "metadata": {},
   "outputs": [],
   "source": [
    "for key,value in cdsrandom_dict.items(): \n",
    "    file = open(\"data/redo_multDif_exons_2021_02_07/CodingUsage_cds{N}_DNA_gen0.txt\".format(N=key), \"w+\")\n",
    "    file.write(str(value[1]))\n",
    "    file.close()\n",
    "\n",
    "    file = open(\"data/redo_multDif_exons_2021_02_07/CodingUsage_cds{N}_MAP.txt\".format(N=key), \"w+\")\n",
    "    file.write(str(value[2]))\n",
    "    file.close()"
   ]
  },
  {
   "cell_type": "markdown",
   "metadata": {},
   "source": [
    "** saving the list of cds names and first (general to gen0 and map) file location to a file to iterate through for sim running **"
   ]
  },
  {
   "cell_type": "code",
   "execution_count": 178,
   "metadata": {},
   "outputs": [],
   "source": [
    "cdsNames_list = []\n",
    "for key in cdsrandom_dict.keys(): \n",
    "    cdsNames_list.append(key)"
   ]
  },
  {
   "cell_type": "code",
   "execution_count": 191,
   "metadata": {},
   "outputs": [],
   "source": [
    "file = open(\"data/redo_multDif_exons_2021_02_07/cdsNames_list.txt\", \"w+\")\n",
    "file.write(cdsNames_list[0]+\"\\n\")\n",
    "file.close()\n",
    "\n",
    "for element in cdsNames_list[1:]: \n",
    "    file = open(\"data/redo_multDif_exons_2021_02_07/cdsNames_list.txt\", \"a+\")\n",
    "    file.write(element+\"\\n\")\n",
    "    file.close()"
   ]
  },
  {
   "cell_type": "code",
   "execution_count": 182,
   "metadata": {},
   "outputs": [
    {
     "data": {
      "text/plain": [
       "\"['ENST00000460012.6', 'ENST00000361961.7', 'ENST00000646038.1', 'ENST00000644316.1', 'ENST00000674475.1', 'ENST00000434032.6', 'ENST00000395438.5', 'ENST00000650632.1', 'ENST00000418533.6', 'ENST00000361713.1', 'ENST00000355774.6', 'ENST00000413186.6', 'ENST00000301624.8', 'ENST00000648892.1', 'ENST00000636805.1', 'ENST00000356297.5', 'ENST00000257209.8', 'ENST00000357063.7', 'ENST00000625760.2', 'ENST00000338382.10', 'ENST00000433039.1', 'ENST00000504076.5']\""
      ]
     },
     "execution_count": 182,
     "metadata": {},
     "output_type": "execute_result"
    }
   ],
   "source": [
    "str(cdsNames_list)"
   ]
  },
  {
   "cell_type": "markdown",
   "metadata": {},
   "source": [
    "# ** APPENDIX ** "
   ]
  },
  {
   "cell_type": "code",
   "execution_count": 76,
   "metadata": {},
   "outputs": [],
   "source": [
    "new_dna = str()\n",
    "new_codons = []\n",
    "for codon in codons: \n",
    "    aa = get_aa_dict[codon]\n",
    "    new_codon = random.choice(SynonymousCodons[aa])\n",
    "    new_codons.append(new_codon)\n",
    "    new_dna += new_codon"
   ]
  },
  {
   "cell_type": "code",
   "execution_count": 8,
   "metadata": {},
   "outputs": [
    {
     "data": {
      "text/plain": [
       "(array([ 94568.,  12829.,   2340.,    748.,    214.]),\n",
       " array([    0,  2000,  4000,  6000,  8000, 10000]),\n",
       " <a list of 5 Patch objects>)"
      ]
     },
     "execution_count": 8,
     "metadata": {},
     "output_type": "execute_result"
    },
    {
     "data": {
      "image/png": "[encoded data removed]",
      "text/plain": [
       "<matplotlib.figure.Figure at 0x7fe52cd9e208>"
      ]
     },
     "metadata": {},
     "output_type": "display_data"
    }
   ],
   "source": [
    "plt.hist(exon_lengths, bins = [0,2000,4000,6000,8000,10000])"
   ]
  },
  {
   "cell_type": "code",
   "execution_count": 9,
   "metadata": {},
   "outputs": [
    {
     "data": {
      "text/plain": [
       "(array([ 253.,   72.,   18.,   11.,    0.,    0.]),\n",
       " array([10000, 15000, 20000, 25000, 30000, 35000, 40000]),\n",
       " <a list of 6 Patch objects>)"
      ]
     },
     "execution_count": 9,
     "metadata": {},
     "output_type": "execute_result"
    },
    {
     "data": {
      "image/png": "[encoded data removed]",
      "text/plain": [
       "<matplotlib.figure.Figure at 0x7fe52c82ae10>"
      ]
     },
     "metadata": {},
     "output_type": "display_data"
    }
   ],
   "source": [
    "plt.hist(exon_lengths, bins = [10000,15000,20000,25000,30000,35000,40000])"
   ]
  }
 ],
 "metadata": {
  "kernelspec": {
   "display_name": "Python 3",
   "language": "python",
   "name": "python3"
  },
  "language_info": {
   "codemirror_mode": {
    "name": "ipython",
    "version": 3
   },
   "file_extension": ".py",
   "mimetype": "text/x-python",
   "name": "python",
   "nbconvert_exporter": "python",
   "pygments_lexer": "ipython3",
   "version": "3.8.5"
  }
 },
 "nbformat": 4,
 "nbformat_minor": 4
}
