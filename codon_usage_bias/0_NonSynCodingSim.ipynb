{
 "cells": [
  {
   "cell_type": "markdown",
   "metadata": {},
   "source": [
    "# ** proper thign for findign out if we see codon usage bias ** \n",
    "    1) i simulate a string oc coding sequence (long one, maybe that 40k one a while back?) \n",
    "    2) randomize the synonymous cites \n",
    "    3) run "
   ]
  },
  {
   "cell_type": "markdown",
   "metadata": {},
   "source": [
    "** load in the data ** "
   ]
  },
  {
   "cell_type": "code",
   "execution_count": 1,
   "metadata": {},
   "outputs": [],
   "source": [
    "import json \n",
    "import random\n",
    "import numpy as np\n",
    "import matplotlib.pyplot as plt\n",
    "from Bio import SeqIO\n",
    "from datetime import datetime"
   ]
  },
  {
   "cell_type": "code",
   "execution_count": 2,
   "metadata": {},
   "outputs": [],
   "source": [
    "plt.style.use(\"seaborn-ticks\")"
   ]
  },
  {
   "cell_type": "code",
   "execution_count": 3,
   "metadata": {},
   "outputs": [],
   "source": [
    "model = json.load(open(\"../Human_mutability_model/Model_2020_12_02_genomeWide.txt\"))\n",
    "\n",
    "SynonymousCodons = {'CYS': ['TGT', 'TGC'], 'ASP': ['GAT', 'GAC'],\n",
    "'SER': ['TCT', 'TCG', 'TCA', 'TCC', 'AGC', 'AGT'],\n",
    "'GLN': ['CAA', 'CAG'], 'MET': ['ATG'], 'ASN': ['AAC', 'AAT'],\n",
    "'PRO': ['CCT', 'CCG', 'CCA', 'CCC'], 'LYS': ['AAG', 'AAA'],\n",
    "'STOP': ['TAG', 'TGA', 'TAA'], 'THR': ['ACC', 'ACA', 'ACG', 'ACT'],\n",
    "'PHE': ['TTT', 'TTC'], 'ALA': ['GCA', 'GCC', 'GCG', 'GCT'],\n",
    "'GLY': ['GGT', 'GGG', 'GGA', 'GGC'], 'ILE': ['ATC', 'ATA', 'ATT'],\n",
    "'LEU': ['TTA', 'TTG', 'CTC', 'CTT', 'CTG', 'CTA'], 'HIS': ['CAT', 'CAC'],\n",
    "'ARG': ['CGA', 'CGC', 'CGG', 'CGT', 'AGG', 'AGA'], 'TRP': ['TGG'],\n",
    "'VAL': ['GTA', 'GTC', 'GTG', 'GTT'], 'GLU': ['GAG', 'GAA'], 'TYR': ['TAT', 'TAC']}\n",
    "\n",
    "get_aa_dict = {}#dictionary that turns codon into aa \n",
    "for key,value in SynonymousCodons.items(): \n",
    "    for codon in value: \n",
    "        get_aa_dict[codon] = key \n"
   ]
  },
  {
   "cell_type": "code",
   "execution_count": 50,
   "metadata": {},
   "outputs": [
    {
     "name": "stdout",
     "output_type": "stream",
     "text": [
      "ENST00000589042.5\n"
     ]
    }
   ],
   "source": [
    "#finding a long ass exon \n",
    "cds_file_obj = open(\"../Human_exon_data/Homo_sapiens.GRCh38.cds.all.fa\")\n",
    "exon_lengths = []\n",
    "cds = str()\n",
    "for gene in SeqIO.parse(cds_file_obj, \"fasta\"): \n",
    "    exon_lengths.append(len(gene.seq))\n",
    "    if len(gene.seq) >= 107000: \n",
    "        print(gene.id)\n",
    "        cds = str(gene.seq )"
   ]
  },
  {
   "cell_type": "markdown",
   "metadata": {},
   "source": [
    "** randomly assign one of the syn codons ** "
   ]
  },
  {
   "cell_type": "code",
   "execution_count": 75,
   "metadata": {},
   "outputs": [],
   "source": [
    "codons= []\n",
    "for i in range(0,len(cds),3): \n",
    "    codon  = cds[i:i+3]\n",
    "    codons.append(codon)#tried and true "
   ]
  },
  {
   "cell_type": "code",
   "execution_count": 76,
   "metadata": {},
   "outputs": [],
   "source": [
    "new_dna = str()\n",
    "new_codons = []\n",
    "for codon in codons: \n",
    "    aa = get_aa_dict[codon]\n",
    "    new_codon = random.choice(SynonymousCodons[aa])\n",
    "    new_codons.append(new_codon)\n",
    "    new_dna += new_codon"
   ]
  },
  {
   "cell_type": "markdown",
   "metadata": {},
   "source": [
    "** make the dna map and add invariant sites ** "
   ]
  },
  {
   "cell_type": "code",
   "execution_count": 82,
   "metadata": {},
   "outputs": [],
   "source": [
    "new_dna_map = \"012\"*int(len(cds)/3)"
   ]
  },
  {
   "cell_type": "code",
   "execution_count": 79,
   "metadata": {},
   "outputs": [],
   "source": [
    "# di the invariant sites thing \n",
    "invarSitesIndices = random.sample(range(0, len(codons)), int(len(codons)/(3*2)))"
   ]
  },
  {
   "cell_type": "code",
   "execution_count": 83,
   "metadata": {},
   "outputs": [],
   "source": [
    "for codon_index in invarSitesIndices: \n",
    "    adj_codon_index = codon_index*3\n",
    "    new_dna_map = new_dna_map[:adj_codon_index]+\"333\"+new_dna_map[adj_codon_index+3:]"
   ]
  },
  {
   "cell_type": "markdown",
   "metadata": {},
   "source": [
    "** save dna string for sims ** "
   ]
  },
  {
   "cell_type": "code",
   "execution_count": 85,
   "metadata": {},
   "outputs": [],
   "source": [
    "file = open(\"CodingUsage_DNA_gen0.txt\", \"w+\")\n",
    "file.write(str(new_dna))\n",
    "file.close()\n",
    "\n",
    "file = open(\"CodingUsage_DNA_map.txt\", \"w+\")\n",
    "file.write(str(new_dna_map))\n",
    "file.close()"
   ]
  },
  {
   "cell_type": "code",
   "execution_count": null,
   "metadata": {},
   "outputs": [],
   "source": []
  },
  {
   "cell_type": "code",
   "execution_count": null,
   "metadata": {},
   "outputs": [],
   "source": []
  },
  {
   "cell_type": "code",
   "execution_count": null,
   "metadata": {},
   "outputs": [],
   "source": []
  },
  {
   "cell_type": "code",
   "execution_count": null,
   "metadata": {},
   "outputs": [],
   "source": []
  },
  {
   "cell_type": "code",
   "execution_count": null,
   "metadata": {},
   "outputs": [],
   "source": []
  },
  {
   "cell_type": "code",
   "execution_count": null,
   "metadata": {},
   "outputs": [],
   "source": []
  },
  {
   "cell_type": "code",
   "execution_count": null,
   "metadata": {},
   "outputs": [],
   "source": []
  },
  {
   "cell_type": "code",
   "execution_count": null,
   "metadata": {},
   "outputs": [],
   "source": []
  },
  {
   "cell_type": "code",
   "execution_count": null,
   "metadata": {},
   "outputs": [],
   "source": []
  }
 ],
 "metadata": {
  "kernelspec": {
   "display_name": "Python 3",
   "language": "python",
   "name": "python3"
  },
  "language_info": {
   "codemirror_mode": {
    "name": "ipython",
    "version": 3
   },
   "file_extension": ".py",
   "mimetype": "text/x-python",
   "name": "python",
   "nbconvert_exporter": "python",
   "pygments_lexer": "ipython3",
   "version": "3.5.1"
  }
 },
 "nbformat": 4,
 "nbformat_minor": 2
}
