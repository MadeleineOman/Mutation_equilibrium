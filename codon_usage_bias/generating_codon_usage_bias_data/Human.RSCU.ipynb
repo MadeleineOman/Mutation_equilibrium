{
 "cells": [
  {
   "cell_type": "code",
   "execution_count": 1,
   "metadata": {},
   "outputs": [],
   "source": [
    "import math\n",
    "from Bio.SeqUtils.CodonUsage import CodonAdaptationIndex\n",
    "from Bio import SeqIO # To parse a FASTA file\n",
    "# this dictionary is used to know which codons encode the same AA.\n",
    "SynonymousCodons = {'CYS': ['TGT', 'TGC'], 'ASP': ['GAT', 'GAC'],\n",
    "'SER': ['TCT', 'TCG', 'TCA', 'TCC', 'AGC', 'AGT'],\n",
    "'GLN': ['CAA', 'CAG'], 'MET': ['ATG'], 'ASN': ['AAC', 'AAT'],\n",
    "'PRO': ['CCT', 'CCG', 'CCA', 'CCC'], 'LYS': ['AAG', 'AAA'],\n",
    "'STOP': ['TAG', 'TGA', 'TAA'], 'THR': ['ACC', 'ACA', 'ACG', 'ACT'],\n",
    "'PHE': ['TTT', 'TTC'], 'ALA': ['GCA', 'GCC', 'GCG', 'GCT'],\n",
    "'GLY': ['GGT', 'GGG', 'GGA', 'GGC'], 'ILE': ['ATC', 'ATA', 'ATT'],\n",
    "'LEU': ['TTA', 'TTG', 'CTC', 'CTT', 'CTG', 'CTA'], 'HIS': ['CAT', 'CAC'],\n",
    "'ARG': ['CGA', 'CGC', 'CGG', 'CGT', 'AGG', 'AGA'], 'TRP': ['TGG'],\n",
    "'VAL': ['GTA', 'GTC', 'GTG', 'GTT'], 'GLU': ['GAG', 'GAA'], 'TYR': ['TAT', 'TAC']}\n",
    "\n",
    "gencode = { 'ATA':'I', 'ATC':'I', 'ATT':'I', 'ATG':'M',\n",
    "            'ACA':'T', 'ACC':'T', 'ACG':'T', 'ACT':'T',\n",
    "            'AAC':'N', 'AAT':'N', 'AAA':'K', 'AAG':'K',\n",
    "            'AGC':'S', 'AGT':'S', 'AGA':'R', 'AGG':'R',\n",
    "            'CTA':'L', 'CTC':'L', 'CTG':'L', 'CTT':'L',\n",
    "            'CCA':'P', 'CCC':'P', 'CCG':'P', 'CCT':'P',\n",
    "            'CAC':'H', 'CAT':'H', 'CAA':'Q', 'CAG':'Q',\n",
    "            'CGA':'R', 'CGC':'R', 'CGG':'R', 'CGT':'R',\n",
    "            'GTA':'V', 'GTC':'V', 'GTG':'V', 'GTT':'V',\n",
    "            'GCA':'A', 'GCC':'A', 'GCG':'A', 'GCT':'A',\n",
    "            'GAC':'D', 'GAT':'D', 'GAA':'E', 'GAG':'E',\n",
    "            'GGA':'G', 'GGC':'G', 'GGG':'G', 'GGT':'G',\n",
    "            'TCA':'S', 'TCC':'S', 'TCG':'S', 'TCT':'S',\n",
    "            'TTC':'F', 'TTT':'F', 'TTA':'L', 'TTG':'L',\n",
    "            'TAC':'Y', 'TAT':'Y', 'TAA':'_', 'TAG':'_',\n",
    "            'TGC':'C', 'TGT':'C', 'TGA':'_', 'TGG':'W'}\n"
   ]
  },
  {
   "cell_type": "code",
   "execution_count": 3,
   "metadata": {},
   "outputs": [
    {
     "name": "stdout",
     "output_type": "stream",
     "text": [
      "Homo_sapiens.GRCh38.cds.all.fa\tUntitled.ipynb\n"
     ]
    }
   ],
   "source": [
    "!cp /scratch/research/projects/hsapiens/mutability/analysis/Aqsa/Human_exon_data/Homo_sapiens.GRCh38.cds.all.fa ./\n",
    "!ls"
   ]
  },
  {
   "cell_type": "code",
   "execution_count": 2,
   "metadata": {},
   "outputs": [
    {
     "name": "stdout",
     "output_type": "stream",
     "text": [
      "Homo_sapiens.GRCh38.cds.all.fa\t   Human.RSCU.ipynb\n",
      "Homo_sapiens.GRCh38.cds.intact.fa\n"
     ]
    }
   ],
   "source": [
    "!ls"
   ]
  },
  {
   "cell_type": "markdown",
   "metadata": {},
   "source": [
    "# Filter the CDS file\n",
    "\n",
    "The script requires that CDSs be in +1 frame. To ensure this is true I have eliminated a bunch of stuff.\n",
    "\n",
    "Note that there are a crazy number of CDSs"
   ]
  },
  {
   "cell_type": "code",
   "execution_count": 3,
   "metadata": {},
   "outputs": [
    {
     "name": "stdout",
     "output_type": "stream",
     "text": [
      "111060\n"
     ]
    }
   ],
   "source": [
    "!grep \">\" Homo_sapiens.GRCh38.cds.all.fa |wc -l"
   ]
  },
  {
   "cell_type": "markdown",
   "metadata": {},
   "source": [
    "111,000 CDSs is a lot more than the expected 20-30000 genes in the human genome!\n",
    "\n",
    "So here I take that file and ask:\n",
    "\n",
    " - Is it from a protein coding gene (gene_biotype == 'protein_coding'\n",
    " - I only include each gene ID once to avoid double counting\n",
    " - I demand the length by evenly divisible by 3\n",
    " - I demand it starts with a start codon\n",
    " - I demand it ends with a stop codon\n",
    " - I demand it has no ambigous bases (`N`s)\n",
    " \n",
    "I then write these sequences to a file with \"intact\" in the file name "
   ]
  },
  {
   "cell_type": "code",
   "execution_count": 13,
   "metadata": {},
   "outputs": [
    {
     "name": "stdout",
     "output_type": "stream",
     "text": [
      "22185\n"
     ]
    },
    {
     "data": {
      "text/plain": [
       "22185"
      ]
     },
     "execution_count": 13,
     "metadata": {},
     "output_type": "execute_result"
    }
   ],
   "source": [
    "from Bio import SeqIO\n",
    "cdsfile = 'Homo_sapiens.GRCh38.cds.all.fa'\n",
    "intact_genes = []\n",
    "used_genes = []\n",
    "for gene in SeqIO.parse(cdsfile, 'fasta'):\n",
    "    gene_id = gene.description.split('gene:')[-1].split()[0]\n",
    "    gene_biotype = gene.description.split('gene_biotype:')[-1].split()[0]\n",
    "    if gene_biotype != 'protein_coding': continue\n",
    "    if gene_id in used_genes: continue\n",
    "    if len(gene.seq) %3 ==0  \\\n",
    "    and str(gene.seq[:3]) ==  \"ATG\" \\\n",
    "    and str(gene.seq[-3:]) in \"TAA TAG TGA\" \\\n",
    "    and 'N' not in str(gene.seq):\n",
    "        intact_genes.append(gene)\n",
    "        used_genes.append(gene_id)\n",
    "    \n",
    "print(len(intact_genes))\n",
    "SeqIO.write(intact_genes, open(\"Homo_sapiens.GRCh38.cds.intact.fa\", 'w'), 'fasta')\n",
    "    "
   ]
  },
  {
   "cell_type": "markdown",
   "metadata": {},
   "source": [
    "# Calculate CAI index\n",
    "The codon adaptation index (CAI) object includes the calculation of relative synonymous codon usage (RSCU) \n",
    "\n",
    " - RSCU determines the most commonly used codon for a given AA    \n",
    " - It then reports all other codons for that AA as a fraction of the most common\n",
    " - Therefore each AA has one codon with a value of 1.0 and all others must range from 0-1 (1 in the case of a tie)\n",
    " \n",
    " \n",
    " ### Caveat: This is codon usage bias across all genes.\n",
    "  - Some people measure the \"preferred codon\" in other ways.\n",
    "         - eg. The preferred codon has been described as a codon where the usage is much higher in high expression compared to low expression genes. The logic being that high expression genes are under the most pressure to be efficiently transcribed and translated and should therefore use only the best codons on offer\n",
    "         \n",
    "         \n",
    "  There may be other PUBLISHED codon use indices we can check:\n",
    "  \n",
    "e.g. https://www.ncbi.nlm.nih.gov/pmc/articles/PMC5581930/   \n",
    "\n",
    "    and its associated DB \n",
    "        https://hive.biochemistry.gwu.edu/dna.cgi?cmd=tissue_codon_usage&id=586358&mode=cocoputs"
   ]
  },
  {
   "cell_type": "code",
   "execution_count": 6,
   "metadata": {},
   "outputs": [],
   "source": [
    "cai = CodonAdaptationIndex()\n",
    "cai.generate_index(\"Homo_sapiens.GRCh38.cds.intact.fa\")"
   ]
  },
  {
   "cell_type": "code",
   "execution_count": 17,
   "metadata": {
    "collapsed": true,
    "jupyter": {
     "outputs_hidden": true
    },
    "tags": []
   },
   "outputs": [
    {
     "name": "stdout",
     "output_type": "stream",
     "text": [
      "ILE\n",
      "\t ATC \t 1.0\n",
      "\t ATA \t 0.36\n",
      "\t ATT \t 0.77\n",
      "\n",
      "\n",
      "TYR\n",
      "\t TAT \t 0.8\n",
      "\t TAC \t 1.0\n",
      "\n",
      "\n",
      "PHE\n",
      "\t TTT \t 0.84\n",
      "\t TTC \t 1.0\n",
      "\n",
      "\n",
      "GLU\n",
      "\t GAG \t 1.0\n",
      "\t GAA \t 0.73\n",
      "\n",
      "\n",
      "ASP\n",
      "\t GAT \t 0.86\n",
      "\t GAC \t 1.0\n",
      "\n",
      "\n",
      "ARG\n",
      "\t CGA \t 0.51\n",
      "\t CGC \t 0.88\n",
      "\t CGG \t 0.97\n",
      "\t CGT \t 0.38\n",
      "\t AGG \t 1.0\n",
      "\t AGA \t 1.0\n",
      "\n",
      "\n",
      "SER\n",
      "\t TCT \t 0.77\n",
      "\t TCG \t 0.23\n",
      "\t TCA \t 0.63\n",
      "\t TCC \t 0.9\n",
      "\t AGC \t 1.0\n",
      "\t AGT \t 0.62\n",
      "\n",
      "\n",
      "GLY\n",
      "\t GGT \t 0.47\n",
      "\t GGG \t 0.75\n",
      "\t GGA \t 0.73\n",
      "\t GGC \t 1.0\n",
      "\n",
      "\n",
      "GLN\n",
      "\t CAA \t 0.36\n",
      "\t CAG \t 1.0\n",
      "\n",
      "\n",
      "STOP\n",
      "\t TAG \t 0.43\n",
      "\t TGA \t 1.0\n",
      "\t TAA \t 0.53\n",
      "\n",
      "\n",
      "CYS\n",
      "\t TGT \t 0.84\n",
      "\t TGC \t 1.0\n",
      "\n",
      "\n",
      "ALA\n",
      "\t GCA \t 0.56\n",
      "\t GCC \t 1.0\n",
      "\t GCG \t 0.27\n",
      "\t GCT \t 0.64\n",
      "\n",
      "\n",
      "LYS\n",
      "\t AAG \t 1.0\n",
      "\t AAA \t 0.77\n",
      "\n",
      "\n",
      "MET\n",
      "\t ATG \t 1.0\n",
      "\n",
      "\n",
      "TRP\n",
      "\t TGG \t 1.0\n",
      "\n",
      "\n",
      "VAL\n",
      "\t GTA \t 0.25\n",
      "\t GTC \t 0.51\n",
      "\t GTG \t 1.0\n",
      "\t GTT \t 0.39\n",
      "\n",
      "\n",
      "THR\n",
      "\t ACC \t 1.0\n",
      "\t ACA \t 0.81\n",
      "\t ACG \t 0.32\n",
      "\t ACT \t 0.7\n",
      "\n",
      "\n",
      "HIS\n",
      "\t CAT \t 0.72\n",
      "\t CAC \t 1.0\n",
      "\n",
      "\n",
      "PRO\n",
      "\t CCT \t 0.87\n",
      "\t CCG \t 0.36\n",
      "\t CCA \t 0.83\n",
      "\t CCC \t 1.0\n",
      "\n",
      "\n",
      "ASN\n",
      "\t AAC \t 1.0\n",
      "\t AAT \t 0.89\n",
      "\n",
      "\n",
      "LEU\n",
      "\t TTA \t 0.19\n",
      "\t TTG \t 0.32\n",
      "\t CTC \t 0.49\n",
      "\t CTT \t 0.33\n",
      "\t CTG \t 1.0\n",
      "\t CTA \t 0.18\n",
      "\n",
      "\n"
     ]
    }
   ],
   "source": [
    "for aa in SynonymousCodons:\n",
    "    print(aa)\n",
    "    for codon in SynonymousCodons[aa]:\n",
    "        print(\"\\t\", codon, \"\\t\", round(cai.index[codon],2))\n",
    "    print(\"\\n\")"
   ]
  },
  {
   "cell_type": "code",
   "execution_count": 10,
   "metadata": {},
   "outputs": [],
   "source": [
    "codon_usage_dict = {}\n",
    "for aa,codon_val in SynonymousCodons.items(): \n",
    "    for codon in codon_val: \n",
    "        codon_usage_dict[codon] =  [aa,round(cai.index[codon],2)]"
   ]
  },
  {
   "cell_type": "code",
   "execution_count": 12,
   "metadata": {},
   "outputs": [],
   "source": [
    "import pandas as pd"
   ]
  },
  {
   "cell_type": "code",
   "execution_count": 17,
   "metadata": {},
   "outputs": [],
   "source": [
    "codon_usage_df = pd.DataFrame.from_dict(codon_usage_dict,orient=\"index\")\n"
   ]
  },
  {
   "cell_type": "code",
   "execution_count": 29,
   "metadata": {},
   "outputs": [],
   "source": [
    "codon_usage_df = codon_usage_df.rename(columns={0: 'AA',1:\"codon_usage\"})#rename cols https://note.nkmk.me/en/python-pandas-dataframe-rename/"
   ]
  },
  {
   "cell_type": "code",
   "execution_count": 31,
   "metadata": {},
   "outputs": [],
   "source": [
    "codon_usage_df.to_csv(\"codon_usage_df_2022_01_02.csv\")"
   ]
  }
 ],
 "metadata": {
  "kernelspec": {
   "display_name": "Python [conda env:.conda-mutEq]",
   "language": "python",
   "name": "conda-env-.conda-mutEq-py"
  },
  "language_info": {
   "codemirror_mode": {
    "name": "ipython",
    "version": 3
   },
   "file_extension": ".py",
   "mimetype": "text/x-python",
   "name": "python",
   "nbconvert_exporter": "python",
   "pygments_lexer": "ipython3",
   "version": "3.9.6"
  }
 },
 "nbformat": 4,
 "nbformat_minor": 4
}
