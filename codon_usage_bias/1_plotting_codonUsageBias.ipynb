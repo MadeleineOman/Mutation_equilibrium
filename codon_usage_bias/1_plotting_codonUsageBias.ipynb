{
 "cells": [
  {
   "cell_type": "markdown",
   "metadata": {},
   "source": [
    "# ** plotting codon usage bias ** "
   ]
  },
  {
   "cell_type": "code",
   "execution_count": 6,
   "metadata": {},
   "outputs": [],
   "source": [
    "import json \n",
    "import random\n",
    "import numpy as np\n",
    "import matplotlib.pyplot as plt\n",
    "from Bio import SeqIO\n",
    "from datetime import datetime"
   ]
  },
  {
   "cell_type": "code",
   "execution_count": 16,
   "metadata": {},
   "outputs": [],
   "source": [
    "model = json.load(open(\"../Human_mutability_model/Model_2020_12_02_genomeWide.txt\"))\n",
    "\n",
    "SynonymousCodons = {'CYS': ['TGT', 'TGC'], 'ASP': ['GAT', 'GAC'],\n",
    "'SER': ['TCT', 'TCG', 'TCA', 'TCC', 'AGC', 'AGT'],\n",
    "'GLN': ['CAA', 'CAG'], 'MET': ['ATG'], 'ASN': ['AAC', 'AAT'],\n",
    "'PRO': ['CCT', 'CCG', 'CCA', 'CCC'], 'LYS': ['AAG', 'AAA'],\n",
    "'STOP': ['TAG', 'TGA', 'TAA'], 'THR': ['ACC', 'ACA', 'ACG', 'ACT'],\n",
    "'PHE': ['TTT', 'TTC'], 'ALA': ['GCA', 'GCC', 'GCG', 'GCT'],\n",
    "'GLY': ['GGT', 'GGG', 'GGA', 'GGC'], 'ILE': ['ATC', 'ATA', 'ATT'],\n",
    "'LEU': ['TTA', 'TTG', 'CTC', 'CTT', 'CTG', 'CTA'], 'HIS': ['CAT', 'CAC'],\n",
    "'ARG': ['CGA', 'CGC', 'CGG', 'CGT', 'AGG', 'AGA'], 'TRP': ['TGG'],\n",
    "'VAL': ['GTA', 'GTC', 'GTG', 'GTT'], 'GLU': ['GAG', 'GAA'], 'TYR': ['TAT', 'TAC']}\n",
    "\n",
    "get_aa_dict = {}#dictionary that turns codon into aa \n",
    "for key,value in SynonymousCodons.items(): \n",
    "    for codon in value: \n",
    "        get_aa_dict[codon] = key \n",
    "\n",
    "codon_usage_dict = {'AAA': 0.77, 'AAC': 1.0, 'AAG': 1.0, 'AAT': 0.89, 'ACA': 0.81, 'ACC': 1.0, 'ACG': 0.32, 'ACT': 0.7, 'AGA': 1.0, 'AGC': 1.0, 'AGG': 1.0,\n",
    " 'AGT': 0.62, 'ATA': 0.36, 'ATC': 1.0, 'ATG': 1.0, 'ATT': 0.77, 'CAA': 0.36, 'CAC': 1.0, 'CAG': 1.0, 'CAT': 0.72, 'CCA': 0.83, 'CCC': 1.0, 'CCG': 0.36, 'CCT': 0.87,\n",
    " 'CGA': 0.51, 'CGC': 0.88, 'CGG': 0.97, 'CGT': 0.38, 'CTA': 0.18, 'CTC': 0.49, 'CTG': 1.0, 'CTT': 0.33, 'GAA': 0.73, 'GAC': 1.0, 'GAG': 1.0, 'GAT': 0.86, 'GCA': 0.56,\n",
    " 'GCC': 1.0, 'GCG': 0.27, 'GCT': 0.64, 'GGA': 0.73, 'GGC': 1.0, 'GGG': 0.75, 'GGT': 0.47, 'GTA': 0.25, 'GTC': 0.51, 'GTG': 1.0, 'GTT': 0.39, 'TAA': 0.53, 'TAC': 1.0,\n",
    " 'TAG': 0.43, 'TAT': 0.8, 'TCA': 0.63, 'TCC': 0.9, 'TCG': 0.23, 'TCT': 0.77, 'TGA': 1.0, 'TGC': 1.0, 'TGG': 1.0, 'TGT': 0.84, 'TTA': 0.19, 'TTC': 1.0, 'TTG': 0.32, 'TTT': 0.84} \n",
    "# copied form rob notebook "
   ]
  },
  {
   "cell_type": "code",
   "execution_count": 10,
   "metadata": {},
   "outputs": [],
   "source": [
    "# importing dna \n",
    "DNAI = open(\"CodingUsage_DNA_gen0.txt\").readlines()[0]\n",
    "initial_codons = []\n",
    "for i in range(1, len(DNAI), 3): \n",
    "    codon = DNAI[i-1:i+2]\n",
    "    initial_codons.append(codon)"
   ]
  },
  {
   "cell_type": "code",
   "execution_count": 1,
   "metadata": {},
   "outputs": [],
   "source": [
    "nTrial = 10\n",
    "nGen_toUse = 600000\n",
    "DNAF_dict = {}\n",
    "for trial_name in [\"Trial\"+str(n) for n in range(1,nTrial+1)]: \n",
    "    dnaf = open(\"data/CodonUsage_{t}_DNA_final_cds_invariant50_{g}.txt\".format(t=trial_name, g=nGen_toUse)).readlines()[0]\n",
    "    codons = []\n",
    "    for i in range(1, len(dnaf)-1,3): \n",
    "        codon = dnaf[i-1:i+2]\n",
    "        codons.append(codon)\n",
    "    DNAF_dict[trial_name] = [dnaf , codons]"
   ]
  },
  {
   "cell_type": "code",
   "execution_count": 4,
   "metadata": {},
   "outputs": [
    {
     "name": "stdout",
     "output_type": "stream",
     "text": [
      "ACTTATATAA\n",
      "['ATA', 'TTA', 'AAT', 'ATA', 'GTC', 'TTG', 'ATA', 'CTT', 'ATA', 'TAA']\n"
     ]
    }
   ],
   "source": [
    "#shwing that the codon counter worked \n",
    "print(DNAF_dict[\"Trial2\"][0][-10:])\n",
    "print(DNAF_dict[\"Trial2\"][1][-10:])"
   ]
  },
  {
   "cell_type": "code",
   "execution_count": 8,
   "metadata": {},
   "outputs": [],
   "source": [
    "#appending codon counts to dictionary for each trial \n",
    "# each key is a codon, with ntrial entries \n",
    "codon_countf_dict = {}\n",
    "for codon in get_aa_dict.keys(): #all codons are keys \n",
    "    counts_list = []\n",
    "    for trial_name in [\"Trial\"+str(n) for n in range(1,nTrial+1)]:\n",
    "        countf = DNAF_dict[trial_name][1].count(codon)\n",
    "        counts_list.append(countf)\n",
    "\n",
    "    codon_countf_dict[codon] = counts_list"
   ]
  },
  {
   "cell_type": "code",
   "execution_count": 11,
   "metadata": {},
   "outputs": [],
   "source": [
    "codon_counti_dict = {}\n",
    "for codon in get_aa_dict.keys():\n",
    "    counti = initial_codons.count(codon)\n",
    "    codon_counti_dict[codon] = counti"
   ]
  },
  {
   "cell_type": "code",
   "execution_count": 12,
   "metadata": {},
   "outputs": [
    {
     "data": {
      "text/plain": [
       "{'AAA': [1751, 1683, 1672, 1792, 1680, 1673, 1704, 1671, 1765, 1711],\n",
       " 'AAC': [810, 779, 780, 817, 762, 753, 777, 795, 781, 780],\n",
       " 'AAG': [1112, 1103, 1133, 1074, 1122, 1061, 1136, 1158, 1118, 1146],\n",
       " 'AAT': [1074, 1081, 1083, 1066, 1095, 1055, 1142, 1081, 1041, 1071],\n",
       " 'ACA': [1022, 998, 1065, 994, 996, 977, 1026, 954, 1051, 1021],\n",
       " 'ACC': [416, 423, 407, 422, 419, 441, 415, 417, 448, 443],\n",
       " 'ACG': [171, 169, 174, 187, 157, 183, 182, 175, 169, 185],\n",
       " 'ACT': [869, 930, 904, 882, 940, 921, 894, 911, 920, 899],\n",
       " 'AGA': [761, 802, 770, 741, 768, 800, 741, 785, 757, 821],\n",
       " 'AGC': [475, 452, 470, 440, 447, 496, 453, 481, 455, 453],\n",
       " 'AGG': [346, 361, 391, 380, 356, 400, 343, 362, 355, 383],\n",
       " 'AGT': [851, 951, 943, 936, 901, 933, 887, 947, 928, 909],\n",
       " 'ATA': [843, 856, 837, 835, 840, 818, 851, 860, 842, 784],\n",
       " 'ATC': [541, 511, 529, 539, 550, 546, 528, 500, 479, 516],\n",
       " 'ATG': [679, 669, 668, 689, 645, 668, 674, 700, 711, 657],\n",
       " 'ATT': [968, 1002, 937, 991, 962, 1014, 901, 975, 1008, 978],\n",
       " 'CAA': [1183, 1110, 1156, 1137, 1206, 1100, 1128, 1161, 1153, 1234],\n",
       " 'CAC': [503, 525, 510, 503, 503, 548, 513, 534, 499, 507],\n",
       " 'CAG': [701, 671, 672, 639, 695, 673, 661, 662, 668, 673],\n",
       " 'CAT': [684, 704, 733, 685, 688, 662, 711, 709, 718, 723],\n",
       " 'CCA': [565, 550, 612, 602, 550, 560, 587, 567, 559, 589],\n",
       " 'CCC': [302, 304, 315, 288, 305, 280, 272, 315, 294, 286],\n",
       " 'CCG': [151, 151, 142, 153, 159, 160, 155, 142, 152, 152],\n",
       " 'CCT': [429, 423, 435, 450, 420, 421, 431, 448, 465, 438],\n",
       " 'CGA': [111, 123, 116, 104, 113, 125, 106, 117, 117, 101],\n",
       " 'CGC': [81, 75, 78, 75, 76, 76, 78, 83, 76, 79],\n",
       " 'CGG': [81, 73, 77, 91, 83, 84, 82, 74, 81, 80],\n",
       " 'CGT': [134, 124, 131, 130, 133, 120, 107, 143, 132, 127],\n",
       " 'CTA': [603, 609, 597, 601, 598, 622, 615, 591, 605, 616],\n",
       " 'CTC': [395, 379, 390, 332, 387, 365, 381, 390, 354, 378],\n",
       " 'CTG': [552, 536, 515, 560, 528, 531, 546, 579, 546, 563],\n",
       " 'CTT': [747, 714, 745, 767, 772, 760, 778, 784, 767, 760],\n",
       " 'GAA': [991, 1014, 964, 949, 1023, 1030, 964, 982, 942, 999],\n",
       " 'GAC': [512, 475, 497, 457, 474, 492, 483, 458, 488, 466],\n",
       " 'GAG': [690, 697, 718, 689, 662, 702, 683, 685, 711, 644],\n",
       " 'GAT': [605, 615, 611, 621, 629, 642, 604, 614, 579, 625],\n",
       " 'GCA': [520, 561, 504, 518, 518, 519, 498, 533, 507, 508],\n",
       " 'GCC': [263, 232, 261, 257, 270, 269, 248, 268, 264, 263],\n",
       " 'GCG': [120, 112, 113, 114, 120, 128, 121, 119, 113, 117],\n",
       " 'GCT': [457, 442, 484, 492, 488, 452, 436, 474, 451, 456],\n",
       " 'GGA': [374, 384, 355, 361, 376, 388, 407, 371, 389, 378],\n",
       " 'GGC': [254, 248, 268, 247, 244, 237, 230, 250, 236, 223],\n",
       " 'GGG': [229, 216, 209, 257, 229, 219, 237, 201, 207, 225],\n",
       " 'GGT': [380, 342, 375, 375, 363, 383, 413, 409, 369, 394],\n",
       " 'GTA': [631, 671, 651, 630, 642, 624, 640, 629, 610, 676],\n",
       " 'GTC': [428, 419, 472, 438, 470, 415, 440, 460, 439, 436],\n",
       " 'GTG': [585, 612, 560, 625, 592, 612, 588, 609, 620, 585],\n",
       " 'GTT': [787, 735, 781, 764, 793, 761, 797, 774, 748, 736],\n",
       " 'TAA': [1, 1, 1, 1, 1, 1, 1, 1, 1, 1],\n",
       " 'TAC': [558, 483, 517, 531, 514, 531, 526, 523, 566, 553],\n",
       " 'TAG': [0, 0, 0, 0, 0, 0, 0, 0, 0, 0],\n",
       " 'TAT': [755, 718, 720, 745, 726, 736, 747, 716, 721, 739],\n",
       " 'TCA': [780, 867, 782, 814, 819, 802, 816, 829, 758, 792],\n",
       " 'TCC': [335, 355, 361, 362, 399, 340, 350, 325, 353, 335],\n",
       " 'TCG': [113, 104, 89, 107, 105, 106, 94, 102, 100, 107],\n",
       " 'TCT': [681, 703, 683, 692, 676, 673, 727, 669, 701, 679],\n",
       " 'TGA': [0, 0, 0, 0, 0, 0, 0, 0, 0, 0],\n",
       " 'TGC': [406, 390, 371, 371, 372, 411, 368, 368, 395, 363],\n",
       " 'TGG': [512, 503, 488, 492, 459, 520, 498, 476, 469, 513],\n",
       " 'TGT': [764, 789, 770, 709, 784, 760, 737, 703, 712, 726],\n",
       " 'TTA': [885, 903, 897, 917, 872, 913, 919, 881, 887, 920],\n",
       " 'TTC': [519, 585, 549, 592, 579, 580, 591, 533, 595, 579],\n",
       " 'TTG': [816, 794, 815, 788, 826, 773, 807, 828, 825, 778],\n",
       " 'TTT': [1130, 1181, 1139, 1175, 1111, 1147, 1217, 1131, 1222, 1113]}"
      ]
     },
     "execution_count": 12,
     "metadata": {},
     "output_type": "execute_result"
    }
   ],
   "source": [
    "codon_countf_dict"
   ]
  },
  {
   "cell_type": "code",
   "execution_count": 17,
   "metadata": {},
   "outputs": [],
   "source": [
    "change_mean = []\n",
    "change_se = []\n",
    "codons = []\n",
    "codon_usage = []\n",
    "for key,value in codon_countf_dict.items(): \n",
    "    counti = codon_counti_dict[key]\n",
    "    change_list = []\n",
    "    for count in value: \n",
    "        if counti != 0:\n",
    "            change = (count - counti)/counti\n",
    "            change_list.append(change)\n",
    "        if counti == 0: \n",
    "            change = (count - counti)\n",
    "            change_list.append(change)\n",
    "    \n",
    "    codons.append(key)\n",
    "    change_mean.append(round(np.mean(change_list),2))\n",
    "    change_se.append(round(np.std(change_list)/np.sqrt(nTrial),2))\n",
    "    codon_usage.append(codon_usage_dict[key])"
   ]
  },
  {
   "cell_type": "code",
   "execution_count": 19,
   "metadata": {},
   "outputs": [],
   "source": [
    "plt.style.use(\"seaborn-ticks\")"
   ]
  },
  {
   "cell_type": "code",
   "execution_count": 29,
   "metadata": {},
   "outputs": [
    {
     "data": {
      "image/png": "[encoded data removed]",
      "text/plain": [
       "<matplotlib.figure.Figure at 0x7f8bc1f34a58>"
      ]
     },
     "metadata": {},
     "output_type": "display_data"
    }
   ],
   "source": [
    "plt.scatter(codon_usage, change_mean)\n",
    "plt.axhline(y = 0, linewidth = 0.25, color = \"k\")\n",
    "plt.errorbar(codon_usage, change_mean, yerr = np.array(change_se), ecolor = \"grey\", ls = \"None\")\n",
    "plt.title(\"Codon usage vs chnage \\n randomized sysnonymous codons in 100kbp cds\")\n",
    "plt.ylabel(\"Codon chnage\")\n",
    "plt.xlabel(\"Codon usage\")\n",
    "plt.show()\n",
    "# timestamp = datetime.now().strftime(\"%Y/%m/%d_%H:%M\").replace(\"/\", \"_\").replace(\":\", \"_\") \n",
    "# plt.savefig(\"plots/Codon-Usage_{d}_proportional_change.png\".format(d=timestamp))"
   ]
  },
  {
   "cell_type": "markdown",
   "metadata": {},
   "source": [
    "** now lets try mutability ** "
   ]
  },
  {
   "cell_type": "code",
   "execution_count": 25,
   "metadata": {},
   "outputs": [],
   "source": [
    "muts = []\n",
    "for codon_key in codon_countf_dict.keys(): \n",
    "    muts.append(model[codon_key][0])"
   ]
  },
  {
   "cell_type": "code",
   "execution_count": 30,
   "metadata": {},
   "outputs": [
    {
     "data": {
      "image/png": "[encoded data removed]",
      "text/plain": [
       "<matplotlib.figure.Figure at 0x7f8bc1f507f0>"
      ]
     },
     "metadata": {},
     "output_type": "display_data"
    }
   ],
   "source": [
    "plt.scatter(codon_usage, muts)\n",
    "plt.axhline(y = 0, linewidth = 0.25, color = \"k\")\n",
    "plt.title(\"Codon usage vs mutability \\n randomized sysnonymous codons in 100kbp cds\")\n",
    "plt.ylabel(\"Mutability\")\n",
    "plt.xlabel(\"Codon usage\")\n",
    "plt.ylim(0, max(muts)+0.00005)\n",
    "plt.show()\n",
    "# timestamp = datetime.now().strftime(\"%Y/%m/%d_%H:%M\").replace(\"/\", \"_\").replace(\":\", \"_\") \n",
    "# plt.savefig(\"plots/Codon-Usage_{d}_mutability.png\".format(d=timestamp))"
   ]
  }
 ],
 "metadata": {
  "kernelspec": {
   "display_name": "Python 3",
   "language": "python",
   "name": "python3"
  },
  "language_info": {
   "codemirror_mode": {
    "name": "ipython",
    "version": 3
   },
   "file_extension": ".py",
   "mimetype": "text/x-python",
   "name": "python",
   "nbconvert_exporter": "python",
   "pygments_lexer": "ipython3",
   "version": "3.8.5"
  }
 },
 "nbformat": 4,
 "nbformat_minor": 4
}
