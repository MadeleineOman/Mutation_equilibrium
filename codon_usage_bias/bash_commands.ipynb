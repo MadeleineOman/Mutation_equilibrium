{
 "cells": [
  {
   "cell_type": "markdown",
   "metadata": {},
   "source": [
    "** 2021 01 06 redoing the codon usage trial with the updated mutability model ** "
   ]
  },
  {
   "cell_type": "code",
   "execution_count": null,
   "metadata": {},
   "outputs": [],
   "source": [
    "parallel -j 10 -i sh -c \"python3.5 Script_reuse_DNAoutput_every_100kgen-Copy1.py CodonUsage_Trial{} 800000 CodingUsage_DNA_gen0.txt CodingUsage_DNA_map.txt\" -- {1..10}  "
   ]
  },
  {
   "cell_type": "markdown",
   "metadata": {},
   "source": [
    "** 2021 01 06 redoing the codon usage trial with the updated mutability model--> low coverage countign muts  ** "
   ]
  },
  {
   "cell_type": "code",
   "execution_count": null,
   "metadata": {},
   "outputs": [],
   "source": [
    "parallel -j 10 -i sh -c \"python3.5 Script_reuse_DNAoutput_every_100kgen_countMuts.py LowCov_Trial{} 10000 CodingUsage_DNA_gen0.txt CodingUsage_DNA_map.txt\" -- {1..10}  "
   ]
  },
  {
   "cell_type": "markdown",
   "metadata": {},
   "source": [
    "** 2021 02 07 redoing codon usage with mult smaller exons (not one long one) ** "
   ]
  },
  {
   "cell_type": "code",
   "execution_count": null,
   "metadata": {},
   "outputs": [],
   "source": [
    "while read name; do python3.5 Script_reuse_DNAoutputFinal_countMuts_multExons_coverageInput.py CodingUsage_cds\"$name\"_Trial{} 6 data/redo_multDif_exons_2021_02_07/CodingUsage_cds\"$name\"_DNA_gen0.txt  data/redo_multDif_exons_2021_02_07/CodingUsage_cds\"$name\"_MAP.txt; done < data/redo_multDif_exons_2021_02_07/cdsNames_list.txt\n",
    "# ok this one works, now lets do 10 trails "
   ]
  },
  {
   "cell_type": "code",
   "execution_count": null,
   "metadata": {},
   "outputs": [],
   "source": [
    "while read name; do parallel -j 10 -i sh -c \"python3.5 Script_reuse_DNAoutputFinal_countMuts_multExons_coverageInput.py CodingUsage_cds\"$name\"_Trial{} 6 data/redo_multDif_exons_2021_02_07/CodingUsage_cds\"$name\"_DNA_gen0.txt  data/redo_multDif_exons_2021_02_07/CodingUsage_cds\"$name\"_MAP.txt\" -- {1..10}; done < data/redo_multDif_exons_2021_02_07/cdsNames_list.txt\n",
    "# while bash loop for iterating through the file \"data/redo_multDif_exons_2021_02_07/cdsNames_list.txt\" that contaisn the exon names\n",
    "#sys_argv[1] = CodingUsage_cds\"$name\"_Trial{}\n",
    "#sys_argv[2] = its 6x coverage \n",
    "# the file paths for dna_gen0 and map to use must be written but have the \"$name\" in them \n",
    "#<file.txt is the cdsNmes file that the loop is iterating through "
   ]
  }
 ],
 "metadata": {
  "kernelspec": {
   "display_name": "Python 3 (ipykernel)",
   "language": "python",
   "name": "python3"
  },
  "language_info": {
   "codemirror_mode": {
    "name": "ipython",
    "version": 3
   },
   "file_extension": ".py",
   "mimetype": "text/x-python",
   "name": "python",
   "nbconvert_exporter": "python",
   "pygments_lexer": "ipython3",
   "version": "3.9.6"
  }
 },
 "nbformat": 4,
 "nbformat_minor": 4
}
