{
 "cells": [
  {
   "cell_type": "code",
   "execution_count": 1,
   "metadata": {},
   "outputs": [
    {
     "name": "stdout",
     "output_type": "stream",
     "text": [
      "--2020-07-03 20:07:41--  ftp://ftp.ensembl.org/pub/release-100/gff3/homo_sapiens/Homo_sapiens.GRCh38.100.chromosome.1.gff3.gz\n",
      "           => “Homo_sapiens.GRCh38.100.chromosome.1.gff3.gz”\n",
      "Resolving ftp.ensembl.org... 193.62.193.139\n",
      "Connecting to ftp.ensembl.org|193.62.193.139|:21... connected.\n",
      "Logging in as anonymous ... Logged in!\n",
      "==> SYST ... done.    ==> PWD ... done.\n",
      "==> TYPE I ... done.  ==> CWD (1) /pub/release-100/gff3/homo_sapiens ... done.\n",
      "==> SIZE Homo_sapiens.GRCh38.100.chromosome.1.gff3.gz ... 3806490\n",
      "==> PASV ... done.    ==> RETR Homo_sapiens.GRCh38.100.chromosome.1.gff3.gz ... done.\n",
      "Length: 3806490 (3.6M) (unauthoritative)\n",
      "\n",
      "100%[======================================>] 3,806,490   1000K/s   in 4.1s    \n",
      "\n",
      "2020-07-03 20:07:47 (898 KB/s) - “Homo_sapiens.GRCh38.100.chromosome.1.gff3.gz” saved [3806490]\n",
      "\n"
     ]
    }
   ],
   "source": [
    "!wget ftp://ftp.ensembl.org/pub/release-100/gff3/homo_sapiens/Homo_sapiens.GRCh38.100.chromosome.1.gff3.gz"
   ]
  },
  {
   "cell_type": "code",
   "execution_count": 4,
   "metadata": {},
   "outputs": [
    {
     "name": "stdout",
     "output_type": "stream",
     "text": [
      "1\t.\tbiological_region\t10650\t10657\t0.999\t+\t.\tlogic_name=eponine\n",
      "1\t.\tbiological_region\t10655\t10657\t0.999\t-\t.\tlogic_name=eponine\n",
      "1\t.\tbiological_region\t10678\t10687\t0.999\t+\t.\tlogic_name=eponine\n",
      "1\t.\tbiological_region\t10681\t10688\t0.999\t-\t.\tlogic_name=eponine\n",
      "1\t.\tbiological_region\t10707\t10716\t0.999\t+\t.\tlogic_name=eponine\n",
      "1\t.\tbiological_region\t10708\t10718\t0.999\t-\t.\tlogic_name=eponine\n",
      "1\t.\tbiological_region\t10735\t10747\t0.999\t-\t.\tlogic_name=eponine\n",
      "1\t.\tbiological_region\t10737\t10744\t0.999\t+\t.\tlogic_name=eponine\n",
      "1\t.\tbiological_region\t10766\t10773\t0.999\t+\t.\tlogic_name=eponine\n",
      "1\t.\tbiological_region\t10770\t10779\t0.999\t-\t.\tlogic_name=eponine\n",
      "1\t.\tbiological_region\t10796\t10801\t0.999\t+\t.\tlogic_name=eponine\n",
      "1\t.\tbiological_region\t10810\t10819\t0.999\t-\t.\tlogic_name=eponine\n",
      "1\t.\tbiological_region\t10870\t10872\t0.999\t+\t.\tlogic_name=eponine\n",
      "1\t.\tbiological_region\t10889\t10893\t0.999\t-\t.\tlogic_name=eponine\n",
      "1\thavana\tpseudogene\t11869\t14409\t.\t+\t.\tID=gene:ENSG00000223972;Name=DDX11L1;biotype=transcribed_unprocessed_pseudogene;description=DEAD/H-box helicase 11 like 1 [Source:HGNC Symbol%3BAcc:HGNC:37102];gene_id=ENSG00000223972;logic_name=havana_homo_sapiens;version=5\n",
      "1\thavana\tlnc_RNA\t11869\t14409\t.\t+\t.\tID=transcript:ENST00000456328;Parent=gene:ENSG00000223972;Name=DDX11L1-202;biotype=processed_transcript;tag=basic;transcript_id=ENST00000456328;transcript_support_level=1;version=2\n",
      "1\thavana\texon\t11869\t12227\t.\t+\t.\tParent=transcript:ENST00000456328;Name=ENSE00002234944;constitutive=0;ensembl_end_phase=-1;ensembl_phase=-1;exon_id=ENSE00002234944;rank=1;version=1\n",
      "1\thavana\texon\t12613\t12721\t.\t+\t.\tParent=transcript:ENST00000456328;Name=ENSE00003582793;constitutive=0;ensembl_end_phase=-1;ensembl_phase=-1;exon_id=ENSE00003582793;rank=2;version=1\n",
      "1\thavana\texon\t13221\t14409\t.\t+\t.\tParent=transcript:ENST00000456328;Name=ENSE00002312635;constitutive=0;ensembl_end_phase=-1;ensembl_phase=-1;exon_id=ENSE00002312635;rank=3;version=1\n",
      "1\thavana\tpseudogenic_transcript\t12010\t13670\t.\t+\t.\tID=transcript:ENST00000450305;Parent=gene:ENSG00000223972;Name=DDX11L1-201;biotype=transcribed\n",
      "gzip: _unprocessed_pseudogene;tag=basic;transcript_id=ENST00000450305;transcript_support_level=NA;version=2\n",
      "stdout: Broken pipe\n"
     ]
    }
   ],
   "source": [
    "!zcat Homo_sapiens.GRCh38.100.chromosome.1.gff3.gz | head -n 30 | tail -n 20 "
   ]
  },
  {
   "cell_type": "code",
   "execution_count": 5,
   "metadata": {},
   "outputs": [
    {
     "name": "stdout",
     "output_type": "stream",
     "text": [
      "--2020-07-03 20:13:37--  ftp://ftp.ncbi.nlm.nih.gov/refseq/H_sapiens/annotation/GRCh38_latest/refseq_identifiers/GRCh38_latest_protein.faa.gz\n",
      "           => “GRCh38_latest_protein.faa.gz”\n",
      "Resolving ftp.ncbi.nlm.nih.gov... 130.14.250.12, 2607:f220:41e:250::11, 2607:f220:41e:250::12, ...\n",
      "Connecting to ftp.ncbi.nlm.nih.gov|130.14.250.12|:21... connected.\n",
      "Logging in as anonymous ... Logged in!\n",
      "==> SYST ... done.    ==> PWD ... done.\n",
      "==> TYPE I ... done.  ==> CWD (1) /refseq/H_sapiens/annotation/GRCh38_latest/refseq_identifiers ... done.\n",
      "==> SIZE GRCh38_latest_protein.faa.gz ... 26197132\n",
      "==> PASV ... done.    ==> RETR GRCh38_latest_protein.faa.gz ... done.\n",
      "Length: 26197132 (25M) (unauthoritative)\n",
      "\n",
      "100%[======================================>] 26,197,132  8.13M/s   in 3.1s    \n",
      "\n",
      "2020-07-03 20:13:41 (8.13 MB/s) - “GRCh38_latest_protein.faa.gz” saved [26197132]\n",
      "\n"
     ]
    }
   ],
   "source": [
    "!wget ftp://ftp.ncbi.nlm.nih.gov/refseq/H_sapiens/annotation/GRCh38_latest/refseq_identifiers/GRCh38_latest_protein.faa.gz"
   ]
  },
  {
   "cell_type": "code",
   "execution_count": 15,
   "metadata": {},
   "outputs": [
    {
     "name": "stdout",
     "output_type": "stream",
     "text": [
      ">NP_000005.3 alpha-2-macroglobulin isoform a precursor [Homo sapiens]\n",
      "MGKNKLLHPSLVLLLLVLLPTDASVSGKPQYMVLVPSLLHTETTEKGCVLLSYLNETVTVSASLESVRGNRSLFTDLEAE\n",
      "NDVLHCVAFAVPKSSSNEEVMFLTVQVKGPTQEFKKRTTVMVKNEDSLVFVQTDKSIYKPGQTVKFRVVSMDENFHPLNE\n",
      "LIPLVYIQDPKGNRIAQWQSFQLEGGLKQFSFPLSSEPFQGSYKVVVQKKSGGRTEHPFTVEEFVLPKFEVQVTVPKIIT\n",
      "ILEEEMNVSVCGLYTYGKPVPGHVTVSICRKYSDASDCHGEDSQAFCEKFSGQLNSHGCFYQQVKTKVFQLKRKEYEMKL\n",
      "HTEAQIQEEGTVVELTGRQSSEITRTITKLSFVKVDSHFRQGIPFFGQVRLVDGKGVPIPNKVIFIRGNEANYYSNATTD\n",
      "EHGLVQFSINTTNVMGTSLTVRVNYKDRSPCYGYQWVSEEHEEAHHTAYLVFSPSKSFVHLEPMSHELPCGHTQTVQAHY\n",
      "ILNGGTLLGLKKLSFYYLIMAKGGIVRTGTHGLLVKQEDMKGHFSISIPVKSDIAPVARLLIYAVLPTGDVIGDSAKYDV\n",
      "ENCLANKVDLSFSPSQSLPASHAHLRVTAAPQSVCALRAVDQSVLLMKPDAELSASSVYNLLPEKDLTGFPGPLNDQDNE\n",
      "DCINRHNVYINGITYTPVSSTNEKDMYSFLEDMGLKAFTNSKIRKPKMCPQLQQYEMHGPEGLRVGFYESDVMGRGHARL\n",
      "VHVEEPHTETVRKYFPETWIWDLVVVNSAGVAEVGVTVPDTITEWKAGAFCLSEDAGLGISSTASLRAFQPFFVELTMPY\n",
      "SVIRGEAFTLKATVLNYLPKCIRVSVQLEASPAFLAVPVEKEQAPHCICANGRQTVSWAVTPKSLGNVNFTVSAEALESQ\n",
      "ELCGTEVPSVPEHGRKDTVIKPLLVEPEGLEKETTFNSLLCPSGGEVSEELSLKLPPNVVEESARASVSVLGDILGSAMQ\n",
      "NTQNLLQMPYGCGEQNMVLFAPNIYVLDYLNETQQLTPEIKSKAIGYLNTGYQRQLNYKHYDGSYSTFGERYGRNQGNTW\n",
      "LTAFVLKTFAQARAYIFIDEAHITQALIWLSQRQKDNGCFRSSGSLLNNAIKGGVEDEVTLSAYITIALLEIPLTVTHPV\n",
      "VRNALFCLESAWKTAQEGDHGSHVYTKALLAYAFALAGNQDKRKEVLKSLNEEAVKKDNSVHWERPQKPKAPVGHFYEPQ\n",
      "APSAEVEMTSYVLLAYLTAQPAPTSEDLTSATNIVKWITKQQNAQGGFSSTQDTVVALHALSKYGAATFTRTGKAAQVTI\n",
      "QSSGTFSSKFQVDNNNRLLLQQVSLPELPGEYSMKVTGEGCVYLQTSLKYNILPEKEEFPFALGVQTLPQTCDEPKAHTS\n",
      "FQISLSVSYTGSRSASNMAIVDVKMVSGFIPLKPTVKMLERSNHVSRTEVSSNHVLIYLDKVSNQTLSLFFTVLQDVPVR\n",
      "DLKPAIVKVYDYYETDEFAIAEYNAPCSKDLGNA\n",
      ">NP_000006.2 arylamine N-acetyltransferase 2 [Homo sapiens]\n",
      "MDIEAYFERIGYKNSRNKLDLETLTDILEHQIRAVPFENLNMHCGQAMELGLEAIFDHIVRRNRGGWCLQVNQLLYWALT\n",
      "TIGFQTTMLGGYFYIPPVNKYSTGMVHLLLQVTIDGRNYIVDAGSGSSSQMWQPLELISGKDQPQVPCIFCLTEERGIWY\n",
      "LDQIRREQYITNKEFLNSHLLPKKKHQKIYLFTLEPRTIEDFESMNTYLQTSPTSSFITTSFCSLQTPEGVYCLVGFILT\n",
      "YRKFNYKDNTDLVEFKTLTEEEVEEVLRNIFKISLGRNLVPKPGDGSLTI\n",
      ">NP_000007.1 medium-chain specific acyl-CoA dehydrogenase, mitochondrial isoform a precursor [Homo sapiens]\n",
      "MAAGFGRCCRVLRSISRFHWRSQHTKANRQREPGLGFSFEFTEQQKEFQATARKFAREEIIPVAAEYDKTGEYPVPLIRR\n",
      "AWELGLMNTHIPENCGGLGLGTFDACLISEELAYGCTGVQTAIEGNSLGQMPIIIAGNDQQKKKYLGRMTEEPLMCAYCV\n",
      "TEPGAGSDVAGIKTKAEKKGDEYIINGQKMWITNGGKANWYFLLARSDPDPKAPANKAFTGFIVEADTPGIQIGRKELNM\n",
      "GQRCSDTRGIVFEDVKVPKENVLIGDGAGFKVAMGAFDKTRPVVAAGAVGLAQRALDEATKYALERKTFGKLLVEHQAIS\n",
      "FMLAEMAMKVELARMSYQRAAWEVDSGRRNTYYASIAKAFAGDIANQLATDAVQILGGNGFNTEYPVEKLMRDAKIYQIY\n",
      "EGTSQIQRLIVAREHIDKYKN\n",
      ">NP_000008.1 short-chain specific acyl-CoA dehydrogenase, mitochondrial isoform 1 precursor [Homo sapiens]\n",
      "MAAALLARASGPARRALCPRAWRQLHTIYQSVELPETHQMLLQTCRDFAEKELFPIAAQVDKEHLFPAAQVKKMGGLGLL\n",
      "AMDVPEELGGAGLDYLAYAIAMEEISRGCASTGVIMSVNNSLYLGPILKFGSKEQKQAWVTPFTSGDKIGCFALSEPGNG\n",
      "SDAGAASTTARAEGDSWVLNGTKAWITNAWEASAAVVFASTDRALQNKGISAFLVPMPTPGLTLGKKEDKLGIRGSSTAN\n",
      "LIFEDCRIPKDSILGEPGMGFKIAMQTLDMGRIGIASQALGIAQTALDCAVNYAENRMAFGAPLTKLQVIQFKLADMALA\n",
      "LESARLLTWRAAMLKDNKKPFIKEAAMAKLAASEAATAISHQAIQILGGMGYVTEMPAERHYRDARITEIYEGTSEIQRL\n",
      "VIAGHLLRSYRS\n",
      ">NP_000009.1 very long-chain specific acyl-CoA dehydrogenase, mitochondrial isoform 1 precursor [Homo sapiens]\n",
      "\n",
      "gzip: stdout: Broken pipe\n"
     ]
    }
   ],
   "source": [
    "!zcat GRCh38_latest_protein.faa.gz | head -n 40"
   ]
  },
  {
   "cell_type": "code",
   "execution_count": 10,
   "metadata": {},
   "outputs": [],
   "source": [
    "from Bio import SeqIO"
   ]
  },
  {
   "cell_type": "code",
   "execution_count": 11,
   "metadata": {},
   "outputs": [],
   "source": [
    "HumanHg38_fileObj = open(\"GRCh38_latest_protein.faa.gz\")"
   ]
  },
  {
   "cell_type": "code",
   "execution_count": 19,
   "metadata": {},
   "outputs": [
    {
     "name": "stdout",
     "output_type": "stream",
     "text": [
      "--2020-07-04 15:50:34--  ftp://ftp.ensembl.org//pub/release-100/fasta/homo_sapiens/cds/Homo_sapiens.GRCh38.cds.all.fa.gz\n",
      "           => “Homo_sapiens.GRCh38.cds.all.fa.gz”\n",
      "Resolving ftp.ensembl.org... 193.62.197.76\n",
      "Connecting to ftp.ensembl.org|193.62.197.76|:21... connected.\n",
      "Logging in as anonymous ... Logged in!\n",
      "==> SYST ... done.    ==> PWD ... done.\n",
      "==> TYPE I ... done.  ==> CWD (1) /pub/release-100/fasta/homo_sapiens/cds ... done.\n",
      "==> SIZE Homo_sapiens.GRCh38.cds.all.fa.gz ... 21728421\n",
      "==> PASV ... ^C\n"
     ]
    }
   ],
   "source": [
    "!wget ftp://ftp.ensembl.org//pub/release-100/fasta/homo_sapiens/cds/Homo_sapiens.GRCh38.cds.all.fa.gz"
   ]
  },
  {
   "cell_type": "code",
   "execution_count": 22,
   "metadata": {},
   "outputs": [
    {
     "name": "stdout",
     "output_type": "stream",
     "text": [
      "--2020-07-04 16:00:14--  ftp://ftp.ensembl.org/pub/release-100/fasta/homo_sapiens/cds/README\n",
      "           => “README”\n",
      "Resolving ftp.ensembl.org... 193.62.197.76\n",
      "Connecting to ftp.ensembl.org|193.62.197.76|:21... connected.\n",
      "Logging in as anonymous ... Logged in!\n",
      "==> SYST ... done.    ==> PWD ... done.\n",
      "==> TYPE I ... done.  ==> CWD (1) /pub/release-100/fasta/homo_sapiens/cds ... done.\n",
      "==> SIZE README ... 1901\n",
      "==> PASV ... done.    ==> RETR README ... ^C\n"
     ]
    }
   ],
   "source": [
    "!wget ftp://ftp.ensembl.org/pub/release-100/fasta/homo_sapiens/cds/README"
   ]
  },
  {
   "cell_type": "code",
   "execution_count": 21,
   "metadata": {},
   "outputs": [
    {
     "name": "stdout",
     "output_type": "stream",
     "text": [
      ">ENST00000390569.1 cds chromosome:GRCh38:14:105883903:105883922:-1 gene:ENSG00000211909.1 gene_biotype:IG_D_gene transcript_biotype:IG_D_gene gene_symbol:IGHD5-24 description:immunoglobulin heavy diversity 5-24 (non-functional) [Source:HGNC Symbol;Acc:HGNC:5510]\n",
      "GTAGAGATGGCTACAATTAC\n",
      ">ENST00000437320.1 cds chromosome:GRCh38:14:105884870:105884888:-1 gene:ENSG00000227196.1 gene_biotype:IG_D_gene transcript_biotype:IG_D_gene gene_symbol:IGHD4-23 description:immunoglobulin heavy diversity 4-23 (non-functional) [Source:HGNC Symbol;Acc:HGNC:5504]\n",
      "TGACTACGGTGGTAACTCC\n",
      ">ENST00000390571.1 cds chromosome:GRCh38:14:105886031:105886061:-1 gene:ENSG00000211911.1 gene_biotype:IG_D_gene transcript_biotype:IG_D_gene gene_symbol:IGHD3-22 description:immunoglobulin heavy diversity 3-22 [Source:HGNC Symbol;Acc:HGNC:5497]\n",
      "GTATTACTATGATAGTAGTGGTTATTACTAC\n",
      ">ENST00000390572.1 cds chromosome:GRCh38:14:105888551:105888578:-1 gene:ENSG00000211912.1 gene_biotype:IG_D_gene transcript_biotype:IG_D_gene gene_symbol:IGHD2-21 description:immunoglobulin heavy diversity 2-21 [Source:HGNC Symbol;Acc:HGNC:5491]\n",
      "AGCATATTGTGGTGGTGACTGCTATTCC\n",
      ">ENST00000390575.1 cds chromosome:GRCh38:14:105893542:105893561:-1 gene:ENSG00000211915.1 gene_biotype:IG_D_gene transcript_biotype:IG_D_gene gene_symbol:IGHD5-18 description:immunoglobulin heavy diversity 5-18 [Source:HGNC Symbol;Acc:HGNC:5509]\n",
      "GTGGATACAGCTATGGTTAC\n",
      "\n",
      "gzip: stdout: Broken pipe\n"
     ]
    }
   ],
   "source": [
    "!zcat Homo_sapiens.GRCh38.cds.all.fa.gz | head -n 100 | tail -n 10 "
   ]
  },
  {
   "cell_type": "code",
   "execution_count": 36,
   "metadata": {},
   "outputs": [],
   "source": [
    "! gzip -d Homo_sapiens.GRCh38.cds.all.fa.gz"
   ]
  },
  {
   "cell_type": "code",
   "execution_count": 86,
   "metadata": {},
   "outputs": [],
   "source": [
    "file_obj_cds = open(\"Homo_sapiens.GRCh38.cds.all.fa\")"
   ]
  },
  {
   "cell_type": "code",
   "execution_count": 87,
   "metadata": {},
   "outputs": [],
   "source": [
    "cds_dict = {}\n",
    "for gene in SeqIO.parse(file_obj_cds, \"fasta\"): \n",
    "    if len(gene.seq) >= 4000: \n",
    "        cds_dict[gene.id] = gene.seq"
   ]
  },
  {
   "cell_type": "code",
   "execution_count": 88,
   "metadata": {},
   "outputs": [
    {
     "data": {
      "text/plain": [
       "3663"
      ]
     },
     "execution_count": 88,
     "metadata": {},
     "output_type": "execute_result"
    }
   ],
   "source": [
    "len(cds_dict)"
   ]
  },
  {
   "cell_type": "code",
   "execution_count": 50,
   "metadata": {},
   "outputs": [
    {
     "name": "stdout",
     "output_type": "stream",
     "text": [
      "0\n"
     ]
    }
   ],
   "source": [
    "print(count)"
   ]
  },
  {
   "cell_type": "code",
   "execution_count": 42,
   "metadata": {},
   "outputs": [
    {
     "data": {
      "text/plain": [
       "[]"
      ]
     },
     "execution_count": 42,
     "metadata": {},
     "output_type": "execute_result"
    }
   ],
   "source": [
    "lengths[0:50]"
   ]
  },
  {
   "cell_type": "code",
   "execution_count": 60,
   "metadata": {},
   "outputs": [],
   "source": [
    "cds_readlines = file_obj_cds.readlines()"
   ]
  },
  {
   "cell_type": "code",
   "execution_count": 52,
   "metadata": {},
   "outputs": [
    {
     "ename": "SyntaxError",
     "evalue": "invalid syntax (<ipython-input-52-bd19ae08baf2>, line 1)",
     "output_type": "error",
     "traceback": [
      "\u001b[0;36m  File \u001b[0;32m\"<ipython-input-52-bd19ae08baf2>\"\u001b[0;36m, line \u001b[0;32m1\u001b[0m\n\u001b[0;31m    if cds_readlines not in:\u001b[0m\n\u001b[0m                           ^\u001b[0m\n\u001b[0;31mSyntaxError\u001b[0m\u001b[0;31m:\u001b[0m invalid syntax\n"
     ]
    }
   ],
   "source": [
    "if cds_readlines not in: \n",
    "    print(\"empty\")"
   ]
  },
  {
   "cell_type": "code",
   "execution_count": 64,
   "metadata": {},
   "outputs": [],
   "source": [
    "count = 0\n",
    "for line in cds_readlines: \n",
    "    count +=1 \n",
    "    print(line)"
   ]
  },
  {
   "cell_type": "code",
   "execution_count": 63,
   "metadata": {},
   "outputs": [
    {
     "data": {
      "text/plain": [
       "0"
      ]
     },
     "execution_count": 63,
     "metadata": {},
     "output_type": "execute_result"
    }
   ],
   "source": [
    "count"
   ]
  },
  {
   "cell_type": "code",
   "execution_count": 61,
   "metadata": {},
   "outputs": [
    {
     "ename": "IndexError",
     "evalue": "list index out of range",
     "output_type": "error",
     "traceback": [
      "\u001b[0;31m---------------------------------------------------------------------------\u001b[0m",
      "\u001b[0;31mIndexError\u001b[0m                                Traceback (most recent call last)",
      "\u001b[0;32m<ipython-input-61-7183dadef98d>\u001b[0m in \u001b[0;36m<module>\u001b[0;34m()\u001b[0m\n\u001b[0;32m----> 1\u001b[0;31m \u001b[0mcds_readlines\u001b[0m\u001b[0;34m[\u001b[0m\u001b[0;36m0\u001b[0m\u001b[0;34m]\u001b[0m\u001b[0;34m\u001b[0m\u001b[0m\n\u001b[0m",
      "\u001b[0;31mIndexError\u001b[0m: list index out of range"
     ]
    }
   ],
   "source": [
    "cds_readlines[0]"
   ]
  }
 ],
 "metadata": {
  "kernelspec": {
   "display_name": "Python 3 (ipykernel)",
   "language": "python",
   "name": "python3"
  },
  "language_info": {
   "codemirror_mode": {
    "name": "ipython",
    "version": 3
   },
   "file_extension": ".py",
   "mimetype": "text/x-python",
   "name": "python",
   "nbconvert_exporter": "python",
   "pygments_lexer": "ipython3",
   "version": "3.9.6"
  }
 },
 "nbformat": 4,
 "nbformat_minor": 4
}
