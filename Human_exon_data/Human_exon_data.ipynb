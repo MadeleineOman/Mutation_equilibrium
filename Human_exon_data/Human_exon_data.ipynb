{
 "cells": [
  {
   "cell_type": "markdown",
   "metadata": {},
   "source": [
    "# **getting the files that we will use for our exons**"
   ]
  },
  {
   "cell_type": "code",
   "execution_count": 4,
   "metadata": {},
   "outputs": [
    {
     "name": "stdout",
     "output_type": "stream",
     "text": [
      "1\t.\tbiological_region\t10650\t10657\t0.999\t+\t.\tlogic_name=eponine\n",
      "1\t.\tbiological_region\t10655\t10657\t0.999\t-\t.\tlogic_name=eponine\n",
      "1\t.\tbiological_region\t10678\t10687\t0.999\t+\t.\tlogic_name=eponine\n",
      "1\t.\tbiological_region\t10681\t10688\t0.999\t-\t.\tlogic_name=eponine\n",
      "1\t.\tbiological_region\t10707\t10716\t0.999\t+\t.\tlogic_name=eponine\n",
      "1\t.\tbiological_region\t10708\t10718\t0.999\t-\t.\tlogic_name=eponine\n",
      "1\t.\tbiological_region\t10735\t10747\t0.999\t-\t.\tlogic_name=eponine\n",
      "1\t.\tbiological_region\t10737\t10744\t0.999\t+\t.\tlogic_name=eponine\n",
      "1\t.\tbiological_region\t10766\t10773\t0.999\t+\t.\tlogic_name=eponine\n",
      "1\t.\tbiological_region\t10770\t10779\t0.999\t-\t.\tlogic_name=eponine\n",
      "1\t.\tbiological_region\t10796\t10801\t0.999\t+\t.\tlogic_name=eponine\n",
      "1\t.\tbiological_region\t10810\t10819\t0.999\t-\t.\tlogic_name=eponine\n",
      "1\t.\tbiological_region\t10870\t10872\t0.999\t+\t.\tlogic_name=eponine\n",
      "1\t.\tbiological_region\t10889\t10893\t0.999\t-\t.\tlogic_name=eponine\n",
      "1\thavana\tpseudogene\t11869\t14409\t.\t+\t.\tID=gene:ENSG00000223972;Name=DDX11L1;biotype=transcribed_unprocessed_pseudogene;description=DEAD/H-box helicase 11 like 1 [Source:HGNC Symbol%3BAcc:HGNC:37102];gene_id=ENSG00000223972;logic_name=havana_homo_sapiens;version=5\n",
      "1\thavana\tlnc_RNA\t11869\t14409\t.\t+\t.\tID=transcript:ENST00000456328;Parent=gene:ENSG00000223972;Name=DDX11L1-202;biotype=processed_transcript;tag=basic;transcript_id=ENST00000456328;transcript_support_level=1;version=2\n",
      "1\thavana\texon\t11869\t12227\t.\t+\t.\tParent=transcript:ENST00000456328;Name=ENSE00002234944;constitutive=0;ensembl_end_phase=-1;ensembl_phase=-1;exon_id=ENSE00002234944;rank=1;version=1\n",
      "1\thavana\texon\t12613\t12721\t.\t+\t.\tParent=transcript:ENST00000456328;Name=ENSE00003582793;constitutive=0;ensembl_end_phase=-1;ensembl_phase=-1;exon_id=ENSE00003582793;rank=2;version=1\n",
      "1\thavana\texon\t13221\t14409\t.\t+\t.\tParent=transcript:ENST00000456328;Name=ENSE00002312635;constitutive=0;ensembl_end_phase=-1;ensembl_phase=-1;exon_id=ENSE00002312635;rank=3;version=1\n",
      "1\thavana\tpseudogenic_transcript\t12010\t13670\t.\t+\t.\tID=transcript:ENST00000450305;Parent=gene:ENSG00000223972;Name=DDX11L1-201;biotype=transcribed\n",
      "gzip: _unprocessed_pseudogene;tag=basic;transcript_id=ENST00000450305;transcript_support_level=NA;version=2\n",
      "stdout: Broken pipe\n"
     ]
    }
   ],
   "source": [
    "!zcat Homo_sapiens.GRCh38.100.chromosome.1.gff3.gz | head -n 30 | tail -n 20 "
   ]
  },
  {
   "cell_type": "code",
   "execution_count": 5,
   "metadata": {},
   "outputs": [
    {
     "name": "stdout",
     "output_type": "stream",
     "text": [
      "--2020-07-03 20:13:37--  ftp://ftp.ncbi.nlm.nih.gov/refseq/H_sapiens/annotation/GRCh38_latest/refseq_identifiers/GRCh38_latest_protein.faa.gz\n",
      "           => “GRCh38_latest_protein.faa.gz”\n",
      "Resolving ftp.ncbi.nlm.nih.gov... 130.14.250.12, 2607:f220:41e:250::11, 2607:f220:41e:250::12, ...\n",
      "Connecting to ftp.ncbi.nlm.nih.gov|130.14.250.12|:21... connected.\n",
      "Logging in as anonymous ... Logged in!\n",
      "==> SYST ... done.    ==> PWD ... done.\n",
      "==> TYPE I ... done.  ==> CWD (1) /refseq/H_sapiens/annotation/GRCh38_latest/refseq_identifiers ... done.\n",
      "==> SIZE GRCh38_latest_protein.faa.gz ... 26197132\n",
      "==> PASV ... done.    ==> RETR GRCh38_latest_protein.faa.gz ... done.\n",
      "Length: 26197132 (25M) (unauthoritative)\n",
      "\n",
      "100%[======================================>] 26,197,132  8.13M/s   in 3.1s    \n",
      "\n",
      "2020-07-03 20:13:41 (8.13 MB/s) - “GRCh38_latest_protein.faa.gz” saved [26197132]\n",
      "\n"
     ]
    }
   ],
   "source": [
    "!wget ftp://ftp.ncbi.nlm.nih.gov/refseq/H_sapiens/annotation/GRCh38_latest/refseq_identifiers/GRCh38_latest_protein.faa.gz"
   ]
  },
  {
   "cell_type": "code",
   "execution_count": 19,
   "metadata": {},
   "outputs": [
    {
     "name": "stdout",
     "output_type": "stream",
     "text": [
      "--2020-07-04 15:50:34--  ftp://ftp.ensembl.org//pub/release-100/fasta/homo_sapiens/cds/Homo_sapiens.GRCh38.cds.all.fa.gz\n",
      "           => “Homo_sapiens.GRCh38.cds.all.fa.gz”\n",
      "Resolving ftp.ensembl.org... 193.62.197.76\n",
      "Connecting to ftp.ensembl.org|193.62.197.76|:21... connected.\n",
      "Logging in as anonymous ... Logged in!\n",
      "==> SYST ... done.    ==> PWD ... done.\n",
      "==> TYPE I ... done.  ==> CWD (1) /pub/release-100/fasta/homo_sapiens/cds ... done.\n",
      "==> SIZE Homo_sapiens.GRCh38.cds.all.fa.gz ... 21728421\n",
      "==> PASV ... ^C\n"
     ]
    }
   ],
   "source": [
    "!wget ftp://ftp.ensembl.org//pub/release-100/fasta/homo_sapiens/cds/Homo_sapiens.GRCh38.cds.all.fa.gz"
   ]
  },
  {
   "cell_type": "code",
   "execution_count": 22,
   "metadata": {},
   "outputs": [
    {
     "name": "stdout",
     "output_type": "stream",
     "text": [
      "--2020-07-04 16:00:14--  ftp://ftp.ensembl.org/pub/release-100/fasta/homo_sapiens/cds/README\n",
      "           => “README”\n",
      "Resolving ftp.ensembl.org... 193.62.197.76\n",
      "Connecting to ftp.ensembl.org|193.62.197.76|:21... connected.\n",
      "Logging in as anonymous ... Logged in!\n",
      "==> SYST ... done.    ==> PWD ... done.\n",
      "==> TYPE I ... done.  ==> CWD (1) /pub/release-100/fasta/homo_sapiens/cds ... done.\n",
      "==> SIZE README ... 1901\n",
      "==> PASV ... done.    ==> RETR README ... ^C\n"
     ]
    }
   ],
   "source": [
    "!wget ftp://ftp.ensembl.org/pub/release-100/fasta/homo_sapiens/cds/README"
   ]
  }
 ],
 "metadata": {
  "kernelspec": {
   "display_name": "Python 3 (ipykernel)",
   "language": "python",
   "name": "python3"
  },
  "language_info": {
   "codemirror_mode": {
    "name": "ipython",
    "version": 3
   },
   "file_extension": ".py",
   "mimetype": "text/x-python",
   "name": "python",
   "nbconvert_exporter": "python",
   "pygments_lexer": "ipython3",
   "version": "3.9.6"
  }
 },
 "nbformat": 4,
 "nbformat_minor": 4
}
