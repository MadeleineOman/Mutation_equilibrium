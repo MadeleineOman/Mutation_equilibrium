{
 "cells": [
  {
   "cell_type": "markdown",
   "id": "676af395-53e6-460c-b611-81e9cf6ccfd2",
   "metadata": {},
   "source": [
    "# **create 100 1kbp random seqs with same base pair freqs as genome**"
   ]
  },
  {
   "cell_type": "code",
   "execution_count": 106,
   "id": "9b9b7e75-9365-41e0-9b75-304ea89fd27f",
   "metadata": {
    "tags": []
   },
   "outputs": [],
   "source": [
    "import json \n",
    "import random\n",
    "import matplotlib.pyplot as plt\n",
    "import pandas as pd"
   ]
  },
  {
   "cell_type": "code",
   "execution_count": 104,
   "id": "320966dc-2307-463b-be68-41d758b3b789",
   "metadata": {
    "tags": []
   },
   "outputs": [],
   "source": [
    "triplet_freq_dict = json.load(open(\"../HumanTripletCounts/GenomeTripletCounts_2020_12_02_genomeWide.txt\"))\n",
    "model = json.load(open(\"../Human_mutability_model/Model_2020_12_02_genomeWide.txt\"))"
   ]
  },
  {
   "cell_type": "code",
   "execution_count": 14,
   "id": "d708bb1e-bffe-42ce-816c-9c7dc39db7d7",
   "metadata": {},
   "outputs": [],
   "source": [
    "triplets = []\n",
    "counts = []\n",
    "for triplet,count in triplet_freq_dict.items(): \n",
    "    triplets.append(triplet)\n",
    "    counts.append(int(count))"
   ]
  },
  {
   "cell_type": "markdown",
   "id": "8c5f4561-a8b2-4f85-bf47-40d98b7a1641",
   "metadata": {},
   "source": [
    "## **build the first dna** "
   ]
  },
  {
   "cell_type": "code",
   "execution_count": 84,
   "id": "0a404c57-9202-43d7-9800-5b241eef031f",
   "metadata": {},
   "outputs": [],
   "source": [
    "nTrips = int(5000/3)"
   ]
  },
  {
   "cell_type": "code",
   "execution_count": 85,
   "id": "949895ea-d0e9-48cb-b863-e26677714b4b",
   "metadata": {},
   "outputs": [],
   "source": [
    "chosen_trips =  random.choices(triplets,k=nTrips, weights=counts)"
   ]
  },
  {
   "cell_type": "code",
   "execution_count": 86,
   "id": "ec434558-f9e9-40f4-b403-9b637abedaec",
   "metadata": {},
   "outputs": [],
   "source": [
    "dna = \"\".join(chosen_trips)"
   ]
  },
  {
   "cell_type": "code",
   "execution_count": 87,
   "id": "ab0c5f4f-eab4-4c14-8704-017fc72ee872",
   "metadata": {},
   "outputs": [],
   "source": [
    "created_counts = [0 for x in triplets]\n",
    "for triplet in triplets: \n",
    "    for i in range(1, len(dna)-1): \n",
    "        if dna[i-1:i+2] == triplet: \n",
    "            created_counts[triplets.index(triplet)]+= 1\n",
    "    "
   ]
  },
  {
   "cell_type": "code",
   "execution_count": 88,
   "id": "012dd7bb-0f55-4699-ade2-71598164c78a",
   "metadata": {},
   "outputs": [],
   "source": [
    "chosen_counts = []\n",
    "for triplet in triplets: \n",
    "    chosen_counts.append(chosen_trips.count(triplet))"
   ]
  },
  {
   "cell_type": "code",
   "execution_count": 98,
   "id": "896563ea-09c4-4da1-91b9-56de87c881a0",
   "metadata": {},
   "outputs": [
    {
     "data": {
      "image/png": "[encoded data removed]",
      "text/plain": [
       "<Figure size 432x288 with 1 Axes>"
      ]
     },
     "metadata": {
      "needs_background": "light"
     },
     "output_type": "display_data"
    }
   ],
   "source": [
    "plt.scatter(counts,created_counts,  color = \"grey\",label=\"overlapping\")\n",
    "plt.scatter( counts,chosen_counts,label=\"distinct\")\n",
    "plt.xlabel(\"triplet counts in genome\")\n",
    "plt.ylabel(\"triplet counts in generated string\")\n",
    "plt.title(\"proof that at 5kbp the probabilities triplets were selected \\n matches up with genome freqs\")\n",
    "plt.legend()\n",
    "plt.show()"
   ]
  },
  {
   "cell_type": "markdown",
   "id": "edf248c3-ff5d-4dbb-966f-3b66eb695b6d",
   "metadata": {},
   "source": [
    "## **making multiple such dna strings**"
   ]
  },
  {
   "cell_type": "code",
   "execution_count": 85,
   "id": "6c2f50fa-9a68-4023-8806-d4d02abb7873",
   "metadata": {},
   "outputs": [],
   "source": [
    "chosen_trips =  random.choices(triplets,k=nTrips, weights=counts)"
   ]
  },
  {
   "cell_type": "code",
   "execution_count": 86,
   "id": "9d077462-ed71-4804-9775-972f9847a413",
   "metadata": {},
   "outputs": [],
   "source": [
    "dna = \"\".join(chosen_trips)"
   ]
  },
  {
   "cell_type": "code",
   "execution_count": 99,
   "id": "e2e6dede-ab5b-4b31-a8f7-2c91d8fadb4c",
   "metadata": {},
   "outputs": [],
   "source": [
    "tripFreqRepSeq_dict = {}\n",
    "for i in range(100): \n",
    "    chosen_trips =  random.choices(triplets,k=nTrips, weights=counts)\n",
    "    dna = \"\".join(chosen_trips)\n",
    "    tripFreqRepSeq_dict[\"trial\"+str(i)] = dna"
   ]
  },
  {
   "cell_type": "markdown",
   "id": "ae744a26-a585-42bd-8ca2-dd7a51bd9316",
   "metadata": {},
   "source": [
    "## **running the simulation**"
   ]
  },
  {
   "cell_type": "code",
   "execution_count": 100,
   "id": "3349d180-9a3f-44e0-974b-647d69ebe58c",
   "metadata": {},
   "outputs": [],
   "source": [
    "#imports ~~~~~~~~~~~~~~~~~~~~~~~~~~~~~~~~~~~~~~~~~~~\n",
    "from numpy.random import choice\n",
    "import copy \n",
    "#from tqdm import tqdm\n",
    "import sys \n",
    "from datetime import datetime\n",
    "import time\n",
    "import timeit\n",
    "import numpy as np \n",
    "import json\n",
    "from tqdm import tqdm"
   ]
  },
  {
   "cell_type": "code",
   "execution_count": 101,
   "id": "da5c457c-5441-4a44-9d6b-e52561a49f69",
   "metadata": {},
   "outputs": [],
   "source": [
    "#defining funtions ~~~~~~~~~~~~~~~~~~~~~~~~~~~~~~~~~~~~~~~\n",
    "def base_to_mutate(DNA, current_weights, indices): \n",
    "    \"\"\"\n",
    "    (DNA: str, weights: Dict) -> int\n",
    "    \n",
    "    Will return the index of a random choice of a base that will be mutated based on probabilities given by the\n",
    "    weights dictionary (i.e. the model)\n",
    "    ex. \"ATCGTA\" --> index 3 (\"G\") will mutate\n",
    "    \"\"\"\n",
    "\n",
    "    # NORMALIZE THE POPULATION OF WEIGHTS    \n",
    "    total_freq = sum(current_weights) - current_weights[0] - current_weights[-1] # remove the start and end weight\n",
    "    normalized_weights = [\"error\"]*len(current_weights)\n",
    "    for index, value in enumerate(current_weights):\n",
    "        normalized_weights[index] = value/total_freq \n",
    "    \n",
    "    normalized_weights[0] = 0\n",
    "    normalized_weights[-1] = 0\n",
    "    # DRAW THE INDEX OF THE BASE THAT WILL BE MUTATED\n",
    "    base_index = choice(indices, p=normalized_weights) \n",
    "    \n",
    "\n",
    "    # RETURN THE INDEX\n",
    "    return base_index "
   ]
  },
  {
   "cell_type": "code",
   "execution_count": 102,
   "id": "02508bbb-c886-4899-bd97-3553b737597d",
   "metadata": {},
   "outputs": [],
   "source": [
    "#triplets\n",
    "triplets = []\n",
    "for i_1 in [\"A\", \"T\", \"G\", \"C\"]: \n",
    "    for i_2 in [\"A\", \"T\", \"G\", \"C\"]: \n",
    "        for i_3 in [\"A\", \"T\", \"G\", \"C\"]: \n",
    "            triplets.append(i_1+i_2+i_3)\n",
    "\n",
    "#parameters \n",
    "prop_muts = 2"
   ]
  },
  {
   "cell_type": "code",
   "execution_count": 105,
   "id": "71f864b0-1fe8-4eb2-9b19-6821478e227d",
   "metadata": {},
   "outputs": [
    {
     "name": "stderr",
     "output_type": "stream",
     "text": [
      "100%|██████████| 100/100 [27:41<00:00, 16.62s/it]\n"
     ]
    }
   ],
   "source": [
    "for key,DNA in tqdm(tripFreqRepSeq_dict.items()): \n",
    "# for DNA in chosen_intergen_randSeq: \n",
    "    \n",
    "    trialN = list(tripFreqRepSeq_dict.keys()).index(key)\n",
    "    \n",
    "    #write initial dna \n",
    "    file = open(\"data/tripletFreqRep/{t}_DNAI.txt\".format(t=trialN), \"w\")\n",
    "    file.write(str(DNA))\n",
    "    file.close()\n",
    "\n",
    "    #set up ~~~~~~~~~~~~~~~~~~~~~~~~~~~~~~~~~\n",
    "    #triplet-count dict \n",
    "    triplet_chosen_count_dict = {}\n",
    "    triplet_into_count_dict = {}\n",
    "    for triplet in triplets: \n",
    "        triplet_chosen_count_dict[triplet] = [0,0,0]  \n",
    "        triplet_into_count_dict[triplet] = [0,0,0]\n",
    "\n",
    "    #making the weights \n",
    "    current_weights = []\n",
    "    for i in range(1,len(DNA)-1): \n",
    "        triplet = DNA[i-1:i+2]\n",
    "        current_weights.append(model[triplet][0])\n",
    "\n",
    "    indices = [i for i in range(1, len(DNA)-1)]\n",
    "    mut_indices = []\n",
    "\n",
    "    #making the av muts lists\n",
    "    #creating the black plotting lists \n",
    "    av_mutability = []\n",
    "    intron_mut = []\n",
    "    exon_mut = []\n",
    "\n",
    "    \n",
    "\n",
    "    #runnign the sim ~~~~~~~~~~~~~~~~~~~~~~~~~~~~~~~~~~~~~~~~~~~~~~~~~~~~~~~~~~~~~~~~~~~~~~~~~~~~~~~~~~~~~\n",
    "    for i in range((int(len(DNA)*prop_muts))):\n",
    "        base_index = base_to_mutate(DNA, current_weights, indices)\n",
    "\n",
    "        mut_indices.append(base_index)\n",
    "\n",
    "        #adding the count for \"chosen to mutate\" in coutns dict \n",
    "        c_triplet = DNA[base_index-1: base_index+2]\n",
    "        c_triplet_left = DNA[base_index-2: base_index+1]\n",
    "        c_triplet_right = DNA[base_index: base_index+3]    \n",
    "        triplet_chosen_count_dict[c_triplet_left][0] += 1\n",
    "        triplet_chosen_count_dict[c_triplet][1] += 1\n",
    "        triplet_chosen_count_dict[c_triplet_right][2] += 1\n",
    "\n",
    "        #accurate model INTO probability ~~~~~~~~~~~~~~~~~~~~~~~~~~~~~~~~~~~~~~OR ^ \n",
    "        curr_into_bases = []\n",
    "        curr_into_bases_probs = []\n",
    "        for into_base, prob in model[c_triplet][1].items(): \n",
    "            curr_into_bases.append(into_base)\n",
    "            curr_into_bases_probs.append(prob)\n",
    "        mb =  choice(curr_into_bases, p = curr_into_bases_probs)[1]\n",
    "\n",
    "\n",
    "        #chanaging the dna \n",
    "        DNA = DNA[:base_index]+mb+DNA[base_index+1:]\n",
    "\n",
    "        #updating the weights \n",
    "        m_triplet = c_triplet[0]+mb+c_triplet[2]\n",
    "        m_triplet_left = c_triplet_left[0:2]+mb\n",
    "        m_triplet_right = mb+c_triplet_right[1:3]\n",
    "        current_weights[base_index-2]= model[m_triplet_left][0]    \n",
    "        current_weights[base_index-1]= model[m_triplet][0]\n",
    "        current_weights[base_index] = model[m_triplet_right][0]\n",
    "        \n",
    "        #adding the count for \"mutated into thiss\" in the triplet dict \n",
    "#         triplet_into_count_dict[m_triplet_left][0] += 1 \n",
    "#         triplet_into_count_dict[m_triplet][1] += 1 \n",
    "#         triplet_into_count_dict[m_triplet_right][2] += 1 \n",
    "\n",
    "        #appending the av mut lists \n",
    "        av_mutability.append(np.mean(current_weights))\n",
    "\n",
    "\n",
    "#     text_file = open(\"data/{t}_triplet_into_count_dict.txt\".format(t=trialN), \"w\")\n",
    "#     n = text_file.write(json.dumps(triplet_into_count_dict))\n",
    "#     text_file.close()\n",
    "\n",
    "#     text_file = open(\"data/{t}_triplet_chosen_count_dict.txt\".format(t=trialN), \"w\")\n",
    "#     n = text_file.write(json.dumps(triplet_chosen_count_dict))\n",
    "#     text_file.close()\n",
    "\n",
    "    file = open(\"data/tripletFreqRep/{t}_DNA.txt\".format(t=trialN), \"w\")\n",
    "    file.write(str(DNA))\n",
    "    file.close()\n",
    "\n",
    "    file = open(\"data/tripletFreqRep/{t}_avMut.txt\".format(t=trialN), \"w\")\n",
    "    file.write(json.dumps(av_mutability))\n",
    "    file.close()\n"
   ]
  },
  {
   "cell_type": "markdown",
   "id": "00c89413-108e-469b-b6d0-84cda85dec13",
   "metadata": {},
   "source": [
    "### **create plotting df**"
   ]
  },
  {
   "cell_type": "code",
   "execution_count": 119,
   "id": "c57c3546-0be9-478c-99ec-fd3e91e257c8",
   "metadata": {},
   "outputs": [
    {
     "name": "stderr",
     "output_type": "stream",
     "text": [
      "100%|██████████| 99/99 [00:00<00:00, 207.46it/s]\n"
     ]
    }
   ],
   "source": [
    "data_dict = {\"gens\":[x for x in range(9996)]}\n",
    "for i in tqdm(range(trialN)): \n",
    "    data_dict[\"trial\"+str(i)] = json.load(open(\"data/tripletFreqRep/{}_avMut.txt\".format(i)))"
   ]
  },
  {
   "cell_type": "code",
   "execution_count": 120,
   "id": "f95133f1-847e-42fc-9fd1-724a4e02346c",
   "metadata": {},
   "outputs": [],
   "source": [
    "data_df = pd.DataFrame.from_dict(data_dict)"
   ]
  },
  {
   "cell_type": "code",
   "execution_count": 121,
   "id": "1161e928-b3d5-4eea-9dd6-75cfdcb88cc6",
   "metadata": {},
   "outputs": [],
   "source": [
    "data_df.to_csv(\"data/tripletFreqRep/data_df_5kbp.csv\")"
   ]
  },
  {
   "cell_type": "code",
   "execution_count": null,
   "id": "24b48590-76bb-4dc0-8a3f-19b90f22be32",
   "metadata": {},
   "outputs": [],
   "source": []
  }
 ],
 "metadata": {
  "kernelspec": {
   "display_name": "Python [conda env:.conda-mutEq]",
   "language": "python",
   "name": "conda-env-.conda-mutEq-py"
  },
  "language_info": {
   "codemirror_mode": {
    "name": "ipython",
    "version": 3
   },
   "file_extension": ".py",
   "mimetype": "text/x-python",
   "name": "python",
   "nbconvert_exporter": "python",
   "pygments_lexer": "ipython3",
   "version": "3.9.6"
  }
 },
 "nbformat": 4,
 "nbformat_minor": 5
}
