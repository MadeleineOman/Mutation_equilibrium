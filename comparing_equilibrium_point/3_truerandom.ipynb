{
 "cells": [
  {
   "cell_type": "markdown",
   "id": "8999cc30-eaf6-4078-bc95-30e08d58627d",
   "metadata": {},
   "source": [
    "# **equilibrium simulation true random**"
   ]
  },
  {
   "cell_type": "code",
   "execution_count": 14,
   "id": "746f6125-b2cb-4326-87c1-d4899a47bbbb",
   "metadata": {},
   "outputs": [],
   "source": [
    "import random\n",
    "import pandas as pd"
   ]
  },
  {
   "cell_type": "code",
   "execution_count": 3,
   "id": "06adffad-970f-44cb-9be5-0493cff2ad7f",
   "metadata": {},
   "outputs": [],
   "source": [
    "randomSeq_dict = {}\n",
    "length_dna = 5000\n",
    "for i in range(100): \n",
    "    chosen_trips =  random.choices([\"A\",\"T\",\"C\",\"G\"],k=length_dna)\n",
    "    dna = \"\".join(chosen_trips)\n",
    "    randomSeq_dict[\"trial\"+str(i)] = dna"
   ]
  },
  {
   "cell_type": "markdown",
   "id": "890a64b1-cfdb-42cd-ac30-afe60f0e30be",
   "metadata": {},
   "source": [
    "## **running the simulation**"
   ]
  },
  {
   "cell_type": "code",
   "execution_count": 8,
   "id": "fa127979-8e6e-41dd-831f-18eca0a878b0",
   "metadata": {},
   "outputs": [],
   "source": [
    "model = json.load(open(\"../Human_mutability_model/Model_2020_12_02_genomeWide.txt\"))"
   ]
  },
  {
   "cell_type": "code",
   "execution_count": 4,
   "id": "663225f6-6ee0-46ee-8981-0199c6d693ce",
   "metadata": {},
   "outputs": [],
   "source": [
    "#imports ~~~~~~~~~~~~~~~~~~~~~~~~~~~~~~~~~~~~~~~~~~~\n",
    "from numpy.random import choice\n",
    "import copy \n",
    "#from tqdm import tqdm\n",
    "import sys \n",
    "from datetime import datetime\n",
    "import time\n",
    "import timeit\n",
    "import numpy as np \n",
    "import json\n",
    "from tqdm import tqdm"
   ]
  },
  {
   "cell_type": "code",
   "execution_count": 5,
   "id": "52474c0d-7631-4266-897f-d0a93be80372",
   "metadata": {},
   "outputs": [],
   "source": [
    "#defining funtions ~~~~~~~~~~~~~~~~~~~~~~~~~~~~~~~~~~~~~~~\n",
    "def base_to_mutate(DNA, current_weights, indices): \n",
    "    \"\"\"\n",
    "    (DNA: str, weights: Dict) -> int\n",
    "    \n",
    "    Will return the index of a random choice of a base that will be mutated based on probabilities given by the\n",
    "    weights dictionary (i.e. the model)\n",
    "    ex. \"ATCGTA\" --> index 3 (\"G\") will mutate\n",
    "    \"\"\"\n",
    "\n",
    "    # NORMALIZE THE POPULATION OF WEIGHTS    \n",
    "    total_freq = sum(current_weights) - current_weights[0] - current_weights[-1] # remove the start and end weight\n",
    "    normalized_weights = [\"error\"]*len(current_weights)\n",
    "    for index, value in enumerate(current_weights):\n",
    "        normalized_weights[index] = value/total_freq \n",
    "    \n",
    "    normalized_weights[0] = 0\n",
    "    normalized_weights[-1] = 0\n",
    "    # DRAW THE INDEX OF THE BASE THAT WILL BE MUTATED\n",
    "    base_index = choice(indices, p=normalized_weights) \n",
    "    \n",
    "\n",
    "    # RETURN THE INDEX\n",
    "    return base_index "
   ]
  },
  {
   "cell_type": "code",
   "execution_count": 6,
   "id": "ad594552-2420-45b3-ac4b-7498b82968b9",
   "metadata": {},
   "outputs": [],
   "source": [
    "#triplets\n",
    "triplets = []\n",
    "for i_1 in [\"A\", \"T\", \"G\", \"C\"]: \n",
    "    for i_2 in [\"A\", \"T\", \"G\", \"C\"]: \n",
    "        for i_3 in [\"A\", \"T\", \"G\", \"C\"]: \n",
    "            triplets.append(i_1+i_2+i_3)\n",
    "\n",
    "#parameters \n",
    "prop_muts = 2"
   ]
  },
  {
   "cell_type": "code",
   "execution_count": 9,
   "id": "5b71e23f-3208-4e50-b594-29d1975edc93",
   "metadata": {},
   "outputs": [
    {
     "name": "stderr",
     "output_type": "stream",
     "text": [
      "100%|██████████| 100/100 [27:37<00:00, 16.58s/it]\n"
     ]
    }
   ],
   "source": [
    "for key,DNA in tqdm(randomSeq_dict.items()): \n",
    "# for DNA in chosen_intergen_randSeq: \n",
    "    \n",
    "    trialN = list(randomSeq_dict.keys()).index(key)\n",
    "    \n",
    "    #write initial dna \n",
    "    file = open(\"data/trueRandom/{t}_DNAI.txt\".format(t=trialN), \"w\")\n",
    "    file.write(str(DNA))\n",
    "    file.close()\n",
    "\n",
    "    #set up ~~~~~~~~~~~~~~~~~~~~~~~~~~~~~~~~~\n",
    "    #triplet-count dict \n",
    "    triplet_chosen_count_dict = {}\n",
    "    triplet_into_count_dict = {}\n",
    "    for triplet in triplets: \n",
    "        triplet_chosen_count_dict[triplet] = [0,0,0]  \n",
    "        triplet_into_count_dict[triplet] = [0,0,0]\n",
    "\n",
    "    #making the weights \n",
    "    current_weights = []\n",
    "    for i in range(1,len(DNA)-1): \n",
    "        triplet = DNA[i-1:i+2]\n",
    "        current_weights.append(model[triplet][0])\n",
    "\n",
    "    indices = [i for i in range(1, len(DNA)-1)]\n",
    "    mut_indices = []\n",
    "\n",
    "    #making the av muts lists\n",
    "    #creating the black plotting lists \n",
    "    av_mutability = []\n",
    "    intron_mut = []\n",
    "    exon_mut = []\n",
    "\n",
    "    \n",
    "\n",
    "    #runnign the sim ~~~~~~~~~~~~~~~~~~~~~~~~~~~~~~~~~~~~~~~~~~~~~~~~~~~~~~~~~~~~~~~~~~~~~~~~~~~~~~~~~~~~~\n",
    "    for i in range((int(len(DNA)*prop_muts))):\n",
    "        base_index = base_to_mutate(DNA, current_weights, indices)\n",
    "\n",
    "        mut_indices.append(base_index)\n",
    "\n",
    "        #adding the count for \"chosen to mutate\" in coutns dict \n",
    "        c_triplet = DNA[base_index-1: base_index+2]\n",
    "        c_triplet_left = DNA[base_index-2: base_index+1]\n",
    "        c_triplet_right = DNA[base_index: base_index+3]    \n",
    "        triplet_chosen_count_dict[c_triplet_left][0] += 1\n",
    "        triplet_chosen_count_dict[c_triplet][1] += 1\n",
    "        triplet_chosen_count_dict[c_triplet_right][2] += 1\n",
    "\n",
    "        #accurate model INTO probability ~~~~~~~~~~~~~~~~~~~~~~~~~~~~~~~~~~~~~~OR ^ \n",
    "        curr_into_bases = []\n",
    "        curr_into_bases_probs = []\n",
    "        for into_base, prob in model[c_triplet][1].items(): \n",
    "            curr_into_bases.append(into_base)\n",
    "            curr_into_bases_probs.append(prob)\n",
    "        mb =  choice(curr_into_bases, p = curr_into_bases_probs)[1]\n",
    "\n",
    "\n",
    "        #chanaging the dna \n",
    "        DNA = DNA[:base_index]+mb+DNA[base_index+1:]\n",
    "\n",
    "        #updating the weights \n",
    "        m_triplet = c_triplet[0]+mb+c_triplet[2]\n",
    "        m_triplet_left = c_triplet_left[0:2]+mb\n",
    "        m_triplet_right = mb+c_triplet_right[1:3]\n",
    "        current_weights[base_index-2]= model[m_triplet_left][0]    \n",
    "        current_weights[base_index-1]= model[m_triplet][0]\n",
    "        current_weights[base_index] = model[m_triplet_right][0]\n",
    "        \n",
    "        #adding the count for \"mutated into thiss\" in the triplet dict \n",
    "#         triplet_into_count_dict[m_triplet_left][0] += 1 \n",
    "#         triplet_into_count_dict[m_triplet][1] += 1 \n",
    "#         triplet_into_count_dict[m_triplet_right][2] += 1 \n",
    "\n",
    "        #appending the av mut lists \n",
    "        av_mutability.append(np.mean(current_weights))\n",
    "\n",
    "\n",
    "#     text_file = open(\"data/{t}_triplet_into_count_dict.txt\".format(t=trialN), \"w\")\n",
    "#     n = text_file.write(json.dumps(triplet_into_count_dict))\n",
    "#     text_file.close()\n",
    "\n",
    "#     text_file = open(\"data/{t}_triplet_chosen_count_dict.txt\".format(t=trialN), \"w\")\n",
    "#     n = text_file.write(json.dumps(triplet_chosen_count_dict))\n",
    "#     text_file.close()\n",
    "\n",
    "    file = open(\"data/trueRandom/{t}_DNA.txt\".format(t=trialN), \"w\")\n",
    "    file.write(str(DNA))\n",
    "    file.close()\n",
    "\n",
    "    file = open(\"data/trueRandom/{t}_avMut.txt\".format(t=trialN), \"w\")\n",
    "    file.write(json.dumps(av_mutability))\n",
    "    file.close()\n"
   ]
  },
  {
   "cell_type": "markdown",
   "id": "fb61771e-d46e-4462-a28e-21d6313619fa",
   "metadata": {},
   "source": [
    "### **create plotting df**"
   ]
  },
  {
   "cell_type": "code",
   "execution_count": 11,
   "id": "e9fdcdcf-4f56-41ee-8ec3-20d9ed2b5e76",
   "metadata": {},
   "outputs": [
    {
     "data": {
      "text/plain": [
       "10000"
      ]
     },
     "execution_count": 11,
     "metadata": {},
     "output_type": "execute_result"
    }
   ],
   "source": [
    "len(data_dict[\"trial0\"])"
   ]
  },
  {
   "cell_type": "code",
   "execution_count": 12,
   "id": "d911ef50-cfe0-4aa8-ba72-6b4cf154438b",
   "metadata": {},
   "outputs": [
    {
     "name": "stderr",
     "output_type": "stream",
     "text": [
      "100%|██████████| 99/99 [00:00<00:00, 208.78it/s]\n"
     ]
    }
   ],
   "source": [
    "data_dict = {\"gens\":[x for x in range(10000)]}\n",
    "for i in tqdm(range(trialN)): \n",
    "    data_dict[\"trial\"+str(i)] = json.load(open(\"data/trueRandom/{}_avMut.txt\".format(i)))"
   ]
  },
  {
   "cell_type": "code",
   "execution_count": 15,
   "id": "48045f07-56e4-4990-8561-69eb0bc91ec4",
   "metadata": {},
   "outputs": [],
   "source": [
    "data_df = pd.DataFrame.from_dict(data_dict)"
   ]
  },
  {
   "cell_type": "code",
   "execution_count": 16,
   "id": "16293edb-e74f-4876-b21e-a60ff54d1e00",
   "metadata": {},
   "outputs": [],
   "source": [
    "data_df.to_csv(\"data/trueRandom/data_df_5kbp.csv\")"
   ]
  }
 ],
 "metadata": {
  "kernelspec": {
   "display_name": "Python [conda env:.conda-mutEq]",
   "language": "python",
   "name": "conda-env-.conda-mutEq-py"
  },
  "language_info": {
   "codemirror_mode": {
    "name": "ipython",
    "version": 3
   },
   "file_extension": ".py",
   "mimetype": "text/x-python",
   "name": "python",
   "nbconvert_exporter": "python",
   "pygments_lexer": "ipython3",
   "version": "3.9.6"
  }
 },
 "nbformat": 4,
 "nbformat_minor": 5
}
