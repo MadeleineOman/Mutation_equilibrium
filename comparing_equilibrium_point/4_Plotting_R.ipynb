{
 "cells": [
  {
   "cell_type": "markdown",
   "id": "a8af4657-39a7-4558-9665-156cbffa6624",
   "metadata": {},
   "source": [
    "# **r ploting intergenic**"
   ]
  },
  {
   "cell_type": "code",
   "execution_count": 9,
   "id": "3a7b2149-4816-46a6-bee8-44328d7a949b",
   "metadata": {
    "tags": []
   },
   "outputs": [
    {
     "name": "stderr",
     "output_type": "stream",
     "text": [
      "Registered S3 methods overwritten by 'ggplot2':\n",
      "  method         from \n",
      "  [.quosures     rlang\n",
      "  c.quosures     rlang\n",
      "  print.quosures rlang\n",
      "Warning message:\n",
      "“package ‘dplyr’ was built under R version 3.6.3”\n",
      "Attaching package: ‘dplyr’\n",
      "\n",
      "The following objects are masked from ‘package:stats’:\n",
      "\n",
      "    filter, lag\n",
      "\n",
      "The following objects are masked from ‘package:base’:\n",
      "\n",
      "    intersect, setdiff, setequal, union\n",
      "\n",
      "Warning message:\n",
      "“package ‘tidyr’ was built under R version 3.6.3”\n",
      "Attaching package: ‘reshape2’\n",
      "\n",
      "The following object is masked from ‘package:tidyr’:\n",
      "\n",
      "    smiths\n",
      "\n"
     ]
    }
   ],
   "source": [
    "library(ggplot2)\n",
    "library(dplyr)\n",
    "library(tidyr)\n",
    "library(reshape2)"
   ]
  },
  {
   "cell_type": "markdown",
   "id": "0b5ba74c-af6e-4079-bf17-9ac22ec4901c",
   "metadata": {},
   "source": [
    "## **human intergenic**"
   ]
  },
  {
   "cell_type": "code",
   "execution_count": 10,
   "id": "5c902925-e38c-4bf8-aef7-848ec0c5caad",
   "metadata": {},
   "outputs": [],
   "source": [
    "inter_data <- read.csv(\"data/humanIntergenic/data_df_5kbp.csv\")\n",
    "inter_data <- inter_data[,2:98] #gets rid of the row names col "
   ]
  },
  {
   "cell_type": "code",
   "execution_count": 11,
   "id": "7b500716-8613-4a22-ad34-e74b7c548a3a",
   "metadata": {},
   "outputs": [],
   "source": [
    "inter_avMut <- apply(inter_data[,2:97],1,mean) #need to specify those rows so the \"gens\" col doesnt get included in the mean apply "
   ]
  },
  {
   "cell_type": "code",
   "execution_count": 12,
   "id": "8cfe3796-9d7c-4ce3-8a4a-9d8572581007",
   "metadata": {},
   "outputs": [],
   "source": [
    "inter_sdMut <- apply(inter_data[,2:97],1,sd)#need to specify those rows so the \"gens\" col doesnt get included in the sd apply "
   ]
  },
  {
   "cell_type": "code",
   "execution_count": 13,
   "id": "0e69c7d8-9176-4254-b272-796d30af25b8",
   "metadata": {},
   "outputs": [],
   "source": [
    "inter_data$avMut <- inter_avMut\n",
    "inter_data$sdMut <- inter_sdMut\n",
    "inter_data$stderrMut <- inter_data$sdMut/10"
   ]
  },
  {
   "cell_type": "markdown",
   "id": "f76e95fa-2f9f-43f6-99d3-83d34d0c2fbc",
   "metadata": {},
   "source": [
    "## **triplet frequency replicated**"
   ]
  },
  {
   "cell_type": "code",
   "execution_count": 14,
   "id": "16f2cc90-6cde-4161-88d7-dc0743e7ef5d",
   "metadata": {},
   "outputs": [],
   "source": [
    "triprep_data <- read.csv(\"data/tripletFreqRep/data_df_5kbp.csv\")\n",
    "triprep_data <- triprep_data[,2:101]"
   ]
  },
  {
   "cell_type": "code",
   "execution_count": 15,
   "id": "d946fb5e-f2ac-442a-ba4d-9870e7272daa",
   "metadata": {},
   "outputs": [],
   "source": [
    "triprep_avMut <- apply(triprep_data[,2:100],1,mean)\n",
    "triprep_sdMut <- apply(triprep_data[,2:100],1,sd)"
   ]
  },
  {
   "cell_type": "code",
   "execution_count": 16,
   "id": "cbeeb861-5537-47bd-ab9e-061825b28bfe",
   "metadata": {},
   "outputs": [],
   "source": [
    "triprep_data$avMut <- triprep_avMut\n",
    "triprep_data$sdMut <- triprep_sdMut\n",
    "triprep_data$stderrMut <- triprep_data$sdMut/10 # n samples = 100 . sqrt 100 = 10 "
   ]
  },
  {
   "cell_type": "markdown",
   "id": "97fdd2b7-49d9-424f-8dec-382297858972",
   "metadata": {},
   "source": [
    "## **true random** "
   ]
  },
  {
   "cell_type": "code",
   "execution_count": 17,
   "id": "df92f61e-9521-4eab-a3fe-c8c1cbb6a946",
   "metadata": {},
   "outputs": [],
   "source": [
    "random_data <- read.csv(\"data/trueRandom/data_df_5kbp.csv\")\n",
    "random_data <- random_data[,2:101]"
   ]
  },
  {
   "cell_type": "code",
   "execution_count": 18,
   "id": "aabf9dc8-2d9d-44de-90ce-9445ffa0de0a",
   "metadata": {},
   "outputs": [],
   "source": [
    "random_data$avMut <- apply(random_data[,2:100],1,mean)\n",
    "random_data$sdMut <- apply(random_data[,2:100],1,sd)\n",
    "random_data$stderrMut <- random_data$sdMut / 10 "
   ]
  },
  {
   "cell_type": "markdown",
   "id": "2d50654c-c936-4d7a-b359-5c47cb0ee6c7",
   "metadata": {},
   "source": [
    "## **plotting all together** "
   ]
  },
  {
   "cell_type": "code",
   "execution_count": 19,
   "id": "241ad8d5-cc6f-4b0c-a75b-20a6e19669b4",
   "metadata": {},
   "outputs": [
    {
     "data": {
      "text/html": [
       "<ol class=list-inline>\n",
       "\t<li>9996</li>\n",
       "\t<li>103</li>\n",
       "</ol>\n"
      ],
      "text/latex": [
       "\\begin{enumerate*}\n",
       "\\item 9996\n",
       "\\item 103\n",
       "\\end{enumerate*}\n"
      ],
      "text/markdown": [
       "1. 9996\n",
       "2. 103\n",
       "\n",
       "\n"
      ],
      "text/plain": [
       "[1] 9996  103"
      ]
     },
     "metadata": {},
     "output_type": "display_data"
    },
    {
     "data": {
      "text/html": [
       "<ol class=list-inline>\n",
       "\t<li>9996</li>\n",
       "\t<li>103</li>\n",
       "</ol>\n"
      ],
      "text/latex": [
       "\\begin{enumerate*}\n",
       "\\item 9996\n",
       "\\item 103\n",
       "\\end{enumerate*}\n"
      ],
      "text/markdown": [
       "1. 9996\n",
       "2. 103\n",
       "\n",
       "\n"
      ],
      "text/plain": [
       "[1] 9996  103"
      ]
     },
     "metadata": {},
     "output_type": "display_data"
    },
    {
     "data": {
      "text/html": [
       "<ol class=list-inline>\n",
       "\t<li>10000</li>\n",
       "\t<li>100</li>\n",
       "</ol>\n"
      ],
      "text/latex": [
       "\\begin{enumerate*}\n",
       "\\item 10000\n",
       "\\item 100\n",
       "\\end{enumerate*}\n"
      ],
      "text/markdown": [
       "1. 10000\n",
       "2. 100\n",
       "\n",
       "\n"
      ],
      "text/plain": [
       "[1] 10000   100"
      ]
     },
     "metadata": {},
     "output_type": "display_data"
    }
   ],
   "source": [
    "dim(random_data[1:9996,])\n",
    "dim(triprep_data)\n",
    "dim(inter_data)"
   ]
  },
  {
   "cell_type": "code",
   "execution_count": 20,
   "id": "bce1d564-55ff-4d2a-baba-556978f0b261",
   "metadata": {},
   "outputs": [],
   "source": [
    "#combine all data into one \n",
    "all_data <- random_data[1:9996,c(\"gens\",\"avMut\",\"sdMut\",\"stderrMut\")] \n",
    "colnames(all_data) <- c(\"gens\",\"random_avMut\",\"random_sdMut\",\"random_stderrMut\")\n",
    "\n",
    "all_data$triprep_avMut <- triprep_data$avMut\n",
    "all_data$triprep_sdMut <- triprep_data$sdMut\n",
    "all_data$triprep_stderrMut <- triprep_data$stderrMut\n",
    "\n",
    "all_data$inter_avMut <- inter_data$avMut[1:9996]\n",
    "all_data$inter_sdMut <- inter_data$sdMut[1:9996]\n",
    "all_data$inter_stderrMut <- inter_data$stderrMut[1:9996]"
   ]
  },
  {
   "cell_type": "code",
   "execution_count": 21,
   "id": "c569f99c-3c8b-4807-9b48-bc5a399f2e17",
   "metadata": {},
   "outputs": [],
   "source": [
    "write.csv(all_data,\"data/all_data_df_avMut_stderr.csv\")"
   ]
  },
  {
   "cell_type": "markdown",
   "id": "f23f6ff3-a59f-4715-9715-efd9800c4948",
   "metadata": {},
   "source": [
    " folowing tutorial at https://stackoverflow.com/questions/64391103/ggplot2-make-multiple-lineribbons-with-legend"
   ]
  },
  {
   "cell_type": "code",
   "execution_count": 22,
   "id": "9402b1d9-1036-4925-a865-5f939071568e",
   "metadata": {},
   "outputs": [],
   "source": [
    "test_data <- all_data[,c(\"gens\",\"random_avMut\",\"triprep_avMut\",\"inter_avMut\")]"
   ]
  },
  {
   "cell_type": "code",
   "execution_count": 23,
   "id": "e99b1d99-e22b-43c5-a8d6-ec264fde8ac9",
   "metadata": {},
   "outputs": [
    {
     "data": {
      "text/html": [
       "<table>\n",
       "<thead><tr><th></th><th scope=col>gens</th><th scope=col>random_avMut</th><th scope=col>triprep_avMut</th><th scope=col>inter_avMut</th></tr></thead>\n",
       "<tbody>\n",
       "\t<tr><th scope=row>9991</th><td>9990        </td><td>2.935609e-05</td><td>2.925512e-05</td><td>2.922453e-05</td></tr>\n",
       "\t<tr><th scope=row>9992</th><td>9991        </td><td>2.936283e-05</td><td>2.925276e-05</td><td>2.922184e-05</td></tr>\n",
       "\t<tr><th scope=row>9993</th><td>9992        </td><td>2.936655e-05</td><td>2.924471e-05</td><td>2.922766e-05</td></tr>\n",
       "\t<tr><th scope=row>9994</th><td>9993        </td><td>2.936398e-05</td><td>2.924818e-05</td><td>2.921987e-05</td></tr>\n",
       "\t<tr><th scope=row>9995</th><td>9994        </td><td>2.936052e-05</td><td>2.924182e-05</td><td>2.922479e-05</td></tr>\n",
       "\t<tr><th scope=row>9996</th><td>9995        </td><td>2.936349e-05</td><td>2.923281e-05</td><td>2.921798e-05</td></tr>\n",
       "</tbody>\n",
       "</table>\n"
      ],
      "text/latex": [
       "\\begin{tabular}{r|llll}\n",
       "  & gens & random\\_avMut & triprep\\_avMut & inter\\_avMut\\\\\n",
       "\\hline\n",
       "\t9991 & 9990         & 2.935609e-05 & 2.925512e-05 & 2.922453e-05\\\\\n",
       "\t9992 & 9991         & 2.936283e-05 & 2.925276e-05 & 2.922184e-05\\\\\n",
       "\t9993 & 9992         & 2.936655e-05 & 2.924471e-05 & 2.922766e-05\\\\\n",
       "\t9994 & 9993         & 2.936398e-05 & 2.924818e-05 & 2.921987e-05\\\\\n",
       "\t9995 & 9994         & 2.936052e-05 & 2.924182e-05 & 2.922479e-05\\\\\n",
       "\t9996 & 9995         & 2.936349e-05 & 2.923281e-05 & 2.921798e-05\\\\\n",
       "\\end{tabular}\n"
      ],
      "text/markdown": [
       "\n",
       "| <!--/--> | gens | random_avMut | triprep_avMut | inter_avMut |\n",
       "|---|---|---|---|---|\n",
       "| 9991 | 9990         | 2.935609e-05 | 2.925512e-05 | 2.922453e-05 |\n",
       "| 9992 | 9991         | 2.936283e-05 | 2.925276e-05 | 2.922184e-05 |\n",
       "| 9993 | 9992         | 2.936655e-05 | 2.924471e-05 | 2.922766e-05 |\n",
       "| 9994 | 9993         | 2.936398e-05 | 2.924818e-05 | 2.921987e-05 |\n",
       "| 9995 | 9994         | 2.936052e-05 | 2.924182e-05 | 2.922479e-05 |\n",
       "| 9996 | 9995         | 2.936349e-05 | 2.923281e-05 | 2.921798e-05 |\n",
       "\n"
      ],
      "text/plain": [
       "     gens random_avMut triprep_avMut inter_avMut \n",
       "9991 9990 2.935609e-05 2.925512e-05  2.922453e-05\n",
       "9992 9991 2.936283e-05 2.925276e-05  2.922184e-05\n",
       "9993 9992 2.936655e-05 2.924471e-05  2.922766e-05\n",
       "9994 9993 2.936398e-05 2.924818e-05  2.921987e-05\n",
       "9995 9994 2.936052e-05 2.924182e-05  2.922479e-05\n",
       "9996 9995 2.936349e-05 2.923281e-05  2.921798e-05"
      ]
     },
     "metadata": {},
     "output_type": "display_data"
    }
   ],
   "source": [
    "tail(test_data)"
   ]
  },
  {
   "cell_type": "code",
   "execution_count": 15,
   "id": "12ad8ea5-bc2b-4294-a4bd-65dce88cb8e7",
   "metadata": {},
   "outputs": [],
   "source": [
    "test_data$random_lo <- all_data$random_avMut-all_data$random_stderrMut\n",
    "test_data$random_hi <- all_data$random_avMut+all_data$random_stderrMut\n",
    "\n",
    "test_data$triprep_lo <- all_data$triprep_avMut-all_data$triprep_stderrMut\n",
    "test_data$triprep_hi <- all_data$triprep_avMut+all_data$triprep_stderrMut\n",
    "\n",
    "test_data$inter_lo <- all_data$inter_avMut-all_data$inter_stderrMut\n",
    "test_data$inter_hi <- all_data$inter_avMut+all_data$inter_stderrMut"
   ]
  },
  {
   "cell_type": "code",
   "execution_count": 16,
   "id": "dcaa1ad9-1d7f-43ee-8f76-d2cb1414fc21",
   "metadata": {},
   "outputs": [],
   "source": [
    "long_test_data <- pivot_longer(test_data, cols=!gens , names_to=\"line\" , values_to=\"avMut\" )"
   ]
  },
  {
   "cell_type": "code",
   "execution_count": 17,
   "id": "1fb43b2a-083b-4f0a-8012-f5252f49a621",
   "metadata": {},
   "outputs": [],
   "source": [
    "long_test_data$fill = NA\n",
    "long_test_data$fill[grep( \"random\" , long_test_data$line  )] = \"random\"\n",
    "long_test_data$fill[grep( \"triprep\" , long_test_data$line  )] = \"triprep\"\n",
    "long_test_data$fill[grep( \"inter\" , long_test_data$line  )] = \"inter\""
   ]
  },
  {
   "cell_type": "code",
   "execution_count": 18,
   "id": "a64dbdf4-3cf3-451f-8fdf-e7b428b550b8",
   "metadata": {},
   "outputs": [],
   "source": [
    "long_test_data1 <- long_test_data %>% \n",
    "    mutate(line = gsub(\"inter_\", \"\", line)) %>% \n",
    "    mutate(line = gsub(\"random_\", \"\", line)) %>% \n",
    "    mutate(line = gsub(\"triprep_\", \"\", line)) %>% \n",
    "    pivot_wider(id_cols = c(gens, fill), names_from = line, values_from = avMut)"
   ]
  },
  {
   "cell_type": "code",
   "execution_count": 19,
   "id": "29b20c8f-8260-4074-bfda-509ec4d2f2ab",
   "metadata": {},
   "outputs": [
    {
     "data": {
      "text/html": [
       "<table>\n",
       "<thead><tr><th scope=col>gens</th><th scope=col>fill</th><th scope=col>avMut</th><th scope=col>lo</th><th scope=col>hi</th></tr></thead>\n",
       "<tbody>\n",
       "\t<tr><td>0           </td><td>random      </td><td>6.157891e-05</td><td>6.140923e-05</td><td>6.174859e-05</td></tr>\n",
       "\t<tr><td>0           </td><td>triprep     </td><td>3.797823e-05</td><td>3.786833e-05</td><td>3.808813e-05</td></tr>\n",
       "\t<tr><td>0           </td><td>inter       </td><td>3.366473e-05</td><td>3.318564e-05</td><td>3.414381e-05</td></tr>\n",
       "\t<tr><td>1           </td><td>random      </td><td>6.150819e-05</td><td>6.133946e-05</td><td>6.167691e-05</td></tr>\n",
       "\t<tr><td>1           </td><td>triprep     </td><td>3.794659e-05</td><td>3.783760e-05</td><td>3.805559e-05</td></tr>\n",
       "\t<tr><td>1           </td><td>inter       </td><td>3.364314e-05</td><td>3.316516e-05</td><td>3.412111e-05</td></tr>\n",
       "</tbody>\n",
       "</table>\n"
      ],
      "text/latex": [
       "\\begin{tabular}{r|lllll}\n",
       " gens & fill & avMut & lo & hi\\\\\n",
       "\\hline\n",
       "\t 0            & random       & 6.157891e-05 & 6.140923e-05 & 6.174859e-05\\\\\n",
       "\t 0            & triprep      & 3.797823e-05 & 3.786833e-05 & 3.808813e-05\\\\\n",
       "\t 0            & inter        & 3.366473e-05 & 3.318564e-05 & 3.414381e-05\\\\\n",
       "\t 1            & random       & 6.150819e-05 & 6.133946e-05 & 6.167691e-05\\\\\n",
       "\t 1            & triprep      & 3.794659e-05 & 3.783760e-05 & 3.805559e-05\\\\\n",
       "\t 1            & inter        & 3.364314e-05 & 3.316516e-05 & 3.412111e-05\\\\\n",
       "\\end{tabular}\n"
      ],
      "text/markdown": [
       "\n",
       "| gens | fill | avMut | lo | hi |\n",
       "|---|---|---|---|---|\n",
       "| 0            | random       | 6.157891e-05 | 6.140923e-05 | 6.174859e-05 |\n",
       "| 0            | triprep      | 3.797823e-05 | 3.786833e-05 | 3.808813e-05 |\n",
       "| 0            | inter        | 3.366473e-05 | 3.318564e-05 | 3.414381e-05 |\n",
       "| 1            | random       | 6.150819e-05 | 6.133946e-05 | 6.167691e-05 |\n",
       "| 1            | triprep      | 3.794659e-05 | 3.783760e-05 | 3.805559e-05 |\n",
       "| 1            | inter        | 3.364314e-05 | 3.316516e-05 | 3.412111e-05 |\n",
       "\n"
      ],
      "text/plain": [
       "  gens fill    avMut        lo           hi          \n",
       "1 0    random  6.157891e-05 6.140923e-05 6.174859e-05\n",
       "2 0    triprep 3.797823e-05 3.786833e-05 3.808813e-05\n",
       "3 0    inter   3.366473e-05 3.318564e-05 3.414381e-05\n",
       "4 1    random  6.150819e-05 6.133946e-05 6.167691e-05\n",
       "5 1    triprep 3.794659e-05 3.783760e-05 3.805559e-05\n",
       "6 1    inter   3.364314e-05 3.316516e-05 3.412111e-05"
      ]
     },
     "metadata": {},
     "output_type": "display_data"
    }
   ],
   "source": [
    "head(long_test_data1)"
   ]
  },
  {
   "cell_type": "code",
   "execution_count": 30,
   "id": "a8afe73f-c912-443b-8c08-7d13485d17a9",
   "metadata": {},
   "outputs": [
    {
     "name": "stderr",
     "output_type": "stream",
     "text": [
      "Saving 6.67 x 6.67 in image\n"
     ]
    },
    {
     "data": {
      "image/png": "[encoded data removed]",
      "text/plain": [
       "plot without title"
      ]
     },
     "metadata": {},
     "output_type": "display_data"
    }
   ],
   "source": [
    "ggplot(long_test_data1) +\n",
    "    geom_ribbon(aes(x=gens, ymin=lo, ymax=hi, fill = fill), alpha=0.5) +\n",
    "    geom_line(aes(x=gens, y=avMut, color = fill)) +\n",
    "    labs( y=\"Mutability\" , x=\"Generations\",color=\"Sequence class\",fill=\"Sequence class\")+\n",
    "    scale_color_manual(labels=c(random = \"random with uniform \\n triplet frequencies\", triprep = \"random with human \\n triplet frequencies\", inter=\"human intergenic\"),values = c(random = \"black\", triprep = \"navy\", inter=\"green4\")) + \n",
    "    scale_fill_manual(labels=c(random = \"random with uniform \\n triplet frequencies\", triprep = \"random with human \\n triplet frequencies\", inter=\"human intergenic\"),values = c(random = \"grey\", triprep = \"cornflowerblue\", inter=\"palegreen\"))+\n",
    "#     ylim(2.9e-05, 3.6e-05)+\n",
    "    theme_bw()+\n",
    "    theme(\n",
    "        legend.position = c(0.8,0.9),\n",
    "        axis.text = element_text(size = 18, family = 'Helvetica', color = 'black'),\n",
    "        axis.title = element_text(size = 18, family = 'Helvetica'),\n",
    "        legend.title = element_text(size=12, family = 'Helvetica'),\n",
    "        legend.text = element_text(size = 12, family = 'Helvetica')\n",
    "       \n",
    "    ) # http://www.sthda.com/english/wiki/ggplot2-legend-easy-steps-to-change-the-position-and-the-appearance-of-a-graph-legend-in-r-software\n",
    "ggsave(paste(\"plots/allSeqClass_100n_5kbp_2xCov_stderr_Apprisal\",toString(Sys.Date()),\".pdf\",sep=\"\"))"
   ]
  }
 ],
 "metadata": {
  "kernelspec": {
   "display_name": "R [conda env:.conda-mutEq]",
   "language": "R",
   "name": "conda-env-.conda-mutEq-r"
  },
  "language_info": {
   "codemirror_mode": "r",
   "file_extension": ".r",
   "mimetype": "text/x-r-source",
   "name": "R",
   "pygments_lexer": "r",
   "version": "3.6.1"
  }
 },
 "nbformat": 4,
 "nbformat_minor": 5
}
