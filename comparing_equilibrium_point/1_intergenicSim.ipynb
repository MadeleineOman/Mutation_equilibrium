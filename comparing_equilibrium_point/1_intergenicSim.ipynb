{
 "cells": [
  {
   "cell_type": "markdown",
   "id": "f3f8c820-a963-40f8-ae42-15a8614ffd13",
   "metadata": {},
   "source": [
    "# **sample 100 intergenic regions and simulate to equilibrium** "
   ]
  },
  {
   "cell_type": "code",
   "execution_count": 1,
   "id": "505e2fdb-096c-4ae9-9e6c-d5448a0ed186",
   "metadata": {},
   "outputs": [],
   "source": [
    "!cp ../../../../mutation_equilibrium/analysis/coding_v_noncoding_mutability/intergenic.fasta ./"
   ]
  },
  {
   "cell_type": "code",
   "execution_count": 117,
   "id": "2727c2e8-3b88-4e40-aee8-6124e2c44c82",
   "metadata": {},
   "outputs": [],
   "source": [
    "from Bio import SeqIO\n",
    "import numpy as np \n",
    "import matplotlib.pyplot as plt\n",
    "import random\n",
    "import json \n",
    "import pandas as pd \n",
    "from tqdm import tqdm "
   ]
  },
  {
   "cell_type": "code",
   "execution_count": 8,
   "id": "f885ad20-8631-4045-8d4d-1ae36e09e84b",
   "metadata": {},
   "outputs": [],
   "source": [
    "#mutability model \n",
    "model = json.load(open(\"../Human_mutability_model/Model_2020_12_02_genomeWide.txt\"))"
   ]
  },
  {
   "cell_type": "markdown",
   "id": "bee2fbc5-49b7-4475-a5bb-0de2d8ad5a6a",
   "metadata": {},
   "source": [
    "**data exploration**"
   ]
  },
  {
   "cell_type": "code",
   "execution_count": 118,
   "id": "e1971220-bc6f-40a0-8f2c-3686f17ac902",
   "metadata": {
    "tags": []
   },
   "outputs": [
    {
     "name": "stderr",
     "output_type": "stream",
     "text": [
      "30452it [00:04, 7110.30it/s] \n"
     ]
    }
   ],
   "source": [
    "intergen_counter = 0\n",
    "intergen_len = []\n",
    "for seqRec in tqdm(SeqIO.parse(open(\"intergenic.fasta\"),\"fasta\")): \n",
    "    intergen_counter += 1\n",
    "    intergen_len.append(len(seqRec.seq))"
   ]
  },
  {
   "cell_type": "code",
   "execution_count": 2,
   "id": "924bfc66-efaa-4fcc-ab0f-04a679ccad19",
   "metadata": {
    "tags": []
   },
   "outputs": [],
   "source": [
    "intergen_counter = 0\n",
    "intergen_len = []\n",
    "for seqRec in SeqIO.parse(open(\"intergenic.fasta\"),\"fasta\"): \n",
    "    intergen_counter += 1\n",
    "    intergen_len.append(len(seqRec.seq))"
   ]
  },
  {
   "cell_type": "code",
   "execution_count": 84,
   "id": "11996552-a9e5-48d1-8a87-316a35185d15",
   "metadata": {},
   "outputs": [
    {
     "data": {
      "text/plain": [
       "(array([8416., 3422., 2532., 1837., 1543., 1332., 1076.,  901.,  791.,\n",
       "         639.,  603.,  482.,  485.,  428.,  390.,  353.,  290.,  293.,\n",
       "         259.]),\n",
       " array([    0,  5000, 10000, 15000, 20000, 25000, 30000, 35000, 40000,\n",
       "        45000, 50000, 55000, 60000, 65000, 70000, 75000, 80000, 85000,\n",
       "        90000, 95000]),\n",
       " <BarContainer object of 19 artists>)"
      ]
     },
     "execution_count": 84,
     "metadata": {},
     "output_type": "execute_result"
    },
    {
     "data": {
      "image/png": "[encoded data removed]",
      "text/plain": [
       "<Figure size 432x288 with 1 Axes>"
      ]
     },
     "metadata": {
      "needs_background": "light"
     },
     "output_type": "display_data"
    }
   ],
   "source": [
    "plt.hist(intergen_len, bins=range(0, 100000,5000))"
   ]
  },
  {
   "cell_type": "markdown",
   "id": "5261bd92-b1ee-425e-a113-d1ea4d6e1b9c",
   "metadata": {},
   "source": [
    "**sample the intergenic**"
   ]
  },
  {
   "cell_type": "code",
   "execution_count": 3,
   "id": "74ab58e5-4558-427e-ad1f-1a5a3bb0efb3",
   "metadata": {},
   "outputs": [],
   "source": [
    "intergen_ids = []\n",
    "for seqRec in SeqIO.parse(open(\"intergenic.fasta\"),\"fasta\"):\n",
    "    intergen_ids.append(seqRec.id )"
   ]
  },
  {
   "cell_type": "code",
   "execution_count": 4,
   "id": "c4007338-598e-476d-8680-278d7ade096f",
   "metadata": {},
   "outputs": [],
   "source": [
    "chosen_intergen_ids = random.choices(intergen_ids,k=2000) #arbitrarily high sample number to make sure 100 seqs will have length >= 1005"
   ]
  },
  {
   "cell_type": "code",
   "execution_count": 97,
   "id": "8719274b-befe-44f9-aeda-ff4634b7c1dc",
   "metadata": {
    "tags": []
   },
   "outputs": [],
   "source": [
    "chosen_intergen_randSeq = {}\n",
    "for seqRec in SeqIO.parse(open(\"intergenic.fasta\"),\"fasta\"):\n",
    "    if seqRec.id in chosen_intergen_ids: \n",
    "        if len(seqRec.seq) >= 5000: \n",
    "            if \"N\" not in seqRec.seq:\n",
    "                random_start =random.choice(range(0,len(seqRec)-5000))\n",
    "                random_seq = str(seqRec.seq[random_start:random_start+5000]).upper()\n",
    "                chosen_intergen_randSeq[seqRec.id] = random_seq\n"
   ]
  },
  {
   "cell_type": "code",
   "execution_count": 98,
   "id": "72186b63-2cb8-4c79-ab0c-3f8b48463800",
   "metadata": {},
   "outputs": [
    {
     "data": {
      "text/plain": [
       "1384"
      ]
     },
     "execution_count": 98,
     "metadata": {},
     "output_type": "execute_result"
    }
   ],
   "source": [
    "len(chosen_intergen_randSeq)"
   ]
  },
  {
   "cell_type": "code",
   "execution_count": 9,
   "id": "326026fc-38e5-4462-8658-270e3de8b9c8",
   "metadata": {},
   "outputs": [],
   "source": [
    "# all_muts = []\n",
    "# for randSeq in chosen_intergen_randSeq.values():\n",
    "#     assert len(randSeq) == 1000\n",
    "#     seq_muts = []\n",
    "#     for i in range(1,len(randSeq)-1): \n",
    "#         triplet = randSeq[i-1:i+2]\n",
    "#         seq_muts.append(model[triplet][0])\n",
    "#     all_muts.append(np.mean(seq_muts))"
   ]
  },
  {
   "cell_type": "code",
   "execution_count": 11,
   "id": "a0902bc2-70b4-4b21-9a88-029a9f1e79fa",
   "metadata": {},
   "outputs": [
    {
     "data": {
      "text/plain": [
       "(2.9780098232247944e-05, 1.9641691823111413e-07)"
      ]
     },
     "execution_count": 11,
     "metadata": {},
     "output_type": "execute_result"
    }
   ],
   "source": [
    "# np.mean(seq_muts), np.std(all_muts)/np.sqrt(len(all_muts))"
   ]
  },
  {
   "cell_type": "code",
   "execution_count": 99,
   "id": "982d0eeb-c5dd-47a0-8846-84d6ccc3c809",
   "metadata": {},
   "outputs": [],
   "source": [
    "#cut down to 100 n \n",
    "chosen_intergen_randSeq_1 = {}\n",
    "for key in list(chosen_intergen_randSeq.keys())[0:100]:\n",
    "    chosen_intergen_randSeq_1[key] = chosen_intergen_randSeq[key]"
   ]
  },
  {
   "cell_type": "markdown",
   "id": "10333eeb-3478-46ed-9e08-9d979022a03e",
   "metadata": {},
   "source": [
    "**analyzing the chosen intergen seq**"
   ]
  },
  {
   "cell_type": "code",
   "execution_count": 101,
   "id": "1dfd8b2a-39b1-46af-a665-84b1a753906d",
   "metadata": {},
   "outputs": [],
   "source": [
    "mut_allNonCDS = []\n",
    "for seq in chosen_intergen_randSeq_1.values(): \n",
    "    assert len(seq)==5000\n",
    "    mut_seq = []\n",
    "    for i in range(1,len(seq)-1): \n",
    "        triplet = seq[i-1:i+2]\n",
    "        mut_triplet = model[triplet][0]\n",
    "        mut_seq.append(mut_triplet)\n",
    "    mut_allNonCDS.append(np.mean(mut_seq))"
   ]
  },
  {
   "cell_type": "code",
   "execution_count": 102,
   "id": "b9439bcb-6dfd-44de-984e-6ace0edf99ef",
   "metadata": {},
   "outputs": [
    {
     "data": {
      "text/plain": [
       "(3.370058240981012e-05, 1.0575351238552181e-06)"
      ]
     },
     "execution_count": 102,
     "metadata": {},
     "output_type": "execute_result"
    }
   ],
   "source": [
    "np.mean(mut_allNonCDS), np.std(mut_allNonCDS)/np.sqrt(trialN)"
   ]
  },
  {
   "cell_type": "code",
   "execution_count": 103,
   "id": "fb044037-88b6-43c2-a589-1c28eade920c",
   "metadata": {
    "tags": []
   },
   "outputs": [
    {
     "data": {
      "image/png": "[encoded data removed]",
      "text/plain": [
       "<Figure size 432x288 with 1 Axes>"
      ]
     },
     "metadata": {
      "needs_background": "light"
     },
     "output_type": "display_data"
    }
   ],
   "source": [
    "plt.hist(mut_allNonCDS)\n",
    "plt.xlabel(\"Relative Mutability\")\n",
    "plt.title(\"Mutability for all 100 5kbp seqs chosen\")\n",
    "plt.show()"
   ]
  },
  {
   "cell_type": "markdown",
   "id": "086ac9ac-5aa5-4242-8369-9c8de1f3c7e4",
   "metadata": {},
   "source": [
    "**do the simulation**\n",
    "- take code from the intronOnly_avMut_2021_03_22.py script "
   ]
  },
  {
   "cell_type": "code",
   "execution_count": 52,
   "id": "6e069ba2-cf24-47de-ae86-a2a5af990aab",
   "metadata": {},
   "outputs": [],
   "source": [
    "!cp ../verifying_equilibrium_point/intronOnly_avMut_2021_03_22.py ./"
   ]
  },
  {
   "cell_type": "code",
   "execution_count": 20,
   "id": "a8b0c84b-d1c9-4ed9-987c-b39a350ad1d8",
   "metadata": {},
   "outputs": [],
   "source": [
    "#imports ~~~~~~~~~~~~~~~~~~~~~~~~~~~~~~~~~~~~~~~~~~~\n",
    "from numpy.random import choice\n",
    "import copy \n",
    "#from tqdm import tqdm\n",
    "import sys \n",
    "from datetime import datetime\n",
    "import time\n",
    "import timeit\n",
    "import numpy as np \n",
    "import json\n",
    "from tqdm import tqdm"
   ]
  },
  {
   "cell_type": "code",
   "execution_count": 21,
   "id": "9efcbd73-ebde-4c00-8e48-209490787ff9",
   "metadata": {},
   "outputs": [],
   "source": [
    "#defining funtions ~~~~~~~~~~~~~~~~~~~~~~~~~~~~~~~~~~~~~~~\n",
    "def base_to_mutate(DNA, current_weights, indices): \n",
    "    \"\"\"\n",
    "    (DNA: str, weights: Dict) -> int\n",
    "    \n",
    "    Will return the index of a random choice of a base that will be mutated based on probabilities given by the\n",
    "    weights dictionary (i.e. the model)\n",
    "    ex. \"ATCGTA\" --> index 3 (\"G\") will mutate\n",
    "    \"\"\"\n",
    "\n",
    "    # NORMALIZE THE POPULATION OF WEIGHTS    \n",
    "    total_freq = sum(current_weights) - current_weights[0] - current_weights[-1] # remove the start and end weight\n",
    "    normalized_weights = [\"error\"]*len(current_weights)\n",
    "    for index, value in enumerate(current_weights):\n",
    "        normalized_weights[index] = value/total_freq \n",
    "    \n",
    "    normalized_weights[0] = 0\n",
    "    normalized_weights[-1] = 0\n",
    "    # DRAW THE INDEX OF THE BASE THAT WILL BE MUTATED\n",
    "    base_index = choice(indices, p=normalized_weights) \n",
    "    \n",
    "\n",
    "    # RETURN THE INDEX\n",
    "    return base_index "
   ]
  },
  {
   "cell_type": "code",
   "execution_count": 22,
   "id": "567af708-9549-4e13-8f6a-d06f5a940972",
   "metadata": {},
   "outputs": [],
   "source": [
    "#triplets\n",
    "triplets = []\n",
    "for i_1 in [\"A\", \"T\", \"G\", \"C\"]: \n",
    "    for i_2 in [\"A\", \"T\", \"G\", \"C\"]: \n",
    "        for i_3 in [\"A\", \"T\", \"G\", \"C\"]: \n",
    "            triplets.append(i_1+i_2+i_3)\n",
    "\n",
    "#parameters \n",
    "prop_muts = 2"
   ]
  },
  {
   "cell_type": "code",
   "execution_count": 105,
   "id": "04b71647-94c3-4f72-92c1-554049b77e2a",
   "metadata": {},
   "outputs": [
    {
     "name": "stderr",
     "output_type": "stream",
     "text": [
      "100%|██████████| 100/100 [27:45<00:00, 16.66s/it]\n"
     ]
    }
   ],
   "source": [
    "for key,DNA in tqdm(chosen_intergen_randSeq_1.items()): \n",
    "# for DNA in chosen_intergen_randSeq: \n",
    "    \n",
    "    trialN = list(chosen_intergen_randSeq_1.keys()).index(key)\n",
    "    \n",
    "    #write initial dna \n",
    "    file = open(\"data/humanIntergenic/{t}_DNAI.txt\".format(t=trialN), \"w\")\n",
    "    file.write(str(DNA))\n",
    "    file.close()\n",
    "\n",
    "    #set up ~~~~~~~~~~~~~~~~~~~~~~~~~~~~~~~~~\n",
    "    #triplet-count dict \n",
    "    triplet_chosen_count_dict = {}\n",
    "    triplet_into_count_dict = {}\n",
    "    for triplet in triplets: \n",
    "        triplet_chosen_count_dict[triplet] = [0,0,0]  \n",
    "        triplet_into_count_dict[triplet] = [0,0,0]\n",
    "\n",
    "    #making the weights \n",
    "    current_weights = []\n",
    "    for i in range(1,len(DNA)-1): \n",
    "        triplet = DNA[i-1:i+2]\n",
    "        current_weights.append(model[triplet][0])\n",
    "\n",
    "    indices = [i for i in range(1, len(DNA)-1)]\n",
    "    mut_indices = []\n",
    "\n",
    "    #making the av muts lists\n",
    "    #creating the black plotting lists \n",
    "    av_mutability = []\n",
    "    intron_mut = []\n",
    "    exon_mut = []\n",
    "\n",
    "    \n",
    "\n",
    "    #runnign the sim ~~~~~~~~~~~~~~~~~~~~~~~~~~~~~~~~~~~~~~~~~~~~~~~~~~~~~~~~~~~~~~~~~~~~~~~~~~~~~~~~~~~~~\n",
    "    for i in range((int(len(DNA)*prop_muts))):\n",
    "        base_index = base_to_mutate(DNA, current_weights, indices)\n",
    "\n",
    "        mut_indices.append(base_index)\n",
    "\n",
    "        #adding the count for \"chosen to mutate\" in coutns dict \n",
    "        c_triplet = DNA[base_index-1: base_index+2]\n",
    "        c_triplet_left = DNA[base_index-2: base_index+1]\n",
    "        c_triplet_right = DNA[base_index: base_index+3]    \n",
    "        triplet_chosen_count_dict[c_triplet_left][0] += 1\n",
    "        triplet_chosen_count_dict[c_triplet][1] += 1\n",
    "        triplet_chosen_count_dict[c_triplet_right][2] += 1\n",
    "\n",
    "        #accurate model INTO probability ~~~~~~~~~~~~~~~~~~~~~~~~~~~~~~~~~~~~~~OR ^ \n",
    "        curr_into_bases = []\n",
    "        curr_into_bases_probs = []\n",
    "        for into_base, prob in model[c_triplet][1].items(): \n",
    "            curr_into_bases.append(into_base)\n",
    "            curr_into_bases_probs.append(prob)\n",
    "        mb =  choice(curr_into_bases, p = curr_into_bases_probs)[1]\n",
    "\n",
    "\n",
    "        #chanaging the dna \n",
    "        DNA = DNA[:base_index]+mb+DNA[base_index+1:]\n",
    "\n",
    "        #updating the weights \n",
    "        m_triplet = c_triplet[0]+mb+c_triplet[2]\n",
    "        m_triplet_left = c_triplet_left[0:2]+mb\n",
    "        m_triplet_right = mb+c_triplet_right[1:3]\n",
    "        current_weights[base_index-2]= model[m_triplet_left][0]    \n",
    "        current_weights[base_index-1]= model[m_triplet][0]\n",
    "        current_weights[base_index] = model[m_triplet_right][0]\n",
    "        \n",
    "        #adding the count for \"mutated into thiss\" in the triplet dict \n",
    "#         triplet_into_count_dict[m_triplet_left][0] += 1 \n",
    "#         triplet_into_count_dict[m_triplet][1] += 1 \n",
    "#         triplet_into_count_dict[m_triplet_right][2] += 1 \n",
    "\n",
    "        #appending the av mut lists \n",
    "        av_mutability.append(np.mean(current_weights))\n",
    "\n",
    "\n",
    "#     text_file = open(\"data/{t}_triplet_into_count_dict.txt\".format(t=trialN), \"w\")\n",
    "#     n = text_file.write(json.dumps(triplet_into_count_dict))\n",
    "#     text_file.close()\n",
    "\n",
    "#     text_file = open(\"data/{t}_triplet_chosen_count_dict.txt\".format(t=trialN), \"w\")\n",
    "#     n = text_file.write(json.dumps(triplet_chosen_count_dict))\n",
    "#     text_file.close()\n",
    "\n",
    "    file = open(\"data/humanIntergenic/{t}_DNA.txt\".format(t=trialN), \"w\")\n",
    "    file.write(str(DNA))\n",
    "    file.close()\n",
    "\n",
    "    file = open(\"data/humanIntergenic/{t}_avMut.txt\".format(t=trialN), \"w\")\n",
    "    file.write(json.dumps(av_mutability))\n",
    "    file.close()\n"
   ]
  },
  {
   "cell_type": "markdown",
   "id": "dca33d00-99bb-421f-a518-12cc652eda57",
   "metadata": {},
   "source": [
    "### **create plotting df**"
   ]
  },
  {
   "cell_type": "code",
   "execution_count": 108,
   "id": "d97e1f69-6484-40f8-9539-2b4aef767f60",
   "metadata": {},
   "outputs": [
    {
     "data": {
      "text/plain": [
       "range(0, 99)"
      ]
     },
     "execution_count": 108,
     "metadata": {},
     "output_type": "execute_result"
    }
   ],
   "source": [
    "range(trialN)"
   ]
  },
  {
   "cell_type": "code",
   "execution_count": 112,
   "id": "972c31b7-5925-4381-a5b7-b45be96f5d5a",
   "metadata": {},
   "outputs": [
    {
     "name": "stderr",
     "output_type": "stream",
     "text": [
      "100%|██████████| 99/99 [00:00<00:00, 209.58it/s]\n"
     ]
    }
   ],
   "source": [
    "data_dict = {\"gens\":[x for x in range(10000)]}\n",
    "for i in tqdm(range(trialN)): \n",
    "    data_dict[\"trial\"+str(i)] = json.load(open(\"data/humanIntergenic/{}_avMut.txt\".format(i)))"
   ]
  },
  {
   "cell_type": "code",
   "execution_count": 113,
   "id": "54a048b6-f022-42c1-a256-2e4285193bf7",
   "metadata": {},
   "outputs": [],
   "source": [
    "data_df = pd.DataFrame.from_dict(data_dict)"
   ]
  },
  {
   "cell_type": "code",
   "execution_count": 116,
   "id": "8441b39c-92bb-49ee-9e8f-6d9aff9f2ac5",
   "metadata": {},
   "outputs": [],
   "source": [
    "data_df.to_csv(\"data/humanIntergenic/data_df_5kbp.csv\")"
   ]
  },
  {
   "cell_type": "code",
   "execution_count": null,
   "id": "f48521dc-fef4-4261-9db3-32f15cc342ad",
   "metadata": {},
   "outputs": [],
   "source": []
  },
  {
   "cell_type": "code",
   "execution_count": null,
   "id": "c50aefbc-3082-42cd-8984-9d5a67c4d4cc",
   "metadata": {},
   "outputs": [],
   "source": []
  },
  {
   "cell_type": "code",
   "execution_count": null,
   "id": "b9b8cbec-6ffc-4ae3-bcd4-2ac8fc9022f0",
   "metadata": {},
   "outputs": [],
   "source": []
  },
  {
   "cell_type": "code",
   "execution_count": null,
   "id": "bf3eebfa-a270-4a99-8a33-2fcae7c71e1d",
   "metadata": {},
   "outputs": [],
   "source": []
  },
  {
   "cell_type": "code",
   "execution_count": null,
   "id": "a78bdb41-ca98-4ada-a88c-46c237843d01",
   "metadata": {},
   "outputs": [],
   "source": []
  },
  {
   "cell_type": "code",
   "execution_count": null,
   "id": "7121fa25-9b72-41db-9392-9e3f009b5840",
   "metadata": {},
   "outputs": [],
   "source": []
  },
  {
   "cell_type": "code",
   "execution_count": null,
   "id": "cd79a198-ebfa-4853-8680-14484e5db019",
   "metadata": {},
   "outputs": [],
   "source": []
  },
  {
   "cell_type": "code",
   "execution_count": null,
   "id": "980477ca-bb42-4059-8fb9-648f7719cd2a",
   "metadata": {},
   "outputs": [],
   "source": []
  },
  {
   "cell_type": "code",
   "execution_count": null,
   "id": "76a00a42-4418-42cf-b82b-89da8399103b",
   "metadata": {},
   "outputs": [],
   "source": []
  },
  {
   "cell_type": "code",
   "execution_count": null,
   "id": "52641172-450e-4c59-aada-095711c52f23",
   "metadata": {},
   "outputs": [],
   "source": []
  },
  {
   "cell_type": "code",
   "execution_count": null,
   "id": "fd525100-dd47-4e2e-ac9b-8c2b779941cd",
   "metadata": {},
   "outputs": [],
   "source": []
  },
  {
   "cell_type": "code",
   "execution_count": null,
   "id": "50bde6e3-e9bf-414d-bfe8-c7979cdb9cc4",
   "metadata": {},
   "outputs": [],
   "source": []
  },
  {
   "cell_type": "markdown",
   "id": "3df3d757-56fb-41dc-a004-809e15a0b688",
   "metadata": {},
   "source": [
    "### **plottign average**"
   ]
  },
  {
   "cell_type": "code",
   "execution_count": 38,
   "id": "bb49aeac-c6d9-4641-92e6-8edd8e5516ea",
   "metadata": {},
   "outputs": [
    {
     "name": "stderr",
     "output_type": "stream",
     "text": [
      "100%|██████████| 2000/2000 [03:00<00:00, 11.08it/s]\n"
     ]
    }
   ],
   "source": [
    "avMut_allNonCDS = []\n",
    "stderrMut_allNonCDS = []\n",
    "for i in tqdm(range(len(json.load(open(\"data/humanIntergenic/1_avMut.txt\"))))): \n",
    "    avMuts_pos = []\n",
    "    for j in range(trialN): \n",
    "        avMuts_pos.append(json.load(open(\"data/humanIntergenic/{}_avMut.txt\".format(j)))[i])\n",
    "    avMut_allNonCDS.append(np.mean(avMuts_pos))\n",
    "    stderrMut_allNonCDS.append(np.std(avMuts_pos)/np.sqrt(100))# 100 = the number of trials"
   ]
  },
  {
   "cell_type": "code",
   "execution_count": 29,
   "id": "9981472a-8563-41a3-ac0f-aeeda2bd15af",
   "metadata": {},
   "outputs": [
    {
     "data": {
      "text/plain": [
       "(2.93007076963938e-05, 1.5080979157990998e-07)"
      ]
     },
     "execution_count": 29,
     "metadata": {},
     "output_type": "execute_result"
    }
   ],
   "source": [
    "avMut_allNonCDS[-1], stderrMut_allNonCDS[-1]"
   ]
  },
  {
   "cell_type": "code",
   "execution_count": 39,
   "id": "4cdf98d7-b38d-42be-b42d-19f8a2b22871",
   "metadata": {},
   "outputs": [
    {
     "data": {
      "text/plain": [
       "(2.9138002107897025e-05, 1.3353437225941693e-07)"
      ]
     },
     "execution_count": 39,
     "metadata": {},
     "output_type": "execute_result"
    }
   ],
   "source": [
    "avMut_allNonCDS[-1], stderrMut_allNonCDS[-1]"
   ]
  },
  {
   "cell_type": "code",
   "execution_count": 43,
   "id": "21e9f7ff-5d98-4daa-aca5-7c0477f035ff",
   "metadata": {},
   "outputs": [],
   "source": [
    "belowError_allNonCDS =  []\n",
    "aboveError_allNonCDS = []\n",
    "for avMut, stderr in zip(avMut_allNonCDS, stderrMut_allNonCDS): \n",
    "    belowError_allNonCDS.append(avMut-stderr)\n",
    "    aboveError_allNonCDS.append(avMut+stderr)\n",
    "belowError_allNonCDS = np.array(belowError_allNonCDS)\n",
    "aboveError_allNonCDS = np.array(aboveError_allNonCDS)"
   ]
  },
  {
   "cell_type": "code",
   "execution_count": 44,
   "id": "27bc6d11-243d-4e8e-b3b3-009c689b1148",
   "metadata": {},
   "outputs": [
    {
     "data": {
      "text/plain": [
       "2000"
      ]
     },
     "execution_count": 44,
     "metadata": {},
     "output_type": "execute_result"
    }
   ],
   "source": [
    "len([x for x in range(2000)])"
   ]
  },
  {
   "cell_type": "code",
   "execution_count": 76,
   "id": "8b7e86f8-18e7-4f43-afe8-0796b7f88dc1",
   "metadata": {
    "tags": []
   },
   "outputs": [
    {
     "data": {
      "image/png": "[encoded data removed]",
      "text/plain": [
       "<Figure size 432x288 with 1 Axes>"
      ]
     },
     "metadata": {
      "needs_background": "light"
     },
     "output_type": "display_data"
    }
   ],
   "source": [
    "plt.plot([x for x in range(2000)],avMut_allNonCDS)\n",
    "\n",
    "plt.fill_between([x for x in range(2000)],belowError_allNonCDS,aboveError_allNonCDS, color = \"powderblue\")\n",
    "# plt.show()\n",
    "# timestamp = datetime.now().strftime(\"%Y/%m/%d_%H:%M:%S\").replace(\"/\", \"_\").replace(\":\", \"_\")\n",
    "# plt.tight_layout()\n",
    "plt.xlabel(\"generation\")\n",
    "plt.ylabel(\"relative mutability\")\n",
    "plt.show()\n",
    "# plt.savefig(\"plots/equilibrium_humanIntergenic_100n_1kbp_2xCov_stderr_trial2.pdf\")"
   ]
  }
 ],
 "metadata": {
  "kernelspec": {
   "display_name": "Python [conda env:.conda-mutEq]",
   "language": "python",
   "name": "conda-env-.conda-mutEq-py"
  },
  "language_info": {
   "codemirror_mode": {
    "name": "ipython",
    "version": 3
   },
   "file_extension": ".py",
   "mimetype": "text/x-python",
   "name": "python",
   "nbconvert_exporter": "python",
   "pygments_lexer": "ipython3",
   "version": "3.9.6"
  }
 },
 "nbformat": 4,
 "nbformat_minor": 5
}
