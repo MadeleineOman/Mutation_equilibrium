{
 "cells": [
  {
   "cell_type": "markdown",
   "id": "4c112cab-49d6-4756-80df-b9eccffeea3d",
   "metadata": {},
   "source": [
    "# **averaging (smoothing) the data**"
   ]
  },
  {
   "cell_type": "code",
   "execution_count": 24,
   "id": "27ca38b2-b857-44f7-a039-75e7ebd579bb",
   "metadata": {},
   "outputs": [],
   "source": [
    "import pandas as pd \n",
    "import numpy as  np \n",
    "import matplotlib.pyplot as plt "
   ]
  },
  {
   "cell_type": "markdown",
   "id": "115489bb-8a3d-4dbb-94bd-5e1c815e2f80",
   "metadata": {},
   "source": [
    "**loading the data and converting to dictionary**"
   ]
  },
  {
   "cell_type": "code",
   "execution_count": 2,
   "id": "29f8c086-5cfc-409f-8565-a0b29ba1f893",
   "metadata": {},
   "outputs": [],
   "source": [
    "all_data = pd.read_csv(\"data/all_data_df_avMut_stderr.csv\")"
   ]
  },
  {
   "cell_type": "code",
   "execution_count": 3,
   "id": "3b76470c-a656-48b9-88e0-c916de7dc43c",
   "metadata": {},
   "outputs": [
    {
     "data": {
      "text/html": [
       "<div>\n",
       "<style scoped>\n",
       "    .dataframe tbody tr th:only-of-type {\n",
       "        vertical-align: middle;\n",
       "    }\n",
       "\n",
       "    .dataframe tbody tr th {\n",
       "        vertical-align: top;\n",
       "    }\n",
       "\n",
       "    .dataframe thead th {\n",
       "        text-align: right;\n",
       "    }\n",
       "</style>\n",
       "<table border=\"1\" class=\"dataframe\">\n",
       "  <thead>\n",
       "    <tr style=\"text-align: right;\">\n",
       "      <th></th>\n",
       "      <th>Unnamed: 0</th>\n",
       "      <th>gens</th>\n",
       "      <th>random_avMut</th>\n",
       "      <th>random_sdMut</th>\n",
       "      <th>random_stderrMut</th>\n",
       "      <th>triprep_avMut</th>\n",
       "      <th>triprep_sdMut</th>\n",
       "      <th>triprep_stderrMut</th>\n",
       "      <th>inter_avMut</th>\n",
       "      <th>inter_sdMut</th>\n",
       "      <th>inter_stderrMut</th>\n",
       "    </tr>\n",
       "  </thead>\n",
       "  <tbody>\n",
       "    <tr>\n",
       "      <th>0</th>\n",
       "      <td>1</td>\n",
       "      <td>0</td>\n",
       "      <td>0.000062</td>\n",
       "      <td>0.000002</td>\n",
       "      <td>1.696816e-07</td>\n",
       "      <td>0.000038</td>\n",
       "      <td>0.000001</td>\n",
       "      <td>1.099022e-07</td>\n",
       "      <td>0.000034</td>\n",
       "      <td>0.000005</td>\n",
       "      <td>4.790859e-07</td>\n",
       "    </tr>\n",
       "    <tr>\n",
       "      <th>1</th>\n",
       "      <td>2</td>\n",
       "      <td>1</td>\n",
       "      <td>0.000062</td>\n",
       "      <td>0.000002</td>\n",
       "      <td>1.687208e-07</td>\n",
       "      <td>0.000038</td>\n",
       "      <td>0.000001</td>\n",
       "      <td>1.089962e-07</td>\n",
       "      <td>0.000034</td>\n",
       "      <td>0.000005</td>\n",
       "      <td>4.779759e-07</td>\n",
       "    </tr>\n",
       "    <tr>\n",
       "      <th>2</th>\n",
       "      <td>3</td>\n",
       "      <td>2</td>\n",
       "      <td>0.000061</td>\n",
       "      <td>0.000002</td>\n",
       "      <td>1.677207e-07</td>\n",
       "      <td>0.000038</td>\n",
       "      <td>0.000001</td>\n",
       "      <td>1.091420e-07</td>\n",
       "      <td>0.000034</td>\n",
       "      <td>0.000005</td>\n",
       "      <td>4.763877e-07</td>\n",
       "    </tr>\n",
       "    <tr>\n",
       "      <th>3</th>\n",
       "      <td>4</td>\n",
       "      <td>3</td>\n",
       "      <td>0.000061</td>\n",
       "      <td>0.000002</td>\n",
       "      <td>1.681055e-07</td>\n",
       "      <td>0.000038</td>\n",
       "      <td>0.000001</td>\n",
       "      <td>1.095455e-07</td>\n",
       "      <td>0.000034</td>\n",
       "      <td>0.000005</td>\n",
       "      <td>4.757448e-07</td>\n",
       "    </tr>\n",
       "    <tr>\n",
       "      <th>4</th>\n",
       "      <td>5</td>\n",
       "      <td>4</td>\n",
       "      <td>0.000061</td>\n",
       "      <td>0.000002</td>\n",
       "      <td>1.676245e-07</td>\n",
       "      <td>0.000038</td>\n",
       "      <td>0.000001</td>\n",
       "      <td>1.091474e-07</td>\n",
       "      <td>0.000034</td>\n",
       "      <td>0.000005</td>\n",
       "      <td>4.752375e-07</td>\n",
       "    </tr>\n",
       "  </tbody>\n",
       "</table>\n",
       "</div>"
      ],
      "text/plain": [
       "   Unnamed: 0  gens  random_avMut  random_sdMut  random_stderrMut  \\\n",
       "0           1     0      0.000062      0.000002      1.696816e-07   \n",
       "1           2     1      0.000062      0.000002      1.687208e-07   \n",
       "2           3     2      0.000061      0.000002      1.677207e-07   \n",
       "3           4     3      0.000061      0.000002      1.681055e-07   \n",
       "4           5     4      0.000061      0.000002      1.676245e-07   \n",
       "\n",
       "   triprep_avMut  triprep_sdMut  triprep_stderrMut  inter_avMut  inter_sdMut  \\\n",
       "0       0.000038       0.000001       1.099022e-07     0.000034     0.000005   \n",
       "1       0.000038       0.000001       1.089962e-07     0.000034     0.000005   \n",
       "2       0.000038       0.000001       1.091420e-07     0.000034     0.000005   \n",
       "3       0.000038       0.000001       1.095455e-07     0.000034     0.000005   \n",
       "4       0.000038       0.000001       1.091474e-07     0.000034     0.000005   \n",
       "\n",
       "   inter_stderrMut  \n",
       "0     4.790859e-07  \n",
       "1     4.779759e-07  \n",
       "2     4.763877e-07  \n",
       "3     4.757448e-07  \n",
       "4     4.752375e-07  "
      ]
     },
     "execution_count": 3,
     "metadata": {},
     "output_type": "execute_result"
    }
   ],
   "source": [
    "all_data.head()"
   ]
  },
  {
   "cell_type": "markdown",
   "id": "4d0641bc-1c41-4dab-af2a-07e638ad05bb",
   "metadata": {},
   "source": [
    "**doing the averaging**"
   ]
  },
  {
   "cell_type": "code",
   "execution_count": 19,
   "id": "06021c4f-87ab-490b-9afb-c36de6b6d81a",
   "metadata": {
    "tags": []
   },
   "outputs": [],
   "source": [
    "window_size = 1000\n",
    "overlap_size = 500\n",
    "sliding_window_X = [x for x in range(0,len(avMut_values)-overlap_size,window_size-overlap_size)]"
   ]
  },
  {
   "cell_type": "code",
   "execution_count": 27,
   "id": "f0516e3f-d75e-4806-9794-de0c820021fa",
   "metadata": {},
   "outputs": [],
   "source": [
    "sliding_window_random = []\n",
    "sliding_window_triprep = []\n",
    "sliding_window_inter = []\n",
    "sliding_window_gens = []\n",
    "\n",
    "for i in sliding_window_X: \n",
    "    sliding_window_gens.append(i+500)\n",
    "    sliding_window_random.append(np.mean(all_data.random_avMut[i:i+window_size]))\n",
    "    sliding_window_triprep.append(np.mean(all_data.triprep_avMut[i:i+window_size]))\n",
    "    sliding_window_inter.append(np.mean(all_data.inter_avMut[i:i+window_size]))"
   ]
  },
  {
   "cell_type": "code",
   "execution_count": 29,
   "id": "7e8e966b-240c-497b-8635-6cfaa4e2a385",
   "metadata": {},
   "outputs": [],
   "source": [
    "#https://www.geeksforgeeks.org/create-a-pandas-dataframe-from-lists/\n",
    "all_data_df = pd.DataFrame(list(zip(sliding_window_gens, sliding_window_random,sliding_window_triprep,sliding_window_inter)),\n",
    "               columns =['gens', 'random',\"triprep\",\"intergenic\"])"
   ]
  },
  {
   "cell_type": "code",
   "execution_count": 32,
   "id": "73efda83-fc97-4f66-842e-22cc3da85a60",
   "metadata": {},
   "outputs": [],
   "source": [
    "all_data_df.to_csv(\"data/all_data_df_avMut_stderr_smoothed_{}window_{}overlap.csv\".format(window_size,overlap_size))"
   ]
  },
  {
   "cell_type": "markdown",
   "id": "778a9710-b5d9-42e6-8fd2-231f380a2279",
   "metadata": {},
   "source": [
    "**see 5.2 notebook for analysis**"
   ]
  }
 ],
 "metadata": {
  "kernelspec": {
   "display_name": "Python [conda env:.conda-mutEq]",
   "language": "python",
   "name": "conda-env-.conda-mutEq-py"
  },
  "language_info": {
   "codemirror_mode": {
    "name": "ipython",
    "version": 3
   },
   "file_extension": ".py",
   "mimetype": "text/x-python",
   "name": "python",
   "nbconvert_exporter": "python",
   "pygments_lexer": "ipython3",
   "version": "3.9.6"
  }
 },
 "nbformat": 4,
 "nbformat_minor": 5
}
