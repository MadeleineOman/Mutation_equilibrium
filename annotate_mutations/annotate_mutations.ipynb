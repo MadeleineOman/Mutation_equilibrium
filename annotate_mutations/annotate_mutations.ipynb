{
 "cells": [
  {
   "cell_type": "code",
   "execution_count": 19,
   "id": "7c624f4f-b0c1-4811-b912-2609538f104d",
   "metadata": {},
   "outputs": [],
   "source": [
    "%%bash\n",
    "\n",
    "(zgrep ^\"#\" /research/references/hsapiens/hg38/hg38.ncbiRefSeq.gtf.gz; zgrep -v ^\"#\" /research/references/hsapiens/hg38/hg38.ncbiRefSeq.gtf.gz | sort -k1,1 -k4,4n) | bgzip > /research/references/hsapiens/hg38/hg38.ncbiRefSeq.gtf.bgz;\n",
    "tabix -p gff /research/references/hsapiens/hg38/hg38.ncbiRefSeq.gtf.bgz"
   ]
  },
  {
   "cell_type": "code",
   "execution_count": 22,
   "id": "0c05ab3e-9159-4bbf-b84d-bdd43b52fb83",
   "metadata": {},
   "outputs": [],
   "source": [
    "import pysam"
   ]
  },
  {
   "cell_type": "code",
   "execution_count": 23,
   "id": "3f1614fa-a44a-4d72-af93-6ebd7eada489",
   "metadata": {},
   "outputs": [],
   "source": [
    "tb= pysam.TabixFile(\"/research/references/hsapiens/hg38/hg38.ncbiRefSeq.gtf.bgz\")"
   ]
  },
  {
   "cell_type": "code",
   "execution_count": 70,
   "id": "66819ffe-71de-460a-b1dc-e93fdabf8827",
   "metadata": {},
   "outputs": [],
   "source": [
    "def get_features(chromosome, position, gff_tabix):\n",
    "    \"\"\"\n",
    "    chromosome [STR] that is the contig/sequence/chromosome the mutation is on\n",
    "    position [INT] the 1-based position of the mutation\n",
    "    gff_tabix [PYSAM TABIXFILE OBJECT] this is a tabix indexed file that has been opened in pysam with  pysam.TabixFile(filename)\n",
    "\n",
    "    Returns list of all features that overlap the mutation\n",
    "    \"\"\"\n",
    "    feature_types = list(set([l.split()[2] for l in gff_tabix.fetch(chromosome, position,position+1)]))\n",
    "    if len(feature_types) == 0:\n",
    "        return [\"intergenic\"]\n",
    "    else:\n",
    "        return feature_types\n",
    "\n",
    "    \n",
    "    \n",
    "    \n",
    "class AnnotationError(Exception):\n",
    "       pass\n",
    "\n",
    "\n",
    "def annotate_site(chromosome, position, gff_tabix):\n",
    "    \"\"\"\n",
    "    Uses some funky logic to identify \n",
    "    \"\"\"\n",
    "    features = get_features(chromosome, position, gff_tabix)\n",
    "    if \"intergenic\" in features:\n",
    "        return \"intergenic\"\n",
    "    elif \"CDS\" in features:\n",
    "        return \"coding\"\n",
    "    elif \"3UTR\" in features or \"5UTR\" in features:\n",
    "        return \"utr\"\n",
    "    elif \"exon\" in features:\n",
    "        # I don't really know what these are \n",
    "        return \"non_coding_nonUTR_exonic\"\n",
    "    elif \"transcript\" in features:\n",
    "        # this is probably introns but I am not writing introns because I wonder if I am forgetting something else\n",
    "        return \"intronic\"\n",
    "    else:\n",
    "        # if it still isn't annotated - stop what you're doing and look at the feature list\n",
    "        # probably modify the code\n",
    "        raise AnnotationError(\"FeatureList is weird AF:\\t\" + str(features))     "
   ]
  },
  {
   "cell_type": "markdown",
   "id": "21b7d28a-afce-484c-a9b4-e58f1164e6ab",
   "metadata": {},
   "source": [
    "# Annotating Random sites "
   ]
  },
  {
   "cell_type": "code",
   "execution_count": 74,
   "id": "9deede6d-943a-4f90-b281-f048add90d15",
   "metadata": {},
   "outputs": [],
   "source": [
    "import random    \n",
    "\n",
    "\n",
    "N=0\n",
    "while N < 100000:\n",
    "    N+=1\n",
    "    chromosome = \"chr\" + str( random.randint(1,22) )\n",
    "    position  = random.randint(100000,5000000)\n",
    "#     print(chromosome,position, sep=\"\\t\", end=\"\\t\")\n",
    "#     print(annotate_site(chromosome, position, tb), end= \"\\t\")\n",
    "#     print(get_features(chromosome, position, tb))\n",
    "    a=annotate_site(chromosome, position, tb)\n"
   ]
  },
  {
   "cell_type": "code",
   "execution_count": 65,
   "id": "40d28fc4-f8cc-4f3e-99b7-bc7599e1d9f6",
   "metadata": {},
   "outputs": [
    {
     "data": {
      "text/plain": [
       "['5UTR', 'exon', 'transcript', 'CDS']"
      ]
     },
     "execution_count": 65,
     "metadata": {},
     "output_type": "execute_result"
    }
   ],
   "source": [
    "get_features(\"chr16\", 4845075,tb)"
   ]
  },
  {
   "cell_type": "code",
   "execution_count": null,
   "id": "55dc3585-08a7-41b2-af60-882f86b66821",
   "metadata": {},
   "outputs": [],
   "source": []
  }
 ],
 "metadata": {
  "kernelspec": {
   "display_name": "work",
   "language": "python",
   "name": "work"
  },
  "language_info": {
   "codemirror_mode": {
    "name": "ipython",
    "version": 3
   },
   "file_extension": ".py",
   "mimetype": "text/x-python",
   "name": "python",
   "nbconvert_exporter": "python",
   "pygments_lexer": "ipython3",
   "version": "3.6.13"
  }
 },
 "nbformat": 4,
 "nbformat_minor": 5
}
