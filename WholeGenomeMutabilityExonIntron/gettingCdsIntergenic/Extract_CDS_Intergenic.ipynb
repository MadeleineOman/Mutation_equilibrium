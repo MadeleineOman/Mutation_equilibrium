{
 "cells": [
  {
   "cell_type": "markdown",
   "metadata": {},
   "source": [
    "# **getting coding and intergenic seqeunces**"
   ]
  },
  {
   "cell_type": "code",
   "execution_count": 32,
   "metadata": {},
   "outputs": [],
   "source": [
    "import gzip\n",
    "from collections import OrderedDict"
   ]
  },
  {
   "cell_type": "code",
   "execution_count": 33,
   "metadata": {},
   "outputs": [],
   "source": [
    "#hg38 annotation file, i think from http://hgdownload.soe.ucsc.edu/goldenPath/hg38/bigZips/genes/\n",
    "gtf_file = '/scratch/research/references/hsapiens/hg38/hg38.ncbiRefSeq.gtf.gz'"
   ]
  },
  {
   "cell_type": "code",
   "execution_count": 47,
   "metadata": {},
   "outputs": [],
   "source": [
    "class gtf_line():\n",
    "    def __init__(self, l, info_delimiter=\";\", info_field_delimiter = '='):\n",
    "        self.seqid, self.source, self.type, self.start, self.end,\\\n",
    "        self.score, self.strand, self.phase, self.attribs = l.split('\\t')\n",
    "        self.start = int(self.start)\n",
    "        self.end = int(self.end)\n",
    "    def attribute_dict(self, attributes, info_delimiter=\"; \", info_field_delimiter = ' '): ###this is fragile\n",
    "        d = OrderedDict()\n",
    "        attributes = attributes.split(info_delimiter)\n",
    "        for kv in attributes:\n",
    "            k,v = kv.split()\n",
    "            v = v.strip(';')\n",
    "            v = v.strip('\"')\n",
    "            d[k]=v\n",
    "        return d"
   ]
  },
  {
   "cell_type": "code",
   "execution_count": 64,
   "metadata": {},
   "outputs": [],
   "source": [
    "from Bio import SeqIO\n",
    "\n",
    "#hg38 human genome from elsewhere in our server \n",
    "ref_dict = SeqIO.to_dict(SeqIO.parse(gzip.open('/scratch/research/references/hsapiens/hg38/hg38.fa.gz', 'rt'), 'fasta'))"
   ]
  },
  {
   "cell_type": "code",
   "execution_count": null,
   "metadata": {},
   "outputs": [],
   "source": [
    "bc =0\n",
    "last_transcript = []\n",
    "current_ch = ''\n",
    "intergenic_outfile = open(\"intergenic.fasta\", 'w')\n",
    "for l in gzip.open(gtf_file, \"r\"):\n",
    "    l = l.decode('utf8').strip()\n",
    "    g = gtf_line(l)\n",
    "    if g.type != 'transcript':continue\n",
    "    if g.seqid != current_ch:\n",
    "        print(g.seqid)\n",
    "        if len(g.seqid) >5:\n",
    "            continue\n",
    "        last_transcript = g\n",
    "        current_ch = g.seqid\n",
    "        print(current_ch)\n",
    "        continue\n",
    "    #if this new transcript doesn't overlap the last output the intergenic region\n",
    "    if g.start > last_transcript.end:\n",
    "        # new non overlapping\n",
    "        # output intergenic\n",
    "        seq = ref_dict[g.seqid].seq[int(last_transcript.end)-1: int(g.start)]\n",
    "        intergenic_outfile.write(\">{c}:{s}-{e}\\n{seq}\\n\".format(c=g.seqid,s=last_transcript.end,e=g.start,seq=str(seq)))\n",
    "        # set last\n",
    "    last_transcript = g\n",
    "    "
   ]
  },
  {
   "cell_type": "code",
   "execution_count": 78,
   "metadata": {},
   "outputs": [],
   "source": [
    "intergenic_outfile.close()"
   ]
  },
  {
   "cell_type": "code",
   "execution_count": 81,
   "metadata": {},
   "outputs": [
    {
     "name": "stdout",
     "output_type": "stream",
     "text": [
      "30452\n"
     ]
    }
   ],
   "source": [
    "!grep \">\" intergenic.fasta |wc -l"
   ]
  },
  {
   "cell_type": "code",
   "execution_count": null,
   "metadata": {},
   "outputs": [],
   "source": [
    "bc =0\n",
    "last_cds = None\n",
    "current_ch = ''\n",
    "cds_outfile = open(\"cds.fasta\", 'w')\n",
    "for l in gzip.open(gtf_file, \"r\"):\n",
    "    l = l.decode('utf8').strip()\n",
    "    g = gtf_line(l)\n",
    "    if g.type != 'CDS':continue\n",
    "    if g.seqid != current_ch:\n",
    "        if len(g.seqid) >5:\n",
    "            continue\n",
    "        print(g.seqid)\n",
    "        last_cds = g\n",
    "        current_ch = g.seqid\n",
    "        print(current_ch)\n",
    "        continue\n",
    "    #if this new transcript doesn't overlap the last output the intergenic region\n",
    "    if g.start > last_cds.end:\n",
    "        # new non overlapping\n",
    "        # output intergenic\n",
    "        seq = ref_dict[g.seqid].seq[g.start-1: g.end]\n",
    "        cds_outfile.write(\">{c}:{s}-{e}\\n{seq}\\n\".format(c=g.seqid,s=g.start,e=g.end,seq=str(seq)))\n",
    "        # set last\n",
    "    last_cds = g\n",
    "    "
   ]
  }
 ],
 "metadata": {
  "kernelspec": {
   "display_name": "Python 3 (ipykernel)",
   "language": "python",
   "name": "python3"
  },
  "language_info": {
   "codemirror_mode": {
    "name": "ipython",
    "version": 3
   },
   "file_extension": ".py",
   "mimetype": "text/x-python",
   "name": "python",
   "nbconvert_exporter": "python",
   "pygments_lexer": "ipython3",
   "version": "3.9.6"
  }
 },
 "nbformat": 4,
 "nbformat_minor": 4
}
