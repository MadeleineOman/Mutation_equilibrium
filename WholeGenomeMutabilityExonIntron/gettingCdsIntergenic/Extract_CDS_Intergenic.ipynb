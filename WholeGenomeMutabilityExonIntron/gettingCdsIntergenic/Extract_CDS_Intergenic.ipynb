{
 "cells": [
  {
   "cell_type": "code",
   "execution_count": 32,
   "metadata": {},
   "outputs": [],
   "source": [
    "import gzip\n",
    "from collections import OrderedDict"
   ]
  },
  {
   "cell_type": "code",
   "execution_count": 33,
   "metadata": {},
   "outputs": [],
   "source": [
    "gtf_file = '/scratch/research/references/hsapiens/hg38/hg38.ncbiRefSeq.gtf.gz'"
   ]
  },
  {
   "cell_type": "code",
   "execution_count": 47,
   "metadata": {},
   "outputs": [],
   "source": [
    "class gtf_line():\n",
    "    def __init__(self, l, info_delimiter=\";\", info_field_delimiter = '='):\n",
    "        self.seqid, self.source, self.type, self.start, self.end,\\\n",
    "        self.score, self.strand, self.phase, self.attribs = l.split('\\t')\n",
    "        self.start = int(self.start)\n",
    "        self.end = int(self.end)\n",
    "    def attribute_dict(self, attributes, info_delimiter=\"; \", info_field_delimiter = ' '): ###this is fragile\n",
    "        d = OrderedDict()\n",
    "        attributes = attributes.split(info_delimiter)\n",
    "        for kv in attributes:\n",
    "            k,v = kv.split()\n",
    "            v = v.strip(';')\n",
    "            v = v.strip('\"')\n",
    "            d[k]=v\n",
    "        return d"
   ]
  },
  {
   "cell_type": "code",
   "execution_count": 64,
   "metadata": {},
   "outputs": [],
   "source": [
    "from Bio import SeqIO\n",
    "\n",
    "ref_dict = SeqIO.to_dict(SeqIO.parse(gzip.open('/scratch/research/references/hsapiens/hg38/hg38.fa.gz', 'rt'), 'fasta'))"
   ]
  },
  {
   "cell_type": "code",
   "execution_count": null,
   "metadata": {},
   "outputs": [],
   "source": [
    "bc =0\n",
    "last_transcript = []\n",
    "current_ch = ''\n",
    "intergenic_outfile = open(\"intergenic.fasta\", 'w')\n",
    "for l in gzip.open(gtf_file, \"r\"):\n",
    "    l = l.decode('utf8').strip()\n",
    "    g = gtf_line(l)\n",
    "    if g.type != 'transcript':continue\n",
    "    if g.seqid != current_ch:\n",
    "        print(g.seqid)\n",
    "        if len(g.seqid) >5:\n",
    "            continue\n",
    "        last_transcript = g\n",
    "        current_ch = g.seqid\n",
    "        print(current_ch)\n",
    "        continue\n",
    "    #if this new transcript doesn't overlap the last output the intergenic region\n",
    "    if g.start > last_transcript.end:\n",
    "        # new non overlapping\n",
    "        # output intergenic\n",
    "        seq = ref_dict[g.seqid].seq[int(last_transcript.end)-1: int(g.start)]\n",
    "        intergenic_outfile.write(\">{c}:{s}-{e}\\n{seq}\\n\".format(c=g.seqid,s=last_transcript.end,e=g.start,seq=str(seq)))\n",
    "        # set last\n",
    "    last_transcript = g\n",
    "    "
   ]
  },
  {
   "cell_type": "code",
   "execution_count": 78,
   "metadata": {},
   "outputs": [],
   "source": [
    "intergenic_outfile.close()"
   ]
  },
  {
   "cell_type": "code",
   "execution_count": 81,
   "metadata": {},
   "outputs": [
    {
     "name": "stdout",
     "output_type": "stream",
     "text": [
      "30452\n"
     ]
    }
   ],
   "source": [
    "!grep \">\" intergenic.fasta |wc -l"
   ]
  },
  {
   "cell_type": "code",
   "execution_count": null,
   "metadata": {},
   "outputs": [],
   "source": [
    "bc =0\n",
    "last_cds = None\n",
    "current_ch = ''\n",
    "cds_outfile = open(\"cds.fasta\", 'w')\n",
    "for l in gzip.open(gtf_file, \"r\"):\n",
    "    l = l.decode('utf8').strip()\n",
    "    g = gtf_line(l)\n",
    "    if g.type != 'CDS':continue\n",
    "    if g.seqid != current_ch:\n",
    "        if len(g.seqid) >5:\n",
    "            continue\n",
    "        print(g.seqid)\n",
    "        last_cds = g\n",
    "        current_ch = g.seqid\n",
    "        print(current_ch)\n",
    "        continue\n",
    "    #if this new transcript doesn't overlap the last output the intergenic region\n",
    "    if g.start > last_cds.end:\n",
    "        # new non overlapping\n",
    "        # output intergenic\n",
    "        seq = ref_dict[g.seqid].seq[g.start-1: g.end]\n",
    "        cds_outfile.write(\">{c}:{s}-{e}\\n{seq}\\n\".format(c=g.seqid,s=g.start,e=g.end,seq=str(seq)))\n",
    "        # set last\n",
    "    last_cds = g\n",
    "    "
   ]
  },
  {
   "cell_type": "code",
   "execution_count": 85,
   "metadata": {},
   "outputs": [],
   "source": [
    "cds_outfile.close()"
   ]
  },
  {
   "cell_type": "code",
   "execution_count": 84,
   "metadata": {},
   "outputs": [
    {
     "name": "stdout",
     "output_type": "stream",
     "text": [
      ">chr1:358070-358183\n",
      ">chr1:373144-373323\n",
      ">chr1:379769-379870\n",
      ">chr1:399041-399100\n",
      ">chr1:365565-365692\n",
      ">chr1:373144-373323\n",
      ">chr1:379769-379870\n",
      ">chr1:399041-399100\n",
      ">chr1:450743-451678\n",
      ">chr1:586842-586955\n",
      "grep: write error\n"
     ]
    }
   ],
   "source": [
    "!grep \">\" cds.fasta |head"
   ]
  },
  {
   "cell_type": "code",
   "execution_count": 57,
   "metadata": {},
   "outputs": [
    {
     "name": "stdout",
     "output_type": "stream",
     "text": [
      "chr1\tncbiRefSeq\ttranscript\t11874\t14409\t.\t+\t.\tgene_id \"DDX11L1\"; transcript_id \"NR_046018.2\";  gene_name \"DDX11L1\";\n",
      "chr1\tncbiRefSeq\texon\t11874\t12227\t.\t+\t.\tgene_id \"DDX11L1\"; transcript_id \"NR_046018.2\"; exon_number \"1\"; exon_id \"NR_046018.2.1\"; gene_name \"DDX11L1\";\n",
      "chr1\tncbiRefSeq\texon\t12613\t12721\t.\t+\t.\tgene_id \"DDX11L1\"; transcript_id \"NR_046018.2\"; exon_number \"2\"; exon_id \"NR_046018.2.2\"; gene_name \"DDX11L1\";\n",
      "chr1\tncbiRefSeq\texon\t13221\t14409\t.\t+\t.\tgene_id \"DDX11L1\"; transcript_id \"NR_046018.2\"; exon_number \"3\"; exon_id \"NR_046018.2.3\"; gene_name \"DDX11L1\";\n",
      "chr1\tncbiRefSeq\ttranscript\t14362\t29370\t.\t-\t.\tgene_id \"WASH7P\"; transcript_id \"NR_024540.1\";  gene_name \"WASH7P\";\n",
      "chr1\tncbiRefSeq\texon\t14362\t14829\t.\t-\t.\tgene_id \"WASH7P\"; transcript_id \"NR_024540.1\"; exon_number \"1\"; exon_id \"NR_024540.1.1\"; gene_name \"WASH7P\";\n",
      "chr1\tncbiRefSeq\texon\t14970\t15038\t.\t-\t.\tgene_id \"WASH7P\"; transcript_id \"NR_024540.1\"; exon_number \"2\"; exon_id \"NR_024540.1.2\"; gene_name \"WASH7P\";\n",
      "chr1\tncbiRefSeq\texon\t15796\t15947\t.\t-\t.\tgene_id \"WASH7P\"; transcript_id \"NR_024540.1\"; exon_number \"3\"; exon_id \"NR_024540.1.3\"; gene_name \"WASH7P\";\n",
      "chr1\tncbiRefSeq\texon\t16607\t16765\t.\t-\t.\tgene_id \"WASH7P\"; transcript_id \"NR_024540.1\"; exon_number \"4\"; exon_id \"NR_024540.1.4\"; gene_name \"WASH7P\";\n",
      "chr1\tncbiRefSeq\texon\t16858\t17055\t.\t-\t.\tgene_id \"WASH7P\"; transcript_id \"NR_024540.1\"; exon_number \"5\"; exon_id \"NR_024540.1.5\"; gene_name \"WASH7P\";\n",
      "chr1\tncbiRefSeq\texon\t17233\t17368\t.\t-\t.\tgene_id \"WASH7P\"; transcript_id \"NR_024540.1\"; exon_number \"6\"; exon_id \"NR_024540.1.6\"; gene_name \"WASH7P\";\n",
      "chr1\tncbiRefSeq\texon\t17606\t17742\t.\t-\t.\tgene_id \"WASH7P\"; transcript_id \"NR_024540.1\"; exon_number \"7\"; exon_id \"NR_024540.1.7\"; gene_name \"WASH7P\";\n",
      "chr1\tncbiRefSeq\texon\t17915\t18061\t.\t-\t.\tgene_id \"WASH7P\"; transcript_id \"NR_024540.1\"; exon_number \"8\"; exon_id \"NR_024540.1.8\"; gene_name \"WASH7P\";\n",
      "chr1\tncbiRefSeq\texon\t18268\t18366\t.\t-\t.\tgene_id \"WASH7P\"; transcript_id \"NR_024540.1\"; exon_number \"9\"; exon_id \"NR_024540.1.9\"; gene_name \"WASH7P\";\n",
      "chr1\tncbiRefSeq\texon\t24738\t24891\t.\t-\t.\tgene_id \"WASH7P\"; transcript_id \"NR_024540.1\"; exon_number \"10\"; exon_id \"NR_024540.1.10\"; gene_name \"WASH7P\";\n",
      "chr1\tncbiRefSeq\texon\t29321\t29370\t.\t-\t.\tgene_id \"WASH7P\"; transcript_id \"NR_024540.1\"; exon_number \"11\"; exon_id \"NR_024540.1.11\"; gene_name \"WASH7P\";\n",
      "chr1\tncbiRefSeq\ttranscript\t17369\t17436\t.\t-\t.\tgene_id \"MIR6859-1\"; transcript_id \"NR_106918.1\";  gene_name \"MIR6859-1\";\n",
      "chr1\tncbiRefSeq\texon\t17369\t17436\t.\t-\t.\tgene_id \"MIR6859-1\"; transcript_id \"NR_106918.1\"; exon_number \"1\"; exon_id \"NR_106918.1.1\"; gene_name \"MIR6859-1\";\n",
      "chr1\tncbiRefSeq\ttranscript\t29926\t31295\t.\t+\t.\tgene_id \"MIR1302-2HG\"; transcript_id \"XR_001737835.1\";  gene_name \"MIR1302-2HG\";\n",
      "chr1\tncbiRefSeq\texon\t29926\t30039\t.\t+\t.\tgene_id \"MIR1302-2HG\"; transcript_id \"XR_001737835.1\"; exon_number \"1\"; exon_id \"XR_001737835.1.1\"; gene_name \"MIR1302-2HG\";\n",
      "chr1\tncbiRefSeq\texon\t30564\t30667\t.\t+\t.\tgene_id \"MIR1302-2HG\"; transcript_id \"XR_001737835.1\"; exon_number \"2\"; exon_id \"XR_001737835.1.2\"; gene_name \"MIR1302-2HG\";\n",
      "chr1\tncbiRefSeq\texon\t30976\t31295\t.\t+\t.\tgene_id \"MIR1302-2HG\"; transcript_id \"XR_001737835.1\"; exon_number \"3\"; exon_id \"XR_001737835.1.3\"; gene_name \"MIR1302-2HG\";\n",
      "chr1\tncbiRefSeq\ttranscript\t30366\t30503\t.\t+\t.\tgene_id \"MIR1302-2\"; transcript_id \"NR_036051.1\";  gene_name \"MIR1302-2\";\n",
      "chr1\tncbiRefSeq\texon\t30366\t30503\t.\t+\t.\tgene_id \"MIR1302-2\"; transcript_id \"NR_036051.1\"; exon_number \"1\"; exon_id \"NR_036051.1.1\"; gene_name \"MIR1302-2\";\n",
      "chr1\tncbiRefSeq\ttranscript\t34611\t36081\t.\t-\t.\tgene_id \"FAM138A\"; transcript_id \"NR_026818.1\";  gene_name \"FAM138A\";\n",
      "chr1\tncbiRefSeq\texon\t34611\t35174\t.\t-\t.\tgene_id \"FAM138A\"; transcript_id \"NR_026818.1\"; exon_number \"1\"; exon_id \"NR_026818.1.1\"; gene_name \"FAM138A\";\n",
      "chr1\tncbiRefSeq\texon\t35277\t35481\t.\t-\t.\tgene_id \"FAM138A\"; transcript_id \"NR_026818.1\"; exon_number \"2\"; exon_id \"NR_026818.1.2\"; gene_name \"FAM138A\";\n",
      "chr1\tncbiRefSeq\texon\t35721\t36081\t.\t-\t.\tgene_id \"FAM138A\"; transcript_id \"NR_026818.1\"; exon_number \"3\"; exon_id \"NR_026818.1.3\"; gene_name \"FAM138A\";\n",
      "chr1\tncbiRefSeq\ttranscript\t69091\t70008\t.\t+\t.\tgene_id \"OR4F5\"; transcript_id \"NM_001005484.1\";  gene_name \"OR4F5\";\n",
      "chr1\tncbiRefSeq\texon\t69091\t70008\t.\t+\t.\tgene_id \"OR4F5\"; transcript_id \"NM_001005484.1\"; exon_number \"1\"; exon_id \"NM_001005484.1.1\"; gene_name \"OR4F5\";\n",
      "chr1\tncbiRefSeq\tCDS\t69091\t70005\t.\t+\t0\tgene_id \"OR4F5\"; transcript_id \"NM_001005484.1\"; exon_number \"1\"; exon_id \"NM_001005484.1.1\"; gene_name \"OR4F5\";\n",
      "chr1\tncbiRefSeq\tstart_codon\t69091\t69093\t.\t+\t0\tgene_id \"OR4F5\"; transcript_id \"NM_001005484.1\"; exon_number \"1\"; exon_id \"NM_001005484.1.1\"; gene_name \"OR4F5\";\n",
      "chr1\tncbiRefSeq\tstop_codon\t70006\t70008\t.\t+\t0\tgene_id \"OR4F5\"; transcript_id \"NM_001005484.1\"; exon_number \"1\"; exon_id \"NM_001005484.1.1\"; gene_name \"OR4F5\";\n",
      "chr1\tncbiRefSeq\ttranscript\t89006\t120798\t.\t-\t.\tgene_id \"LOC100996442\"; transcript_id \"XR_001737584.2\";  gene_name \"LOC100996442\";\n",
      "chr1\tncbiRefSeq\texon\t89006\t91629\t.\t-\t.\tgene_id \"LOC100996442\"; transcript_id \"XR_001737584.2\"; exon_number \"1\"; exon_id \"XR_001737584.2.1\"; gene_name \"LOC100996442\";\n",
      "chr1\tncbiRefSeq\texon\t92091\t92240\t.\t-\t.\tgene_id \"LOC100996442\"; transcript_id \"XR_001737584.2\"; exon_number \"2\"; exon_id \"XR_001737584.2.2\"; gene_name \"LOC100996442\";\n",
      "chr1\tncbiRefSeq\texon\t120775\t120798\t.\t-\t.\tgene_id \"LOC100996442\"; transcript_id \"XR_001737584.2\"; exon_number \"3\"; exon_id \"XR_001737584.2.3\"; gene_name \"LOC100996442\";\n",
      "chr1\tncbiRefSeq\ttranscript\t89006\t120814\t.\t-\t.\tgene_id \"LOC100996442\"; transcript_id \"XR_001737581.2\";  gene_name \"LOC100996442\";\n",
      "chr1\tncbiRefSeq\texon\t89006\t91629\t.\t-\t.\tgene_id \"LOC100996442\"; transcript_id \"XR_001737581.2\"; exon_number \"1\"; exon_id \"XR_001737581.2.1\"; gene_name \"LOC100996442\";\n",
      "chr1\tncbiRefSeq\texon\t92091\t92240\t.\t-\t.\tgene_id \"LOC100996442\"; transcript_id \"XR_001737581.2\"; exon_number \"2\"; exon_id \"XR_001737581.2.2\"; gene_name \"LOC100996442\";\n",
      "chr1\tncbiRefSeq\texon\t112700\t112804\t.\t-\t.\tgene_id \"LOC100996442\"; transcript_id \"XR_001737581.2\"; exon_number \"3\"; exon_id \"XR_001737581.2.3\"; gene_name \"LOC100996442\";\n",
      "chr1\tncbiRefSeq\texon\t120721\t120814\t.\t-\t.\tgene_id \"LOC100996442\"; transcript_id \"XR_001737581.2\"; exon_number \"4\"; exon_id \"XR_001737581.2.4\"; gene_name \"LOC100996442\";\n",
      "chr1\tncbiRefSeq\ttranscript\t89006\t168093\t.\t-\t.\tgene_id \"LOC100996442\"; transcript_id \"XR_001737583.2\";  gene_name \"LOC100996442\";\n",
      "chr1\tncbiRefSeq\texon\t89006\t91629\t.\t-\t.\tgene_id \"LOC100996442\"; transcript_id \"XR_001737583.2\"; exon_number \"1\"; exon_id \"XR_001737583.2.1\"; gene_name \"LOC100996442\";\n",
      "chr1\tncbiRefSeq\texon\t92091\t92240\t.\t-\t.\tgene_id \"LOC100996442\"; transcript_id \"XR_001737583.2\"; exon_number \"2\"; exon_id \"XR_001737583.2.2\"; gene_name \"LOC100996442\";\n",
      "chr1\tncbiRefSeq\texon\t165884\t165942\t.\t-\t.\tgene_id \"LOC100996442\"; transcript_id \"XR_001737583.2\"; exon_number \"3\"; exon_id \"XR_001737583.2.3\"; gene_name \"LOC100996442\";\n",
      "chr1\tncbiRefSeq\texon\t167964\t168093\t.\t-\t.\tgene_id \"LOC100996442\"; transcript_id \"XR_001737583.2\"; exon_number \"4\"; exon_id \"XR_001737583.2.4\"; gene_name \"LOC100996442\";\n",
      "chr1\tncbiRefSeq\ttranscript\t89006\t174414\t.\t-\t.\tgene_id \"LOC100996442\"; transcript_id \"XR_001737578.2\";  gene_name \"LOC100996442\";\n",
      "chr1\tncbiRefSeq\texon\t89006\t91629\t.\t-\t.\tgene_id \"LOC100996442\"; transcript_id \"XR_001737578.2\"; exon_number \"1\"; exon_id \"XR_001737578.2.1\"; gene_name \"LOC100996442\";\n",
      "chr1\tncbiRefSeq\texon\t92091\t92240\t.\t-\t.\tgene_id \"LOC100996442\"; transcript_id \"XR_001737578.2\"; exon_number \"2\"; exon_id \"XR_001737578.2.2\"; gene_name \"LOC100996442\";\n",
      "chr1\tncbiRefSeq\texon\t165884\t165942\t.\t-\t.\tgene_id \"LOC100996442\"; transcript_id \"XR_001737578.2\"; exon_number \"3\"; exon_id \"XR_001737578.2.3\"; gene_name \"LOC100996442\";\n",
      "chr1\tncbiRefSeq\texon\t168100\t168165\t.\t-\t.\tgene_id \"LOC100996442\"; transcript_id \"XR_001737578.2\"; exon_number \"4\"; exon_id \"XR_001737578.2.4\"; gene_name \"LOC100996442\";\n",
      "chr1\tncbiRefSeq\texon\t169049\t169264\t.\t-\t.\tgene_id \"LOC100996442\"; transcript_id \"XR_001737578.2\"; exon_number \"5\"; exon_id \"XR_001737578.2.5\"; gene_name \"LOC100996442\";\n",
      "chr1\tncbiRefSeq\texon\t172557\t172688\t.\t-\t.\tgene_id \"LOC100996442\"; transcript_id \"XR_001737578.2\"; exon_number \"6\"; exon_id \"XR_001737578.2.6\"; gene_name \"LOC100996442\";\n",
      "chr1\tncbiRefSeq\texon\t173753\t174414\t.\t-\t.\tgene_id \"LOC100996442\"; transcript_id \"XR_001737578.2\"; exon_number \"7\"; exon_id \"XR_001737578.2.7\"; gene_name \"LOC100996442\";\n",
      "chr1\tncbiRefSeq\ttranscript\t89006\t174659\t.\t-\t.\tgene_id \"LOC100996442\"; transcript_id \"XR_001737580.2\";  gene_name \"LOC100996442\";\n",
      "chr1\tncbiRefSeq\texon\t89006\t91629\t.\t-\t.\tgene_id \"LOC100996442\"; transcript_id \"XR_001737580.2\"; exon_number \"1\"; exon_id \"XR_001737580.2.1\"; gene_name \"LOC100996442\";\n",
      "chr1\tncbiRefSeq\texon\t92091\t92240\t.\t-\t.\tgene_id \"LOC100996442\"; transcript_id \"XR_001737580.2\"; exon_number \"2\"; exon_id \"XR_001737580.2.2\"; gene_name \"LOC100996442\";\n",
      "chr1\tncbiRefSeq\texon\t165884\t165942\t.\t-\t.\tgene_id \"LOC100996442\"; transcript_id \"XR_001737580.2\"; exon_number \"3\"; exon_id \"XR_001737580.2.3\"; gene_name \"LOC100996442\";\n",
      "chr1\tncbiRefSeq\texon\t167959\t168165\t.\t-\t.\tgene_id \"LOC100996442\"; transcript_id \"XR_001737580.2\"; exon_number \"4\"; exon_id \"XR_001737580.2.4\"; gene_name \"LOC100996442\";\n",
      "chr1\tncbiRefSeq\texon\t169049\t169264\t.\t-\t.\tgene_id \"LOC100996442\"; transcript_id \"XR_001737580.2\"; exon_number \"5\"; exon_id \"XR_001737580.2.5\"; gene_name \"LOC100996442\";\n",
      "chr1\tncbiRefSeq\texon\t172557\t172688\t.\t-\t.\tgene_id \"LOC100996442\"; transcript_id \"XR_001737580.2\"; exon_number \"6\"; exon_id \"XR_001737580.2.6\"; gene_name \"LOC100996442\";\n",
      "chr1\tncbiRefSeq\texon\t173753\t174659\t.\t-\t.\tgene_id \"LOC100996442\"; transcript_id \"XR_001737580.2\"; exon_number \"7\"; exon_id \"XR_001737580.2.7\"; gene_name \"LOC100996442\";\n",
      "chr1\tncbiRefSeq\ttranscript\t89006\t267354\t.\t-\t.\tgene_id \"LOC100996442\"; transcript_id \"XR_001737582.2\";  gene_name \"LOC100996442\";\n",
      "chr1\tncbiRefSeq\texon\t89006\t91629\t.\t-\t.\tgene_id \"LOC100996442\"; transcript_id \"XR_001737582.2\"; exon_number \"1\"; exon_id \"XR_001737582.2.1\"; gene_name \"LOC100996442\";\n",
      "chr1\tncbiRefSeq\texon\t92091\t92240\t.\t-\t.\tgene_id \"LOC100996442\"; transcript_id \"XR_001737582.2\"; exon_number \"2\"; exon_id \"XR_001737582.2.2\"; gene_name \"LOC100996442\";\n",
      "chr1\tncbiRefSeq\texon\t112700\t112804\t.\t-\t.\tgene_id \"LOC100996442\"; transcript_id \"XR_001737582.2\"; exon_number \"3\"; exon_id \"XR_001737582.2.3\"; gene_name \"LOC100996442\";\n",
      "chr1\tncbiRefSeq\texon\t267303\t267354\t.\t-\t.\tgene_id \"LOC100996442\"; transcript_id \"XR_001737582.2\"; exon_number \"4\"; exon_id \"XR_001737582.2.4\"; gene_name \"LOC100996442\";\n",
      "chr1\tncbiRefSeq\ttranscript\t120847\t174412\t.\t-\t.\tgene_id \"LOC100996442\"; transcript_id \"XR_001737579.2\";  gene_name \"LOC100996442\";\n",
      "chr1\tncbiRefSeq\texon\t120847\t120932\t.\t-\t.\tgene_id \"LOC100996442\"; transcript_id \"XR_001737579.2\"; exon_number \"1\"; exon_id \"XR_001737579.2.1\"; gene_name \"LOC100996442\";\n",
      "chr1\tncbiRefSeq\texon\t165884\t165942\t.\t-\t.\tgene_id \"LOC100996442\"; transcript_id \"XR_001737579.2\"; exon_number \"2\"; exon_id \"XR_001737579.2.2\"; gene_name \"LOC100996442\";\n",
      "chr1\tncbiRefSeq\texon\t168100\t168165\t.\t-\t.\tgene_id \"LOC100996442\"; transcript_id \"XR_001737579.2\"; exon_number \"3\"; exon_id \"XR_001737579.2.3\"; gene_name \"LOC100996442\";\n",
      "chr1\tncbiRefSeq\texon\t169049\t169264\t.\t-\t.\tgene_id \"LOC100996442\"; transcript_id \"XR_001737579.2\"; exon_number \"4\"; exon_id \"XR_001737579.2.4\"; gene_name \"LOC100996442\";\n",
      "chr1\tncbiRefSeq\texon\t172557\t172688\t.\t-\t.\tgene_id \"LOC100996442\"; transcript_id \"XR_001737579.2\"; exon_number \"5\"; exon_id \"XR_001737579.2.5\"; gene_name \"LOC100996442\";\n",
      "chr1\tncbiRefSeq\texon\t173753\t174412\t.\t-\t.\tgene_id \"LOC100996442\"; transcript_id \"XR_001737579.2\"; exon_number \"6\"; exon_id \"XR_001737579.2.6\"; gene_name \"LOC100996442\";\n",
      "chr1\tncbiRefSeq\ttranscript\t134773\t140566\t.\t-\t.\tgene_id \"LOC729737\"; transcript_id \"NR_039983.2\";  gene_name \"LOC729737\";\n",
      "chr1\tncbiRefSeq\texon\t134773\t139696\t.\t-\t.\tgene_id \"LOC729737\"; transcript_id \"NR_039983.2\"; exon_number \"1\"; exon_id \"NR_039983.2.1\"; gene_name \"LOC729737\";\n",
      "chr1\tncbiRefSeq\texon\t139790\t139847\t.\t-\t.\tgene_id \"LOC729737\"; transcript_id \"NR_039983.2\"; exon_number \"2\"; exon_id \"NR_039983.2.2\"; gene_name \"LOC729737\";\n",
      "chr1\tncbiRefSeq\texon\t140075\t140566\t.\t-\t.\tgene_id \"LOC729737\"; transcript_id \"NR_039983.2\"; exon_number \"3\"; exon_id \"NR_039983.2.3\"; gene_name \"LOC729737\";\n",
      "chr1\tncbiRefSeq\ttranscript\t164705\t168093\t.\t-\t.\tgene_id \"LOC100996442\"; transcript_id \"XR_002958520.1\";  gene_name \"LOC100996442\";\n",
      "chr1\tncbiRefSeq\texon\t164705\t164791\t.\t-\t.\tgene_id \"LOC100996442\"; transcript_id \"XR_002958520.1\"; exon_number \"1\"; exon_id \"XR_002958520.1.1\"; gene_name \"LOC100996442\";\n",
      "chr1\tncbiRefSeq\texon\t165884\t165942\t.\t-\t.\tgene_id \"LOC100996442\"; transcript_id \"XR_002958520.1\"; exon_number \"2\"; exon_id \"XR_002958520.1.2\"; gene_name \"LOC100996442\";\n",
      "chr1\tncbiRefSeq\texon\t167964\t168093\t.\t-\t.\tgene_id \"LOC100996442\"; transcript_id \"XR_002958520.1\"; exon_number \"3\"; exon_id \"XR_002958520.1.3\"; gene_name \"LOC100996442\";\n",
      "chr1\tncbiRefSeq\ttranscript\t164705\t168649\t.\t-\t.\tgene_id \"LOC100996442\"; transcript_id \"XR_002958519.1\";  gene_name \"LOC100996442\";\n",
      "chr1\tncbiRefSeq\texon\t164705\t164791\t.\t-\t.\tgene_id \"LOC100996442\"; transcript_id \"XR_002958519.1\"; exon_number \"1\"; exon_id \"XR_002958519.1.1\"; gene_name \"LOC100996442\";\n",
      "chr1\tncbiRefSeq\texon\t165884\t165942\t.\t-\t.\tgene_id \"LOC100996442\"; transcript_id \"XR_002958519.1\"; exon_number \"2\"; exon_id \"XR_002958519.1.2\"; gene_name \"LOC100996442\";\n",
      "chr1\tncbiRefSeq\texon\t168100\t168165\t.\t-\t.\tgene_id \"LOC100996442\"; transcript_id \"XR_002958519.1\"; exon_number \"3\"; exon_id \"XR_002958519.1.3\"; gene_name \"LOC100996442\";\n",
      "chr1\tncbiRefSeq\texon\t168610\t168649\t.\t-\t.\tgene_id \"LOC100996442\"; transcript_id \"XR_002958519.1\"; exon_number \"4\"; exon_id \"XR_002958519.1.4\"; gene_name \"LOC100996442\";\n",
      "chr1\tncbiRefSeq\ttranscript\t164705\t174410\t.\t-\t.\tgene_id \"LOC100996442\"; transcript_id \"XR_002958514.1\";  gene_name \"LOC100996442\";\n",
      "chr1\tncbiRefSeq\texon\t164705\t164791\t.\t-\t.\tgene_id \"LOC100996442\"; transcript_id \"XR_002958514.1\"; exon_number \"1\"; exon_id \"XR_002958514.1.1\"; gene_name \"LOC100996442\";\n",
      "chr1\tncbiRefSeq\texon\t165884\t165942\t.\t-\t.\tgene_id \"LOC100996442\"; transcript_id \"XR_002958514.1\"; exon_number \"2\"; exon_id \"XR_002958514.1.2\"; gene_name \"LOC100996442\";\n",
      "chr1\tncbiRefSeq\texon\t168100\t168165\t.\t-\t.\tgene_id \"LOC100996442\"; transcript_id \"XR_002958514.1\"; exon_number \"3\"; exon_id \"XR_002958514.1.3\"; gene_name \"LOC100996442\";\n",
      "chr1\tncbiRefSeq\texon\t169049\t169264\t.\t-\t.\tgene_id \"LOC100996442\"; transcript_id \"XR_002958514.1\"; exon_number \"4\"; exon_id \"XR_002958514.1.4\"; gene_name \"LOC100996442\";\n",
      "chr1\tncbiRefSeq\texon\t172557\t172688\t.\t-\t.\tgene_id \"LOC100996442\"; transcript_id \"XR_002958514.1\"; exon_number \"5\"; exon_id \"XR_002958514.1.5\"; gene_name \"LOC100996442\";\n",
      "chr1\tncbiRefSeq\texon\t173753\t174410\t.\t-\t.\tgene_id \"LOC100996442\"; transcript_id \"XR_002958514.1\"; exon_number \"6\"; exon_id \"XR_002958514.1.6\"; gene_name \"LOC100996442\";\n",
      "chr1\tncbiRefSeq\ttranscript\t164705\t174412\t.\t-\t.\tgene_id \"LOC100996442\"; transcript_id \"XR_002958518.1\";  gene_name \"LOC100996442\";\n",
      "chr1\tncbiRefSeq\texon\t164705\t164791\t.\t-\t.\tgene_id \"LOC100996442\"; transcript_id \"XR_002958518.1\"; exon_number \"1\"; exon_id \"XR_002958518.1.1\"; gene_name \"LOC100996442\";\n",
      "chr1\tncbiRefSeq\texon\t165884\t165942\t.\t-\t.\tgene_id \"LOC100996442\"; transcript_id \"XR_002958518.1\"; exon_number \"2\"; exon_id \"XR_002958518.1.2\"; gene_name \"LOC100996442\";\n",
      "chr1\tncbiRefSeq\texon\t168100\t168165\t.\t-\t.\tgene_id \"LOC100996442\"; transcript_id \"XR_002958518.1\"; exon_number \"3\"; exon_id \"XR_002958518.1.3\"; gene_name \"LOC100996442\";\n",
      "chr1\tncbiRefSeq\texon\t173753\t174412\t.\t-\t.\tgene_id \"LOC100996442\"; transcript_id \"XR_002958518.1\"; exon_number \"4\"; exon_id \"XR_002958518.1.4\"; gene_name \"LOC100996442\";\n",
      "\n",
      "gzip: stdout: Broken pipe\n"
     ]
    }
   ],
   "source": [
    "!zcat /scratch/research/references/hsapiens/hg38/hg38.ncbiRefSeq.gtf.gz |head -n 100"
   ]
  },
  {
   "cell_type": "code",
   "execution_count": null,
   "metadata": {},
   "outputs": [],
   "source": []
  }
 ],
 "metadata": {
  "kernelspec": {
   "display_name": "Python 3 (ipykernel)",
   "language": "python",
   "name": "python3"
  },
  "language_info": {
   "codemirror_mode": {
    "name": "ipython",
    "version": 3
   },
   "file_extension": ".py",
   "mimetype": "text/x-python",
   "name": "python",
   "nbconvert_exporter": "python",
   "pygments_lexer": "ipython3",
   "version": "3.9.6"
  }
 },
 "nbformat": 4,
 "nbformat_minor": 4
}
