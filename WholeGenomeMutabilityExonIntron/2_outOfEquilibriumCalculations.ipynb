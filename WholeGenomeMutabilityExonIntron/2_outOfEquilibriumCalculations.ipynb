{
 "cells": [
  {
   "cell_type": "markdown",
   "id": "86cbed73-b3e4-4746-a3a8-00ee7e48cbda",
   "metadata": {},
   "source": [
    "# **get the numbers to rob to calculate how out of equilibrium the genome is**"
   ]
  },
  {
   "cell_type": "markdown",
   "id": "ce543f6f-3c6a-46fb-9529-3989afc35f3b",
   "metadata": {},
   "source": [
    "### **calculation summary**\n",
    "- µ = 104K paper mutation rate = 1.28e-8\n",
    "- M = Mutability of human genome = 4.054508384615098e-05\n",
    "- M * c  = µ\n",
    "- C = µ/M  = 0.00031569795363032963\n",
    "- Mo = Observed intergenic mutability = 3.16788354502687e-05\n",
    "- Ms = simulated intergenic mutability = 2.936349e-05\n",
    "- µO = Mo * c #mutation rate observed of intergenic = 1.0000943525041771e-08\n",
    "- µs = Ms * c  #mutation rate simulated of intergenic  = 9.269993704444648e-09\n",
    "- µO - µs = 7.309498205971238e-10\n",
    "- µGC = mutation rate of a sequence with the same GC as the simulated GC content but NO triplet structure. \n",
    "    - GC content at equilibrium = 0.351194\n",
    "    - mutability of seq with same GC content = 4.230043402232742e-05\n",
    "    - mut rate of seq with same GC content = 1.3354160458523541e-08"
   ]
  },
  {
   "cell_type": "code",
   "execution_count": 1,
   "id": "dd42f306-5859-4293-9da9-1e1c27ebfe4d",
   "metadata": {},
   "outputs": [
    {
     "name": "stdout",
     "output_type": "stream",
     "text": [
      "total 1.2G\n",
      "drwxr-xr-x. 3 omanmade domain users 4.0K Jan 14 16:50 .\n",
      "drwxr-xr-x. 6 omanmade domain users 4.0K Jan 14 17:01 ..\n",
      "-rwxr-xr-x. 1 omanmade domain users 101M Sep 16 10:27 CDS_GRCh38_fromOGfileUnsorted.txt\n",
      "-rwxr-xr-x. 1 omanmade domain users  19M Sep 16 10:27 CDS_maxBounds_dict.txt\n",
      "-rwxr-xr-x. 1 omanmade domain users 249M Sep 16 10:27 Exons_GRCh38_fromOGfileUnsorted.txt\n",
      "-rwxr-xr-x. 1 omanmade domain users 249M Sep 16 10:27 Exons_GRCh38.txt\n",
      "-rwxr-xr-x. 1 omanmade domain users  40M Sep 16 10:27 Homo_sapiens.GRCh38.100.chr.gff3.gz\n",
      "-rwxr-xr-x. 1 omanmade domain users  44M Sep 16 10:27 Homo_sapiens.GRCh38.100.gff3.gz\n",
      "-rwxr-xr-x. 1 omanmade domain users 441M Sep 16 10:27 Homo_sapiens_sorted.GRCh38.100.gff3\n",
      "-rwxr-xr-x. 1 omanmade domain users  42M Sep 16 10:27 Homo_sapiens_sorted.GRCh38.100.gff3.gz\n",
      "drwxr-xr-x. 2 omanmade domain users  142 Sep 16 10:27 .ipynb_checkpoints\n",
      "-rwxr-xr-x. 1 omanmade domain users  12K Sep 16 10:27 README\n"
     ]
    }
   ],
   "source": [
    "!ls -lah madeleine/"
   ]
  },
  {
   "cell_type": "code",
   "execution_count": 53,
   "id": "bf4015ee-a8fe-43cc-9a7b-e586fa6ae269",
   "metadata": {},
   "outputs": [],
   "source": [
    "import json\n",
    "import numpy as np\n",
    "import pandas as pd\n",
    "import matplotlib.pyplot as plt\n",
    "from numpy.random import choice"
   ]
  },
  {
   "cell_type": "code",
   "execution_count": 5,
   "id": "853080fc-2871-44f8-a175-c3c6b3316e29",
   "metadata": {},
   "outputs": [],
   "source": [
    "# step 1: get mutability of the human genome \n",
    "jonsson_denovo_muts = 108778\n",
    "jonsson_callable_bases = 2682890000\n",
    "mutabilityHumanGenome = jonsson_denovo_muts/jonsson_callable_bases"
   ]
  },
  {
   "cell_type": "code",
   "execution_count": 80,
   "id": "f5207dfe-fd18-48df-a628-59924353d74f",
   "metadata": {},
   "outputs": [
    {
     "data": {
      "text/plain": [
       "4.054508384615098e-05"
      ]
     },
     "execution_count": 80,
     "metadata": {},
     "output_type": "execute_result"
    }
   ],
   "source": [
    "mutabilityHumanGenome"
   ]
  },
  {
   "cell_type": "code",
   "execution_count": 6,
   "id": "62430089-06f2-44e3-a80e-04cbd86a37ad",
   "metadata": {},
   "outputs": [],
   "source": [
    "#step #2: find the conversion factor b/t mutation rate and mutability \n",
    "mutRateHumanGenome = 1.28e-8\n",
    "mutab_mutRate_conversion = mutRateHumanGenome/mutabilityHumanGenome"
   ]
  },
  {
   "cell_type": "code",
   "execution_count": 7,
   "id": "880bf392-356e-4167-9453-47d2071d133a",
   "metadata": {},
   "outputs": [
    {
     "data": {
      "text/plain": [
       "0.00031569795363032963"
      ]
     },
     "execution_count": 7,
     "metadata": {},
     "output_type": "execute_result"
    }
   ],
   "source": [
    "mutab_mutRate_conversion"
   ]
  },
  {
   "cell_type": "markdown",
   "id": "bb695f27-32f7-4a96-b18b-e8e056d85147",
   "metadata": {},
   "source": [
    "### **step #3: intergenic mutability**"
   ]
  },
  {
   "cell_type": "code",
   "execution_count": 81,
   "id": "ebc8b0df-27df-476a-9abc-df4865b8ad99",
   "metadata": {},
   "outputs": [
    {
     "data": {
      "text/plain": [
       "1.0000943525041771e-08"
      ]
     },
     "execution_count": 81,
     "metadata": {},
     "output_type": "execute_result"
    }
   ],
   "source": [
    "#from the whole genome intergenic vs codon calculations \n",
    "mutab_intergenicgenome = 3.16788354502687e-05\n",
    "mutRateObs_intergenic = mutab_intergenicgenome * mutab_mutRate_conversion\n",
    "mutRateObs_intergenic"
   ]
  },
  {
   "cell_type": "code",
   "execution_count": 82,
   "id": "1001bb2a-d637-437e-b9e7-30e4bb4520a7",
   "metadata": {},
   "outputs": [
    {
     "data": {
      "text/plain": [
       "9.269993704444648e-09"
      ]
     },
     "execution_count": 82,
     "metadata": {},
     "output_type": "execute_result"
    }
   ],
   "source": [
    "#from the ../comparing_equilibrium_point\n",
    "mutab_nonCoding = 2.936349e-05\n",
    "mutRateSim_nonCoding = mutab_nonCoding*mutab_mutRate_conversion\n",
    "mutRateSim_nonCoding"
   ]
  },
  {
   "cell_type": "code",
   "execution_count": 83,
   "id": "58e81d78-4cd1-4193-8bfb-9b113272ef62",
   "metadata": {},
   "outputs": [
    {
     "data": {
      "text/plain": [
       "7.309498205971238e-10"
      ]
     },
     "execution_count": 83,
     "metadata": {},
     "output_type": "execute_result"
    }
   ],
   "source": [
    "mutRateObs_intergenic- 9.269993704444648e-09"
   ]
  },
  {
   "cell_type": "markdown",
   "id": "10395e54-f1a2-415d-bf58-9be9dfc3faa1",
   "metadata": {},
   "source": [
    "###  **steps 4: find the GC content of the non coding seqs at equilibrium**"
   ]
  },
  {
   "cell_type": "code",
   "execution_count": 42,
   "id": "6ccfebe4-7260-4d7c-9eef-9cfe6ffcd973",
   "metadata": {},
   "outputs": [],
   "source": [
    "#getting the non coding DNA from the \"comparing equilibrium\" folder \n",
    "trialN = 99\n",
    "random_DNAF_dict = {\"gens\":[x for x in range(10000)]}\n",
    "for i in (range(trialN)): \n",
    "    random_DNAF_dict[\"trial\"+str(i)] = open(\"../comparing_equilibrium_point/data/trueRandom/{}_DNA.txt\".format(i)).readlines()[0]"
   ]
  },
  {
   "cell_type": "code",
   "execution_count": 48,
   "id": "287e1874-8498-4c37-80f5-02907f2f39c3",
   "metadata": {},
   "outputs": [],
   "source": [
    "GC_percent_list = []\n",
    "for trial_name,dna in random_DNAF_dict.items(): \n",
    "    C_count = dna.count(\"C\")\n",
    "    G_count = dna.count(\"G\")\n",
    "    GC_percent = (C_count+G_count)/len((dna))\n",
    "    GC_percent_list.append(GC_percent)"
   ]
  },
  {
   "cell_type": "code",
   "execution_count": 52,
   "id": "a0904824-d5f3-4240-a291-1d11e88dc0ae",
   "metadata": {},
   "outputs": [],
   "source": [
    "GC_content_equilibrium = np.mean(GC_percent_list)"
   ]
  },
  {
   "cell_type": "code",
   "execution_count": 84,
   "id": "4d9bca1a-efaf-4a88-846a-2d2383da7325",
   "metadata": {},
   "outputs": [
    {
     "data": {
      "text/plain": [
       "0.351194"
      ]
     },
     "execution_count": 84,
     "metadata": {},
     "output_type": "execute_result"
    }
   ],
   "source": [
    "GC_content_equilibrium"
   ]
  },
  {
   "cell_type": "markdown",
   "id": "d48e247a-66db-4325-bcd3-6d3329faf2e7",
   "metadata": {},
   "source": [
    "### **step 4.1: find mutability for dna string with same GC content as the noncoding at equilibrium**"
   ]
  },
  {
   "cell_type": "code",
   "execution_count": 56,
   "id": "f5d25f01-d1ee-4539-b525-3d267e041d69",
   "metadata": {},
   "outputs": [],
   "source": [
    "trips = [\"A\",\"T\",\"C\",\"G\"]\n",
    "trip_prob = [(1-GC_content_equilibrium)/2,(1-GC_content_equilibrium)/2,GC_content_equilibrium/2,GC_content_equilibrium/2]"
   ]
  },
  {
   "cell_type": "code",
   "execution_count": 61,
   "id": "6c8d3b6b-fecb-4ed7-b45b-56b0b11d59f9",
   "metadata": {},
   "outputs": [],
   "source": [
    "equiv_dna = \"\".join(choice(trips, 10000, p=trip_prob))#randomly sample and combine into string "
   ]
  },
  {
   "cell_type": "code",
   "execution_count": 65,
   "id": "e67ad581-bab3-432f-853c-49ee8a2ee1d2",
   "metadata": {},
   "outputs": [],
   "source": [
    "model = json.load(open(\"../Human_mutability_model/Model_2020_12_02_genomeWide.txt\"))"
   ]
  },
  {
   "cell_type": "code",
   "execution_count": 66,
   "id": "eedc206f-7dae-4df8-84dc-ca86c0cc0389",
   "metadata": {},
   "outputs": [],
   "source": [
    "equi_muts = []\n",
    "for i in range(1,len(equiv_dna)-1): \n",
    "    triplet = equiv_dna[i-1:i+2]\n",
    "    mut = model[triplet][0]\n",
    "    equi_muts.append(mut)"
   ]
  },
  {
   "cell_type": "code",
   "execution_count": 71,
   "id": "cf5b5799-4091-4265-836e-4d74f750cdb9",
   "metadata": {},
   "outputs": [
    {
     "name": "stdout",
     "output_type": "stream",
     "text": [
      "mutability of equilvalent sequence is  4.230043402232742e-05\n"
     ]
    }
   ],
   "source": [
    "print(\"mutability of equilvalent sequence is \",np.mean(equi_muts))"
   ]
  },
  {
   "cell_type": "code",
   "execution_count": 86,
   "id": "68a3e80c-53d4-4fad-bb0a-18b881fa57a1",
   "metadata": {},
   "outputs": [
    {
     "name": "stdout",
     "output_type": "stream",
     "text": [
      "mutation rate of equilvalent sequence is  1.3354160458523541e-08\n"
     ]
    }
   ],
   "source": [
    "print(\"mutation rate of equilvalent sequence is \",np.mean(equi_muts)*mutab_mutRate_conversion)"
   ]
  }
 ],
 "metadata": {
  "kernelspec": {
   "display_name": "Python [conda env:.conda-mutEq]",
   "language": "python",
   "name": "conda-env-.conda-mutEq-py"
  },
  "language_info": {
   "codemirror_mode": {
    "name": "ipython",
    "version": 3
   },
   "file_extension": ".py",
   "mimetype": "text/x-python",
   "name": "python",
   "nbconvert_exporter": "python",
   "pygments_lexer": "ipython3",
   "version": "3.9.6"
  }
 },
 "nbformat": 4,
 "nbformat_minor": 5
}
