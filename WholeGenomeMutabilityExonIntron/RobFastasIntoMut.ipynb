{
 "cells": [
  {
   "cell_type": "code",
   "execution_count": 2,
   "metadata": {},
   "outputs": [],
   "source": [
    "from Bio import SeqIO\n",
    "import json \n",
    "from tqdm import tqdm\n",
    "import numpy as np \n",
    "import pandas as pd"
   ]
  },
  {
   "cell_type": "markdown",
   "metadata": {},
   "source": [
    "** copying robs work into this directory ** "
   ]
  },
  {
   "cell_type": "code",
   "execution_count": 1,
   "metadata": {},
   "outputs": [],
   "source": [
    "!cp -r ../../../../mutation_equilibrium/analysis/coding_v_noncoding_mutability/ ./gettingCdsIntergenic/"
   ]
  },
  {
   "cell_type": "code",
   "execution_count": 3,
   "metadata": {},
   "outputs": [],
   "source": [
    "model = json.load(open(\"../Human_mutability_model/Model_2020_12_02_genomeWide.txt\"))"
   ]
  },
  {
   "cell_type": "markdown",
   "metadata": {},
   "source": [
    "**CDS**"
   ]
  },
  {
   "cell_type": "code",
   "execution_count": 4,
   "metadata": {},
   "outputs": [
    {
     "name": "stderr",
     "output_type": "stream",
     "text": [
      "209836it [00:01, 123038.27it/s]\n"
     ]
    }
   ],
   "source": [
    "cds_count = 0\n",
    "for record in tqdm(SeqIO.parse(open(\"gettingCdsIntergenic/cds.nonOverlapping.fasta\"), \"fasta\")):\n",
    "    cds_count+= 1"
   ]
  },
  {
   "cell_type": "code",
   "execution_count": 5,
   "metadata": {},
   "outputs": [
    {
     "name": "stdout",
     "output_type": "stream",
     "text": [
      "total CDS sequences =  209836\n"
     ]
    }
   ],
   "source": [
    "print(\"total CDS sequences = \", cds_count)"
   ]
  },
  {
   "cell_type": "code",
   "execution_count": null,
   "metadata": {},
   "outputs": [
    {
     "name": "stderr",
     "output_type": "stream",
     "text": [
      "11699it [00:04, 2258.89it/s]"
     ]
    }
   ],
   "source": [
    "global_cds_mut_list = []\n",
    "tmp = 0\n",
    "for record in tqdm(SeqIO.parse(open(\"gettingCdsIntergenic/cds.nonOverlapping.fasta\"), \"fasta\")): #takes a few mins \n",
    "    current_cds_mut_list = []\n",
    "    for i in range(1, len(record.seq)-1): \n",
    "        triplet = str(record.seq[i-1:i+2]).upper()\n",
    "        mut = model[triplet][0]\n",
    "        current_cds_mut_list.append(mut)\n",
    "        tmp+= 1\n",
    "    global_cds_mut_list.extend(current_cds_mut_list)\n"
   ]
  },
  {
   "cell_type": "code",
   "execution_count": 57,
   "metadata": {},
   "outputs": [
    {
     "data": {
      "text/plain": [
       "4.2132754899385111e-05"
      ]
     },
     "execution_count": 57,
     "metadata": {},
     "output_type": "execute_result"
    }
   ],
   "source": [
    "np.mean(global_cds_mut_list)"
   ]
  },
  {
   "cell_type": "code",
   "execution_count": 8,
   "metadata": {},
   "outputs": [
    {
     "data": {
      "text/plain": [
       "4.4897492259411877e-05"
      ]
     },
     "execution_count": 8,
     "metadata": {},
     "output_type": "execute_result"
    }
   ],
   "source": [
    "np.mean(global_cds_mut_list)"
   ]
  },
  {
   "cell_type": "markdown",
   "metadata": {},
   "source": [
    "** intergenic now ** "
   ]
  },
  {
   "cell_type": "code",
   "execution_count": 62,
   "metadata": {},
   "outputs": [
    {
     "name": "stdout",
     "output_type": "stream",
     "text": [
      "total intergenic sequences =   30265\n"
     ]
    }
   ],
   "source": [
    "print(\"total intergenic sequences =  \", 30265)"
   ]
  },
  {
   "cell_type": "code",
   "execution_count": null,
   "metadata": {},
   "outputs": [
    {
     "name": "stderr",
     "output_type": "stream",
     "text": [
      "138it [00:06,  6.10it/s]"
     ]
    }
   ],
   "source": [
    "global_inter_mut_list = [] #the global list where all the mutabilityies will be appended\n",
    "for record in tqdm(SeqIO.parse(intergenic_object, \"fasta\")): #takes maybe an hour or two \n",
    "    current_inter_mut_list = [] #makign as sub list for each intergenic region (where all the muts for that region are appended)\n",
    "    for i in range(1, len(record.seq)-1): #for every centre triplet base in the region: \n",
    "        triplet = str(record.seq[i-1:i+2]).upper() #define the triplet ans capitalize \n",
    "        if \"N\" in triplet: \n",
    "            continue #skips the rest of the loop for those entires with Ns in them \n",
    "        mut = model[triplet][0]  # if no Ns, get the mutability \n",
    "        current_inter_mut_list.append(mut) # appedn the mutability to the current list \n",
    "    global_inter_mut_list.extend(current_inter_mut_list) #extend the global list by the current (i think this method is fasetr for python, rather than just appeneding t the global each time)\n"
   ]
  },
  {
   "cell_type": "code",
   "execution_count": 79,
   "metadata": {},
   "outputs": [
    {
     "data": {
      "text/plain": [
       "3.1678835450268703e-05"
      ]
     },
     "execution_count": 79,
     "metadata": {},
     "output_type": "execute_result"
    }
   ],
   "source": [
    "np.mean(global_inter_mut_list)"
   ]
  },
  {
   "cell_type": "markdown",
   "metadata": {},
   "source": [
    "** printing to df ** "
   ]
  },
  {
   "cell_type": "code",
   "execution_count": 9,
   "metadata": {},
   "outputs": [
    {
     "ename": "NameError",
     "evalue": "name 'global_inter_mut_list' is not defined",
     "output_type": "error",
     "traceback": [
      "\u001b[0;31m---------------------------------------------------------------------------\u001b[0m",
      "\u001b[0;31mNameError\u001b[0m                                 Traceback (most recent call last)",
      "\u001b[0;32m<ipython-input-9-2a57f281bcc5>\u001b[0m in \u001b[0;36m<module>\u001b[0;34m()\u001b[0m\n\u001b[0;32m----> 1\u001b[0;31m \u001b[0mdata_dict\u001b[0m \u001b[0;34m=\u001b[0m \u001b[0;34m{\u001b[0m\u001b[0;34m\"intergenic\"\u001b[0m\u001b[0;34m:\u001b[0m\u001b[0;34m[\u001b[0m\u001b[0;36m3.1678835450268703e-05\u001b[0m\u001b[0;34m,\u001b[0m \u001b[0;36m30265\u001b[0m\u001b[0;34m,\u001b[0m \u001b[0mlen\u001b[0m\u001b[0;34m(\u001b[0m\u001b[0mglobal_inter_mut_list\u001b[0m\u001b[0;34m)\u001b[0m\u001b[0;34m]\u001b[0m\u001b[0;34m,\u001b[0m \u001b[0;34m\"cds\"\u001b[0m\u001b[0;34m:\u001b[0m\u001b[0;34m[\u001b[0m\u001b[0;36m4.4897492259411877e-05\u001b[0m\u001b[0;34m,\u001b[0m \u001b[0;36m209836\u001b[0m\u001b[0;34m,\u001b[0m \u001b[0mlen\u001b[0m\u001b[0;34m(\u001b[0m\u001b[0mglobal_cds_mut_list\u001b[0m\u001b[0;34m)\u001b[0m\u001b[0;34m]\u001b[0m\u001b[0;34m}\u001b[0m\u001b[0;34m\u001b[0m\u001b[0m\n\u001b[0m",
      "\u001b[0;31mNameError\u001b[0m: name 'global_inter_mut_list' is not defined"
     ]
    }
   ],
   "source": [
    "data_dict = {\"intergenic\":[3.1678835450268703e-05, 30265, len(global_inter_mut_list)], \"cds\":[4.4897492259411877e-05, 209836, len(global_cds_mut_list)]}"
   ]
  },
  {
   "cell_type": "code",
   "execution_count": 82,
   "metadata": {},
   "outputs": [],
   "source": [
    "data_df = pd.DataFrame.from_dict(data_dict, orient = \"index\")"
   ]
  },
  {
   "cell_type": "code",
   "execution_count": 101,
   "metadata": {},
   "outputs": [],
   "source": [
    "data_df.columns = [\"mutability\", \"n_seqs\", \"n_sites\"]"
   ]
  },
  {
   "cell_type": "code",
   "execution_count": 102,
   "metadata": {},
   "outputs": [
    {
     "data": {
      "text/html": [
       "<div>\n",
       "<table border=\"1\" class=\"dataframe\">\n",
       "  <thead>\n",
       "    <tr style=\"text-align: right;\">\n",
       "      <th></th>\n",
       "      <th>mutability</th>\n",
       "      <th>n_seqs</th>\n",
       "      <th>n_sites</th>\n",
       "    </tr>\n",
       "  </thead>\n",
       "  <tbody>\n",
       "    <tr>\n",
       "      <th>cds</th>\n",
       "      <td>0.000042</td>\n",
       "      <td>1294782</td>\n",
       "      <td>155800440</td>\n",
       "    </tr>\n",
       "    <tr>\n",
       "      <th>intergenic</th>\n",
       "      <td>0.000032</td>\n",
       "      <td>30265</td>\n",
       "      <td>1632535849</td>\n",
       "    </tr>\n",
       "  </tbody>\n",
       "</table>\n",
       "</div>"
      ],
      "text/plain": [
       "            mutability   n_seqs     n_sites\n",
       "cds           0.000042  1294782   155800440\n",
       "intergenic    0.000032    30265  1632535849"
      ]
     },
     "execution_count": 102,
     "metadata": {},
     "output_type": "execute_result"
    }
   ],
   "source": [
    "data_df"
   ]
  },
  {
   "cell_type": "code",
   "execution_count": 103,
   "metadata": {},
   "outputs": [],
   "source": [
    "data_df.to_csv(\"global_cds_intergenic_mutability.csv\")"
   ]
  },
  {
   "cell_type": "markdown",
   "metadata": {},
   "source": [
    "** testing that my code actually worked ** "
   ]
  },
  {
   "cell_type": "code",
   "execution_count": 84,
   "metadata": {},
   "outputs": [],
   "source": [
    "cds_length = 0\n",
    "for record in SeqIO.parse(open(\"gettingCdsIntergenic/cds.fasta\"), \"fasta\"): \n",
    "    cds_length += len(record.seq)"
   ]
  },
  {
   "cell_type": "code",
   "execution_count": 99,
   "metadata": {},
   "outputs": [
    {
     "data": {
      "text/plain": [
       "(199915601, 197326285, 199915849)"
      ]
     },
     "execution_count": 99,
     "metadata": {},
     "output_type": "execute_result"
    }
   ],
   "source": [
    "cds_length, len(global_cds_mut_list), len(global_cds_mut_list) + (2*1294782)"
   ]
  },
  {
   "cell_type": "code",
   "execution_count": 90,
   "metadata": {},
   "outputs": [],
   "source": [
    "inter_length = 0\n",
    "for record in SeqIO.parse(open(\"gettingCdsIntergenic/intergenic.fasta\"), \"fasta\"): \n",
    "    inter_length += len(record.seq)"
   ]
  },
  {
   "cell_type": "code",
   "execution_count": 100,
   "metadata": {},
   "outputs": [
    {
     "data": {
      "text/plain": [
       "(1716159126, 1632535849)"
      ]
     },
     "execution_count": 100,
     "metadata": {},
     "output_type": "execute_result"
    }
   ],
   "source": [
    "inter_length, len(global_inter_mut_list)"
   ]
  },
  {
   "cell_type": "code",
   "execution_count": null,
   "metadata": {},
   "outputs": [],
   "source": []
  },
  {
   "cell_type": "code",
   "execution_count": null,
   "metadata": {},
   "outputs": [],
   "source": []
  },
  {
   "cell_type": "code",
   "execution_count": null,
   "metadata": {},
   "outputs": [],
   "source": []
  },
  {
   "cell_type": "code",
   "execution_count": null,
   "metadata": {},
   "outputs": [],
   "source": []
  },
  {
   "cell_type": "code",
   "execution_count": null,
   "metadata": {},
   "outputs": [],
   "source": []
  },
  {
   "cell_type": "code",
   "execution_count": null,
   "metadata": {},
   "outputs": [],
   "source": []
  },
  {
   "cell_type": "code",
   "execution_count": null,
   "metadata": {},
   "outputs": [],
   "source": []
  },
  {
   "cell_type": "code",
   "execution_count": null,
   "metadata": {},
   "outputs": [],
   "source": []
  },
  {
   "cell_type": "code",
   "execution_count": null,
   "metadata": {},
   "outputs": [],
   "source": []
  }
 ],
 "metadata": {
  "kernelspec": {
   "display_name": "Python 3 (ipykernel)",
   "language": "python",
   "name": "python3"
  },
  "language_info": {
   "codemirror_mode": {
    "name": "ipython",
    "version": 3
   },
   "file_extension": ".py",
   "mimetype": "text/x-python",
   "name": "python",
   "nbconvert_exporter": "python",
   "pygments_lexer": "ipython3",
   "version": "3.9.6"
  }
 },
 "nbformat": 4,
 "nbformat_minor": 4
}
