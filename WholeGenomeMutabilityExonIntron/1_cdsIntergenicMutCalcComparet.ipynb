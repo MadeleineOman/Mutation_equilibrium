{
 "cells": [
  {
   "cell_type": "code",
   "execution_count": 7,
   "metadata": {},
   "outputs": [],
   "source": [
    "from Bio import SeqIO\n",
    "import json \n",
    "from tqdm import tqdm\n",
    "import numpy as np \n",
    "import pandas as pd\n",
    "import matplotlib.pyplot as plt"
   ]
  },
  {
   "cell_type": "markdown",
   "metadata": {},
   "source": [
    "** copying robs work into this directory ** "
   ]
  },
  {
   "cell_type": "code",
   "execution_count": 1,
   "metadata": {},
   "outputs": [],
   "source": [
    "#!cp -r ../../../../mutation_equilibrium/analysis/coding_v_noncoding_mutability/ ./gettingCdsIntergenic/"
   ]
  },
  {
   "cell_type": "code",
   "execution_count": 2,
   "metadata": {},
   "outputs": [],
   "source": [
    "model = json.load(open(\"../Human_mutability_model/Model_2020_12_02_genomeWide.txt\"))"
   ]
  },
  {
   "cell_type": "markdown",
   "metadata": {},
   "source": [
    "**CDS**"
   ]
  },
  {
   "cell_type": "code",
   "execution_count": 3,
   "metadata": {},
   "outputs": [
    {
     "name": "stderr",
     "output_type": "stream",
     "text": [
      "209836it [00:01, 175879.26it/s]\n"
     ]
    }
   ],
   "source": [
    "cds_count = 0\n",
    "for record in tqdm(SeqIO.parse(open(\"gettingCdsIntergenic/cds.nonOverlapping.fasta\"), \"fasta\")):\n",
    "    cds_count+= 1"
   ]
  },
  {
   "cell_type": "code",
   "execution_count": 4,
   "metadata": {},
   "outputs": [
    {
     "name": "stdout",
     "output_type": "stream",
     "text": [
      "total CDS sequences =  209836\n"
     ]
    }
   ],
   "source": [
    "print(\"total CDS sequences = \", cds_count)"
   ]
  },
  {
   "cell_type": "code",
   "execution_count": 17,
   "metadata": {},
   "outputs": [
    {
     "name": "stderr",
     "output_type": "stream",
     "text": [
      "209836it [01:10, 2992.63it/s]\n"
     ]
    }
   ],
   "source": [
    "global_cds_mut_list = []\n",
    "tmp = 0\n",
    "for record in tqdm(SeqIO.parse(open(\"gettingCdsIntergenic/cds.nonOverlapping.fasta\"), \"fasta\")): #takes a few mins \n",
    "    current_cds_mut_list = []\n",
    "    for i in range(1, len(record.seq)-1): \n",
    "        triplet = str(record.seq[i-1:i+2]).upper()\n",
    "        mut = model[triplet][0]\n",
    "        current_cds_mut_list.append(mut)\n",
    "        tmp+= 1\n",
    "    global_cds_mut_list.extend(current_cds_mut_list)\n"
   ]
  },
  {
   "cell_type": "code",
   "execution_count": 20,
   "metadata": {},
   "outputs": [],
   "source": [
    "cds_mean_mut = np.mean(global_cds_mut_list)\n",
    "cds_stderr_mut = np.std(global_cds_mut_list)/np.sqrt(len(global_cds_mut_list))"
   ]
  },
  {
   "cell_type": "code",
   "execution_count": 24,
   "metadata": {},
   "outputs": [
    {
     "data": {
      "text/plain": [
       "4.4897492259411877e-05"
      ]
     },
     "execution_count": 24,
     "metadata": {},
     "output_type": "execute_result"
    }
   ],
   "source": [
    "cds_mean_mut"
   ]
  },
  {
   "cell_type": "markdown",
   "metadata": {},
   "source": [
    "**intergenic now** "
   ]
  },
  {
   "cell_type": "code",
   "execution_count": 31,
   "metadata": {},
   "outputs": [
    {
     "name": "stdout",
     "output_type": "stream",
     "text": [
      "total intergenic sequences =   30265\n"
     ]
    }
   ],
   "source": [
    "print(\"total intergenic sequences =  \", 30265)\n",
    "intergnic_nseq = 30265"
   ]
  },
  {
   "cell_type": "code",
   "execution_count": 26,
   "metadata": {},
   "outputs": [
    {
     "name": "stderr",
     "output_type": "stream",
     "text": [
      "30452it [52:35,  9.65it/s] \n"
     ]
    }
   ],
   "source": [
    "global_inter_mut_list = [] #the global list where all the mutabilityies will be appended\n",
    "intergenic_object = open(\"gettingCdsIntergenic/intergenic.fasta\")\n",
    "for record in tqdm(SeqIO.parse(intergenic_object, \"fasta\")): #takes maybe an hour or two \n",
    "    current_inter_mut_list = [] #makign as sub list for each intergenic region (where all the muts for that region are appended)\n",
    "    for i in range(1, len(record.seq)-1): #for every centre triplet base in the region: \n",
    "        triplet = str(record.seq[i-1:i+2]).upper() #define the triplet ans capitalize \n",
    "        if \"N\" in triplet: \n",
    "            continue #skips the rest of the loop for those entires with Ns in them \n",
    "        mut = model[triplet][0]  # if no Ns, get the mutability \n",
    "        current_inter_mut_list.append(mut) # appedn the mutability to the current list \n",
    "    global_inter_mut_list.extend(current_inter_mut_list) #extend the global list by the current (i think this method is fasetr for python, rather than just appeneding t the global each time)\n"
   ]
  },
  {
   "cell_type": "code",
   "execution_count": 27,
   "metadata": {},
   "outputs": [],
   "source": [
    "intergenic_mut = np.mean(global_inter_mut_list)\n",
    "intergenic_mut_stderr = np.std(global_inter_mut_list)/np.sqrt(len(global_inter_mut_list))"
   ]
  },
  {
   "cell_type": "code",
   "execution_count": 30,
   "metadata": {},
   "outputs": [
    {
     "data": {
      "text/plain": [
       "(3.16788354502687e-05, 9.531475615642966e-10)"
      ]
     },
     "execution_count": 30,
     "metadata": {},
     "output_type": "execute_result"
    }
   ],
   "source": [
    "intergenic_mut, intergenic_mut_stderr"
   ]
  },
  {
   "cell_type": "markdown",
   "metadata": {},
   "source": [
    "** printing to df ** "
   ]
  },
  {
   "cell_type": "code",
   "execution_count": 32,
   "metadata": {},
   "outputs": [],
   "source": [
    "data_dict = {\"intergenic\":[intergenic_mut,intergenic_mut_stderr, intergnic_nseq, len(global_inter_mut_list)], \"cds\":[cds_mean_mut,cds_stderr_mut,cds_count, len(global_cds_mut_list)]}"
   ]
  },
  {
   "cell_type": "code",
   "execution_count": 46,
   "metadata": {},
   "outputs": [],
   "source": [
    "data_df = pd.DataFrame.from_dict(data_dict, orient = \"index\")\n",
    "data_df[\"seqeunce_class\"] = list(data_df.index) # extract rownames into column "
   ]
  },
  {
   "cell_type": "code",
   "execution_count": 57,
   "metadata": {},
   "outputs": [
    {
     "data": {
      "text/html": [
       "<div>\n",
       "<style scoped>\n",
       "    .dataframe tbody tr th:only-of-type {\n",
       "        vertical-align: middle;\n",
       "    }\n",
       "\n",
       "    .dataframe tbody tr th {\n",
       "        vertical-align: top;\n",
       "    }\n",
       "\n",
       "    .dataframe thead th {\n",
       "        text-align: right;\n",
       "    }\n",
       "</style>\n",
       "<table border=\"1\" class=\"dataframe\">\n",
       "  <thead>\n",
       "    <tr style=\"text-align: right;\">\n",
       "      <th></th>\n",
       "      <th>mutability_av</th>\n",
       "      <th>mutability_stderr</th>\n",
       "      <th>n_seqs</th>\n",
       "      <th>n_sites</th>\n",
       "      <th>seqeunce_class</th>\n",
       "    </tr>\n",
       "  </thead>\n",
       "  <tbody>\n",
       "    <tr>\n",
       "      <th>intergenic</th>\n",
       "      <td>0.000032</td>\n",
       "      <td>9.531476e-10</td>\n",
       "      <td>30265</td>\n",
       "      <td>1632535849</td>\n",
       "      <td>intergenic</td>\n",
       "    </tr>\n",
       "    <tr>\n",
       "      <th>cds</th>\n",
       "      <td>0.000045</td>\n",
       "      <td>1.135687e-08</td>\n",
       "      <td>209836</td>\n",
       "      <td>35258968</td>\n",
       "      <td>cds</td>\n",
       "    </tr>\n",
       "  </tbody>\n",
       "</table>\n",
       "</div>"
      ],
      "text/plain": [
       "            mutability_av  mutability_stderr  n_seqs     n_sites  \\\n",
       "intergenic       0.000032       9.531476e-10   30265  1632535849   \n",
       "cds              0.000045       1.135687e-08  209836    35258968   \n",
       "\n",
       "           seqeunce_class  \n",
       "intergenic     intergenic  \n",
       "cds                   cds  "
      ]
     },
     "execution_count": 57,
     "metadata": {},
     "output_type": "execute_result"
    }
   ],
   "source": [
    "data_df"
   ]
  },
  {
   "cell_type": "code",
   "execution_count": 36,
   "metadata": {},
   "outputs": [],
   "source": [
    "data_df.to_csv(\"global_cds_intergenic_mutability_2022_01_04.csv\")"
   ]
  },
  {
   "cell_type": "markdown",
   "metadata": {},
   "source": [
    "** testing that my code actually worked ** "
   ]
  },
  {
   "cell_type": "code",
   "execution_count": 84,
   "metadata": {},
   "outputs": [],
   "source": [
    "cds_length = 0\n",
    "for record in SeqIO.parse(open(\"gettingCdsIntergenic/cds.fasta\"), \"fasta\"): \n",
    "    cds_length += len(record.seq)"
   ]
  },
  {
   "cell_type": "code",
   "execution_count": 99,
   "metadata": {},
   "outputs": [
    {
     "data": {
      "text/plain": [
       "(199915601, 197326285, 199915849)"
      ]
     },
     "execution_count": 99,
     "metadata": {},
     "output_type": "execute_result"
    }
   ],
   "source": [
    "cds_length, len(global_cds_mut_list), len(global_cds_mut_list) + (2*1294782)"
   ]
  },
  {
   "cell_type": "code",
   "execution_count": 90,
   "metadata": {},
   "outputs": [],
   "source": [
    "inter_length = 0\n",
    "for record in SeqIO.parse(open(\"gettingCdsIntergenic/intergenic.fasta\"), \"fasta\"): \n",
    "    inter_length += len(record.seq)"
   ]
  },
  {
   "cell_type": "code",
   "execution_count": 100,
   "metadata": {},
   "outputs": [
    {
     "data": {
      "text/plain": [
       "(1716159126, 1632535849)"
      ]
     },
     "execution_count": 100,
     "metadata": {},
     "output_type": "execute_result"
    }
   ],
   "source": [
    "inter_length, len(global_inter_mut_list)"
   ]
  },
  {
   "cell_type": "code",
   "execution_count": 58,
   "metadata": {},
   "outputs": [
    {
     "data": {
      "text/html": [
       "<div>\n",
       "<style scoped>\n",
       "    .dataframe tbody tr th:only-of-type {\n",
       "        vertical-align: middle;\n",
       "    }\n",
       "\n",
       "    .dataframe tbody tr th {\n",
       "        vertical-align: top;\n",
       "    }\n",
       "\n",
       "    .dataframe thead th {\n",
       "        text-align: right;\n",
       "    }\n",
       "</style>\n",
       "<table border=\"1\" class=\"dataframe\">\n",
       "  <thead>\n",
       "    <tr style=\"text-align: right;\">\n",
       "      <th></th>\n",
       "      <th>mutability_av</th>\n",
       "      <th>mutability_stderr</th>\n",
       "      <th>n_seqs</th>\n",
       "      <th>n_sites</th>\n",
       "      <th>seqeunce_class</th>\n",
       "    </tr>\n",
       "  </thead>\n",
       "  <tbody>\n",
       "    <tr>\n",
       "      <th>intergenic</th>\n",
       "      <td>0.000032</td>\n",
       "      <td>9.531476e-10</td>\n",
       "      <td>30265</td>\n",
       "      <td>1632535849</td>\n",
       "      <td>intergenic</td>\n",
       "    </tr>\n",
       "    <tr>\n",
       "      <th>cds</th>\n",
       "      <td>0.000045</td>\n",
       "      <td>1.135687e-08</td>\n",
       "      <td>209836</td>\n",
       "      <td>35258968</td>\n",
       "      <td>cds</td>\n",
       "    </tr>\n",
       "  </tbody>\n",
       "</table>\n",
       "</div>"
      ],
      "text/plain": [
       "            mutability_av  mutability_stderr  n_seqs     n_sites  \\\n",
       "intergenic       0.000032       9.531476e-10   30265  1632535849   \n",
       "cds              0.000045       1.135687e-08  209836    35258968   \n",
       "\n",
       "           seqeunce_class  \n",
       "intergenic     intergenic  \n",
       "cds                   cds  "
      ]
     },
     "execution_count": 58,
     "metadata": {},
     "output_type": "execute_result"
    }
   ],
   "source": [
    "data_df"
   ]
  },
  {
   "cell_type": "code",
   "execution_count": 44,
   "metadata": {},
   "outputs": [
    {
     "data": {
      "text/plain": [
       "['Unnamed: 0', 'mutability', 'n_seqs', 'n_sites']"
      ]
     },
     "execution_count": 44,
     "metadata": {},
     "output_type": "execute_result"
    }
   ],
   "source": [
    "list(data_df.columns)"
   ]
  },
  {
   "cell_type": "code",
   "execution_count": 65,
   "metadata": {},
   "outputs": [
    {
     "data": {
      "text/plain": [
       "<ErrorbarContainer object of 3 artists>"
      ]
     },
     "execution_count": 65,
     "metadata": {},
     "output_type": "execute_result"
    },
    {
     "data": {
      "image/png": "[encoded data removed]",
      "text/plain": [
       "<Figure size 432x288 with 1 Axes>"
      ]
     },
     "metadata": {
      "needs_background": "light"
     },
     "output_type": "display_data"
    }
   ],
   "source": [
    "plt.bar(x=data_df.seqeunce_class,height= data_df.mutability_av)\n",
    "plt.errorbar(data_df.seqeunce_class, data_df.mutability_av, yerr=data_df.mutability_stderr,color=\"black\",fmt=\"o\")"
   ]
  },
  {
   "cell_type": "code",
   "execution_count": null,
   "metadata": {},
   "outputs": [],
   "source": []
  },
  {
   "cell_type": "code",
   "execution_count": null,
   "metadata": {},
   "outputs": [],
   "source": []
  },
  {
   "cell_type": "code",
   "execution_count": null,
   "metadata": {},
   "outputs": [],
   "source": []
  },
  {
   "cell_type": "code",
   "execution_count": null,
   "metadata": {},
   "outputs": [],
   "source": []
  },
  {
   "cell_type": "code",
   "execution_count": null,
   "metadata": {},
   "outputs": [],
   "source": []
  },
  {
   "cell_type": "code",
   "execution_count": null,
   "metadata": {},
   "outputs": [],
   "source": []
  },
  {
   "cell_type": "code",
   "execution_count": null,
   "metadata": {},
   "outputs": [],
   "source": []
  },
  {
   "cell_type": "code",
   "execution_count": null,
   "metadata": {},
   "outputs": [],
   "source": []
  }
 ],
 "metadata": {
  "kernelspec": {
   "display_name": "Python [conda env:.conda-mutEq]",
   "language": "python",
   "name": "conda-env-.conda-mutEq-py"
  },
  "language_info": {
   "codemirror_mode": {
    "name": "ipython",
    "version": 3
   },
   "file_extension": ".py",
   "mimetype": "text/x-python",
   "name": "python",
   "nbconvert_exporter": "python",
   "pygments_lexer": "ipython3",
   "version": "3.9.6"
  }
 },
 "nbformat": 4,
 "nbformat_minor": 4
}
