{
 "cells": [
  {
   "cell_type": "markdown",
   "metadata": {},
   "source": [
    "# ** using previous cds/exon dict to calculate coding vs noncoding mutability ** "
   ]
  },
  {
   "cell_type": "code",
   "execution_count": 10,
   "metadata": {},
   "outputs": [],
   "source": [
    "import json \n",
    "from tqdm import tqdm \n",
    "from Bio import SeqIO"
   ]
  },
  {
   "cell_type": "code",
   "execution_count": 4,
   "metadata": {},
   "outputs": [],
   "source": [
    "cds_dict_max_bounds = json.loads(open(\"CDS_maxBounds_dict.txt\").read())\n"
   ]
  },
  {
   "cell_type": "code",
   "execution_count": 8,
   "metadata": {},
   "outputs": [
    {
     "data": {
      "text/plain": [
       "[[63009560,\n",
       "  63615481,\n",
       "  ['Parent=transcript:ENST00000583356',\n",
       "   'Parent=transcript:ENST00000422263',\n",
       "   'Parent=transcript:ENST00000409120',\n",
       "   'Parent=transcript:ENST00000178638',\n",
       "   'Parent=transcript:ENST00000344366',\n",
       "   'Parent=transcript:ENST00000409562',\n",
       "   'Parent=transcript:ENST00000644624',\n",
       "   'Parent=transcript:ENST00000592327',\n",
       "   'Parent=transcript:ENST00000450542',\n",
       "   'Parent=transcript:ENST00000409354',\n",
       "   'Parent=transcript:ENST00000399262',\n",
       "   'Parent=transcript:ENST00000645214',\n",
       "   'Parent=transcript:ENST00000424789',\n",
       "   'Parent=transcript:ENST00000468110',\n",
       "   'Parent=transcript:ENST00000389520',\n",
       "   'Parent=transcript:ENST00000478300',\n",
       "   'Parent=transcript:ENST00000591902',\n",
       "   'Parent=transcript:ENST00000272321',\n",
       "   'Parent=transcript:ENST00000326575',\n",
       "   'Parent=transcript:ENST00000409199',\n",
       "   'Parent=transcript:ENST00000398544']]]"
      ]
     },
     "execution_count": 8,
     "metadata": {},
     "output_type": "execute_result"
    }
   ],
   "source": [
    "[list(cds_dict_max_bounds.values())[0]]"
   ]
  },
  {
   "cell_type": "code",
   "execution_count": 12,
   "metadata": {},
   "outputs": [],
   "source": [
    "seq_file_locations = \"../../../data/MichealsonData/Ready_data/Sequence/\""
   ]
  },
  {
   "cell_type": "code",
   "execution_count": 19,
   "metadata": {},
   "outputs": [],
   "source": [
    "sequence_dict = {}\n",
    "for i in range(1,23): \n",
    "    chrom = \"chr{x}\".format(x = i)\n",
    "    chrom_file = SeqIO.read(open(seq_file_locations+chrom+\".fa\"), \"fasta\")\n",
    "    \n",
    "    sequence_dict[chrom] = chrom_file\n",
    "    break "
   ]
  },
  {
   "cell_type": "code",
   "execution_count": null,
   "metadata": {},
   "outputs": [],
   "source": [
    "for cds_name, cds_value in cds_dict_max_bounds.items(): \n",
    "    "
   ]
  },
  {
   "cell_type": "code",
   "execution_count": null,
   "metadata": {},
   "outputs": [],
   "source": []
  },
  {
   "cell_type": "code",
   "execution_count": null,
   "metadata": {},
   "outputs": [],
   "source": []
  },
  {
   "cell_type": "code",
   "execution_count": null,
   "metadata": {},
   "outputs": [],
   "source": []
  },
  {
   "cell_type": "code",
   "execution_count": null,
   "metadata": {},
   "outputs": [],
   "source": []
  },
  {
   "cell_type": "code",
   "execution_count": null,
   "metadata": {},
   "outputs": [],
   "source": []
  },
  {
   "cell_type": "code",
   "execution_count": null,
   "metadata": {},
   "outputs": [],
   "source": []
  },
  {
   "cell_type": "code",
   "execution_count": null,
   "metadata": {},
   "outputs": [],
   "source": []
  },
  {
   "cell_type": "code",
   "execution_count": null,
   "metadata": {},
   "outputs": [],
   "source": []
  },
  {
   "cell_type": "code",
   "execution_count": null,
   "metadata": {},
   "outputs": [],
   "source": []
  },
  {
   "cell_type": "code",
   "execution_count": null,
   "metadata": {},
   "outputs": [],
   "source": []
  },
  {
   "cell_type": "code",
   "execution_count": null,
   "metadata": {},
   "outputs": [],
   "source": []
  },
  {
   "cell_type": "code",
   "execution_count": null,
   "metadata": {},
   "outputs": [],
   "source": []
  },
  {
   "cell_type": "code",
   "execution_count": null,
   "metadata": {},
   "outputs": [],
   "source": []
  },
  {
   "cell_type": "code",
   "execution_count": null,
   "metadata": {},
   "outputs": [],
   "source": []
  },
  {
   "cell_type": "code",
   "execution_count": null,
   "metadata": {},
   "outputs": [],
   "source": []
  }
 ],
 "metadata": {
  "kernelspec": {
   "display_name": "Python 3 (ipykernel)",
   "language": "python",
   "name": "python3"
  },
  "language_info": {
   "codemirror_mode": {
    "name": "ipython",
    "version": 3
   },
   "file_extension": ".py",
   "mimetype": "text/x-python",
   "name": "python",
   "nbconvert_exporter": "python",
   "pygments_lexer": "ipython3",
   "version": "3.9.6"
  }
 },
 "nbformat": 4,
 "nbformat_minor": 4
}
