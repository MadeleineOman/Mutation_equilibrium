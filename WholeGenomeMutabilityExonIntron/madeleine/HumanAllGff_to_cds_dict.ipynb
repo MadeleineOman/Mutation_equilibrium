{
 "cells": [
  {
   "cell_type": "markdown",
   "metadata": {},
   "source": [
    "# ** whole genome exon v intron mut *without* tabix ** "
   ]
  },
  {
   "cell_type": "code",
   "execution_count": 93,
   "metadata": {},
   "outputs": [],
   "source": [
    "from tqdm import tqdm\n",
    "import copy \n",
    "import json \n",
    "import time"
   ]
  },
  {
   "cell_type": "code",
   "execution_count": 2,
   "metadata": {},
   "outputs": [
    {
     "name": "stdout",
     "output_type": "stream",
     "text": [
      "1\t.\tbiological_region\t2228324\t2228334\t0.999\t-\t.\tlogic_name=eponine\n",
      "1\t.\tbiological_region\t2228340\t2228342\t0.999\t-\t.\tlogic_name=eponine\n",
      "1\t.\tbiological_region\t2228346\t2228356\t0.999\t-\t.\tlogic_name=eponine\n",
      "1\t.\tbiological_region\t2228392\t2228407\t0.999\t-\t.\tlogic_name=eponine\n",
      "1\t.\tbiological_region\t2228433\t2228440\t0.999\t-\t.\tlogic_name=eponine\n",
      "1\t.\tbiological_region\t2228449\t2228460\t0.999\t+\t.\tlogic_name=eponine\n",
      "1\t.\tbiological_region\t2228478\t2228480\t0.999\t+\t.\tlogic_name=eponine\n",
      "1\t.\tbiological_region\t2228488\t2228496\t0.999\t+\t.\tlogic_name=eponine\n",
      "1\t.\tbiological_region\t2228503\t2228510\t0.999\t-\t.\tlogic_name=eponine\n",
      "1\t.\tbiological_region\t2228550\t2228556\t0.999\t-\t.\tlogic_name=eponine\n",
      "\n",
      "gzip: stdout: Broken pipe\n"
     ]
    }
   ],
   "source": [
    "!zcat Homo_sapiens.GRCh38.100.gff3.gz | head -n 10000 | tail -n 10 "
   ]
  },
  {
   "cell_type": "code",
   "execution_count": 3,
   "metadata": {},
   "outputs": [],
   "source": [
    "gff_lines = open(\"Homo_sapiens_sorted.GRCh38.100.gff3\").readlines()"
   ]
  },
  {
   "cell_type": "code",
   "execution_count": 4,
   "metadata": {},
   "outputs": [
    {
     "data": {
      "text/plain": [
       "2984635"
      ]
     },
     "execution_count": 4,
     "metadata": {},
     "output_type": "execute_result"
    }
   ],
   "source": [
    "len(gff_lines)"
   ]
  },
  {
   "cell_type": "code",
   "execution_count": 5,
   "metadata": {},
   "outputs": [
    {
     "name": "stdout",
     "output_type": "stream",
     "text": [
      "['1', 'havana', 'exon', '161217986', '161218077', '.', '+', '.', 'Parent=transcript:ENST00000367992;Name=ENSE00001041693;constitutive=0;ensembl_end_phase=0;ensembl_phase=1;exon_id=ENSE00001041693;rank=2;version=1']\n"
     ]
    }
   ],
   "source": [
    "print((gff_lines[330790].split()))"
   ]
  },
  {
   "cell_type": "code",
   "execution_count": 6,
   "metadata": {},
   "outputs": [],
   "source": [
    "line_types = []\n",
    "for line in gff_lines: \n",
    "    if len(line.split(\"\\t\")) == 9: \n",
    "        line_type = line.split()[2]\n",
    "        if line_type not in line_types: \n",
    "            line_types.append(line_type)\n",
    "\n",
    "    "
   ]
  },
  {
   "cell_type": "code",
   "execution_count": 7,
   "metadata": {},
   "outputs": [
    {
     "data": {
      "text/plain": [
       "['biological_region',\n",
       " 'scaffold',\n",
       " 'CDS',\n",
       " 'exon',\n",
       " 'five_prime_UTR',\n",
       " 'gene',\n",
       " 'mRNA',\n",
       " 'three_prime_UTR',\n",
       " 'ncRNA',\n",
       " 'ncRNA_gene',\n",
       " 'snRNA',\n",
       " 'rRNA',\n",
       " 'pseudogene',\n",
       " 'pseudogenic_transcript',\n",
       " 'chromosome',\n",
       " 'tRNA',\n",
       " 'lnc_RNA',\n",
       " 'scRNA',\n",
       " 'snoRNA',\n",
       " 'unconfirmed_transcript',\n",
       " 'miRNA',\n",
       " 'V_gene_segment',\n",
       " 'C_gene_segment',\n",
       " 'J_gene_segment',\n",
       " 'vaultRNA_primary_transcript',\n",
       " 'D_gene_segment']"
      ]
     },
     "execution_count": 7,
     "metadata": {},
     "output_type": "execute_result"
    }
   ],
   "source": [
    "line_types"
   ]
  },
  {
   "cell_type": "code",
   "execution_count": 8,
   "metadata": {},
   "outputs": [],
   "source": [
    "!zcat Homo_sapiens.GRCh38.100.gff3.gz | grep \"CDS\" > CDS_GRCh38_fromOGfileUnsorted.txt"
   ]
  },
  {
   "cell_type": "code",
   "execution_count": 9,
   "metadata": {},
   "outputs": [],
   "source": [
    "cds_lines = open(\"CDS_GRCh38_fromOGfileUnsorted.txt\").readlines()"
   ]
  },
  {
   "cell_type": "code",
   "execution_count": 10,
   "metadata": {},
   "outputs": [
    {
     "data": {
      "text/plain": [
       "'1\\thavana\\tCDS\\t65565\\t65573\\t.\\t+\\t0\\tID=CDS:ENSP00000493376;Parent=transcript:ENST00000641515;protein_id=ENSP00000493376\\n'"
      ]
     },
     "execution_count": 10,
     "metadata": {},
     "output_type": "execute_result"
    }
   ],
   "source": [
    "cds_lines[0]"
   ]
  },
  {
   "cell_type": "code",
   "execution_count": 42,
   "metadata": {},
   "outputs": [],
   "source": [
    "cds_bounds = {}\n",
    "for line in cds_lines: \n",
    "    line_split = line.split()\n",
    "    cds_type = line_split[2]\n",
    "    \n",
    "    if cds_type == \"CDS\": \n",
    "        try: \n",
    "            int(line_split[0]) # we only want locations that have chromosome assignments \n",
    "        except: \n",
    "            None\n",
    "        else: \n",
    "            cds_chrom = int(line_split[0])\n",
    "            cds_start = int(line_split[3])\n",
    "            cds_end = int(line_split[4])\n",
    "            cds_id = line_split[8].split(\";\")[1]\n",
    "\n",
    "            if cds_id not in cds_bounds.keys(): \n",
    "                cds_bounds[cds_id] = {\"chrom\":cds_chrom, \"bounds\":[[cds_start, cds_end]]}\n",
    "            else: \n",
    "                cds_bounds[cds_id][\"bounds\"].append([cds_start, cds_end])\n"
   ]
  },
  {
   "cell_type": "code",
   "execution_count": 46,
   "metadata": {},
   "outputs": [
    {
     "name": "stdout",
     "output_type": "stream",
     "text": [
      "{'bounds': [[65565, 65573], [69037, 70008]], 'chrom': 1} total dict len = 97015\n"
     ]
    }
   ],
   "source": [
    "print(cds_bounds[\"Parent=transcript:ENST00000641515\"], \"total dict len = \"+str(len(cds_bounds)), )"
   ]
  },
  {
   "cell_type": "markdown",
   "metadata": {},
   "source": [
    "** testing for overlap within trnascripts** "
   ]
  },
  {
   "cell_type": "code",
   "execution_count": 47,
   "metadata": {},
   "outputs": [
    {
     "name": "stderr",
     "output_type": "stream",
     "text": [
      "100%|██████████| 97015/97015 [00:04<00:00, 22088.29it/s]\n"
     ]
    }
   ],
   "source": [
    "for transcript_name, cds_dict in tqdm(cds_bounds.items()): \n",
    "    for index, bound in enumerate(cds_dict[\"bounds\"]): \n",
    "        if index != 0: \n",
    "            cds_start = (bound[0])\n",
    "            cds_end = (bound[1])\n",
    "\n",
    "            other_cds_bounds = copy.copy(cds_dict[\"bounds\"])\n",
    "            other_cds_bounds.remove(bound)\n",
    "            \n",
    "            for other_bound in other_cds_bounds: \n",
    "                if other_bound[0] <= cds_start <= other_bound[1]: \n",
    "                    print(bound,other_bound)\n",
    "                elif other_bound[0] <= cds_end <= other_bound[1]:\n",
    "                    print(bound,other_bound)\n",
    "                "
   ]
  },
  {
   "cell_type": "code",
   "execution_count": 16,
   "metadata": {},
   "outputs": [],
   "source": [
    "# --> ok so no overlap within trnascript IDs... "
   ]
  },
  {
   "cell_type": "markdown",
   "metadata": {},
   "source": [
    "** adding max bounds for overlap comp later ** "
   ]
  },
  {
   "cell_type": "code",
   "execution_count": 52,
   "metadata": {},
   "outputs": [],
   "source": [
    "for cds_dict_value in cds_bounds.values(): \n",
    "    max_bound = max(cds_dict_value[\"bounds\"])[1]\n",
    "    min_bound = min(cds_dict_value[\"bounds\"])[0]\n",
    "    cds_dict_value[\"total_bounds\"] = [min_bound, max_bound]"
   ]
  },
  {
   "cell_type": "code",
   "execution_count": 53,
   "metadata": {},
   "outputs": [
    {
     "name": "stdout",
     "output_type": "stream",
     "text": [
      "{'total_bounds': [65565, 70008], 'bounds': [[65565, 65573], [69037, 70008]], 'chrom': 1} total dict len = 97015\n"
     ]
    }
   ],
   "source": [
    "print(cds_bounds[\"Parent=transcript:ENST00000641515\"], \"total dict len = \"+str(len(cds_bounds)), )"
   ]
  },
  {
   "cell_type": "markdown",
   "metadata": {},
   "source": [
    "** finding overlapping cds names  ** "
   ]
  },
  {
   "cell_type": "code",
   "execution_count": null,
   "metadata": {},
   "outputs": [
    {
     "name": "stderr",
     "output_type": "stream",
     "text": [
      "  0%|          | 48/97015 [00:07<3:59:31,  6.75it/s]"
     ]
    }
   ],
   "source": [
    "matching_name_list = []\n",
    "listed_already_covered_cds_names = []\n",
    "\n",
    "for cds_name, cds_dict in tqdm(cds_bounds.items()): \n",
    "    if cds_name not in listed_already_covered_cds_names: \n",
    "        total_start = cds_dict[\"total_bounds\"][0]\n",
    "        total_end = cds_dict[\"total_bounds\"][1]\n",
    "        list_cdsName_matches = []\n",
    "        \n",
    "        for other_cds_name, other_cds_dict in cds_bounds.items(): \n",
    "            other_total_start = other_cds_dict[\"total_bounds\"][0]\n",
    "            other_total_end = other_cds_dict[\"total_bounds\"][1]\n",
    "            \n",
    "            if cds_dict[\"chrom\"] == other_cds_dict[\"chrom\"]:\n",
    "\n",
    "                if  other_total_start <= total_start <= other_total_end: \n",
    "                    list_cdsName_matches.append(other_cds_name)\n",
    "                elif other_total_start <= total_end <= other_total_end:\n",
    "                    list_cdsName_matches.append(other_cds_name)\n",
    "        \n",
    "        matching_name_list.append(list_cdsName_matches) \n",
    "        listed_already_covered_cds_names.extend(list_cdsName_matches)\n",
    "        \n",
    "        \n",
    "            "
   ]
  },
  {
   "cell_type": "code",
   "execution_count": 328,
   "metadata": {},
   "outputs": [
    {
     "data": {
      "text/plain": [
       "['Parent=transcript:ENST00000554741',\n",
       " 'Parent=transcript:ENST00000397528',\n",
       " 'Parent=transcript:ENST00000556287',\n",
       " 'Parent=transcript:ENST00000555959',\n",
       " 'Parent=transcript:ENST00000555251',\n",
       " 'Parent=transcript:ENST00000674313',\n",
       " 'Parent=transcript:ENST00000557129',\n",
       " 'Parent=transcript:ENST00000555702',\n",
       " 'Parent=transcript:ENST00000397532',\n",
       " 'Parent=transcript:ENST00000397529']"
      ]
     },
     "execution_count": 328,
     "metadata": {},
     "output_type": "execute_result"
    }
   ],
   "source": [
    "(listed_already_covered_cds_names)[0:10]"
   ]
  },
  {
   "cell_type": "code",
   "execution_count": 326,
   "metadata": {},
   "outputs": [
    {
     "data": {
      "text/plain": [
       "97015"
      ]
     },
     "execution_count": 326,
     "metadata": {},
     "output_type": "execute_result"
    }
   ],
   "source": [
    "len(cds_bounds)"
   ]
  },
  {
   "cell_type": "code",
   "execution_count": 321,
   "metadata": {},
   "outputs": [
    {
     "name": "stdout",
     "output_type": "stream",
     "text": [
      "the number of genes are: 27373\n"
     ]
    }
   ],
   "source": [
    "print(\"the number of genes are: \" + str(len(matching_name_list)))"
   ]
  },
  {
   "cell_type": "code",
   "execution_count": 322,
   "metadata": {},
   "outputs": [
    {
     "data": {
      "text/plain": [
       "['Parent=transcript:ENST00000554741',\n",
       " 'Parent=transcript:ENST00000397528',\n",
       " 'Parent=transcript:ENST00000556287',\n",
       " 'Parent=transcript:ENST00000555959',\n",
       " 'Parent=transcript:ENST00000555251',\n",
       " 'Parent=transcript:ENST00000674313',\n",
       " 'Parent=transcript:ENST00000557129',\n",
       " 'Parent=transcript:ENST00000555702',\n",
       " 'Parent=transcript:ENST00000397532',\n",
       " 'Parent=transcript:ENST00000397529',\n",
       " 'Parent=transcript:ENST00000554758',\n",
       " 'Parent=transcript:ENST00000557629',\n",
       " 'Parent=transcript:ENST00000285850',\n",
       " 'Parent=transcript:ENST00000488800',\n",
       " 'Parent=transcript:ENST00000555911']"
      ]
     },
     "execution_count": 322,
     "metadata": {},
     "output_type": "execute_result"
    }
   ],
   "source": [
    "matching_name_list[0]"
   ]
  },
  {
   "cell_type": "markdown",
   "metadata": {},
   "source": [
    "** for each matching group, find overlapping exons/cds and make the max bounds for each overlap item in new non-overlap dict ** "
   ]
  },
  {
   "cell_type": "code",
   "execution_count": 171,
   "metadata": {},
   "outputs": [],
   "source": [
    "gene_group_dict = {}\n"
   ]
  },
  {
   "cell_type": "code",
   "execution_count": 175,
   "metadata": {},
   "outputs": [
    {
     "data": {
      "text/plain": [
       "['Parent=transcript:ENST00000637002',\n",
       " 'Parent=transcript:ENST00000347310',\n",
       " 'Parent=transcript:ENST00000395227',\n",
       " 'Parent=transcript:ENST00000425614']"
      ]
     },
     "execution_count": 175,
     "metadata": {},
     "output_type": "execute_result"
    }
   ],
   "source": [
    "matching_name_list[100]"
   ]
  },
  {
   "cell_type": "code",
   "execution_count": 176,
   "metadata": {},
   "outputs": [
    {
     "name": "stderr",
     "output_type": "stream",
     "text": [
      "100%|██████████| 27373/27373 [00:50<00:00, 540.43it/s] \n"
     ]
    }
   ],
   "source": [
    "gene_group_dict = {}\n",
    "\n",
    "for group_gene_matches in tqdm(matching_name_list): \n",
    "    \n",
    "    gene_matches = [] # will be alist of lists, where each element is a list of a group of overlapping cds/exons \n",
    "    match_names_tested = [] # want to collect the transcripts I test as I go along \n",
    "\n",
    "    for match_name in group_gene_matches: \n",
    "\n",
    "        match_names_tested.append(match_name) # addign currnet cds/transcript to the list of those laready tested \n",
    "\n",
    "        for bound in cds_bounds[match_name][\"bounds\"]: \n",
    "            bound_start = bound[0]\n",
    "            bound_end = bound[1]\n",
    "\n",
    "            current_matching_bounds = [bound]\n",
    "\n",
    "            for other_match_name in group_gene_matches: \n",
    "\n",
    "\n",
    "\n",
    "                if other_match_name not in match_names_tested: \n",
    "    #                 print(match_name, bound, other_match_name, len(cds_bounds[other_match_name][\"bounds\"]))\n",
    "\n",
    "                    match_found = False\n",
    "\n",
    "                    for other_bound in cds_bounds[other_match_name][\"bounds\"]:\n",
    "\n",
    "                        if match_found == False: # match_found out here as one match per match name \n",
    "\n",
    "                            if other_bound[0]<= bound[0] <= other_bound[1] : #here are the tests for overlap \n",
    "                                current_matching_bounds.append(other_bound)\n",
    "                                match_found = True\n",
    "                            elif other_bound[0]<= bound[1] <= other_bound[1] :\n",
    "                                current_matching_bounds.append(other_bound)\n",
    "                                match_found = True                            \n",
    "                            elif bound[0]<= other_bound[0] <= bound[1] :\n",
    "                                current_matching_bounds.append(other_bound)\n",
    "                                match_found = True                            \n",
    "                            elif bound[0]<= other_bound[0] <= bound[1] : \n",
    "                                current_matching_bounds.append(other_bound)\n",
    "                                match_found = True\n",
    "\n",
    "            gene_matches.append(current_matching_bounds)\n",
    "\n",
    "        # then if found a match ina matchname then skip rest ---> \n",
    "        # ok need to not revist old pairs \n",
    "        # need if already in a match, then skip \n",
    "      # ok now need to store current_matching_bounds\n",
    "\n",
    "    gene_group_dict[match_name] = gene_matches\n",
    "\n",
    "    "
   ]
  },
  {
   "cell_type": "code",
   "execution_count": 323,
   "metadata": {},
   "outputs": [
    {
     "data": {
      "text/plain": [
       "[[[67200855, 67200897], [67200737, 67200897]],\n",
       " [[67206910, 67207055], [67206910, 67207055]],\n",
       " [[67219574, 67219730],\n",
       "  [67219574, 67219730],\n",
       "  [67219574, 67219730],\n",
       "  [67219574, 67219730]],\n",
       " [[67236713, 67236802], [67236713, 67236802], [67236713, 67236802]],\n",
       " [[67240179, 67240281], [67240179, 67240281], [67240179, 67240281]],\n",
       " [[67255837, 67255927],\n",
       "  [67255837, 67255862],\n",
       "  [67255837, 67255927],\n",
       "  [67255837, 67255927]],\n",
       " [[67258478, 67259128], [67258478, 67259128], [67258478, 67259128]],\n",
       " [[67207666, 67207698], [67207666, 67207698]],\n",
       " [[67219574, 67219730], [67219574, 67219730], [67219574, 67219730]],\n",
       " [[67255837, 67255862], [67255837, 67255927], [67255837, 67255927]],\n",
       " [[67168121, 67168190]],\n",
       " [[67169342, 67169638]],\n",
       " [[67182836, 67182959]],\n",
       " [[67200737, 67200897]],\n",
       " [[67206910, 67207055]],\n",
       " [[67219574, 67219730], [67219574, 67219730]],\n",
       " [[67236713, 67236802], [67236713, 67236802]],\n",
       " [[67240179, 67240281], [67240179, 67240281]],\n",
       " [[67255837, 67255927], [67255837, 67255927]],\n",
       " [[67258478, 67259128], [67258478, 67259128]],\n",
       " [[67207666, 67207698]],\n",
       " [[67219574, 67219730]],\n",
       " [[67236713, 67236802]],\n",
       " [[67240179, 67240281]],\n",
       " [[67255837, 67255927]],\n",
       " [[67258478, 67259128]]]"
      ]
     },
     "execution_count": 323,
     "metadata": {},
     "output_type": "execute_result"
    }
   ],
   "source": [
    "gene_group_dict['Parent=transcript:ENST00000425614']"
   ]
  },
  {
   "cell_type": "markdown",
   "metadata": {},
   "source": [
    "## ** ok lets get non-overlap dict ** "
   ]
  },
  {
   "cell_type": "code",
   "execution_count": 295,
   "metadata": {},
   "outputs": [
    {
     "name": "stderr",
     "output_type": "stream",
     "text": [
      "100%|██████████| 22296/22296 [00:09<00:00, 2406.97it/s]\n"
     ]
    }
   ],
   "source": [
    "nonOverlap_dict = {}\n",
    "f_ups = []\n",
    "reversed_fups = []\n",
    "\n",
    "for gene_name in tqdm(gene_group_dict.keys()):\n",
    "\n",
    "    #turning list of bound lists into just one long sorted listed exon bounds \n",
    "    bound_lists = []\n",
    "    for bound_list in gene_group_dict[gene_name]: \n",
    "        bound_lists.extend(bound_list)    \n",
    "    bound_lists = sorted(bound_lists , key=lambda k: [k[1], k[0]]) # sort \n",
    "\n",
    "    #setting loop variables for this gene \n",
    "    nonOverlap_list = []\n",
    "    chrom = cds_bounds[gene_name][\"chrom\"]\n",
    "\n",
    "    #this is the bound start/end that the rest compare to (easier to set this as the [0] outside the loop)\n",
    "    bound_to_keep_start = bound_lists[0][0]\n",
    "    bound_to_keep_end = bound_lists[0][1]\n",
    "\n",
    "    #ooping through the rest fo the bounds to collect non-overlaps and extend \n",
    "    for i,bound in enumerate(bound_lists): \n",
    "        bound_start = bound[0]\n",
    "        bound_end = bound[1]\n",
    "\n",
    "        #there are some fuckups where the bound start is after the end (skip)\n",
    "        if bound_start <= bound_end: \n",
    "            reversed_fups.append([gene_name, bound])\n",
    "\n",
    "        #if the current bound_start is after the bound_to_keep_end then its a new non-overlap\n",
    "        #-->need to add the prev to_keep to the list, and start another \n",
    "        elif bound_start > bound_to_keep_end: #if the \n",
    "            nonOverlap_list.append([bound_to_keep_start, bound_to_keep_end])\n",
    "            bound_to_keep_start = bound_start\n",
    "            bound_to_keep_end = bound_end\n",
    "\n",
    "        #if the start isnt after, but the end is after, then need to extend the current to_keep until the end of this curr end \n",
    "        elif bound_end > bound_to_keep_end: \n",
    "            bound_to_keep_end = bound_end    \n",
    "\n",
    "        #the only toher case there should be are repeat exon coords \n",
    "        else:\n",
    "            #if not a repeat, send to error list \n",
    "            if bound_start != bound_to_keep_start or bound_end != bound_to_keep_end: \n",
    "                f_ups.append(bound)\n",
    "\n",
    "    #once reaches end, need to add the last exon to the list             \n",
    "    nonOverlap_list.append([bound_to_keep_start, bound_to_keep_end]) \n",
    "    #add all the list and chom to the dict \n",
    "    nonOverlap_dict[gene_name] = {\"chrom\": chrom, \"exons\": nonOverlap_list}"
   ]
  },
  {
   "cell_type": "code",
   "execution_count": 309,
   "metadata": {},
   "outputs": [
    {
     "data": {
      "text/plain": [
       "22296"
      ]
     },
     "execution_count": 309,
     "metadata": {},
     "output_type": "execute_result"
    }
   ],
   "source": [
    "len(nonOverlap_dict)"
   ]
  },
  {
   "cell_type": "code",
   "execution_count": 297,
   "metadata": {},
   "outputs": [
    {
     "data": {
      "text/plain": [
       "0"
      ]
     },
     "execution_count": 297,
     "metadata": {},
     "output_type": "execute_result"
    }
   ],
   "source": [
    "len(f_ups)"
   ]
  },
  {
   "cell_type": "code",
   "execution_count": 298,
   "metadata": {},
   "outputs": [
    {
     "data": {
      "text/plain": [
       "3284793"
      ]
     },
     "execution_count": 298,
     "metadata": {},
     "output_type": "execute_result"
    }
   ],
   "source": [
    "len(reversed_fups)"
   ]
  },
  {
   "cell_type": "code",
   "execution_count": 299,
   "metadata": {},
   "outputs": [],
   "source": [
    "total_exons = 0\n",
    "for gene_name, gene_dict in nonOverlap_dict.items(): \n",
    "    total_exons += len(gene_dict[\"exons\"])"
   ]
  },
  {
   "cell_type": "code",
   "execution_count": 310,
   "metadata": {},
   "outputs": [
    {
     "data": {
      "text/plain": [
       "22296"
      ]
     },
     "execution_count": 310,
     "metadata": {},
     "output_type": "execute_result"
    }
   ],
   "source": [
    "total_exons"
   ]
  },
  {
   "cell_type": "code",
   "execution_count": 308,
   "metadata": {},
   "outputs": [
    {
     "data": {
      "text/plain": [
       "[[67168121, 67168190]]"
      ]
     },
     "execution_count": 308,
     "metadata": {},
     "output_type": "execute_result"
    }
   ],
   "source": [
    "(nonOverlap_dict['Parent=transcript:ENST00000425614'][\"exons\"])"
   ]
  },
  {
   "cell_type": "code",
   "execution_count": 311,
   "metadata": {},
   "outputs": [
    {
     "data": {
      "text/plain": [
       "['Parent=transcript:ENST00000377745']"
      ]
     },
     "execution_count": 311,
     "metadata": {},
     "output_type": "execute_result"
    }
   ],
   "source": [
    "list(nonOverlap_dict.keys())[190:191]"
   ]
  },
  {
   "cell_type": "code",
   "execution_count": 314,
   "metadata": {},
   "outputs": [
    {
     "data": {
      "text/plain": [
       "['Parent=transcript:ENST00000554741',\n",
       " 'Parent=transcript:ENST00000296370',\n",
       " 'Parent=transcript:ENST00000374726',\n",
       " 'Parent=transcript:ENST00000358465',\n",
       " 'Parent=transcript:ENST00000648156',\n",
       " 'Parent=transcript:ENST00000532317',\n",
       " 'Parent=transcript:ENST00000330843',\n",
       " 'Parent=transcript:ENST00000552509',\n",
       " 'Parent=transcript:ENST00000556483',\n",
       " 'Parent=transcript:ENST00000534397']"
      ]
     },
     "execution_count": 314,
     "metadata": {},
     "output_type": "execute_result"
    }
   ],
   "source": [
    "list(cds_bounds.keys())[0:10]"
   ]
  },
  {
   "cell_type": "code",
   "execution_count": 324,
   "metadata": {},
   "outputs": [
    {
     "data": {
      "text/plain": [
       "[[[6693933, 6694070]], [[6696893, 6697042]]]"
      ]
     },
     "execution_count": 324,
     "metadata": {},
     "output_type": "execute_result"
    }
   ],
   "source": [
    "gene_group_dict['Parent=transcript:ENST00000296370']"
   ]
  },
  {
   "cell_type": "code",
   "execution_count": 317,
   "metadata": {},
   "outputs": [
    {
     "data": {
      "text/plain": [
       "{'chrom': 4, 'exons': [[6693933, 6694070]]}"
      ]
     },
     "execution_count": 317,
     "metadata": {},
     "output_type": "execute_result"
    }
   ],
   "source": [
    "nonOverlap_dict['Parent=transcript:ENST00000296370']"
   ]
  },
  {
   "cell_type": "code",
   "execution_count": null,
   "metadata": {},
   "outputs": [],
   "source": []
  },
  {
   "cell_type": "code",
   "execution_count": null,
   "metadata": {},
   "outputs": [],
   "source": []
  },
  {
   "cell_type": "code",
   "execution_count": null,
   "metadata": {},
   "outputs": [],
   "source": []
  },
  {
   "cell_type": "code",
   "execution_count": null,
   "metadata": {},
   "outputs": [],
   "source": []
  },
  {
   "cell_type": "code",
   "execution_count": null,
   "metadata": {},
   "outputs": [],
   "source": []
  },
  {
   "cell_type": "code",
   "execution_count": null,
   "metadata": {},
   "outputs": [],
   "source": []
  },
  {
   "cell_type": "markdown",
   "metadata": {},
   "source": [
    "** ok now print the dict to file** "
   ]
  },
  {
   "cell_type": "code",
   "execution_count": 234,
   "metadata": {},
   "outputs": [],
   "source": [
    "text_file = open(\"CDS_maxBounds_dict.txt\", \"w\")\n",
    "n = text_file.write(json.dumps(cds_max_bounds))\n",
    "text_file.close()"
   ]
  },
  {
   "cell_type": "code",
   "execution_count": null,
   "metadata": {},
   "outputs": [],
   "source": []
  },
  {
   "cell_type": "code",
   "execution_count": null,
   "metadata": {},
   "outputs": [],
   "source": []
  },
  {
   "cell_type": "code",
   "execution_count": null,
   "metadata": {},
   "outputs": [],
   "source": []
  },
  {
   "cell_type": "code",
   "execution_count": null,
   "metadata": {},
   "outputs": [],
   "source": []
  },
  {
   "cell_type": "code",
   "execution_count": null,
   "metadata": {},
   "outputs": [],
   "source": []
  },
  {
   "cell_type": "code",
   "execution_count": null,
   "metadata": {},
   "outputs": [],
   "source": []
  },
  {
   "cell_type": "code",
   "execution_count": null,
   "metadata": {},
   "outputs": [],
   "source": []
  },
  {
   "cell_type": "code",
   "execution_count": null,
   "metadata": {},
   "outputs": [],
   "source": []
  },
  {
   "cell_type": "code",
   "execution_count": null,
   "metadata": {},
   "outputs": [],
   "source": []
  },
  {
   "cell_type": "code",
   "execution_count": null,
   "metadata": {},
   "outputs": [],
   "source": []
  },
  {
   "cell_type": "code",
   "execution_count": null,
   "metadata": {},
   "outputs": [],
   "source": []
  },
  {
   "cell_type": "code",
   "execution_count": null,
   "metadata": {},
   "outputs": [],
   "source": []
  },
  {
   "cell_type": "markdown",
   "metadata": {},
   "source": [
    "# ** APPENDIX !!!!!!!!!!!!!!!!!!!!!** \n",
    "___"
   ]
  },
  {
   "cell_type": "code",
   "execution_count": null,
   "metadata": {},
   "outputs": [],
   "source": []
  },
  {
   "cell_type": "code",
   "execution_count": 106,
   "metadata": {},
   "outputs": [
    {
     "name": "stdout",
     "output_type": "stream",
     "text": [
      "73\n",
      "109\n",
      "817\n",
      "117\n"
     ]
    }
   ],
   "source": [
    "tmp_list = genes_dict['Parent=transcript:ENST00000546337'][1:]\n",
    "for index, element in enumerate(tmp_list): \n",
    "    if index != 0: \n",
    "        print(element[0]-tmp_list[index-1][1])"
   ]
  },
  {
   "cell_type": "code",
   "execution_count": 105,
   "metadata": {},
   "outputs": [
    {
     "data": {
      "text/plain": [
       "[[143792609, 143792635],\n",
       " [143792708, 143792867],\n",
       " [143792976, 143793083],\n",
       " [143793900, 143793962],\n",
       " [143794079, 143794236]]"
      ]
     },
     "execution_count": 105,
     "metadata": {},
     "output_type": "execute_result"
    }
   ],
   "source": [
    "genes_dict['Parent=transcript:ENST00000546337'][1:]"
   ]
  },
  {
   "cell_type": "code",
   "execution_count": 96,
   "metadata": {},
   "outputs": [
    {
     "name": "stdout",
     "output_type": "stream",
     "text": [
      "0\n",
      "1\n",
      "2\n",
      "3\n"
     ]
    }
   ],
   "source": [
    "for index, element in enumerate([1,2,3,4,5][1:]): \n",
    "    print(index)"
   ]
  },
  {
   "cell_type": "code",
   "execution_count": 87,
   "metadata": {},
   "outputs": [
    {
     "data": {
      "text/plain": [
       "[1, 4, 3, 5, 6]"
      ]
     },
     "execution_count": 87,
     "metadata": {},
     "output_type": "execute_result"
    }
   ],
   "source": [
    "tmp_list_copy"
   ]
  },
  {
   "cell_type": "code",
   "execution_count": 93,
   "metadata": {},
   "outputs": [
    {
     "ename": "ValueError",
     "evalue": "too many values to unpack (expected 2)",
     "output_type": "error",
     "traceback": [
      "\u001b[0;31m---------------------------------------------------------------------------\u001b[0m",
      "\u001b[0;31mValueError\u001b[0m                                Traceback (most recent call last)",
      "\u001b[0;32m<ipython-input-93-57ac933aa878>\u001b[0m in \u001b[0;36m<module>\u001b[0;34m()\u001b[0m\n\u001b[0;32m----> 1\u001b[0;31m \u001b[0;32mfor\u001b[0m \u001b[0mindex\u001b[0m\u001b[0;34m,\u001b[0m \u001b[0mitem\u001b[0m \u001b[0;32min\u001b[0m \u001b[0mgenes_dict\u001b[0m\u001b[0;34m.\u001b[0m\u001b[0mvalues\u001b[0m\u001b[0;34m(\u001b[0m\u001b[0;34m)\u001b[0m\u001b[0;34m:\u001b[0m\u001b[0;34m\u001b[0m\u001b[0m\n\u001b[0m\u001b[1;32m      2\u001b[0m     \u001b[0mprint\u001b[0m\u001b[0;34m(\u001b[0m\u001b[0mlen\u001b[0m\u001b[0;34m(\u001b[0m\u001b[0mitem\u001b[0m\u001b[0;34m)\u001b[0m\u001b[0;34m)\u001b[0m\u001b[0;34m\u001b[0m\u001b[0m\n\u001b[1;32m      3\u001b[0m     \u001b[0;32mif\u001b[0m \u001b[0mindex\u001b[0m \u001b[0;34m==\u001b[0m \u001b[0;36m5\u001b[0m\u001b[0;34m:\u001b[0m\u001b[0;34m\u001b[0m\u001b[0m\n\u001b[1;32m      4\u001b[0m         \u001b[0;32mbreak\u001b[0m\u001b[0;34m\u001b[0m\u001b[0m\n",
      "\u001b[0;31mValueError\u001b[0m: too many values to unpack (expected 2)"
     ]
    }
   ],
   "source": [
    "for index, item in genes_dict.items(): \n",
    "    print(len(item))\n",
    "    if index == 5: \n",
    "        break "
   ]
  },
  {
   "cell_type": "markdown",
   "metadata": {},
   "source": [
    "## ** when i tried to use exons (intron and integenic comp ) ** "
   ]
  },
  {
   "cell_type": "code",
   "execution_count": 20,
   "metadata": {},
   "outputs": [],
   "source": [
    "!zcat Homo_sapiens.GRCh38.100.gff3.gz | grep \"exon\" > Exons_GRCh38_fromOGfileUnsorted.txt"
   ]
  },
  {
   "cell_type": "code",
   "execution_count": 130,
   "metadata": {},
   "outputs": [
    {
     "name": "stdout",
     "output_type": "stream",
     "text": [
      "1\thavana\texon\t1256045\t1256125\t.\t-\t.\tParent=transcript:ENST00000473215;Name=ENSE00003466253;constitutive=0;ensembl_end_phase=-1;ensembl_phase=-1;exon_id=ENSE00003466253;rank=6;version=1\n",
      "1\thavana\texon\t1256992\t1257130\t.\t-\t.\tParent=transcript:ENST00000473215;Name=ENSE00003609795;constitutive=0;ensembl_end_phase=-1;ensembl_phase=-1;exon_id=ENSE00003609795;rank=5;version=1\n",
      "1\thavana\texon\t1257208\t1257310\t.\t-\t.\tParent=transcript:ENST00000473215;Name=ENSE00003628299;constitutive=0;ensembl_end_phase=-1;ensembl_phase=-1;exon_id=ENSE00003628299;rank=4;version=1\n",
      "1\thavana\texon\t1263346\t1263386\t.\t-\t.\tParent=transcript:ENST00000473215;Name=ENSE00003572926;constitutive=0;ensembl_end_phase=-1;ensembl_phase=-1;exon_id=ENSE00003572926;rank=3;version=1\n",
      "1\thavana\texon\t1267733\t1267992\t.\t-\t.\tParent=transcript:ENST00000473215;Name=ENSE00003759840;constitutive=0;ensembl_end_phase=-1;ensembl_phase=0;exon_id=ENSE00003759840;rank=2;version=1\n",
      "1\thavana\texon\t1273666\t1273849\t.\t-\t.\tParent=transcript:ENST00000473215;Name=ENSE00001833135;constitutive=0;ensembl_end_phase=-1;ensembl_phase=-1;exon_id=ENSE00001833135;rank=1;version=1\n",
      "1\thavana\texon\t1255395\t1255487\t.\t-\t.\tParent=transcript:ENST00000435198;Name=ENSE00001648675;constitutive=0;ensembl_end_phase=0;ensembl_phase=0;exon_id=ENSE00001648675;rank=7;version=1\n",
      "1\thavana\texon\t1256045\t1256125\t.\t-\t.\tParent=transcript:ENST00000435198;Name=ENSE00003570987;constitutive=0;ensembl_end_phase=0;ensembl_phase=0;exon_id=ENSE00003570987;rank=6;version=1\n",
      "1\thavana\texon\t1256992\t1257130\t.\t-\t.\tParent=transcript:ENST00000435198;Name=ENSE00003500691;constitutive=0;ensembl_end_phase=0;ensembl_phase=2;exon_id=ENSE00003500691;rank=5;version=1\n",
      "1\thavana\texon\t1257208\t1257310\t.\t-\t.\tParent=transcript:ENST00000435198;Name=ENSE00003468437;constitutive=0;ensembl_end_phase=2;ensembl_phase=1;exon_id=ENSE00003468437;rank=4;version=1\n"
     ]
    }
   ],
   "source": [
    "!head -n 1500 Exons_GRCh38_fromOGfileUnsorted.txt | tail -n 10"
   ]
  },
  {
   "cell_type": "code",
   "execution_count": 23,
   "metadata": {},
   "outputs": [],
   "source": [
    "exon_lines = open(\"Exons_GRCh38_fromOGfileUnsorted.txt\").readlines()"
   ]
  },
  {
   "cell_type": "code",
   "execution_count": 27,
   "metadata": {},
   "outputs": [
    {
     "data": {
      "text/plain": [
       "'Parent=transcript:ENST00000456328'"
      ]
     },
     "execution_count": 27,
     "metadata": {},
     "output_type": "execute_result"
    }
   ],
   "source": [
    "exon_chrom = exon_lines[0].split()[0]\n",
    "exon_start = exon_lines[0].split()[3]\n",
    "exon_end = exon_lines[0].split()[4]\n",
    "exon_id = exon_lines[0].split()[8].split(\";\")[0]"
   ]
  },
  {
   "cell_type": "code",
   "execution_count": 63,
   "metadata": {},
   "outputs": [
    {
     "name": "stderr",
     "output_type": "stream",
     "text": [
      "100%|██████████| 1378303/1378303 [00:02<00:00, 533068.20it/s]\n"
     ]
    }
   ],
   "source": [
    "list_fuck_ups = []\n",
    "for line in tqdm(exon_lines): \n",
    "    if line.split()[2] != \"exon\": \n",
    "        list_fuck_ups.append(line)\n",
    "    else: \n",
    "        try: \n",
    "            int(line.split()[0])\n",
    "        except: \n",
    "            list_fuck_ups.append(line)"
   ]
  },
  {
   "cell_type": "code",
   "execution_count": 60,
   "metadata": {},
   "outputs": [
    {
     "name": "stdout",
     "output_type": "stream",
     "text": [
      "yaya\n"
     ]
    }
   ],
   "source": [
    "try:\n",
    "    int(\"1\")\n",
    "except: \n",
    "    None\n",
    "else: \n",
    "    print(\"yaya\")\n",
    "\n"
   ]
  },
  {
   "cell_type": "code",
   "execution_count": 64,
   "metadata": {},
   "outputs": [
    {
     "data": {
      "text/plain": [
       "47289"
      ]
     },
     "execution_count": 64,
     "metadata": {},
     "output_type": "execute_result"
    }
   ],
   "source": [
    "len((list_fuck_ups))"
   ]
  },
  {
   "cell_type": "code",
   "execution_count": 128,
   "metadata": {},
   "outputs": [
    {
     "name": "stderr",
     "output_type": "stream",
     "text": [
      "100%|██████████| 1378303/1378303 [00:11<00:00, 117307.93it/s]\n",
      "100%|██████████| 220011/220011 [00:04<00:00, 51165.92it/s]\n"
     ]
    }
   ],
   "source": [
    "genes_dict = {}\n",
    "#adding exon coords to gene dict \n",
    "for line in tqdm(exon_lines): \n",
    "    line_split = line.split()\n",
    "    if line_split[2] == \"exon\": \n",
    "        try: \n",
    "            int(line.split()[0]) # we only want locations that have chromosome assignments \n",
    "        except: \n",
    "            None\n",
    "        else: \n",
    "            exon_id = line_split[8].split(\";\")[0] # ---> using the item ID in the final coloumn... suppposed to be \"unique\" but 200k of them \n",
    "            exon_start = int(line_split[3])\n",
    "            exon_end = int(line_split[4])\n",
    "\n",
    "            if exon_id in genes_dict.keys(): \n",
    "                genes_dict[exon_id][\"exons\"].append([exon_start, exon_end])\n",
    "            else: \n",
    "                exon_chrom = int(line_split[0])\n",
    "                genes_dict[exon_id] = {\"chrom\": exon_chrom, \"exons\":[[exon_start, exon_end]]}\n",
    "\n",
    "#adding intron coords and start/stop of whole gene \n",
    "for curr_gene_dict in tqdm(genes_dict.values()): \n",
    "    \n",
    "    #start stop coords for whole gene \n",
    "    gene_start = curr_gene_dict[\"exons\"][0][0]\n",
    "    gene_end = curr_gene_dict[\"exons\"][-1][1]\n",
    "    curr_gene_dict[\"gene_coords\"] = [gene_start, gene_end]\n",
    "    \n",
    "    #adding intron coords\n",
    "    for index, curr_exon_coords in enumerate(curr_gene_dict[\"exons\"]): \n",
    "        if index != 0: \n",
    "            intron_start = int(curr_gene_dict[\"exons\"][index-1][1])+1\n",
    "            intron_end = int(curr_exon_coords[0]) -1\n",
    "            \n",
    "            if \"introns\" in curr_gene_dict.keys(): \n",
    "                curr_gene_dict[\"introns\"].append([intron_start, intron_end])\n",
    "            else: \n",
    "                curr_gene_dict[\"introns\"] = [[intron_start, intron_end]]"
   ]
  },
  {
   "cell_type": "code",
   "execution_count": 126,
   "metadata": {},
   "outputs": [],
   "source": []
  },
  {
   "cell_type": "code",
   "execution_count": 125,
   "metadata": {},
   "outputs": [
    {
     "data": {
      "text/plain": [
       "220011"
      ]
     },
     "execution_count": 125,
     "metadata": {},
     "output_type": "execute_result"
    }
   ],
   "source": [
    "len(genes_dict)"
   ]
  },
  {
   "cell_type": "code",
   "execution_count": 131,
   "metadata": {},
   "outputs": [
    {
     "data": {
      "text/plain": [
       "{'chrom': 1,\n",
       " 'exons': [[1255268, 1255487],\n",
       "  [1256045, 1256125],\n",
       "  [1256992, 1257130],\n",
       "  [1257208, 1257310],\n",
       "  [1263346, 1263386],\n",
       "  [1267733, 1267992],\n",
       "  [1273666, 1273849]],\n",
       " 'gene_coords': [1255268, 1273849],\n",
       " 'introns': [[1255488, 1256044],\n",
       "  [1256126, 1256991],\n",
       "  [1257131, 1257207],\n",
       "  [1257311, 1263345],\n",
       "  [1263387, 1267732],\n",
       "  [1267993, 1273665]]}"
      ]
     },
     "execution_count": 131,
     "metadata": {},
     "output_type": "execute_result"
    }
   ],
   "source": [
    "genes_dict[\"Parent=transcript:ENST00000473215\"]"
   ]
  },
  {
   "cell_type": "markdown",
   "metadata": {},
   "source": [
    "** testing if there are overlapping exons ** "
   ]
  },
  {
   "cell_type": "code",
   "execution_count": 136,
   "metadata": {},
   "outputs": [
    {
     "name": "stderr",
     "output_type": "stream",
     "text": [
      "100%|██████████| 220011/220011 [00:01<00:00, 120995.55it/s]"
     ]
    },
    {
     "name": "stdout",
     "output_type": "stream",
     "text": [
      "number of genes with atleast one overlapping exon is 0\n"
     ]
    },
    {
     "name": "stderr",
     "output_type": "stream",
     "text": [
      "\n"
     ]
    }
   ],
   "source": [
    "#tmp dict to test overlap check \n",
    "#tmp_gene_dict = {\"gene_1\":{\"exons\":[[121,154], [151,200], [220,280]]}, \"gene_2\":{\"exons\":[[121,154], [155,200], [220,280]]}}\n",
    "\n",
    "list_out_of_order = []\n",
    "for gene_name, curr_gene_dict in tqdm(genes_dict.items()): \n",
    "    curr_gene_coords = []\n",
    "    for exon_coords in curr_gene_dict[\"exons\"]: \n",
    "        exon_start = exon_coords[0]\n",
    "        exon_end = exon_coords[1]\n",
    "        curr_gene_coords.extend([exon_end, exon_start])\n",
    "    \n",
    "    #checking if in order \n",
    "    order_check = 0\n",
    "    for index, element in enumerate(curr_gene_dict[\"exons\"]): \n",
    "        if index != 0: \n",
    "            if element[0] < curr_gene_dict[\"exons\"][index-1][1]: \n",
    "                order_check += 1\n",
    "    if order_check > 0 : \n",
    "        list_out_of_order.append(gene_name)\n",
    "\n",
    "print(\"number of genes with atleast one overlapping exon is \" +str(len(list_out_of_order)))"
   ]
  },
  {
   "cell_type": "markdown",
   "metadata": {},
   "source": [
    "** analyzing gaps b/t genes ** "
   ]
  },
  {
   "cell_type": "code",
   "execution_count": 140,
   "metadata": {},
   "outputs": [
    {
     "name": "stderr",
     "output_type": "stream",
     "text": [
      "100%|██████████| 220011/220011 [00:02<00:00, 98242.05it/s] \n"
     ]
    }
   ],
   "source": [
    "tmp_genes_startEnd = {}\n",
    "for curr_gene_dict in tqdm(genes_dict.values()): \n",
    "    curr_chrom = str(curr_gene_dict[\"chrom\"])\n",
    "    curr_gene_start = curr_gene_dict[\"gene_coords\"][0]\n",
    "    curr_gene_end = curr_gene_dict[\"gene_coords\"][1]\n",
    "    if curr_chrom in tmp_genes_startEnd.keys(): \n",
    "        tmp_genes_startEnd[curr_chrom].extend([[curr_gene_start, curr_gene_end]])\n",
    "    else: \n",
    "        tmp_genes_startEnd[curr_chrom] = [[curr_gene_start, curr_gene_end]]\n",
    "        "
   ]
  },
  {
   "cell_type": "code",
   "execution_count": 141,
   "metadata": {},
   "outputs": [
    {
     "data": {
      "text/plain": [
       "[[159178473, 159178559],\n",
       " [101639548, 101787382],\n",
       " [65148203, 65232145],\n",
       " [168464121, 168495650],\n",
       " [161505457, 161509899],\n",
       " [109656117, 109657671],\n",
       " [85133794, 85133873],\n",
       " [182899865, 182953166],\n",
       " [185518651, 185520986],\n",
       " [1399527, 1402046]]"
      ]
     },
     "execution_count": 141,
     "metadata": {},
     "output_type": "execute_result"
    }
   ],
   "source": [
    "tmp_genes_startEnd[\"1\"][0:10]"
   ]
  },
  {
   "cell_type": "code",
   "execution_count": 161,
   "metadata": {},
   "outputs": [
    {
     "ename": "IndentationError",
     "evalue": "expected an indented block (<ipython-input-161-fa27a30cd73f>, line 9)",
     "output_type": "error",
     "traceback": [
      "\u001b[0;36m  File \u001b[0;32m\"<ipython-input-161-fa27a30cd73f>\"\u001b[0;36m, line \u001b[0;32m9\u001b[0m\n\u001b[0;31m    elif other_coords[0] <= gene_start <= other_coords[1]:\u001b[0m\n\u001b[0m       ^\u001b[0m\n\u001b[0;31mIndentationError\u001b[0m\u001b[0;31m:\u001b[0m expected an indented block\n"
     ]
    }
   ],
   "source": [
    "for gene_coords in tmp_genes_startEnd[\"1\"]: \n",
    "    gene_start = gene_coords[0]\n",
    "    gene_end = gene_coords[1]\n",
    "    other_gene_coords = copy.copy(tmp_genes_startEnd[\"1\"])\n",
    "    other_gene_coords.remove(gene_coords)\n",
    "    for other_coords in other_gene_coords: \n",
    "        if other_coords[0] <= gene_start <= other_coords[1]: \n",
    "            #print(gene_coords,other_coords)\n",
    "        elif other_coords[0] <= gene_start <= other_coords[1]: \n",
    "            #print(gene_coords,other_coords)\n",
    "            "
   ]
  },
  {
   "cell_type": "markdown",
   "metadata": {},
   "source": [
    "** checking out wtf the exon/gene/cds labels mean ** "
   ]
  },
  {
   "cell_type": "code",
   "execution_count": 149,
   "metadata": {},
   "outputs": [
    {
     "name": "stdout",
     "output_type": "stream",
     "text": [
      "1\thavana\tCDS\t65565\t65573\t.\t+\t0\tID=CDS:ENSP00000493376;Parent=transcript:ENST00000641515;protein_id=ENSP00000493376\n",
      "1\thavana\tCDS\t69037\t70008\t.\t+\t0\tID=CDS:ENSP00000493376;Parent=transcript:ENST00000641515;protein_id=ENSP00000493376\n",
      "1\tensembl\tmRNA\t69055\t70108\t.\t+\t.\tID=transcript:ENST00000335137;Parent=gene:ENSG00000186092;Name=OR4F5-201;biotype=protein_coding;ccdsid=CCDS30547.1;tag=basic;transcript_id=ENST00000335137;transcript_support_level=NA (assigned to previous version 3);version=4\n",
      "1\tensembl\tCDS\t69091\t70008\t.\t+\t0\tID=CDS:ENSP00000334393;Parent=transcript:ENST00000335137;protein_id=ENSP00000334393\n",
      "1\tensembl_havana\tmRNA\t450703\t451697\t.\t-\t.\tID=transcript:ENST00000426406;Parent=gene:ENSG00000284733;Name=OR4F29-201;biotype=protein_coding;ccdsid=CCDS72675.1;tag=basic;transcript_id=ENST00000426406;transcript_support_level=NA (assigned to previous version 2);version=3\n",
      "1\tensembl_havana\tCDS\t450740\t451678\t.\t-\t0\tID=CDS:ENSP00000409316;Parent=transcript:ENST00000426406;protein_id=ENSP00000409316\n",
      "1\tensembl_havana\tmRNA\t685679\t686673\t.\t-\t.\tID=transcript:ENST00000332831;Parent=gene:ENSG00000284662;Name=OR4F16-201;biotype=protein_coding;ccdsid=CCDS41221.1;tag=basic;transcript_id=ENST00000332831;transcript_support_level=NA (assigned to previous version 3);version=4\n",
      "1\tensembl_havana\tCDS\t685716\t686654\t.\t-\t0\tID=CDS:ENSP00000329982;Parent=transcript:ENST00000332831;protein_id=ENSP00000329982\n",
      "1\thavana\tCDS\t924432\t924948\t.\t+\t0\tID=CDS:ENSP00000411579;Parent=transcript:ENST00000420190;protein_id=ENSP00000411579\n",
      "1\thavana\tCDS\t925922\t926013\t.\t+\t2\tID=CDS:ENSP00000411579;Parent=transcript:ENST00000420190;protein_id=ENSP00000411579\n"
     ]
    }
   ],
   "source": [
    "!head CDS_GRCh38_fromOGfileUnsorted.txt "
   ]
  },
  {
   "cell_type": "code",
   "execution_count": 150,
   "metadata": {},
   "outputs": [],
   "source": [
    "cds_lines = open(\"CDS_GRCh38_fromOGfileUnsorted.txt\").readlines()"
   ]
  },
  {
   "cell_type": "code",
   "execution_count": 151,
   "metadata": {},
   "outputs": [
    {
     "data": {
      "text/plain": [
       "807396"
      ]
     },
     "execution_count": 151,
     "metadata": {},
     "output_type": "execute_result"
    }
   ],
   "source": [
    "len(cds_lines)"
   ]
  },
  {
   "cell_type": "code",
   "execution_count": 160,
   "metadata": {},
   "outputs": [
    {
     "name": "stdout",
     "output_type": "stream",
     "text": [
      "1\thavana\tCDS\t924432\t924948\t.\t+\t0\tID=CDS:ENSP00000411579;Parent=transcript:ENST00000420190;protein_id=ENSP00000411579\n",
      "1\thavana\tCDS\t925922\t926013\t.\t+\t2\tID=CDS:ENSP00000411579;Parent=transcript:ENST00000420190;protein_id=ENSP00000411579\n",
      "1\thavana\tCDS\t930155\t930336\t.\t+\t0\tID=CDS:ENSP00000411579;Parent=transcript:ENST00000420190;protein_id=ENSP00000411579\n",
      "1\thavana\tCDS\t931039\t931089\t.\t+\t1\tID=CDS:ENSP00000411579;Parent=transcript:ENST00000420190;protein_id=ENSP00000411579\n",
      "1\thavana\tCDS\t935772\t935896\t.\t+\t1\tID=CDS:ENSP00000411579;Parent=transcript:ENST00000420190;protein_id=ENSP00000411579\n",
      "1\thavana\tCDS\t939040\t939129\t.\t+\t2\tID=CDS:ENSP00000411579;Parent=transcript:ENST00000420190;protein_id=ENSP00000411579\n",
      "1\thavana\tCDS\t939275\t939291\t.\t+\t2\tID=CDS:ENSP00000411579;Parent=transcript:ENST00000420190;protein_id=ENSP00000411579\n"
     ]
    }
   ],
   "source": [
    "!zcat Homo_sapiens.GRCh38.100.gff3.gz | grep \"ENSP00000411579\""
   ]
  },
  {
   "cell_type": "code",
   "execution_count": 158,
   "metadata": {},
   "outputs": [
    {
     "name": "stdout",
     "output_type": "stream",
     "text": [
      "1\thavana\tmRNA\t923928\t939291\t.\t+\t.\tID=transcript:ENST00000420190;Parent=gene:ENSG00000187634;Name=SAMD11-203;biotype=protein_coding;transcript_id=ENST00000420190;transcript_support_level=3;version=6\n",
      "1\thavana\tfive_prime_UTR\t923928\t924431\t.\t+\t.\tParent=transcript:ENST00000420190\n",
      "1\thavana\texon\t923928\t924948\t.\t+\t.\tParent=transcript:ENST00000420190;Name=ENSE00001637883;constitutive=0;ensembl_end_phase=1;ensembl_phase=-1;exon_id=ENSE00001637883;rank=1;version=2\n",
      "1\thavana\tCDS\t924432\t924948\t.\t+\t0\tID=CDS:ENSP00000411579;Parent=transcript:ENST00000420190;protein_id=ENSP00000411579\n",
      "1\thavana\texon\t925922\t926013\t.\t+\t.\tParent=transcript:ENST00000420190;Name=ENSE00003794726;constitutive=0;ensembl_end_phase=0;ensembl_phase=1;exon_id=ENSE00003794726;rank=2;version=1\n",
      "1\thavana\tCDS\t925922\t926013\t.\t+\t2\tID=CDS:ENSP00000411579;Parent=transcript:ENST00000420190;protein_id=ENSP00000411579\n",
      "1\thavana\texon\t930155\t930336\t.\t+\t.\tParent=transcript:ENST00000420190;Name=ENSE00002727207;constitutive=0;ensembl_end_phase=2;ensembl_phase=0;exon_id=ENSE00002727207;rank=3;version=1\n",
      "1\thavana\tCDS\t930155\t930336\t.\t+\t0\tID=CDS:ENSP00000411579;Parent=transcript:ENST00000420190;protein_id=ENSP00000411579\n",
      "1\thavana\texon\t931039\t931089\t.\t+\t.\tParent=transcript:ENST00000420190;Name=ENSE00002696520;constitutive=0;ensembl_end_phase=2;ensembl_phase=2;exon_id=ENSE00002696520;rank=4;version=1\n",
      "1\thavana\tCDS\t931039\t931089\t.\t+\t1\tID=CDS:ENSP00000411579;Parent=transcript:ENST00000420190;protein_id=ENSP00000411579\n",
      "1\thavana\texon\t935772\t935896\t.\t+\t.\tParent=transcript:ENST00000420190;Name=ENSE00002703998;constitutive=0;ensembl_end_phase=1;ensembl_phase=2;exon_id=ENSE00002703998;rank=5;version=1\n",
      "1\thavana\tCDS\t935772\t935896\t.\t+\t1\tID=CDS:ENSP00000411579;Parent=transcript:ENST00000420190;protein_id=ENSP00000411579\n",
      "1\thavana\texon\t939040\t939129\t.\t+\t.\tParent=transcript:ENST00000420190;Name=ENSE00002686739;constitutive=0;ensembl_end_phase=1;ensembl_phase=1;exon_id=ENSE00002686739;rank=6;version=1\n",
      "1\thavana\tCDS\t939040\t939129\t.\t+\t2\tID=CDS:ENSP00000411579;Parent=transcript:ENST00000420190;protein_id=ENSP00000411579\n",
      "1\thavana\texon\t939275\t939291\t.\t+\t.\tParent=transcript:ENST00000420190;Name=ENSE00001608769;constitutive=0;ensembl_end_phase=0;ensembl_phase=1;exon_id=ENSE00001608769;rank=7;version=1\n",
      "1\thavana\tCDS\t939275\t939291\t.\t+\t2\tID=CDS:ENSP00000411579;Parent=transcript:ENST00000420190;protein_id=ENSP00000411579\n"
     ]
    }
   ],
   "source": [
    "!zcat Homo_sapiens.GRCh38.100.gff3.gz | grep \"ENST00000420190\""
   ]
  },
  {
   "cell_type": "code",
   "execution_count": 159,
   "metadata": {},
   "outputs": [
    {
     "name": "stdout",
     "output_type": "stream",
     "text": [
      "1\tensembl_havana\tgene\t923928\t944581\t.\t+\t.\tID=gene:ENSG00000187634;Name=SAMD11;biotype=protein_coding;description=sterile alpha motif domain containing 11 [Source:HGNC Symbol%3BAcc:HGNC:28706];gene_id=ENSG00000187634;logic_name=ensembl_havana_gene_homo_sapiens;version=12\n",
      "1\thavana\tmRNA\t923928\t939291\t.\t+\t.\tID=transcript:ENST00000420190;Parent=gene:ENSG00000187634;Name=SAMD11-203;biotype=protein_coding;transcript_id=ENST00000420190;transcript_support_level=3;version=6\n",
      "1\thavana\tmRNA\t925150\t935793\t.\t+\t.\tID=transcript:ENST00000437963;Parent=gene:ENSG00000187634;Name=SAMD11-204;biotype=protein_coding;transcript_id=ENST00000437963;transcript_support_level=5;version=5\n",
      "1\thavana\tmRNA\t925731\t944574\t.\t+\t.\tID=transcript:ENST00000342066;Parent=gene:ENSG00000187634;Name=SAMD11-202;biotype=protein_coding;ccdsid=CCDS2.2;tag=basic;transcript_id=ENST00000342066;transcript_support_level=5 (assigned to previous version 7);version=8\n",
      "1\tensembl\tmRNA\t925741\t944581\t.\t+\t.\tID=transcript:ENST00000618181;Parent=gene:ENSG00000187634;Name=SAMD11-213;biotype=protein_coding;tag=basic;transcript_id=ENST00000618181;transcript_support_level=5;version=4\n",
      "1\tensembl\tmRNA\t925741\t944581\t.\t+\t.\tID=transcript:ENST00000622503;Parent=gene:ENSG00000187634;Name=SAMD11-217;biotype=protein_coding;tag=basic;transcript_id=ENST00000622503;transcript_support_level=5;version=4\n",
      "1\tensembl\tmRNA\t925741\t944581\t.\t+\t.\tID=transcript:ENST00000618323;Parent=gene:ENSG00000187634;Name=SAMD11-214;biotype=protein_coding;tag=basic;transcript_id=ENST00000618323;transcript_support_level=5;version=4\n",
      "1\tensembl\tmRNA\t925741\t944581\t.\t+\t.\tID=transcript:ENST00000616016;Parent=gene:ENSG00000187634;Name=SAMD11-210;biotype=protein_coding;tag=basic;transcript_id=ENST00000616016;transcript_support_level=5;version=4\n",
      "1\tensembl\tmRNA\t925741\t944581\t.\t+\t.\tID=transcript:ENST00000618779;Parent=gene:ENSG00000187634;Name=SAMD11-215;biotype=protein_coding;tag=basic;transcript_id=ENST00000618779;transcript_support_level=5;version=4\n",
      "1\tensembl\tmRNA\t925741\t944581\t.\t+\t.\tID=transcript:ENST00000616125;Parent=gene:ENSG00000187634;Name=SAMD11-211;biotype=protein_coding;tag=basic;transcript_id=ENST00000616125;transcript_support_level=5;version=4\n",
      "1\tensembl\tmRNA\t925741\t944581\t.\t+\t.\tID=transcript:ENST00000620200;Parent=gene:ENSG00000187634;Name=SAMD11-216;biotype=protein_coding;tag=basic;transcript_id=ENST00000620200;transcript_support_level=5;version=4\n",
      "1\tensembl\tmRNA\t925741\t944581\t.\t+\t.\tID=transcript:ENST00000617307;Parent=gene:ENSG00000187634;Name=SAMD11-212;biotype=protein_coding;tag=basic;transcript_id=ENST00000617307;transcript_support_level=5;version=4\n",
      "1\thavana\tmRNA\t930312\t944575\t.\t+\t.\tID=transcript:ENST00000341065;Parent=gene:ENSG00000187634;Name=SAMD11-201;biotype=protein_coding;transcript_id=ENST00000341065;transcript_support_level=5;version=8\n",
      "1\thavana\tmRNA\t939275\t944259\t.\t+\t.\tID=transcript:ENST00000455979;Parent=gene:ENSG00000187634;Name=SAMD11-205;biotype=protein_coding;transcript_id=ENST00000455979;transcript_support_level=2;version=1\n",
      "1\thavana\tlnc_RNA\t940346\t942173\t.\t+\t.\tID=transcript:ENST00000478729;Parent=gene:ENSG00000187634;Name=SAMD11-209;biotype=processed_transcript;transcript_id=ENST00000478729;transcript_support_level=5;version=1\n",
      "1\thavana\tlnc_RNA\t941076\t942994\t.\t+\t.\tID=transcript:ENST00000474461;Parent=gene:ENSG00000187634;Name=SAMD11-208;biotype=retained_intron;transcript_id=ENST00000474461;transcript_support_level=5;version=1\n",
      "1\thavana\tlnc_RNA\t942103\t942802\t.\t+\t.\tID=transcript:ENST00000466827;Parent=gene:ENSG00000187634;Name=SAMD11-207;biotype=retained_intron;transcript_id=ENST00000466827;transcript_support_level=3;version=1\n",
      "1\thavana\tlnc_RNA\t942166\t942892\t.\t+\t.\tID=transcript:ENST00000464948;Parent=gene:ENSG00000187634;Name=SAMD11-206;biotype=retained_intron;transcript_id=ENST00000464948;transcript_support_level=2;version=1\n"
     ]
    }
   ],
   "source": [
    "!zcat Homo_sapiens.GRCh38.100.gff3.gz | grep \"ENSG00000187634\""
   ]
  },
  {
   "cell_type": "code",
   "execution_count": 169,
   "metadata": {},
   "outputs": [
    {
     "name": "stdout",
     "output_type": "stream",
     "text": [
      "[69037, 70008] [69091, 70008]\n",
      "[69091, 70008] [69037, 70008]\n",
      "[685716, 686654] [685679, 685783]\n",
      "[685716, 686654] [685679, 685783]\n",
      "[685716, 686654] [685679, 685783]\n",
      "[685716, 686654] [685716, 685922]\n",
      "[685716, 686654] [685716, 685922]\n",
      "[685716, 686654] [686532, 686690]\n",
      "[685716, 686654] [686532, 686690]\n",
      "[685716, 686654] [686532, 686690]\n",
      "[685716, 686654] [686532, 686690]\n",
      "[925922, 926013] [925942, 926013]\n",
      "[925922, 926013] [925942, 926013]\n",
      "[925922, 926013] [925942, 926013]\n",
      "[925922, 926013] [925942, 926013]\n",
      "[925922, 926013] [925942, 926013]\n",
      "[925922, 926013] [925942, 926013]\n",
      "[925922, 926013] [925942, 926013]\n",
      "[925922, 926013] [925942, 926013]\n",
      "[925922, 926013] [925942, 926013]\n",
      "[925922, 926013] [925942, 926013]\n",
      "[930155, 930336] [930155, 930336]\n",
      "[930155, 930336] [930155, 930336]\n",
      "[930155, 930336] [930155, 930336]\n",
      "[930155, 930336] [930155, 930336]\n",
      "[930155, 930336] [930155, 930336]\n",
      "[930155, 930336] [930155, 930336]\n",
      "[930155, 930336] [930155, 930336]\n",
      "[930155, 930336] [930155, 930336]\n",
      "[930155, 930336] [930155, 930336]\n",
      "[930155, 930336] [930155, 930336]\n",
      "[930155, 930336] [930312, 930336]\n",
      "[931039, 931089] [931039, 931089]\n",
      "[931039, 931089] [931039, 931089]\n",
      "[931039, 931089] [931039, 931089]\n",
      "[931039, 931089] [931039, 931089]\n",
      "[931039, 931089] [931039, 931089]\n",
      "[931039, 931089] [931039, 931089]\n",
      "[931039, 931089] [931039, 931089]\n",
      "[931039, 931089] [931039, 931089]\n",
      "[931039, 931089] [931039, 931089]\n",
      "[931039, 931089] [931039, 931089]\n",
      "[935772, 935896] [935772, 935793]\n",
      "[935772, 935896] [935772, 935896]\n",
      "[935772, 935896] [935772, 935896]\n",
      "[935772, 935896] [935772, 935896]\n",
      "[935772, 935896] [935772, 935805]\n",
      "[935772, 935896] [935772, 935896]\n",
      "[935772, 935896] [935772, 935896]\n",
      "[935772, 935896] [935772, 935896]\n",
      "[935772, 935896] [935772, 935896]\n",
      "[935772, 935896] [935772, 935896]\n",
      "[939040, 939129] [939040, 939129]\n",
      "[939040, 939129] [939040, 939129]\n",
      "[939040, 939129] [939040, 939129]\n",
      "[939040, 939129] [939040, 939129]\n",
      "[939040, 939129] [939040, 939129]\n",
      "[939040, 939129] [939040, 939129]\n",
      "[939040, 939129] [939040, 939129]\n",
      "[939040, 939129] [939040, 939129]\n",
      "[939275, 939291] [939275, 939460]\n",
      "[939275, 939291] [939272, 939412]\n",
      "[939275, 939291] [939272, 939460]\n",
      "[939275, 939291] [939275, 939460]\n",
      "[939275, 939291] [939272, 939412]\n",
      "[939275, 939291] [939275, 939412]\n",
      "[939275, 939291] [939275, 939412]\n",
      "[939275, 939291] [939275, 939460]\n",
      "[925942, 926013] [925922, 926013]\n",
      "[925942, 926013] [925942, 926013]\n",
      "[925942, 926013] [925942, 926013]\n",
      "[925942, 926013] [925942, 926013]\n",
      "[925942, 926013] [925942, 926013]\n",
      "[925942, 926013] [925942, 926013]\n",
      "[925942, 926013] [925942, 926013]\n",
      "[925942, 926013] [925942, 926013]\n",
      "[925942, 926013] [925942, 926013]\n",
      "[925942, 926013] [925942, 926013]\n",
      "[930155, 930336] [930155, 930336]\n",
      "[930155, 930336] [930155, 930336]\n",
      "[930155, 930336] [930155, 930336]\n",
      "[930155, 930336] [930155, 930336]\n",
      "[930155, 930336] [930155, 930336]\n",
      "[930155, 930336] [930155, 930336]\n",
      "[930155, 930336] [930155, 930336]\n",
      "[930155, 930336] [930155, 930336]\n",
      "[930155, 930336] [930155, 930336]\n",
      "[930155, 930336] [930155, 930336]\n",
      "[930155, 930336] [930312, 930336]\n",
      "[931039, 931089] [931039, 931089]\n",
      "[931039, 931089] [931039, 931089]\n",
      "[931039, 931089] [931039, 931089]\n",
      "[931039, 931089] [931039, 931089]\n",
      "[931039, 931089] [931039, 931089]\n",
      "[931039, 931089] [931039, 931089]\n",
      "[931039, 931089] [931039, 931089]\n",
      "[931039, 931089] [931039, 931089]\n",
      "[931039, 931089] [931039, 931089]\n",
      "[931039, 931089] [931039, 931089]\n",
      "[935772, 935793] [935772, 935896]\n",
      "[935772, 935793] [935772, 935896]\n",
      "[935772, 935793] [935772, 935896]\n",
      "[935772, 935793] [935772, 935896]\n",
      "[935772, 935793] [935772, 935805]\n",
      "[935772, 935793] [935772, 935896]\n",
      "[935772, 935793] [935772, 935896]\n",
      "[935772, 935793] [935772, 935896]\n",
      "[935772, 935793] [935772, 935896]\n",
      "[935772, 935793] [935772, 935896]\n",
      "[925942, 926013] [925922, 926013]\n",
      "[925942, 926013] [925942, 926013]\n",
      "[925942, 926013] [925942, 926013]\n",
      "[925942, 926013] [925942, 926013]\n",
      "[925942, 926013] [925942, 926013]\n",
      "[925942, 926013] [925942, 926013]\n",
      "[925942, 926013] [925942, 926013]\n",
      "[925942, 926013] [925942, 926013]\n",
      "[925942, 926013] [925942, 926013]\n",
      "[925942, 926013] [925942, 926013]\n"
     ]
    },
    {
     "ename": "KeyboardInterrupt",
     "evalue": "",
     "output_type": "error",
     "traceback": [
      "\u001b[0;31m---------------------------------------------------------------------------\u001b[0m",
      "\u001b[0;31mKeyboardInterrupt\u001b[0m                         Traceback (most recent call last)",
      "\u001b[0;32m<ipython-input-169-d33db3672c05>\u001b[0m in \u001b[0;36m<module>\u001b[0;34m()\u001b[0m\n\u001b[1;32m      7\u001b[0m \u001b[0;34m\u001b[0m\u001b[0m\n\u001b[1;32m      8\u001b[0m     \u001b[0;32mfor\u001b[0m \u001b[0mother_bound\u001b[0m \u001b[0;32min\u001b[0m \u001b[0mother_cds_bounds\u001b[0m\u001b[0;34m:\u001b[0m\u001b[0;34m\u001b[0m\u001b[0m\n\u001b[0;32m----> 9\u001b[0;31m         \u001b[0;32mif\u001b[0m \u001b[0mother_bound\u001b[0m\u001b[0;34m[\u001b[0m\u001b[0;36m0\u001b[0m\u001b[0;34m]\u001b[0m \u001b[0;34m<=\u001b[0m \u001b[0mcds_start\u001b[0m \u001b[0;34m<=\u001b[0m \u001b[0mother_bound\u001b[0m\u001b[0;34m[\u001b[0m\u001b[0;36m1\u001b[0m\u001b[0;34m]\u001b[0m\u001b[0;34m:\u001b[0m\u001b[0;34m\u001b[0m\u001b[0m\n\u001b[0m\u001b[1;32m     10\u001b[0m             \u001b[0mprint\u001b[0m\u001b[0;34m(\u001b[0m\u001b[0mbound\u001b[0m\u001b[0;34m,\u001b[0m\u001b[0mother_bound\u001b[0m\u001b[0;34m)\u001b[0m\u001b[0;34m\u001b[0m\u001b[0m\n\u001b[1;32m     11\u001b[0m         \u001b[0;32melif\u001b[0m \u001b[0mother_bound\u001b[0m\u001b[0;34m[\u001b[0m\u001b[0;36m0\u001b[0m\u001b[0;34m]\u001b[0m \u001b[0;34m<=\u001b[0m \u001b[0mcds_end\u001b[0m \u001b[0;34m<=\u001b[0m \u001b[0mother_bound\u001b[0m\u001b[0;34m[\u001b[0m\u001b[0;36m1\u001b[0m\u001b[0;34m]\u001b[0m\u001b[0;34m:\u001b[0m\u001b[0;34m\u001b[0m\u001b[0m\n",
      "\u001b[0;31mKeyboardInterrupt\u001b[0m: "
     ]
    }
   ],
   "source": [
    "for bound in cds_bounds: \n",
    "    cds_start = (bound[0])\n",
    "    cds_end = (bound[1])\n",
    "    \n",
    "    other_cds_bounds = copy.copy(cds_bounds)\n",
    "    other_cds_bounds.remove(bound)\n",
    "    \n",
    "    for other_bound in other_cds_bounds: \n",
    "        if other_bound[0] <= cds_start <= other_bound[1]: \n",
    "            print(bound,other_bound)\n",
    "        elif other_bound[0] <= cds_end <= other_bound[1]:\n",
    "            print(bound,other_bound)\n",
    "\n",
    "    \n",
    "    \n",
    "# for gene_coords in tmp_genes_startEnd[\"1\"]: \n",
    "#     gene_start = gene_coords[0]\n",
    "#     gene_end = gene_coords[1]\n",
    "#     other_gene_coords = copy.copy(tmp_genes_startEnd[\"1\"])\n",
    "#     other_gene_coords.remove(gene_coords)\n",
    "#     for other_coords in other_gene_coords: \n",
    "#         if other_coords[0] <= gene_start <= other_coords[1]: \n",
    "#             #print(gene_coords,other_coords)\n",
    "#         elif other_coords[0] <= gene_start <= other_coords[1]: \n",
    "#             #print(gene_coords,other_coords)\n",
    "    "
   ]
  },
  {
   "cell_type": "code",
   "execution_count": 172,
   "metadata": {},
   "outputs": [
    {
     "name": "stderr",
     "output_type": "stream",
     "text": [
      "100%|██████████| 4/4 [00:00<00:00, 1464.24it/s]"
     ]
    },
    {
     "name": "stdout",
     "output_type": "stream",
     "text": [
      "['name1'] [[0, 100], [0, 50]]\n",
      "['name1'] [[200, 300], [199, 301]]\n",
      "['name1'] [[400, 500], [380, 501], [430, 460]]\n",
      "['name1', 'name2'] [[101, 190], [150, 180]]\n",
      "['name1', 'name2'] [[380, 501], [430, 460]]\n",
      "['name1', 'name2', 'name3'] [[0, 50]]\n",
      "['name1', 'name2', 'name3'] [[199, 301]]\n",
      "['name1', 'name2', 'name3'] [[430, 460]]\n",
      "['name1', 'name2', 'name3', 'name4'] [[150, 180]]\n"
     ]
    },
    {
     "name": "stderr",
     "output_type": "stream",
     "text": [
      "\n"
     ]
    }
   ],
   "source": [
    "test_cds_bounds = {\"name1\":{\"bounds\":[[0,100], [200,300], [400,500]]}, \n",
    "                   \"name2\":{\"bounds\":[[101,190], [380,501]]}, \n",
    "                   \"name3\":{\"bounds\":[[0,50], [199,301], [430,460]]}, \n",
    "                  \"name4\":{\"bounds\":[[150,180]]}}\n",
    "test_matching_names = [\"name\"+str(i) for i in range(1,5)]\n",
    "\n",
    "\n",
    "gene_matches = [] # will be alist of lists, where each element is a list of a group of overlapping cds/exons \n",
    "match_names_tested = [] # want to collect the transcripts I test as I go along \n",
    "\n",
    "for match_name in tqdm(test_matching_names): \n",
    "#     print(match_name, cds_bounds[match_name][\"bounds\"]) \n",
    "    \n",
    "      \n",
    "    match_names_tested.append(match_name) # addign currnet cds/transcript to the list of those laready tested \n",
    "    \n",
    "    for bound in test_cds_bounds[match_name][\"bounds\"]: \n",
    "        bound_start = bound[0]\n",
    "        bound_end = bound[1]\n",
    "        \n",
    "        current_matching_bounds = [bound]\n",
    "        \n",
    "        for other_match_name in test_matching_names: \n",
    "            \n",
    "            \n",
    "            \n",
    "            if other_match_name not in match_names_tested: \n",
    "#                 print(match_name, bound, other_match_name, len(cds_bounds[other_match_name][\"bounds\"]))\n",
    "                \n",
    "                match_found = False\n",
    "                                \n",
    "                for other_bound in test_cds_bounds[other_match_name][\"bounds\"]:\n",
    "                    \n",
    "                    if match_found == False: # match_found out here as one match per match name \n",
    "                        \n",
    "                        if other_bound[0]<= bound[0] <= other_bound[1] : #here are the tests for overlap \n",
    "                            current_matching_bounds.append(other_bound)\n",
    "                            match_found = True\n",
    "                        elif other_bound[0]<= bound[1] <= other_bound[1] :\n",
    "                            current_matching_bounds.append(other_bound)\n",
    "                            match_found = True                            \n",
    "                        elif bound[0]<= other_bound[0] <= bound[1] :\n",
    "                            current_matching_bounds.append(other_bound)\n",
    "                            match_found = True                            \n",
    "                        elif bound[0]<= other_bound[0] <= bound[1] : \n",
    "                            current_matching_bounds.append(other_bound)\n",
    "                            match_found = True\n",
    "                            \n",
    "        print(match_names_tested, current_matching_bounds)\n",
    "        gene_matches.append(current_matching_bounds)\n",
    "        \n",
    "        \n",
    "gene_group_dict[match_name] = gene_matches"
   ]
  },
  {
   "cell_type": "code",
   "execution_count": 165,
   "metadata": {},
   "outputs": [
    {
     "data": {
      "text/plain": [
       "{'name1': {'bounds': [[0, 100], [200, 300], [400, 500]]},\n",
       " 'name2': {'bounds': [[101, 190], [380, 501]]},\n",
       " 'name3': {'bounds': [[0, 50], [199, 301], [430, 460]]},\n",
       " 'name4': {'bounds': [[150, 180]]}}"
      ]
     },
     "execution_count": 165,
     "metadata": {},
     "output_type": "execute_result"
    }
   ],
   "source": [
    "test_cds_bounds"
   ]
  },
  {
   "cell_type": "code",
   "execution_count": 154,
   "metadata": {},
   "outputs": [
    {
     "data": {
      "text/plain": [
       "True"
      ]
     },
     "execution_count": 154,
     "metadata": {},
     "output_type": "execute_result"
    }
   ],
   "source": [
    "[[1,2], [3,4]] == [[1,2], [3,4]]"
   ]
  },
  {
   "cell_type": "code",
   "execution_count": 157,
   "metadata": {},
   "outputs": [
    {
     "data": {
      "text/plain": [
       "['Parent=transcript:ENST00000637002',\n",
       " 'Parent=transcript:ENST00000347310',\n",
       " 'Parent=transcript:ENST00000395227',\n",
       " 'Parent=transcript:ENST00000425614']"
      ]
     },
     "execution_count": 157,
     "metadata": {},
     "output_type": "execute_result"
    }
   ],
   "source": [
    "matching_name_list[100]"
   ]
  },
  {
   "cell_type": "code",
   "execution_count": 163,
   "metadata": {},
   "outputs": [
    {
     "name": "stdout",
     "output_type": "stream",
     "text": [
      "[[0, 100], [0, 50]]\n",
      "[[200, 300], [199, 301]]\n",
      "[[400, 500], [380, 501], [430, 460]]\n",
      "[[101, 190], [150, 180]]\n",
      "[[380, 501], [430, 460]]\n",
      "[[0, 50]]\n",
      "[[199, 301]]\n",
      "[[430, 460]]\n",
      "[[150, 180]]\n"
     ]
    }
   ],
   "source": [
    "for group in gene_matches: \n",
    "    print((group))"
   ]
  },
  {
   "cell_type": "code",
   "execution_count": 158,
   "metadata": {},
   "outputs": [
    {
     "name": "stdout",
     "output_type": "stream",
     "text": [
      "Parent=transcript:ENST00000637002 [[67200855, 67200897], [67206910, 67207055], [67219574, 67219730], [67236713, 67236802], [67240179, 67240281], [67255837, 67255927], [67258478, 67259128]]\n",
      "Parent=transcript:ENST00000347310 [[67168121, 67168190], [67169342, 67169638], [67182836, 67182959], [67200737, 67200897], [67206910, 67207055], [67219574, 67219730], [67236713, 67236802], [67240179, 67240281], [67255837, 67255927], [67258478, 67259128]]\n",
      "Parent=transcript:ENST00000395227 [[67255895, 67255927], [67258478, 67259128]]\n",
      "Parent=transcript:ENST00000425614 [[67207666, 67207698], [67219574, 67219730], [67236713, 67236802], [67240179, 67240281], [67255837, 67255927], [67258478, 67259128]]\n"
     ]
    }
   ],
   "source": [
    "for match_name in matching_name_list[100]: \n",
    "     print(match_name, cds_bounds[match_name][\"bounds\"])"
   ]
  },
  {
   "cell_type": "code",
   "execution_count": 109,
   "metadata": {},
   "outputs": [
    {
     "name": "stdout",
     "output_type": "stream",
     "text": [
      "8.654594421386719e-05\n"
     ]
    }
   ],
   "source": [
    "tmp_bound1 = [5,101]\n",
    "tmp_bound2 = [10,100]\n",
    "time1 = time.time()\n",
    "if 5>= 10 >= 101 or 5>100>101 or 10>= 5>= 100 or 10>=101>=100: \n",
    "    print(yay)\n",
    "time2 = time.time() - time1\n",
    "print(time2)"
   ]
  },
  {
   "cell_type": "code",
   "execution_count": 96,
   "metadata": {},
   "outputs": [
    {
     "name": "stdout",
     "output_type": "stream",
     "text": [
      "1603913787.1448567\n"
     ]
    }
   ],
   "source": [
    "print(time1)"
   ]
  },
  {
   "cell_type": "code",
   "execution_count": 97,
   "metadata": {},
   "outputs": [
    {
     "data": {
      "text/plain": [
       "0.0001304149627685547"
      ]
     },
     "execution_count": 97,
     "metadata": {},
     "output_type": "execute_result"
    }
   ],
   "source": [
    "time2"
   ]
  },
  {
   "cell_type": "code",
   "execution_count": 88,
   "metadata": {},
   "outputs": [
    {
     "data": {
      "text/plain": [
       "True"
      ]
     },
     "execution_count": 88,
     "metadata": {},
     "output_type": "execute_result"
    }
   ],
   "source": [
    "[67200855, 67200897] >= [61206910, 68207055]"
   ]
  }
 ],
 "metadata": {
  "kernelspec": {
   "display_name": "Python 3 (ipykernel)",
   "language": "python",
   "name": "python3"
  },
  "language_info": {
   "codemirror_mode": {
    "name": "ipython",
    "version": 3
   },
   "file_extension": ".py",
   "mimetype": "text/x-python",
   "name": "python",
   "nbconvert_exporter": "python",
   "pygments_lexer": "ipython3",
   "version": "3.9.6"
  }
 },
 "nbformat": 4,
 "nbformat_minor": 4
}
