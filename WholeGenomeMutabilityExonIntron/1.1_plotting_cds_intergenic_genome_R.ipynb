{
 "cells": [
  {
   "cell_type": "code",
   "execution_count": 4,
   "id": "d9fa2205-01c7-45d5-8221-5d334a7c16bf",
   "metadata": {},
   "outputs": [
    {
     "name": "stderr",
     "output_type": "stream",
     "text": [
      "Registered S3 methods overwritten by 'ggplot2':\n",
      "  method         from \n",
      "  [.quosures     rlang\n",
      "  c.quosures     rlang\n",
      "  print.quosures rlang\n"
     ]
    }
   ],
   "source": [
    "library(ggplot2)"
   ]
  },
  {
   "cell_type": "code",
   "execution_count": 1,
   "id": "70dd1c02-f01d-483c-8346-36004b224f3b",
   "metadata": {},
   "outputs": [],
   "source": [
    "data <- read.csv(\"global_cds_intergenic_mutability_2022_01_04.csv\")\n",
    "colnames(data)[1]<-\"sequence_class\""
   ]
  },
  {
   "cell_type": "code",
   "execution_count": 8,
   "id": "f980434a-81cc-488f-9724-538a81724cb4",
   "metadata": {},
   "outputs": [
    {
     "data": {
      "text/html": [
       "<table>\n",
       "<thead><tr><th scope=col>sequence_class</th><th scope=col>mutability_av</th><th scope=col>mutability_stderr</th><th scope=col>n_seqs</th><th scope=col>n_sites</th></tr></thead>\n",
       "<tbody>\n",
       "\t<tr><td>intergenic  </td><td>3.167884e-05</td><td>9.531476e-10</td><td> 30265      </td><td>1632535849  </td></tr>\n",
       "\t<tr><td>cds         </td><td>4.489749e-05</td><td>1.135687e-08</td><td>209836      </td><td>  35258968  </td></tr>\n",
       "</tbody>\n",
       "</table>\n"
      ],
      "text/latex": [
       "\\begin{tabular}{r|lllll}\n",
       " sequence\\_class & mutability\\_av & mutability\\_stderr & n\\_seqs & n\\_sites\\\\\n",
       "\\hline\n",
       "\t intergenic   & 3.167884e-05 & 9.531476e-10 &  30265       & 1632535849  \\\\\n",
       "\t cds          & 4.489749e-05 & 1.135687e-08 & 209836       &   35258968  \\\\\n",
       "\\end{tabular}\n"
      ],
      "text/markdown": [
       "\n",
       "| sequence_class | mutability_av | mutability_stderr | n_seqs | n_sites |\n",
       "|---|---|---|---|---|\n",
       "| intergenic   | 3.167884e-05 | 9.531476e-10 |  30265       | 1632535849   |\n",
       "| cds          | 4.489749e-05 | 1.135687e-08 | 209836       |   35258968   |\n",
       "\n"
      ],
      "text/plain": [
       "  sequence_class mutability_av mutability_stderr n_seqs n_sites   \n",
       "1 intergenic     3.167884e-05  9.531476e-10       30265 1632535849\n",
       "2 cds            4.489749e-05  1.135687e-08      209836   35258968"
      ]
     },
     "metadata": {},
     "output_type": "display_data"
    }
   ],
   "source": [
    "data"
   ]
  },
  {
   "cell_type": "code",
   "execution_count": 37,
   "id": "002ab010-9554-4d6b-9953-b7f6d41d4773",
   "metadata": {},
   "outputs": [
    {
     "data": {
      "text/html": [
       "-4.52287874528034"
      ],
      "text/latex": [
       "-4.52287874528034"
      ],
      "text/markdown": [
       "-4.52287874528034"
      ],
      "text/plain": [
       "[1] -4.522879"
      ]
     },
     "metadata": {},
     "output_type": "display_data"
    }
   ],
   "source": [
    "log10(3e-05)"
   ]
  },
  {
   "cell_type": "code",
   "execution_count": 35,
   "id": "47ffe4d1-756c-4db4-8f22-61c35c3437df",
   "metadata": {},
   "outputs": [
    {
     "name": "stderr",
     "output_type": "stream",
     "text": [
      "Saving 6.67 x 6.67 in image\n"
     ]
    },
    {
     "data": {
      "image/png": "[encoded data removed]",
      "text/plain": [
       "plot without title"
      ]
     },
     "metadata": {},
     "output_type": "display_data"
    }
   ],
   "source": [
    "ggplot(data,aes(x=sequence_class,y=mutability_av))+\n",
    "    theme_light()+\n",
    "    geom_bar(stat=\"identity\",color=\"grey61\",fill=\"grey61\")+\n",
    "    labs(x=\"Sequence class\",y=\"Mutability\")+\n",
    "#     ylim(3e-05,5e-05)+\n",
    "#     coord_cartesian(ylim = c(3e-05,5e-05)) + #https://stackoverflow.com/questions/47951067/ggplot2-geom-bar-with-custom-y-limits\n",
    "    geom_errorbar(aes(ymin=mutability_av-mutability_stderr, ymax=mutability_av+mutability_stderr),width=0.2, size=1, color=\"black\")#http://sape.inf.usi.ch/quick-reference/ggplot2/geom_errorbar\n",
    "# ggsave(\"plots/bar_mutability_genome_intergenic_vs_CDS_2022_01_04.pdf\")"
   ]
  }
 ],
 "metadata": {
  "kernelspec": {
   "display_name": "R [conda env:.conda-mutEq]",
   "language": "R",
   "name": "conda-env-.conda-mutEq-r"
  },
  "language_info": {
   "codemirror_mode": "r",
   "file_extension": ".r",
   "mimetype": "text/x-r-source",
   "name": "R",
   "pygments_lexer": "r",
   "version": "3.6.1"
  }
 },
 "nbformat": 4,
 "nbformat_minor": 5
}
